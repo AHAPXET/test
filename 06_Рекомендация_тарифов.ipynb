{
 "cells": [
  {
   "cell_type": "markdown",
   "metadata": {},
   "source": [
    "# Рекомендация тарифов"
   ]
  },
  {
   "cell_type": "markdown",
   "metadata": {},
   "source": [
    "\n",
    "**Заказчик** — Оператор мобильной связи «Мегалайн»\n",
    "\n",
    "**Цель исследования** \n",
    "\n",
    "* Проанализировать поведение клиентов \n",
    "\n",
    "\n",
    "**Входные данные**  — данные о поведении клиентов, которые уже перешли на эти тарифы (из проекта курса «Статистический анализ данных»).\n",
    "\n",
    "\n",
    "**Результаты исследования** — Получение модели с максимально большим значением *accuracy* с долей правильных ответов по крайней мере до 0.75."
   ]
  },
  {
   "cell_type": "markdown",
   "metadata": {},
   "source": [
    "## Откройте и изучите файл"
   ]
  },
  {
   "cell_type": "markdown",
   "metadata": {},
   "source": [
    "Откройте файл с данными и изучите его. Путь к файлу: `/datasets/users_behavior.csv`"
   ]
  },
  {
   "cell_type": "code",
   "execution_count": 1,
   "metadata": {},
   "outputs": [],
   "source": [
    "import pandas as pd\n",
    "from sklearn.tree import DecisionTreeRegressor\n",
    "from sklearn.tree import DecisionTreeClassifier\n",
    "\n",
    "from sklearn.ensemble import RandomForestRegressor\n",
    "from sklearn.ensemble import RandomForestClassifier\n",
    "\n",
    "from sklearn.linear_model import LogisticRegression\n",
    "\n",
    "from sklearn.linear_model import LinearRegression\n",
    "\n",
    "from sklearn.model_selection import train_test_split\n",
    "from sklearn.metrics import mean_squared_error\n",
    "from sklearn.metrics import accuracy_score\n"
   ]
  },
  {
   "cell_type": "code",
   "execution_count": 2,
   "metadata": {},
   "outputs": [
    {
     "data": {
      "text/html": [
       "<div>\n",
       "<style scoped>\n",
       "    .dataframe tbody tr th:only-of-type {\n",
       "        vertical-align: middle;\n",
       "    }\n",
       "\n",
       "    .dataframe tbody tr th {\n",
       "        vertical-align: top;\n",
       "    }\n",
       "\n",
       "    .dataframe thead th {\n",
       "        text-align: right;\n",
       "    }\n",
       "</style>\n",
       "<table border=\"1\" class=\"dataframe\">\n",
       "  <thead>\n",
       "    <tr style=\"text-align: right;\">\n",
       "      <th></th>\n",
       "      <th>calls</th>\n",
       "      <th>minutes</th>\n",
       "      <th>messages</th>\n",
       "      <th>mb_used</th>\n",
       "      <th>is_ultra</th>\n",
       "    </tr>\n",
       "  </thead>\n",
       "  <tbody>\n",
       "    <tr>\n",
       "      <th>0</th>\n",
       "      <td>40.0</td>\n",
       "      <td>311.90</td>\n",
       "      <td>83.0</td>\n",
       "      <td>19915.42</td>\n",
       "      <td>0</td>\n",
       "    </tr>\n",
       "    <tr>\n",
       "      <th>1</th>\n",
       "      <td>85.0</td>\n",
       "      <td>516.75</td>\n",
       "      <td>56.0</td>\n",
       "      <td>22696.96</td>\n",
       "      <td>0</td>\n",
       "    </tr>\n",
       "    <tr>\n",
       "      <th>2</th>\n",
       "      <td>77.0</td>\n",
       "      <td>467.66</td>\n",
       "      <td>86.0</td>\n",
       "      <td>21060.45</td>\n",
       "      <td>0</td>\n",
       "    </tr>\n",
       "    <tr>\n",
       "      <th>3</th>\n",
       "      <td>106.0</td>\n",
       "      <td>745.53</td>\n",
       "      <td>81.0</td>\n",
       "      <td>8437.39</td>\n",
       "      <td>1</td>\n",
       "    </tr>\n",
       "    <tr>\n",
       "      <th>4</th>\n",
       "      <td>66.0</td>\n",
       "      <td>418.74</td>\n",
       "      <td>1.0</td>\n",
       "      <td>14502.75</td>\n",
       "      <td>0</td>\n",
       "    </tr>\n",
       "    <tr>\n",
       "      <th>...</th>\n",
       "      <td>...</td>\n",
       "      <td>...</td>\n",
       "      <td>...</td>\n",
       "      <td>...</td>\n",
       "      <td>...</td>\n",
       "    </tr>\n",
       "    <tr>\n",
       "      <th>3209</th>\n",
       "      <td>122.0</td>\n",
       "      <td>910.98</td>\n",
       "      <td>20.0</td>\n",
       "      <td>35124.90</td>\n",
       "      <td>1</td>\n",
       "    </tr>\n",
       "    <tr>\n",
       "      <th>3210</th>\n",
       "      <td>25.0</td>\n",
       "      <td>190.36</td>\n",
       "      <td>0.0</td>\n",
       "      <td>3275.61</td>\n",
       "      <td>0</td>\n",
       "    </tr>\n",
       "    <tr>\n",
       "      <th>3211</th>\n",
       "      <td>97.0</td>\n",
       "      <td>634.44</td>\n",
       "      <td>70.0</td>\n",
       "      <td>13974.06</td>\n",
       "      <td>0</td>\n",
       "    </tr>\n",
       "    <tr>\n",
       "      <th>3212</th>\n",
       "      <td>64.0</td>\n",
       "      <td>462.32</td>\n",
       "      <td>90.0</td>\n",
       "      <td>31239.78</td>\n",
       "      <td>0</td>\n",
       "    </tr>\n",
       "    <tr>\n",
       "      <th>3213</th>\n",
       "      <td>80.0</td>\n",
       "      <td>566.09</td>\n",
       "      <td>6.0</td>\n",
       "      <td>29480.52</td>\n",
       "      <td>1</td>\n",
       "    </tr>\n",
       "  </tbody>\n",
       "</table>\n",
       "<p>3214 rows × 5 columns</p>\n",
       "</div>"
      ],
      "text/plain": [
       "      calls  minutes  messages   mb_used  is_ultra\n",
       "0      40.0   311.90      83.0  19915.42         0\n",
       "1      85.0   516.75      56.0  22696.96         0\n",
       "2      77.0   467.66      86.0  21060.45         0\n",
       "3     106.0   745.53      81.0   8437.39         1\n",
       "4      66.0   418.74       1.0  14502.75         0\n",
       "...     ...      ...       ...       ...       ...\n",
       "3209  122.0   910.98      20.0  35124.90         1\n",
       "3210   25.0   190.36       0.0   3275.61         0\n",
       "3211   97.0   634.44      70.0  13974.06         0\n",
       "3212   64.0   462.32      90.0  31239.78         0\n",
       "3213   80.0   566.09       6.0  29480.52         1\n",
       "\n",
       "[3214 rows x 5 columns]"
      ]
     },
     "execution_count": 2,
     "metadata": {},
     "output_type": "execute_result"
    }
   ],
   "source": [
    "df = pd.read_csv('datasets/users_behavior.csv')\n",
    "\n",
    "# посмотрю что выходит, возможно нужно загружать с разделителем\n",
    "df\n",
    "\n",
    "#все ок"
   ]
  },
  {
   "cell_type": "markdown",
   "metadata": {},
   "source": [
    "**Описание таблицы**  \n",
    "<a id='info_DB'></a>\n",
    "\n",
    "* `сalls` — количество звонков,\n",
    "* `minutes` — суммарная длительность звонков в минутах,\n",
    "* `messages` — количество sms-сообщений,\n",
    "* `mb_used` — израсходованный интернет-трафик в Мб,\n",
    "* `is_ultra` — каким тарифом пользовался в течение месяца («Ультра» — 1, «Смарт» — 0)."
   ]
  },
  {
   "cell_type": "code",
   "execution_count": 3,
   "metadata": {
    "scrolled": false
   },
   "outputs": [
    {
     "name": "stdout",
     "output_type": "stream",
     "text": [
      "Информация по таблице: \n",
      "\n",
      "<class 'pandas.core.frame.DataFrame'>\n",
      "RangeIndex: 3214 entries, 0 to 3213\n",
      "Data columns (total 5 columns):\n",
      " #   Column    Non-Null Count  Dtype  \n",
      "---  ------    --------------  -----  \n",
      " 0   calls     3214 non-null   float64\n",
      " 1   minutes   3214 non-null   float64\n",
      " 2   messages  3214 non-null   float64\n",
      " 3   mb_used   3214 non-null   float64\n",
      " 4   is_ultra  3214 non-null   int64  \n",
      "dtypes: float64(4), int64(1)\n",
      "memory usage: 125.7 KB\n",
      "\n",
      "Количество пропусков: \n",
      "\n",
      "calls       0\n",
      "minutes     0\n",
      "messages    0\n",
      "mb_used     0\n",
      "is_ultra    0\n",
      "dtype: int64 \n",
      " \n",
      "\n",
      "Процент пропусков: \n",
      "\n",
      "calls       0.0\n",
      "minutes     0.0\n",
      "messages    0.0\n",
      "mb_used     0.0\n",
      "is_ultra    0.0\n",
      "dtype: float64 \n",
      "\n"
     ]
    },
    {
     "data": {
      "text/html": [
       "<div>\n",
       "<style scoped>\n",
       "    .dataframe tbody tr th:only-of-type {\n",
       "        vertical-align: middle;\n",
       "    }\n",
       "\n",
       "    .dataframe tbody tr th {\n",
       "        vertical-align: top;\n",
       "    }\n",
       "\n",
       "    .dataframe thead th {\n",
       "        text-align: right;\n",
       "    }\n",
       "</style>\n",
       "<table border=\"1\" class=\"dataframe\">\n",
       "  <thead>\n",
       "    <tr style=\"text-align: right;\">\n",
       "      <th></th>\n",
       "      <th>calls</th>\n",
       "      <th>minutes</th>\n",
       "      <th>messages</th>\n",
       "      <th>mb_used</th>\n",
       "      <th>is_ultra</th>\n",
       "    </tr>\n",
       "  </thead>\n",
       "  <tbody>\n",
       "    <tr>\n",
       "      <th>count</th>\n",
       "      <td>3214.000000</td>\n",
       "      <td>3214.000000</td>\n",
       "      <td>3214.000000</td>\n",
       "      <td>3214.000000</td>\n",
       "      <td>3214.000000</td>\n",
       "    </tr>\n",
       "    <tr>\n",
       "      <th>mean</th>\n",
       "      <td>63.038892</td>\n",
       "      <td>438.208787</td>\n",
       "      <td>38.281269</td>\n",
       "      <td>17207.673836</td>\n",
       "      <td>0.306472</td>\n",
       "    </tr>\n",
       "    <tr>\n",
       "      <th>std</th>\n",
       "      <td>33.236368</td>\n",
       "      <td>234.569872</td>\n",
       "      <td>36.148326</td>\n",
       "      <td>7570.968246</td>\n",
       "      <td>0.461100</td>\n",
       "    </tr>\n",
       "    <tr>\n",
       "      <th>min</th>\n",
       "      <td>0.000000</td>\n",
       "      <td>0.000000</td>\n",
       "      <td>0.000000</td>\n",
       "      <td>0.000000</td>\n",
       "      <td>0.000000</td>\n",
       "    </tr>\n",
       "    <tr>\n",
       "      <th>25%</th>\n",
       "      <td>40.000000</td>\n",
       "      <td>274.575000</td>\n",
       "      <td>9.000000</td>\n",
       "      <td>12491.902500</td>\n",
       "      <td>0.000000</td>\n",
       "    </tr>\n",
       "    <tr>\n",
       "      <th>50%</th>\n",
       "      <td>62.000000</td>\n",
       "      <td>430.600000</td>\n",
       "      <td>30.000000</td>\n",
       "      <td>16943.235000</td>\n",
       "      <td>0.000000</td>\n",
       "    </tr>\n",
       "    <tr>\n",
       "      <th>75%</th>\n",
       "      <td>82.000000</td>\n",
       "      <td>571.927500</td>\n",
       "      <td>57.000000</td>\n",
       "      <td>21424.700000</td>\n",
       "      <td>1.000000</td>\n",
       "    </tr>\n",
       "    <tr>\n",
       "      <th>max</th>\n",
       "      <td>244.000000</td>\n",
       "      <td>1632.060000</td>\n",
       "      <td>224.000000</td>\n",
       "      <td>49745.730000</td>\n",
       "      <td>1.000000</td>\n",
       "    </tr>\n",
       "  </tbody>\n",
       "</table>\n",
       "</div>"
      ],
      "text/plain": [
       "             calls      minutes     messages       mb_used     is_ultra\n",
       "count  3214.000000  3214.000000  3214.000000   3214.000000  3214.000000\n",
       "mean     63.038892   438.208787    38.281269  17207.673836     0.306472\n",
       "std      33.236368   234.569872    36.148326   7570.968246     0.461100\n",
       "min       0.000000     0.000000     0.000000      0.000000     0.000000\n",
       "25%      40.000000   274.575000     9.000000  12491.902500     0.000000\n",
       "50%      62.000000   430.600000    30.000000  16943.235000     0.000000\n",
       "75%      82.000000   571.927500    57.000000  21424.700000     1.000000\n",
       "max     244.000000  1632.060000   224.000000  49745.730000     1.000000"
      ]
     },
     "metadata": {},
     "output_type": "display_data"
    },
    {
     "name": "stdout",
     "output_type": "stream",
     "text": [
      "\n",
      "Число явных дубликатов: 0 \n",
      "\n"
     ]
    }
   ],
   "source": [
    "print('Информация по таблице:', '\\n')\n",
    "df.info()\n",
    "print()\n",
    "print('Количество пропусков:', '\\n')\n",
    "print(df.isna().sum(), '\\n', '\\n')\n",
    "print('Процент пропусков:', '\\n')\n",
    "print(df.isna().mean()*100, '\\n')\n",
    "\n",
    "display(df.describe())\n",
    "print()\n",
    "print('Число явных дубликатов:', df.duplicated().sum(), '\\n')"
   ]
  },
  {
   "cell_type": "markdown",
   "metadata": {},
   "source": [
    "Пропусков и дублей нет, названия нормальные\n",
    "\n",
    "Переведём: `calls` и `messages` в int"
   ]
  },
  {
   "cell_type": "code",
   "execution_count": 4,
   "metadata": {
    "scrolled": false
   },
   "outputs": [
    {
     "name": "stdout",
     "output_type": "stream",
     "text": [
      "Информация по таблице: \n",
      "\n",
      "<class 'pandas.core.frame.DataFrame'>\n",
      "RangeIndex: 3214 entries, 0 to 3213\n",
      "Data columns (total 5 columns):\n",
      " #   Column    Non-Null Count  Dtype  \n",
      "---  ------    --------------  -----  \n",
      " 0   calls     3214 non-null   int32  \n",
      " 1   minutes   3214 non-null   float64\n",
      " 2   messages  3214 non-null   int32  \n",
      " 3   mb_used   3214 non-null   float64\n",
      " 4   is_ultra  3214 non-null   int64  \n",
      "dtypes: float64(2), int32(2), int64(1)\n",
      "memory usage: 100.6 KB\n"
     ]
    },
    {
     "data": {
      "text/html": [
       "<div>\n",
       "<style scoped>\n",
       "    .dataframe tbody tr th:only-of-type {\n",
       "        vertical-align: middle;\n",
       "    }\n",
       "\n",
       "    .dataframe tbody tr th {\n",
       "        vertical-align: top;\n",
       "    }\n",
       "\n",
       "    .dataframe thead th {\n",
       "        text-align: right;\n",
       "    }\n",
       "</style>\n",
       "<table border=\"1\" class=\"dataframe\">\n",
       "  <thead>\n",
       "    <tr style=\"text-align: right;\">\n",
       "      <th></th>\n",
       "      <th>calls</th>\n",
       "      <th>minutes</th>\n",
       "      <th>messages</th>\n",
       "      <th>mb_used</th>\n",
       "      <th>is_ultra</th>\n",
       "    </tr>\n",
       "  </thead>\n",
       "  <tbody>\n",
       "    <tr>\n",
       "      <th>0</th>\n",
       "      <td>40</td>\n",
       "      <td>311.90</td>\n",
       "      <td>83</td>\n",
       "      <td>19915.42</td>\n",
       "      <td>0</td>\n",
       "    </tr>\n",
       "    <tr>\n",
       "      <th>1</th>\n",
       "      <td>85</td>\n",
       "      <td>516.75</td>\n",
       "      <td>56</td>\n",
       "      <td>22696.96</td>\n",
       "      <td>0</td>\n",
       "    </tr>\n",
       "    <tr>\n",
       "      <th>2</th>\n",
       "      <td>77</td>\n",
       "      <td>467.66</td>\n",
       "      <td>86</td>\n",
       "      <td>21060.45</td>\n",
       "      <td>0</td>\n",
       "    </tr>\n",
       "    <tr>\n",
       "      <th>3</th>\n",
       "      <td>106</td>\n",
       "      <td>745.53</td>\n",
       "      <td>81</td>\n",
       "      <td>8437.39</td>\n",
       "      <td>1</td>\n",
       "    </tr>\n",
       "    <tr>\n",
       "      <th>4</th>\n",
       "      <td>66</td>\n",
       "      <td>418.74</td>\n",
       "      <td>1</td>\n",
       "      <td>14502.75</td>\n",
       "      <td>0</td>\n",
       "    </tr>\n",
       "  </tbody>\n",
       "</table>\n",
       "</div>"
      ],
      "text/plain": [
       "   calls  minutes  messages   mb_used  is_ultra\n",
       "0     40   311.90        83  19915.42         0\n",
       "1     85   516.75        56  22696.96         0\n",
       "2     77   467.66        86  21060.45         0\n",
       "3    106   745.53        81   8437.39         1\n",
       "4     66   418.74         1  14502.75         0"
      ]
     },
     "execution_count": 4,
     "metadata": {},
     "output_type": "execute_result"
    }
   ],
   "source": [
    "df['calls'] = df['calls'].astype('int')\n",
    "df['messages'] = df['messages'].astype('int')\n",
    "\n",
    "print('Информация по таблице:', '\\n')\n",
    "df.info()\n",
    "\n",
    "df.head()"
   ]
  },
  {
   "cell_type": "markdown",
   "metadata": {},
   "source": [
    "## Разбейте данные на выборки"
   ]
  },
  {
   "cell_type": "markdown",
   "metadata": {},
   "source": [
    "Разделите исходные данные на обучающую, валидационную и тестовую выборки."
   ]
  },
  {
   "cell_type": "code",
   "execution_count": 5,
   "metadata": {},
   "outputs": [],
   "source": [
    "# извлеку признаки и целевой признак\n",
    "\n",
    "features = df.drop('is_ultra', axis=1)\n",
    "target = df['is_ultra']\n",
    "\n",
    "#Разбиваю исходные данные в соотношении 3:1:1. \n",
    "#Вначале на обучающую 60% и валид+тестовая 40%\n",
    "features_train, features_valid, target_train, target_valid = train_test_split(\n",
    "    features, target,  test_size=0.40, random_state=12345)\n",
    "\n",
    "# валид+тестовая делю пополам \n",
    "features_valid, features_test, target_valid, target_test = train_test_split(\n",
    "    features_valid, target_valid,  test_size=0.50, random_state=12345)\n"
   ]
  },
  {
   "cell_type": "code",
   "execution_count": 6,
   "metadata": {},
   "outputs": [
    {
     "name": "stdout",
     "output_type": "stream",
     "text": [
      "Обучающая база:\n",
      "Колличество - признак: 1928\n",
      "Колличество - целевой признак: 1928 \n",
      "\n",
      "Валидационная база:\n",
      "Колличество - признак: 643\n",
      "Колличество - целевой признак: 643 \n",
      "\n",
      "Тестовая база:\n",
      "Колличество - признак: 643\n",
      "Колличество - целевой признак: 643 \n",
      "\n"
     ]
    }
   ],
   "source": [
    "print('Обучающая база:')\n",
    "print('Колличество - признак:', len(features_train))\n",
    "print('Колличество - целевой признак:', len(target_train), '\\n')\n",
    "\n",
    "print('Валидационная база:')\n",
    "print('Колличество - признак:', len(features_valid))\n",
    "print('Колличество - целевой признак:', len(target_valid), '\\n')\n",
    "\n",
    "print('Тестовая база:')\n",
    "print('Колличество - признак:', len(features_test))\n",
    "print('Колличество - целевой признак:', len(target_test), '\\n')"
   ]
  },
  {
   "cell_type": "markdown",
   "metadata": {},
   "source": [
    "## Исследуйте модели"
   ]
  },
  {
   "cell_type": "markdown",
   "metadata": {},
   "source": [
    "Исследуйте качество разных моделей, меняя гиперпараметры. Кратко напишите выводы исследования."
   ]
  },
  {
   "cell_type": "markdown",
   "metadata": {},
   "source": [
    "### \"Решающее дерево\""
   ]
  },
  {
   "cell_type": "code",
   "execution_count": 7,
   "metadata": {},
   "outputs": [
    {
     "name": "stdout",
     "output_type": "stream",
     "text": [
      "Accuracy лучшей модели: 0.7853810264385692 Глубина дерева: 3\n"
     ]
    }
   ],
   "source": [
    "best_model_DTC = None\n",
    "best_result_DTC = 0\n",
    "best_depth_DTC = 0\n",
    "for depth in range(1, 10):\n",
    "    model = DecisionTreeClassifier(random_state=12345, max_depth=depth) # обучите модель с заданной глубиной дерева\n",
    "    model.fit(features_train,target_train) # обучите модель\n",
    "    predictions_valid = model.predict(features_valid) # получите предсказания модели\n",
    "    result = accuracy_score(target_valid, predictions_valid) # посчитайте качество модели\n",
    "    if result > best_result_DTC:\n",
    "        best_model_DTC = model\n",
    "        best_result_DTC = result\n",
    "        best_depth_DTC = depth\n",
    "        \n",
    "print(\"Accuracy лучшей модели:\", best_result_DTC, \"Глубина дерева:\", best_depth_DTC)\n",
    "\n",
    "\n",
    "\n"
   ]
  },
  {
   "cell_type": "markdown",
   "metadata": {},
   "source": [
    "### \"Случайный лес\""
   ]
  },
  {
   "cell_type": "code",
   "execution_count": 8,
   "metadata": {},
   "outputs": [
    {
     "name": "stdout",
     "output_type": "stream",
     "text": [
      "Accuracy лучшей модели: 0.8087091757387247 Количество деревьев: 40 Максимальная глубина: 10\n"
     ]
    }
   ],
   "source": [
    "best_model_RFC = None\n",
    "best_result_RFC = 0\n",
    "best_est_RFC = 0\n",
    "best_depth_RFC = 0\n",
    "for est in range(10, 51, 10):\n",
    "    for depth in range (1, 11):\n",
    "        model = RandomForestClassifier(random_state=12345, n_estimators=est, max_depth=depth) \n",
    "        model.fit(features_train, target_train) \n",
    "        predictions_valid = model.predict(features_valid) \n",
    "        result = accuracy_score(target_valid, predictions_valid) \n",
    "        if result > best_result_RFC:\n",
    "            best_model_RFC = model\n",
    "            best_result_RFC = result\n",
    "            best_est_RFC = est\n",
    "            best_depth_RFC = depth\n",
    "\n",
    "print(\"Accuracy лучшей модели:\", best_result_RFC, \"Количество деревьев:\", best_est_RFC, \"Максимальная глубина:\", depth)"
   ]
  },
  {
   "cell_type": "markdown",
   "metadata": {},
   "source": [
    "### \"Линейная регрессия\""
   ]
  },
  {
   "cell_type": "code",
   "execution_count": 9,
   "metadata": {},
   "outputs": [
    {
     "name": "stdout",
     "output_type": "stream",
     "text": [
      "accuracy: 0.7107309486780715\n"
     ]
    }
   ],
   "source": [
    "model_LR = LogisticRegression() # присваиваем модели имя\n",
    "model_LR.fit(features_train,target_train) # обучаем\n",
    "predictions_valid=model_LR.predict(features_valid) # проверяем\n",
    "print('accuracy:',accuracy_score(target_valid,predictions_valid))"
   ]
  },
  {
   "cell_type": "markdown",
   "metadata": {},
   "source": [
    "**Промежуточный вывод**\n",
    "\n",
    "Наиболее удачная модель - \"Случайный лес\" c Количеством деревьев: 40 и Максимальная глубина: 10\n"
   ]
  },
  {
   "cell_type": "markdown",
   "metadata": {},
   "source": [
    "## Проверьте модель на тестовой выборке"
   ]
  },
  {
   "cell_type": "markdown",
   "metadata": {},
   "source": [
    "Проверьте качество модели на тестовой выборке."
   ]
  },
  {
   "cell_type": "code",
   "execution_count": 10,
   "metadata": {},
   "outputs": [
    {
     "name": "stdout",
     "output_type": "stream",
     "text": [
      "Результат accuracy на тестовой выборке: 0.7962674961119751\n"
     ]
    }
   ],
   "source": [
    "predictions_test = best_model_RFC.predict(features_test) \n",
    "result_test = accuracy_score(target_test, predictions_test) \n",
    "\n",
    "print('Результат accuracy на тестовой выборке:',result_test)"
   ]
  },
  {
   "cell_type": "markdown",
   "metadata": {},
   "source": [
    "## (бонус) Проверьте модели на адекватность"
   ]
  },
  {
   "cell_type": "markdown",
   "metadata": {},
   "source": [
    "Дополнительное задание: проверьте модели на вменяемость. Ничего страшного, если не получится: эти данные сложнее тех, с которыми вы работали раньше. В следующем курсе подробнее об этом расскажем."
   ]
  },
  {
   "cell_type": "markdown",
   "metadata": {},
   "source": [
    "При создании модели машинного обучения для какого-либо проекта разумно создать baseline модель. Она представляет собой простейшую (dummy) модель, которая всегда предсказывает наиболее часто встречающийся класс. Так мы получим контрольные данные для сравнительной оценки более сложной модели.\n"
   ]
  },
  {
   "cell_type": "code",
   "execution_count": 11,
   "metadata": {},
   "outputs": [
    {
     "data": {
      "text/plain": [
       "0.6924273858921162"
      ]
     },
     "execution_count": 11,
     "metadata": {},
     "output_type": "execute_result"
    }
   ],
   "source": [
    "# импорт необходимой библиотеки\n",
    "from sklearn.dummy import DummyClassifier\n",
    "\n",
    "dummy_clf = DummyClassifier(strategy=\"most_frequent\", random_state=0)\n",
    "dummy_clf.fit(features_train, target_train)\n",
    "dummy_clf.score(features_train, target_train)\n",
    "\n"
   ]
  },
  {
   "cell_type": "markdown",
   "metadata": {},
   "source": [
    "## Чек-лист готовности проекта"
   ]
  },
  {
   "cell_type": "markdown",
   "metadata": {},
   "source": [
    "Поставьте 'x' в выполненных пунктах. Далее нажмите Shift+Enter."
   ]
  },
  {
   "cell_type": "markdown",
   "metadata": {},
   "source": [
    "- [x] Jupyter Notebook открыт\n",
    "- [x] Весь код исполняется без ошибок\n",
    "- [x] Ячейки с кодом расположены в порядке исполнения\n",
    "- [x] Выполнено задание 1: данные загружены и изучены\n",
    "- [x] Выполнено задание 2: данные разбиты на три выборки\n",
    "- [x] Выполнено задание 3: проведено исследование моделей\n",
    "    - [x] Рассмотрено больше одной модели\n",
    "    - [x] Рассмотрено хотя бы 3 значения гипепараметров для какой-нибудь модели\n",
    "    - [x] Написаны выводы по результатам исследования\n",
    "- [x] Выполнено задание 3: Проведено тестирование\n",
    "- [x] Удалось достичь accuracy не меньше 0.75\n"
   ]
  },
  {
   "cell_type": "markdown",
   "metadata": {},
   "source": [
    "**Итоговый вывод**\n",
    "\n",
    "* Мы видим, что выюранный \"Случайный лес\" лучше, чем фиктивный классификатор. **0.80 > 0.69**\n",
    "* Accuracy лучшей модели на тестовой выборке **~ 0.80, что больше 0.75**, а значит задача выполнена"
   ]
  },
  {
   "cell_type": "code",
   "execution_count": null,
   "metadata": {},
   "outputs": [],
   "source": []
  }
 ],
 "metadata": {
  "ExecuteTimeLog": [
   {
    "duration": 415,
    "start_time": "2022-06-29T11:23:09.831Z"
   },
   {
    "duration": 666,
    "start_time": "2022-06-29T11:25:17.042Z"
   },
   {
    "duration": 45,
    "start_time": "2022-06-29T11:25:58.865Z"
   },
   {
    "duration": 39,
    "start_time": "2022-06-29T11:26:21.295Z"
   },
   {
    "duration": 45,
    "start_time": "2022-06-29T11:27:41.443Z"
   },
   {
    "duration": 39,
    "start_time": "2022-06-29T11:27:57.691Z"
   },
   {
    "duration": 13,
    "start_time": "2022-06-29T11:31:20.594Z"
   },
   {
    "duration": 18,
    "start_time": "2022-06-29T11:31:28.469Z"
   },
   {
    "duration": 6,
    "start_time": "2022-06-29T11:51:07.044Z"
   },
   {
    "duration": 6,
    "start_time": "2022-06-29T11:51:10.196Z"
   },
   {
    "duration": 120,
    "start_time": "2022-06-29T11:54:30.782Z"
   },
   {
    "duration": 123,
    "start_time": "2022-06-29T11:55:58.881Z"
   },
   {
    "duration": 1027,
    "start_time": "2022-06-29T11:56:06.213Z"
   },
   {
    "duration": 42,
    "start_time": "2022-06-29T11:56:07.242Z"
   },
   {
    "duration": 39,
    "start_time": "2022-06-29T11:56:07.285Z"
   },
   {
    "duration": 18,
    "start_time": "2022-06-29T11:56:07.326Z"
   },
   {
    "duration": 26,
    "start_time": "2022-06-29T11:56:07.346Z"
   },
   {
    "duration": 107,
    "start_time": "2022-06-29T11:56:07.374Z"
   },
   {
    "duration": 1106,
    "start_time": "2022-06-29T11:56:36.234Z"
   },
   {
    "duration": 38,
    "start_time": "2022-06-29T11:56:37.342Z"
   },
   {
    "duration": 43,
    "start_time": "2022-06-29T11:56:37.381Z"
   },
   {
    "duration": 21,
    "start_time": "2022-06-29T11:56:37.426Z"
   },
   {
    "duration": 10,
    "start_time": "2022-06-29T11:56:37.468Z"
   },
   {
    "duration": 32,
    "start_time": "2022-06-29T11:56:37.481Z"
   },
   {
    "duration": 111,
    "start_time": "2022-06-29T12:04:49.566Z"
   },
   {
    "duration": 28,
    "start_time": "2022-06-29T12:05:12.319Z"
   },
   {
    "duration": 57,
    "start_time": "2022-06-29T12:05:24.778Z"
   },
   {
    "duration": 43,
    "start_time": "2022-06-29T12:06:41.844Z"
   },
   {
    "duration": 53,
    "start_time": "2022-06-29T12:06:43.220Z"
   },
   {
    "duration": 57,
    "start_time": "2022-06-29T12:06:53.618Z"
   },
   {
    "duration": 4333,
    "start_time": "2022-06-29T12:08:12.739Z"
   },
   {
    "duration": 4264,
    "start_time": "2022-06-29T12:09:01.139Z"
   },
   {
    "duration": 4243,
    "start_time": "2022-06-29T12:09:26.078Z"
   },
   {
    "duration": 4110,
    "start_time": "2022-06-29T12:09:41.333Z"
   },
   {
    "duration": 69,
    "start_time": "2022-06-29T12:10:07.528Z"
   },
   {
    "duration": 63,
    "start_time": "2022-06-29T12:10:10.812Z"
   },
   {
    "duration": 10,
    "start_time": "2022-06-29T12:11:24.039Z"
   },
   {
    "duration": 1089,
    "start_time": "2022-06-29T12:11:46.553Z"
   },
   {
    "duration": 34,
    "start_time": "2022-06-29T12:11:47.644Z"
   },
   {
    "duration": 41,
    "start_time": "2022-06-29T12:11:47.680Z"
   },
   {
    "duration": 20,
    "start_time": "2022-06-29T12:11:47.722Z"
   },
   {
    "duration": 28,
    "start_time": "2022-06-29T12:11:47.744Z"
   },
   {
    "duration": 56,
    "start_time": "2022-06-29T12:11:47.774Z"
   },
   {
    "duration": 66,
    "start_time": "2022-06-29T12:11:47.832Z"
   },
   {
    "duration": 4108,
    "start_time": "2022-06-29T12:11:47.900Z"
   },
   {
    "duration": 8,
    "start_time": "2022-06-29T12:11:52.010Z"
   },
   {
    "duration": 1124,
    "start_time": "2022-06-29T12:17:18.768Z"
   },
   {
    "duration": 35,
    "start_time": "2022-06-29T12:17:19.894Z"
   },
   {
    "duration": 39,
    "start_time": "2022-06-29T12:17:19.931Z"
   },
   {
    "duration": 19,
    "start_time": "2022-06-29T12:17:19.972Z"
   },
   {
    "duration": 11,
    "start_time": "2022-06-29T12:17:19.993Z"
   },
   {
    "duration": 152,
    "start_time": "2022-06-29T12:17:20.006Z"
   },
   {
    "duration": 18,
    "start_time": "2022-06-29T12:17:44.013Z"
   },
   {
    "duration": 1150,
    "start_time": "2022-06-29T12:18:19.531Z"
   },
   {
    "duration": 37,
    "start_time": "2022-06-29T12:18:20.683Z"
   },
   {
    "duration": 51,
    "start_time": "2022-06-29T12:18:20.722Z"
   },
   {
    "duration": 20,
    "start_time": "2022-06-29T12:18:20.776Z"
   },
   {
    "duration": 7,
    "start_time": "2022-06-29T12:18:20.798Z"
   },
   {
    "duration": 134,
    "start_time": "2022-06-29T12:18:20.807Z"
   },
   {
    "duration": 15,
    "start_time": "2022-06-29T12:18:42.393Z"
   },
   {
    "duration": 17,
    "start_time": "2022-06-29T12:18:51.066Z"
   },
   {
    "duration": 23,
    "start_time": "2022-06-29T12:19:24.721Z"
   },
   {
    "duration": 57,
    "start_time": "2022-06-29T12:19:31.833Z"
   },
   {
    "duration": 64,
    "start_time": "2022-06-29T12:20:26.618Z"
   },
   {
    "duration": 23,
    "start_time": "2022-06-29T12:20:30.579Z"
   },
   {
    "duration": 23,
    "start_time": "2022-06-29T12:20:33.530Z"
   },
   {
    "duration": 17,
    "start_time": "2022-06-29T12:20:46.349Z"
   },
   {
    "duration": 89,
    "start_time": "2022-06-29T12:20:55.571Z"
   },
   {
    "duration": 18,
    "start_time": "2022-06-29T12:21:01.717Z"
   },
   {
    "duration": 81,
    "start_time": "2022-06-29T12:21:21.869Z"
   },
   {
    "duration": 19,
    "start_time": "2022-06-29T12:21:34.743Z"
   },
   {
    "duration": 1168,
    "start_time": "2022-06-29T12:21:39.774Z"
   },
   {
    "duration": 41,
    "start_time": "2022-06-29T12:21:40.945Z"
   },
   {
    "duration": 52,
    "start_time": "2022-06-29T12:21:40.988Z"
   },
   {
    "duration": 44,
    "start_time": "2022-06-29T12:21:41.042Z"
   },
   {
    "duration": 9,
    "start_time": "2022-06-29T12:21:41.089Z"
   },
   {
    "duration": 141,
    "start_time": "2022-06-29T12:21:41.100Z"
   },
   {
    "duration": 4,
    "start_time": "2022-06-29T12:22:33.793Z"
   },
   {
    "duration": 7,
    "start_time": "2022-06-29T12:22:49.563Z"
   },
   {
    "duration": 6,
    "start_time": "2022-06-29T12:23:05.816Z"
   },
   {
    "duration": 5,
    "start_time": "2022-06-29T12:23:09.975Z"
   },
   {
    "duration": 5,
    "start_time": "2022-06-29T12:23:12.795Z"
   },
   {
    "duration": 6,
    "start_time": "2022-06-29T12:23:18.037Z"
   },
   {
    "duration": 5,
    "start_time": "2022-06-29T12:24:25.323Z"
   },
   {
    "duration": 7,
    "start_time": "2022-06-29T12:24:40.994Z"
   },
   {
    "duration": 6,
    "start_time": "2022-06-29T12:25:14.251Z"
   },
   {
    "duration": 7,
    "start_time": "2022-06-29T12:26:09.819Z"
   },
   {
    "duration": 8,
    "start_time": "2022-06-29T12:26:17.650Z"
   },
   {
    "duration": 6,
    "start_time": "2022-06-29T12:26:22.964Z"
   },
   {
    "duration": 23,
    "start_time": "2022-06-29T12:27:18.196Z"
   },
   {
    "duration": 87,
    "start_time": "2022-06-29T12:27:19.876Z"
   },
   {
    "duration": 18,
    "start_time": "2022-06-29T12:27:20.932Z"
   },
   {
    "duration": 74,
    "start_time": "2022-06-29T12:27:30.789Z"
   },
   {
    "duration": 21,
    "start_time": "2022-06-29T12:27:32.006Z"
   },
   {
    "duration": 18,
    "start_time": "2022-06-29T12:27:34.728Z"
   },
   {
    "duration": 1231,
    "start_time": "2022-06-29T12:27:40.226Z"
   },
   {
    "duration": 38,
    "start_time": "2022-06-29T12:27:41.460Z"
   },
   {
    "duration": 47,
    "start_time": "2022-06-29T12:27:41.500Z"
   },
   {
    "duration": 39,
    "start_time": "2022-06-29T12:27:41.549Z"
   },
   {
    "duration": 13,
    "start_time": "2022-06-29T12:27:41.590Z"
   },
   {
    "duration": 11,
    "start_time": "2022-06-29T12:27:41.605Z"
   },
   {
    "duration": 100,
    "start_time": "2022-06-29T12:27:41.618Z"
   },
   {
    "duration": 134,
    "start_time": "2022-06-29T12:27:41.720Z"
   },
   {
    "duration": 34,
    "start_time": "2022-06-29T12:28:06.914Z"
   },
   {
    "duration": 19,
    "start_time": "2022-06-29T12:28:13.417Z"
   },
   {
    "duration": 20,
    "start_time": "2022-06-29T12:29:11.715Z"
   },
   {
    "duration": 18,
    "start_time": "2022-06-29T12:29:24.346Z"
   },
   {
    "duration": 19,
    "start_time": "2022-06-29T12:29:43.322Z"
   },
   {
    "duration": 86,
    "start_time": "2022-06-29T12:30:03.467Z"
   },
   {
    "duration": 38,
    "start_time": "2022-06-29T12:30:29.381Z"
   },
   {
    "duration": 18,
    "start_time": "2022-06-29T12:30:43.650Z"
   },
   {
    "duration": 15,
    "start_time": "2022-06-29T12:30:56.477Z"
   },
   {
    "duration": 1373,
    "start_time": "2022-06-29T12:31:28.550Z"
   },
   {
    "duration": 41,
    "start_time": "2022-06-29T12:31:29.926Z"
   },
   {
    "duration": 44,
    "start_time": "2022-06-29T12:31:29.969Z"
   },
   {
    "duration": 21,
    "start_time": "2022-06-29T12:31:30.014Z"
   },
   {
    "duration": 35,
    "start_time": "2022-06-29T12:31:30.038Z"
   },
   {
    "duration": 12,
    "start_time": "2022-06-29T12:31:30.075Z"
   },
   {
    "duration": 129,
    "start_time": "2022-06-29T12:31:30.090Z"
   },
   {
    "duration": 0,
    "start_time": "2022-06-29T12:31:30.221Z"
   },
   {
    "duration": 12,
    "start_time": "2022-06-29T12:32:12.586Z"
   },
   {
    "duration": 4,
    "start_time": "2022-06-29T12:33:04.978Z"
   },
   {
    "duration": 4283,
    "start_time": "2022-06-29T12:33:08.618Z"
   },
   {
    "duration": 71,
    "start_time": "2022-06-29T12:33:21.605Z"
   },
   {
    "duration": 4362,
    "start_time": "2022-06-29T12:33:23.578Z"
   },
   {
    "duration": 4074,
    "start_time": "2022-06-29T12:34:32.064Z"
   },
   {
    "duration": 4215,
    "start_time": "2022-06-29T12:37:04.718Z"
   },
   {
    "duration": 4290,
    "start_time": "2022-06-29T12:37:20.647Z"
   },
   {
    "duration": 4147,
    "start_time": "2022-06-29T12:37:28.302Z"
   },
   {
    "duration": 4331,
    "start_time": "2022-06-29T12:37:38.095Z"
   },
   {
    "duration": 27,
    "start_time": "2022-06-29T12:39:17.209Z"
   },
   {
    "duration": 1121,
    "start_time": "2022-06-29T12:39:26.436Z"
   },
   {
    "duration": 47,
    "start_time": "2022-06-29T12:39:27.561Z"
   },
   {
    "duration": 40,
    "start_time": "2022-06-29T12:39:27.611Z"
   },
   {
    "duration": 21,
    "start_time": "2022-06-29T12:39:27.653Z"
   },
   {
    "duration": 8,
    "start_time": "2022-06-29T12:39:27.675Z"
   },
   {
    "duration": 6,
    "start_time": "2022-06-29T12:39:27.685Z"
   },
   {
    "duration": 26,
    "start_time": "2022-06-29T12:39:27.693Z"
   },
   {
    "duration": 3647,
    "start_time": "2022-06-29T12:39:34.113Z"
   },
   {
    "duration": 57,
    "start_time": "2022-06-29T12:40:33.122Z"
   },
   {
    "duration": 49,
    "start_time": "2022-06-29T12:41:22.571Z"
   },
   {
    "duration": 130,
    "start_time": "2022-06-29T12:41:30.982Z"
   },
   {
    "duration": 144,
    "start_time": "2022-06-29T12:41:50.421Z"
   },
   {
    "duration": 138,
    "start_time": "2022-06-29T12:42:23.176Z"
   },
   {
    "duration": 50,
    "start_time": "2022-06-29T14:18:28.868Z"
   },
   {
    "duration": 1181,
    "start_time": "2022-06-29T14:18:34.790Z"
   },
   {
    "duration": 139,
    "start_time": "2022-06-29T14:18:35.974Z"
   },
   {
    "duration": 43,
    "start_time": "2022-06-29T14:18:36.115Z"
   },
   {
    "duration": 21,
    "start_time": "2022-06-29T14:18:36.160Z"
   },
   {
    "duration": 10,
    "start_time": "2022-06-29T14:18:36.183Z"
   },
   {
    "duration": 10,
    "start_time": "2022-06-29T14:18:36.195Z"
   },
   {
    "duration": 90,
    "start_time": "2022-06-29T14:18:36.206Z"
   },
   {
    "duration": 4073,
    "start_time": "2022-06-29T14:18:36.298Z"
   },
   {
    "duration": 29,
    "start_time": "2022-06-29T14:18:40.373Z"
   },
   {
    "duration": 152,
    "start_time": "2022-06-29T14:18:40.404Z"
   },
   {
    "duration": 27,
    "start_time": "2022-06-29T14:19:33.429Z"
   },
   {
    "duration": 66,
    "start_time": "2022-06-29T14:20:39.825Z"
   },
   {
    "duration": 3924,
    "start_time": "2022-06-29T14:20:41.880Z"
   },
   {
    "duration": 16,
    "start_time": "2022-06-29T14:20:47.582Z"
   },
   {
    "duration": 14,
    "start_time": "2022-06-29T14:21:04.607Z"
   },
   {
    "duration": 21,
    "start_time": "2022-06-29T14:24:57.403Z"
   },
   {
    "duration": 3,
    "start_time": "2022-06-29T14:48:58.675Z"
   },
   {
    "duration": 6,
    "start_time": "2022-06-29T14:51:45.832Z"
   },
   {
    "duration": 1225,
    "start_time": "2022-06-29T15:14:27.805Z"
   },
   {
    "duration": 54,
    "start_time": "2022-06-29T15:14:29.032Z"
   },
   {
    "duration": 38,
    "start_time": "2022-06-29T15:14:29.087Z"
   },
   {
    "duration": 18,
    "start_time": "2022-06-29T15:14:29.127Z"
   },
   {
    "duration": 7,
    "start_time": "2022-06-29T15:14:29.152Z"
   },
   {
    "duration": 9,
    "start_time": "2022-06-29T15:14:29.161Z"
   },
   {
    "duration": 119,
    "start_time": "2022-06-29T15:14:29.171Z"
   },
   {
    "duration": 0,
    "start_time": "2022-06-29T15:14:29.292Z"
   },
   {
    "duration": 0,
    "start_time": "2022-06-29T15:14:29.294Z"
   },
   {
    "duration": 0,
    "start_time": "2022-06-29T15:14:29.295Z"
   },
   {
    "duration": 0,
    "start_time": "2022-06-29T15:14:29.296Z"
   },
   {
    "duration": 36,
    "start_time": "2022-06-29T15:22:33.047Z"
   },
   {
    "duration": 32,
    "start_time": "2022-06-29T15:22:49.157Z"
   },
   {
    "duration": 8,
    "start_time": "2022-06-29T15:24:27.111Z"
   },
   {
    "duration": 6,
    "start_time": "2022-06-29T15:25:07.310Z"
   },
   {
    "duration": 1068,
    "start_time": "2022-07-01T06:54:42.178Z"
   },
   {
    "duration": 61,
    "start_time": "2022-07-01T06:54:43.249Z"
   },
   {
    "duration": 41,
    "start_time": "2022-07-01T06:54:43.311Z"
   },
   {
    "duration": 18,
    "start_time": "2022-07-01T06:54:43.354Z"
   },
   {
    "duration": 9,
    "start_time": "2022-07-01T06:54:43.374Z"
   },
   {
    "duration": 10,
    "start_time": "2022-07-01T06:54:43.385Z"
   },
   {
    "duration": 128,
    "start_time": "2022-07-01T06:54:43.397Z"
   },
   {
    "duration": 0,
    "start_time": "2022-07-01T06:54:43.527Z"
   },
   {
    "duration": 0,
    "start_time": "2022-07-01T06:54:43.528Z"
   },
   {
    "duration": 0,
    "start_time": "2022-07-01T06:54:43.529Z"
   },
   {
    "duration": 0,
    "start_time": "2022-07-01T06:54:43.530Z"
   },
   {
    "duration": 64,
    "start_time": "2022-07-01T06:55:09.529Z"
   },
   {
    "duration": 64,
    "start_time": "2022-07-01T06:55:17.835Z"
   },
   {
    "duration": 61,
    "start_time": "2022-07-01T06:55:22.681Z"
   },
   {
    "duration": 3799,
    "start_time": "2022-07-01T06:55:43.074Z"
   },
   {
    "duration": 11,
    "start_time": "2022-07-01T06:55:55.280Z"
   },
   {
    "duration": 14,
    "start_time": "2022-07-01T06:56:04.793Z"
   },
   {
    "duration": 4146,
    "start_time": "2022-07-01T06:56:07.648Z"
   },
   {
    "duration": 65,
    "start_time": "2022-07-01T06:56:11.796Z"
   },
   {
    "duration": 1180,
    "start_time": "2022-07-01T06:56:17.399Z"
   },
   {
    "duration": 39,
    "start_time": "2022-07-01T06:56:18.581Z"
   },
   {
    "duration": 48,
    "start_time": "2022-07-01T06:56:18.622Z"
   },
   {
    "duration": 19,
    "start_time": "2022-07-01T06:56:18.671Z"
   },
   {
    "duration": 9,
    "start_time": "2022-07-01T06:56:18.692Z"
   },
   {
    "duration": 30,
    "start_time": "2022-07-01T06:56:18.703Z"
   },
   {
    "duration": 74,
    "start_time": "2022-07-01T06:56:18.735Z"
   },
   {
    "duration": 4093,
    "start_time": "2022-07-01T06:56:18.811Z"
   },
   {
    "duration": 39,
    "start_time": "2022-07-01T06:56:22.906Z"
   },
   {
    "duration": 15,
    "start_time": "2022-07-01T06:56:22.947Z"
   },
   {
    "duration": 6,
    "start_time": "2022-07-01T06:56:22.964Z"
   },
   {
    "duration": 1305,
    "start_time": "2022-07-01T07:53:15.812Z"
   },
   {
    "duration": 58,
    "start_time": "2022-07-01T07:53:17.119Z"
   },
   {
    "duration": 40,
    "start_time": "2022-07-01T07:53:17.179Z"
   },
   {
    "duration": 18,
    "start_time": "2022-07-01T07:53:17.221Z"
   },
   {
    "duration": 8,
    "start_time": "2022-07-01T07:53:17.241Z"
   },
   {
    "duration": 7,
    "start_time": "2022-07-01T07:53:17.251Z"
   },
   {
    "duration": 77,
    "start_time": "2022-07-01T07:53:17.260Z"
   },
   {
    "duration": 3604,
    "start_time": "2022-07-01T07:53:17.339Z"
   },
   {
    "duration": 22,
    "start_time": "2022-07-01T07:53:20.945Z"
   },
   {
    "duration": 12,
    "start_time": "2022-07-01T07:53:20.969Z"
   },
   {
    "duration": 6,
    "start_time": "2022-07-01T07:53:20.983Z"
   },
   {
    "duration": 1291,
    "start_time": "2022-07-01T07:53:46.912Z"
   },
   {
    "duration": 36,
    "start_time": "2022-07-01T07:53:48.205Z"
   },
   {
    "duration": 37,
    "start_time": "2022-07-01T07:53:48.243Z"
   },
   {
    "duration": 17,
    "start_time": "2022-07-01T07:53:48.281Z"
   },
   {
    "duration": 9,
    "start_time": "2022-07-01T07:53:48.324Z"
   },
   {
    "duration": 6,
    "start_time": "2022-07-01T07:53:48.335Z"
   },
   {
    "duration": 57,
    "start_time": "2022-07-01T07:53:48.343Z"
   },
   {
    "duration": 3668,
    "start_time": "2022-07-01T07:53:48.401Z"
   },
   {
    "duration": 25,
    "start_time": "2022-07-01T07:53:52.070Z"
   },
   {
    "duration": 26,
    "start_time": "2022-07-01T07:53:52.098Z"
   },
   {
    "duration": 5,
    "start_time": "2022-07-01T07:53:52.126Z"
   }
  ],
  "kernelspec": {
   "display_name": "Python 3 (ipykernel)",
   "language": "python",
   "name": "python3"
  },
  "language_info": {
   "codemirror_mode": {
    "name": "ipython",
    "version": 3
   },
   "file_extension": ".py",
   "mimetype": "text/x-python",
   "name": "python",
   "nbconvert_exporter": "python",
   "pygments_lexer": "ipython3",
   "version": "3.9.13"
  },
  "toc": {
   "base_numbering": 1,
   "nav_menu": {},
   "number_sections": true,
   "sideBar": true,
   "skip_h1_title": true,
   "title_cell": "Table of Contents",
   "title_sidebar": "Contents",
   "toc_cell": false,
   "toc_position": {},
   "toc_section_display": true,
   "toc_window_display": false
  }
 },
 "nbformat": 4,
 "nbformat_minor": 2
}
