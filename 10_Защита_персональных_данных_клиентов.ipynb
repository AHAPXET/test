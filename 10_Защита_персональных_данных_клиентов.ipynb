{
 "cells": [
  {
   "cell_type": "markdown",
   "metadata": {
    "toc": true
   },
   "source": [
    "<h1>Содержание<span class=\"tocSkip\"></span></h1>\n",
    "<div class=\"toc\"><ul class=\"toc-item\"><li><ul class=\"toc-item\"><li><span><a href=\"#Загрузка-данных\" data-toc-modified-id=\"Загрузка-данных-1\"><span class=\"toc-item-num\">1&nbsp;&nbsp;</span>Загрузка данных</a></span></li><li><span><a href=\"#Умножение-матриц\" data-toc-modified-id=\"Умножение-матриц-2\"><span class=\"toc-item-num\">2&nbsp;&nbsp;</span>Умножение матриц</a></span></li><li><span><a href=\"#Алгоритм-преобразования\" data-toc-modified-id=\"Алгоритм-преобразования-3\"><span class=\"toc-item-num\">3&nbsp;&nbsp;</span>Алгоритм преобразования</a></span></li><li><span><a href=\"#Проверка-алгоритма\" data-toc-modified-id=\"Проверка-алгоритма-4\"><span class=\"toc-item-num\">4&nbsp;&nbsp;</span>Проверка алгоритма</a></span><ul class=\"toc-item\"><li><span><a href=\"#Не-зашифрованная\" data-toc-modified-id=\"Не-зашифрованная-4.1\"><span class=\"toc-item-num\">4.1&nbsp;&nbsp;</span>Не зашифрованная</a></span></li><li><span><a href=\"#Зашифрованная\" data-toc-modified-id=\"Зашифрованная-4.2\"><span class=\"toc-item-num\">4.2&nbsp;&nbsp;</span>Зашифрованная</a></span></li></ul></li><li><span><a href=\"#Вывод\" data-toc-modified-id=\"Вывод-5\"><span class=\"toc-item-num\">5&nbsp;&nbsp;</span>Вывод</a></span></li><li><span><a href=\"#Чек-лист-проверки\" data-toc-modified-id=\"Чек-лист-проверки-6\"><span class=\"toc-item-num\">6&nbsp;&nbsp;</span>Чек-лист проверки</a></span></li></ul></div>"
   ]
  },
  {
   "cell_type": "markdown",
   "metadata": {},
   "source": [
    "# Защита персональных данных клиентов"
   ]
  },
  {
   "cell_type": "markdown",
   "metadata": {},
   "source": [
    "Вам нужно защитить данные клиентов страховой компании «Хоть потоп». Разработайте такой метод преобразования данных, чтобы по ним было сложно восстановить персональную информацию. Обоснуйте корректность его работы.\n",
    "\n",
    "Нужно защитить данные, чтобы при преобразовании качество моделей машинного обучения не ухудшилось. Подбирать наилучшую модель не требуется."
   ]
  },
  {
   "cell_type": "markdown",
   "metadata": {},
   "source": [
    "**Заказчик** — страховая компания «Хоть потоп».\n",
    "\n",
    "**Цель исследования** \n",
    "\n",
    "* Поиск наиболее оптимального медота шифрования данных пользователей\n",
    "\n",
    "\n",
    "**Входные данные**  — ```/datasets/insurance.csv``` - база данных пользователей\n",
    "\n",
    "\n",
    "**Результаты исследования** — "
   ]
  },
  {
   "cell_type": "markdown",
   "metadata": {},
   "source": [
    "## Загрузка данных"
   ]
  },
  {
   "cell_type": "code",
   "execution_count": 1,
   "metadata": {},
   "outputs": [],
   "source": [
    "import pandas as pd\n",
    "import numpy as np\n",
    "from sklearn.linear_model import LinearRegression\n",
    "from sklearn.metrics import r2_score"
   ]
  },
  {
   "cell_type": "code",
   "execution_count": 2,
   "metadata": {
    "scrolled": false
   },
   "outputs": [
    {
     "data": {
      "text/html": [
       "<div>\n",
       "<style scoped>\n",
       "    .dataframe tbody tr th:only-of-type {\n",
       "        vertical-align: middle;\n",
       "    }\n",
       "\n",
       "    .dataframe tbody tr th {\n",
       "        vertical-align: top;\n",
       "    }\n",
       "\n",
       "    .dataframe thead th {\n",
       "        text-align: right;\n",
       "    }\n",
       "</style>\n",
       "<table border=\"1\" class=\"dataframe\">\n",
       "  <thead>\n",
       "    <tr style=\"text-align: right;\">\n",
       "      <th></th>\n",
       "      <th>Пол</th>\n",
       "      <th>Возраст</th>\n",
       "      <th>Зарплата</th>\n",
       "      <th>Члены семьи</th>\n",
       "      <th>Страховые выплаты</th>\n",
       "    </tr>\n",
       "  </thead>\n",
       "  <tbody>\n",
       "    <tr>\n",
       "      <th>0</th>\n",
       "      <td>1</td>\n",
       "      <td>41.0</td>\n",
       "      <td>49600.0</td>\n",
       "      <td>1</td>\n",
       "      <td>0</td>\n",
       "    </tr>\n",
       "    <tr>\n",
       "      <th>1</th>\n",
       "      <td>0</td>\n",
       "      <td>46.0</td>\n",
       "      <td>38000.0</td>\n",
       "      <td>1</td>\n",
       "      <td>1</td>\n",
       "    </tr>\n",
       "    <tr>\n",
       "      <th>2</th>\n",
       "      <td>0</td>\n",
       "      <td>29.0</td>\n",
       "      <td>21000.0</td>\n",
       "      <td>0</td>\n",
       "      <td>0</td>\n",
       "    </tr>\n",
       "    <tr>\n",
       "      <th>3</th>\n",
       "      <td>0</td>\n",
       "      <td>21.0</td>\n",
       "      <td>41700.0</td>\n",
       "      <td>2</td>\n",
       "      <td>0</td>\n",
       "    </tr>\n",
       "    <tr>\n",
       "      <th>4</th>\n",
       "      <td>1</td>\n",
       "      <td>28.0</td>\n",
       "      <td>26100.0</td>\n",
       "      <td>0</td>\n",
       "      <td>0</td>\n",
       "    </tr>\n",
       "  </tbody>\n",
       "</table>\n",
       "</div>"
      ],
      "text/plain": [
       "   Пол  Возраст  Зарплата  Члены семьи  Страховые выплаты\n",
       "0    1     41.0   49600.0            1                  0\n",
       "1    0     46.0   38000.0            1                  1\n",
       "2    0     29.0   21000.0            0                  0\n",
       "3    0     21.0   41700.0            2                  0\n",
       "4    1     28.0   26100.0            0                  0"
      ]
     },
     "execution_count": 2,
     "metadata": {},
     "output_type": "execute_result"
    }
   ],
   "source": [
    "# выгрузим данные и посмотрим в каком виде получается датафрейм\n",
    "df = pd.read_csv('/datasets/insurance.csv')\n",
    "df.head()"
   ]
  },
  {
   "cell_type": "markdown",
   "metadata": {},
   "source": [
    "**Признаки:** пол, возраст и зарплата застрахованного, количество членов его семьи.\n",
    "\n",
    "**Целевой признак:** количество страховых выплат клиенту за последние 5 лет."
   ]
  },
  {
   "cell_type": "code",
   "execution_count": 3,
   "metadata": {},
   "outputs": [],
   "source": [
    "# изучим датафрейм\n",
    "# функция для обработки данных датафрейма\n",
    "def research(df):\n",
    "    \n",
    "    display(df)\n",
    "    print('Информация по таблице:', '\\n')\n",
    "    df.info()\n",
    "    print()\n",
    "    print('Количество пропусков:', '\\n')\n",
    "    print(df.isna().sum(), '\\n', '\\n')\n",
    "    print('Процент пропусков:', '\\n')\n",
    "    print(df.isna().mean()*100, '\\n')\n",
    "\n",
    "    display(df.describe())\n",
    "    print()\n",
    "    print('Число явных дубликатов:', df.duplicated().sum(), '\\n')\n"
   ]
  },
  {
   "cell_type": "code",
   "execution_count": 4,
   "metadata": {
    "scrolled": false
   },
   "outputs": [
    {
     "data": {
      "text/html": [
       "<div>\n",
       "<style scoped>\n",
       "    .dataframe tbody tr th:only-of-type {\n",
       "        vertical-align: middle;\n",
       "    }\n",
       "\n",
       "    .dataframe tbody tr th {\n",
       "        vertical-align: top;\n",
       "    }\n",
       "\n",
       "    .dataframe thead th {\n",
       "        text-align: right;\n",
       "    }\n",
       "</style>\n",
       "<table border=\"1\" class=\"dataframe\">\n",
       "  <thead>\n",
       "    <tr style=\"text-align: right;\">\n",
       "      <th></th>\n",
       "      <th>Пол</th>\n",
       "      <th>Возраст</th>\n",
       "      <th>Зарплата</th>\n",
       "      <th>Члены семьи</th>\n",
       "      <th>Страховые выплаты</th>\n",
       "    </tr>\n",
       "  </thead>\n",
       "  <tbody>\n",
       "    <tr>\n",
       "      <th>0</th>\n",
       "      <td>1</td>\n",
       "      <td>41.0</td>\n",
       "      <td>49600.0</td>\n",
       "      <td>1</td>\n",
       "      <td>0</td>\n",
       "    </tr>\n",
       "    <tr>\n",
       "      <th>1</th>\n",
       "      <td>0</td>\n",
       "      <td>46.0</td>\n",
       "      <td>38000.0</td>\n",
       "      <td>1</td>\n",
       "      <td>1</td>\n",
       "    </tr>\n",
       "    <tr>\n",
       "      <th>2</th>\n",
       "      <td>0</td>\n",
       "      <td>29.0</td>\n",
       "      <td>21000.0</td>\n",
       "      <td>0</td>\n",
       "      <td>0</td>\n",
       "    </tr>\n",
       "    <tr>\n",
       "      <th>3</th>\n",
       "      <td>0</td>\n",
       "      <td>21.0</td>\n",
       "      <td>41700.0</td>\n",
       "      <td>2</td>\n",
       "      <td>0</td>\n",
       "    </tr>\n",
       "    <tr>\n",
       "      <th>4</th>\n",
       "      <td>1</td>\n",
       "      <td>28.0</td>\n",
       "      <td>26100.0</td>\n",
       "      <td>0</td>\n",
       "      <td>0</td>\n",
       "    </tr>\n",
       "    <tr>\n",
       "      <th>...</th>\n",
       "      <td>...</td>\n",
       "      <td>...</td>\n",
       "      <td>...</td>\n",
       "      <td>...</td>\n",
       "      <td>...</td>\n",
       "    </tr>\n",
       "    <tr>\n",
       "      <th>4995</th>\n",
       "      <td>0</td>\n",
       "      <td>28.0</td>\n",
       "      <td>35700.0</td>\n",
       "      <td>2</td>\n",
       "      <td>0</td>\n",
       "    </tr>\n",
       "    <tr>\n",
       "      <th>4996</th>\n",
       "      <td>0</td>\n",
       "      <td>34.0</td>\n",
       "      <td>52400.0</td>\n",
       "      <td>1</td>\n",
       "      <td>0</td>\n",
       "    </tr>\n",
       "    <tr>\n",
       "      <th>4997</th>\n",
       "      <td>0</td>\n",
       "      <td>20.0</td>\n",
       "      <td>33900.0</td>\n",
       "      <td>2</td>\n",
       "      <td>0</td>\n",
       "    </tr>\n",
       "    <tr>\n",
       "      <th>4998</th>\n",
       "      <td>1</td>\n",
       "      <td>22.0</td>\n",
       "      <td>32700.0</td>\n",
       "      <td>3</td>\n",
       "      <td>0</td>\n",
       "    </tr>\n",
       "    <tr>\n",
       "      <th>4999</th>\n",
       "      <td>1</td>\n",
       "      <td>28.0</td>\n",
       "      <td>40600.0</td>\n",
       "      <td>1</td>\n",
       "      <td>0</td>\n",
       "    </tr>\n",
       "  </tbody>\n",
       "</table>\n",
       "<p>5000 rows × 5 columns</p>\n",
       "</div>"
      ],
      "text/plain": [
       "      Пол  Возраст  Зарплата  Члены семьи  Страховые выплаты\n",
       "0       1     41.0   49600.0            1                  0\n",
       "1       0     46.0   38000.0            1                  1\n",
       "2       0     29.0   21000.0            0                  0\n",
       "3       0     21.0   41700.0            2                  0\n",
       "4       1     28.0   26100.0            0                  0\n",
       "...   ...      ...       ...          ...                ...\n",
       "4995    0     28.0   35700.0            2                  0\n",
       "4996    0     34.0   52400.0            1                  0\n",
       "4997    0     20.0   33900.0            2                  0\n",
       "4998    1     22.0   32700.0            3                  0\n",
       "4999    1     28.0   40600.0            1                  0\n",
       "\n",
       "[5000 rows x 5 columns]"
      ]
     },
     "metadata": {},
     "output_type": "display_data"
    },
    {
     "name": "stdout",
     "output_type": "stream",
     "text": [
      "Информация по таблице: \n",
      "\n",
      "<class 'pandas.core.frame.DataFrame'>\n",
      "RangeIndex: 5000 entries, 0 to 4999\n",
      "Data columns (total 5 columns):\n",
      " #   Column             Non-Null Count  Dtype  \n",
      "---  ------             --------------  -----  \n",
      " 0   Пол                5000 non-null   int64  \n",
      " 1   Возраст            5000 non-null   float64\n",
      " 2   Зарплата           5000 non-null   float64\n",
      " 3   Члены семьи        5000 non-null   int64  \n",
      " 4   Страховые выплаты  5000 non-null   int64  \n",
      "dtypes: float64(2), int64(3)\n",
      "memory usage: 195.4 KB\n",
      "\n",
      "Количество пропусков: \n",
      "\n",
      "Пол                  0\n",
      "Возраст              0\n",
      "Зарплата             0\n",
      "Члены семьи          0\n",
      "Страховые выплаты    0\n",
      "dtype: int64 \n",
      " \n",
      "\n",
      "Процент пропусков: \n",
      "\n",
      "Пол                  0.0\n",
      "Возраст              0.0\n",
      "Зарплата             0.0\n",
      "Члены семьи          0.0\n",
      "Страховые выплаты    0.0\n",
      "dtype: float64 \n",
      "\n"
     ]
    },
    {
     "data": {
      "text/html": [
       "<div>\n",
       "<style scoped>\n",
       "    .dataframe tbody tr th:only-of-type {\n",
       "        vertical-align: middle;\n",
       "    }\n",
       "\n",
       "    .dataframe tbody tr th {\n",
       "        vertical-align: top;\n",
       "    }\n",
       "\n",
       "    .dataframe thead th {\n",
       "        text-align: right;\n",
       "    }\n",
       "</style>\n",
       "<table border=\"1\" class=\"dataframe\">\n",
       "  <thead>\n",
       "    <tr style=\"text-align: right;\">\n",
       "      <th></th>\n",
       "      <th>Пол</th>\n",
       "      <th>Возраст</th>\n",
       "      <th>Зарплата</th>\n",
       "      <th>Члены семьи</th>\n",
       "      <th>Страховые выплаты</th>\n",
       "    </tr>\n",
       "  </thead>\n",
       "  <tbody>\n",
       "    <tr>\n",
       "      <th>count</th>\n",
       "      <td>5000.000000</td>\n",
       "      <td>5000.000000</td>\n",
       "      <td>5000.000000</td>\n",
       "      <td>5000.000000</td>\n",
       "      <td>5000.000000</td>\n",
       "    </tr>\n",
       "    <tr>\n",
       "      <th>mean</th>\n",
       "      <td>0.499000</td>\n",
       "      <td>30.952800</td>\n",
       "      <td>39916.360000</td>\n",
       "      <td>1.194200</td>\n",
       "      <td>0.148000</td>\n",
       "    </tr>\n",
       "    <tr>\n",
       "      <th>std</th>\n",
       "      <td>0.500049</td>\n",
       "      <td>8.440807</td>\n",
       "      <td>9900.083569</td>\n",
       "      <td>1.091387</td>\n",
       "      <td>0.463183</td>\n",
       "    </tr>\n",
       "    <tr>\n",
       "      <th>min</th>\n",
       "      <td>0.000000</td>\n",
       "      <td>18.000000</td>\n",
       "      <td>5300.000000</td>\n",
       "      <td>0.000000</td>\n",
       "      <td>0.000000</td>\n",
       "    </tr>\n",
       "    <tr>\n",
       "      <th>25%</th>\n",
       "      <td>0.000000</td>\n",
       "      <td>24.000000</td>\n",
       "      <td>33300.000000</td>\n",
       "      <td>0.000000</td>\n",
       "      <td>0.000000</td>\n",
       "    </tr>\n",
       "    <tr>\n",
       "      <th>50%</th>\n",
       "      <td>0.000000</td>\n",
       "      <td>30.000000</td>\n",
       "      <td>40200.000000</td>\n",
       "      <td>1.000000</td>\n",
       "      <td>0.000000</td>\n",
       "    </tr>\n",
       "    <tr>\n",
       "      <th>75%</th>\n",
       "      <td>1.000000</td>\n",
       "      <td>37.000000</td>\n",
       "      <td>46600.000000</td>\n",
       "      <td>2.000000</td>\n",
       "      <td>0.000000</td>\n",
       "    </tr>\n",
       "    <tr>\n",
       "      <th>max</th>\n",
       "      <td>1.000000</td>\n",
       "      <td>65.000000</td>\n",
       "      <td>79000.000000</td>\n",
       "      <td>6.000000</td>\n",
       "      <td>5.000000</td>\n",
       "    </tr>\n",
       "  </tbody>\n",
       "</table>\n",
       "</div>"
      ],
      "text/plain": [
       "               Пол      Возраст      Зарплата  Члены семьи  Страховые выплаты\n",
       "count  5000.000000  5000.000000   5000.000000  5000.000000        5000.000000\n",
       "mean      0.499000    30.952800  39916.360000     1.194200           0.148000\n",
       "std       0.500049     8.440807   9900.083569     1.091387           0.463183\n",
       "min       0.000000    18.000000   5300.000000     0.000000           0.000000\n",
       "25%       0.000000    24.000000  33300.000000     0.000000           0.000000\n",
       "50%       0.000000    30.000000  40200.000000     1.000000           0.000000\n",
       "75%       1.000000    37.000000  46600.000000     2.000000           0.000000\n",
       "max       1.000000    65.000000  79000.000000     6.000000           5.000000"
      ]
     },
     "metadata": {},
     "output_type": "display_data"
    },
    {
     "name": "stdout",
     "output_type": "stream",
     "text": [
      "\n",
      "Число явных дубликатов: 153 \n",
      "\n"
     ]
    }
   ],
   "source": [
    "research(df)"
   ]
  },
  {
   "cell_type": "code",
   "execution_count": 5,
   "metadata": {},
   "outputs": [
    {
     "data": {
      "text/plain": [
       "0    2505\n",
       "1    2495\n",
       "Name: Пол, dtype: int64"
      ]
     },
     "execution_count": 5,
     "metadata": {},
     "output_type": "execute_result"
    }
   ],
   "source": [
    "# Посмотрим как распределились данные\n",
    "df[\"Пол\"].value_counts()"
   ]
  },
  {
   "cell_type": "markdown",
   "metadata": {},
   "source": [
    "**Промежуточный итог:**\n",
    "\n",
    "* Пропусков нет\n",
    "* в идеале поменять названия столбцов на змеиный регистр или верблюжий.\n",
    "* имеются 153 явных дубликатов (но так как в данной таблице нет уникального идентификатора, представленные данные скорее всего не дубликаты)\n",
    "* распределение почти равное, перевеса нет\n",
    "* минимальная зарплата в 5300 - грустно\n",
    "\n",
    "\n",
    "В остальном данные адекватные."
   ]
  },
  {
   "cell_type": "markdown",
   "metadata": {},
   "source": [
    "## Умножение матриц"
   ]
  },
  {
   "cell_type": "markdown",
   "metadata": {},
   "source": [
    "В этом задании вы можете записывать формулы в *Jupyter Notebook.*\n",
    "\n",
    "Чтобы записать формулу внутри текста, окружите её символами доллара \\\\$; если снаружи —  двойными символами \\\\$\\\\$. Эти формулы записываются на языке вёрстки *LaTeX.* \n",
    "\n",
    "Для примера мы записали формулы линейной регрессии. Можете их скопировать и отредактировать, чтобы решить задачу.\n",
    "\n",
    "Работать в *LaTeX* необязательно."
   ]
  },
  {
   "cell_type": "markdown",
   "metadata": {},
   "source": [
    "Обозначения:\n",
    "\n",
    "- $X$ — матрица признаков (нулевой столбец состоит из единиц)\n",
    "\n",
    "- $y$ — вектор целевого признака\n",
    "\n",
    "- $P$ — матрица, на которую умножаются признаки\n",
    "\n",
    "- $w$ — вектор весов линейной регрессии (нулевой элемент равен сдвигу)"
   ]
  },
  {
   "cell_type": "markdown",
   "metadata": {},
   "source": [
    "Предсказания:\n",
    "\n",
    "$$\n",
    "a = Xw\n",
    "$$\n",
    "\n",
    "Задача обучения:\n",
    "\n",
    "$$\n",
    "w = \\arg\\min_w MSE(Xw, y)\n",
    "$$\n",
    "\n",
    "Формула обучения:\n",
    "\n",
    "$$\n",
    "w = (X^T X)^{-1} X^T y\n",
    "$$"
   ]
  },
  {
   "cell_type": "markdown",
   "metadata": {},
   "source": [
    "**Признаки умножают на обратимую матрицу. Изменится ли качество линейной регрессии? (Её можно обучить заново.)**"
   ]
  },
  {
   "cell_type": "markdown",
   "metadata": {},
   "source": [
    "**Ответ:** Не изменится\n",
    "\n",
    "**Обоснование:** ..."
   ]
  },
  {
   "cell_type": "markdown",
   "metadata": {},
   "source": [
    "Признаки умножают на обратимую матрицу $P$ :\n",
    "\n",
    "$$\n",
    "w_1 = ((XP)^T XP)^{-1} (XP)^T y\n",
    "$$\n",
    "\n",
    "Раскроем скобки\n",
    "\n",
    "$$\n",
    "w_1 = (P^TX^T XP)^{-1} P^TX^T y\n",
    "$$\n",
    "\n",
    "Используем следующую формулу\n",
    "☑\n",
    "\n",
    "$$\n",
    "(A*B)^{-1} =  B^{-1} * A^{-1} \n",
    "$$\n",
    "где: $A$ и $B$ квадратные\n",
    "\n",
    "$P$, $P^T$ и $X$, $X^T$ - квадратные $=>$\n",
    "\n",
    "$$\n",
    "w_1 = P^{-1}(X^T X)^{-1} (P^T)^{-1}  P^TX^T y\n",
    "$$\n",
    "\n",
    "Умножение на обратную матрицу, равно еденичной матрице\n",
    "\n",
    "$$\n",
    "w_1 = P^{-1} (X^T X)^{-1} IX^T y\n",
    "$$\n",
    "\n",
    "Умножение матрицы на единичную, равно этой матрицы\n",
    "\n",
    "$$\n",
    "w_1 = P^{-1} (X^T X)^{-1} X^T y\n",
    "$$\n",
    "\n",
    "$$\n",
    "a_1=XPw_1\n",
    "$$\n",
    "\n",
    "$$\n",
    "a_1 = XP P^{-1} (X^T X)^{-1} X^T y\n",
    "$$\n",
    "\n",
    "$$\n",
    "a_1 = X (X^T X)^{-1} X^T y\n",
    "$$\n",
    "\n",
    "$$\n",
    "a_1 = Xw\n",
    "$$\n",
    "\n"
   ]
  },
  {
   "cell_type": "markdown",
   "metadata": {},
   "source": [
    "## Алгоритм преобразования"
   ]
  },
  {
   "cell_type": "markdown",
   "metadata": {},
   "source": [
    "Предложите алгоритм преобразования данных для решения задачи. Обоснуйте, почему качество линейной регрессии не поменяется."
   ]
  },
  {
   "cell_type": "markdown",
   "metadata": {},
   "source": [
    "**Алгоритм**\n",
    "\n",
    "Для кодирования нашей матрицы, умножим на **обратимую*** матрицу (4х4) и в результате должны получить новую матрицу (5000х4)"
   ]
  },
  {
   "cell_type": "markdown",
   "metadata": {},
   "source": [
    "**Обоснование:**"
   ]
  },
  {
   "cell_type": "code",
   "execution_count": 6,
   "metadata": {},
   "outputs": [],
   "source": [
    "# разобьем df на признаки и целевые признаки согласно заданию\n",
    "features = df.drop('Страховые выплаты', axis=1)\n",
    "target = df['Страховые выплаты']"
   ]
  },
  {
   "cell_type": "code",
   "execution_count": 7,
   "metadata": {},
   "outputs": [
    {
     "data": {
      "text/plain": [
       "array([[-0.20470766,  0.47894334, -0.51943872, -0.5557303 ],\n",
       "       [ 1.96578057,  1.39340583,  0.09290788,  0.28174615],\n",
       "       [ 0.76902257,  1.24643474,  1.00718936, -1.29622111],\n",
       "       [ 0.27499163,  0.22891288,  1.35291684,  0.88642934]])"
      ]
     },
     "execution_count": 7,
     "metadata": {},
     "output_type": "execute_result"
    }
   ],
   "source": [
    "# Размеры обратимой* матрицы завист от столбцов features и заполним их рандомными значениями\n",
    "state = np.random.RandomState(12345)\n",
    "inverse_matrix = state.normal(size=(features.shape[1],features.shape[1]))\n",
    "inverse_matrix"
   ]
  },
  {
   "cell_type": "markdown",
   "metadata": {},
   "source": [
    "try:\n",
    "    np.linalg.inv(inverse_matrix)\n",
    "except:\n",
    "    display('Матрица необратимая')"
   ]
  },
  {
   "cell_type": "code",
   "execution_count": 11,
   "metadata": {},
   "outputs": [],
   "source": [
    "rs = np.random.RandomState(42)\n",
    "def matrix_generator(features, rs):\n",
    "    m = rs.normal(size=(features.shape[1],features.shape[1]))\n",
    "    try:\n",
    "       np.linalg.inv(m)\n",
    "       return m\n",
    "    except:\n",
    "        return matrix_generator(features, rs)"
   ]
  },
  {
   "cell_type": "code",
   "execution_count": 8,
   "metadata": {},
   "outputs": [
    {
     "data": {
      "text/html": [
       "<div>\n",
       "<style scoped>\n",
       "    .dataframe tbody tr th:only-of-type {\n",
       "        vertical-align: middle;\n",
       "    }\n",
       "\n",
       "    .dataframe tbody tr th {\n",
       "        vertical-align: top;\n",
       "    }\n",
       "\n",
       "    .dataframe thead th {\n",
       "        text-align: right;\n",
       "    }\n",
       "</style>\n",
       "<table border=\"1\" class=\"dataframe\">\n",
       "  <thead>\n",
       "    <tr style=\"text-align: right;\">\n",
       "      <th></th>\n",
       "      <th>0</th>\n",
       "      <th>1</th>\n",
       "      <th>2</th>\n",
       "      <th>3</th>\n",
       "    </tr>\n",
       "  </thead>\n",
       "  <tbody>\n",
       "    <tr>\n",
       "      <th>0</th>\n",
       "      <td>38224.186641</td>\n",
       "      <td>61881.000420</td>\n",
       "      <td>49961.234837</td>\n",
       "      <td>-64280.684721</td>\n",
       "    </tr>\n",
       "    <tr>\n",
       "      <th>1</th>\n",
       "      <td>29313.558467</td>\n",
       "      <td>47428.845564</td>\n",
       "      <td>38278.822267</td>\n",
       "      <td>-49242.555394</td>\n",
       "    </tr>\n",
       "    <tr>\n",
       "      <th>2</th>\n",
       "      <td>16206.481556</td>\n",
       "      <td>26215.538233</td>\n",
       "      <td>21153.670838</td>\n",
       "      <td>-27212.472653</td>\n",
       "    </tr>\n",
       "    <tr>\n",
       "      <th>3</th>\n",
       "      <td>32110.072445</td>\n",
       "      <td>52006.047856</td>\n",
       "      <td>42004.453110</td>\n",
       "      <td>-54044.730722</td>\n",
       "    </tr>\n",
       "    <tr>\n",
       "      <th>4</th>\n",
       "      <td>20126.326163</td>\n",
       "      <td>32571.440926</td>\n",
       "      <td>26289.724215</td>\n",
       "      <td>-33824.037786</td>\n",
       "    </tr>\n",
       "    <tr>\n",
       "      <th>...</th>\n",
       "      <td>...</td>\n",
       "      <td>...</td>\n",
       "      <td>...</td>\n",
       "      <td>...</td>\n",
       "    </tr>\n",
       "    <tr>\n",
       "      <th>4995</th>\n",
       "      <td>27509.697503</td>\n",
       "      <td>44537.193278</td>\n",
       "      <td>35961.967320</td>\n",
       "      <td>-46265.431844</td>\n",
       "    </tr>\n",
       "    <tr>\n",
       "      <th>4996</th>\n",
       "      <td>40363.894074</td>\n",
       "      <td>65360.784898</td>\n",
       "      <td>52781.234122</td>\n",
       "      <td>-67911.520319</td>\n",
       "    </tr>\n",
       "    <tr>\n",
       "      <th>4997</th>\n",
       "      <td>26109.730637</td>\n",
       "      <td>42282.463506</td>\n",
       "      <td>34148.283213</td>\n",
       "      <td>-43934.487817</td>\n",
       "    </tr>\n",
       "    <tr>\n",
       "      <th>4998</th>\n",
       "      <td>25190.905401</td>\n",
       "      <td>40790.236490</td>\n",
       "      <td>32940.675278</td>\n",
       "      <td>-42378.128295</td>\n",
       "    </tr>\n",
       "    <tr>\n",
       "      <th>4999</th>\n",
       "      <td>31277.428385</td>\n",
       "      <td>50644.973517</td>\n",
       "      <td>40895.322817</td>\n",
       "      <td>-52618.357439</td>\n",
       "    </tr>\n",
       "  </tbody>\n",
       "</table>\n",
       "<p>5000 rows × 4 columns</p>\n",
       "</div>"
      ],
      "text/plain": [
       "                 0             1             2             3\n",
       "0     38224.186641  61881.000420  49961.234837 -64280.684721\n",
       "1     29313.558467  47428.845564  38278.822267 -49242.555394\n",
       "2     16206.481556  26215.538233  21153.670838 -27212.472653\n",
       "3     32110.072445  52006.047856  42004.453110 -54044.730722\n",
       "4     20126.326163  32571.440926  26289.724215 -33824.037786\n",
       "...            ...           ...           ...           ...\n",
       "4995  27509.697503  44537.193278  35961.967320 -46265.431844\n",
       "4996  40363.894074  65360.784898  52781.234122 -67911.520319\n",
       "4997  26109.730637  42282.463506  34148.283213 -43934.487817\n",
       "4998  25190.905401  40790.236490  32940.675278 -42378.128295\n",
       "4999  31277.428385  50644.973517  40895.322817 -52618.357439\n",
       "\n",
       "[5000 rows x 4 columns]"
      ]
     },
     "execution_count": 8,
     "metadata": {},
     "output_type": "execute_result"
    }
   ],
   "source": [
    "encrypted_features = features @ inverse_matrix\n",
    "encrypted_features"
   ]
  },
  {
   "cell_type": "markdown",
   "metadata": {},
   "source": [
    "Стоит помнить что в питоне есть несколько способов получить произведение матриц (`numpy.dot()`, `numpy.multiply()`, `numpy.matmul()`, через операторы  `*` и `@`), но нужно учитывать, что результаты некоторых из них могут отличаться.\n",
    "\n",
    "Выбирать нужно в зависимости от задач:\n",
    "* `numpy.multiply()` - это поэлементное перемножение матриц (новая матрица заполняется произведениями элементов с одинаковыми индексами), аналог оператора `*`\n",
    "\n",
    "* `numpy.matmul()` - аналог оператора `@`\n",
    "\n",
    "* `numpy.dot()` - на двумерных матрицах выдает тот же результат, что и `numpy.matmul()` и `@`, но на трехмерных и более многомерных матрицах результаты уже будут отличаться\n"
   ]
  },
  {
   "cell_type": "markdown",
   "metadata": {},
   "source": [
    "**Прмоежуточный вывод:**\n",
    "\n",
    "Количество столбцов и строк не изменилось (размер матрицы совпадает), можем проверять модели"
   ]
  },
  {
   "cell_type": "markdown",
   "metadata": {},
   "source": [
    "## Проверка алгоритма"
   ]
  },
  {
   "cell_type": "markdown",
   "metadata": {},
   "source": [
    "### Не зашифрованная"
   ]
  },
  {
   "cell_type": "code",
   "execution_count": 9,
   "metadata": {},
   "outputs": [
    {
     "name": "stdout",
     "output_type": "stream",
     "text": [
      "R2: 0.4249455028666801\n"
     ]
    }
   ],
   "source": [
    "model = LinearRegression()\n",
    "\n",
    "model.fit(features, target)\n",
    "\n",
    "predictions = model.predict(features)\n",
    "\n",
    "print('R2:', r2_score(target,predictions))"
   ]
  },
  {
   "cell_type": "markdown",
   "metadata": {},
   "source": [
    "### Зашифрованная"
   ]
  },
  {
   "cell_type": "code",
   "execution_count": 10,
   "metadata": {},
   "outputs": [
    {
     "name": "stdout",
     "output_type": "stream",
     "text": [
      "R2: 0.42494550286667687\n"
     ]
    }
   ],
   "source": [
    "model = LinearRegression()\n",
    "\n",
    "model.fit(encrypted_features, target)\n",
    "\n",
    "predictions = model.predict(encrypted_features)\n",
    "\n",
    "print('R2:', r2_score(target,predictions))"
   ]
  },
  {
   "cell_type": "markdown",
   "metadata": {},
   "source": [
    "## Вывод"
   ]
  },
  {
   "cell_type": "markdown",
   "metadata": {},
   "source": [
    "Качество модели практически не изменилось, есть небольшое отличие в e-16 (не совсем понимаю из-за чего может быть, возможно связано с размерностью зашифрованной таблицы, так как в оригинальной версии больше целых значений)"
   ]
  },
  {
   "cell_type": "markdown",
   "metadata": {},
   "source": [
    "## Чек-лист проверки"
   ]
  },
  {
   "cell_type": "markdown",
   "metadata": {},
   "source": [
    "Поставьте 'x' в выполненных пунктах. Далее нажмите Shift+Enter."
   ]
  },
  {
   "cell_type": "markdown",
   "metadata": {},
   "source": [
    "- [x]  Jupyter Notebook открыт\n",
    "- [x]  Весь код выполняется без ошибок\n",
    "- [x]  Ячейки с кодом расположены в порядке исполнения\n",
    "- [x]  Выполнен шаг 1: данные загружены\n",
    "- [x]  Выполнен шаг 2: получен ответ на вопрос об умножении матриц\n",
    "    - [x]  Указан правильный вариант ответа\n",
    "    - [x]  Вариант обоснован\n",
    "- [x]  Выполнен шаг 3: предложен алгоритм преобразования\n",
    "    - [x]  Алгоритм описан\n",
    "    - [x]  Алгоритм обоснован\n",
    "- [x]  Выполнен шаг 4: алгоритм проверен\n",
    "    - [x]  Алгоритм реализован\n",
    "    - [x]  Проведено сравнение качества моделей до и после преобразования"
   ]
  },
  {
   "cell_type": "code",
   "execution_count": null,
   "metadata": {},
   "outputs": [],
   "source": []
  }
 ],
 "metadata": {
  "ExecuteTimeLog": [
   {
    "duration": 363,
    "start_time": "2022-08-30T07:34:53.751Z"
   },
   {
    "duration": 91,
    "start_time": "2022-08-30T07:42:03.543Z"
   },
   {
    "duration": 33,
    "start_time": "2022-08-30T07:42:09.492Z"
   },
   {
    "duration": 4,
    "start_time": "2022-08-30T07:42:34.991Z"
   },
   {
    "duration": 41,
    "start_time": "2022-08-30T07:42:40.808Z"
   },
   {
    "duration": 33,
    "start_time": "2022-08-30T07:43:13.248Z"
   },
   {
    "duration": 3,
    "start_time": "2022-08-30T07:44:38.347Z"
   },
   {
    "duration": 5,
    "start_time": "2022-08-30T08:07:03.044Z"
   },
   {
    "duration": 45,
    "start_time": "2022-08-30T09:36:54.655Z"
   },
   {
    "duration": 5,
    "start_time": "2022-08-30T09:42:55.470Z"
   },
   {
    "duration": 3,
    "start_time": "2022-08-30T09:46:39.127Z"
   },
   {
    "duration": 10,
    "start_time": "2022-08-30T09:47:43.751Z"
   },
   {
    "duration": 644,
    "start_time": "2022-08-30T09:49:17.805Z"
   },
   {
    "duration": 16,
    "start_time": "2022-08-30T09:49:31.954Z"
   },
   {
    "duration": 8,
    "start_time": "2022-08-30T09:49:55.618Z"
   },
   {
    "duration": 4,
    "start_time": "2022-08-30T09:51:01.466Z"
   },
   {
    "duration": 13,
    "start_time": "2022-08-30T09:51:02.542Z"
   },
   {
    "duration": 1057,
    "start_time": "2022-08-30T09:51:12.342Z"
   },
   {
    "duration": 40,
    "start_time": "2022-08-30T09:51:13.401Z"
   },
   {
    "duration": 3,
    "start_time": "2022-08-30T09:51:13.443Z"
   },
   {
    "duration": 72,
    "start_time": "2022-08-30T09:51:13.448Z"
   },
   {
    "duration": 5,
    "start_time": "2022-08-30T09:51:13.522Z"
   },
   {
    "duration": 28,
    "start_time": "2022-08-30T09:51:13.528Z"
   },
   {
    "duration": 18,
    "start_time": "2022-08-30T09:51:13.557Z"
   },
   {
    "duration": 25,
    "start_time": "2022-08-30T09:51:13.576Z"
   },
   {
    "duration": 33,
    "start_time": "2022-08-30T09:51:13.602Z"
   },
   {
    "duration": 177,
    "start_time": "2022-08-30T09:51:13.636Z"
   },
   {
    "duration": 2,
    "start_time": "2022-08-30T09:51:26.253Z"
   },
   {
    "duration": 3,
    "start_time": "2022-08-30T09:51:40.074Z"
   },
   {
    "duration": 4,
    "start_time": "2022-08-30T09:55:20.084Z"
   },
   {
    "duration": 1137,
    "start_time": "2022-08-31T08:47:10.418Z"
   },
   {
    "duration": 90,
    "start_time": "2022-08-31T08:47:11.558Z"
   },
   {
    "duration": 5,
    "start_time": "2022-08-31T08:47:11.649Z"
   },
   {
    "duration": 66,
    "start_time": "2022-08-31T08:47:11.656Z"
   },
   {
    "duration": 5,
    "start_time": "2022-08-31T08:47:11.724Z"
   },
   {
    "duration": 12,
    "start_time": "2022-08-31T08:47:11.731Z"
   },
   {
    "duration": 11,
    "start_time": "2022-08-31T08:47:11.745Z"
   },
   {
    "duration": 17,
    "start_time": "2022-08-31T08:47:11.758Z"
   },
   {
    "duration": 129,
    "start_time": "2022-08-31T08:47:11.777Z"
   },
   {
    "duration": 103,
    "start_time": "2022-08-31T08:47:11.910Z"
   },
   {
    "duration": 5,
    "start_time": "2022-08-31T08:47:29.428Z"
   },
   {
    "duration": 1128,
    "start_time": "2022-08-31T08:47:52.004Z"
   },
   {
    "duration": 41,
    "start_time": "2022-08-31T08:47:53.134Z"
   },
   {
    "duration": 4,
    "start_time": "2022-08-31T08:47:53.177Z"
   },
   {
    "duration": 52,
    "start_time": "2022-08-31T08:47:53.183Z"
   },
   {
    "duration": 6,
    "start_time": "2022-08-31T08:47:53.237Z"
   },
   {
    "duration": 10,
    "start_time": "2022-08-31T08:47:53.245Z"
   },
   {
    "duration": 14,
    "start_time": "2022-08-31T08:47:53.257Z"
   },
   {
    "duration": 16,
    "start_time": "2022-08-31T08:47:53.273Z"
   },
   {
    "duration": 18,
    "start_time": "2022-08-31T08:47:53.303Z"
   },
   {
    "duration": 98,
    "start_time": "2022-08-31T08:47:53.407Z"
   },
   {
    "duration": 1259,
    "start_time": "2022-09-09T09:21:28.009Z"
   },
   {
    "duration": 105,
    "start_time": "2022-09-09T09:21:29.270Z"
   },
   {
    "duration": 6,
    "start_time": "2022-09-09T09:21:29.377Z"
   },
   {
    "duration": 76,
    "start_time": "2022-09-09T09:21:29.385Z"
   },
   {
    "duration": 6,
    "start_time": "2022-09-09T09:21:29.463Z"
   },
   {
    "duration": 21,
    "start_time": "2022-09-09T09:21:29.471Z"
   },
   {
    "duration": 7,
    "start_time": "2022-09-09T09:21:29.494Z"
   },
   {
    "duration": 19,
    "start_time": "2022-09-09T09:21:29.503Z"
   },
   {
    "duration": 71,
    "start_time": "2022-09-09T09:21:29.525Z"
   },
   {
    "duration": 102,
    "start_time": "2022-09-09T09:21:29.599Z"
   },
   {
    "duration": 7,
    "start_time": "2022-09-09T09:21:52.438Z"
   },
   {
    "duration": 1157,
    "start_time": "2022-09-09T09:21:57.776Z"
   },
   {
    "duration": 43,
    "start_time": "2022-09-09T09:21:58.935Z"
   },
   {
    "duration": 5,
    "start_time": "2022-09-09T09:21:58.980Z"
   },
   {
    "duration": 60,
    "start_time": "2022-09-09T09:21:58.988Z"
   },
   {
    "duration": 7,
    "start_time": "2022-09-09T09:21:59.049Z"
   },
   {
    "duration": 10,
    "start_time": "2022-09-09T09:21:59.058Z"
   },
   {
    "duration": 27,
    "start_time": "2022-09-09T09:21:59.070Z"
   },
   {
    "duration": 13,
    "start_time": "2022-09-09T09:21:59.099Z"
   },
   {
    "duration": 77,
    "start_time": "2022-09-09T09:21:59.114Z"
   },
   {
    "duration": 109,
    "start_time": "2022-09-09T09:21:59.195Z"
   },
   {
    "duration": 4,
    "start_time": "2022-09-09T09:43:23.851Z"
   }
  ],
  "kernelspec": {
   "display_name": "Python 3 (ipykernel)",
   "language": "python",
   "name": "python3"
  },
  "language_info": {
   "codemirror_mode": {
    "name": "ipython",
    "version": 3
   },
   "file_extension": ".py",
   "mimetype": "text/x-python",
   "name": "python",
   "nbconvert_exporter": "python",
   "pygments_lexer": "ipython3",
   "version": "3.9.13"
  },
  "toc": {
   "base_numbering": 1,
   "nav_menu": {},
   "number_sections": true,
   "sideBar": true,
   "skip_h1_title": true,
   "title_cell": "Содержание",
   "title_sidebar": "Contents",
   "toc_cell": true,
   "toc_position": {},
   "toc_section_display": true,
   "toc_window_display": true
  }
 },
 "nbformat": 4,
 "nbformat_minor": 2
}
