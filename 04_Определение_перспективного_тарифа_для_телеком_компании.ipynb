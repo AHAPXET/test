{
 "cells": [
  {
   "cell_type": "markdown",
   "metadata": {},
   "source": [
    "# Определение перспективного тарифа для телеком-компании"
   ]
  },
  {
   "cell_type": "markdown",
   "metadata": {},
   "source": [
    "## Введение"
   ]
  },
  {
   "cell_type": "markdown",
   "metadata": {},
   "source": [
    "\n",
    "**Заказчик** — коммерческий департамент компании «Мегалайн»\n",
    "\n",
    "**Цель исследования** \n",
    "\n",
    "* Определить какой тариф приносит больше денег \"Смарт\" или \"Ультра\"?\n",
    "\n",
    "\n",
    "**Входные данные**  — Данные 500 пользователей кто они, откуда, каким тарифом пользуются, сколько звонков и сообщений каждый отправил за 2018 год.\n",
    "\n",
    "\n",
    "**Результаты исследования** — проанализировать поведение клиентов и сделать вывод — какой тариф лучше."
   ]
  },
  {
   "cell_type": "markdown",
   "metadata": {},
   "source": [
    "## Описание тарифов\n",
    "\n",
    "**Тариф «Смарт»**\n",
    "1. Ежемесячная плата: 550 рублей\n",
    "2. Включено 500 минут разговора, 50 сообщений и 15 Гб интернет-трафика\n",
    "3. Стоимость услуг сверх тарифного пакета:\n",
    "* минута разговора: 3 рубля\n",
    "* сообщение: 3 рубля\n",
    "* 1 Гб интернет-трафика: 200 рублей\n",
    "\n",
    "**Тариф «Ультра»**\n",
    "1. Ежемесячная плата: 1950 рублей\n",
    "2. Включено 3000 минут разговора, 1000 сообщений и 30 Гб интернет-трафика\n",
    "3. Стоимость услуг сверх тарифного пакета:\n",
    "* минута разговора: 1 рубль\n",
    "* сообщение: 1 рубль\n",
    "* 1 Гб интернет-трафика: 150 рублей"
   ]
  },
  {
   "cell_type": "markdown",
   "metadata": {},
   "source": [
    "**Примечание**\n",
    "\n",
    "«Мегалайн» всегда округляет секунды до минут, а мегабайты — до гигабайт. Каждый звонок округляется отдельно: даже если он длился всего 1 секунду, будет засчитан как 1 минута.\n",
    "\n",
    "Для веб-трафика отдельные сессии не считаются. Вместо этого общая сумма за месяц округляется в бо́льшую сторону. Если абонент использует 1025 мегабайт в этом месяце, с него возьмут плату за 2 гигабайта. Примите, что неиспользованные за предыдущий месяц звонки, смс, интернет на следующий месяц не переносятся."
   ]
  },
  {
   "cell_type": "markdown",
   "metadata": {},
   "source": [
    "## Подготовка данных"
   ]
  },
  {
   "cell_type": "markdown",
   "metadata": {},
   "source": [
    "### Изучение данных"
   ]
  },
  {
   "cell_type": "code",
   "execution_count": 1,
   "metadata": {},
   "outputs": [],
   "source": [
    "# добавляем лучше место для хорошего... работы с данными - библиотеки\n",
    "import pandas as pd\n",
    "import matplotlib.pyplot as plt\n",
    "import numpy as np\n",
    "import scipy.stats as st\n",
    "import seaborn as sns"
   ]
  },
  {
   "cell_type": "code",
   "execution_count": 2,
   "metadata": {},
   "outputs": [],
   "source": [
    "# загрузка базы\n",
    "df_users = pd.read_csv('datasets/users.csv')\n",
    "df_calls = pd.read_csv('datasets/calls.csv')\n",
    "df_messages = pd.read_csv('datasets/messages.csv')\n",
    "df_internet = pd.read_csv('datasets/internet.csv')\n",
    "df_tariffs = pd.read_csv('datasets/tariffs.csv')\n",
    "\n",
    "\n"
   ]
  },
  {
   "cell_type": "markdown",
   "metadata": {},
   "source": [
    "Таблица `users` (информация о пользователях):\n",
    "* user_id — уникальный идентификатор пользователя\n",
    "* first_name — имя пользователя\n",
    "* last_name — фамилия пользователя\n",
    "* age — возраст пользователя (годы)\n",
    "* reg_date — дата подключения тарифа (день, месяц, год)\n",
    "* churn_date — дата прекращения пользования тарифом (если значение пропущено, то тариф ещё действовал на момент выгрузки данных)\n",
    "* city — город проживания пользователя\n",
    "* tariff — название тарифного плана\n",
    "\n",
    "Таблица `calls` (информация о звонках):\n",
    "* id — уникальный номер звонка\n",
    "* call_date — дата звонка\n",
    "* duration — длительность звонка в минутах\n",
    "* user_id — идентификатор пользователя, сделавшего звонок\n",
    "\n",
    "Таблица `messages` (информация о сообщениях):\n",
    "* id — уникальный номер сообщения\n",
    "* message_date — дата сообщения\n",
    "* user_id — идентификатор пользователя, отправившего сообщение\n",
    "\n",
    "Таблица `internet` (информация об интернет-сессиях):\n",
    "* id — уникальный номер сессии\n",
    "* mb_used — объём потраченного за сессию интернет-трафика (в мегабайтах)\n",
    "* session_date — дата интернет-сессии\n",
    "* user_id — идентификатор пользователя\n",
    "\n",
    "Таблица `tariffs` (информация о тарифах):\n",
    "* tariff_name — название тарифа\n",
    "* rub_monthly_fee — ежемесячная абонентская плата в рублях\n",
    "* minutes_included — количество минут разговора в месяц, включённых в абонентскую плату\n",
    "* messages_included — количество сообщений в месяц, включённых в абонентскую плату\n",
    "* mb_per_month_included — объём интернет-трафика, включённого в абонентскую плату (в мегабайтах)\n",
    "* rub_per_minute — стоимость минуты разговора сверх тарифного пакета (например, если в тарифе 100 минут разговора в месяц, то со * 101 минуты будет взиматься плата)\n",
    "* rub_per_message — стоимость отправки сообщения сверх тарифного пакета\n",
    "* rub_per_gb — стоимость дополнительного гигабайта интернет-трафика сверх тарифного пакета (1 гигабайт = 1024 мегабайта)\n",
    "\n"
   ]
  },
  {
   "cell_type": "code",
   "execution_count": 3,
   "metadata": {
    "scrolled": false
   },
   "outputs": [
    {
     "name": "stdout",
     "output_type": "stream",
     "text": [
      "информация о пользователях \n",
      "\n",
      "<class 'pandas.core.frame.DataFrame'>\n",
      "RangeIndex: 500 entries, 0 to 499\n",
      "Data columns (total 8 columns):\n",
      " #   Column      Non-Null Count  Dtype \n",
      "---  ------      --------------  ----- \n",
      " 0   user_id     500 non-null    int64 \n",
      " 1   age         500 non-null    int64 \n",
      " 2   churn_date  38 non-null     object\n",
      " 3   city        500 non-null    object\n",
      " 4   first_name  500 non-null    object\n",
      " 5   last_name   500 non-null    object\n",
      " 6   reg_date    500 non-null    object\n",
      " 7   tariff      500 non-null    object\n",
      "dtypes: int64(2), object(6)\n",
      "memory usage: 31.4+ KB\n"
     ]
    },
    {
     "data": {
      "text/html": [
       "<div>\n",
       "<style scoped>\n",
       "    .dataframe tbody tr th:only-of-type {\n",
       "        vertical-align: middle;\n",
       "    }\n",
       "\n",
       "    .dataframe tbody tr th {\n",
       "        vertical-align: top;\n",
       "    }\n",
       "\n",
       "    .dataframe thead th {\n",
       "        text-align: right;\n",
       "    }\n",
       "</style>\n",
       "<table border=\"1\" class=\"dataframe\">\n",
       "  <thead>\n",
       "    <tr style=\"text-align: right;\">\n",
       "      <th></th>\n",
       "      <th>user_id</th>\n",
       "      <th>age</th>\n",
       "      <th>churn_date</th>\n",
       "      <th>city</th>\n",
       "      <th>first_name</th>\n",
       "      <th>last_name</th>\n",
       "      <th>reg_date</th>\n",
       "      <th>tariff</th>\n",
       "    </tr>\n",
       "  </thead>\n",
       "  <tbody>\n",
       "    <tr>\n",
       "      <th>0</th>\n",
       "      <td>1000</td>\n",
       "      <td>52</td>\n",
       "      <td>NaN</td>\n",
       "      <td>Краснодар</td>\n",
       "      <td>Рафаил</td>\n",
       "      <td>Верещагин</td>\n",
       "      <td>2018-05-25</td>\n",
       "      <td>ultra</td>\n",
       "    </tr>\n",
       "    <tr>\n",
       "      <th>1</th>\n",
       "      <td>1001</td>\n",
       "      <td>41</td>\n",
       "      <td>NaN</td>\n",
       "      <td>Москва</td>\n",
       "      <td>Иван</td>\n",
       "      <td>Ежов</td>\n",
       "      <td>2018-11-01</td>\n",
       "      <td>smart</td>\n",
       "    </tr>\n",
       "    <tr>\n",
       "      <th>2</th>\n",
       "      <td>1002</td>\n",
       "      <td>59</td>\n",
       "      <td>NaN</td>\n",
       "      <td>Стерлитамак</td>\n",
       "      <td>Евгений</td>\n",
       "      <td>Абрамович</td>\n",
       "      <td>2018-06-17</td>\n",
       "      <td>smart</td>\n",
       "    </tr>\n",
       "    <tr>\n",
       "      <th>3</th>\n",
       "      <td>1003</td>\n",
       "      <td>23</td>\n",
       "      <td>NaN</td>\n",
       "      <td>Москва</td>\n",
       "      <td>Белла</td>\n",
       "      <td>Белякова</td>\n",
       "      <td>2018-08-17</td>\n",
       "      <td>ultra</td>\n",
       "    </tr>\n",
       "    <tr>\n",
       "      <th>4</th>\n",
       "      <td>1004</td>\n",
       "      <td>68</td>\n",
       "      <td>NaN</td>\n",
       "      <td>Новокузнецк</td>\n",
       "      <td>Татьяна</td>\n",
       "      <td>Авдеенко</td>\n",
       "      <td>2018-05-14</td>\n",
       "      <td>ultra</td>\n",
       "    </tr>\n",
       "  </tbody>\n",
       "</table>\n",
       "</div>"
      ],
      "text/plain": [
       "   user_id  age churn_date         city first_name  last_name    reg_date  \\\n",
       "0     1000   52        NaN    Краснодар     Рафаил  Верещагин  2018-05-25   \n",
       "1     1001   41        NaN       Москва       Иван       Ежов  2018-11-01   \n",
       "2     1002   59        NaN  Стерлитамак    Евгений  Абрамович  2018-06-17   \n",
       "3     1003   23        NaN       Москва      Белла   Белякова  2018-08-17   \n",
       "4     1004   68        NaN  Новокузнецк    Татьяна   Авдеенко  2018-05-14   \n",
       "\n",
       "  tariff  \n",
       "0  ultra  \n",
       "1  smart  \n",
       "2  smart  \n",
       "3  ultra  \n",
       "4  ultra  "
      ]
     },
     "metadata": {},
     "output_type": "display_data"
    },
    {
     "data": {
      "text/html": [
       "<div>\n",
       "<style scoped>\n",
       "    .dataframe tbody tr th:only-of-type {\n",
       "        vertical-align: middle;\n",
       "    }\n",
       "\n",
       "    .dataframe tbody tr th {\n",
       "        vertical-align: top;\n",
       "    }\n",
       "\n",
       "    .dataframe thead th {\n",
       "        text-align: right;\n",
       "    }\n",
       "</style>\n",
       "<table border=\"1\" class=\"dataframe\">\n",
       "  <thead>\n",
       "    <tr style=\"text-align: right;\">\n",
       "      <th></th>\n",
       "      <th>user_id</th>\n",
       "      <th>age</th>\n",
       "    </tr>\n",
       "  </thead>\n",
       "  <tbody>\n",
       "    <tr>\n",
       "      <th>count</th>\n",
       "      <td>500.000000</td>\n",
       "      <td>500.00000</td>\n",
       "    </tr>\n",
       "    <tr>\n",
       "      <th>mean</th>\n",
       "      <td>1249.500000</td>\n",
       "      <td>46.58800</td>\n",
       "    </tr>\n",
       "    <tr>\n",
       "      <th>std</th>\n",
       "      <td>144.481833</td>\n",
       "      <td>16.66763</td>\n",
       "    </tr>\n",
       "    <tr>\n",
       "      <th>min</th>\n",
       "      <td>1000.000000</td>\n",
       "      <td>18.00000</td>\n",
       "    </tr>\n",
       "    <tr>\n",
       "      <th>25%</th>\n",
       "      <td>1124.750000</td>\n",
       "      <td>32.00000</td>\n",
       "    </tr>\n",
       "    <tr>\n",
       "      <th>50%</th>\n",
       "      <td>1249.500000</td>\n",
       "      <td>46.00000</td>\n",
       "    </tr>\n",
       "    <tr>\n",
       "      <th>75%</th>\n",
       "      <td>1374.250000</td>\n",
       "      <td>62.00000</td>\n",
       "    </tr>\n",
       "    <tr>\n",
       "      <th>max</th>\n",
       "      <td>1499.000000</td>\n",
       "      <td>75.00000</td>\n",
       "    </tr>\n",
       "  </tbody>\n",
       "</table>\n",
       "</div>"
      ],
      "text/plain": [
       "           user_id        age\n",
       "count   500.000000  500.00000\n",
       "mean   1249.500000   46.58800\n",
       "std     144.481833   16.66763\n",
       "min    1000.000000   18.00000\n",
       "25%    1124.750000   32.00000\n",
       "50%    1249.500000   46.00000\n",
       "75%    1374.250000   62.00000\n",
       "max    1499.000000   75.00000"
      ]
     },
     "metadata": {},
     "output_type": "display_data"
    },
    {
     "name": "stdout",
     "output_type": "stream",
     "text": [
      "\n",
      "Число дубликатов: 0\n",
      "\n",
      "\n",
      "информация о звонках \n",
      "\n",
      "<class 'pandas.core.frame.DataFrame'>\n",
      "RangeIndex: 202607 entries, 0 to 202606\n",
      "Data columns (total 4 columns):\n",
      " #   Column     Non-Null Count   Dtype  \n",
      "---  ------     --------------   -----  \n",
      " 0   id         202607 non-null  object \n",
      " 1   call_date  202607 non-null  object \n",
      " 2   duration   202607 non-null  float64\n",
      " 3   user_id    202607 non-null  int64  \n",
      "dtypes: float64(1), int64(1), object(2)\n",
      "memory usage: 6.2+ MB\n"
     ]
    },
    {
     "data": {
      "text/html": [
       "<div>\n",
       "<style scoped>\n",
       "    .dataframe tbody tr th:only-of-type {\n",
       "        vertical-align: middle;\n",
       "    }\n",
       "\n",
       "    .dataframe tbody tr th {\n",
       "        vertical-align: top;\n",
       "    }\n",
       "\n",
       "    .dataframe thead th {\n",
       "        text-align: right;\n",
       "    }\n",
       "</style>\n",
       "<table border=\"1\" class=\"dataframe\">\n",
       "  <thead>\n",
       "    <tr style=\"text-align: right;\">\n",
       "      <th></th>\n",
       "      <th>id</th>\n",
       "      <th>call_date</th>\n",
       "      <th>duration</th>\n",
       "      <th>user_id</th>\n",
       "    </tr>\n",
       "  </thead>\n",
       "  <tbody>\n",
       "    <tr>\n",
       "      <th>0</th>\n",
       "      <td>1000_0</td>\n",
       "      <td>2018-07-25</td>\n",
       "      <td>0.00</td>\n",
       "      <td>1000</td>\n",
       "    </tr>\n",
       "    <tr>\n",
       "      <th>1</th>\n",
       "      <td>1000_1</td>\n",
       "      <td>2018-08-17</td>\n",
       "      <td>0.00</td>\n",
       "      <td>1000</td>\n",
       "    </tr>\n",
       "    <tr>\n",
       "      <th>2</th>\n",
       "      <td>1000_2</td>\n",
       "      <td>2018-06-11</td>\n",
       "      <td>2.85</td>\n",
       "      <td>1000</td>\n",
       "    </tr>\n",
       "    <tr>\n",
       "      <th>3</th>\n",
       "      <td>1000_3</td>\n",
       "      <td>2018-09-21</td>\n",
       "      <td>13.80</td>\n",
       "      <td>1000</td>\n",
       "    </tr>\n",
       "    <tr>\n",
       "      <th>4</th>\n",
       "      <td>1000_4</td>\n",
       "      <td>2018-12-15</td>\n",
       "      <td>5.18</td>\n",
       "      <td>1000</td>\n",
       "    </tr>\n",
       "  </tbody>\n",
       "</table>\n",
       "</div>"
      ],
      "text/plain": [
       "       id   call_date  duration  user_id\n",
       "0  1000_0  2018-07-25      0.00     1000\n",
       "1  1000_1  2018-08-17      0.00     1000\n",
       "2  1000_2  2018-06-11      2.85     1000\n",
       "3  1000_3  2018-09-21     13.80     1000\n",
       "4  1000_4  2018-12-15      5.18     1000"
      ]
     },
     "metadata": {},
     "output_type": "display_data"
    },
    {
     "data": {
      "text/html": [
       "<div>\n",
       "<style scoped>\n",
       "    .dataframe tbody tr th:only-of-type {\n",
       "        vertical-align: middle;\n",
       "    }\n",
       "\n",
       "    .dataframe tbody tr th {\n",
       "        vertical-align: top;\n",
       "    }\n",
       "\n",
       "    .dataframe thead th {\n",
       "        text-align: right;\n",
       "    }\n",
       "</style>\n",
       "<table border=\"1\" class=\"dataframe\">\n",
       "  <thead>\n",
       "    <tr style=\"text-align: right;\">\n",
       "      <th></th>\n",
       "      <th>duration</th>\n",
       "      <th>user_id</th>\n",
       "    </tr>\n",
       "  </thead>\n",
       "  <tbody>\n",
       "    <tr>\n",
       "      <th>count</th>\n",
       "      <td>202607.000000</td>\n",
       "      <td>202607.000000</td>\n",
       "    </tr>\n",
       "    <tr>\n",
       "      <th>mean</th>\n",
       "      <td>6.755887</td>\n",
       "      <td>1253.940619</td>\n",
       "    </tr>\n",
       "    <tr>\n",
       "      <th>std</th>\n",
       "      <td>5.843365</td>\n",
       "      <td>144.722751</td>\n",
       "    </tr>\n",
       "    <tr>\n",
       "      <th>min</th>\n",
       "      <td>0.000000</td>\n",
       "      <td>1000.000000</td>\n",
       "    </tr>\n",
       "    <tr>\n",
       "      <th>25%</th>\n",
       "      <td>1.300000</td>\n",
       "      <td>1126.000000</td>\n",
       "    </tr>\n",
       "    <tr>\n",
       "      <th>50%</th>\n",
       "      <td>6.000000</td>\n",
       "      <td>1260.000000</td>\n",
       "    </tr>\n",
       "    <tr>\n",
       "      <th>75%</th>\n",
       "      <td>10.700000</td>\n",
       "      <td>1379.000000</td>\n",
       "    </tr>\n",
       "    <tr>\n",
       "      <th>max</th>\n",
       "      <td>38.000000</td>\n",
       "      <td>1499.000000</td>\n",
       "    </tr>\n",
       "  </tbody>\n",
       "</table>\n",
       "</div>"
      ],
      "text/plain": [
       "            duration        user_id\n",
       "count  202607.000000  202607.000000\n",
       "mean        6.755887    1253.940619\n",
       "std         5.843365     144.722751\n",
       "min         0.000000    1000.000000\n",
       "25%         1.300000    1126.000000\n",
       "50%         6.000000    1260.000000\n",
       "75%        10.700000    1379.000000\n",
       "max        38.000000    1499.000000"
      ]
     },
     "metadata": {},
     "output_type": "display_data"
    },
    {
     "name": "stdout",
     "output_type": "stream",
     "text": [
      "\n",
      "Число дубликатов: 0\n",
      "\n",
      "\n",
      "информация о сообщениях \n",
      "\n",
      "<class 'pandas.core.frame.DataFrame'>\n",
      "RangeIndex: 123036 entries, 0 to 123035\n",
      "Data columns (total 3 columns):\n",
      " #   Column        Non-Null Count   Dtype \n",
      "---  ------        --------------   ----- \n",
      " 0   id            123036 non-null  object\n",
      " 1   message_date  123036 non-null  object\n",
      " 2   user_id       123036 non-null  int64 \n",
      "dtypes: int64(1), object(2)\n",
      "memory usage: 2.8+ MB\n"
     ]
    },
    {
     "data": {
      "text/html": [
       "<div>\n",
       "<style scoped>\n",
       "    .dataframe tbody tr th:only-of-type {\n",
       "        vertical-align: middle;\n",
       "    }\n",
       "\n",
       "    .dataframe tbody tr th {\n",
       "        vertical-align: top;\n",
       "    }\n",
       "\n",
       "    .dataframe thead th {\n",
       "        text-align: right;\n",
       "    }\n",
       "</style>\n",
       "<table border=\"1\" class=\"dataframe\">\n",
       "  <thead>\n",
       "    <tr style=\"text-align: right;\">\n",
       "      <th></th>\n",
       "      <th>id</th>\n",
       "      <th>message_date</th>\n",
       "      <th>user_id</th>\n",
       "    </tr>\n",
       "  </thead>\n",
       "  <tbody>\n",
       "    <tr>\n",
       "      <th>0</th>\n",
       "      <td>1000_0</td>\n",
       "      <td>2018-06-27</td>\n",
       "      <td>1000</td>\n",
       "    </tr>\n",
       "    <tr>\n",
       "      <th>1</th>\n",
       "      <td>1000_1</td>\n",
       "      <td>2018-10-08</td>\n",
       "      <td>1000</td>\n",
       "    </tr>\n",
       "    <tr>\n",
       "      <th>2</th>\n",
       "      <td>1000_2</td>\n",
       "      <td>2018-08-04</td>\n",
       "      <td>1000</td>\n",
       "    </tr>\n",
       "    <tr>\n",
       "      <th>3</th>\n",
       "      <td>1000_3</td>\n",
       "      <td>2018-06-16</td>\n",
       "      <td>1000</td>\n",
       "    </tr>\n",
       "    <tr>\n",
       "      <th>4</th>\n",
       "      <td>1000_4</td>\n",
       "      <td>2018-12-05</td>\n",
       "      <td>1000</td>\n",
       "    </tr>\n",
       "  </tbody>\n",
       "</table>\n",
       "</div>"
      ],
      "text/plain": [
       "       id message_date  user_id\n",
       "0  1000_0   2018-06-27     1000\n",
       "1  1000_1   2018-10-08     1000\n",
       "2  1000_2   2018-08-04     1000\n",
       "3  1000_3   2018-06-16     1000\n",
       "4  1000_4   2018-12-05     1000"
      ]
     },
     "metadata": {},
     "output_type": "display_data"
    },
    {
     "data": {
      "text/html": [
       "<div>\n",
       "<style scoped>\n",
       "    .dataframe tbody tr th:only-of-type {\n",
       "        vertical-align: middle;\n",
       "    }\n",
       "\n",
       "    .dataframe tbody tr th {\n",
       "        vertical-align: top;\n",
       "    }\n",
       "\n",
       "    .dataframe thead th {\n",
       "        text-align: right;\n",
       "    }\n",
       "</style>\n",
       "<table border=\"1\" class=\"dataframe\">\n",
       "  <thead>\n",
       "    <tr style=\"text-align: right;\">\n",
       "      <th></th>\n",
       "      <th>user_id</th>\n",
       "    </tr>\n",
       "  </thead>\n",
       "  <tbody>\n",
       "    <tr>\n",
       "      <th>count</th>\n",
       "      <td>123036.000000</td>\n",
       "    </tr>\n",
       "    <tr>\n",
       "      <th>mean</th>\n",
       "      <td>1256.989410</td>\n",
       "    </tr>\n",
       "    <tr>\n",
       "      <th>std</th>\n",
       "      <td>143.523967</td>\n",
       "    </tr>\n",
       "    <tr>\n",
       "      <th>min</th>\n",
       "      <td>1000.000000</td>\n",
       "    </tr>\n",
       "    <tr>\n",
       "      <th>25%</th>\n",
       "      <td>1134.000000</td>\n",
       "    </tr>\n",
       "    <tr>\n",
       "      <th>50%</th>\n",
       "      <td>1271.000000</td>\n",
       "    </tr>\n",
       "    <tr>\n",
       "      <th>75%</th>\n",
       "      <td>1381.000000</td>\n",
       "    </tr>\n",
       "    <tr>\n",
       "      <th>max</th>\n",
       "      <td>1499.000000</td>\n",
       "    </tr>\n",
       "  </tbody>\n",
       "</table>\n",
       "</div>"
      ],
      "text/plain": [
       "             user_id\n",
       "count  123036.000000\n",
       "mean     1256.989410\n",
       "std       143.523967\n",
       "min      1000.000000\n",
       "25%      1134.000000\n",
       "50%      1271.000000\n",
       "75%      1381.000000\n",
       "max      1499.000000"
      ]
     },
     "metadata": {},
     "output_type": "display_data"
    },
    {
     "name": "stdout",
     "output_type": "stream",
     "text": [
      "\n",
      "Число дубликатов: 0\n",
      "\n",
      "\n",
      "информация об интернет-сессиях \n",
      "\n",
      "<class 'pandas.core.frame.DataFrame'>\n",
      "RangeIndex: 149396 entries, 0 to 149395\n",
      "Data columns (total 5 columns):\n",
      " #   Column        Non-Null Count   Dtype  \n",
      "---  ------        --------------   -----  \n",
      " 0   Unnamed: 0    149396 non-null  int64  \n",
      " 1   id            149396 non-null  object \n",
      " 2   mb_used       149396 non-null  float64\n",
      " 3   session_date  149396 non-null  object \n",
      " 4   user_id       149396 non-null  int64  \n",
      "dtypes: float64(1), int64(2), object(2)\n",
      "memory usage: 5.7+ MB\n"
     ]
    },
    {
     "data": {
      "text/html": [
       "<div>\n",
       "<style scoped>\n",
       "    .dataframe tbody tr th:only-of-type {\n",
       "        vertical-align: middle;\n",
       "    }\n",
       "\n",
       "    .dataframe tbody tr th {\n",
       "        vertical-align: top;\n",
       "    }\n",
       "\n",
       "    .dataframe thead th {\n",
       "        text-align: right;\n",
       "    }\n",
       "</style>\n",
       "<table border=\"1\" class=\"dataframe\">\n",
       "  <thead>\n",
       "    <tr style=\"text-align: right;\">\n",
       "      <th></th>\n",
       "      <th>Unnamed: 0</th>\n",
       "      <th>id</th>\n",
       "      <th>mb_used</th>\n",
       "      <th>session_date</th>\n",
       "      <th>user_id</th>\n",
       "    </tr>\n",
       "  </thead>\n",
       "  <tbody>\n",
       "    <tr>\n",
       "      <th>0</th>\n",
       "      <td>0</td>\n",
       "      <td>1000_0</td>\n",
       "      <td>112.95</td>\n",
       "      <td>2018-11-25</td>\n",
       "      <td>1000</td>\n",
       "    </tr>\n",
       "    <tr>\n",
       "      <th>1</th>\n",
       "      <td>1</td>\n",
       "      <td>1000_1</td>\n",
       "      <td>1052.81</td>\n",
       "      <td>2018-09-07</td>\n",
       "      <td>1000</td>\n",
       "    </tr>\n",
       "    <tr>\n",
       "      <th>2</th>\n",
       "      <td>2</td>\n",
       "      <td>1000_2</td>\n",
       "      <td>1197.26</td>\n",
       "      <td>2018-06-25</td>\n",
       "      <td>1000</td>\n",
       "    </tr>\n",
       "    <tr>\n",
       "      <th>3</th>\n",
       "      <td>3</td>\n",
       "      <td>1000_3</td>\n",
       "      <td>550.27</td>\n",
       "      <td>2018-08-22</td>\n",
       "      <td>1000</td>\n",
       "    </tr>\n",
       "    <tr>\n",
       "      <th>4</th>\n",
       "      <td>4</td>\n",
       "      <td>1000_4</td>\n",
       "      <td>302.56</td>\n",
       "      <td>2018-09-24</td>\n",
       "      <td>1000</td>\n",
       "    </tr>\n",
       "  </tbody>\n",
       "</table>\n",
       "</div>"
      ],
      "text/plain": [
       "   Unnamed: 0      id  mb_used session_date  user_id\n",
       "0           0  1000_0   112.95   2018-11-25     1000\n",
       "1           1  1000_1  1052.81   2018-09-07     1000\n",
       "2           2  1000_2  1197.26   2018-06-25     1000\n",
       "3           3  1000_3   550.27   2018-08-22     1000\n",
       "4           4  1000_4   302.56   2018-09-24     1000"
      ]
     },
     "metadata": {},
     "output_type": "display_data"
    },
    {
     "data": {
      "text/html": [
       "<div>\n",
       "<style scoped>\n",
       "    .dataframe tbody tr th:only-of-type {\n",
       "        vertical-align: middle;\n",
       "    }\n",
       "\n",
       "    .dataframe tbody tr th {\n",
       "        vertical-align: top;\n",
       "    }\n",
       "\n",
       "    .dataframe thead th {\n",
       "        text-align: right;\n",
       "    }\n",
       "</style>\n",
       "<table border=\"1\" class=\"dataframe\">\n",
       "  <thead>\n",
       "    <tr style=\"text-align: right;\">\n",
       "      <th></th>\n",
       "      <th>Unnamed: 0</th>\n",
       "      <th>mb_used</th>\n",
       "      <th>user_id</th>\n",
       "    </tr>\n",
       "  </thead>\n",
       "  <tbody>\n",
       "    <tr>\n",
       "      <th>count</th>\n",
       "      <td>149396.000000</td>\n",
       "      <td>149396.000000</td>\n",
       "      <td>149396.000000</td>\n",
       "    </tr>\n",
       "    <tr>\n",
       "      <th>mean</th>\n",
       "      <td>74697.500000</td>\n",
       "      <td>370.192426</td>\n",
       "      <td>1252.099842</td>\n",
       "    </tr>\n",
       "    <tr>\n",
       "      <th>std</th>\n",
       "      <td>43127.054745</td>\n",
       "      <td>278.300951</td>\n",
       "      <td>144.050823</td>\n",
       "    </tr>\n",
       "    <tr>\n",
       "      <th>min</th>\n",
       "      <td>0.000000</td>\n",
       "      <td>0.000000</td>\n",
       "      <td>1000.000000</td>\n",
       "    </tr>\n",
       "    <tr>\n",
       "      <th>25%</th>\n",
       "      <td>37348.750000</td>\n",
       "      <td>138.187500</td>\n",
       "      <td>1130.000000</td>\n",
       "    </tr>\n",
       "    <tr>\n",
       "      <th>50%</th>\n",
       "      <td>74697.500000</td>\n",
       "      <td>348.015000</td>\n",
       "      <td>1251.000000</td>\n",
       "    </tr>\n",
       "    <tr>\n",
       "      <th>75%</th>\n",
       "      <td>112046.250000</td>\n",
       "      <td>559.552500</td>\n",
       "      <td>1380.000000</td>\n",
       "    </tr>\n",
       "    <tr>\n",
       "      <th>max</th>\n",
       "      <td>149395.000000</td>\n",
       "      <td>1724.830000</td>\n",
       "      <td>1499.000000</td>\n",
       "    </tr>\n",
       "  </tbody>\n",
       "</table>\n",
       "</div>"
      ],
      "text/plain": [
       "          Unnamed: 0        mb_used        user_id\n",
       "count  149396.000000  149396.000000  149396.000000\n",
       "mean    74697.500000     370.192426    1252.099842\n",
       "std     43127.054745     278.300951     144.050823\n",
       "min         0.000000       0.000000    1000.000000\n",
       "25%     37348.750000     138.187500    1130.000000\n",
       "50%     74697.500000     348.015000    1251.000000\n",
       "75%    112046.250000     559.552500    1380.000000\n",
       "max    149395.000000    1724.830000    1499.000000"
      ]
     },
     "metadata": {},
     "output_type": "display_data"
    },
    {
     "name": "stdout",
     "output_type": "stream",
     "text": [
      "\n",
      "Число дубликатов: 0\n",
      "\n",
      "\n",
      "информация о тарифах \n",
      "\n",
      "<class 'pandas.core.frame.DataFrame'>\n",
      "RangeIndex: 2 entries, 0 to 1\n",
      "Data columns (total 8 columns):\n",
      " #   Column                 Non-Null Count  Dtype \n",
      "---  ------                 --------------  ----- \n",
      " 0   messages_included      2 non-null      int64 \n",
      " 1   mb_per_month_included  2 non-null      int64 \n",
      " 2   minutes_included       2 non-null      int64 \n",
      " 3   rub_monthly_fee        2 non-null      int64 \n",
      " 4   rub_per_gb             2 non-null      int64 \n",
      " 5   rub_per_message        2 non-null      int64 \n",
      " 6   rub_per_minute         2 non-null      int64 \n",
      " 7   tariff_name            2 non-null      object\n",
      "dtypes: int64(7), object(1)\n",
      "memory usage: 256.0+ bytes\n"
     ]
    },
    {
     "data": {
      "text/html": [
       "<div>\n",
       "<style scoped>\n",
       "    .dataframe tbody tr th:only-of-type {\n",
       "        vertical-align: middle;\n",
       "    }\n",
       "\n",
       "    .dataframe tbody tr th {\n",
       "        vertical-align: top;\n",
       "    }\n",
       "\n",
       "    .dataframe thead th {\n",
       "        text-align: right;\n",
       "    }\n",
       "</style>\n",
       "<table border=\"1\" class=\"dataframe\">\n",
       "  <thead>\n",
       "    <tr style=\"text-align: right;\">\n",
       "      <th></th>\n",
       "      <th>messages_included</th>\n",
       "      <th>mb_per_month_included</th>\n",
       "      <th>minutes_included</th>\n",
       "      <th>rub_monthly_fee</th>\n",
       "      <th>rub_per_gb</th>\n",
       "      <th>rub_per_message</th>\n",
       "      <th>rub_per_minute</th>\n",
       "      <th>tariff_name</th>\n",
       "    </tr>\n",
       "  </thead>\n",
       "  <tbody>\n",
       "    <tr>\n",
       "      <th>0</th>\n",
       "      <td>50</td>\n",
       "      <td>15360</td>\n",
       "      <td>500</td>\n",
       "      <td>550</td>\n",
       "      <td>200</td>\n",
       "      <td>3</td>\n",
       "      <td>3</td>\n",
       "      <td>smart</td>\n",
       "    </tr>\n",
       "    <tr>\n",
       "      <th>1</th>\n",
       "      <td>1000</td>\n",
       "      <td>30720</td>\n",
       "      <td>3000</td>\n",
       "      <td>1950</td>\n",
       "      <td>150</td>\n",
       "      <td>1</td>\n",
       "      <td>1</td>\n",
       "      <td>ultra</td>\n",
       "    </tr>\n",
       "  </tbody>\n",
       "</table>\n",
       "</div>"
      ],
      "text/plain": [
       "   messages_included  mb_per_month_included  minutes_included  \\\n",
       "0                 50                  15360               500   \n",
       "1               1000                  30720              3000   \n",
       "\n",
       "   rub_monthly_fee  rub_per_gb  rub_per_message  rub_per_minute tariff_name  \n",
       "0              550         200                3               3       smart  \n",
       "1             1950         150                1               1       ultra  "
      ]
     },
     "metadata": {},
     "output_type": "display_data"
    },
    {
     "name": "stdout",
     "output_type": "stream",
     "text": [
      "\n",
      "Число дубликатов: 0\n",
      "\n",
      "\n"
     ]
    }
   ],
   "source": [
    "#Посмотрим каждую таблицу отдельно\n",
    "\n",
    "print('информация о пользователях', '\\n')\n",
    "df_users.info()\n",
    "display(df_users.head())\n",
    "display(df_users.describe())\n",
    "print()\n",
    "print('Число дубликатов:', df_users.duplicated().sum())\n",
    "print()\n",
    "print()\n",
    "# Проблем в наименование столбцов нет. есть пропуски в churn_date (те кто не прервал, надо глянуть кто прервал). \n",
    "# reg_date в  формате object, а должен в datetime. tariff стоит проверить какие данные пишутся\n",
    "\n",
    "print('информация о звонках', '\\n')\n",
    "df_calls.info()\n",
    "display(df_calls.head())\n",
    "display(df_calls.describe())\n",
    "print()\n",
    "print('Число дубликатов:', df_calls.duplicated().sum())\n",
    "print()\n",
    "print()\n",
    "# Проблем в наименование столбцов нет. что-то странное с id. call_date в  формате object, а должен в datetime.\n",
    "\n",
    "print('информация о сообщениях', '\\n')\n",
    "df_messages.info()\n",
    "display(df_messages.head())\n",
    "display(df_messages.describe())\n",
    "print()\n",
    "print('Число дубликатов:', df_messages.duplicated().sum())\n",
    "print()\n",
    "print()\n",
    "# Проблем в наименование столбцов нет. что-то странное с id. message_date в  формате object, а должен в datetime.\n",
    "\n",
    "print('информация об интернет-сессиях', '\\n')\n",
    "df_internet.info()\n",
    "display(df_internet.head())\n",
    "display(df_internet.describe())\n",
    "print()\n",
    "print('Число дубликатов:', df_internet.duplicated().sum())\n",
    "print()\n",
    "print()\n",
    "# Проблем в наименование столбцов нет. непонятный столбец Unnamed: 0. что-то странное с id. \n",
    "# session_date в  формате object, а должен в datetime.\n",
    "\n",
    "print('информация о тарифах', '\\n')\n",
    "df_tariffs.info()\n",
    "display(df_tariffs.head())\n",
    "print()\n",
    "print('Число дубликатов:', df_tariffs.duplicated().sum())\n",
    "print()\n",
    "print()\n",
    "# Явных проблем нет.\n",
    "\n"
   ]
  },
  {
   "cell_type": "markdown",
   "metadata": {},
   "source": [
    "**Промежуточный вывод:**\n",
    "\n",
    "* Проблем с наименованием столбцов **нет**\n",
    "* Есть вопросы по столбцам **id** в таблицах: `df_calls`, `df_messages`\n",
    "* Подозрительный столбец **Unnamed: 0** в таблице: `df_internet`\n",
    "* Проблема с **форматом даты** в таблицах: `df_calls`, `df_messages`, `df_internet`, `df_tariffs`\n",
    "* Явных дубликатов нет\n"
   ]
  },
  {
   "cell_type": "markdown",
   "metadata": {},
   "source": [
    "### Предобработка данных"
   ]
  },
  {
   "cell_type": "markdown",
   "metadata": {},
   "source": [
    "Звонки с нулевой продолжительностью - это не ошибка: нулями обозначены пропущенные звонки, поэтому их не нужно удалять."
   ]
  },
  {
   "cell_type": "markdown",
   "metadata": {},
   "source": [
    "Подсчитать:\n",
    "* количество сделанных звонков и израсходованных минут разговора по месяцам;\n",
    "* количество отправленных сообщений по месяцам;\n",
    "* объем израсходованного интернет-трафика по месяцам;\n",
    "* помесячную выручку с каждого пользователя (вычтите бесплатный лимит из суммарного количества звонков, сообщений и интернет-* трафика; остаток умножьте на значение из тарифного плана; прибавьте абонентскую плату, соответствующую тарифному плану).\n",
    "\n",
    "Для подсчета нам необходим дополнительный столбец - **месяц**\n",
    "\n",
    "Пройдем с точечной првоеркой/изменениями по каждому df"
   ]
  },
  {
   "cell_type": "code",
   "execution_count": 4,
   "metadata": {
    "scrolled": true
   },
   "outputs": [
    {
     "name": "stdout",
     "output_type": "stream",
     "text": [
      "<class 'pandas.core.frame.DataFrame'>\n",
      "RangeIndex: 500 entries, 0 to 499\n",
      "Data columns (total 8 columns):\n",
      " #   Column      Non-Null Count  Dtype \n",
      "---  ------      --------------  ----- \n",
      " 0   user_id     500 non-null    int64 \n",
      " 1   age         500 non-null    int64 \n",
      " 2   churn_date  38 non-null     object\n",
      " 3   city        500 non-null    object\n",
      " 4   first_name  500 non-null    object\n",
      " 5   last_name   500 non-null    object\n",
      " 6   reg_date    500 non-null    object\n",
      " 7   tariff      500 non-null    object\n",
      "dtypes: int64(2), object(6)\n",
      "memory usage: 31.4+ KB\n"
     ]
    },
    {
     "data": {
      "text/html": [
       "<div>\n",
       "<style scoped>\n",
       "    .dataframe tbody tr th:only-of-type {\n",
       "        vertical-align: middle;\n",
       "    }\n",
       "\n",
       "    .dataframe tbody tr th {\n",
       "        vertical-align: top;\n",
       "    }\n",
       "\n",
       "    .dataframe thead th {\n",
       "        text-align: right;\n",
       "    }\n",
       "</style>\n",
       "<table border=\"1\" class=\"dataframe\">\n",
       "  <thead>\n",
       "    <tr style=\"text-align: right;\">\n",
       "      <th></th>\n",
       "      <th>user_id</th>\n",
       "      <th>age</th>\n",
       "      <th>churn_date</th>\n",
       "      <th>city</th>\n",
       "      <th>first_name</th>\n",
       "      <th>last_name</th>\n",
       "      <th>reg_date</th>\n",
       "      <th>tariff</th>\n",
       "    </tr>\n",
       "  </thead>\n",
       "  <tbody>\n",
       "    <tr>\n",
       "      <th>19</th>\n",
       "      <td>1019</td>\n",
       "      <td>63</td>\n",
       "      <td>2018-10-05</td>\n",
       "      <td>Томск</td>\n",
       "      <td>Игнатий</td>\n",
       "      <td>Круглов</td>\n",
       "      <td>2018-05-16</td>\n",
       "      <td>ultra</td>\n",
       "    </tr>\n",
       "    <tr>\n",
       "      <th>20</th>\n",
       "      <td>1020</td>\n",
       "      <td>59</td>\n",
       "      <td>2018-12-18</td>\n",
       "      <td>Чита</td>\n",
       "      <td>Тала</td>\n",
       "      <td>Костина</td>\n",
       "      <td>2018-10-22</td>\n",
       "      <td>smart</td>\n",
       "    </tr>\n",
       "    <tr>\n",
       "      <th>34</th>\n",
       "      <td>1034</td>\n",
       "      <td>66</td>\n",
       "      <td>2018-11-21</td>\n",
       "      <td>Вологда</td>\n",
       "      <td>Святослав</td>\n",
       "      <td>Бондарев</td>\n",
       "      <td>2018-08-26</td>\n",
       "      <td>smart</td>\n",
       "    </tr>\n",
       "    <tr>\n",
       "      <th>50</th>\n",
       "      <td>1050</td>\n",
       "      <td>44</td>\n",
       "      <td>2018-10-03</td>\n",
       "      <td>Тюмень</td>\n",
       "      <td>Рузана</td>\n",
       "      <td>Аничкина</td>\n",
       "      <td>2018-06-16</td>\n",
       "      <td>ultra</td>\n",
       "    </tr>\n",
       "    <tr>\n",
       "      <th>51</th>\n",
       "      <td>1051</td>\n",
       "      <td>37</td>\n",
       "      <td>2018-10-14</td>\n",
       "      <td>Москва</td>\n",
       "      <td>Кристина</td>\n",
       "      <td>Сомова</td>\n",
       "      <td>2018-05-28</td>\n",
       "      <td>smart</td>\n",
       "    </tr>\n",
       "    <tr>\n",
       "      <th>56</th>\n",
       "      <td>1056</td>\n",
       "      <td>73</td>\n",
       "      <td>2018-10-14</td>\n",
       "      <td>Иркутск</td>\n",
       "      <td>Радислав</td>\n",
       "      <td>Артемьев</td>\n",
       "      <td>2018-04-13</td>\n",
       "      <td>smart</td>\n",
       "    </tr>\n",
       "    <tr>\n",
       "      <th>62</th>\n",
       "      <td>1062</td>\n",
       "      <td>24</td>\n",
       "      <td>2018-12-09</td>\n",
       "      <td>Москва</td>\n",
       "      <td>Александр</td>\n",
       "      <td>Коршунов</td>\n",
       "      <td>2018-11-16</td>\n",
       "      <td>smart</td>\n",
       "    </tr>\n",
       "    <tr>\n",
       "      <th>63</th>\n",
       "      <td>1063</td>\n",
       "      <td>45</td>\n",
       "      <td>2018-12-11</td>\n",
       "      <td>Тула</td>\n",
       "      <td>Таира</td>\n",
       "      <td>Климова</td>\n",
       "      <td>2018-04-12</td>\n",
       "      <td>ultra</td>\n",
       "    </tr>\n",
       "    <tr>\n",
       "      <th>64</th>\n",
       "      <td>1064</td>\n",
       "      <td>55</td>\n",
       "      <td>2018-12-26</td>\n",
       "      <td>Якутск</td>\n",
       "      <td>Динара</td>\n",
       "      <td>Алфеева</td>\n",
       "      <td>2018-03-17</td>\n",
       "      <td>smart</td>\n",
       "    </tr>\n",
       "    <tr>\n",
       "      <th>65</th>\n",
       "      <td>1065</td>\n",
       "      <td>53</td>\n",
       "      <td>2018-12-09</td>\n",
       "      <td>Москва</td>\n",
       "      <td>Роза</td>\n",
       "      <td>Игнатова</td>\n",
       "      <td>2018-03-08</td>\n",
       "      <td>smart</td>\n",
       "    </tr>\n",
       "    <tr>\n",
       "      <th>71</th>\n",
       "      <td>1071</td>\n",
       "      <td>20</td>\n",
       "      <td>2018-08-31</td>\n",
       "      <td>Омск</td>\n",
       "      <td>Гектор</td>\n",
       "      <td>Чумаков</td>\n",
       "      <td>2018-01-09</td>\n",
       "      <td>smart</td>\n",
       "    </tr>\n",
       "    <tr>\n",
       "      <th>90</th>\n",
       "      <td>1090</td>\n",
       "      <td>54</td>\n",
       "      <td>2018-12-03</td>\n",
       "      <td>Череповец</td>\n",
       "      <td>Екатерина</td>\n",
       "      <td>Астафьева</td>\n",
       "      <td>2018-10-11</td>\n",
       "      <td>ultra</td>\n",
       "    </tr>\n",
       "    <tr>\n",
       "      <th>128</th>\n",
       "      <td>1128</td>\n",
       "      <td>51</td>\n",
       "      <td>2018-12-23</td>\n",
       "      <td>Волжский</td>\n",
       "      <td>Ксения</td>\n",
       "      <td>Агаева</td>\n",
       "      <td>2018-12-15</td>\n",
       "      <td>ultra</td>\n",
       "    </tr>\n",
       "    <tr>\n",
       "      <th>161</th>\n",
       "      <td>1161</td>\n",
       "      <td>65</td>\n",
       "      <td>2018-11-07</td>\n",
       "      <td>Набережные Челны</td>\n",
       "      <td>Татьяна</td>\n",
       "      <td>Голованова</td>\n",
       "      <td>2018-07-03</td>\n",
       "      <td>smart</td>\n",
       "    </tr>\n",
       "    <tr>\n",
       "      <th>163</th>\n",
       "      <td>1163</td>\n",
       "      <td>21</td>\n",
       "      <td>2018-12-16</td>\n",
       "      <td>Москва</td>\n",
       "      <td>Лев</td>\n",
       "      <td>Вишневский</td>\n",
       "      <td>2018-11-03</td>\n",
       "      <td>smart</td>\n",
       "    </tr>\n",
       "    <tr>\n",
       "      <th>191</th>\n",
       "      <td>1191</td>\n",
       "      <td>64</td>\n",
       "      <td>2018-10-03</td>\n",
       "      <td>Набережные Челны</td>\n",
       "      <td>Александр</td>\n",
       "      <td>Акиндинов</td>\n",
       "      <td>2018-06-30</td>\n",
       "      <td>smart</td>\n",
       "    </tr>\n",
       "    <tr>\n",
       "      <th>201</th>\n",
       "      <td>1201</td>\n",
       "      <td>32</td>\n",
       "      <td>2018-12-03</td>\n",
       "      <td>Москва</td>\n",
       "      <td>Геннадий</td>\n",
       "      <td>Веселов</td>\n",
       "      <td>2018-08-06</td>\n",
       "      <td>ultra</td>\n",
       "    </tr>\n",
       "    <tr>\n",
       "      <th>206</th>\n",
       "      <td>1206</td>\n",
       "      <td>35</td>\n",
       "      <td>2018-12-20</td>\n",
       "      <td>Москва</td>\n",
       "      <td>Елена</td>\n",
       "      <td>Шарапова</td>\n",
       "      <td>2018-11-03</td>\n",
       "      <td>smart</td>\n",
       "    </tr>\n",
       "    <tr>\n",
       "      <th>232</th>\n",
       "      <td>1232</td>\n",
       "      <td>60</td>\n",
       "      <td>2018-11-30</td>\n",
       "      <td>Томск</td>\n",
       "      <td>Виктория</td>\n",
       "      <td>Ларина</td>\n",
       "      <td>2018-10-07</td>\n",
       "      <td>smart</td>\n",
       "    </tr>\n",
       "    <tr>\n",
       "      <th>242</th>\n",
       "      <td>1242</td>\n",
       "      <td>39</td>\n",
       "      <td>2018-12-21</td>\n",
       "      <td>Хабаровск</td>\n",
       "      <td>Радим</td>\n",
       "      <td>Федосеев</td>\n",
       "      <td>2018-11-18</td>\n",
       "      <td>smart</td>\n",
       "    </tr>\n",
       "    <tr>\n",
       "      <th>254</th>\n",
       "      <td>1254</td>\n",
       "      <td>75</td>\n",
       "      <td>2018-08-17</td>\n",
       "      <td>Москва</td>\n",
       "      <td>Александра</td>\n",
       "      <td>Сухарева</td>\n",
       "      <td>2018-01-04</td>\n",
       "      <td>ultra</td>\n",
       "    </tr>\n",
       "    <tr>\n",
       "      <th>255</th>\n",
       "      <td>1255</td>\n",
       "      <td>40</td>\n",
       "      <td>2018-09-02</td>\n",
       "      <td>Саранск</td>\n",
       "      <td>Серафима</td>\n",
       "      <td>Пономарева</td>\n",
       "      <td>2018-02-19</td>\n",
       "      <td>ultra</td>\n",
       "    </tr>\n",
       "    <tr>\n",
       "      <th>265</th>\n",
       "      <td>1265</td>\n",
       "      <td>24</td>\n",
       "      <td>2018-10-04</td>\n",
       "      <td>Омск</td>\n",
       "      <td>Радим</td>\n",
       "      <td>Адамов</td>\n",
       "      <td>2018-06-24</td>\n",
       "      <td>ultra</td>\n",
       "    </tr>\n",
       "    <tr>\n",
       "      <th>271</th>\n",
       "      <td>1271</td>\n",
       "      <td>69</td>\n",
       "      <td>2018-11-13</td>\n",
       "      <td>Челябинск</td>\n",
       "      <td>Аурелия</td>\n",
       "      <td>Чижова</td>\n",
       "      <td>2018-07-14</td>\n",
       "      <td>ultra</td>\n",
       "    </tr>\n",
       "    <tr>\n",
       "      <th>293</th>\n",
       "      <td>1293</td>\n",
       "      <td>39</td>\n",
       "      <td>2018-11-22</td>\n",
       "      <td>Санкт-Петербург</td>\n",
       "      <td>Эдита</td>\n",
       "      <td>Дубинина</td>\n",
       "      <td>2018-09-05</td>\n",
       "      <td>smart</td>\n",
       "    </tr>\n",
       "    <tr>\n",
       "      <th>343</th>\n",
       "      <td>1343</td>\n",
       "      <td>30</td>\n",
       "      <td>2018-10-28</td>\n",
       "      <td>Кострома</td>\n",
       "      <td>Анита</td>\n",
       "      <td>Верещагина</td>\n",
       "      <td>2018-08-15</td>\n",
       "      <td>ultra</td>\n",
       "    </tr>\n",
       "    <tr>\n",
       "      <th>353</th>\n",
       "      <td>1353</td>\n",
       "      <td>57</td>\n",
       "      <td>2018-11-26</td>\n",
       "      <td>Санкт-Петербург</td>\n",
       "      <td>Доминика</td>\n",
       "      <td>Анищенко</td>\n",
       "      <td>2018-04-22</td>\n",
       "      <td>smart</td>\n",
       "    </tr>\n",
       "    <tr>\n",
       "      <th>355</th>\n",
       "      <td>1355</td>\n",
       "      <td>33</td>\n",
       "      <td>2018-11-27</td>\n",
       "      <td>Киров</td>\n",
       "      <td>Сара</td>\n",
       "      <td>Абрикосова</td>\n",
       "      <td>2018-07-21</td>\n",
       "      <td>smart</td>\n",
       "    </tr>\n",
       "    <tr>\n",
       "      <th>367</th>\n",
       "      <td>1367</td>\n",
       "      <td>43</td>\n",
       "      <td>2018-11-16</td>\n",
       "      <td>Москва</td>\n",
       "      <td>Всеволод</td>\n",
       "      <td>Антоненко</td>\n",
       "      <td>2018-09-14</td>\n",
       "      <td>ultra</td>\n",
       "    </tr>\n",
       "    <tr>\n",
       "      <th>370</th>\n",
       "      <td>1370</td>\n",
       "      <td>48</td>\n",
       "      <td>2018-10-27</td>\n",
       "      <td>Новороссийск</td>\n",
       "      <td>Гектор</td>\n",
       "      <td>Сысоев</td>\n",
       "      <td>2018-02-06</td>\n",
       "      <td>smart</td>\n",
       "    </tr>\n",
       "    <tr>\n",
       "      <th>371</th>\n",
       "      <td>1371</td>\n",
       "      <td>50</td>\n",
       "      <td>2018-12-30</td>\n",
       "      <td>Омск</td>\n",
       "      <td>Ириней</td>\n",
       "      <td>Трофимов</td>\n",
       "      <td>2018-12-25</td>\n",
       "      <td>smart</td>\n",
       "    </tr>\n",
       "    <tr>\n",
       "      <th>392</th>\n",
       "      <td>1392</td>\n",
       "      <td>54</td>\n",
       "      <td>2018-09-27</td>\n",
       "      <td>Челябинск</td>\n",
       "      <td>Алла</td>\n",
       "      <td>Беликова</td>\n",
       "      <td>2018-02-27</td>\n",
       "      <td>ultra</td>\n",
       "    </tr>\n",
       "    <tr>\n",
       "      <th>399</th>\n",
       "      <td>1399</td>\n",
       "      <td>31</td>\n",
       "      <td>2018-12-25</td>\n",
       "      <td>Уфа</td>\n",
       "      <td>Алиса</td>\n",
       "      <td>Абрашина</td>\n",
       "      <td>2018-11-06</td>\n",
       "      <td>ultra</td>\n",
       "    </tr>\n",
       "    <tr>\n",
       "      <th>416</th>\n",
       "      <td>1416</td>\n",
       "      <td>50</td>\n",
       "      <td>2018-12-14</td>\n",
       "      <td>Санкт-Петербург</td>\n",
       "      <td>Валерия</td>\n",
       "      <td>Ёлчина</td>\n",
       "      <td>2018-07-16</td>\n",
       "      <td>ultra</td>\n",
       "    </tr>\n",
       "    <tr>\n",
       "      <th>422</th>\n",
       "      <td>1422</td>\n",
       "      <td>60</td>\n",
       "      <td>2018-12-21</td>\n",
       "      <td>Москва</td>\n",
       "      <td>Клара</td>\n",
       "      <td>Устинова</td>\n",
       "      <td>2018-10-12</td>\n",
       "      <td>smart</td>\n",
       "    </tr>\n",
       "    <tr>\n",
       "      <th>438</th>\n",
       "      <td>1438</td>\n",
       "      <td>24</td>\n",
       "      <td>2018-12-24</td>\n",
       "      <td>Екатеринбург</td>\n",
       "      <td>Нателла</td>\n",
       "      <td>Бородина</td>\n",
       "      <td>2018-10-05</td>\n",
       "      <td>smart</td>\n",
       "    </tr>\n",
       "    <tr>\n",
       "      <th>480</th>\n",
       "      <td>1480</td>\n",
       "      <td>29</td>\n",
       "      <td>2018-09-26</td>\n",
       "      <td>Новокузнецк</td>\n",
       "      <td>Гелена</td>\n",
       "      <td>Емельянова</td>\n",
       "      <td>2018-02-14</td>\n",
       "      <td>smart</td>\n",
       "    </tr>\n",
       "    <tr>\n",
       "      <th>498</th>\n",
       "      <td>1498</td>\n",
       "      <td>68</td>\n",
       "      <td>2018-10-25</td>\n",
       "      <td>Владикавказ</td>\n",
       "      <td>Всеволод</td>\n",
       "      <td>Акимчин</td>\n",
       "      <td>2018-07-19</td>\n",
       "      <td>smart</td>\n",
       "    </tr>\n",
       "  </tbody>\n",
       "</table>\n",
       "</div>"
      ],
      "text/plain": [
       "     user_id  age  churn_date              city  first_name   last_name  \\\n",
       "19      1019   63  2018-10-05             Томск     Игнатий     Круглов   \n",
       "20      1020   59  2018-12-18              Чита        Тала     Костина   \n",
       "34      1034   66  2018-11-21           Вологда   Святослав    Бондарев   \n",
       "50      1050   44  2018-10-03            Тюмень      Рузана    Аничкина   \n",
       "51      1051   37  2018-10-14            Москва    Кристина      Сомова   \n",
       "56      1056   73  2018-10-14           Иркутск    Радислав    Артемьев   \n",
       "62      1062   24  2018-12-09            Москва   Александр    Коршунов   \n",
       "63      1063   45  2018-12-11              Тула       Таира     Климова   \n",
       "64      1064   55  2018-12-26            Якутск      Динара     Алфеева   \n",
       "65      1065   53  2018-12-09            Москва        Роза    Игнатова   \n",
       "71      1071   20  2018-08-31              Омск      Гектор     Чумаков   \n",
       "90      1090   54  2018-12-03         Череповец   Екатерина   Астафьева   \n",
       "128     1128   51  2018-12-23          Волжский      Ксения      Агаева   \n",
       "161     1161   65  2018-11-07  Набережные Челны     Татьяна  Голованова   \n",
       "163     1163   21  2018-12-16            Москва         Лев  Вишневский   \n",
       "191     1191   64  2018-10-03  Набережные Челны   Александр   Акиндинов   \n",
       "201     1201   32  2018-12-03            Москва    Геннадий     Веселов   \n",
       "206     1206   35  2018-12-20            Москва       Елена    Шарапова   \n",
       "232     1232   60  2018-11-30             Томск    Виктория      Ларина   \n",
       "242     1242   39  2018-12-21         Хабаровск       Радим    Федосеев   \n",
       "254     1254   75  2018-08-17            Москва  Александра    Сухарева   \n",
       "255     1255   40  2018-09-02           Саранск    Серафима  Пономарева   \n",
       "265     1265   24  2018-10-04              Омск       Радим      Адамов   \n",
       "271     1271   69  2018-11-13         Челябинск     Аурелия      Чижова   \n",
       "293     1293   39  2018-11-22   Санкт-Петербург       Эдита    Дубинина   \n",
       "343     1343   30  2018-10-28          Кострома       Анита  Верещагина   \n",
       "353     1353   57  2018-11-26   Санкт-Петербург    Доминика    Анищенко   \n",
       "355     1355   33  2018-11-27             Киров        Сара  Абрикосова   \n",
       "367     1367   43  2018-11-16            Москва    Всеволод   Антоненко   \n",
       "370     1370   48  2018-10-27      Новороссийск      Гектор      Сысоев   \n",
       "371     1371   50  2018-12-30              Омск      Ириней    Трофимов   \n",
       "392     1392   54  2018-09-27         Челябинск        Алла    Беликова   \n",
       "399     1399   31  2018-12-25               Уфа       Алиса    Абрашина   \n",
       "416     1416   50  2018-12-14   Санкт-Петербург     Валерия      Ёлчина   \n",
       "422     1422   60  2018-12-21            Москва       Клара    Устинова   \n",
       "438     1438   24  2018-12-24      Екатеринбург     Нателла    Бородина   \n",
       "480     1480   29  2018-09-26       Новокузнецк      Гелена  Емельянова   \n",
       "498     1498   68  2018-10-25       Владикавказ    Всеволод     Акимчин   \n",
       "\n",
       "       reg_date tariff  \n",
       "19   2018-05-16  ultra  \n",
       "20   2018-10-22  smart  \n",
       "34   2018-08-26  smart  \n",
       "50   2018-06-16  ultra  \n",
       "51   2018-05-28  smart  \n",
       "56   2018-04-13  smart  \n",
       "62   2018-11-16  smart  \n",
       "63   2018-04-12  ultra  \n",
       "64   2018-03-17  smart  \n",
       "65   2018-03-08  smart  \n",
       "71   2018-01-09  smart  \n",
       "90   2018-10-11  ultra  \n",
       "128  2018-12-15  ultra  \n",
       "161  2018-07-03  smart  \n",
       "163  2018-11-03  smart  \n",
       "191  2018-06-30  smart  \n",
       "201  2018-08-06  ultra  \n",
       "206  2018-11-03  smart  \n",
       "232  2018-10-07  smart  \n",
       "242  2018-11-18  smart  \n",
       "254  2018-01-04  ultra  \n",
       "255  2018-02-19  ultra  \n",
       "265  2018-06-24  ultra  \n",
       "271  2018-07-14  ultra  \n",
       "293  2018-09-05  smart  \n",
       "343  2018-08-15  ultra  \n",
       "353  2018-04-22  smart  \n",
       "355  2018-07-21  smart  \n",
       "367  2018-09-14  ultra  \n",
       "370  2018-02-06  smart  \n",
       "371  2018-12-25  smart  \n",
       "392  2018-02-27  ultra  \n",
       "399  2018-11-06  ultra  \n",
       "416  2018-07-16  ultra  \n",
       "422  2018-10-12  smart  \n",
       "438  2018-10-05  smart  \n",
       "480  2018-02-14  smart  \n",
       "498  2018-07-19  smart  "
      ]
     },
     "metadata": {},
     "output_type": "display_data"
    },
    {
     "data": {
      "text/plain": [
       "array(['Архангельск', 'Астрахань', 'Балашиха', 'Барнаул', 'Белгород',\n",
       "       'Брянск', 'Владивосток', 'Владикавказ', 'Владимир', 'Волгоград',\n",
       "       'Волжский', 'Вологда', 'Воронеж', 'Грозный', 'Екатеринбург',\n",
       "       'Иваново', 'Ижевск', 'Иркутск', 'Казань', 'Калининград', 'Калуга',\n",
       "       'Кемерово', 'Киров', 'Кострома', 'Краснодар', 'Красноярск',\n",
       "       'Курган', 'Курск', 'Липецк', 'Магнитогорск', 'Махачкала', 'Москва',\n",
       "       'Мурманск', 'Набережные Челны', 'Нижневартовск', 'Нижний Новгород',\n",
       "       'Нижний Тагил', 'Новокузнецк', 'Новороссийск', 'Новосибирск',\n",
       "       'Омск', 'Оренбург', 'Орёл', 'Пенза', 'Пермь', 'Петрозаводск',\n",
       "       'Подольск', 'Ростов-на-Дону', 'Рязань', 'Самара',\n",
       "       'Санкт-Петербург', 'Саранск', 'Саратов', 'Севастополь', 'Смоленск',\n",
       "       'Сочи', 'Ставрополь', 'Стерлитамак', 'Сургут', 'Тамбов', 'Тверь',\n",
       "       'Тольятти', 'Томск', 'Тула', 'Тюмень', 'Улан-Удэ', 'Ульяновск',\n",
       "       'Уфа', 'Хабаровск', 'Химки', 'Чебоксары', 'Челябинск', 'Череповец',\n",
       "       'Чита', 'Якутск', 'Ярославль'], dtype=object)"
      ]
     },
     "metadata": {},
     "output_type": "display_data"
    },
    {
     "name": "stdout",
     "output_type": "stream",
     "text": [
      "<class 'pandas.core.frame.DataFrame'>\n",
      "RangeIndex: 500 entries, 0 to 499\n",
      "Data columns (total 9 columns):\n",
      " #   Column      Non-Null Count  Dtype         \n",
      "---  ------      --------------  -----         \n",
      " 0   user_id     500 non-null    int64         \n",
      " 1   age         500 non-null    int64         \n",
      " 2   churn_date  38 non-null     datetime64[ns]\n",
      " 3   city        500 non-null    object        \n",
      " 4   first_name  500 non-null    object        \n",
      " 5   last_name   500 non-null    object        \n",
      " 6   reg_date    500 non-null    datetime64[ns]\n",
      " 7   tariff      500 non-null    object        \n",
      " 8   month       500 non-null    int64         \n",
      "dtypes: datetime64[ns](2), int64(3), object(4)\n",
      "memory usage: 35.3+ KB\n"
     ]
    }
   ],
   "source": [
    "df_users.info()\n",
    "\n",
    "# посмотрим на отказников\n",
    "display(df_users[~df_users.churn_date.isnull()]) \n",
    "## разные, дни, города, тарифы. Общей закономерности не видно\n",
    "\n",
    "#churn_date в object лучше перевести как и reg_date в datetime\n",
    "df_users.churn_date = pd.to_datetime(df_users.churn_date)\n",
    "df_users.reg_date = pd.to_datetime(df_users.reg_date)\n",
    "\n",
    "#добавляю новый столбец \n",
    "df_users['month'] = df_users['reg_date'].dt.month\n",
    "\n",
    "# Проверю города на неявные дубликаты\n",
    "display(df_users.city.sort_values().unique()) \n",
    "## Визуально все ок\n",
    "\n",
    "# Посмотрим что получилось\n",
    "df_users.info()\n",
    "\n"
   ]
  },
  {
   "cell_type": "markdown",
   "metadata": {},
   "source": [
    "Придержиавлся логики, что 0 - ноль, а все что больше, уже округляется. даже если он длился всего 1 секунду, будет засчитан как 1 минута. Поправил и добавил проверку \"до\" и \"после\""
   ]
  },
  {
   "cell_type": "code",
   "execution_count": 5,
   "metadata": {},
   "outputs": [
    {
     "name": "stdout",
     "output_type": "stream",
     "text": [
      "Было\n",
      "0          0.00\n",
      "1          0.00\n",
      "2          2.85\n",
      "3         13.80\n",
      "4          5.18\n",
      "          ...  \n",
      "202602     0.76\n",
      "202603    18.83\n",
      "202604    10.81\n",
      "202605     4.27\n",
      "202606    19.62\n",
      "Name: duration, Length: 202607, dtype: float64 \n",
      "\n",
      "Стало\n",
      "0          0\n",
      "1          0\n",
      "2          3\n",
      "3         14\n",
      "4          6\n",
      "          ..\n",
      "202602     1\n",
      "202603    19\n",
      "202604    11\n",
      "202605     5\n",
      "202606    20\n",
      "Name: duration, Length: 202607, dtype: int32\n",
      "<class 'pandas.core.frame.DataFrame'>\n",
      "RangeIndex: 202607 entries, 0 to 202606\n",
      "Data columns (total 5 columns):\n",
      " #   Column     Non-Null Count   Dtype         \n",
      "---  ------     --------------   -----         \n",
      " 0   id         202607 non-null  object        \n",
      " 1   call_date  202607 non-null  datetime64[ns]\n",
      " 2   duration   202607 non-null  int32         \n",
      " 3   user_id    202607 non-null  int64         \n",
      " 4   month      202607 non-null  int64         \n",
      "dtypes: datetime64[ns](1), int32(1), int64(2), object(1)\n",
      "memory usage: 7.0+ MB\n"
     ]
    }
   ],
   "source": [
    "# Приведу к формату даты\n",
    "df_calls.call_date = pd.to_datetime(df_calls.call_date)\n",
    "\n",
    "#добавляю новый столбец \n",
    "df_calls['month'] = df_calls['call_date'].dt.month\n",
    "\n",
    "# округляю звонки в большую сторону, согласно особенностям оператора\n",
    "#df_calls['duration'] = df_calls['duration'].apply(np.ceil).replace(0, 1)\n",
    "#df_calls['duration'] = df_calls['duration'].astype('int')\n",
    "#0 - ноль, 0.1 - 1\n",
    "print('Было')\n",
    "print(df_calls['duration'], '\\n')\n",
    "df_calls['duration'] = np.ceil(df_calls.duration).astype(int)\n",
    "print('Стало')\n",
    "print(df_calls['duration'])\n",
    "df_calls.info()\n"
   ]
  },
  {
   "cell_type": "code",
   "execution_count": 6,
   "metadata": {},
   "outputs": [
    {
     "name": "stdout",
     "output_type": "stream",
     "text": [
      "<class 'pandas.core.frame.DataFrame'>\n",
      "RangeIndex: 123036 entries, 0 to 123035\n",
      "Data columns (total 4 columns):\n",
      " #   Column        Non-Null Count   Dtype         \n",
      "---  ------        --------------   -----         \n",
      " 0   id            123036 non-null  object        \n",
      " 1   message_date  123036 non-null  datetime64[ns]\n",
      " 2   user_id       123036 non-null  int64         \n",
      " 3   month         123036 non-null  int64         \n",
      "dtypes: datetime64[ns](1), int64(2), object(1)\n",
      "memory usage: 3.8+ MB\n"
     ]
    }
   ],
   "source": [
    "# Приведу к формату даты\n",
    "df_messages.message_date = pd.to_datetime(df_messages.message_date)\n",
    "\n",
    "#добавляю новый столбец \n",
    "df_messages['month'] = df_messages['message_date'].dt.month\n",
    "\n",
    "df_messages.info()\n"
   ]
  },
  {
   "cell_type": "code",
   "execution_count": 7,
   "metadata": {},
   "outputs": [
    {
     "name": "stdout",
     "output_type": "stream",
     "text": [
      "0              0\n",
      "1              1\n",
      "2              2\n",
      "3              3\n",
      "4              4\n",
      "           ...  \n",
      "149391    149391\n",
      "149392    149392\n",
      "149393    149393\n",
      "149394    149394\n",
      "149395    149395\n",
      "Name: Unnamed: 0, Length: 149396, dtype: int64 \n",
      "\n",
      "<class 'pandas.core.frame.DataFrame'>\n",
      "RangeIndex: 149396 entries, 0 to 149395\n",
      "Data columns (total 5 columns):\n",
      " #   Column        Non-Null Count   Dtype         \n",
      "---  ------        --------------   -----         \n",
      " 0   id            149396 non-null  object        \n",
      " 1   mb_used       149396 non-null  float64       \n",
      " 2   session_date  149396 non-null  datetime64[ns]\n",
      " 3   user_id       149396 non-null  int64         \n",
      " 4   month         149396 non-null  int64         \n",
      "dtypes: datetime64[ns](1), float64(1), int64(2), object(1)\n",
      "memory usage: 5.7+ MB\n"
     ]
    }
   ],
   "source": [
    "# Приведу к формату даты\n",
    "df_internet.session_date = pd.to_datetime(df_internet.session_date)\n",
    "\n",
    "#добавляю новый столбец \n",
    "df_internet['month'] = df_internet['session_date'].dt.month\n",
    "\n",
    "#Посмотрим на столбец \n",
    "print(df_internet['Unnamed: 0'], '\\n')\n",
    "#Он дублирует индекс, можем удалить\n",
    "df_internet.drop('Unnamed: 0', axis='columns', inplace=True)\n",
    "\n",
    "df_internet.info()\n"
   ]
  },
  {
   "cell_type": "markdown",
   "metadata": {},
   "source": [
    "**Промежуточный итог:**\n",
    "\n",
    "* Привели даты в подходящий формат\n",
    "* Удалили лишний столбец\n",
    "* Добавили новый столбец для дальнейших подсчетов\n",
    "* Округлили минуты до целых и перевели в формат int \n"
   ]
  },
  {
   "cell_type": "code",
   "execution_count": 8,
   "metadata": {},
   "outputs": [
    {
     "data": {
      "text/html": [
       "<div>\n",
       "<style scoped>\n",
       "    .dataframe tbody tr th:only-of-type {\n",
       "        vertical-align: middle;\n",
       "    }\n",
       "\n",
       "    .dataframe tbody tr th {\n",
       "        vertical-align: top;\n",
       "    }\n",
       "\n",
       "    .dataframe thead th {\n",
       "        text-align: right;\n",
       "    }\n",
       "</style>\n",
       "<table border=\"1\" class=\"dataframe\">\n",
       "  <thead>\n",
       "    <tr style=\"text-align: right;\">\n",
       "      <th></th>\n",
       "      <th></th>\n",
       "      <th>calls_count</th>\n",
       "      <th>duration_sum</th>\n",
       "    </tr>\n",
       "    <tr>\n",
       "      <th>user_id</th>\n",
       "      <th>month</th>\n",
       "      <th></th>\n",
       "      <th></th>\n",
       "    </tr>\n",
       "  </thead>\n",
       "  <tbody>\n",
       "    <tr>\n",
       "      <th rowspan=\"5\" valign=\"top\">1000</th>\n",
       "      <th>5</th>\n",
       "      <td>22</td>\n",
       "      <td>159</td>\n",
       "    </tr>\n",
       "    <tr>\n",
       "      <th>6</th>\n",
       "      <td>43</td>\n",
       "      <td>172</td>\n",
       "    </tr>\n",
       "    <tr>\n",
       "      <th>7</th>\n",
       "      <td>47</td>\n",
       "      <td>340</td>\n",
       "    </tr>\n",
       "    <tr>\n",
       "      <th>8</th>\n",
       "      <td>52</td>\n",
       "      <td>408</td>\n",
       "    </tr>\n",
       "    <tr>\n",
       "      <th>9</th>\n",
       "      <td>58</td>\n",
       "      <td>466</td>\n",
       "    </tr>\n",
       "    <tr>\n",
       "      <th>...</th>\n",
       "      <th>...</th>\n",
       "      <td>...</td>\n",
       "      <td>...</td>\n",
       "    </tr>\n",
       "    <tr>\n",
       "      <th>1498</th>\n",
       "      <th>10</th>\n",
       "      <td>41</td>\n",
       "      <td>247</td>\n",
       "    </tr>\n",
       "    <tr>\n",
       "      <th rowspan=\"4\" valign=\"top\">1499</th>\n",
       "      <th>9</th>\n",
       "      <td>9</td>\n",
       "      <td>70</td>\n",
       "    </tr>\n",
       "    <tr>\n",
       "      <th>10</th>\n",
       "      <td>68</td>\n",
       "      <td>449</td>\n",
       "    </tr>\n",
       "    <tr>\n",
       "      <th>11</th>\n",
       "      <td>74</td>\n",
       "      <td>612</td>\n",
       "    </tr>\n",
       "    <tr>\n",
       "      <th>12</th>\n",
       "      <td>69</td>\n",
       "      <td>492</td>\n",
       "    </tr>\n",
       "  </tbody>\n",
       "</table>\n",
       "<p>3174 rows × 2 columns</p>\n",
       "</div>"
      ],
      "text/plain": [
       "               calls_count  duration_sum\n",
       "user_id month                           \n",
       "1000    5               22           159\n",
       "        6               43           172\n",
       "        7               47           340\n",
       "        8               52           408\n",
       "        9               58           466\n",
       "...                    ...           ...\n",
       "1498    10              41           247\n",
       "1499    9                9            70\n",
       "        10              68           449\n",
       "        11              74           612\n",
       "        12              69           492\n",
       "\n",
       "[3174 rows x 2 columns]"
      ]
     },
     "execution_count": 8,
     "metadata": {},
     "output_type": "execute_result"
    }
   ],
   "source": [
    "#количество сделанных звонков и израсходованных минут разговора по месяцам;\n",
    "calls_cs = df_calls.pivot_table(index=['user_id', 'month'], values='duration', aggfunc={'count', 'sum'})\n",
    "calls_cs.columns = ['calls_count', 'duration_sum']\n",
    "calls_cs"
   ]
  },
  {
   "cell_type": "code",
   "execution_count": 9,
   "metadata": {},
   "outputs": [
    {
     "data": {
      "text/html": [
       "<div>\n",
       "<style scoped>\n",
       "    .dataframe tbody tr th:only-of-type {\n",
       "        vertical-align: middle;\n",
       "    }\n",
       "\n",
       "    .dataframe tbody tr th {\n",
       "        vertical-align: top;\n",
       "    }\n",
       "\n",
       "    .dataframe thead th {\n",
       "        text-align: right;\n",
       "    }\n",
       "</style>\n",
       "<table border=\"1\" class=\"dataframe\">\n",
       "  <thead>\n",
       "    <tr style=\"text-align: right;\">\n",
       "      <th></th>\n",
       "      <th></th>\n",
       "      <th>messages_count</th>\n",
       "    </tr>\n",
       "    <tr>\n",
       "      <th>user_id</th>\n",
       "      <th>month</th>\n",
       "      <th></th>\n",
       "    </tr>\n",
       "  </thead>\n",
       "  <tbody>\n",
       "    <tr>\n",
       "      <th rowspan=\"5\" valign=\"top\">1000</th>\n",
       "      <th>5</th>\n",
       "      <td>22</td>\n",
       "    </tr>\n",
       "    <tr>\n",
       "      <th>6</th>\n",
       "      <td>60</td>\n",
       "    </tr>\n",
       "    <tr>\n",
       "      <th>7</th>\n",
       "      <td>75</td>\n",
       "    </tr>\n",
       "    <tr>\n",
       "      <th>8</th>\n",
       "      <td>81</td>\n",
       "    </tr>\n",
       "    <tr>\n",
       "      <th>9</th>\n",
       "      <td>57</td>\n",
       "    </tr>\n",
       "    <tr>\n",
       "      <th>...</th>\n",
       "      <th>...</th>\n",
       "      <td>...</td>\n",
       "    </tr>\n",
       "    <tr>\n",
       "      <th>1498</th>\n",
       "      <th>10</th>\n",
       "      <td>42</td>\n",
       "    </tr>\n",
       "    <tr>\n",
       "      <th rowspan=\"4\" valign=\"top\">1499</th>\n",
       "      <th>9</th>\n",
       "      <td>11</td>\n",
       "    </tr>\n",
       "    <tr>\n",
       "      <th>10</th>\n",
       "      <td>48</td>\n",
       "    </tr>\n",
       "    <tr>\n",
       "      <th>11</th>\n",
       "      <td>59</td>\n",
       "    </tr>\n",
       "    <tr>\n",
       "      <th>12</th>\n",
       "      <td>66</td>\n",
       "    </tr>\n",
       "  </tbody>\n",
       "</table>\n",
       "<p>2717 rows × 1 columns</p>\n",
       "</div>"
      ],
      "text/plain": [
       "               messages_count\n",
       "user_id month                \n",
       "1000    5                  22\n",
       "        6                  60\n",
       "        7                  75\n",
       "        8                  81\n",
       "        9                  57\n",
       "...                       ...\n",
       "1498    10                 42\n",
       "1499    9                  11\n",
       "        10                 48\n",
       "        11                 59\n",
       "        12                 66\n",
       "\n",
       "[2717 rows x 1 columns]"
      ]
     },
     "execution_count": 9,
     "metadata": {},
     "output_type": "execute_result"
    }
   ],
   "source": [
    "#количество отправленных сообщений по месяцам;\n",
    "messages_c = df_messages.pivot_table(index=['user_id', 'month'], values='id', aggfunc='count')\n",
    "messages_c.columns = ['messages_count']\n",
    "messages_c"
   ]
  },
  {
   "cell_type": "code",
   "execution_count": 10,
   "metadata": {
    "scrolled": false
   },
   "outputs": [
    {
     "data": {
      "text/html": [
       "<div>\n",
       "<style scoped>\n",
       "    .dataframe tbody tr th:only-of-type {\n",
       "        vertical-align: middle;\n",
       "    }\n",
       "\n",
       "    .dataframe tbody tr th {\n",
       "        vertical-align: top;\n",
       "    }\n",
       "\n",
       "    .dataframe thead th {\n",
       "        text-align: right;\n",
       "    }\n",
       "</style>\n",
       "<table border=\"1\" class=\"dataframe\">\n",
       "  <thead>\n",
       "    <tr style=\"text-align: right;\">\n",
       "      <th></th>\n",
       "      <th></th>\n",
       "      <th>internet_sum</th>\n",
       "    </tr>\n",
       "    <tr>\n",
       "      <th>user_id</th>\n",
       "      <th>month</th>\n",
       "      <th></th>\n",
       "    </tr>\n",
       "  </thead>\n",
       "  <tbody>\n",
       "    <tr>\n",
       "      <th rowspan=\"5\" valign=\"top\">1000</th>\n",
       "      <th>5</th>\n",
       "      <td>3</td>\n",
       "    </tr>\n",
       "    <tr>\n",
       "      <th>6</th>\n",
       "      <td>23</td>\n",
       "    </tr>\n",
       "    <tr>\n",
       "      <th>7</th>\n",
       "      <td>14</td>\n",
       "    </tr>\n",
       "    <tr>\n",
       "      <th>8</th>\n",
       "      <td>14</td>\n",
       "    </tr>\n",
       "    <tr>\n",
       "      <th>9</th>\n",
       "      <td>15</td>\n",
       "    </tr>\n",
       "    <tr>\n",
       "      <th>...</th>\n",
       "      <th>...</th>\n",
       "      <td>...</td>\n",
       "    </tr>\n",
       "    <tr>\n",
       "      <th>1498</th>\n",
       "      <th>10</th>\n",
       "      <td>21</td>\n",
       "    </tr>\n",
       "    <tr>\n",
       "      <th rowspan=\"4\" valign=\"top\">1499</th>\n",
       "      <th>9</th>\n",
       "      <td>2</td>\n",
       "    </tr>\n",
       "    <tr>\n",
       "      <th>10</th>\n",
       "      <td>18</td>\n",
       "    </tr>\n",
       "    <tr>\n",
       "      <th>11</th>\n",
       "      <td>18</td>\n",
       "    </tr>\n",
       "    <tr>\n",
       "      <th>12</th>\n",
       "      <td>13</td>\n",
       "    </tr>\n",
       "  </tbody>\n",
       "</table>\n",
       "<p>3203 rows × 1 columns</p>\n",
       "</div>"
      ],
      "text/plain": [
       "               internet_sum\n",
       "user_id month              \n",
       "1000    5                 3\n",
       "        6                23\n",
       "        7                14\n",
       "        8                14\n",
       "        9                15\n",
       "...                     ...\n",
       "1498    10               21\n",
       "1499    9                 2\n",
       "        10               18\n",
       "        11               18\n",
       "        12               13\n",
       "\n",
       "[3203 rows x 1 columns]"
      ]
     },
     "execution_count": 10,
     "metadata": {},
     "output_type": "execute_result"
    }
   ],
   "source": [
    "#объем израсходованного интернет-трафика по месяцам;\n",
    "internet_s = df_internet.pivot_table(index=['user_id', 'month'], values='mb_used', aggfunc='sum')\n",
    "internet_s.columns = ['internet_sum']\n",
    "\n",
    "#Перевожу мб в гиги за шаги\n",
    "internet_s['internet_sum'] = (internet_s['internet_sum'] / 1024)\n",
    "\n",
    "#Округляю до целых гигов\n",
    "internet_s['internet_sum'] = internet_s['internet_sum'].apply(np.ceil).replace(0, 1)\n",
    "internet_s['internet_sum'] = internet_s['internet_sum'].astype('int')\n",
    "\n",
    "internet_s"
   ]
  },
  {
   "cell_type": "markdown",
   "metadata": {},
   "source": [
    "**Тариф «Смарт»**\n",
    "1. Ежемесячная плата: 550 рублей\n",
    "2. Включено 500 минут разговора, 50 сообщений и 15 Гб интернет-трафика\n",
    "3. Стоимость услуг сверх тарифного пакета:\n",
    "* минута разговора: 3 рубля\n",
    "* сообщение: 3 рубля\n",
    "* 1 Гб интернет-трафика: 200 рублей\n",
    "\n",
    "**Тариф «Ультра»**\n",
    "1. Ежемесячная плата: 1950 рублей\n",
    "2. Включено 3000 минут разговора, 1000 сообщений и 30 Гб интернет-трафика\n",
    "3. Стоимость услуг сверх тарифного пакета:\n",
    "* минута разговора: 1 рубль\n",
    "* сообщение: 1 рубль\n",
    "* 1 Гб интернет-трафика: 150 рублей"
   ]
  },
  {
   "cell_type": "code",
   "execution_count": 11,
   "metadata": {},
   "outputs": [
    {
     "data": {
      "text/html": [
       "<div>\n",
       "<style scoped>\n",
       "    .dataframe tbody tr th:only-of-type {\n",
       "        vertical-align: middle;\n",
       "    }\n",
       "\n",
       "    .dataframe tbody tr th {\n",
       "        vertical-align: top;\n",
       "    }\n",
       "\n",
       "    .dataframe thead th {\n",
       "        text-align: right;\n",
       "    }\n",
       "</style>\n",
       "<table border=\"1\" class=\"dataframe\">\n",
       "  <thead>\n",
       "    <tr style=\"text-align: right;\">\n",
       "      <th></th>\n",
       "      <th></th>\n",
       "      <th>calls_count</th>\n",
       "      <th>duration_sum</th>\n",
       "      <th>messages_count</th>\n",
       "    </tr>\n",
       "    <tr>\n",
       "      <th>user_id</th>\n",
       "      <th>month</th>\n",
       "      <th></th>\n",
       "      <th></th>\n",
       "      <th></th>\n",
       "    </tr>\n",
       "  </thead>\n",
       "  <tbody>\n",
       "    <tr>\n",
       "      <th rowspan=\"5\" valign=\"top\">1000</th>\n",
       "      <th>5</th>\n",
       "      <td>22.0</td>\n",
       "      <td>159.0</td>\n",
       "      <td>22.0</td>\n",
       "    </tr>\n",
       "    <tr>\n",
       "      <th>6</th>\n",
       "      <td>43.0</td>\n",
       "      <td>172.0</td>\n",
       "      <td>60.0</td>\n",
       "    </tr>\n",
       "    <tr>\n",
       "      <th>7</th>\n",
       "      <td>47.0</td>\n",
       "      <td>340.0</td>\n",
       "      <td>75.0</td>\n",
       "    </tr>\n",
       "    <tr>\n",
       "      <th>8</th>\n",
       "      <td>52.0</td>\n",
       "      <td>408.0</td>\n",
       "      <td>81.0</td>\n",
       "    </tr>\n",
       "    <tr>\n",
       "      <th>9</th>\n",
       "      <td>58.0</td>\n",
       "      <td>466.0</td>\n",
       "      <td>57.0</td>\n",
       "    </tr>\n",
       "    <tr>\n",
       "      <th>...</th>\n",
       "      <th>...</th>\n",
       "      <td>...</td>\n",
       "      <td>...</td>\n",
       "      <td>...</td>\n",
       "    </tr>\n",
       "    <tr>\n",
       "      <th rowspan=\"5\" valign=\"top\">1489</th>\n",
       "      <th>8</th>\n",
       "      <td>NaN</td>\n",
       "      <td>NaN</td>\n",
       "      <td>17.0</td>\n",
       "    </tr>\n",
       "    <tr>\n",
       "      <th>9</th>\n",
       "      <td>NaN</td>\n",
       "      <td>NaN</td>\n",
       "      <td>32.0</td>\n",
       "    </tr>\n",
       "    <tr>\n",
       "      <th>10</th>\n",
       "      <td>NaN</td>\n",
       "      <td>NaN</td>\n",
       "      <td>21.0</td>\n",
       "    </tr>\n",
       "    <tr>\n",
       "      <th>11</th>\n",
       "      <td>NaN</td>\n",
       "      <td>NaN</td>\n",
       "      <td>20.0</td>\n",
       "    </tr>\n",
       "    <tr>\n",
       "      <th>12</th>\n",
       "      <td>NaN</td>\n",
       "      <td>NaN</td>\n",
       "      <td>35.0</td>\n",
       "    </tr>\n",
       "  </tbody>\n",
       "</table>\n",
       "<p>3213 rows × 3 columns</p>\n",
       "</div>"
      ],
      "text/plain": [
       "               calls_count  duration_sum  messages_count\n",
       "user_id month                                           \n",
       "1000    5             22.0         159.0            22.0\n",
       "        6             43.0         172.0            60.0\n",
       "        7             47.0         340.0            75.0\n",
       "        8             52.0         408.0            81.0\n",
       "        9             58.0         466.0            57.0\n",
       "...                    ...           ...             ...\n",
       "1489    8              NaN           NaN            17.0\n",
       "        9              NaN           NaN            32.0\n",
       "        10             NaN           NaN            21.0\n",
       "        11             NaN           NaN            20.0\n",
       "        12             NaN           NaN            35.0\n",
       "\n",
       "[3213 rows x 3 columns]"
      ]
     },
     "execution_count": 11,
     "metadata": {},
     "output_type": "execute_result"
    }
   ],
   "source": [
    "#помесячную выручку с каждого пользователя \n",
    "\n",
    "# объеденю смс и звонки\n",
    "calls_mess_csc = pd.merge(calls_cs, messages_c, how='outer', on=['user_id', 'month'])\n",
    "calls_mess_csc\n"
   ]
  },
  {
   "cell_type": "code",
   "execution_count": 12,
   "metadata": {},
   "outputs": [
    {
     "data": {
      "text/html": [
       "<div>\n",
       "<style scoped>\n",
       "    .dataframe tbody tr th:only-of-type {\n",
       "        vertical-align: middle;\n",
       "    }\n",
       "\n",
       "    .dataframe tbody tr th {\n",
       "        vertical-align: top;\n",
       "    }\n",
       "\n",
       "    .dataframe thead th {\n",
       "        text-align: right;\n",
       "    }\n",
       "</style>\n",
       "<table border=\"1\" class=\"dataframe\">\n",
       "  <thead>\n",
       "    <tr style=\"text-align: right;\">\n",
       "      <th></th>\n",
       "      <th></th>\n",
       "      <th>calls_count</th>\n",
       "      <th>duration_sum</th>\n",
       "      <th>messages_count</th>\n",
       "      <th>internet_sum</th>\n",
       "    </tr>\n",
       "    <tr>\n",
       "      <th>user_id</th>\n",
       "      <th>month</th>\n",
       "      <th></th>\n",
       "      <th></th>\n",
       "      <th></th>\n",
       "      <th></th>\n",
       "    </tr>\n",
       "  </thead>\n",
       "  <tbody>\n",
       "    <tr>\n",
       "      <th rowspan=\"5\" valign=\"top\">1000</th>\n",
       "      <th>5</th>\n",
       "      <td>22.0</td>\n",
       "      <td>159.0</td>\n",
       "      <td>22.0</td>\n",
       "      <td>3.0</td>\n",
       "    </tr>\n",
       "    <tr>\n",
       "      <th>6</th>\n",
       "      <td>43.0</td>\n",
       "      <td>172.0</td>\n",
       "      <td>60.0</td>\n",
       "      <td>23.0</td>\n",
       "    </tr>\n",
       "    <tr>\n",
       "      <th>7</th>\n",
       "      <td>47.0</td>\n",
       "      <td>340.0</td>\n",
       "      <td>75.0</td>\n",
       "      <td>14.0</td>\n",
       "    </tr>\n",
       "    <tr>\n",
       "      <th>8</th>\n",
       "      <td>52.0</td>\n",
       "      <td>408.0</td>\n",
       "      <td>81.0</td>\n",
       "      <td>14.0</td>\n",
       "    </tr>\n",
       "    <tr>\n",
       "      <th>9</th>\n",
       "      <td>58.0</td>\n",
       "      <td>466.0</td>\n",
       "      <td>57.0</td>\n",
       "      <td>15.0</td>\n",
       "    </tr>\n",
       "    <tr>\n",
       "      <th>...</th>\n",
       "      <th>...</th>\n",
       "      <td>...</td>\n",
       "      <td>...</td>\n",
       "      <td>...</td>\n",
       "      <td>...</td>\n",
       "    </tr>\n",
       "    <tr>\n",
       "      <th rowspan=\"4\" valign=\"top\">1489</th>\n",
       "      <th>9</th>\n",
       "      <td>0.0</td>\n",
       "      <td>0.0</td>\n",
       "      <td>32.0</td>\n",
       "      <td>17.0</td>\n",
       "    </tr>\n",
       "    <tr>\n",
       "      <th>10</th>\n",
       "      <td>0.0</td>\n",
       "      <td>0.0</td>\n",
       "      <td>21.0</td>\n",
       "      <td>20.0</td>\n",
       "    </tr>\n",
       "    <tr>\n",
       "      <th>11</th>\n",
       "      <td>0.0</td>\n",
       "      <td>0.0</td>\n",
       "      <td>20.0</td>\n",
       "      <td>18.0</td>\n",
       "    </tr>\n",
       "    <tr>\n",
       "      <th>12</th>\n",
       "      <td>0.0</td>\n",
       "      <td>0.0</td>\n",
       "      <td>35.0</td>\n",
       "      <td>17.0</td>\n",
       "    </tr>\n",
       "    <tr>\n",
       "      <th>1476</th>\n",
       "      <th>4</th>\n",
       "      <td>0.0</td>\n",
       "      <td>0.0</td>\n",
       "      <td>0.0</td>\n",
       "      <td>1.0</td>\n",
       "    </tr>\n",
       "  </tbody>\n",
       "</table>\n",
       "<p>3214 rows × 4 columns</p>\n",
       "</div>"
      ],
      "text/plain": [
       "               calls_count  duration_sum  messages_count  internet_sum\n",
       "user_id month                                                         \n",
       "1000    5             22.0         159.0            22.0           3.0\n",
       "        6             43.0         172.0            60.0          23.0\n",
       "        7             47.0         340.0            75.0          14.0\n",
       "        8             52.0         408.0            81.0          14.0\n",
       "        9             58.0         466.0            57.0          15.0\n",
       "...                    ...           ...             ...           ...\n",
       "1489    9              0.0           0.0            32.0          17.0\n",
       "        10             0.0           0.0            21.0          20.0\n",
       "        11             0.0           0.0            20.0          18.0\n",
       "        12             0.0           0.0            35.0          17.0\n",
       "1476    4              0.0           0.0             0.0           1.0\n",
       "\n",
       "[3214 rows x 4 columns]"
      ]
     },
     "execution_count": 12,
     "metadata": {},
     "output_type": "execute_result"
    }
   ],
   "source": [
    "# добавлю использованные мб\n",
    "calls_mess_int_cscs = pd.merge(calls_mess_csc, internet_s, how='outer', on=['user_id', 'month'])\n",
    "\n",
    "#так как у нас есть месяцы в которых пользователь пользовался чем-то одним, заменим пыстые значения на 0\n",
    "calls_mess_int_cscs = calls_mess_int_cscs.fillna(0)\n",
    "calls_mess_int_cscs"
   ]
  },
  {
   "cell_type": "code",
   "execution_count": 13,
   "metadata": {},
   "outputs": [
    {
     "data": {
      "text/html": [
       "<div>\n",
       "<style scoped>\n",
       "    .dataframe tbody tr th:only-of-type {\n",
       "        vertical-align: middle;\n",
       "    }\n",
       "\n",
       "    .dataframe tbody tr th {\n",
       "        vertical-align: top;\n",
       "    }\n",
       "\n",
       "    .dataframe thead th {\n",
       "        text-align: right;\n",
       "    }\n",
       "</style>\n",
       "<table border=\"1\" class=\"dataframe\">\n",
       "  <thead>\n",
       "    <tr style=\"text-align: right;\">\n",
       "      <th></th>\n",
       "      <th>user_id</th>\n",
       "      <th>calls_count</th>\n",
       "      <th>duration_sum</th>\n",
       "      <th>messages_count</th>\n",
       "      <th>internet_sum</th>\n",
       "      <th>age</th>\n",
       "      <th>city</th>\n",
       "      <th>tariff</th>\n",
       "      <th>month</th>\n",
       "    </tr>\n",
       "  </thead>\n",
       "  <tbody>\n",
       "    <tr>\n",
       "      <th>0</th>\n",
       "      <td>1000</td>\n",
       "      <td>22.0</td>\n",
       "      <td>159.0</td>\n",
       "      <td>22.0</td>\n",
       "      <td>3.0</td>\n",
       "      <td>52</td>\n",
       "      <td>Краснодар</td>\n",
       "      <td>ultra</td>\n",
       "      <td>5</td>\n",
       "    </tr>\n",
       "    <tr>\n",
       "      <th>1</th>\n",
       "      <td>1000</td>\n",
       "      <td>43.0</td>\n",
       "      <td>172.0</td>\n",
       "      <td>60.0</td>\n",
       "      <td>23.0</td>\n",
       "      <td>52</td>\n",
       "      <td>Краснодар</td>\n",
       "      <td>ultra</td>\n",
       "      <td>5</td>\n",
       "    </tr>\n",
       "    <tr>\n",
       "      <th>2</th>\n",
       "      <td>1000</td>\n",
       "      <td>47.0</td>\n",
       "      <td>340.0</td>\n",
       "      <td>75.0</td>\n",
       "      <td>14.0</td>\n",
       "      <td>52</td>\n",
       "      <td>Краснодар</td>\n",
       "      <td>ultra</td>\n",
       "      <td>5</td>\n",
       "    </tr>\n",
       "    <tr>\n",
       "      <th>3</th>\n",
       "      <td>1000</td>\n",
       "      <td>52.0</td>\n",
       "      <td>408.0</td>\n",
       "      <td>81.0</td>\n",
       "      <td>14.0</td>\n",
       "      <td>52</td>\n",
       "      <td>Краснодар</td>\n",
       "      <td>ultra</td>\n",
       "      <td>5</td>\n",
       "    </tr>\n",
       "    <tr>\n",
       "      <th>4</th>\n",
       "      <td>1000</td>\n",
       "      <td>58.0</td>\n",
       "      <td>466.0</td>\n",
       "      <td>57.0</td>\n",
       "      <td>15.0</td>\n",
       "      <td>52</td>\n",
       "      <td>Краснодар</td>\n",
       "      <td>ultra</td>\n",
       "      <td>5</td>\n",
       "    </tr>\n",
       "    <tr>\n",
       "      <th>...</th>\n",
       "      <td>...</td>\n",
       "      <td>...</td>\n",
       "      <td>...</td>\n",
       "      <td>...</td>\n",
       "      <td>...</td>\n",
       "      <td>...</td>\n",
       "      <td>...</td>\n",
       "      <td>...</td>\n",
       "      <td>...</td>\n",
       "    </tr>\n",
       "    <tr>\n",
       "      <th>3209</th>\n",
       "      <td>1489</td>\n",
       "      <td>0.0</td>\n",
       "      <td>0.0</td>\n",
       "      <td>32.0</td>\n",
       "      <td>17.0</td>\n",
       "      <td>35</td>\n",
       "      <td>Санкт-Петербург</td>\n",
       "      <td>smart</td>\n",
       "      <td>8</td>\n",
       "    </tr>\n",
       "    <tr>\n",
       "      <th>3210</th>\n",
       "      <td>1489</td>\n",
       "      <td>0.0</td>\n",
       "      <td>0.0</td>\n",
       "      <td>21.0</td>\n",
       "      <td>20.0</td>\n",
       "      <td>35</td>\n",
       "      <td>Санкт-Петербург</td>\n",
       "      <td>smart</td>\n",
       "      <td>8</td>\n",
       "    </tr>\n",
       "    <tr>\n",
       "      <th>3211</th>\n",
       "      <td>1489</td>\n",
       "      <td>0.0</td>\n",
       "      <td>0.0</td>\n",
       "      <td>20.0</td>\n",
       "      <td>18.0</td>\n",
       "      <td>35</td>\n",
       "      <td>Санкт-Петербург</td>\n",
       "      <td>smart</td>\n",
       "      <td>8</td>\n",
       "    </tr>\n",
       "    <tr>\n",
       "      <th>3212</th>\n",
       "      <td>1489</td>\n",
       "      <td>0.0</td>\n",
       "      <td>0.0</td>\n",
       "      <td>35.0</td>\n",
       "      <td>17.0</td>\n",
       "      <td>35</td>\n",
       "      <td>Санкт-Петербург</td>\n",
       "      <td>smart</td>\n",
       "      <td>8</td>\n",
       "    </tr>\n",
       "    <tr>\n",
       "      <th>3213</th>\n",
       "      <td>1476</td>\n",
       "      <td>0.0</td>\n",
       "      <td>0.0</td>\n",
       "      <td>0.0</td>\n",
       "      <td>1.0</td>\n",
       "      <td>50</td>\n",
       "      <td>Москва</td>\n",
       "      <td>ultra</td>\n",
       "      <td>4</td>\n",
       "    </tr>\n",
       "  </tbody>\n",
       "</table>\n",
       "<p>3214 rows × 9 columns</p>\n",
       "</div>"
      ],
      "text/plain": [
       "      user_id  calls_count  duration_sum  messages_count  internet_sum  age  \\\n",
       "0        1000         22.0         159.0            22.0           3.0   52   \n",
       "1        1000         43.0         172.0            60.0          23.0   52   \n",
       "2        1000         47.0         340.0            75.0          14.0   52   \n",
       "3        1000         52.0         408.0            81.0          14.0   52   \n",
       "4        1000         58.0         466.0            57.0          15.0   52   \n",
       "...       ...          ...           ...             ...           ...  ...   \n",
       "3209     1489          0.0           0.0            32.0          17.0   35   \n",
       "3210     1489          0.0           0.0            21.0          20.0   35   \n",
       "3211     1489          0.0           0.0            20.0          18.0   35   \n",
       "3212     1489          0.0           0.0            35.0          17.0   35   \n",
       "3213     1476          0.0           0.0             0.0           1.0   50   \n",
       "\n",
       "                 city tariff  month  \n",
       "0           Краснодар  ultra      5  \n",
       "1           Краснодар  ultra      5  \n",
       "2           Краснодар  ultra      5  \n",
       "3           Краснодар  ultra      5  \n",
       "4           Краснодар  ultra      5  \n",
       "...               ...    ...    ...  \n",
       "3209  Санкт-Петербург  smart      8  \n",
       "3210  Санкт-Петербург  smart      8  \n",
       "3211  Санкт-Петербург  smart      8  \n",
       "3212  Санкт-Петербург  smart      8  \n",
       "3213           Москва  ultra      4  \n",
       "\n",
       "[3214 rows x 9 columns]"
      ]
     },
     "metadata": {},
     "output_type": "display_data"
    },
    {
     "data": {
      "text/html": [
       "<div>\n",
       "<style scoped>\n",
       "    .dataframe tbody tr th:only-of-type {\n",
       "        vertical-align: middle;\n",
       "    }\n",
       "\n",
       "    .dataframe tbody tr th {\n",
       "        vertical-align: top;\n",
       "    }\n",
       "\n",
       "    .dataframe thead th {\n",
       "        text-align: right;\n",
       "    }\n",
       "</style>\n",
       "<table border=\"1\" class=\"dataframe\">\n",
       "  <thead>\n",
       "    <tr style=\"text-align: right;\">\n",
       "      <th></th>\n",
       "      <th>messages_included</th>\n",
       "      <th>mb_per_month_included</th>\n",
       "      <th>minutes_included</th>\n",
       "      <th>rub_monthly_fee</th>\n",
       "      <th>rub_per_gb</th>\n",
       "      <th>rub_per_message</th>\n",
       "      <th>rub_per_minute</th>\n",
       "      <th>tariff_name</th>\n",
       "    </tr>\n",
       "  </thead>\n",
       "  <tbody>\n",
       "    <tr>\n",
       "      <th>0</th>\n",
       "      <td>50</td>\n",
       "      <td>15360</td>\n",
       "      <td>500</td>\n",
       "      <td>550</td>\n",
       "      <td>200</td>\n",
       "      <td>3</td>\n",
       "      <td>3</td>\n",
       "      <td>smart</td>\n",
       "    </tr>\n",
       "    <tr>\n",
       "      <th>1</th>\n",
       "      <td>1000</td>\n",
       "      <td>30720</td>\n",
       "      <td>3000</td>\n",
       "      <td>1950</td>\n",
       "      <td>150</td>\n",
       "      <td>1</td>\n",
       "      <td>1</td>\n",
       "      <td>ultra</td>\n",
       "    </tr>\n",
       "  </tbody>\n",
       "</table>\n",
       "</div>"
      ],
      "text/plain": [
       "   messages_included  mb_per_month_included  minutes_included  \\\n",
       "0                 50                  15360               500   \n",
       "1               1000                  30720              3000   \n",
       "\n",
       "   rub_monthly_fee  rub_per_gb  rub_per_message  rub_per_minute tariff_name  \n",
       "0              550         200                3               3       smart  \n",
       "1             1950         150                1               1       ultra  "
      ]
     },
     "metadata": {},
     "output_type": "display_data"
    }
   ],
   "source": [
    "# Для првоерки гипотез нам дополнительно пригодится тариф и города, созданим \n",
    "df_united = pd.merge(calls_mess_int_cscs, df_users, how='left', on=['user_id'])\n",
    "\n",
    "# удалю лишние столбцы churn_date, first_name, last_name, reg_date, reg_date\n",
    "# В случае если какие-то данные понадобятся можно отменить удаление\n",
    "\n",
    "df_united = df_united.drop(['churn_date', 'first_name', 'last_name', 'reg_date', 'reg_date'], axis = 1)\n",
    "display(df_united)\n",
    "display(df_tariffs)\n"
   ]
  },
  {
   "cell_type": "code",
   "execution_count": 14,
   "metadata": {},
   "outputs": [
    {
     "data": {
      "text/html": [
       "<div>\n",
       "<style scoped>\n",
       "    .dataframe tbody tr th:only-of-type {\n",
       "        vertical-align: middle;\n",
       "    }\n",
       "\n",
       "    .dataframe tbody tr th {\n",
       "        vertical-align: top;\n",
       "    }\n",
       "\n",
       "    .dataframe thead th {\n",
       "        text-align: right;\n",
       "    }\n",
       "</style>\n",
       "<table border=\"1\" class=\"dataframe\">\n",
       "  <thead>\n",
       "    <tr style=\"text-align: right;\">\n",
       "      <th></th>\n",
       "      <th>messages_included</th>\n",
       "      <th>mb_per_month_included</th>\n",
       "      <th>minutes_included</th>\n",
       "      <th>rub_monthly_fee</th>\n",
       "      <th>rub_per_gb</th>\n",
       "      <th>rub_per_message</th>\n",
       "      <th>rub_per_minute</th>\n",
       "      <th>tariff_name</th>\n",
       "      <th>gb_per_month_included</th>\n",
       "    </tr>\n",
       "  </thead>\n",
       "  <tbody>\n",
       "    <tr>\n",
       "      <th>0</th>\n",
       "      <td>50</td>\n",
       "      <td>15360</td>\n",
       "      <td>500</td>\n",
       "      <td>550</td>\n",
       "      <td>200</td>\n",
       "      <td>3</td>\n",
       "      <td>3</td>\n",
       "      <td>smart</td>\n",
       "      <td>15.0</td>\n",
       "    </tr>\n",
       "    <tr>\n",
       "      <th>1</th>\n",
       "      <td>1000</td>\n",
       "      <td>30720</td>\n",
       "      <td>3000</td>\n",
       "      <td>1950</td>\n",
       "      <td>150</td>\n",
       "      <td>1</td>\n",
       "      <td>1</td>\n",
       "      <td>ultra</td>\n",
       "      <td>30.0</td>\n",
       "    </tr>\n",
       "  </tbody>\n",
       "</table>\n",
       "</div>"
      ],
      "text/plain": [
       "   messages_included  mb_per_month_included  minutes_included  \\\n",
       "0                 50                  15360               500   \n",
       "1               1000                  30720              3000   \n",
       "\n",
       "   rub_monthly_fee  rub_per_gb  rub_per_message  rub_per_minute tariff_name  \\\n",
       "0              550         200                3               3       smart   \n",
       "1             1950         150                1               1       ultra   \n",
       "\n",
       "   gb_per_month_included  \n",
       "0                   15.0  \n",
       "1                   30.0  "
      ]
     },
     "execution_count": 14,
     "metadata": {},
     "output_type": "execute_result"
    }
   ],
   "source": [
    "#в тарифах указано количество в мб, добавим столбец, сколько ГБ дается на тарифе в месяц для удобства\n",
    "df_tariffs['gb_per_month_included'] = df_tariffs['mb_per_month_included']/1024\n",
    "df_tariffs"
   ]
  },
  {
   "cell_type": "code",
   "execution_count": 15,
   "metadata": {},
   "outputs": [],
   "source": [
    "#Функция посчета выручки в зависимости от тарифа\n",
    "\n",
    "def revenue(row):\n",
    "    \n",
    "    messages=row['messages_count']\n",
    "    calls=row['duration_sum']\n",
    "    internet=row['internet_sum']\n",
    "    tariff=row['tariff']\n",
    "    \n",
    "    \n",
    "    if (tariff == 'smart'):\n",
    "        i=0\n",
    "    else:\n",
    "        i=1\n",
    "        \n",
    "    call_remains=df_tariffs['minutes_included'][i]-calls\n",
    "    if call_remains<0:\n",
    "        call_revenue=-call_remains*df_tariffs['rub_per_minute'][i]\n",
    "    else:\n",
    "        call_revenue=0\n",
    "         \n",
    "    internet_remains=df_tariffs['gb_per_month_included'][i]-internet\n",
    "    if internet_remains<0:\n",
    "        internet_revenue=-internet_remains*df_tariffs['rub_per_gb'][i]\n",
    "    else:\n",
    "        internet_revenue=0\n",
    "            \n",
    "    messages_remains=df_tariffs['messages_included'][i]-messages\n",
    "    if messages_remains<0:\n",
    "        messages_revenue=-messages_remains*df_tariffs['rub_per_message'][i]\n",
    "    else:\n",
    "        messages_revenue=0\n",
    "            \n",
    "    revenue_endless=call_revenue+internet_revenue+messages_revenue+df_tariffs['rub_monthly_fee'][i]\n",
    "    return revenue_endless    "
   ]
  },
  {
   "cell_type": "code",
   "execution_count": 16,
   "metadata": {
    "scrolled": false
   },
   "outputs": [
    {
     "data": {
      "text/html": [
       "<div>\n",
       "<style scoped>\n",
       "    .dataframe tbody tr th:only-of-type {\n",
       "        vertical-align: middle;\n",
       "    }\n",
       "\n",
       "    .dataframe tbody tr th {\n",
       "        vertical-align: top;\n",
       "    }\n",
       "\n",
       "    .dataframe thead th {\n",
       "        text-align: right;\n",
       "    }\n",
       "</style>\n",
       "<table border=\"1\" class=\"dataframe\">\n",
       "  <thead>\n",
       "    <tr style=\"text-align: right;\">\n",
       "      <th></th>\n",
       "      <th>user_id</th>\n",
       "      <th>calls_count</th>\n",
       "      <th>duration_sum</th>\n",
       "      <th>messages_count</th>\n",
       "      <th>internet_sum</th>\n",
       "      <th>age</th>\n",
       "      <th>city</th>\n",
       "      <th>tariff</th>\n",
       "      <th>month</th>\n",
       "      <th>revenue_endless</th>\n",
       "    </tr>\n",
       "  </thead>\n",
       "  <tbody>\n",
       "    <tr>\n",
       "      <th>2127</th>\n",
       "      <td>1340</td>\n",
       "      <td>5.0</td>\n",
       "      <td>25.0</td>\n",
       "      <td>0.0</td>\n",
       "      <td>3.0</td>\n",
       "      <td>50</td>\n",
       "      <td>Пенза</td>\n",
       "      <td>smart</td>\n",
       "      <td>1</td>\n",
       "      <td>550.0</td>\n",
       "    </tr>\n",
       "    <tr>\n",
       "      <th>2982</th>\n",
       "      <td>1468</td>\n",
       "      <td>36.0</td>\n",
       "      <td>276.0</td>\n",
       "      <td>13.0</td>\n",
       "      <td>13.0</td>\n",
       "      <td>29</td>\n",
       "      <td>Тамбов</td>\n",
       "      <td>smart</td>\n",
       "      <td>2</td>\n",
       "      <td>550.0</td>\n",
       "    </tr>\n",
       "    <tr>\n",
       "      <th>2318</th>\n",
       "      <td>1373</td>\n",
       "      <td>2.0</td>\n",
       "      <td>0.0</td>\n",
       "      <td>28.0</td>\n",
       "      <td>9.0</td>\n",
       "      <td>34</td>\n",
       "      <td>Улан-Удэ</td>\n",
       "      <td>smart</td>\n",
       "      <td>1</td>\n",
       "      <td>550.0</td>\n",
       "    </tr>\n",
       "    <tr>\n",
       "      <th>829</th>\n",
       "      <td>1134</td>\n",
       "      <td>59.0</td>\n",
       "      <td>458.0</td>\n",
       "      <td>47.0</td>\n",
       "      <td>13.0</td>\n",
       "      <td>65</td>\n",
       "      <td>Красноярск</td>\n",
       "      <td>smart</td>\n",
       "      <td>1</td>\n",
       "      <td>550.0</td>\n",
       "    </tr>\n",
       "    <tr>\n",
       "      <th>1721</th>\n",
       "      <td>1275</td>\n",
       "      <td>61.0</td>\n",
       "      <td>364.0</td>\n",
       "      <td>17.0</td>\n",
       "      <td>15.0</td>\n",
       "      <td>48</td>\n",
       "      <td>Москва</td>\n",
       "      <td>smart</td>\n",
       "      <td>4</td>\n",
       "      <td>550.0</td>\n",
       "    </tr>\n",
       "  </tbody>\n",
       "</table>\n",
       "</div>"
      ],
      "text/plain": [
       "      user_id  calls_count  duration_sum  messages_count  internet_sum  age  \\\n",
       "2127     1340          5.0          25.0             0.0           3.0   50   \n",
       "2982     1468         36.0         276.0            13.0          13.0   29   \n",
       "2318     1373          2.0           0.0            28.0           9.0   34   \n",
       "829      1134         59.0         458.0            47.0          13.0   65   \n",
       "1721     1275         61.0         364.0            17.0          15.0   48   \n",
       "\n",
       "            city tariff  month  revenue_endless  \n",
       "2127       Пенза  smart      1            550.0  \n",
       "2982      Тамбов  smart      2            550.0  \n",
       "2318    Улан-Удэ  smart      1            550.0  \n",
       "829   Красноярск  smart      1            550.0  \n",
       "1721      Москва  smart      4            550.0  "
      ]
     },
     "metadata": {},
     "output_type": "display_data"
    },
    {
     "data": {
      "text/html": [
       "<div>\n",
       "<style scoped>\n",
       "    .dataframe tbody tr th:only-of-type {\n",
       "        vertical-align: middle;\n",
       "    }\n",
       "\n",
       "    .dataframe tbody tr th {\n",
       "        vertical-align: top;\n",
       "    }\n",
       "\n",
       "    .dataframe thead th {\n",
       "        text-align: right;\n",
       "    }\n",
       "</style>\n",
       "<table border=\"1\" class=\"dataframe\">\n",
       "  <thead>\n",
       "    <tr style=\"text-align: right;\">\n",
       "      <th></th>\n",
       "      <th>user_id</th>\n",
       "      <th>calls_count</th>\n",
       "      <th>duration_sum</th>\n",
       "      <th>messages_count</th>\n",
       "      <th>internet_sum</th>\n",
       "      <th>age</th>\n",
       "      <th>month</th>\n",
       "      <th>revenue_endless</th>\n",
       "    </tr>\n",
       "  </thead>\n",
       "  <tbody>\n",
       "    <tr>\n",
       "      <th>count</th>\n",
       "      <td>3214.000000</td>\n",
       "      <td>3214.000000</td>\n",
       "      <td>3214.000000</td>\n",
       "      <td>3214.000000</td>\n",
       "      <td>3214.000000</td>\n",
       "      <td>3214.000000</td>\n",
       "      <td>3214.000000</td>\n",
       "      <td>3214.000000</td>\n",
       "    </tr>\n",
       "    <tr>\n",
       "      <th>mean</th>\n",
       "      <td>1251.590230</td>\n",
       "      <td>63.038892</td>\n",
       "      <td>451.244866</td>\n",
       "      <td>38.281269</td>\n",
       "      <td>17.299627</td>\n",
       "      <td>46.641568</td>\n",
       "      <td>4.719042</td>\n",
       "      <td>1529.076229</td>\n",
       "    </tr>\n",
       "    <tr>\n",
       "      <th>std</th>\n",
       "      <td>144.659172</td>\n",
       "      <td>33.236368</td>\n",
       "      <td>241.909978</td>\n",
       "      <td>36.148326</td>\n",
       "      <td>7.399171</td>\n",
       "      <td>16.586109</td>\n",
       "      <td>2.908036</td>\n",
       "      <td>798.251091</td>\n",
       "    </tr>\n",
       "    <tr>\n",
       "      <th>min</th>\n",
       "      <td>1000.000000</td>\n",
       "      <td>0.000000</td>\n",
       "      <td>0.000000</td>\n",
       "      <td>0.000000</td>\n",
       "      <td>0.000000</td>\n",
       "      <td>18.000000</td>\n",
       "      <td>1.000000</td>\n",
       "      <td>550.000000</td>\n",
       "    </tr>\n",
       "    <tr>\n",
       "      <th>25%</th>\n",
       "      <td>1125.000000</td>\n",
       "      <td>40.000000</td>\n",
       "      <td>282.000000</td>\n",
       "      <td>9.000000</td>\n",
       "      <td>13.000000</td>\n",
       "      <td>32.000000</td>\n",
       "      <td>2.000000</td>\n",
       "      <td>750.000000</td>\n",
       "    </tr>\n",
       "    <tr>\n",
       "      <th>50%</th>\n",
       "      <td>1253.000000</td>\n",
       "      <td>62.000000</td>\n",
       "      <td>443.000000</td>\n",
       "      <td>30.000000</td>\n",
       "      <td>17.000000</td>\n",
       "      <td>46.000000</td>\n",
       "      <td>4.000000</td>\n",
       "      <td>1653.500000</td>\n",
       "    </tr>\n",
       "    <tr>\n",
       "      <th>75%</th>\n",
       "      <td>1378.750000</td>\n",
       "      <td>82.000000</td>\n",
       "      <td>589.000000</td>\n",
       "      <td>57.000000</td>\n",
       "      <td>21.000000</td>\n",
       "      <td>62.000000</td>\n",
       "      <td>7.000000</td>\n",
       "      <td>1950.000000</td>\n",
       "    </tr>\n",
       "    <tr>\n",
       "      <th>max</th>\n",
       "      <td>1499.000000</td>\n",
       "      <td>244.000000</td>\n",
       "      <td>1673.000000</td>\n",
       "      <td>224.000000</td>\n",
       "      <td>49.000000</td>\n",
       "      <td>75.000000</td>\n",
       "      <td>12.000000</td>\n",
       "      <td>6770.000000</td>\n",
       "    </tr>\n",
       "  </tbody>\n",
       "</table>\n",
       "</div>"
      ],
      "text/plain": [
       "           user_id  calls_count  duration_sum  messages_count  internet_sum  \\\n",
       "count  3214.000000  3214.000000   3214.000000     3214.000000   3214.000000   \n",
       "mean   1251.590230    63.038892    451.244866       38.281269     17.299627   \n",
       "std     144.659172    33.236368    241.909978       36.148326      7.399171   \n",
       "min    1000.000000     0.000000      0.000000        0.000000      0.000000   \n",
       "25%    1125.000000    40.000000    282.000000        9.000000     13.000000   \n",
       "50%    1253.000000    62.000000    443.000000       30.000000     17.000000   \n",
       "75%    1378.750000    82.000000    589.000000       57.000000     21.000000   \n",
       "max    1499.000000   244.000000   1673.000000      224.000000     49.000000   \n",
       "\n",
       "               age        month  revenue_endless  \n",
       "count  3214.000000  3214.000000      3214.000000  \n",
       "mean     46.641568     4.719042      1529.076229  \n",
       "std      16.586109     2.908036       798.251091  \n",
       "min      18.000000     1.000000       550.000000  \n",
       "25%      32.000000     2.000000       750.000000  \n",
       "50%      46.000000     4.000000      1653.500000  \n",
       "75%      62.000000     7.000000      1950.000000  \n",
       "max      75.000000    12.000000      6770.000000  "
      ]
     },
     "execution_count": 16,
     "metadata": {},
     "output_type": "execute_result"
    }
   ],
   "source": [
    "# Посчитаем \n",
    "df_united['revenue_endless']=df_united.apply(revenue,axis=1)\n",
    "display(df_united.sort_values(by='revenue_endless').head())\n",
    "df_united.describe()"
   ]
  },
  {
   "cell_type": "code",
   "execution_count": 17,
   "metadata": {},
   "outputs": [
    {
     "data": {
      "text/plain": [
       "tariff\n",
       "smart    2875351.0\n",
       "ultra    2039100.0\n",
       "Name: revenue_endless, dtype: float64"
      ]
     },
     "execution_count": 17,
     "metadata": {},
     "output_type": "execute_result"
    }
   ],
   "source": [
    "df_united.groupby('tariff')['revenue_endless'].sum()"
   ]
  },
  {
   "cell_type": "code",
   "execution_count": 18,
   "metadata": {},
   "outputs": [
    {
     "name": "stdout",
     "output_type": "stream",
     "text": [
      "Тариф - \"smart\"\n"
     ]
    },
    {
     "data": {
      "text/html": [
       "<div>\n",
       "<style scoped>\n",
       "    .dataframe tbody tr th:only-of-type {\n",
       "        vertical-align: middle;\n",
       "    }\n",
       "\n",
       "    .dataframe tbody tr th {\n",
       "        vertical-align: top;\n",
       "    }\n",
       "\n",
       "    .dataframe thead th {\n",
       "        text-align: right;\n",
       "    }\n",
       "</style>\n",
       "<table border=\"1\" class=\"dataframe\">\n",
       "  <thead>\n",
       "    <tr style=\"text-align: right;\">\n",
       "      <th></th>\n",
       "      <th>user_id</th>\n",
       "      <th>calls_count</th>\n",
       "      <th>duration_sum</th>\n",
       "      <th>messages_count</th>\n",
       "      <th>internet_sum</th>\n",
       "      <th>age</th>\n",
       "      <th>city</th>\n",
       "      <th>tariff</th>\n",
       "      <th>month</th>\n",
       "      <th>revenue_endless</th>\n",
       "    </tr>\n",
       "  </thead>\n",
       "  <tbody>\n",
       "    <tr>\n",
       "      <th>8</th>\n",
       "      <td>1001</td>\n",
       "      <td>59.0</td>\n",
       "      <td>430.0</td>\n",
       "      <td>0.0</td>\n",
       "      <td>18.0</td>\n",
       "      <td>41</td>\n",
       "      <td>Москва</td>\n",
       "      <td>smart</td>\n",
       "      <td>11</td>\n",
       "      <td>1150.0</td>\n",
       "    </tr>\n",
       "    <tr>\n",
       "      <th>11</th>\n",
       "      <td>1002</td>\n",
       "      <td>26.0</td>\n",
       "      <td>214.0</td>\n",
       "      <td>11.0</td>\n",
       "      <td>18.0</td>\n",
       "      <td>59</td>\n",
       "      <td>Стерлитамак</td>\n",
       "      <td>smart</td>\n",
       "      <td>6</td>\n",
       "      <td>1150.0</td>\n",
       "    </tr>\n",
       "    <tr>\n",
       "      <th>12</th>\n",
       "      <td>1002</td>\n",
       "      <td>42.0</td>\n",
       "      <td>289.0</td>\n",
       "      <td>13.0</td>\n",
       "      <td>20.0</td>\n",
       "      <td>59</td>\n",
       "      <td>Стерлитамак</td>\n",
       "      <td>smart</td>\n",
       "      <td>6</td>\n",
       "      <td>1550.0</td>\n",
       "    </tr>\n",
       "    <tr>\n",
       "      <th>13</th>\n",
       "      <td>1002</td>\n",
       "      <td>36.0</td>\n",
       "      <td>206.0</td>\n",
       "      <td>4.0</td>\n",
       "      <td>17.0</td>\n",
       "      <td>59</td>\n",
       "      <td>Стерлитамак</td>\n",
       "      <td>smart</td>\n",
       "      <td>6</td>\n",
       "      <td>950.0</td>\n",
       "    </tr>\n",
       "    <tr>\n",
       "      <th>15</th>\n",
       "      <td>1002</td>\n",
       "      <td>32.0</td>\n",
       "      <td>243.0</td>\n",
       "      <td>16.0</td>\n",
       "      <td>19.0</td>\n",
       "      <td>59</td>\n",
       "      <td>Стерлитамак</td>\n",
       "      <td>smart</td>\n",
       "      <td>6</td>\n",
       "      <td>1350.0</td>\n",
       "    </tr>\n",
       "    <tr>\n",
       "      <th>...</th>\n",
       "      <td>...</td>\n",
       "      <td>...</td>\n",
       "      <td>...</td>\n",
       "      <td>...</td>\n",
       "      <td>...</td>\n",
       "      <td>...</td>\n",
       "      <td>...</td>\n",
       "      <td>...</td>\n",
       "      <td>...</td>\n",
       "      <td>...</td>\n",
       "    </tr>\n",
       "    <tr>\n",
       "      <th>3173</th>\n",
       "      <td>1499</td>\n",
       "      <td>69.0</td>\n",
       "      <td>492.0</td>\n",
       "      <td>66.0</td>\n",
       "      <td>13.0</td>\n",
       "      <td>35</td>\n",
       "      <td>Пермь</td>\n",
       "      <td>smart</td>\n",
       "      <td>9</td>\n",
       "      <td>598.0</td>\n",
       "    </tr>\n",
       "    <tr>\n",
       "      <th>3209</th>\n",
       "      <td>1489</td>\n",
       "      <td>0.0</td>\n",
       "      <td>0.0</td>\n",
       "      <td>32.0</td>\n",
       "      <td>17.0</td>\n",
       "      <td>35</td>\n",
       "      <td>Санкт-Петербург</td>\n",
       "      <td>smart</td>\n",
       "      <td>8</td>\n",
       "      <td>950.0</td>\n",
       "    </tr>\n",
       "    <tr>\n",
       "      <th>3210</th>\n",
       "      <td>1489</td>\n",
       "      <td>0.0</td>\n",
       "      <td>0.0</td>\n",
       "      <td>21.0</td>\n",
       "      <td>20.0</td>\n",
       "      <td>35</td>\n",
       "      <td>Санкт-Петербург</td>\n",
       "      <td>smart</td>\n",
       "      <td>8</td>\n",
       "      <td>1550.0</td>\n",
       "    </tr>\n",
       "    <tr>\n",
       "      <th>3211</th>\n",
       "      <td>1489</td>\n",
       "      <td>0.0</td>\n",
       "      <td>0.0</td>\n",
       "      <td>20.0</td>\n",
       "      <td>18.0</td>\n",
       "      <td>35</td>\n",
       "      <td>Санкт-Петербург</td>\n",
       "      <td>smart</td>\n",
       "      <td>8</td>\n",
       "      <td>1150.0</td>\n",
       "    </tr>\n",
       "    <tr>\n",
       "      <th>3212</th>\n",
       "      <td>1489</td>\n",
       "      <td>0.0</td>\n",
       "      <td>0.0</td>\n",
       "      <td>35.0</td>\n",
       "      <td>17.0</td>\n",
       "      <td>35</td>\n",
       "      <td>Санкт-Петербург</td>\n",
       "      <td>smart</td>\n",
       "      <td>8</td>\n",
       "      <td>950.0</td>\n",
       "    </tr>\n",
       "  </tbody>\n",
       "</table>\n",
       "<p>1662 rows × 10 columns</p>\n",
       "</div>"
      ],
      "text/plain": [
       "      user_id  calls_count  duration_sum  messages_count  internet_sum  age  \\\n",
       "8        1001         59.0         430.0             0.0          18.0   41   \n",
       "11       1002         26.0         214.0            11.0          18.0   59   \n",
       "12       1002         42.0         289.0            13.0          20.0   59   \n",
       "13       1002         36.0         206.0             4.0          17.0   59   \n",
       "15       1002         32.0         243.0            16.0          19.0   59   \n",
       "...       ...          ...           ...             ...           ...  ...   \n",
       "3173     1499         69.0         492.0            66.0          13.0   35   \n",
       "3209     1489          0.0           0.0            32.0          17.0   35   \n",
       "3210     1489          0.0           0.0            21.0          20.0   35   \n",
       "3211     1489          0.0           0.0            20.0          18.0   35   \n",
       "3212     1489          0.0           0.0            35.0          17.0   35   \n",
       "\n",
       "                 city tariff  month  revenue_endless  \n",
       "8              Москва  smart     11           1150.0  \n",
       "11        Стерлитамак  smart      6           1150.0  \n",
       "12        Стерлитамак  smart      6           1550.0  \n",
       "13        Стерлитамак  smart      6            950.0  \n",
       "15        Стерлитамак  smart      6           1350.0  \n",
       "...               ...    ...    ...              ...  \n",
       "3173            Пермь  smart      9            598.0  \n",
       "3209  Санкт-Петербург  smart      8            950.0  \n",
       "3210  Санкт-Петербург  smart      8           1550.0  \n",
       "3211  Санкт-Петербург  smart      8           1150.0  \n",
       "3212  Санкт-Петербург  smart      8            950.0  \n",
       "\n",
       "[1662 rows x 10 columns]"
      ]
     },
     "metadata": {},
     "output_type": "display_data"
    },
    {
     "name": "stdout",
     "output_type": "stream",
     "text": [
      "\n",
      "Тариф - \"ultra\"\n"
     ]
    },
    {
     "data": {
      "text/html": [
       "<div>\n",
       "<style scoped>\n",
       "    .dataframe tbody tr th:only-of-type {\n",
       "        vertical-align: middle;\n",
       "    }\n",
       "\n",
       "    .dataframe tbody tr th {\n",
       "        vertical-align: top;\n",
       "    }\n",
       "\n",
       "    .dataframe thead th {\n",
       "        text-align: right;\n",
       "    }\n",
       "</style>\n",
       "<table border=\"1\" class=\"dataframe\">\n",
       "  <thead>\n",
       "    <tr style=\"text-align: right;\">\n",
       "      <th></th>\n",
       "      <th>user_id</th>\n",
       "      <th>calls_count</th>\n",
       "      <th>duration_sum</th>\n",
       "      <th>messages_count</th>\n",
       "      <th>internet_sum</th>\n",
       "      <th>age</th>\n",
       "      <th>city</th>\n",
       "      <th>tariff</th>\n",
       "      <th>month</th>\n",
       "      <th>revenue_endless</th>\n",
       "    </tr>\n",
       "  </thead>\n",
       "  <tbody>\n",
       "    <tr>\n",
       "      <th>159</th>\n",
       "      <td>1024</td>\n",
       "      <td>157.0</td>\n",
       "      <td>1146.0</td>\n",
       "      <td>0.0</td>\n",
       "      <td>43.0</td>\n",
       "      <td>73</td>\n",
       "      <td>Санкт-Петербург</td>\n",
       "      <td>ultra</td>\n",
       "      <td>10</td>\n",
       "      <td>3900.0</td>\n",
       "    </tr>\n",
       "    <tr>\n",
       "      <th>160</th>\n",
       "      <td>1024</td>\n",
       "      <td>136.0</td>\n",
       "      <td>949.0</td>\n",
       "      <td>0.0</td>\n",
       "      <td>36.0</td>\n",
       "      <td>73</td>\n",
       "      <td>Санкт-Петербург</td>\n",
       "      <td>ultra</td>\n",
       "      <td>10</td>\n",
       "      <td>2850.0</td>\n",
       "    </tr>\n",
       "    <tr>\n",
       "      <th>311</th>\n",
       "      <td>1050</td>\n",
       "      <td>35.0</td>\n",
       "      <td>209.0</td>\n",
       "      <td>52.0</td>\n",
       "      <td>35.0</td>\n",
       "      <td>44</td>\n",
       "      <td>Тюмень</td>\n",
       "      <td>ultra</td>\n",
       "      <td>6</td>\n",
       "      <td>2700.0</td>\n",
       "    </tr>\n",
       "    <tr>\n",
       "      <th>383</th>\n",
       "      <td>1060</td>\n",
       "      <td>184.0</td>\n",
       "      <td>1233.0</td>\n",
       "      <td>52.0</td>\n",
       "      <td>43.0</td>\n",
       "      <td>46</td>\n",
       "      <td>Калуга</td>\n",
       "      <td>ultra</td>\n",
       "      <td>11</td>\n",
       "      <td>3900.0</td>\n",
       "    </tr>\n",
       "    <tr>\n",
       "      <th>782</th>\n",
       "      <td>1124</td>\n",
       "      <td>152.0</td>\n",
       "      <td>1225.0</td>\n",
       "      <td>121.0</td>\n",
       "      <td>49.0</td>\n",
       "      <td>54</td>\n",
       "      <td>Махачкала</td>\n",
       "      <td>ultra</td>\n",
       "      <td>9</td>\n",
       "      <td>4800.0</td>\n",
       "    </tr>\n",
       "    <tr>\n",
       "      <th>...</th>\n",
       "      <td>...</td>\n",
       "      <td>...</td>\n",
       "      <td>...</td>\n",
       "      <td>...</td>\n",
       "      <td>...</td>\n",
       "      <td>...</td>\n",
       "      <td>...</td>\n",
       "      <td>...</td>\n",
       "      <td>...</td>\n",
       "      <td>...</td>\n",
       "    </tr>\n",
       "    <tr>\n",
       "      <th>3195</th>\n",
       "      <td>1231</td>\n",
       "      <td>0.0</td>\n",
       "      <td>0.0</td>\n",
       "      <td>188.0</td>\n",
       "      <td>33.0</td>\n",
       "      <td>63</td>\n",
       "      <td>Чебоксары</td>\n",
       "      <td>ultra</td>\n",
       "      <td>5</td>\n",
       "      <td>2400.0</td>\n",
       "    </tr>\n",
       "    <tr>\n",
       "      <th>3196</th>\n",
       "      <td>1231</td>\n",
       "      <td>0.0</td>\n",
       "      <td>0.0</td>\n",
       "      <td>185.0</td>\n",
       "      <td>31.0</td>\n",
       "      <td>63</td>\n",
       "      <td>Чебоксары</td>\n",
       "      <td>ultra</td>\n",
       "      <td>5</td>\n",
       "      <td>2100.0</td>\n",
       "    </tr>\n",
       "    <tr>\n",
       "      <th>3198</th>\n",
       "      <td>1231</td>\n",
       "      <td>0.0</td>\n",
       "      <td>0.0</td>\n",
       "      <td>191.0</td>\n",
       "      <td>32.0</td>\n",
       "      <td>63</td>\n",
       "      <td>Чебоксары</td>\n",
       "      <td>ultra</td>\n",
       "      <td>5</td>\n",
       "      <td>2250.0</td>\n",
       "    </tr>\n",
       "    <tr>\n",
       "      <th>3200</th>\n",
       "      <td>1328</td>\n",
       "      <td>0.0</td>\n",
       "      <td>0.0</td>\n",
       "      <td>8.0</td>\n",
       "      <td>35.0</td>\n",
       "      <td>44</td>\n",
       "      <td>Мурманск</td>\n",
       "      <td>ultra</td>\n",
       "      <td>10</td>\n",
       "      <td>2700.0</td>\n",
       "    </tr>\n",
       "    <tr>\n",
       "      <th>3201</th>\n",
       "      <td>1328</td>\n",
       "      <td>0.0</td>\n",
       "      <td>0.0</td>\n",
       "      <td>7.0</td>\n",
       "      <td>39.0</td>\n",
       "      <td>44</td>\n",
       "      <td>Мурманск</td>\n",
       "      <td>ultra</td>\n",
       "      <td>10</td>\n",
       "      <td>3300.0</td>\n",
       "    </tr>\n",
       "  </tbody>\n",
       "</table>\n",
       "<p>134 rows × 10 columns</p>\n",
       "</div>"
      ],
      "text/plain": [
       "      user_id  calls_count  duration_sum  messages_count  internet_sum  age  \\\n",
       "159      1024        157.0        1146.0             0.0          43.0   73   \n",
       "160      1024        136.0         949.0             0.0          36.0   73   \n",
       "311      1050         35.0         209.0            52.0          35.0   44   \n",
       "383      1060        184.0        1233.0            52.0          43.0   46   \n",
       "782      1124        152.0        1225.0           121.0          49.0   54   \n",
       "...       ...          ...           ...             ...           ...  ...   \n",
       "3195     1231          0.0           0.0           188.0          33.0   63   \n",
       "3196     1231          0.0           0.0           185.0          31.0   63   \n",
       "3198     1231          0.0           0.0           191.0          32.0   63   \n",
       "3200     1328          0.0           0.0             8.0          35.0   44   \n",
       "3201     1328          0.0           0.0             7.0          39.0   44   \n",
       "\n",
       "                 city tariff  month  revenue_endless  \n",
       "159   Санкт-Петербург  ultra     10           3900.0  \n",
       "160   Санкт-Петербург  ultra     10           2850.0  \n",
       "311            Тюмень  ultra      6           2700.0  \n",
       "383            Калуга  ultra     11           3900.0  \n",
       "782         Махачкала  ultra      9           4800.0  \n",
       "...               ...    ...    ...              ...  \n",
       "3195        Чебоксары  ultra      5           2400.0  \n",
       "3196        Чебоксары  ultra      5           2100.0  \n",
       "3198        Чебоксары  ultra      5           2250.0  \n",
       "3200         Мурманск  ultra     10           2700.0  \n",
       "3201         Мурманск  ultra     10           3300.0  \n",
       "\n",
       "[134 rows x 10 columns]"
      ]
     },
     "metadata": {},
     "output_type": "display_data"
    },
    {
     "name": "stdout",
     "output_type": "stream",
     "text": [
      "\n"
     ]
    },
    {
     "data": {
      "text/html": [
       "<div>\n",
       "<style scoped>\n",
       "    .dataframe tbody tr th:only-of-type {\n",
       "        vertical-align: middle;\n",
       "    }\n",
       "\n",
       "    .dataframe tbody tr th {\n",
       "        vertical-align: top;\n",
       "    }\n",
       "\n",
       "    .dataframe thead th {\n",
       "        text-align: right;\n",
       "    }\n",
       "</style>\n",
       "<table border=\"1\" class=\"dataframe\">\n",
       "  <thead>\n",
       "    <tr style=\"text-align: right;\">\n",
       "      <th></th>\n",
       "      <th>user_id</th>\n",
       "      <th>calls_count</th>\n",
       "      <th>duration_sum</th>\n",
       "      <th>messages_count</th>\n",
       "      <th>internet_sum</th>\n",
       "      <th>age</th>\n",
       "      <th>month</th>\n",
       "      <th>revenue_endless</th>\n",
       "    </tr>\n",
       "  </thead>\n",
       "  <tbody>\n",
       "    <tr>\n",
       "      <th>count</th>\n",
       "      <td>3214.000000</td>\n",
       "      <td>3214.000000</td>\n",
       "      <td>3214.000000</td>\n",
       "      <td>3214.000000</td>\n",
       "      <td>3214.000000</td>\n",
       "      <td>3214.000000</td>\n",
       "      <td>3214.000000</td>\n",
       "      <td>3214.000000</td>\n",
       "    </tr>\n",
       "    <tr>\n",
       "      <th>mean</th>\n",
       "      <td>1251.590230</td>\n",
       "      <td>63.038892</td>\n",
       "      <td>451.244866</td>\n",
       "      <td>38.281269</td>\n",
       "      <td>17.299627</td>\n",
       "      <td>46.641568</td>\n",
       "      <td>4.719042</td>\n",
       "      <td>1529.076229</td>\n",
       "    </tr>\n",
       "    <tr>\n",
       "      <th>std</th>\n",
       "      <td>144.659172</td>\n",
       "      <td>33.236368</td>\n",
       "      <td>241.909978</td>\n",
       "      <td>36.148326</td>\n",
       "      <td>7.399171</td>\n",
       "      <td>16.586109</td>\n",
       "      <td>2.908036</td>\n",
       "      <td>798.251091</td>\n",
       "    </tr>\n",
       "    <tr>\n",
       "      <th>min</th>\n",
       "      <td>1000.000000</td>\n",
       "      <td>0.000000</td>\n",
       "      <td>0.000000</td>\n",
       "      <td>0.000000</td>\n",
       "      <td>0.000000</td>\n",
       "      <td>18.000000</td>\n",
       "      <td>1.000000</td>\n",
       "      <td>550.000000</td>\n",
       "    </tr>\n",
       "    <tr>\n",
       "      <th>25%</th>\n",
       "      <td>1125.000000</td>\n",
       "      <td>40.000000</td>\n",
       "      <td>282.000000</td>\n",
       "      <td>9.000000</td>\n",
       "      <td>13.000000</td>\n",
       "      <td>32.000000</td>\n",
       "      <td>2.000000</td>\n",
       "      <td>750.000000</td>\n",
       "    </tr>\n",
       "    <tr>\n",
       "      <th>50%</th>\n",
       "      <td>1253.000000</td>\n",
       "      <td>62.000000</td>\n",
       "      <td>443.000000</td>\n",
       "      <td>30.000000</td>\n",
       "      <td>17.000000</td>\n",
       "      <td>46.000000</td>\n",
       "      <td>4.000000</td>\n",
       "      <td>1653.500000</td>\n",
       "    </tr>\n",
       "    <tr>\n",
       "      <th>75%</th>\n",
       "      <td>1378.750000</td>\n",
       "      <td>82.000000</td>\n",
       "      <td>589.000000</td>\n",
       "      <td>57.000000</td>\n",
       "      <td>21.000000</td>\n",
       "      <td>62.000000</td>\n",
       "      <td>7.000000</td>\n",
       "      <td>1950.000000</td>\n",
       "    </tr>\n",
       "    <tr>\n",
       "      <th>max</th>\n",
       "      <td>1499.000000</td>\n",
       "      <td>244.000000</td>\n",
       "      <td>1673.000000</td>\n",
       "      <td>224.000000</td>\n",
       "      <td>49.000000</td>\n",
       "      <td>75.000000</td>\n",
       "      <td>12.000000</td>\n",
       "      <td>6770.000000</td>\n",
       "    </tr>\n",
       "  </tbody>\n",
       "</table>\n",
       "</div>"
      ],
      "text/plain": [
       "           user_id  calls_count  duration_sum  messages_count  internet_sum  \\\n",
       "count  3214.000000  3214.000000   3214.000000     3214.000000   3214.000000   \n",
       "mean   1251.590230    63.038892    451.244866       38.281269     17.299627   \n",
       "std     144.659172    33.236368    241.909978       36.148326      7.399171   \n",
       "min    1000.000000     0.000000      0.000000        0.000000      0.000000   \n",
       "25%    1125.000000    40.000000    282.000000        9.000000     13.000000   \n",
       "50%    1253.000000    62.000000    443.000000       30.000000     17.000000   \n",
       "75%    1378.750000    82.000000    589.000000       57.000000     21.000000   \n",
       "max    1499.000000   244.000000   1673.000000      224.000000     49.000000   \n",
       "\n",
       "               age        month  revenue_endless  \n",
       "count  3214.000000  3214.000000      3214.000000  \n",
       "mean     46.641568     4.719042      1529.076229  \n",
       "std      16.586109     2.908036       798.251091  \n",
       "min      18.000000     1.000000       550.000000  \n",
       "25%      32.000000     2.000000       750.000000  \n",
       "50%      46.000000     4.000000      1653.500000  \n",
       "75%      62.000000     7.000000      1950.000000  \n",
       "max      75.000000    12.000000      6770.000000  "
      ]
     },
     "execution_count": 18,
     "metadata": {},
     "output_type": "execute_result"
    }
   ],
   "source": [
    "# проверим, что правильно подсчиталось\n",
    "print('Тариф - \"smart\"')\n",
    "display(df_united.query('tariff==\"smart\" and revenue_endless>550'))\n",
    "print()\n",
    "\n",
    "print('Тариф - \"ultra\"')\n",
    "display(df_united.query('tariff==\"ultra\" and revenue_endless>1950'))\n",
    "print()\n",
    "\n",
    "df_united.describe()\n",
    "\n",
    "# 1001 потратил на 3 гб больше = 600 рублей, поэтому 1150\n",
    "# 1499 потратил на 5 мин больше = 15 рублей и 16 сообщений = 48 рублей, 550+63 = 613\n",
    "# Выглядит правильно"
   ]
  },
  {
   "cell_type": "markdown",
   "metadata": {},
   "source": [
    "Максимальная сумма 6824 рублей, минимальная - 550 руб. В целом выглядит логично и без явных ошибок."
   ]
  },
  {
   "cell_type": "markdown",
   "metadata": {},
   "source": [
    "**Промежуточные итоги**\n",
    "\n",
    "* Проверили данные и исправили ошибки\n",
    "* Сделали необходимые подсчеты\n",
    "* Создали таблицу с общими данными\n",
    "\n"
   ]
  },
  {
   "cell_type": "markdown",
   "metadata": {},
   "source": [
    "## Анализ данных"
   ]
  },
  {
   "cell_type": "markdown",
   "metadata": {},
   "source": [
    "Опишите поведение клиентов оператора, исходя из выборки. \n",
    "* Сколько минут разговора, сколько сообщений и какой объём интернет-трафика требуется пользователям каждого тарифа в месяц. \n",
    "* Посчитайте среднее количество, дисперсию и стандартное отклонение. \n",
    "* Постройте гистограммы. \n",
    "* Опишите распределения."
   ]
  },
  {
   "cell_type": "markdown",
   "metadata": {},
   "source": [
    "### Подсчет основных показателей по месяцам"
   ]
  },
  {
   "cell_type": "code",
   "execution_count": 19,
   "metadata": {
    "scrolled": false
   },
   "outputs": [
    {
     "name": "stdout",
     "output_type": "stream",
     "text": [
      "Количество пользователей не хватающим пакета с тарифа - \"smart\":\n",
      "1662 \n",
      "\n",
      "Количество пользователей не хватающим пакета с тарифа - \"ultra\":\n",
      "134 \n",
      "\n",
      "Сумма переплат пользователями не хватающим пакета с тарифа - \"smart\"\n",
      "1649401.0 \n",
      "\n",
      "Сумма переплат пользователями не хватающим пакета с тарифа - \"ultra\"\n",
      "118350.0 \n",
      "\n",
      "Тариф - \"smart\" приносит: 2875351.0 руб\n",
      "Количество пользователей - \"smart\": 2229 \n",
      "\n",
      "Тариф - \"ultra\" приносит: 2039100.0 руб\n",
      "Количество пользователей - \"ultra\": 985 \n",
      "\n"
     ]
    }
   ],
   "source": [
    "#Посчитаем сколько пользователей выходит за рамки тарифа, сколько за это платят и сколько их всего\n",
    "\n",
    "print('Количество пользователей не хватающим пакета с тарифа - \"smart\":')\n",
    "print(df_united.query('tariff==\"smart\" and revenue_endless>550')['user_id'].count(), '\\n')\n",
    "\n",
    "\n",
    "print('Количество пользователей не хватающим пакета с тарифа - \"ultra\":')\n",
    "print(df_united.query('tariff==\"ultra\" and revenue_endless>1950')['user_id'].count(), '\\n')\n",
    "\n",
    "\n",
    "print('Сумма переплат пользователями не хватающим пакета с тарифа - \"smart\"')\n",
    "(\n",
    "    print\n",
    "(\n",
    "    df_united.query('tariff==\"smart\" and revenue_endless>550')['revenue_endless'].sum()-\n",
    "    (df_united.query('tariff==\"smart\" and revenue_endless>550')['user_id'].count()*550)\n",
    "    , '\\n'\n",
    ")\n",
    ")\n",
    "\n",
    "\n",
    "print('Сумма переплат пользователями не хватающим пакета с тарифа - \"ultra\"')\n",
    "(\n",
    "    print(df_united.query('tariff==\"ultra\" and revenue_endless>1950')['revenue_endless'].sum()\n",
    "          - df_united.query('tariff==\"ultra\" and revenue_endless>1950')['user_id'].count() * 1950\n",
    "          , '\\n')\n",
    ")\n",
    "\n",
    "print('Тариф - \"smart\" приносит:', df_united.query('tariff==\"smart\"')['revenue_endless'].sum(), 'руб')\n",
    "print('Количество пользователей - \"smart\":', df_united.query('tariff==\"smart\"')['user_id'].count(), '\\n')\n",
    "\n",
    "print('Тариф - \"ultra\" приносит:', df_united.query('tariff==\"ultra\"')['revenue_endless'].sum(), 'руб')\n",
    "print('Количество пользователей - \"ultra\":', df_united.query('tariff==\"ultra\"')['user_id'].count(), '\\n')\n",
    "\n"
   ]
  },
  {
   "cell_type": "markdown",
   "metadata": {},
   "source": [
    "**Промежуточный вывод**\n",
    "\n",
    "Пользователям на тарифе \"Smart\" чаще всего не хватает пакета и суммарно **1662 пользователя** платят больше тарифа **1 649 401,00 рублей**\n",
    "Пользователей \"Smart\" в два раза (+100%) больше, но прибыль/доход больше примерно на (+50%), а это значит при равном количестве пользователей, тариф \"ultra\" выгоднее"
   ]
  },
  {
   "cell_type": "code",
   "execution_count": 20,
   "metadata": {},
   "outputs": [
    {
     "name": "stdout",
     "output_type": "stream",
     "text": [
      "Тариф - \"ultra\"\n"
     ]
    },
    {
     "data": {
      "text/html": [
       "<div>\n",
       "<style scoped>\n",
       "    .dataframe tbody tr th:only-of-type {\n",
       "        vertical-align: middle;\n",
       "    }\n",
       "\n",
       "    .dataframe tbody tr th {\n",
       "        vertical-align: top;\n",
       "    }\n",
       "\n",
       "    .dataframe thead th {\n",
       "        text-align: right;\n",
       "    }\n",
       "</style>\n",
       "<table border=\"1\" class=\"dataframe\">\n",
       "  <thead>\n",
       "    <tr style=\"text-align: right;\">\n",
       "      <th></th>\n",
       "      <th>duration_sum</th>\n",
       "      <th>internet_sum</th>\n",
       "      <th>messages_count</th>\n",
       "    </tr>\n",
       "    <tr>\n",
       "      <th>month</th>\n",
       "      <th></th>\n",
       "      <th></th>\n",
       "      <th></th>\n",
       "    </tr>\n",
       "  </thead>\n",
       "  <tbody>\n",
       "    <tr>\n",
       "      <th>1</th>\n",
       "      <td>65091.0</td>\n",
       "      <td>2217.0</td>\n",
       "      <td>4872.0</td>\n",
       "    </tr>\n",
       "    <tr>\n",
       "      <th>2</th>\n",
       "      <td>70763.0</td>\n",
       "      <td>3286.0</td>\n",
       "      <td>6283.0</td>\n",
       "    </tr>\n",
       "    <tr>\n",
       "      <th>3</th>\n",
       "      <td>79139.0</td>\n",
       "      <td>1886.0</td>\n",
       "      <td>3110.0</td>\n",
       "    </tr>\n",
       "    <tr>\n",
       "      <th>4</th>\n",
       "      <td>94163.0</td>\n",
       "      <td>3414.0</td>\n",
       "      <td>6615.0</td>\n",
       "    </tr>\n",
       "    <tr>\n",
       "      <th>5</th>\n",
       "      <td>35370.0</td>\n",
       "      <td>1879.0</td>\n",
       "      <td>6406.0</td>\n",
       "    </tr>\n",
       "    <tr>\n",
       "      <th>6</th>\n",
       "      <td>52854.0</td>\n",
       "      <td>2443.0</td>\n",
       "      <td>6682.0</td>\n",
       "    </tr>\n",
       "    <tr>\n",
       "      <th>7</th>\n",
       "      <td>24428.0</td>\n",
       "      <td>787.0</td>\n",
       "      <td>2549.0</td>\n",
       "    </tr>\n",
       "    <tr>\n",
       "      <th>8</th>\n",
       "      <td>41674.0</td>\n",
       "      <td>1232.0</td>\n",
       "      <td>5683.0</td>\n",
       "    </tr>\n",
       "    <tr>\n",
       "      <th>9</th>\n",
       "      <td>21125.0</td>\n",
       "      <td>596.0</td>\n",
       "      <td>2204.0</td>\n",
       "    </tr>\n",
       "    <tr>\n",
       "      <th>10</th>\n",
       "      <td>13161.0</td>\n",
       "      <td>740.0</td>\n",
       "      <td>1911.0</td>\n",
       "    </tr>\n",
       "    <tr>\n",
       "      <th>11</th>\n",
       "      <td>16104.0</td>\n",
       "      <td>557.0</td>\n",
       "      <td>1834.0</td>\n",
       "    </tr>\n",
       "    <tr>\n",
       "      <th>12</th>\n",
       "      <td>4852.0</td>\n",
       "      <td>166.0</td>\n",
       "      <td>474.0</td>\n",
       "    </tr>\n",
       "  </tbody>\n",
       "</table>\n",
       "</div>"
      ],
      "text/plain": [
       "       duration_sum  internet_sum  messages_count\n",
       "month                                            \n",
       "1           65091.0        2217.0          4872.0\n",
       "2           70763.0        3286.0          6283.0\n",
       "3           79139.0        1886.0          3110.0\n",
       "4           94163.0        3414.0          6615.0\n",
       "5           35370.0        1879.0          6406.0\n",
       "6           52854.0        2443.0          6682.0\n",
       "7           24428.0         787.0          2549.0\n",
       "8           41674.0        1232.0          5683.0\n",
       "9           21125.0         596.0          2204.0\n",
       "10          13161.0         740.0          1911.0\n",
       "11          16104.0         557.0          1834.0\n",
       "12           4852.0         166.0           474.0"
      ]
     },
     "metadata": {},
     "output_type": "display_data"
    },
    {
     "name": "stdout",
     "output_type": "stream",
     "text": [
      "\n",
      "Тариф - \"smart\"\n"
     ]
    },
    {
     "data": {
      "text/html": [
       "<div>\n",
       "<style scoped>\n",
       "    .dataframe tbody tr th:only-of-type {\n",
       "        vertical-align: middle;\n",
       "    }\n",
       "\n",
       "    .dataframe tbody tr th {\n",
       "        vertical-align: top;\n",
       "    }\n",
       "\n",
       "    .dataframe thead th {\n",
       "        text-align: right;\n",
       "    }\n",
       "</style>\n",
       "<table border=\"1\" class=\"dataframe\">\n",
       "  <thead>\n",
       "    <tr style=\"text-align: right;\">\n",
       "      <th></th>\n",
       "      <th>duration_sum</th>\n",
       "      <th>internet_sum</th>\n",
       "      <th>messages_count</th>\n",
       "    </tr>\n",
       "    <tr>\n",
       "      <th>month</th>\n",
       "      <th></th>\n",
       "      <th></th>\n",
       "      <th></th>\n",
       "    </tr>\n",
       "  </thead>\n",
       "  <tbody>\n",
       "    <tr>\n",
       "      <th>1</th>\n",
       "      <td>158985.0</td>\n",
       "      <td>6446.0</td>\n",
       "      <td>13777.0</td>\n",
       "    </tr>\n",
       "    <tr>\n",
       "      <th>2</th>\n",
       "      <td>103485.0</td>\n",
       "      <td>3929.0</td>\n",
       "      <td>9082.0</td>\n",
       "    </tr>\n",
       "    <tr>\n",
       "      <th>3</th>\n",
       "      <td>87927.0</td>\n",
       "      <td>3284.0</td>\n",
       "      <td>7015.0</td>\n",
       "    </tr>\n",
       "    <tr>\n",
       "      <th>4</th>\n",
       "      <td>138343.0</td>\n",
       "      <td>5073.0</td>\n",
       "      <td>11380.0</td>\n",
       "    </tr>\n",
       "    <tr>\n",
       "      <th>5</th>\n",
       "      <td>95698.0</td>\n",
       "      <td>4081.0</td>\n",
       "      <td>7831.0</td>\n",
       "    </tr>\n",
       "    <tr>\n",
       "      <th>6</th>\n",
       "      <td>61535.0</td>\n",
       "      <td>2714.0</td>\n",
       "      <td>4321.0</td>\n",
       "    </tr>\n",
       "    <tr>\n",
       "      <th>7</th>\n",
       "      <td>96162.0</td>\n",
       "      <td>3480.0</td>\n",
       "      <td>7190.0</td>\n",
       "    </tr>\n",
       "    <tr>\n",
       "      <th>8</th>\n",
       "      <td>67073.0</td>\n",
       "      <td>2810.0</td>\n",
       "      <td>4782.0</td>\n",
       "    </tr>\n",
       "    <tr>\n",
       "      <th>9</th>\n",
       "      <td>42352.0</td>\n",
       "      <td>1680.0</td>\n",
       "      <td>3566.0</td>\n",
       "    </tr>\n",
       "    <tr>\n",
       "      <th>10</th>\n",
       "      <td>46073.0</td>\n",
       "      <td>1597.0</td>\n",
       "      <td>2961.0</td>\n",
       "    </tr>\n",
       "    <tr>\n",
       "      <th>11</th>\n",
       "      <td>21929.0</td>\n",
       "      <td>838.0</td>\n",
       "      <td>1681.0</td>\n",
       "    </tr>\n",
       "    <tr>\n",
       "      <th>12</th>\n",
       "      <td>12015.0</td>\n",
       "      <td>466.0</td>\n",
       "      <td>827.0</td>\n",
       "    </tr>\n",
       "  </tbody>\n",
       "</table>\n",
       "</div>"
      ],
      "text/plain": [
       "       duration_sum  internet_sum  messages_count\n",
       "month                                            \n",
       "1          158985.0        6446.0         13777.0\n",
       "2          103485.0        3929.0          9082.0\n",
       "3           87927.0        3284.0          7015.0\n",
       "4          138343.0        5073.0         11380.0\n",
       "5           95698.0        4081.0          7831.0\n",
       "6           61535.0        2714.0          4321.0\n",
       "7           96162.0        3480.0          7190.0\n",
       "8           67073.0        2810.0          4782.0\n",
       "9           42352.0        1680.0          3566.0\n",
       "10          46073.0        1597.0          2961.0\n",
       "11          21929.0         838.0          1681.0\n",
       "12          12015.0         466.0           827.0"
      ]
     },
     "execution_count": 20,
     "metadata": {},
     "output_type": "execute_result"
    }
   ],
   "source": [
    "print('Тариф - \"ultra\"')\n",
    "(\n",
    "    display\n",
    "(\n",
    "    df_united\n",
    "     .query('tariff==\"ultra\"')\n",
    "     .pivot_table(index='month',values=('duration_sum','messages_count','internet_sum'),aggfunc=('sum'))\n",
    ")\n",
    ")\n",
    "print()\n",
    "\n",
    "print('Тариф - \"smart\"')\n",
    "\n",
    "\n",
    "(\n",
    "    df_united\n",
    "     .query('tariff==\"smart\"')\n",
    "     .pivot_table(index='month',values=('duration_sum','messages_count','internet_sum'),aggfunc=('sum'))\n",
    ")\n"
   ]
  },
  {
   "cell_type": "markdown",
   "metadata": {},
   "source": [
    "### Среднее количество, дисперсия и стандартное отклонение"
   ]
  },
  {
   "cell_type": "code",
   "execution_count": 21,
   "metadata": {},
   "outputs": [
    {
     "name": "stdout",
     "output_type": "stream",
     "text": [
      "Тариф - \"smart\"\n"
     ]
    },
    {
     "data": {
      "text/html": [
       "<div>\n",
       "<style scoped>\n",
       "    .dataframe tbody tr th:only-of-type {\n",
       "        vertical-align: middle;\n",
       "    }\n",
       "\n",
       "    .dataframe tbody tr th {\n",
       "        vertical-align: top;\n",
       "    }\n",
       "\n",
       "    .dataframe thead th {\n",
       "        text-align: right;\n",
       "    }\n",
       "</style>\n",
       "<table border=\"1\" class=\"dataframe\">\n",
       "  <thead>\n",
       "    <tr style=\"text-align: right;\">\n",
       "      <th></th>\n",
       "      <th>duration_mean</th>\n",
       "      <th>messages_mean</th>\n",
       "      <th>internet_mean</th>\n",
       "    </tr>\n",
       "    <tr>\n",
       "      <th>month</th>\n",
       "      <th></th>\n",
       "      <th></th>\n",
       "      <th></th>\n",
       "    </tr>\n",
       "  </thead>\n",
       "  <tbody>\n",
       "    <tr>\n",
       "      <th>1</th>\n",
       "      <td>393.527228</td>\n",
       "      <td>15.955446</td>\n",
       "      <td>34.101485</td>\n",
       "    </tr>\n",
       "    <tr>\n",
       "      <th>2</th>\n",
       "      <td>399.555985</td>\n",
       "      <td>15.169884</td>\n",
       "      <td>35.065637</td>\n",
       "    </tr>\n",
       "    <tr>\n",
       "      <th>3</th>\n",
       "      <td>462.773684</td>\n",
       "      <td>17.284211</td>\n",
       "      <td>36.921053</td>\n",
       "    </tr>\n",
       "    <tr>\n",
       "      <th>4</th>\n",
       "      <td>443.407051</td>\n",
       "      <td>16.259615</td>\n",
       "      <td>36.474359</td>\n",
       "    </tr>\n",
       "    <tr>\n",
       "      <th>5</th>\n",
       "      <td>416.078261</td>\n",
       "      <td>17.743478</td>\n",
       "      <td>34.047826</td>\n",
       "    </tr>\n",
       "    <tr>\n",
       "      <th>6</th>\n",
       "      <td>387.012579</td>\n",
       "      <td>17.069182</td>\n",
       "      <td>27.176101</td>\n",
       "    </tr>\n",
       "    <tr>\n",
       "      <th>7</th>\n",
       "      <td>441.110092</td>\n",
       "      <td>15.963303</td>\n",
       "      <td>32.981651</td>\n",
       "    </tr>\n",
       "    <tr>\n",
       "      <th>8</th>\n",
       "      <td>396.881657</td>\n",
       "      <td>16.627219</td>\n",
       "      <td>28.295858</td>\n",
       "    </tr>\n",
       "    <tr>\n",
       "      <th>9</th>\n",
       "      <td>411.184466</td>\n",
       "      <td>16.310680</td>\n",
       "      <td>34.621359</td>\n",
       "    </tr>\n",
       "    <tr>\n",
       "      <th>10</th>\n",
       "      <td>443.009615</td>\n",
       "      <td>15.355769</td>\n",
       "      <td>28.471154</td>\n",
       "    </tr>\n",
       "    <tr>\n",
       "      <th>11</th>\n",
       "      <td>406.092593</td>\n",
       "      <td>15.518519</td>\n",
       "      <td>31.129630</td>\n",
       "    </tr>\n",
       "    <tr>\n",
       "      <th>12</th>\n",
       "      <td>445.000000</td>\n",
       "      <td>17.259259</td>\n",
       "      <td>30.629630</td>\n",
       "    </tr>\n",
       "  </tbody>\n",
       "</table>\n",
       "</div>"
      ],
      "text/plain": [
       "       duration_mean  messages_mean  internet_mean\n",
       "month                                             \n",
       "1         393.527228      15.955446      34.101485\n",
       "2         399.555985      15.169884      35.065637\n",
       "3         462.773684      17.284211      36.921053\n",
       "4         443.407051      16.259615      36.474359\n",
       "5         416.078261      17.743478      34.047826\n",
       "6         387.012579      17.069182      27.176101\n",
       "7         441.110092      15.963303      32.981651\n",
       "8         396.881657      16.627219      28.295858\n",
       "9         411.184466      16.310680      34.621359\n",
       "10        443.009615      15.355769      28.471154\n",
       "11        406.092593      15.518519      31.129630\n",
       "12        445.000000      17.259259      30.629630"
      ]
     },
     "metadata": {},
     "output_type": "display_data"
    },
    {
     "name": "stdout",
     "output_type": "stream",
     "text": [
      "\n",
      "Тариф - \"ultra\"\n"
     ]
    },
    {
     "data": {
      "text/html": [
       "<div>\n",
       "<style scoped>\n",
       "    .dataframe tbody tr th:only-of-type {\n",
       "        vertical-align: middle;\n",
       "    }\n",
       "\n",
       "    .dataframe tbody tr th {\n",
       "        vertical-align: top;\n",
       "    }\n",
       "\n",
       "    .dataframe thead th {\n",
       "        text-align: right;\n",
       "    }\n",
       "</style>\n",
       "<table border=\"1\" class=\"dataframe\">\n",
       "  <thead>\n",
       "    <tr style=\"text-align: right;\">\n",
       "      <th></th>\n",
       "      <th>duration_mean</th>\n",
       "      <th>messages_mean</th>\n",
       "      <th>internet_mean</th>\n",
       "    </tr>\n",
       "    <tr>\n",
       "      <th>month</th>\n",
       "      <th></th>\n",
       "      <th></th>\n",
       "      <th></th>\n",
       "    </tr>\n",
       "  </thead>\n",
       "  <tbody>\n",
       "    <tr>\n",
       "      <th>1</th>\n",
       "      <td>625.875000</td>\n",
       "      <td>21.317308</td>\n",
       "      <td>46.846154</td>\n",
       "    </tr>\n",
       "    <tr>\n",
       "      <th>2</th>\n",
       "      <td>445.050314</td>\n",
       "      <td>20.666667</td>\n",
       "      <td>39.515723</td>\n",
       "    </tr>\n",
       "    <tr>\n",
       "      <th>3</th>\n",
       "      <td>608.761538</td>\n",
       "      <td>14.507692</td>\n",
       "      <td>23.923077</td>\n",
       "    </tr>\n",
       "    <tr>\n",
       "      <th>4</th>\n",
       "      <td>581.253086</td>\n",
       "      <td>21.074074</td>\n",
       "      <td>40.833333</td>\n",
       "    </tr>\n",
       "    <tr>\n",
       "      <th>5</th>\n",
       "      <td>376.276596</td>\n",
       "      <td>19.989362</td>\n",
       "      <td>68.148936</td>\n",
       "    </tr>\n",
       "    <tr>\n",
       "      <th>6</th>\n",
       "      <td>459.600000</td>\n",
       "      <td>21.243478</td>\n",
       "      <td>58.104348</td>\n",
       "    </tr>\n",
       "    <tr>\n",
       "      <th>7</th>\n",
       "      <td>595.804878</td>\n",
       "      <td>19.195122</td>\n",
       "      <td>62.170732</td>\n",
       "    </tr>\n",
       "    <tr>\n",
       "      <th>8</th>\n",
       "      <td>534.282051</td>\n",
       "      <td>15.794872</td>\n",
       "      <td>72.858974</td>\n",
       "    </tr>\n",
       "    <tr>\n",
       "      <th>9</th>\n",
       "      <td>603.571429</td>\n",
       "      <td>17.028571</td>\n",
       "      <td>62.971429</td>\n",
       "    </tr>\n",
       "    <tr>\n",
       "      <th>10</th>\n",
       "      <td>438.700000</td>\n",
       "      <td>24.666667</td>\n",
       "      <td>63.700000</td>\n",
       "    </tr>\n",
       "    <tr>\n",
       "      <th>11</th>\n",
       "      <td>536.800000</td>\n",
       "      <td>18.566667</td>\n",
       "      <td>61.133333</td>\n",
       "    </tr>\n",
       "    <tr>\n",
       "      <th>12</th>\n",
       "      <td>693.142857</td>\n",
       "      <td>23.714286</td>\n",
       "      <td>67.714286</td>\n",
       "    </tr>\n",
       "  </tbody>\n",
       "</table>\n",
       "</div>"
      ],
      "text/plain": [
       "       duration_mean  messages_mean  internet_mean\n",
       "month                                             \n",
       "1         625.875000      21.317308      46.846154\n",
       "2         445.050314      20.666667      39.515723\n",
       "3         608.761538      14.507692      23.923077\n",
       "4         581.253086      21.074074      40.833333\n",
       "5         376.276596      19.989362      68.148936\n",
       "6         459.600000      21.243478      58.104348\n",
       "7         595.804878      19.195122      62.170732\n",
       "8         534.282051      15.794872      72.858974\n",
       "9         603.571429      17.028571      62.971429\n",
       "10        438.700000      24.666667      63.700000\n",
       "11        536.800000      18.566667      61.133333\n",
       "12        693.142857      23.714286      67.714286"
      ]
     },
     "metadata": {},
     "output_type": "display_data"
    }
   ],
   "source": [
    "#Посчитаем среднее\n",
    "\n",
    "mean_smart= (\n",
    "    df_united\n",
    "    .query('tariff==\"smart\"')\n",
    "    .pivot_table(index='month',values=('duration_sum','messages_count','internet_sum'),aggfunc=('mean'))\n",
    ")\n",
    "mean_smart.columns = ['duration_mean', 'messages_mean', 'internet_mean']\n",
    "\n",
    "print('Тариф - \"smart\"')\n",
    "display(mean_smart)\n",
    "\n",
    "print()\n",
    "print('Тариф - \"ultra\"')\n",
    "mean_ultra= (\n",
    "    df_united\n",
    "    .query('tariff==\"ultra\"')\n",
    "    .pivot_table(index='month',values=('duration_sum','messages_count','internet_sum'),aggfunc=('mean'))\n",
    ")\n",
    "mean_ultra.columns = ['duration_mean', 'messages_mean', 'internet_mean']\n",
    "\n",
    "display(mean_ultra)\n",
    "\n",
    "\n",
    "\n",
    "\n"
   ]
  },
  {
   "cell_type": "code",
   "execution_count": 22,
   "metadata": {
    "scrolled": false
   },
   "outputs": [
    {
     "data": {
      "text/plain": [
       "<AxesSubplot:xlabel='month'>"
      ]
     },
     "execution_count": 22,
     "metadata": {},
     "output_type": "execute_result"
    },
    {
     "data": {
      "image/png": "[encoded data removed]",
      "text/plain": [
       "<Figure size 1300x600 with 1 Axes>"
      ]
     },
     "metadata": {},
     "output_type": "display_data"
    },
    {
     "data": {
      "image/png": "[encoded data removed]",
      "text/plain": [
       "<Figure size 1300x600 with 1 Axes>"
      ]
     },
     "metadata": {},
     "output_type": "display_data"
    },
    {
     "data": {
      "image/png": "[encoded data removed]",
      "text/plain": [
       "<Figure size 1300x600 with 1 Axes>"
      ]
     },
     "metadata": {},
     "output_type": "display_data"
    },
    {
     "data": {
      "image/png": "[encoded data removed]",
      "text/plain": [
       "<Figure size 1300x600 with 1 Axes>"
      ]
     },
     "metadata": {},
     "output_type": "display_data"
    },
    {
     "data": {
      "image/png": "[encoded data removed]",
      "text/plain": [
       "<Figure size 1300x600 with 1 Axes>"
      ]
     },
     "metadata": {},
     "output_type": "display_data"
    },
    {
     "data": {
      "image/png": "[encoded data removed]",
      "text/plain": [
       "<Figure size 1300x600 with 1 Axes>"
      ]
     },
     "metadata": {},
     "output_type": "display_data"
    }
   ],
   "source": [
    "mean_smart.plot(y='duration_mean',grid=True,figsize=(13,6),style='o-',kind='bar', label='Среднее количество минут у пользователей тарифа \"smart\"', alpha=0.5)\n",
    "mean_ultra.plot(y='duration_mean',grid=True,figsize=(13,6),style='o-',kind='bar', label='Среднее количество минут у пользователей тарифа \"ultra\"',alpha=0.5)\n",
    "\n",
    "mean_smart.plot(y='messages_mean',grid=True,figsize=(13,6),style='o-',kind='bar', label='Среднее количество сообщений у пользователей тарифа \"smart\"', alpha=0.5)\n",
    "mean_ultra.plot(y='messages_mean',grid=True,figsize=(13,6),style='o-',kind='bar', label='Среднее количество сообщений у пользователей тарифа \"ultra\"',alpha=0.5)\n",
    "\n",
    "mean_smart.plot(y='internet_mean',grid=True,figsize=(13,6),style='o-',kind='bar', label='Среднее количество ГБ у пользователей тарифа \"smart\"', alpha=0.5)\n",
    "mean_ultra.plot(y='internet_mean',grid=True,figsize=(13,6),style='o-',kind='bar', label='Среднее количество ГБ у пользователей тарифа \"ultra\"',alpha=0.5)"
   ]
  },
  {
   "cell_type": "markdown",
   "metadata": {},
   "source": [
    "**Промежуточный вывод:**\n",
    "\n",
    "Видно, что в среднем пользователей Smart люди используют практически все пакетные минуты тарифа, в то же время пользователи Ultra в среднем используют меньше 1/3 от возможности минут своего пакета.\n",
    "\n",
    "Смс люди особо не используют, а вот ГБ охотно в среднем выходят за тарифный пакет"
   ]
  },
  {
   "cell_type": "code",
   "execution_count": 23,
   "metadata": {},
   "outputs": [
    {
     "data": {
      "text/html": [
       "<div>\n",
       "<style scoped>\n",
       "    .dataframe tbody tr th:only-of-type {\n",
       "        vertical-align: middle;\n",
       "    }\n",
       "\n",
       "    .dataframe tbody tr th {\n",
       "        vertical-align: top;\n",
       "    }\n",
       "\n",
       "    .dataframe thead th {\n",
       "        text-align: right;\n",
       "    }\n",
       "</style>\n",
       "<table border=\"1\" class=\"dataframe\">\n",
       "  <thead>\n",
       "    <tr style=\"text-align: right;\">\n",
       "      <th></th>\n",
       "      <th></th>\n",
       "      <th>duration_disp</th>\n",
       "      <th>internet_disp</th>\n",
       "      <th>message_disp</th>\n",
       "    </tr>\n",
       "    <tr>\n",
       "      <th>tariff</th>\n",
       "      <th>month</th>\n",
       "      <th></th>\n",
       "      <th></th>\n",
       "      <th></th>\n",
       "    </tr>\n",
       "  </thead>\n",
       "  <tbody>\n",
       "    <tr>\n",
       "      <th rowspan=\"12\" valign=\"top\">smart</th>\n",
       "      <th>1</th>\n",
       "      <td>35379.401242</td>\n",
       "      <td>26.633246</td>\n",
       "      <td>532.736573</td>\n",
       "    </tr>\n",
       "    <tr>\n",
       "      <th>2</th>\n",
       "      <td>31821.480381</td>\n",
       "      <td>31.746221</td>\n",
       "      <td>1029.689474</td>\n",
       "    </tr>\n",
       "    <tr>\n",
       "      <th>3</th>\n",
       "      <td>27443.350627</td>\n",
       "      <td>25.167474</td>\n",
       "      <td>649.184211</td>\n",
       "    </tr>\n",
       "    <tr>\n",
       "      <th>4</th>\n",
       "      <td>28001.554034</td>\n",
       "      <td>22.122094</td>\n",
       "      <td>696.700305</td>\n",
       "    </tr>\n",
       "    <tr>\n",
       "      <th>5</th>\n",
       "      <td>32731.094285</td>\n",
       "      <td>34.960110</td>\n",
       "      <td>1132.630890</td>\n",
       "    </tr>\n",
       "    <tr>\n",
       "      <th>6</th>\n",
       "      <td>36180.594777</td>\n",
       "      <td>37.836956</td>\n",
       "      <td>580.310564</td>\n",
       "    </tr>\n",
       "    <tr>\n",
       "      <th>7</th>\n",
       "      <td>34008.236672</td>\n",
       "      <td>31.500951</td>\n",
       "      <td>850.746206</td>\n",
       "    </tr>\n",
       "    <tr>\n",
       "      <th>8</th>\n",
       "      <td>46668.474007</td>\n",
       "      <td>32.806636</td>\n",
       "      <td>799.721471</td>\n",
       "    </tr>\n",
       "    <tr>\n",
       "      <th>9</th>\n",
       "      <td>40291.347992</td>\n",
       "      <td>43.412336</td>\n",
       "      <td>1066.335618</td>\n",
       "    </tr>\n",
       "    <tr>\n",
       "      <th>10</th>\n",
       "      <td>58375.194081</td>\n",
       "      <td>58.619772</td>\n",
       "      <td>726.931199</td>\n",
       "    </tr>\n",
       "    <tr>\n",
       "      <th>11</th>\n",
       "      <td>72590.576171</td>\n",
       "      <td>85.726066</td>\n",
       "      <td>1185.209294</td>\n",
       "    </tr>\n",
       "    <tr>\n",
       "      <th>12</th>\n",
       "      <td>22190.769231</td>\n",
       "      <td>12.584046</td>\n",
       "      <td>731.165242</td>\n",
       "    </tr>\n",
       "    <tr>\n",
       "      <th rowspan=\"12\" valign=\"top\">ultra</th>\n",
       "      <th>1</th>\n",
       "      <td>82625.197816</td>\n",
       "      <td>74.568241</td>\n",
       "      <td>1463.801344</td>\n",
       "    </tr>\n",
       "    <tr>\n",
       "      <th>2</th>\n",
       "      <td>93497.377199</td>\n",
       "      <td>118.995781</td>\n",
       "      <td>2379.555131</td>\n",
       "    </tr>\n",
       "    <tr>\n",
       "      <th>3</th>\n",
       "      <td>30049.144246</td>\n",
       "      <td>36.856530</td>\n",
       "      <td>558.924270</td>\n",
       "    </tr>\n",
       "    <tr>\n",
       "      <th>4</th>\n",
       "      <td>76248.202630</td>\n",
       "      <td>82.963423</td>\n",
       "      <td>1904.139752</td>\n",
       "    </tr>\n",
       "    <tr>\n",
       "      <th>5</th>\n",
       "      <td>134138.868909</td>\n",
       "      <td>114.139671</td>\n",
       "      <td>3669.698010</td>\n",
       "    </tr>\n",
       "    <tr>\n",
       "      <th>6</th>\n",
       "      <td>120420.592982</td>\n",
       "      <td>85.466514</td>\n",
       "      <td>1724.322349</td>\n",
       "    </tr>\n",
       "    <tr>\n",
       "      <th>7</th>\n",
       "      <td>65524.160976</td>\n",
       "      <td>134.010976</td>\n",
       "      <td>2825.245122</td>\n",
       "    </tr>\n",
       "    <tr>\n",
       "      <th>8</th>\n",
       "      <td>139985.607726</td>\n",
       "      <td>80.658675</td>\n",
       "      <td>1629.551282</td>\n",
       "    </tr>\n",
       "    <tr>\n",
       "      <th>9</th>\n",
       "      <td>131288.840336</td>\n",
       "      <td>120.616807</td>\n",
       "      <td>3375.616807</td>\n",
       "    </tr>\n",
       "    <tr>\n",
       "      <th>10</th>\n",
       "      <td>112513.044828</td>\n",
       "      <td>99.540230</td>\n",
       "      <td>4726.355172</td>\n",
       "    </tr>\n",
       "    <tr>\n",
       "      <th>11</th>\n",
       "      <td>176522.717241</td>\n",
       "      <td>168.460920</td>\n",
       "      <td>2591.291954</td>\n",
       "    </tr>\n",
       "    <tr>\n",
       "      <th>12</th>\n",
       "      <td>75700.142857</td>\n",
       "      <td>48.571429</td>\n",
       "      <td>2843.904762</td>\n",
       "    </tr>\n",
       "    <tr>\n",
       "      <th>All</th>\n",
       "      <th></th>\n",
       "      <td>58520.437688</td>\n",
       "      <td>54.747731</td>\n",
       "      <td>1306.701442</td>\n",
       "    </tr>\n",
       "  </tbody>\n",
       "</table>\n",
       "</div>"
      ],
      "text/plain": [
       "              duration_disp  internet_disp  message_disp\n",
       "tariff month                                            \n",
       "smart  1       35379.401242      26.633246    532.736573\n",
       "       2       31821.480381      31.746221   1029.689474\n",
       "       3       27443.350627      25.167474    649.184211\n",
       "       4       28001.554034      22.122094    696.700305\n",
       "       5       32731.094285      34.960110   1132.630890\n",
       "       6       36180.594777      37.836956    580.310564\n",
       "       7       34008.236672      31.500951    850.746206\n",
       "       8       46668.474007      32.806636    799.721471\n",
       "       9       40291.347992      43.412336   1066.335618\n",
       "       10      58375.194081      58.619772    726.931199\n",
       "       11      72590.576171      85.726066   1185.209294\n",
       "       12      22190.769231      12.584046    731.165242\n",
       "ultra  1       82625.197816      74.568241   1463.801344\n",
       "       2       93497.377199     118.995781   2379.555131\n",
       "       3       30049.144246      36.856530    558.924270\n",
       "       4       76248.202630      82.963423   1904.139752\n",
       "       5      134138.868909     114.139671   3669.698010\n",
       "       6      120420.592982      85.466514   1724.322349\n",
       "       7       65524.160976     134.010976   2825.245122\n",
       "       8      139985.607726      80.658675   1629.551282\n",
       "       9      131288.840336     120.616807   3375.616807\n",
       "       10     112513.044828      99.540230   4726.355172\n",
       "       11     176522.717241     168.460920   2591.291954\n",
       "       12      75700.142857      48.571429   2843.904762\n",
       "All            58520.437688      54.747731   1306.701442"
      ]
     },
     "execution_count": 23,
     "metadata": {},
     "output_type": "execute_result"
    }
   ],
   "source": [
    "# расчет дисперсии\n",
    "df_disp_united = df_united.pivot_table(\n",
    "    index=['tariff',  'month'],\n",
    "    values=['duration_sum', 'messages_count', 'internet_sum'],\n",
    "    aggfunc=lambda x: np.var(x, ddof=1),\n",
    "    margins=True,\n",
    "\n",
    ")\n",
    "\n",
    "df_disp_united.columns = ['duration_disp', 'internet_disp', 'message_disp']\n",
    "df_disp_united  "
   ]
  },
  {
   "cell_type": "code",
   "execution_count": 24,
   "metadata": {},
   "outputs": [
    {
     "data": {
      "text/html": [
       "<div>\n",
       "<style scoped>\n",
       "    .dataframe tbody tr th:only-of-type {\n",
       "        vertical-align: middle;\n",
       "    }\n",
       "\n",
       "    .dataframe tbody tr th {\n",
       "        vertical-align: top;\n",
       "    }\n",
       "\n",
       "    .dataframe thead th {\n",
       "        text-align: right;\n",
       "    }\n",
       "</style>\n",
       "<table border=\"1\" class=\"dataframe\">\n",
       "  <thead>\n",
       "    <tr style=\"text-align: right;\">\n",
       "      <th></th>\n",
       "      <th></th>\n",
       "      <th>duration_std</th>\n",
       "      <th>internet_std</th>\n",
       "      <th>messages_std</th>\n",
       "    </tr>\n",
       "    <tr>\n",
       "      <th>tariff</th>\n",
       "      <th>month</th>\n",
       "      <th></th>\n",
       "      <th></th>\n",
       "      <th></th>\n",
       "    </tr>\n",
       "  </thead>\n",
       "  <tbody>\n",
       "    <tr>\n",
       "      <th rowspan=\"12\" valign=\"top\">smart</th>\n",
       "      <th>1</th>\n",
       "      <td>188.094129</td>\n",
       "      <td>5.160741</td>\n",
       "      <td>23.081087</td>\n",
       "    </tr>\n",
       "    <tr>\n",
       "      <th>2</th>\n",
       "      <td>178.385763</td>\n",
       "      <td>5.634379</td>\n",
       "      <td>32.088775</td>\n",
       "    </tr>\n",
       "    <tr>\n",
       "      <th>3</th>\n",
       "      <td>165.660347</td>\n",
       "      <td>5.016719</td>\n",
       "      <td>25.479094</td>\n",
       "    </tr>\n",
       "    <tr>\n",
       "      <th>4</th>\n",
       "      <td>167.336649</td>\n",
       "      <td>4.703413</td>\n",
       "      <td>26.395081</td>\n",
       "    </tr>\n",
       "    <tr>\n",
       "      <th>5</th>\n",
       "      <td>180.917369</td>\n",
       "      <td>5.912708</td>\n",
       "      <td>33.654582</td>\n",
       "    </tr>\n",
       "    <tr>\n",
       "      <th>6</th>\n",
       "      <td>190.211973</td>\n",
       "      <td>6.151175</td>\n",
       "      <td>24.089636</td>\n",
       "    </tr>\n",
       "    <tr>\n",
       "      <th>7</th>\n",
       "      <td>184.413223</td>\n",
       "      <td>5.612571</td>\n",
       "      <td>29.167554</td>\n",
       "    </tr>\n",
       "    <tr>\n",
       "      <th>8</th>\n",
       "      <td>216.028873</td>\n",
       "      <td>5.727708</td>\n",
       "      <td>28.279347</td>\n",
       "    </tr>\n",
       "    <tr>\n",
       "      <th>9</th>\n",
       "      <td>200.727048</td>\n",
       "      <td>6.588804</td>\n",
       "      <td>32.654795</td>\n",
       "    </tr>\n",
       "    <tr>\n",
       "      <th>10</th>\n",
       "      <td>241.609590</td>\n",
       "      <td>7.656355</td>\n",
       "      <td>26.961662</td>\n",
       "    </tr>\n",
       "    <tr>\n",
       "      <th>11</th>\n",
       "      <td>269.426384</td>\n",
       "      <td>9.258837</td>\n",
       "      <td>34.426869</td>\n",
       "    </tr>\n",
       "    <tr>\n",
       "      <th>12</th>\n",
       "      <td>148.965665</td>\n",
       "      <td>3.547400</td>\n",
       "      <td>27.040067</td>\n",
       "    </tr>\n",
       "    <tr>\n",
       "      <th rowspan=\"12\" valign=\"top\">ultra</th>\n",
       "      <th>1</th>\n",
       "      <td>287.445991</td>\n",
       "      <td>8.635290</td>\n",
       "      <td>38.259657</td>\n",
       "    </tr>\n",
       "    <tr>\n",
       "      <th>2</th>\n",
       "      <td>305.773408</td>\n",
       "      <td>10.908519</td>\n",
       "      <td>48.780684</td>\n",
       "    </tr>\n",
       "    <tr>\n",
       "      <th>3</th>\n",
       "      <td>173.346890</td>\n",
       "      <td>6.070958</td>\n",
       "      <td>23.641579</td>\n",
       "    </tr>\n",
       "    <tr>\n",
       "      <th>4</th>\n",
       "      <td>276.130771</td>\n",
       "      <td>9.108426</td>\n",
       "      <td>43.636450</td>\n",
       "    </tr>\n",
       "    <tr>\n",
       "      <th>5</th>\n",
       "      <td>366.249736</td>\n",
       "      <td>10.683617</td>\n",
       "      <td>60.578032</td>\n",
       "    </tr>\n",
       "    <tr>\n",
       "      <th>6</th>\n",
       "      <td>347.016704</td>\n",
       "      <td>9.244810</td>\n",
       "      <td>41.524961</td>\n",
       "    </tr>\n",
       "    <tr>\n",
       "      <th>7</th>\n",
       "      <td>255.976876</td>\n",
       "      <td>11.576311</td>\n",
       "      <td>53.153035</td>\n",
       "    </tr>\n",
       "    <tr>\n",
       "      <th>8</th>\n",
       "      <td>374.146506</td>\n",
       "      <td>8.981017</td>\n",
       "      <td>40.367701</td>\n",
       "    </tr>\n",
       "    <tr>\n",
       "      <th>9</th>\n",
       "      <td>362.338019</td>\n",
       "      <td>10.982568</td>\n",
       "      <td>58.100059</td>\n",
       "    </tr>\n",
       "    <tr>\n",
       "      <th>10</th>\n",
       "      <td>335.429642</td>\n",
       "      <td>9.976985</td>\n",
       "      <td>68.748492</td>\n",
       "    </tr>\n",
       "    <tr>\n",
       "      <th>11</th>\n",
       "      <td>420.146067</td>\n",
       "      <td>12.979250</td>\n",
       "      <td>50.904734</td>\n",
       "    </tr>\n",
       "    <tr>\n",
       "      <th>12</th>\n",
       "      <td>275.136589</td>\n",
       "      <td>6.969321</td>\n",
       "      <td>53.328274</td>\n",
       "    </tr>\n",
       "    <tr>\n",
       "      <th>All</th>\n",
       "      <th></th>\n",
       "      <td>241.909978</td>\n",
       "      <td>7.399171</td>\n",
       "      <td>36.148326</td>\n",
       "    </tr>\n",
       "  </tbody>\n",
       "</table>\n",
       "</div>"
      ],
      "text/plain": [
       "              duration_std  internet_std  messages_std\n",
       "tariff month                                          \n",
       "smart  1        188.094129      5.160741     23.081087\n",
       "       2        178.385763      5.634379     32.088775\n",
       "       3        165.660347      5.016719     25.479094\n",
       "       4        167.336649      4.703413     26.395081\n",
       "       5        180.917369      5.912708     33.654582\n",
       "       6        190.211973      6.151175     24.089636\n",
       "       7        184.413223      5.612571     29.167554\n",
       "       8        216.028873      5.727708     28.279347\n",
       "       9        200.727048      6.588804     32.654795\n",
       "       10       241.609590      7.656355     26.961662\n",
       "       11       269.426384      9.258837     34.426869\n",
       "       12       148.965665      3.547400     27.040067\n",
       "ultra  1        287.445991      8.635290     38.259657\n",
       "       2        305.773408     10.908519     48.780684\n",
       "       3        173.346890      6.070958     23.641579\n",
       "       4        276.130771      9.108426     43.636450\n",
       "       5        366.249736     10.683617     60.578032\n",
       "       6        347.016704      9.244810     41.524961\n",
       "       7        255.976876     11.576311     53.153035\n",
       "       8        374.146506      8.981017     40.367701\n",
       "       9        362.338019     10.982568     58.100059\n",
       "       10       335.429642      9.976985     68.748492\n",
       "       11       420.146067     12.979250     50.904734\n",
       "       12       275.136589      6.969321     53.328274\n",
       "All             241.909978      7.399171     36.148326"
      ]
     },
     "execution_count": 24,
     "metadata": {},
     "output_type": "execute_result"
    }
   ],
   "source": [
    "# составим сводную таблицу для расчета стандартного отклонения\n",
    "df_std_united = df_united.pivot_table(\n",
    "    index=['tariff', 'month'],\n",
    "    values=['duration_sum', 'messages_count', 'internet_sum'],\n",
    "    aggfunc=lambda x: np.std(x, ddof=1),\n",
    "    margins=True,\n",
    ")\n",
    "\n",
    "\n",
    "df_std_united.columns = ['duration_std', 'internet_std', 'messages_std']\n",
    "df_std_united"
   ]
  },
  {
   "cell_type": "markdown",
   "metadata": {},
   "source": [
    "### Построение гистрограм"
   ]
  },
  {
   "cell_type": "code",
   "execution_count": 25,
   "metadata": {},
   "outputs": [
    {
     "data": {
      "text/html": [
       "<div>\n",
       "<style scoped>\n",
       "    .dataframe tbody tr th:only-of-type {\n",
       "        vertical-align: middle;\n",
       "    }\n",
       "\n",
       "    .dataframe tbody tr th {\n",
       "        vertical-align: top;\n",
       "    }\n",
       "\n",
       "    .dataframe thead th {\n",
       "        text-align: right;\n",
       "    }\n",
       "</style>\n",
       "<table border=\"1\" class=\"dataframe\">\n",
       "  <thead>\n",
       "    <tr style=\"text-align: right;\">\n",
       "      <th></th>\n",
       "      <th>user_id</th>\n",
       "      <th>calls_count</th>\n",
       "      <th>duration_sum</th>\n",
       "      <th>messages_count</th>\n",
       "      <th>internet_sum</th>\n",
       "      <th>age</th>\n",
       "      <th>city</th>\n",
       "      <th>tariff</th>\n",
       "      <th>month</th>\n",
       "      <th>revenue_endless</th>\n",
       "    </tr>\n",
       "  </thead>\n",
       "  <tbody>\n",
       "    <tr>\n",
       "      <th>8</th>\n",
       "      <td>1001</td>\n",
       "      <td>59.0</td>\n",
       "      <td>430.0</td>\n",
       "      <td>0.0</td>\n",
       "      <td>18.0</td>\n",
       "      <td>41</td>\n",
       "      <td>Москва</td>\n",
       "      <td>smart</td>\n",
       "      <td>11</td>\n",
       "      <td>1150.0</td>\n",
       "    </tr>\n",
       "    <tr>\n",
       "      <th>9</th>\n",
       "      <td>1001</td>\n",
       "      <td>63.0</td>\n",
       "      <td>414.0</td>\n",
       "      <td>0.0</td>\n",
       "      <td>14.0</td>\n",
       "      <td>41</td>\n",
       "      <td>Москва</td>\n",
       "      <td>smart</td>\n",
       "      <td>11</td>\n",
       "      <td>550.0</td>\n",
       "    </tr>\n",
       "    <tr>\n",
       "      <th>10</th>\n",
       "      <td>1002</td>\n",
       "      <td>15.0</td>\n",
       "      <td>117.0</td>\n",
       "      <td>4.0</td>\n",
       "      <td>11.0</td>\n",
       "      <td>59</td>\n",
       "      <td>Стерлитамак</td>\n",
       "      <td>smart</td>\n",
       "      <td>6</td>\n",
       "      <td>550.0</td>\n",
       "    </tr>\n",
       "    <tr>\n",
       "      <th>11</th>\n",
       "      <td>1002</td>\n",
       "      <td>26.0</td>\n",
       "      <td>214.0</td>\n",
       "      <td>11.0</td>\n",
       "      <td>18.0</td>\n",
       "      <td>59</td>\n",
       "      <td>Стерлитамак</td>\n",
       "      <td>smart</td>\n",
       "      <td>6</td>\n",
       "      <td>1150.0</td>\n",
       "    </tr>\n",
       "    <tr>\n",
       "      <th>12</th>\n",
       "      <td>1002</td>\n",
       "      <td>42.0</td>\n",
       "      <td>289.0</td>\n",
       "      <td>13.0</td>\n",
       "      <td>20.0</td>\n",
       "      <td>59</td>\n",
       "      <td>Стерлитамак</td>\n",
       "      <td>smart</td>\n",
       "      <td>6</td>\n",
       "      <td>1550.0</td>\n",
       "    </tr>\n",
       "    <tr>\n",
       "      <th>...</th>\n",
       "      <td>...</td>\n",
       "      <td>...</td>\n",
       "      <td>...</td>\n",
       "      <td>...</td>\n",
       "      <td>...</td>\n",
       "      <td>...</td>\n",
       "      <td>...</td>\n",
       "      <td>...</td>\n",
       "      <td>...</td>\n",
       "      <td>...</td>\n",
       "    </tr>\n",
       "    <tr>\n",
       "      <th>3208</th>\n",
       "      <td>1489</td>\n",
       "      <td>0.0</td>\n",
       "      <td>0.0</td>\n",
       "      <td>17.0</td>\n",
       "      <td>11.0</td>\n",
       "      <td>35</td>\n",
       "      <td>Санкт-Петербург</td>\n",
       "      <td>smart</td>\n",
       "      <td>8</td>\n",
       "      <td>550.0</td>\n",
       "    </tr>\n",
       "    <tr>\n",
       "      <th>3209</th>\n",
       "      <td>1489</td>\n",
       "      <td>0.0</td>\n",
       "      <td>0.0</td>\n",
       "      <td>32.0</td>\n",
       "      <td>17.0</td>\n",
       "      <td>35</td>\n",
       "      <td>Санкт-Петербург</td>\n",
       "      <td>smart</td>\n",
       "      <td>8</td>\n",
       "      <td>950.0</td>\n",
       "    </tr>\n",
       "    <tr>\n",
       "      <th>3210</th>\n",
       "      <td>1489</td>\n",
       "      <td>0.0</td>\n",
       "      <td>0.0</td>\n",
       "      <td>21.0</td>\n",
       "      <td>20.0</td>\n",
       "      <td>35</td>\n",
       "      <td>Санкт-Петербург</td>\n",
       "      <td>smart</td>\n",
       "      <td>8</td>\n",
       "      <td>1550.0</td>\n",
       "    </tr>\n",
       "    <tr>\n",
       "      <th>3211</th>\n",
       "      <td>1489</td>\n",
       "      <td>0.0</td>\n",
       "      <td>0.0</td>\n",
       "      <td>20.0</td>\n",
       "      <td>18.0</td>\n",
       "      <td>35</td>\n",
       "      <td>Санкт-Петербург</td>\n",
       "      <td>smart</td>\n",
       "      <td>8</td>\n",
       "      <td>1150.0</td>\n",
       "    </tr>\n",
       "    <tr>\n",
       "      <th>3212</th>\n",
       "      <td>1489</td>\n",
       "      <td>0.0</td>\n",
       "      <td>0.0</td>\n",
       "      <td>35.0</td>\n",
       "      <td>17.0</td>\n",
       "      <td>35</td>\n",
       "      <td>Санкт-Петербург</td>\n",
       "      <td>smart</td>\n",
       "      <td>8</td>\n",
       "      <td>950.0</td>\n",
       "    </tr>\n",
       "  </tbody>\n",
       "</table>\n",
       "<p>2229 rows × 10 columns</p>\n",
       "</div>"
      ],
      "text/plain": [
       "      user_id  calls_count  duration_sum  messages_count  internet_sum  age  \\\n",
       "8        1001         59.0         430.0             0.0          18.0   41   \n",
       "9        1001         63.0         414.0             0.0          14.0   41   \n",
       "10       1002         15.0         117.0             4.0          11.0   59   \n",
       "11       1002         26.0         214.0            11.0          18.0   59   \n",
       "12       1002         42.0         289.0            13.0          20.0   59   \n",
       "...       ...          ...           ...             ...           ...  ...   \n",
       "3208     1489          0.0           0.0            17.0          11.0   35   \n",
       "3209     1489          0.0           0.0            32.0          17.0   35   \n",
       "3210     1489          0.0           0.0            21.0          20.0   35   \n",
       "3211     1489          0.0           0.0            20.0          18.0   35   \n",
       "3212     1489          0.0           0.0            35.0          17.0   35   \n",
       "\n",
       "                 city tariff  month  revenue_endless  \n",
       "8              Москва  smart     11           1150.0  \n",
       "9              Москва  smart     11            550.0  \n",
       "10        Стерлитамак  smart      6            550.0  \n",
       "11        Стерлитамак  smart      6           1150.0  \n",
       "12        Стерлитамак  smart      6           1550.0  \n",
       "...               ...    ...    ...              ...  \n",
       "3208  Санкт-Петербург  smart      8            550.0  \n",
       "3209  Санкт-Петербург  smart      8            950.0  \n",
       "3210  Санкт-Петербург  smart      8           1550.0  \n",
       "3211  Санкт-Петербург  smart      8           1150.0  \n",
       "3212  Санкт-Петербург  smart      8            950.0  \n",
       "\n",
       "[2229 rows x 10 columns]"
      ]
     },
     "metadata": {},
     "output_type": "display_data"
    },
    {
     "data": {
      "text/html": [
       "<div>\n",
       "<style scoped>\n",
       "    .dataframe tbody tr th:only-of-type {\n",
       "        vertical-align: middle;\n",
       "    }\n",
       "\n",
       "    .dataframe tbody tr th {\n",
       "        vertical-align: top;\n",
       "    }\n",
       "\n",
       "    .dataframe thead th {\n",
       "        text-align: right;\n",
       "    }\n",
       "</style>\n",
       "<table border=\"1\" class=\"dataframe\">\n",
       "  <thead>\n",
       "    <tr style=\"text-align: right;\">\n",
       "      <th></th>\n",
       "      <th>user_id</th>\n",
       "      <th>calls_count</th>\n",
       "      <th>duration_sum</th>\n",
       "      <th>messages_count</th>\n",
       "      <th>internet_sum</th>\n",
       "      <th>age</th>\n",
       "      <th>city</th>\n",
       "      <th>tariff</th>\n",
       "      <th>month</th>\n",
       "      <th>revenue_endless</th>\n",
       "    </tr>\n",
       "  </thead>\n",
       "  <tbody>\n",
       "    <tr>\n",
       "      <th>0</th>\n",
       "      <td>1000</td>\n",
       "      <td>22.0</td>\n",
       "      <td>159.0</td>\n",
       "      <td>22.0</td>\n",
       "      <td>3.0</td>\n",
       "      <td>52</td>\n",
       "      <td>Краснодар</td>\n",
       "      <td>ultra</td>\n",
       "      <td>5</td>\n",
       "      <td>1950.0</td>\n",
       "    </tr>\n",
       "    <tr>\n",
       "      <th>1</th>\n",
       "      <td>1000</td>\n",
       "      <td>43.0</td>\n",
       "      <td>172.0</td>\n",
       "      <td>60.0</td>\n",
       "      <td>23.0</td>\n",
       "      <td>52</td>\n",
       "      <td>Краснодар</td>\n",
       "      <td>ultra</td>\n",
       "      <td>5</td>\n",
       "      <td>1950.0</td>\n",
       "    </tr>\n",
       "    <tr>\n",
       "      <th>2</th>\n",
       "      <td>1000</td>\n",
       "      <td>47.0</td>\n",
       "      <td>340.0</td>\n",
       "      <td>75.0</td>\n",
       "      <td>14.0</td>\n",
       "      <td>52</td>\n",
       "      <td>Краснодар</td>\n",
       "      <td>ultra</td>\n",
       "      <td>5</td>\n",
       "      <td>1950.0</td>\n",
       "    </tr>\n",
       "    <tr>\n",
       "      <th>3</th>\n",
       "      <td>1000</td>\n",
       "      <td>52.0</td>\n",
       "      <td>408.0</td>\n",
       "      <td>81.0</td>\n",
       "      <td>14.0</td>\n",
       "      <td>52</td>\n",
       "      <td>Краснодар</td>\n",
       "      <td>ultra</td>\n",
       "      <td>5</td>\n",
       "      <td>1950.0</td>\n",
       "    </tr>\n",
       "    <tr>\n",
       "      <th>4</th>\n",
       "      <td>1000</td>\n",
       "      <td>58.0</td>\n",
       "      <td>466.0</td>\n",
       "      <td>57.0</td>\n",
       "      <td>15.0</td>\n",
       "      <td>52</td>\n",
       "      <td>Краснодар</td>\n",
       "      <td>ultra</td>\n",
       "      <td>5</td>\n",
       "      <td>1950.0</td>\n",
       "    </tr>\n",
       "    <tr>\n",
       "      <th>...</th>\n",
       "      <td>...</td>\n",
       "      <td>...</td>\n",
       "      <td>...</td>\n",
       "      <td>...</td>\n",
       "      <td>...</td>\n",
       "      <td>...</td>\n",
       "      <td>...</td>\n",
       "      <td>...</td>\n",
       "      <td>...</td>\n",
       "      <td>...</td>\n",
       "    </tr>\n",
       "    <tr>\n",
       "      <th>3204</th>\n",
       "      <td>1473</td>\n",
       "      <td>0.0</td>\n",
       "      <td>0.0</td>\n",
       "      <td>19.0</td>\n",
       "      <td>17.0</td>\n",
       "      <td>18</td>\n",
       "      <td>Красноярск</td>\n",
       "      <td>ultra</td>\n",
       "      <td>8</td>\n",
       "      <td>1950.0</td>\n",
       "    </tr>\n",
       "    <tr>\n",
       "      <th>3205</th>\n",
       "      <td>1473</td>\n",
       "      <td>0.0</td>\n",
       "      <td>0.0</td>\n",
       "      <td>20.0</td>\n",
       "      <td>14.0</td>\n",
       "      <td>18</td>\n",
       "      <td>Красноярск</td>\n",
       "      <td>ultra</td>\n",
       "      <td>8</td>\n",
       "      <td>1950.0</td>\n",
       "    </tr>\n",
       "    <tr>\n",
       "      <th>3206</th>\n",
       "      <td>1473</td>\n",
       "      <td>0.0</td>\n",
       "      <td>0.0</td>\n",
       "      <td>14.0</td>\n",
       "      <td>22.0</td>\n",
       "      <td>18</td>\n",
       "      <td>Красноярск</td>\n",
       "      <td>ultra</td>\n",
       "      <td>8</td>\n",
       "      <td>1950.0</td>\n",
       "    </tr>\n",
       "    <tr>\n",
       "      <th>3207</th>\n",
       "      <td>1473</td>\n",
       "      <td>0.0</td>\n",
       "      <td>0.0</td>\n",
       "      <td>20.0</td>\n",
       "      <td>18.0</td>\n",
       "      <td>18</td>\n",
       "      <td>Красноярск</td>\n",
       "      <td>ultra</td>\n",
       "      <td>8</td>\n",
       "      <td>1950.0</td>\n",
       "    </tr>\n",
       "    <tr>\n",
       "      <th>3213</th>\n",
       "      <td>1476</td>\n",
       "      <td>0.0</td>\n",
       "      <td>0.0</td>\n",
       "      <td>0.0</td>\n",
       "      <td>1.0</td>\n",
       "      <td>50</td>\n",
       "      <td>Москва</td>\n",
       "      <td>ultra</td>\n",
       "      <td>4</td>\n",
       "      <td>1950.0</td>\n",
       "    </tr>\n",
       "  </tbody>\n",
       "</table>\n",
       "<p>985 rows × 10 columns</p>\n",
       "</div>"
      ],
      "text/plain": [
       "      user_id  calls_count  duration_sum  messages_count  internet_sum  age  \\\n",
       "0        1000         22.0         159.0            22.0           3.0   52   \n",
       "1        1000         43.0         172.0            60.0          23.0   52   \n",
       "2        1000         47.0         340.0            75.0          14.0   52   \n",
       "3        1000         52.0         408.0            81.0          14.0   52   \n",
       "4        1000         58.0         466.0            57.0          15.0   52   \n",
       "...       ...          ...           ...             ...           ...  ...   \n",
       "3204     1473          0.0           0.0            19.0          17.0   18   \n",
       "3205     1473          0.0           0.0            20.0          14.0   18   \n",
       "3206     1473          0.0           0.0            14.0          22.0   18   \n",
       "3207     1473          0.0           0.0            20.0          18.0   18   \n",
       "3213     1476          0.0           0.0             0.0           1.0   50   \n",
       "\n",
       "            city tariff  month  revenue_endless  \n",
       "0      Краснодар  ultra      5           1950.0  \n",
       "1      Краснодар  ultra      5           1950.0  \n",
       "2      Краснодар  ultra      5           1950.0  \n",
       "3      Краснодар  ultra      5           1950.0  \n",
       "4      Краснодар  ultra      5           1950.0  \n",
       "...          ...    ...    ...              ...  \n",
       "3204  Красноярск  ultra      8           1950.0  \n",
       "3205  Красноярск  ultra      8           1950.0  \n",
       "3206  Красноярск  ultra      8           1950.0  \n",
       "3207  Красноярск  ultra      8           1950.0  \n",
       "3213      Москва  ultra      4           1950.0  \n",
       "\n",
       "[985 rows x 10 columns]"
      ]
     },
     "metadata": {},
     "output_type": "display_data"
    }
   ],
   "source": [
    "# Разобью пользователей по тарифам, для построения гистограм\n",
    "df_user_smart = df_united.query('tariff==\"smart\"')\n",
    "df_user_ultra = df_united.query('tariff==\"ultra\"')\n",
    "\n",
    "display(df_user_smart)\n",
    "display(df_user_ultra)\n"
   ]
  },
  {
   "cell_type": "code",
   "execution_count": 26,
   "metadata": {},
   "outputs": [
    {
     "name": "stderr",
     "output_type": "stream",
     "text": [
      "C:\\Users\\Bazunov_Anton\\anaconda3\\lib\\site-packages\\seaborn\\distributions.py:2619: FutureWarning: `distplot` is a deprecated function and will be removed in a future version. Please adapt your code to use either `displot` (a figure-level function with similar flexibility) or `histplot` (an axes-level function for histograms).\n",
      "  warnings.warn(msg, FutureWarning)\n",
      "C:\\Users\\Bazunov_Anton\\anaconda3\\lib\\site-packages\\seaborn\\distributions.py:2619: FutureWarning: `distplot` is a deprecated function and will be removed in a future version. Please adapt your code to use either `displot` (a figure-level function with similar flexibility) or `histplot` (an axes-level function for histograms).\n",
      "  warnings.warn(msg, FutureWarning)\n"
     ]
    },
    {
     "data": {
      "text/plain": [
       "<matplotlib.legend.Legend at 0x17425481160>"
      ]
     },
     "execution_count": 26,
     "metadata": {},
     "output_type": "execute_result"
    },
    {
     "data": {
      "image/png": "[encoded data removed]",
      "text/plain": [
       "<Figure size 640x480 with 1 Axes>"
      ]
     },
     "metadata": {},
     "output_type": "display_data"
    }
   ],
   "source": [
    "\n",
    "sns.distplot(df_user_smart['duration_sum'],bins=20, label='Тариф smart')\n",
    "sns.distplot(df_user_ultra['duration_sum'],bins=20, label='Тариф ultra')\n",
    "\n",
    "plt.title('Распределение количества потраченных минут в зависимости от тарифа')\n",
    "plt.legend(loc='upper right')\n"
   ]
  },
  {
   "cell_type": "code",
   "execution_count": 27,
   "metadata": {},
   "outputs": [
    {
     "name": "stderr",
     "output_type": "stream",
     "text": [
      "C:\\Users\\Bazunov_Anton\\anaconda3\\lib\\site-packages\\seaborn\\distributions.py:2619: FutureWarning: `distplot` is a deprecated function and will be removed in a future version. Please adapt your code to use either `displot` (a figure-level function with similar flexibility) or `histplot` (an axes-level function for histograms).\n",
      "  warnings.warn(msg, FutureWarning)\n",
      "C:\\Users\\Bazunov_Anton\\anaconda3\\lib\\site-packages\\seaborn\\distributions.py:2619: FutureWarning: `distplot` is a deprecated function and will be removed in a future version. Please adapt your code to use either `displot` (a figure-level function with similar flexibility) or `histplot` (an axes-level function for histograms).\n",
      "  warnings.warn(msg, FutureWarning)\n"
     ]
    },
    {
     "data": {
      "text/plain": [
       "<matplotlib.legend.Legend at 0x17426068a60>"
      ]
     },
     "execution_count": 27,
     "metadata": {},
     "output_type": "execute_result"
    },
    {
     "data": {
      "image/png": "[encoded data removed]",
      "text/plain": [
       "<Figure size 640x480 with 1 Axes>"
      ]
     },
     "metadata": {},
     "output_type": "display_data"
    }
   ],
   "source": [
    "plt.title('Распределение среднего количества потраченных минут в зависимости от тарифа')\n",
    "sns.distplot(mean_smart['duration_mean'], label='Тариф smart')\n",
    "sns.distplot(mean_ultra['duration_mean'], label='Тариф ultra')\n",
    "plt.legend(loc='upper right')\n",
    "\n"
   ]
  },
  {
   "cell_type": "markdown",
   "metadata": {},
   "source": [
    "**Промежуточный вывод:**\n",
    "\n",
    "Пользователей `смарт` как и проверили раньше больше, но у них более ярко выраженно среднее значение в 500 минут (большинство пользовтелей наговривает свой пакет минут)\n",
    "\n",
    "Пользователей `ультра` более равномерно распределено время разговоров, очень мало (почти нет) тех кто говорит больше 1500 минут\n"
   ]
  },
  {
   "cell_type": "markdown",
   "metadata": {},
   "source": [
    "<div class=\"alert alert-success\">\n",
    "<h2> Комментарий ревьюера <a class=\"tocSkip\"> </h2>\n",
    "\n",
    "<b>Все отлично!👌:</b> Верно подмечено!\n",
    "</div>\n"
   ]
  },
  {
   "cell_type": "code",
   "execution_count": 28,
   "metadata": {},
   "outputs": [
    {
     "name": "stderr",
     "output_type": "stream",
     "text": [
      "C:\\Users\\Bazunov_Anton\\anaconda3\\lib\\site-packages\\seaborn\\distributions.py:2619: FutureWarning: `distplot` is a deprecated function and will be removed in a future version. Please adapt your code to use either `displot` (a figure-level function with similar flexibility) or `histplot` (an axes-level function for histograms).\n",
      "  warnings.warn(msg, FutureWarning)\n",
      "C:\\Users\\Bazunov_Anton\\anaconda3\\lib\\site-packages\\seaborn\\distributions.py:2619: FutureWarning: `distplot` is a deprecated function and will be removed in a future version. Please adapt your code to use either `displot` (a figure-level function with similar flexibility) or `histplot` (an axes-level function for histograms).\n",
      "  warnings.warn(msg, FutureWarning)\n"
     ]
    },
    {
     "data": {
      "text/plain": [
       "<matplotlib.legend.Legend at 0x174260e7d60>"
      ]
     },
     "execution_count": 28,
     "metadata": {},
     "output_type": "execute_result"
    },
    {
     "data": {
      "image/png": "[encoded data removed]",
      "text/plain": [
       "<Figure size 640x480 with 1 Axes>"
      ]
     },
     "metadata": {},
     "output_type": "display_data"
    }
   ],
   "source": [
    "plt.title('Распределение количества сообщений в зависимости от тарифа')\n",
    "sns.distplot(df_user_smart['messages_count'],bins=20, label='Тариф smart')\n",
    "sns.distplot(df_user_ultra['messages_count'],bins=20, label='Тариф ultra')\n",
    "plt.legend(loc='upper right')"
   ]
  },
  {
   "cell_type": "code",
   "execution_count": 29,
   "metadata": {
    "scrolled": false
   },
   "outputs": [
    {
     "name": "stderr",
     "output_type": "stream",
     "text": [
      "C:\\Users\\Bazunov_Anton\\anaconda3\\lib\\site-packages\\seaborn\\distributions.py:2619: FutureWarning: `distplot` is a deprecated function and will be removed in a future version. Please adapt your code to use either `displot` (a figure-level function with similar flexibility) or `histplot` (an axes-level function for histograms).\n",
      "  warnings.warn(msg, FutureWarning)\n",
      "C:\\Users\\Bazunov_Anton\\anaconda3\\lib\\site-packages\\seaborn\\distributions.py:2619: FutureWarning: `distplot` is a deprecated function and will be removed in a future version. Please adapt your code to use either `displot` (a figure-level function with similar flexibility) or `histplot` (an axes-level function for histograms).\n",
      "  warnings.warn(msg, FutureWarning)\n"
     ]
    },
    {
     "data": {
      "text/plain": [
       "<matplotlib.legend.Legend at 0x17423e29490>"
      ]
     },
     "execution_count": 29,
     "metadata": {},
     "output_type": "execute_result"
    },
    {
     "data": {
      "image/png": "[encoded data removed]",
      "text/plain": [
       "<Figure size 640x480 with 1 Axes>"
      ]
     },
     "metadata": {},
     "output_type": "display_data"
    }
   ],
   "source": [
    "plt.title('Распределение среднего количества сообщений в зависимости от тарифа')\n",
    "sns.distplot(mean_smart['messages_mean'],bins=20, label='Тариф smart')\n",
    "sns.distplot(mean_ultra['messages_mean'],bins=20, label='Тариф ultra')\n",
    "plt.legend(loc='upper right')"
   ]
  },
  {
   "cell_type": "markdown",
   "metadata": {},
   "source": [
    "**Промежуточный вывод:**\n",
    "\n",
    "Пользователи `смарт` практически не отправляют смс, а те кто отправляет примерно равное количество людей отправляют до 50 сообщений\n",
    "\n",
    "Пользователи `ультра` меньшее количество количество людей не отправляет смс, но идет более плавное уменьшение\n"
   ]
  },
  {
   "cell_type": "code",
   "execution_count": 30,
   "metadata": {},
   "outputs": [
    {
     "name": "stderr",
     "output_type": "stream",
     "text": [
      "C:\\Users\\Bazunov_Anton\\anaconda3\\lib\\site-packages\\seaborn\\distributions.py:2619: FutureWarning: `distplot` is a deprecated function and will be removed in a future version. Please adapt your code to use either `displot` (a figure-level function with similar flexibility) or `histplot` (an axes-level function for histograms).\n",
      "  warnings.warn(msg, FutureWarning)\n",
      "C:\\Users\\Bazunov_Anton\\anaconda3\\lib\\site-packages\\seaborn\\distributions.py:2619: FutureWarning: `distplot` is a deprecated function and will be removed in a future version. Please adapt your code to use either `displot` (a figure-level function with similar flexibility) or `histplot` (an axes-level function for histograms).\n",
      "  warnings.warn(msg, FutureWarning)\n"
     ]
    },
    {
     "data": {
      "text/plain": [
       "<matplotlib.legend.Legend at 0x174212a9ca0>"
      ]
     },
     "execution_count": 30,
     "metadata": {},
     "output_type": "execute_result"
    },
    {
     "data": {
      "image/png": "[encoded data removed]",
      "text/plain": [
       "<Figure size 640x480 with 1 Axes>"
      ]
     },
     "metadata": {},
     "output_type": "display_data"
    }
   ],
   "source": [
    "plt.title('Распределение количества ГБ в зависимости от тарифа')\n",
    "sns.distplot(df_user_smart['internet_sum'],bins=20, label='Тариф smart')\n",
    "sns.distplot(df_user_ultra['internet_sum'],bins=20, label='Тариф ultra')\n",
    "plt.legend(loc='upper right')"
   ]
  },
  {
   "cell_type": "code",
   "execution_count": 31,
   "metadata": {
    "scrolled": false
   },
   "outputs": [
    {
     "name": "stderr",
     "output_type": "stream",
     "text": [
      "C:\\Users\\Bazunov_Anton\\anaconda3\\lib\\site-packages\\seaborn\\distributions.py:2619: FutureWarning: `distplot` is a deprecated function and will be removed in a future version. Please adapt your code to use either `displot` (a figure-level function with similar flexibility) or `histplot` (an axes-level function for histograms).\n",
      "  warnings.warn(msg, FutureWarning)\n",
      "C:\\Users\\Bazunov_Anton\\anaconda3\\lib\\site-packages\\seaborn\\distributions.py:2619: FutureWarning: `distplot` is a deprecated function and will be removed in a future version. Please adapt your code to use either `displot` (a figure-level function with similar flexibility) or `histplot` (an axes-level function for histograms).\n",
      "  warnings.warn(msg, FutureWarning)\n"
     ]
    },
    {
     "data": {
      "text/plain": [
       "<matplotlib.legend.Legend at 0x17423e3b9a0>"
      ]
     },
     "execution_count": 31,
     "metadata": {},
     "output_type": "execute_result"
    },
    {
     "data": {
      "image/png": "[encoded data removed]",
      "text/plain": [
       "<Figure size 640x480 with 1 Axes>"
      ]
     },
     "metadata": {},
     "output_type": "display_data"
    }
   ],
   "source": [
    "plt.title('Распределение среднего количества ГБ в зависимости от тарифа')\n",
    "sns.distplot(mean_smart['internet_mean'],bins=20, label='Тариф smart')\n",
    "sns.distplot(mean_ultra['internet_mean'],bins=20, label='Тариф ultra')\n",
    "plt.legend(loc='upper right')"
   ]
  },
  {
   "cell_type": "markdown",
   "metadata": {},
   "source": [
    "**Промежуточный вывод:**\n",
    "\n",
    "Пользователи `смарт` после ~15 гигов идет большой провал, большинство пытается уложиться в пакет, но если не смогли то уже накаивают больше\n",
    "\n",
    "Пользователи `ультра` забавно, что так же имеется скачек после ~15 гб"
   ]
  },
  {
   "cell_type": "markdown",
   "metadata": {},
   "source": [
    "## Проверка гипотез"
   ]
  },
  {
   "cell_type": "markdown",
   "metadata": {},
   "source": [
    "**Гипотеза:**\n",
    "* средняя выручка пользователей тарифов «Ультра» и «Смарт» различаются;\n",
    "* средняя выручка пользователей из Москвы отличается от выручки пользователей из других регионов.\n",
    "\n",
    "*Пороговое значение alpha задайте самостоятельно.*\n",
    "\n",
    "**Поясните:**\n",
    "* как вы формулировали нулевую и альтернативную гипотезы;\n",
    "* какой критерий использовали для проверки гипотез и почему."
   ]
  },
  {
   "cell_type": "markdown",
   "metadata": {},
   "source": [
    "### Гипотеза - 1\n",
    "\n",
    "* средняя выручка пользователей тарифов «Ультра» и «Смарт» **различаются**.\n",
    "\n",
    "Для этого принимаем **Нулевую гипотезу**, что средняя выручка пользователей тарифов `Ультра` и `Смарт` **не различается**"
   ]
  },
  {
   "cell_type": "code",
   "execution_count": 32,
   "metadata": {},
   "outputs": [
    {
     "name": "stdout",
     "output_type": "stream",
     "text": [
      "p-значение: 4.2606313931076085e-250\n",
      "Отвергаем нулевую гипотезу\n"
     ]
    }
   ],
   "source": [
    "#выбираем уровень статистической значимости = 5%\n",
    "alpha = 0.05  \n",
    "\n",
    "\n",
    "results=st.ttest_ind(df_user_smart['revenue_endless'],df_user_ultra['revenue_endless'],equal_var=False) \n",
    "print('p-значение:', results.pvalue)\n",
    "\n",
    "# сравним получившееся p-значение с заданным уровнем статистической значимости\n",
    "if (results.pvalue < alpha):\n",
    "    print(\"Отвергаем нулевую гипотезу\")\n",
    "else:\n",
    "    print(\"Не получилось отвергнуть нулевую гипотезу\")\n",
    "\n",
    "\n",
    "\n"
   ]
  },
  {
   "cell_type": "markdown",
   "metadata": {},
   "source": [
    "**Альтернативная гипотеза** средняя выручка пользователей тарифов `Ультра` больше чем у `Смарт`"
   ]
  },
  {
   "cell_type": "code",
   "execution_count": 33,
   "metadata": {},
   "outputs": [
    {
     "name": "stdout",
     "output_type": "stream",
     "text": [
      "p-значение: 4.2606313931076085e-250\n",
      "Отвергаем альтернативную гипотезу\n"
     ]
    }
   ],
   "source": [
    "mean_re_smart=df_user_smart['revenue_endless'].mean()\n",
    "\n",
    "\n",
    "alpha = 0.05  \n",
    "\n",
    "result=st.ttest_1samp(df_user_ultra['revenue_endless'],mean_re_smart) \n",
    "print('p-значение:', results.pvalue)\n",
    "\n",
    "# сравним получившееся p-значение с заданным уровнем статистической значимости\n",
    "if (result.pvalue/2<alpha) and (df_user_ultra['revenue_endless'].mean()>=mean_re_smart):\n",
    "    print('Отвергаем альтернативную гипотезу')\n",
    "else:\n",
    "    print('Не получилость отвергнуть альтернативную гипотезу')"
   ]
  },
  {
   "cell_type": "markdown",
   "metadata": {},
   "source": [
    "Если выручки по тарифам не равны, и если `Ультра` не больше чем у `Смарт`, получается 3-я гипотеза, что `Смарт` > `Ультра`\n",
    "В алтернативной односторонней гипотезе мы проверяли на условии:\n",
    "* среднее значение выручки `Ультра` >= `Смарт`\n",
    "* разница среднего значения и статистической значимости деленой пополам была существенной\n"
   ]
  },
  {
   "cell_type": "markdown",
   "metadata": {},
   "source": [
    "### Гипотеза - 2\n",
    "\n",
    "* средняя выручка пользователей из Москвы отличается от выручки пользователей из других регионов.\n",
    "\n",
    "Для этого принимаем **Нулевую гипотезу**, что средняя выручка пользователей из `Москвы` **не различается**"
   ]
  },
  {
   "cell_type": "code",
   "execution_count": 34,
   "metadata": {},
   "outputs": [
    {
     "name": "stdout",
     "output_type": "stream",
     "text": [
      "1300     550.0\n",
      "1860     550.0\n",
      "1094     550.0\n",
      "494      550.0\n",
      "1858     550.0\n",
      "         ...  \n",
      "2215    3750.0\n",
      "1147    3900.0\n",
      "1884    4050.0\n",
      "1452    4116.0\n",
      "1793    5321.0\n",
      "Name: revenue_endless, Length: 611, dtype: float64 \n",
      "\n",
      "1560     550.0\n",
      "2146     550.0\n",
      "2185     550.0\n",
      "2196     550.0\n",
      "1225     550.0\n",
      "         ...  \n",
      "1000    5252.0\n",
      "1622    5672.0\n",
      "3105    5680.0\n",
      "260     5709.0\n",
      "3106    6770.0\n",
      "Name: revenue_endless, Length: 2603, dtype: float64 \n",
      "\n",
      "p-значение: 0.5257376663729298\n",
      "Не получилось отвергнуть нулевую гипотезу\n"
     ]
    }
   ],
   "source": [
    "Msk_revenue_endless = df_united.loc[df_united['city'] == 'Москва', 'revenue_endless']\n",
    "NoMsk_revenue_endless = df_united.loc[df_united['city'] != 'Москва', 'revenue_endless']\n",
    "\n",
    "print(Msk_revenue_endless.sort_values(), '\\n')\n",
    "print(NoMsk_revenue_endless.sort_values(), '\\n')\n",
    "\n",
    "#выбираем уровень статистической значимости = 5%\n",
    "alpha = 0.05  \n",
    "\n",
    "results = st.ttest_ind(Msk_revenue_endless, NoMsk_revenue_endless, equal_var=False)\n",
    "print('p-значение:', results.pvalue)\n",
    "\n",
    "# сравним получившееся p-значение с заданным уровнем статистической значимости\n",
    "if (results.pvalue < alpha):\n",
    "    print(\"Отвергаем нулевую гипотезу\")\n",
    "else:\n",
    "    print(\"Не получилось отвергнуть нулевую гипотезу\")"
   ]
  },
  {
   "cell_type": "markdown",
   "metadata": {},
   "source": [
    "Нет подтверждения, что выручка пользователей в Мск отличается от остальных городов."
   ]
  },
  {
   "cell_type": "markdown",
   "metadata": {},
   "source": [
    "## Общий вывод"
   ]
  },
  {
   "cell_type": "markdown",
   "metadata": {},
   "source": [
    "В результате исследования были выявлен ряд явных и неявных ошибок. Была проведена работа по предобработке данных. Часть данных требует уточнения у заказчика. Подготовил дополнительные данные для облегчения обработки данных в дальнейшем.\n",
    "\n",
    "В результате можно сделать следующие выводы:\n",
    "\n",
    "* Пользователей `Смарт` в два раза больше чем `Ультра`\n",
    "* Большинство пользователей `Смарт` выжимает возможности своего тарифа по максимуму\n",
    "* Смс люди особо не используют в независимости от тарифа\n",
    "* ГБ охотно в среднем выходят за тарифный пакет\n",
    "\n",
    "**Странные советы**\n",
    "\n",
    "Ввести тариф `Смарт+` с большим количеством минут - 800 минут (пользователи `Ультра` могут не перейти так как многие используют больше 1000 минут. Стоимостью выше тем самым выбирая между 3-х дорогих вариантов, пользователь может склоняться к более дорогому.\n",
    "\n"
   ]
  }
 ],
 "metadata": {
  "ExecuteTimeLog": [
   {
    "duration": 1199,
    "start_time": "2022-06-16T08:12:39.434Z"
   },
   {
    "duration": 1244,
    "start_time": "2022-06-16T08:18:22.690Z"
   },
   {
    "duration": 28,
    "start_time": "2022-06-16T10:05:15.455Z"
   },
   {
    "duration": 24,
    "start_time": "2022-06-16T10:06:45.824Z"
   },
   {
    "duration": 64,
    "start_time": "2022-06-16T10:11:51.715Z"
   },
   {
    "duration": 93,
    "start_time": "2022-06-16T10:12:24.519Z"
   },
   {
    "duration": 58,
    "start_time": "2022-06-16T10:12:42.465Z"
   },
   {
    "duration": 92,
    "start_time": "2022-06-16T10:12:55.873Z"
   },
   {
    "duration": 85,
    "start_time": "2022-06-16T10:13:33.617Z"
   },
   {
    "duration": 130,
    "start_time": "2022-06-16T10:14:02.366Z"
   },
   {
    "duration": 88,
    "start_time": "2022-06-16T10:14:24.964Z"
   },
   {
    "duration": 84,
    "start_time": "2022-06-16T10:15:43.612Z"
   },
   {
    "duration": 114,
    "start_time": "2022-06-16T10:15:45.508Z"
   },
   {
    "duration": 129,
    "start_time": "2022-06-16T10:16:07.365Z"
   },
   {
    "duration": 90,
    "start_time": "2022-06-16T10:16:15.269Z"
   },
   {
    "duration": 89,
    "start_time": "2022-06-16T10:16:30.709Z"
   },
   {
    "duration": 49,
    "start_time": "2022-06-16T12:29:13.774Z"
   },
   {
    "duration": 1126,
    "start_time": "2022-06-16T12:29:19.071Z"
   },
   {
    "duration": 882,
    "start_time": "2022-06-16T12:29:20.199Z"
   },
   {
    "duration": 105,
    "start_time": "2022-06-16T12:29:21.082Z"
   },
   {
    "duration": 105,
    "start_time": "2022-06-16T12:33:47.077Z"
   },
   {
    "duration": 117,
    "start_time": "2022-06-16T12:33:58.329Z"
   },
   {
    "duration": 192,
    "start_time": "2022-06-16T12:34:30.676Z"
   },
   {
    "duration": 168,
    "start_time": "2022-06-16T12:36:47.563Z"
   },
   {
    "duration": 412,
    "start_time": "2022-06-16T13:06:06.630Z"
   },
   {
    "duration": 24,
    "start_time": "2022-06-16T13:26:32.447Z"
   },
   {
    "duration": 21,
    "start_time": "2022-06-16T13:30:22.598Z"
   },
   {
    "duration": 17,
    "start_time": "2022-06-16T13:30:57.259Z"
   },
   {
    "duration": 17,
    "start_time": "2022-06-16T13:31:17.230Z"
   },
   {
    "duration": 28,
    "start_time": "2022-06-16T13:33:37.367Z"
   },
   {
    "duration": 34,
    "start_time": "2022-06-16T13:35:20.147Z"
   },
   {
    "duration": 54,
    "start_time": "2022-06-16T13:36:33.841Z"
   },
   {
    "duration": 53,
    "start_time": "2022-06-16T13:37:20.842Z"
   },
   {
    "duration": 42,
    "start_time": "2022-06-16T13:41:42.253Z"
   },
   {
    "duration": 52,
    "start_time": "2022-06-16T13:42:13.047Z"
   },
   {
    "duration": 39,
    "start_time": "2022-06-16T13:47:44.885Z"
   },
   {
    "duration": 109,
    "start_time": "2022-06-16T13:48:10.695Z"
   },
   {
    "duration": 44,
    "start_time": "2022-06-16T13:48:17.699Z"
   },
   {
    "duration": 41,
    "start_time": "2022-06-16T13:48:44.800Z"
   },
   {
    "duration": 51,
    "start_time": "2022-06-16T13:49:40.903Z"
   },
   {
    "duration": 492,
    "start_time": "2022-06-16T13:52:52.466Z"
   },
   {
    "duration": 452,
    "start_time": "2022-06-16T13:53:03.373Z"
   },
   {
    "duration": 1060,
    "start_time": "2022-06-16T13:53:11.931Z"
   },
   {
    "duration": 428,
    "start_time": "2022-06-16T13:53:12.993Z"
   },
   {
    "duration": 382,
    "start_time": "2022-06-16T13:53:13.423Z"
   },
   {
    "duration": 45,
    "start_time": "2022-06-16T13:53:13.807Z"
   },
   {
    "duration": 85,
    "start_time": "2022-06-16T13:53:13.855Z"
   },
   {
    "duration": 48,
    "start_time": "2022-06-16T13:53:13.942Z"
   },
   {
    "duration": 159,
    "start_time": "2022-06-16T13:53:13.992Z"
   },
   {
    "duration": 52,
    "start_time": "2022-06-16T13:53:22.354Z"
   },
   {
    "duration": 1092,
    "start_time": "2022-06-16T13:53:31.090Z"
   },
   {
    "duration": 420,
    "start_time": "2022-06-16T13:53:32.184Z"
   },
   {
    "duration": 444,
    "start_time": "2022-06-16T13:53:32.606Z"
   },
   {
    "duration": 36,
    "start_time": "2022-06-16T13:53:33.052Z"
   },
   {
    "duration": 102,
    "start_time": "2022-06-16T13:53:33.089Z"
   },
   {
    "duration": 50,
    "start_time": "2022-06-16T13:53:33.193Z"
   },
   {
    "duration": 92,
    "start_time": "2022-06-16T13:53:33.245Z"
   },
   {
    "duration": 1077,
    "start_time": "2022-06-16T13:54:17.499Z"
   },
   {
    "duration": 469,
    "start_time": "2022-06-16T13:54:18.578Z"
   },
   {
    "duration": 433,
    "start_time": "2022-06-16T13:54:19.049Z"
   },
   {
    "duration": 42,
    "start_time": "2022-06-16T13:54:19.484Z"
   },
   {
    "duration": 74,
    "start_time": "2022-06-16T13:54:19.528Z"
   },
   {
    "duration": 56,
    "start_time": "2022-06-16T13:54:19.603Z"
   },
   {
    "duration": 70,
    "start_time": "2022-06-16T13:54:19.661Z"
   },
   {
    "duration": 32,
    "start_time": "2022-06-16T13:54:19.733Z"
   },
   {
    "duration": 30,
    "start_time": "2022-06-16T13:55:45.958Z"
   },
   {
    "duration": 479,
    "start_time": "2022-06-16T14:03:10.197Z"
   },
   {
    "duration": 52,
    "start_time": "2022-06-16T14:03:16.290Z"
   },
   {
    "duration": 25,
    "start_time": "2022-06-16T14:05:43.115Z"
   },
   {
    "duration": 9,
    "start_time": "2022-06-16T14:05:54.162Z"
   },
   {
    "duration": 9,
    "start_time": "2022-06-16T14:05:59.510Z"
   },
   {
    "duration": 18,
    "start_time": "2022-06-16T14:06:10.061Z"
   },
   {
    "duration": 17,
    "start_time": "2022-06-16T14:06:34.373Z"
   },
   {
    "duration": 25,
    "start_time": "2022-06-16T14:06:44.286Z"
   },
   {
    "duration": 41,
    "start_time": "2022-06-16T14:07:32.704Z"
   },
   {
    "duration": 32,
    "start_time": "2022-06-16T14:07:47.872Z"
   },
   {
    "duration": 31,
    "start_time": "2022-06-16T14:07:50.084Z"
   },
   {
    "duration": 29,
    "start_time": "2022-06-16T14:08:17.192Z"
   },
   {
    "duration": 30,
    "start_time": "2022-06-16T14:08:36.653Z"
   },
   {
    "duration": 30,
    "start_time": "2022-06-16T14:08:49.549Z"
   },
   {
    "duration": 11,
    "start_time": "2022-06-16T14:11:16.991Z"
   },
   {
    "duration": 33,
    "start_time": "2022-06-16T14:11:28.306Z"
   },
   {
    "duration": 11,
    "start_time": "2022-06-16T14:11:30.086Z"
   },
   {
    "duration": 260,
    "start_time": "2022-06-16T14:12:10.258Z"
   },
   {
    "duration": 285,
    "start_time": "2022-06-16T14:12:20.813Z"
   },
   {
    "duration": 333,
    "start_time": "2022-06-16T14:12:22.491Z"
   },
   {
    "duration": 253,
    "start_time": "2022-06-16T14:12:47.783Z"
   },
   {
    "duration": 3,
    "start_time": "2022-06-16T14:12:50.159Z"
   },
   {
    "duration": 31,
    "start_time": "2022-06-16T14:13:11.059Z"
   },
   {
    "duration": 29,
    "start_time": "2022-06-16T16:12:28.099Z"
   },
   {
    "duration": 488,
    "start_time": "2022-06-16T16:14:12.822Z"
   },
   {
    "duration": 1053,
    "start_time": "2022-06-16T16:14:19.609Z"
   },
   {
    "duration": 417,
    "start_time": "2022-06-16T16:14:20.664Z"
   },
   {
    "duration": 444,
    "start_time": "2022-06-16T16:14:21.083Z"
   },
   {
    "duration": 43,
    "start_time": "2022-06-16T16:14:21.529Z"
   },
   {
    "duration": 106,
    "start_time": "2022-06-16T16:14:21.574Z"
   },
   {
    "duration": 54,
    "start_time": "2022-06-16T16:14:21.682Z"
   },
   {
    "duration": 71,
    "start_time": "2022-06-16T16:14:21.738Z"
   },
   {
    "duration": 41,
    "start_time": "2022-06-16T16:14:21.823Z"
   },
   {
    "duration": 31,
    "start_time": "2022-06-16T16:14:21.866Z"
   },
   {
    "duration": 55,
    "start_time": "2022-06-16T16:14:21.900Z"
   },
   {
    "duration": 3,
    "start_time": "2022-06-16T16:14:21.956Z"
   },
   {
    "duration": 31,
    "start_time": "2022-06-16T16:14:21.961Z"
   },
   {
    "duration": 99,
    "start_time": "2022-06-16T16:24:01.938Z"
   },
   {
    "duration": 10,
    "start_time": "2022-06-16T16:24:03.640Z"
   },
   {
    "duration": 26,
    "start_time": "2022-06-16T16:24:20.381Z"
   },
   {
    "duration": 420,
    "start_time": "2022-06-16T16:25:10.286Z"
   },
   {
    "duration": 399,
    "start_time": "2022-06-16T16:25:19.047Z"
   },
   {
    "duration": 26,
    "start_time": "2022-06-16T16:25:31.697Z"
   },
   {
    "duration": 102,
    "start_time": "2022-06-17T08:05:22.277Z"
   },
   {
    "duration": 1659,
    "start_time": "2022-06-17T08:05:26.529Z"
   },
   {
    "duration": 1368,
    "start_time": "2022-06-17T08:05:28.191Z"
   },
   {
    "duration": 706,
    "start_time": "2022-06-17T08:05:29.563Z"
   },
   {
    "duration": 88,
    "start_time": "2022-06-17T08:05:30.271Z"
   },
   {
    "duration": 139,
    "start_time": "2022-06-17T08:05:30.362Z"
   },
   {
    "duration": 87,
    "start_time": "2022-06-17T08:05:30.503Z"
   },
   {
    "duration": 121,
    "start_time": "2022-06-17T08:05:30.592Z"
   },
   {
    "duration": 76,
    "start_time": "2022-06-17T08:05:30.718Z"
   },
   {
    "duration": 72,
    "start_time": "2022-06-17T08:05:30.796Z"
   },
   {
    "duration": 78,
    "start_time": "2022-06-17T08:05:30.871Z"
   },
   {
    "duration": 48,
    "start_time": "2022-06-17T08:05:30.952Z"
   },
   {
    "duration": 31,
    "start_time": "2022-06-17T08:09:27.255Z"
   },
   {
    "duration": 39,
    "start_time": "2022-06-17T08:10:21.414Z"
   },
   {
    "duration": 38,
    "start_time": "2022-06-17T08:10:23.195Z"
   },
   {
    "duration": 99,
    "start_time": "2022-06-17T08:13:35.866Z"
   },
   {
    "duration": 50,
    "start_time": "2022-06-17T08:14:05.174Z"
   },
   {
    "duration": 18,
    "start_time": "2022-06-17T08:14:34.073Z"
   },
   {
    "duration": 35,
    "start_time": "2022-06-17T08:14:48.899Z"
   },
   {
    "duration": 43,
    "start_time": "2022-06-17T08:15:01.965Z"
   },
   {
    "duration": 31,
    "start_time": "2022-06-17T08:16:16.693Z"
   },
   {
    "duration": 44,
    "start_time": "2022-06-17T08:16:38.253Z"
   },
   {
    "duration": 25,
    "start_time": "2022-06-17T08:18:35.057Z"
   },
   {
    "duration": 8,
    "start_time": "2022-06-17T08:36:42.166Z"
   },
   {
    "duration": 596,
    "start_time": "2022-06-17T08:37:07.349Z"
   },
   {
    "duration": 1060,
    "start_time": "2022-06-17T08:38:18.422Z"
   },
   {
    "duration": 410,
    "start_time": "2022-06-17T08:38:19.484Z"
   },
   {
    "duration": 513,
    "start_time": "2022-06-17T08:38:19.896Z"
   },
   {
    "duration": 63,
    "start_time": "2022-06-17T08:38:20.413Z"
   },
   {
    "duration": 92,
    "start_time": "2022-06-17T08:38:20.478Z"
   },
   {
    "duration": 47,
    "start_time": "2022-06-17T08:38:20.573Z"
   },
   {
    "duration": 87,
    "start_time": "2022-06-17T08:38:20.622Z"
   },
   {
    "duration": 50,
    "start_time": "2022-06-17T08:38:20.711Z"
   },
   {
    "duration": 39,
    "start_time": "2022-06-17T08:38:20.764Z"
   },
   {
    "duration": 28,
    "start_time": "2022-06-17T08:38:20.805Z"
   },
   {
    "duration": 43,
    "start_time": "2022-06-17T08:38:20.835Z"
   },
   {
    "duration": 23,
    "start_time": "2022-06-17T08:38:20.880Z"
   },
   {
    "duration": 25,
    "start_time": "2022-06-17T08:38:20.905Z"
   },
   {
    "duration": 8,
    "start_time": "2022-06-17T08:38:20.958Z"
   },
   {
    "duration": 147,
    "start_time": "2022-06-17T08:38:20.969Z"
   },
   {
    "duration": 42,
    "start_time": "2022-06-17T08:38:29.804Z"
   },
   {
    "duration": 7,
    "start_time": "2022-06-17T08:39:11.965Z"
   },
   {
    "duration": 42,
    "start_time": "2022-06-17T08:39:14.845Z"
   },
   {
    "duration": 32,
    "start_time": "2022-06-17T08:41:36.090Z"
   },
   {
    "duration": 30,
    "start_time": "2022-06-17T08:43:49.442Z"
   },
   {
    "duration": 11,
    "start_time": "2022-06-17T08:44:40.920Z"
   },
   {
    "duration": 9,
    "start_time": "2022-06-17T08:46:14.837Z"
   },
   {
    "duration": 230,
    "start_time": "2022-06-17T08:46:16.789Z"
   },
   {
    "duration": 205,
    "start_time": "2022-06-17T08:46:37.646Z"
   },
   {
    "duration": 234,
    "start_time": "2022-06-17T08:46:43.792Z"
   },
   {
    "duration": 160,
    "start_time": "2022-06-17T08:47:48.835Z"
   },
   {
    "duration": 242,
    "start_time": "2022-06-17T08:48:02.312Z"
   },
   {
    "duration": 235,
    "start_time": "2022-06-17T08:48:14.387Z"
   },
   {
    "duration": 47,
    "start_time": "2022-06-17T08:50:16.273Z"
   },
   {
    "duration": 33,
    "start_time": "2022-06-17T08:52:39.404Z"
   },
   {
    "duration": 24,
    "start_time": "2022-06-17T08:52:50.415Z"
   },
   {
    "duration": 58,
    "start_time": "2022-06-17T08:54:59.412Z"
   },
   {
    "duration": 86,
    "start_time": "2022-06-17T08:55:29.639Z"
   },
   {
    "duration": 15,
    "start_time": "2022-06-17T09:01:46.661Z"
   },
   {
    "duration": 15,
    "start_time": "2022-06-17T09:02:02.700Z"
   },
   {
    "duration": 20,
    "start_time": "2022-06-17T09:04:38.549Z"
   },
   {
    "duration": 34,
    "start_time": "2022-06-17T09:04:43.496Z"
   },
   {
    "duration": 25,
    "start_time": "2022-06-17T09:04:55.512Z"
   },
   {
    "duration": 21,
    "start_time": "2022-06-17T09:05:01.549Z"
   },
   {
    "duration": 21,
    "start_time": "2022-06-17T09:05:35.409Z"
   },
   {
    "duration": 18,
    "start_time": "2022-06-17T09:06:11.315Z"
   },
   {
    "duration": 24,
    "start_time": "2022-06-17T09:07:15.955Z"
   },
   {
    "duration": 22,
    "start_time": "2022-06-17T09:07:26.699Z"
   },
   {
    "duration": 28,
    "start_time": "2022-06-17T09:07:37.147Z"
   },
   {
    "duration": 24,
    "start_time": "2022-06-17T09:09:05.583Z"
   },
   {
    "duration": 26,
    "start_time": "2022-06-17T09:09:19.644Z"
   },
   {
    "duration": 36,
    "start_time": "2022-06-17T09:12:47.544Z"
   },
   {
    "duration": 33,
    "start_time": "2022-06-17T09:12:54.315Z"
   },
   {
    "duration": 35,
    "start_time": "2022-06-17T09:13:05.712Z"
   },
   {
    "duration": 44,
    "start_time": "2022-06-17T09:14:06.284Z"
   },
   {
    "duration": 31,
    "start_time": "2022-06-17T09:17:01.478Z"
   },
   {
    "duration": 12,
    "start_time": "2022-06-17T09:18:58.232Z"
   },
   {
    "duration": 24,
    "start_time": "2022-06-17T09:19:31.511Z"
   },
   {
    "duration": 36,
    "start_time": "2022-06-17T09:20:15.046Z"
   },
   {
    "duration": 44,
    "start_time": "2022-06-17T09:20:23.005Z"
   },
   {
    "duration": 28,
    "start_time": "2022-06-17T09:29:54.365Z"
   },
   {
    "duration": 14,
    "start_time": "2022-06-17T09:30:10.179Z"
   },
   {
    "duration": 10,
    "start_time": "2022-06-17T09:31:25.469Z"
   },
   {
    "duration": 9,
    "start_time": "2022-06-17T09:34:09.982Z"
   },
   {
    "duration": 65,
    "start_time": "2022-06-17T09:35:01.514Z"
   },
   {
    "duration": 464,
    "start_time": "2022-06-17T09:35:04.794Z"
   },
   {
    "duration": 613,
    "start_time": "2022-06-17T09:35:34.592Z"
   },
   {
    "duration": 154,
    "start_time": "2022-06-17T09:35:49.855Z"
   },
   {
    "duration": 19,
    "start_time": "2022-06-17T09:36:30.123Z"
   },
   {
    "duration": 55,
    "start_time": "2022-06-17T09:36:39.960Z"
   },
   {
    "duration": 74,
    "start_time": "2022-06-17T09:36:43.509Z"
   },
   {
    "duration": 23,
    "start_time": "2022-06-17T09:36:52.030Z"
   },
   {
    "duration": 16,
    "start_time": "2022-06-17T09:36:56.627Z"
   },
   {
    "duration": 17,
    "start_time": "2022-06-17T09:37:05.787Z"
   },
   {
    "duration": 33,
    "start_time": "2022-06-17T09:38:08.796Z"
   },
   {
    "duration": 29,
    "start_time": "2022-06-17T09:41:50.984Z"
   },
   {
    "duration": 32,
    "start_time": "2022-06-17T09:42:04.920Z"
   },
   {
    "duration": 34,
    "start_time": "2022-06-17T09:42:12.407Z"
   },
   {
    "duration": 411,
    "start_time": "2022-06-17T09:44:10.623Z"
   },
   {
    "duration": 491,
    "start_time": "2022-06-17T09:46:01.619Z"
   },
   {
    "duration": 389,
    "start_time": "2022-06-17T09:46:17.680Z"
   },
   {
    "duration": 13,
    "start_time": "2022-06-17T09:52:02.211Z"
   },
   {
    "duration": 13,
    "start_time": "2022-06-17T09:52:04.743Z"
   },
   {
    "duration": 13,
    "start_time": "2022-06-17T09:52:23.872Z"
   },
   {
    "duration": 12,
    "start_time": "2022-06-17T09:52:24.492Z"
   },
   {
    "duration": 35,
    "start_time": "2022-06-17T10:03:39.453Z"
   },
   {
    "duration": 15,
    "start_time": "2022-06-17T12:46:55.249Z"
   },
   {
    "duration": 39,
    "start_time": "2022-06-17T12:47:41.465Z"
   },
   {
    "duration": 38,
    "start_time": "2022-06-17T12:48:32.313Z"
   },
   {
    "duration": 43,
    "start_time": "2022-06-17T12:48:42.228Z"
   },
   {
    "duration": 34,
    "start_time": "2022-06-17T12:58:24.676Z"
   },
   {
    "duration": 60,
    "start_time": "2022-06-17T13:01:50.223Z"
   },
   {
    "duration": 9,
    "start_time": "2022-06-17T13:05:22.161Z"
   },
   {
    "duration": 1215,
    "start_time": "2022-06-17T13:05:52.227Z"
   },
   {
    "duration": 448,
    "start_time": "2022-06-17T13:05:53.444Z"
   },
   {
    "duration": 446,
    "start_time": "2022-06-17T13:05:53.893Z"
   },
   {
    "duration": 40,
    "start_time": "2022-06-17T13:05:54.357Z"
   },
   {
    "duration": 96,
    "start_time": "2022-06-17T13:05:54.400Z"
   },
   {
    "duration": 74,
    "start_time": "2022-06-17T13:05:54.498Z"
   },
   {
    "duration": 69,
    "start_time": "2022-06-17T13:05:54.574Z"
   },
   {
    "duration": 60,
    "start_time": "2022-06-17T13:05:54.658Z"
   },
   {
    "duration": 60,
    "start_time": "2022-06-17T13:05:54.720Z"
   },
   {
    "duration": 39,
    "start_time": "2022-06-17T13:05:54.782Z"
   },
   {
    "duration": 47,
    "start_time": "2022-06-17T13:05:54.824Z"
   },
   {
    "duration": 32,
    "start_time": "2022-06-17T13:05:54.873Z"
   },
   {
    "duration": 56,
    "start_time": "2022-06-17T13:05:54.907Z"
   },
   {
    "duration": 13,
    "start_time": "2022-06-17T13:05:54.967Z"
   },
   {
    "duration": 18,
    "start_time": "2022-06-17T13:05:54.983Z"
   },
   {
    "duration": 220,
    "start_time": "2022-06-17T13:05:55.003Z"
   },
   {
    "duration": 135,
    "start_time": "2022-06-17T13:05:55.225Z"
   },
   {
    "duration": 51,
    "start_time": "2022-06-17T13:05:55.362Z"
   },
   {
    "duration": 80,
    "start_time": "2022-06-17T13:05:55.415Z"
   },
   {
    "duration": 65,
    "start_time": "2022-06-17T13:05:55.498Z"
   },
   {
    "duration": 450,
    "start_time": "2022-06-17T13:05:55.566Z"
   },
   {
    "duration": 51,
    "start_time": "2022-06-17T13:05:56.018Z"
   },
   {
    "duration": 44,
    "start_time": "2022-06-17T13:05:56.071Z"
   },
   {
    "duration": 63,
    "start_time": "2022-06-17T13:05:56.117Z"
   },
   {
    "duration": 259,
    "start_time": "2022-06-17T13:05:56.182Z"
   },
   {
    "duration": 252,
    "start_time": "2022-06-17T13:06:05.830Z"
   },
   {
    "duration": 340,
    "start_time": "2022-06-17T13:06:09.350Z"
   },
   {
    "duration": 188,
    "start_time": "2022-06-17T13:06:15.447Z"
   },
   {
    "duration": 239,
    "start_time": "2022-06-17T13:06:18.415Z"
   },
   {
    "duration": 346,
    "start_time": "2022-06-17T13:06:45.527Z"
   },
   {
    "duration": 383,
    "start_time": "2022-06-17T13:07:50.359Z"
   },
   {
    "duration": 296,
    "start_time": "2022-06-17T13:07:58.285Z"
   },
   {
    "duration": 262,
    "start_time": "2022-06-17T13:08:04.643Z"
   },
   {
    "duration": 449,
    "start_time": "2022-06-17T13:09:14.019Z"
   },
   {
    "duration": 262,
    "start_time": "2022-06-17T13:09:21.562Z"
   },
   {
    "duration": 237,
    "start_time": "2022-06-17T13:09:37.121Z"
   },
   {
    "duration": 228,
    "start_time": "2022-06-17T13:09:52.920Z"
   },
   {
    "duration": 182,
    "start_time": "2022-06-17T13:09:55.425Z"
   },
   {
    "duration": 334,
    "start_time": "2022-06-17T13:09:59.987Z"
   },
   {
    "duration": 293,
    "start_time": "2022-06-17T13:14:55.815Z"
   },
   {
    "duration": 242,
    "start_time": "2022-06-17T13:15:01.943Z"
   },
   {
    "duration": 241,
    "start_time": "2022-06-17T13:15:09.683Z"
   },
   {
    "duration": 604,
    "start_time": "2022-06-17T13:16:58.513Z"
   },
   {
    "duration": 242,
    "start_time": "2022-06-17T13:21:09.439Z"
   },
   {
    "duration": 135,
    "start_time": "2022-06-17T13:21:39.284Z"
   },
   {
    "duration": 135,
    "start_time": "2022-06-17T13:21:46.183Z"
   },
   {
    "duration": 139,
    "start_time": "2022-06-17T13:21:51.431Z"
   },
   {
    "duration": 124,
    "start_time": "2022-06-17T13:21:54.535Z"
   },
   {
    "duration": 221,
    "start_time": "2022-06-17T13:21:59.628Z"
   },
   {
    "duration": 136,
    "start_time": "2022-06-17T13:22:13.145Z"
   },
   {
    "duration": 242,
    "start_time": "2022-06-17T13:22:24.416Z"
   },
   {
    "duration": 351,
    "start_time": "2022-06-17T13:23:10.953Z"
   },
   {
    "duration": 252,
    "start_time": "2022-06-17T13:24:58.811Z"
   },
   {
    "duration": 267,
    "start_time": "2022-06-17T13:26:17.010Z"
   },
   {
    "duration": 307,
    "start_time": "2022-06-17T13:26:44.399Z"
   },
   {
    "duration": 255,
    "start_time": "2022-06-17T13:27:49.651Z"
   },
   {
    "duration": 265,
    "start_time": "2022-06-17T13:27:54.858Z"
   },
   {
    "duration": 280,
    "start_time": "2022-06-17T13:28:02.739Z"
   },
   {
    "duration": 286,
    "start_time": "2022-06-17T13:28:14.154Z"
   },
   {
    "duration": 1137,
    "start_time": "2022-06-17T13:28:45.631Z"
   },
   {
    "duration": 461,
    "start_time": "2022-06-17T13:28:46.772Z"
   },
   {
    "duration": 487,
    "start_time": "2022-06-17T13:28:47.234Z"
   },
   {
    "duration": 55,
    "start_time": "2022-06-17T13:28:47.724Z"
   },
   {
    "duration": 93,
    "start_time": "2022-06-17T13:28:47.781Z"
   },
   {
    "duration": 49,
    "start_time": "2022-06-17T13:28:47.875Z"
   },
   {
    "duration": 93,
    "start_time": "2022-06-17T13:28:47.925Z"
   },
   {
    "duration": 56,
    "start_time": "2022-06-17T13:28:48.020Z"
   },
   {
    "duration": 30,
    "start_time": "2022-06-17T13:28:48.079Z"
   },
   {
    "duration": 29,
    "start_time": "2022-06-17T13:28:48.112Z"
   },
   {
    "duration": 34,
    "start_time": "2022-06-17T13:28:48.143Z"
   },
   {
    "duration": 35,
    "start_time": "2022-06-17T13:28:48.179Z"
   },
   {
    "duration": 32,
    "start_time": "2022-06-17T13:28:48.217Z"
   },
   {
    "duration": 25,
    "start_time": "2022-06-17T13:28:48.250Z"
   },
   {
    "duration": 21,
    "start_time": "2022-06-17T13:28:48.277Z"
   },
   {
    "duration": 211,
    "start_time": "2022-06-17T13:28:48.299Z"
   },
   {
    "duration": 91,
    "start_time": "2022-06-17T13:28:48.512Z"
   },
   {
    "duration": 33,
    "start_time": "2022-06-17T13:28:48.605Z"
   },
   {
    "duration": 56,
    "start_time": "2022-06-17T13:28:48.639Z"
   },
   {
    "duration": 38,
    "start_time": "2022-06-17T13:28:48.697Z"
   },
   {
    "duration": 475,
    "start_time": "2022-06-17T13:28:48.736Z"
   },
   {
    "duration": 53,
    "start_time": "2022-06-17T13:28:49.213Z"
   },
   {
    "duration": 42,
    "start_time": "2022-06-17T13:28:49.272Z"
   },
   {
    "duration": 62,
    "start_time": "2022-06-17T13:28:49.316Z"
   },
   {
    "duration": 262,
    "start_time": "2022-06-17T13:28:49.380Z"
   },
   {
    "duration": 260,
    "start_time": "2022-06-17T13:28:49.644Z"
   },
   {
    "duration": 279,
    "start_time": "2022-06-17T13:28:49.906Z"
   },
   {
    "duration": 269,
    "start_time": "2022-06-17T13:28:50.188Z"
   },
   {
    "duration": 262,
    "start_time": "2022-06-17T13:28:50.461Z"
   },
   {
    "duration": 343,
    "start_time": "2022-06-17T13:28:50.725Z"
   },
   {
    "duration": 230,
    "start_time": "2022-06-17T13:29:36.734Z"
   },
   {
    "duration": 7,
    "start_time": "2022-06-17T13:44:48.306Z"
   },
   {
    "duration": 11,
    "start_time": "2022-06-17T13:45:24.402Z"
   },
   {
    "duration": 8,
    "start_time": "2022-06-17T13:45:26.915Z"
   },
   {
    "duration": 9,
    "start_time": "2022-06-17T13:45:49.658Z"
   },
   {
    "duration": 9,
    "start_time": "2022-06-17T13:46:07.706Z"
   },
   {
    "duration": 9,
    "start_time": "2022-06-17T13:46:18.547Z"
   },
   {
    "duration": 10,
    "start_time": "2022-06-17T13:46:38.115Z"
   },
   {
    "duration": 13,
    "start_time": "2022-06-17T13:48:12.271Z"
   },
   {
    "duration": 12,
    "start_time": "2022-06-17T13:50:25.452Z"
   },
   {
    "duration": 35,
    "start_time": "2022-06-17T13:51:46.894Z"
   },
   {
    "duration": 13,
    "start_time": "2022-06-17T13:52:01.894Z"
   },
   {
    "duration": 117,
    "start_time": "2022-06-17T13:58:26.696Z"
   },
   {
    "duration": 8,
    "start_time": "2022-06-17T13:58:36.741Z"
   },
   {
    "duration": 13,
    "start_time": "2022-06-17T14:00:08.687Z"
   },
   {
    "duration": 15,
    "start_time": "2022-06-17T14:00:16.780Z"
   },
   {
    "duration": 8,
    "start_time": "2022-06-17T14:01:28.206Z"
   },
   {
    "duration": 7,
    "start_time": "2022-06-17T14:01:36.545Z"
   },
   {
    "duration": 11,
    "start_time": "2022-06-17T14:02:48.228Z"
   },
   {
    "duration": 7,
    "start_time": "2022-06-17T14:03:14.034Z"
   },
   {
    "duration": 13,
    "start_time": "2022-06-17T14:03:18.113Z"
   },
   {
    "duration": 8,
    "start_time": "2022-06-17T14:03:30.702Z"
   },
   {
    "duration": 6,
    "start_time": "2022-06-17T14:04:24.800Z"
   },
   {
    "duration": 7,
    "start_time": "2022-06-17T14:05:56.140Z"
   },
   {
    "duration": 5,
    "start_time": "2022-06-17T14:06:07.204Z"
   },
   {
    "duration": 6,
    "start_time": "2022-06-17T14:16:53.920Z"
   },
   {
    "duration": 6,
    "start_time": "2022-06-17T14:17:20.428Z"
   },
   {
    "duration": 1230,
    "start_time": "2022-06-17T14:23:33.051Z"
   },
   {
    "duration": 1292,
    "start_time": "2022-06-18T11:14:02.170Z"
   },
   {
    "duration": 1107,
    "start_time": "2022-06-18T11:14:04.757Z"
   },
   {
    "duration": 47,
    "start_time": "2022-06-18T12:25:58.242Z"
   },
   {
    "duration": 80,
    "start_time": "2022-06-18T12:26:44.821Z"
   },
   {
    "duration": 48,
    "start_time": "2022-06-18T12:26:45.881Z"
   },
   {
    "duration": 84,
    "start_time": "2022-06-18T12:26:46.926Z"
   },
   {
    "duration": 48,
    "start_time": "2022-06-18T12:26:53.144Z"
   },
   {
    "duration": 54,
    "start_time": "2022-06-18T12:26:53.790Z"
   },
   {
    "duration": 37,
    "start_time": "2022-06-18T12:26:54.169Z"
   },
   {
    "duration": 762,
    "start_time": "2022-06-18T12:26:54.697Z"
   },
   {
    "duration": 3,
    "start_time": "2022-06-18T12:27:12.199Z"
   },
   {
    "duration": 427,
    "start_time": "2022-06-18T12:27:12.680Z"
   },
   {
    "duration": 425,
    "start_time": "2022-06-18T12:27:13.335Z"
   },
   {
    "duration": 44,
    "start_time": "2022-06-18T12:27:14.903Z"
   },
   {
    "duration": 83,
    "start_time": "2022-06-18T12:27:15.101Z"
   },
   {
    "duration": 50,
    "start_time": "2022-06-18T12:27:15.520Z"
   },
   {
    "duration": 63,
    "start_time": "2022-06-18T12:27:15.927Z"
   },
   {
    "duration": 833,
    "start_time": "2022-06-18T12:28:15.408Z"
   },
   {
    "duration": 4,
    "start_time": "2022-06-18T12:28:23.521Z"
   },
   {
    "duration": 421,
    "start_time": "2022-06-18T12:28:23.957Z"
   },
   {
    "duration": 423,
    "start_time": "2022-06-18T12:28:24.476Z"
   },
   {
    "duration": 43,
    "start_time": "2022-06-18T12:28:25.730Z"
   },
   {
    "duration": 74,
    "start_time": "2022-06-18T12:28:25.926Z"
   },
   {
    "duration": 43,
    "start_time": "2022-06-18T12:28:26.160Z"
   },
   {
    "duration": 61,
    "start_time": "2022-06-18T12:28:26.381Z"
   },
   {
    "duration": 11,
    "start_time": "2022-06-18T12:31:26.173Z"
   },
   {
    "duration": 9,
    "start_time": "2022-06-18T12:31:42.299Z"
   },
   {
    "duration": 9,
    "start_time": "2022-06-18T12:31:45.923Z"
   },
   {
    "duration": 9,
    "start_time": "2022-06-18T12:31:54.822Z"
   },
   {
    "duration": 9,
    "start_time": "2022-06-18T12:31:57.323Z"
   },
   {
    "duration": 6,
    "start_time": "2022-06-18T12:32:00.393Z"
   },
   {
    "duration": 39,
    "start_time": "2022-06-18T12:41:13.697Z"
   },
   {
    "duration": 668,
    "start_time": "2022-06-18T12:41:14.356Z"
   },
   {
    "duration": 3,
    "start_time": "2022-06-18T12:41:22.189Z"
   },
   {
    "duration": 467,
    "start_time": "2022-06-18T12:41:22.254Z"
   },
   {
    "duration": 539,
    "start_time": "2022-06-18T12:41:22.723Z"
   },
   {
    "duration": 39,
    "start_time": "2022-06-18T12:41:23.596Z"
   },
   {
    "duration": 80,
    "start_time": "2022-06-18T12:41:23.755Z"
   },
   {
    "duration": 69,
    "start_time": "2022-06-18T12:41:24.159Z"
   },
   {
    "duration": 63,
    "start_time": "2022-06-18T12:41:24.867Z"
   },
   {
    "duration": 69,
    "start_time": "2022-06-18T12:43:28.327Z"
   },
   {
    "duration": 30,
    "start_time": "2022-06-18T12:43:32.178Z"
   },
   {
    "duration": 8,
    "start_time": "2022-06-18T12:43:51.452Z"
   },
   {
    "duration": 32,
    "start_time": "2022-06-18T12:43:59.046Z"
   },
   {
    "duration": 4,
    "start_time": "2022-06-18T12:44:38.466Z"
   },
   {
    "duration": 5,
    "start_time": "2022-06-18T12:44:41.767Z"
   },
   {
    "duration": 4,
    "start_time": "2022-06-18T12:44:45.094Z"
   },
   {
    "duration": 24,
    "start_time": "2022-06-18T12:46:00.559Z"
   },
   {
    "duration": 30,
    "start_time": "2022-06-18T12:46:45.869Z"
   },
   {
    "duration": 4,
    "start_time": "2022-06-18T12:46:53.989Z"
   },
   {
    "duration": 4,
    "start_time": "2022-06-18T12:47:00.432Z"
   },
   {
    "duration": 20,
    "start_time": "2022-06-18T12:53:50.220Z"
   },
   {
    "duration": 21,
    "start_time": "2022-06-18T12:53:51.010Z"
   },
   {
    "duration": 22,
    "start_time": "2022-06-18T13:06:47.925Z"
   },
   {
    "duration": 30,
    "start_time": "2022-06-18T13:06:48.576Z"
   },
   {
    "duration": 4,
    "start_time": "2022-06-18T13:10:09.927Z"
   },
   {
    "duration": 5,
    "start_time": "2022-06-18T13:10:50.127Z"
   },
   {
    "duration": 752,
    "start_time": "2022-06-18T13:11:02.241Z"
   },
   {
    "duration": 28,
    "start_time": "2022-06-18T13:11:26.421Z"
   },
   {
    "duration": 12,
    "start_time": "2022-06-18T13:11:27.811Z"
   },
   {
    "duration": 5,
    "start_time": "2022-06-18T13:11:28.757Z"
   },
   {
    "duration": 180,
    "start_time": "2022-06-18T13:11:29.401Z"
   },
   {
    "duration": 107,
    "start_time": "2022-06-18T13:11:38.646Z"
   },
   {
    "duration": 16,
    "start_time": "2022-06-18T13:14:46.556Z"
   },
   {
    "duration": 68,
    "start_time": "2022-06-18T13:17:08.921Z"
   },
   {
    "duration": 35,
    "start_time": "2022-06-18T13:18:11.907Z"
   },
   {
    "duration": 37,
    "start_time": "2022-06-18T13:18:26.564Z"
   },
   {
    "duration": 39,
    "start_time": "2022-06-18T13:18:38.594Z"
   },
   {
    "duration": 1353,
    "start_time": "2022-06-18T13:18:47.561Z"
   },
   {
    "duration": 38,
    "start_time": "2022-06-18T13:24:26.539Z"
   },
   {
    "duration": 53,
    "start_time": "2022-06-18T13:24:26.790Z"
   },
   {
    "duration": 44,
    "start_time": "2022-06-18T13:24:29.422Z"
   },
   {
    "duration": 272,
    "start_time": "2022-06-18T13:24:30.181Z"
   },
   {
    "duration": 217,
    "start_time": "2022-06-18T13:24:31.313Z"
   },
   {
    "duration": 208,
    "start_time": "2022-06-18T13:24:54.479Z"
   },
   {
    "duration": 258,
    "start_time": "2022-06-18T13:26:24.198Z"
   },
   {
    "duration": 244,
    "start_time": "2022-06-18T13:26:24.693Z"
   },
   {
    "duration": 5,
    "start_time": "2022-06-18T13:28:43.815Z"
   },
   {
    "duration": 9,
    "start_time": "2022-06-18T13:29:09.332Z"
   },
   {
    "duration": 6,
    "start_time": "2022-06-18T13:29:29.865Z"
   },
   {
    "duration": 17,
    "start_time": "2022-06-18T13:40:08.542Z"
   },
   {
    "duration": 45,
    "start_time": "2022-06-19T01:09:57.017Z"
   },
   {
    "duration": 1280,
    "start_time": "2022-06-19T01:10:02.722Z"
   },
   {
    "duration": 917,
    "start_time": "2022-06-19T01:10:04.004Z"
   },
   {
    "duration": 427,
    "start_time": "2022-06-19T01:10:04.923Z"
   },
   {
    "duration": 51,
    "start_time": "2022-06-19T01:10:05.352Z"
   },
   {
    "duration": 74,
    "start_time": "2022-06-19T01:10:05.405Z"
   },
   {
    "duration": 57,
    "start_time": "2022-06-19T01:10:05.480Z"
   },
   {
    "duration": 88,
    "start_time": "2022-06-19T01:10:05.538Z"
   },
   {
    "duration": 42,
    "start_time": "2022-06-19T01:10:05.628Z"
   },
   {
    "duration": 50,
    "start_time": "2022-06-19T01:10:05.672Z"
   },
   {
    "duration": 26,
    "start_time": "2022-06-19T01:10:05.724Z"
   },
   {
    "duration": 18,
    "start_time": "2022-06-19T01:10:05.752Z"
   },
   {
    "duration": 37,
    "start_time": "2022-06-19T01:10:05.772Z"
   },
   {
    "duration": 28,
    "start_time": "2022-06-19T01:10:05.810Z"
   },
   {
    "duration": 9,
    "start_time": "2022-06-19T01:10:05.839Z"
   },
   {
    "duration": 7,
    "start_time": "2022-06-19T01:10:05.849Z"
   },
   {
    "duration": 205,
    "start_time": "2022-06-19T01:10:05.857Z"
   },
   {
    "duration": 6,
    "start_time": "2022-06-19T01:10:06.064Z"
   },
   {
    "duration": 76,
    "start_time": "2022-06-19T01:10:06.071Z"
   },
   {
    "duration": 55,
    "start_time": "2022-06-19T01:10:06.149Z"
   },
   {
    "duration": 34,
    "start_time": "2022-06-19T01:10:06.206Z"
   },
   {
    "duration": 54,
    "start_time": "2022-06-19T01:10:06.241Z"
   },
   {
    "duration": 1087,
    "start_time": "2022-06-19T01:10:06.297Z"
   },
   {
    "duration": 41,
    "start_time": "2022-06-19T01:10:07.386Z"
   },
   {
    "duration": 35,
    "start_time": "2022-06-19T01:10:07.429Z"
   },
   {
    "duration": 57,
    "start_time": "2022-06-19T01:10:07.466Z"
   },
   {
    "duration": 241,
    "start_time": "2022-06-19T01:10:07.525Z"
   },
   {
    "duration": 211,
    "start_time": "2022-06-19T01:10:07.767Z"
   },
   {
    "duration": 241,
    "start_time": "2022-06-19T01:10:07.981Z"
   },
   {
    "duration": 303,
    "start_time": "2022-06-19T01:10:08.223Z"
   },
   {
    "duration": 239,
    "start_time": "2022-06-19T01:10:08.528Z"
   },
   {
    "duration": 263,
    "start_time": "2022-06-19T01:10:08.768Z"
   },
   {
    "duration": 6,
    "start_time": "2022-06-19T01:10:09.033Z"
   },
   {
    "duration": 8,
    "start_time": "2022-06-19T01:10:09.040Z"
   },
   {
    "duration": 13,
    "start_time": "2022-06-19T01:10:09.050Z"
   },
   {
    "duration": 53,
    "start_time": "2022-06-19T01:11:40.238Z"
   },
   {
    "duration": 1045,
    "start_time": "2022-06-19T01:12:39.544Z"
   },
   {
    "duration": 416,
    "start_time": "2022-06-19T01:12:40.591Z"
   },
   {
    "duration": 405,
    "start_time": "2022-06-19T01:12:41.009Z"
   },
   {
    "duration": 34,
    "start_time": "2022-06-19T01:12:41.416Z"
   },
   {
    "duration": 95,
    "start_time": "2022-06-19T01:12:41.451Z"
   },
   {
    "duration": 51,
    "start_time": "2022-06-19T01:12:41.548Z"
   },
   {
    "duration": 73,
    "start_time": "2022-06-19T01:12:41.600Z"
   },
   {
    "duration": 56,
    "start_time": "2022-06-19T01:12:41.674Z"
   },
   {
    "duration": 29,
    "start_time": "2022-06-19T01:12:41.731Z"
   },
   {
    "duration": 44,
    "start_time": "2022-06-19T01:12:41.762Z"
   },
   {
    "duration": 17,
    "start_time": "2022-06-19T01:12:41.807Z"
   },
   {
    "duration": 20,
    "start_time": "2022-06-19T01:12:41.826Z"
   },
   {
    "duration": 49,
    "start_time": "2022-06-19T01:12:41.847Z"
   },
   {
    "duration": 9,
    "start_time": "2022-06-19T01:12:41.897Z"
   },
   {
    "duration": 5,
    "start_time": "2022-06-19T01:12:41.908Z"
   },
   {
    "duration": 181,
    "start_time": "2022-06-19T01:12:41.914Z"
   },
   {
    "duration": 6,
    "start_time": "2022-06-19T01:12:42.096Z"
   },
   {
    "duration": 64,
    "start_time": "2022-06-19T01:12:42.103Z"
   },
   {
    "duration": 51,
    "start_time": "2022-06-19T01:12:42.168Z"
   },
   {
    "duration": 33,
    "start_time": "2022-06-19T01:12:42.221Z"
   },
   {
    "duration": 53,
    "start_time": "2022-06-19T01:12:42.255Z"
   },
   {
    "duration": 1158,
    "start_time": "2022-06-19T01:12:42.309Z"
   },
   {
    "duration": 48,
    "start_time": "2022-06-19T01:12:43.469Z"
   },
   {
    "duration": 36,
    "start_time": "2022-06-19T01:12:43.519Z"
   },
   {
    "duration": 57,
    "start_time": "2022-06-19T01:12:43.557Z"
   },
   {
    "duration": 246,
    "start_time": "2022-06-19T01:12:43.615Z"
   },
   {
    "duration": 206,
    "start_time": "2022-06-19T01:12:43.863Z"
   },
   {
    "duration": 332,
    "start_time": "2022-06-19T01:12:44.072Z"
   },
   {
    "duration": 217,
    "start_time": "2022-06-19T01:12:44.406Z"
   },
   {
    "duration": 238,
    "start_time": "2022-06-19T01:12:44.624Z"
   },
   {
    "duration": 225,
    "start_time": "2022-06-19T01:12:44.863Z"
   },
   {
    "duration": 8,
    "start_time": "2022-06-19T01:12:45.090Z"
   },
   {
    "duration": 8,
    "start_time": "2022-06-19T01:12:45.100Z"
   },
   {
    "duration": 13,
    "start_time": "2022-06-19T01:12:45.109Z"
   },
   {
    "duration": 1291,
    "start_time": "2022-06-19T14:29:28.952Z"
   },
   {
    "duration": 486,
    "start_time": "2022-06-19T14:29:30.247Z"
   },
   {
    "duration": 469,
    "start_time": "2022-06-19T14:29:30.735Z"
   },
   {
    "duration": 61,
    "start_time": "2022-06-19T14:29:48.937Z"
   },
   {
    "duration": 82,
    "start_time": "2022-06-19T14:29:49.398Z"
   },
   {
    "duration": 45,
    "start_time": "2022-06-19T14:31:02.589Z"
   },
   {
    "duration": 81,
    "start_time": "2022-06-19T14:31:03.018Z"
   },
   {
    "duration": 47,
    "start_time": "2022-06-19T14:31:04.298Z"
   },
   {
    "duration": 45,
    "start_time": "2022-06-19T14:31:04.446Z"
   },
   {
    "duration": 39,
    "start_time": "2022-06-19T14:31:04.672Z"
   },
   {
    "duration": 25,
    "start_time": "2022-06-19T14:31:05.158Z"
   },
   {
    "duration": 42,
    "start_time": "2022-06-19T14:31:05.353Z"
   },
   {
    "duration": 49,
    "start_time": "2022-06-19T14:31:05.542Z"
   },
   {
    "duration": 18,
    "start_time": "2022-06-19T14:31:05.952Z"
   },
   {
    "duration": 5,
    "start_time": "2022-06-19T14:31:06.143Z"
   },
   {
    "duration": 207,
    "start_time": "2022-06-19T14:31:06.314Z"
   },
   {
    "duration": 8,
    "start_time": "2022-06-19T14:31:06.524Z"
   },
   {
    "duration": 115,
    "start_time": "2022-06-19T14:31:06.855Z"
   },
   {
    "duration": 33,
    "start_time": "2022-06-19T14:31:12.801Z"
   },
   {
    "duration": 33,
    "start_time": "2022-06-19T14:31:13.613Z"
   },
   {
    "duration": 76,
    "start_time": "2022-06-19T14:31:36.143Z"
   },
   {
    "duration": 1452,
    "start_time": "2022-06-19T14:31:36.798Z"
   },
   {
    "duration": 42,
    "start_time": "2022-06-19T14:31:38.884Z"
   },
   {
    "duration": 52,
    "start_time": "2022-06-19T14:31:39.377Z"
   },
   {
    "duration": 52,
    "start_time": "2022-06-19T14:31:46.418Z"
   },
   {
    "duration": 295,
    "start_time": "2022-06-19T14:31:47.084Z"
   },
   {
    "duration": 236,
    "start_time": "2022-06-19T14:31:48.352Z"
   },
   {
    "duration": 300,
    "start_time": "2022-06-19T14:31:50.684Z"
   },
   {
    "duration": 340,
    "start_time": "2022-06-19T14:31:51.208Z"
   },
   {
    "duration": 254,
    "start_time": "2022-06-19T14:31:52.586Z"
   },
   {
    "duration": 252,
    "start_time": "2022-06-19T14:31:53.087Z"
   },
   {
    "duration": 6,
    "start_time": "2022-06-19T14:31:56.546Z"
   },
   {
    "duration": 7,
    "start_time": "2022-06-19T14:31:57.593Z"
   },
   {
    "duration": 14,
    "start_time": "2022-06-19T14:31:58.943Z"
   }
  ],
  "kernelspec": {
   "display_name": "Python 3 (ipykernel)",
   "language": "python",
   "name": "python3"
  },
  "language_info": {
   "codemirror_mode": {
    "name": "ipython",
    "version": 3
   },
   "file_extension": ".py",
   "mimetype": "text/x-python",
   "name": "python",
   "nbconvert_exporter": "python",
   "pygments_lexer": "ipython3",
   "version": "3.9.13"
  },
  "toc": {
   "base_numbering": 1,
   "nav_menu": {},
   "number_sections": true,
   "sideBar": true,
   "skip_h1_title": true,
   "title_cell": "Table of Contents",
   "title_sidebar": "Contents",
   "toc_cell": false,
   "toc_position": {},
   "toc_section_display": true,
   "toc_window_display": false
  }
 },
 "nbformat": 4,
 "nbformat_minor": 2
}
