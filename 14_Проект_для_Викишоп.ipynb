{
 "cells": [
  {
   "cell_type": "markdown",
   "metadata": {
    "toc": true
   },
   "source": [
    "<h1>Содержание<span class=\"tocSkip\"></span></h1>\n",
    "<div class=\"toc\"><ul class=\"toc-item\"><li><span><a href=\"#Подготовка\" data-toc-modified-id=\"Подготовка-1\"><span class=\"toc-item-num\">1&nbsp;&nbsp;</span>Подготовка</a></span><ul class=\"toc-item\"><li><span><a href=\"#Изучение-данных\" data-toc-modified-id=\"Изучение-данных-1.1\"><span class=\"toc-item-num\">1.1&nbsp;&nbsp;</span>Изучение данных</a></span></li><li><span><a href=\"#Подготовка-к-обучению\" data-toc-modified-id=\"Подготовка-к-обучению-1.2\"><span class=\"toc-item-num\">1.2&nbsp;&nbsp;</span>Подготовка к обучению</a></span></li></ul></li><li><span><a href=\"#Обучение\" data-toc-modified-id=\"Обучение-2\"><span class=\"toc-item-num\">2&nbsp;&nbsp;</span>Обучение</a></span><ul class=\"toc-item\"><li><span><a href=\"#LogisticRegression\" data-toc-modified-id=\"LogisticRegression-2.1\"><span class=\"toc-item-num\">2.1&nbsp;&nbsp;</span>LogisticRegression</a></span></li><li><span><a href=\"#LightGBM-model\" data-toc-modified-id=\"LightGBM-model-2.2\"><span class=\"toc-item-num\">2.2&nbsp;&nbsp;</span>LightGBM model</a></span></li><li><span><a href=\"#CatBoostClassifier\" data-toc-modified-id=\"CatBoostClassifier-2.3\"><span class=\"toc-item-num\">2.3&nbsp;&nbsp;</span>CatBoostClassifier</a></span></li></ul></li><li><span><a href=\"#Тестирование\" data-toc-modified-id=\"Тестирование-3\"><span class=\"toc-item-num\">3&nbsp;&nbsp;</span>Тестирование</a></span><ul class=\"toc-item\"><li><span><a href=\"#LogisticRegression\" data-toc-modified-id=\"LogisticRegression-3.1\"><span class=\"toc-item-num\">3.1&nbsp;&nbsp;</span>LogisticRegression</a></span></li><li><span><a href=\"#LGBMClassifier\" data-toc-modified-id=\"LGBMClassifier-3.2\"><span class=\"toc-item-num\">3.2&nbsp;&nbsp;</span>LGBMClassifier</a></span></li></ul></li><li><span><a href=\"#Выводы\" data-toc-modified-id=\"Выводы-4\"><span class=\"toc-item-num\">4&nbsp;&nbsp;</span>Выводы</a></span></li><li><span><a href=\"#Чек-лист-проверки\" data-toc-modified-id=\"Чек-лист-проверки-5\"><span class=\"toc-item-num\">5&nbsp;&nbsp;</span>Чек-лист проверки</a></span></li></ul></div>"
   ]
  },
  {
   "cell_type": "markdown",
   "metadata": {},
   "source": [
    "# Проект для «Викишоп»"
   ]
  },
  {
   "cell_type": "markdown",
   "metadata": {},
   "source": [
    "Интернет-магазин «Викишоп» запускает новый сервис. Теперь пользователи могут редактировать и дополнять описания товаров, как в вики-сообществах. То есть клиенты предлагают свои правки и комментируют изменения других. Магазину нужен инструмент, который будет искать токсичные комментарии и отправлять их на модерацию. \n",
    "\n",
    "Обучите модель классифицировать комментарии на позитивные и негативные. В вашем распоряжении набор данных с разметкой о токсичности правок.\n",
    "\n",
    "Постройте модель со значением метрики качества *F1* не меньше 0.75. \n",
    "\n",
    "**Инструкция по выполнению проекта**\n",
    "\n",
    "1. Загрузите и подготовьте данные.\n",
    "2. Обучите разные модели. \n",
    "3. Сделайте выводы.\n",
    "\n",
    "Для выполнения проекта применять *BERT* необязательно, но вы можете попробовать.\n",
    "\n",
    "**Описание данных**\n",
    "\n",
    "Данные находятся в файле `toxic_comments.csv`. Столбец *text* в нём содержит текст комментария, а *toxic* — целевой признак."
   ]
  },
  {
   "cell_type": "markdown",
   "metadata": {},
   "source": [
    "**Заказчик** — Интернет-магазин «Викишоп».\n",
    "\n",
    "**Цель исследования** \n",
    "\n",
    "* Определения токсичных комментариев в реальном времени для и их отправку на модерацию\n",
    "\n",
    "**Входные данные**  — ```/toxic_comments.csv``` - \n",
    "\n",
    "\n",
    "**Результаты исследования** — Получена модель подходящая под требования заказчика (F1 >= 0.75)"
   ]
  },
  {
   "cell_type": "markdown",
   "metadata": {},
   "source": [
    "## Подготовка"
   ]
  },
  {
   "cell_type": "code",
   "execution_count": 1,
   "metadata": {},
   "outputs": [
    {
     "name": "stderr",
     "output_type": "stream",
     "text": [
      "[nltk_data] Downloading package omw-1.4 to\n",
      "[nltk_data]     C:\\Users\\anton\\AppData\\Roaming\\nltk_data...\n",
      "[nltk_data]   Package omw-1.4 is already up-to-date!\n",
      "[nltk_data] Downloading package wordnet to\n",
      "[nltk_data]     C:\\Users\\anton\\AppData\\Roaming\\nltk_data...\n",
      "[nltk_data]   Package wordnet is already up-to-date!\n",
      "[nltk_data] Downloading package stopwords to\n",
      "[nltk_data]     C:\\Users\\anton\\AppData\\Roaming\\nltk_data...\n",
      "[nltk_data]   Package stopwords is already up-to-date!\n",
      "[nltk_data] Downloading package punkt to\n",
      "[nltk_data]     C:\\Users\\anton\\AppData\\Roaming\\nltk_data...\n",
      "[nltk_data]   Package punkt is already up-to-date!\n"
     ]
    }
   ],
   "source": [
    "#общее\n",
    "import pandas as pd\n",
    "import numpy as np\n",
    "import time\n",
    "from tqdm import notebook\n",
    "from tqdm import tqdm\n",
    "\n",
    "#работа с текстом\n",
    "#!pip install pymystem3\n",
    "from pymystem3 import Mystem\n",
    "\n",
    "from nltk.stem import WordNetLemmatizer \n",
    "import re \n",
    "import nltk\n",
    "\n",
    "from nltk.corpus import stopwords as nltk_stopwords\n",
    "nltk.download('omw-1.4')\n",
    "nltk.download('wordnet')\n",
    "nltk.download('stopwords')\n",
    "nltk.download('punkt')\n",
    "from sklearn.feature_extraction.text import TfidfVectorizer \n",
    "\n",
    "#обучение\n",
    "#!pip install torch\n",
    "import torch\n",
    "\n",
    "#!pip install transformers\n",
    "import transformers\n",
    "\n",
    "from sklearn.metrics import f1_score\n",
    "from sklearn.metrics import confusion_matrix\n",
    "from sklearn.linear_model import LogisticRegression\n",
    "from sklearn.model_selection import cross_val_score\n",
    "from sklearn.model_selection import train_test_split\n",
    "from sklearn.model_selection import GridSearchCV\n",
    "from lightgbm import LGBMClassifier\n",
    "from catboost import CatBoostClassifier\n",
    "\n",
    "import warnings\n",
    "warnings.filterwarnings('ignore')\n"
   ]
  },
  {
   "cell_type": "code",
   "execution_count": 2,
   "metadata": {
    "scrolled": false
   },
   "outputs": [
    {
     "data": {
      "text/html": [
       "<div>\n",
       "<style scoped>\n",
       "    .dataframe tbody tr th:only-of-type {\n",
       "        vertical-align: middle;\n",
       "    }\n",
       "\n",
       "    .dataframe tbody tr th {\n",
       "        vertical-align: top;\n",
       "    }\n",
       "\n",
       "    .dataframe thead th {\n",
       "        text-align: right;\n",
       "    }\n",
       "</style>\n",
       "<table border=\"1\" class=\"dataframe\">\n",
       "  <thead>\n",
       "    <tr style=\"text-align: right;\">\n",
       "      <th></th>\n",
       "      <th>Unnamed: 0</th>\n",
       "      <th>text</th>\n",
       "      <th>toxic</th>\n",
       "    </tr>\n",
       "  </thead>\n",
       "  <tbody>\n",
       "    <tr>\n",
       "      <th>0</th>\n",
       "      <td>0</td>\n",
       "      <td>Explanation\\nWhy the edits made under my usern...</td>\n",
       "      <td>0</td>\n",
       "    </tr>\n",
       "    <tr>\n",
       "      <th>1</th>\n",
       "      <td>1</td>\n",
       "      <td>D'aww! He matches this background colour I'm s...</td>\n",
       "      <td>0</td>\n",
       "    </tr>\n",
       "    <tr>\n",
       "      <th>2</th>\n",
       "      <td>2</td>\n",
       "      <td>Hey man, I'm really not trying to edit war. It...</td>\n",
       "      <td>0</td>\n",
       "    </tr>\n",
       "    <tr>\n",
       "      <th>3</th>\n",
       "      <td>3</td>\n",
       "      <td>\"\\nMore\\nI can't make any real suggestions on ...</td>\n",
       "      <td>0</td>\n",
       "    </tr>\n",
       "    <tr>\n",
       "      <th>4</th>\n",
       "      <td>4</td>\n",
       "      <td>You, sir, are my hero. Any chance you remember...</td>\n",
       "      <td>0</td>\n",
       "    </tr>\n",
       "  </tbody>\n",
       "</table>\n",
       "</div>"
      ],
      "text/plain": [
       "   Unnamed: 0                                               text  toxic\n",
       "0           0  Explanation\\nWhy the edits made under my usern...      0\n",
       "1           1  D'aww! He matches this background colour I'm s...      0\n",
       "2           2  Hey man, I'm really not trying to edit war. It...      0\n",
       "3           3  \"\\nMore\\nI can't make any real suggestions on ...      0\n",
       "4           4  You, sir, are my hero. Any chance you remember...      0"
      ]
     },
     "execution_count": 2,
     "metadata": {},
     "output_type": "execute_result"
    }
   ],
   "source": [
    "df = pd.read_csv('toxic_comments.csv')\n",
    "df.head()"
   ]
  },
  {
   "cell_type": "markdown",
   "metadata": {},
   "source": [
    "**Описание:**\n",
    "* text — текст комментария\n",
    "* toxic — целевой признак\n"
   ]
  },
  {
   "cell_type": "markdown",
   "metadata": {},
   "source": [
    "### Изучение данных"
   ]
  },
  {
   "cell_type": "markdown",
   "metadata": {},
   "source": [
    "Сразу видим, лишний столбец который скорее всего задублировал индекс. Так как мы будем работать только с коменнтариями и целевым признаком, можно сразу удалить"
   ]
  },
  {
   "cell_type": "code",
   "execution_count": 3,
   "metadata": {},
   "outputs": [],
   "source": [
    "df = df.drop(['Unnamed: 0'], axis=1)"
   ]
  },
  {
   "cell_type": "code",
   "execution_count": 4,
   "metadata": {},
   "outputs": [],
   "source": [
    "# изучим датафрейм\n",
    "# функция для обработки данных датафрейма\n",
    "def research(df):\n",
    "    print('Информация по таблице:', '\\n')\n",
    "    df.info()\n",
    "    print()\n",
    "    print('Количество пропусков:', '\\n')\n",
    "    print(df.isna().sum(), '\\n', '\\n')\n",
    "    print('Процент пропусков:', '\\n')\n",
    "    print(df.isna().mean()*100, '\\n')\n",
    "\n",
    "    display(df.describe(include='all'))\n",
    "    print()\n",
    "    print('Число явных дубликатов:', df.duplicated().sum(), '\\n')"
   ]
  },
  {
   "cell_type": "code",
   "execution_count": 5,
   "metadata": {},
   "outputs": [
    {
     "name": "stdout",
     "output_type": "stream",
     "text": [
      "Информация по таблице: \n",
      "\n",
      "<class 'pandas.core.frame.DataFrame'>\n",
      "RangeIndex: 159292 entries, 0 to 159291\n",
      "Data columns (total 2 columns):\n",
      " #   Column  Non-Null Count   Dtype \n",
      "---  ------  --------------   ----- \n",
      " 0   text    159292 non-null  object\n",
      " 1   toxic   159292 non-null  int64 \n",
      "dtypes: int64(1), object(1)\n",
      "memory usage: 2.4+ MB\n",
      "\n",
      "Количество пропусков: \n",
      "\n",
      "text     0\n",
      "toxic    0\n",
      "dtype: int64 \n",
      " \n",
      "\n",
      "Процент пропусков: \n",
      "\n",
      "text     0.0\n",
      "toxic    0.0\n",
      "dtype: float64 \n",
      "\n"
     ]
    },
    {
     "data": {
      "text/html": [
       "<div>\n",
       "<style scoped>\n",
       "    .dataframe tbody tr th:only-of-type {\n",
       "        vertical-align: middle;\n",
       "    }\n",
       "\n",
       "    .dataframe tbody tr th {\n",
       "        vertical-align: top;\n",
       "    }\n",
       "\n",
       "    .dataframe thead th {\n",
       "        text-align: right;\n",
       "    }\n",
       "</style>\n",
       "<table border=\"1\" class=\"dataframe\">\n",
       "  <thead>\n",
       "    <tr style=\"text-align: right;\">\n",
       "      <th></th>\n",
       "      <th>text</th>\n",
       "      <th>toxic</th>\n",
       "    </tr>\n",
       "  </thead>\n",
       "  <tbody>\n",
       "    <tr>\n",
       "      <th>count</th>\n",
       "      <td>159292</td>\n",
       "      <td>159292.000000</td>\n",
       "    </tr>\n",
       "    <tr>\n",
       "      <th>unique</th>\n",
       "      <td>159292</td>\n",
       "      <td>NaN</td>\n",
       "    </tr>\n",
       "    <tr>\n",
       "      <th>top</th>\n",
       "      <td>Explanation\\nWhy the edits made under my usern...</td>\n",
       "      <td>NaN</td>\n",
       "    </tr>\n",
       "    <tr>\n",
       "      <th>freq</th>\n",
       "      <td>1</td>\n",
       "      <td>NaN</td>\n",
       "    </tr>\n",
       "    <tr>\n",
       "      <th>mean</th>\n",
       "      <td>NaN</td>\n",
       "      <td>0.101612</td>\n",
       "    </tr>\n",
       "    <tr>\n",
       "      <th>std</th>\n",
       "      <td>NaN</td>\n",
       "      <td>0.302139</td>\n",
       "    </tr>\n",
       "    <tr>\n",
       "      <th>min</th>\n",
       "      <td>NaN</td>\n",
       "      <td>0.000000</td>\n",
       "    </tr>\n",
       "    <tr>\n",
       "      <th>25%</th>\n",
       "      <td>NaN</td>\n",
       "      <td>0.000000</td>\n",
       "    </tr>\n",
       "    <tr>\n",
       "      <th>50%</th>\n",
       "      <td>NaN</td>\n",
       "      <td>0.000000</td>\n",
       "    </tr>\n",
       "    <tr>\n",
       "      <th>75%</th>\n",
       "      <td>NaN</td>\n",
       "      <td>0.000000</td>\n",
       "    </tr>\n",
       "    <tr>\n",
       "      <th>max</th>\n",
       "      <td>NaN</td>\n",
       "      <td>1.000000</td>\n",
       "    </tr>\n",
       "  </tbody>\n",
       "</table>\n",
       "</div>"
      ],
      "text/plain": [
       "                                                     text          toxic\n",
       "count                                              159292  159292.000000\n",
       "unique                                             159292            NaN\n",
       "top     Explanation\\nWhy the edits made under my usern...            NaN\n",
       "freq                                                    1            NaN\n",
       "mean                                                  NaN       0.101612\n",
       "std                                                   NaN       0.302139\n",
       "min                                                   NaN       0.000000\n",
       "25%                                                   NaN       0.000000\n",
       "50%                                                   NaN       0.000000\n",
       "75%                                                   NaN       0.000000\n",
       "max                                                   NaN       1.000000"
      ]
     },
     "metadata": {},
     "output_type": "display_data"
    },
    {
     "name": "stdout",
     "output_type": "stream",
     "text": [
      "\n",
      "Число явных дубликатов: 0 \n",
      "\n"
     ]
    }
   ],
   "source": [
    "research(df)"
   ]
  },
  {
   "cell_type": "code",
   "execution_count": 6,
   "metadata": {},
   "outputs": [
    {
     "data": {
      "text/plain": [
       "0    143106\n",
       "1     16186\n",
       "Name: toxic, dtype: int64"
      ]
     },
     "metadata": {},
     "output_type": "display_data"
    }
   ],
   "source": [
    "#Глянем, что по балансу\n",
    "display(df['toxic'].value_counts())"
   ]
  },
  {
   "cell_type": "markdown",
   "metadata": {},
   "source": [
    "**Промежуточный вывод** \n",
    "\n",
    "Можно обратить внимание, что баланса нет, токсичных коментариев явно меньше. Стоит это учесть.\n",
    "В остальном данные нормальные (кроме комментариев, их обычными методами не проверить)\n",
    "* пропусков нет \n",
    "* типы столбцов подходящие\n",
    "* есть необходимые данные для работы\n"
   ]
  },
  {
   "cell_type": "markdown",
   "metadata": {},
   "source": [
    "### Подготовка к обучению"
   ]
  },
  {
   "cell_type": "code",
   "execution_count": 7,
   "metadata": {},
   "outputs": [],
   "source": [
    "#для начала очистим текст\n",
    "\n",
    "def clear_text(text):\n",
    "    clear = re.sub(r'[^a-zA-Z ]', ' ', text)\n",
    "    clear_text = \" \".join(clear.split()) \n",
    "    return clear_text"
   ]
  },
  {
   "cell_type": "code",
   "execution_count": 8,
   "metadata": {},
   "outputs": [
    {
     "data": {
      "text/html": [
       "<div>\n",
       "<style scoped>\n",
       "    .dataframe tbody tr th:only-of-type {\n",
       "        vertical-align: middle;\n",
       "    }\n",
       "\n",
       "    .dataframe tbody tr th {\n",
       "        vertical-align: top;\n",
       "    }\n",
       "\n",
       "    .dataframe thead th {\n",
       "        text-align: right;\n",
       "    }\n",
       "</style>\n",
       "<table border=\"1\" class=\"dataframe\">\n",
       "  <thead>\n",
       "    <tr style=\"text-align: right;\">\n",
       "      <th></th>\n",
       "      <th>text</th>\n",
       "      <th>toxic</th>\n",
       "      <th>clear_text</th>\n",
       "    </tr>\n",
       "  </thead>\n",
       "  <tbody>\n",
       "    <tr>\n",
       "      <th>0</th>\n",
       "      <td>Explanation\\nWhy the edits made under my usern...</td>\n",
       "      <td>0</td>\n",
       "      <td>Explanation Why the edits made under my userna...</td>\n",
       "    </tr>\n",
       "    <tr>\n",
       "      <th>1</th>\n",
       "      <td>D'aww! He matches this background colour I'm s...</td>\n",
       "      <td>0</td>\n",
       "      <td>D aww He matches this background colour I m se...</td>\n",
       "    </tr>\n",
       "    <tr>\n",
       "      <th>2</th>\n",
       "      <td>Hey man, I'm really not trying to edit war. It...</td>\n",
       "      <td>0</td>\n",
       "      <td>Hey man I m really not trying to edit war It s...</td>\n",
       "    </tr>\n",
       "    <tr>\n",
       "      <th>3</th>\n",
       "      <td>\"\\nMore\\nI can't make any real suggestions on ...</td>\n",
       "      <td>0</td>\n",
       "      <td>More I can t make any real suggestions on impr...</td>\n",
       "    </tr>\n",
       "    <tr>\n",
       "      <th>4</th>\n",
       "      <td>You, sir, are my hero. Any chance you remember...</td>\n",
       "      <td>0</td>\n",
       "      <td>You sir are my hero Any chance you remember wh...</td>\n",
       "    </tr>\n",
       "  </tbody>\n",
       "</table>\n",
       "</div>"
      ],
      "text/plain": [
       "                                                text  toxic  \\\n",
       "0  Explanation\\nWhy the edits made under my usern...      0   \n",
       "1  D'aww! He matches this background colour I'm s...      0   \n",
       "2  Hey man, I'm really not trying to edit war. It...      0   \n",
       "3  \"\\nMore\\nI can't make any real suggestions on ...      0   \n",
       "4  You, sir, are my hero. Any chance you remember...      0   \n",
       "\n",
       "                                          clear_text  \n",
       "0  Explanation Why the edits made under my userna...  \n",
       "1  D aww He matches this background colour I m se...  \n",
       "2  Hey man I m really not trying to edit war It s...  \n",
       "3  More I can t make any real suggestions on impr...  \n",
       "4  You sir are my hero Any chance you remember wh...  "
      ]
     },
     "execution_count": 8,
     "metadata": {},
     "output_type": "execute_result"
    }
   ],
   "source": [
    "df['clear_text'] = df['text'].apply(clear_text)\n",
    "\n",
    "df.head()"
   ]
  },
  {
   "cell_type": "code",
   "execution_count": 9,
   "metadata": {},
   "outputs": [
    {
     "data": {
      "text/plain": [
       "' \\nfor i in tqdm (range (100), \\n               desc=\"Loading…\", \\n               ascii=False, ncols=75):\\n    df[\\'clear_text\\'] = df[\\'text\\'].apply(clear_text)\\n\\ndf.head() \\n'"
      ]
     },
     "execution_count": 9,
     "metadata": {},
     "output_type": "execute_result"
    }
   ],
   "source": [
    "# очистка с прогресс баром\n",
    "''' \n",
    "for i in tqdm (range (100), \n",
    "               desc=\"Loading…\", \n",
    "               ascii=False, ncols=75):\n",
    "    df['clear_text'] = df['text'].apply(clear_text)\n",
    "\n",
    "df.head() \n",
    "'''"
   ]
  },
  {
   "cell_type": "markdown",
   "metadata": {},
   "source": [
    "Текст подчистили, выглядит явно лучше, можно двигаться дальше."
   ]
  },
  {
   "cell_type": "code",
   "execution_count": 10,
   "metadata": {},
   "outputs": [
    {
     "data": {
      "text/plain": [
       "'\\ndef lemmatize(text):\\n    m = Mystem()\\n    lemm_list = m.lemmatize(text)\\n    lemm_text = \"\".join(lemm_list)\\n        \\n    return lemm_text\\n'"
      ]
     },
     "execution_count": 10,
     "metadata": {},
     "output_type": "execute_result"
    }
   ],
   "source": [
    "#Далее на очереде лематизация, данный код очень долго выпоняется поэтому посмотрим другие варианты\n",
    "'''\n",
    "def lemmatize(text):\n",
    "    m = Mystem()\n",
    "    lemm_list = m.lemmatize(text)\n",
    "    lemm_text = \"\".join(lemm_list)\n",
    "        \n",
    "    return lemm_text\n",
    "'''"
   ]
  },
  {
   "cell_type": "code",
   "execution_count": 11,
   "metadata": {},
   "outputs": [],
   "source": [
    "m = WordNetLemmatizer()\n",
    "\n",
    "def lemmatize(text):\n",
    "    word_list = nltk.word_tokenize(text)\n",
    "    \n",
    "    return ' '.join([m.lemmatize(w) for w in word_list])"
   ]
  },
  {
   "cell_type": "code",
   "execution_count": 12,
   "metadata": {},
   "outputs": [
    {
     "data": {
      "text/html": [
       "<div>\n",
       "<style scoped>\n",
       "    .dataframe tbody tr th:only-of-type {\n",
       "        vertical-align: middle;\n",
       "    }\n",
       "\n",
       "    .dataframe tbody tr th {\n",
       "        vertical-align: top;\n",
       "    }\n",
       "\n",
       "    .dataframe thead th {\n",
       "        text-align: right;\n",
       "    }\n",
       "</style>\n",
       "<table border=\"1\" class=\"dataframe\">\n",
       "  <thead>\n",
       "    <tr style=\"text-align: right;\">\n",
       "      <th></th>\n",
       "      <th>text</th>\n",
       "      <th>toxic</th>\n",
       "      <th>clear_text</th>\n",
       "      <th>lemm_text</th>\n",
       "    </tr>\n",
       "  </thead>\n",
       "  <tbody>\n",
       "    <tr>\n",
       "      <th>0</th>\n",
       "      <td>Explanation\\nWhy the edits made under my usern...</td>\n",
       "      <td>0</td>\n",
       "      <td>Explanation Why the edits made under my userna...</td>\n",
       "      <td>Explanation Why the edits made under my userna...</td>\n",
       "    </tr>\n",
       "    <tr>\n",
       "      <th>1</th>\n",
       "      <td>D'aww! He matches this background colour I'm s...</td>\n",
       "      <td>0</td>\n",
       "      <td>D aww He matches this background colour I m se...</td>\n",
       "      <td>D aww He match this background colour I m seem...</td>\n",
       "    </tr>\n",
       "    <tr>\n",
       "      <th>2</th>\n",
       "      <td>Hey man, I'm really not trying to edit war. It...</td>\n",
       "      <td>0</td>\n",
       "      <td>Hey man I m really not trying to edit war It s...</td>\n",
       "      <td>Hey man I m really not trying to edit war It s...</td>\n",
       "    </tr>\n",
       "    <tr>\n",
       "      <th>3</th>\n",
       "      <td>\"\\nMore\\nI can't make any real suggestions on ...</td>\n",
       "      <td>0</td>\n",
       "      <td>More I can t make any real suggestions on impr...</td>\n",
       "      <td>More I can t make any real suggestion on impro...</td>\n",
       "    </tr>\n",
       "    <tr>\n",
       "      <th>4</th>\n",
       "      <td>You, sir, are my hero. Any chance you remember...</td>\n",
       "      <td>0</td>\n",
       "      <td>You sir are my hero Any chance you remember wh...</td>\n",
       "      <td>You sir are my hero Any chance you remember wh...</td>\n",
       "    </tr>\n",
       "  </tbody>\n",
       "</table>\n",
       "</div>"
      ],
      "text/plain": [
       "                                                text  toxic  \\\n",
       "0  Explanation\\nWhy the edits made under my usern...      0   \n",
       "1  D'aww! He matches this background colour I'm s...      0   \n",
       "2  Hey man, I'm really not trying to edit war. It...      0   \n",
       "3  \"\\nMore\\nI can't make any real suggestions on ...      0   \n",
       "4  You, sir, are my hero. Any chance you remember...      0   \n",
       "\n",
       "                                          clear_text  \\\n",
       "0  Explanation Why the edits made under my userna...   \n",
       "1  D aww He matches this background colour I m se...   \n",
       "2  Hey man I m really not trying to edit war It s...   \n",
       "3  More I can t make any real suggestions on impr...   \n",
       "4  You sir are my hero Any chance you remember wh...   \n",
       "\n",
       "                                           lemm_text  \n",
       "0  Explanation Why the edits made under my userna...  \n",
       "1  D aww He match this background colour I m seem...  \n",
       "2  Hey man I m really not trying to edit war It s...  \n",
       "3  More I can t make any real suggestion on impro...  \n",
       "4  You sir are my hero Any chance you remember wh...  "
      ]
     },
     "execution_count": 12,
     "metadata": {},
     "output_type": "execute_result"
    }
   ],
   "source": [
    "df['lemm_text'] = df['clear_text'].apply(lemmatize)\n",
    "df.head()\n"
   ]
  },
  {
   "cell_type": "code",
   "execution_count": 13,
   "metadata": {},
   "outputs": [
    {
     "data": {
      "text/html": [
       "<div>\n",
       "<style scoped>\n",
       "    .dataframe tbody tr th:only-of-type {\n",
       "        vertical-align: middle;\n",
       "    }\n",
       "\n",
       "    .dataframe tbody tr th {\n",
       "        vertical-align: top;\n",
       "    }\n",
       "\n",
       "    .dataframe thead th {\n",
       "        text-align: right;\n",
       "    }\n",
       "</style>\n",
       "<table border=\"1\" class=\"dataframe\">\n",
       "  <thead>\n",
       "    <tr style=\"text-align: right;\">\n",
       "      <th></th>\n",
       "      <th>toxic</th>\n",
       "      <th>lemm_text</th>\n",
       "    </tr>\n",
       "  </thead>\n",
       "  <tbody>\n",
       "    <tr>\n",
       "      <th>0</th>\n",
       "      <td>0</td>\n",
       "      <td>Explanation Why the edits made under my userna...</td>\n",
       "    </tr>\n",
       "    <tr>\n",
       "      <th>1</th>\n",
       "      <td>0</td>\n",
       "      <td>D aww He match this background colour I m seem...</td>\n",
       "    </tr>\n",
       "    <tr>\n",
       "      <th>2</th>\n",
       "      <td>0</td>\n",
       "      <td>Hey man I m really not trying to edit war It s...</td>\n",
       "    </tr>\n",
       "    <tr>\n",
       "      <th>3</th>\n",
       "      <td>0</td>\n",
       "      <td>More I can t make any real suggestion on impro...</td>\n",
       "    </tr>\n",
       "    <tr>\n",
       "      <th>4</th>\n",
       "      <td>0</td>\n",
       "      <td>You sir are my hero Any chance you remember wh...</td>\n",
       "    </tr>\n",
       "    <tr>\n",
       "      <th>...</th>\n",
       "      <td>...</td>\n",
       "      <td>...</td>\n",
       "    </tr>\n",
       "    <tr>\n",
       "      <th>159287</th>\n",
       "      <td>0</td>\n",
       "      <td>And for the second time of asking when your vi...</td>\n",
       "    </tr>\n",
       "    <tr>\n",
       "      <th>159288</th>\n",
       "      <td>0</td>\n",
       "      <td>You should be ashamed of yourself That is a ho...</td>\n",
       "    </tr>\n",
       "    <tr>\n",
       "      <th>159289</th>\n",
       "      <td>0</td>\n",
       "      <td>Spitzer Umm there no actual article for prosti...</td>\n",
       "    </tr>\n",
       "    <tr>\n",
       "      <th>159290</th>\n",
       "      <td>0</td>\n",
       "      <td>And it look like it wa actually you who put on...</td>\n",
       "    </tr>\n",
       "    <tr>\n",
       "      <th>159291</th>\n",
       "      <td>0</td>\n",
       "      <td>And I really don t think you understand I came...</td>\n",
       "    </tr>\n",
       "  </tbody>\n",
       "</table>\n",
       "<p>159292 rows × 2 columns</p>\n",
       "</div>"
      ],
      "text/plain": [
       "        toxic                                          lemm_text\n",
       "0           0  Explanation Why the edits made under my userna...\n",
       "1           0  D aww He match this background colour I m seem...\n",
       "2           0  Hey man I m really not trying to edit war It s...\n",
       "3           0  More I can t make any real suggestion on impro...\n",
       "4           0  You sir are my hero Any chance you remember wh...\n",
       "...       ...                                                ...\n",
       "159287      0  And for the second time of asking when your vi...\n",
       "159288      0  You should be ashamed of yourself That is a ho...\n",
       "159289      0  Spitzer Umm there no actual article for prosti...\n",
       "159290      0  And it look like it wa actually you who put on...\n",
       "159291      0  And I really don t think you understand I came...\n",
       "\n",
       "[159292 rows x 2 columns]"
      ]
     },
     "execution_count": 13,
     "metadata": {},
     "output_type": "execute_result"
    }
   ],
   "source": [
    "#Оставим только очищенный текст и целевой признак\n",
    "df_clear = df.drop(['text','clear_text'], axis=1)\n",
    "df_clear"
   ]
  },
  {
   "cell_type": "markdown",
   "metadata": {},
   "source": [
    "Создадим корпус постов. Преобразуем столбец `'lemm_text'` в список текстов. "
   ]
  },
  {
   "cell_type": "code",
   "execution_count": 14,
   "metadata": {},
   "outputs": [],
   "source": [
    "#подготовка корпуса\n",
    "corpus = df_clear['lemm_text'].values\n",
    "\n",
    "#Перевод в кодировку Unicode U убивает ядро и в целом нет смысла приводить английские слова\n",
    "#corpus = df_clear['lemm_text'].values.astype('U')"
   ]
  },
  {
   "cell_type": "code",
   "execution_count": 15,
   "metadata": {},
   "outputs": [],
   "source": [
    "#подготовка обучающих выборок\n",
    "features = corpus\n",
    "target = df_clear['toxic'].values\n",
    "\n",
    "train_features, test_features, train_target, test_target = train_test_split(features, \n",
    "                                                                            target, test_size=0.2, random_state=12345)"
   ]
  },
  {
   "cell_type": "code",
   "execution_count": 16,
   "metadata": {},
   "outputs": [],
   "source": [
    "stopwordss = set(nltk_stopwords.words('english'))\n",
    "\n",
    "count_tf_idf = TfidfVectorizer(stop_words = stopwordss)\n",
    "train_features = count_tf_idf.fit_transform(train_features)"
   ]
  },
  {
   "cell_type": "code",
   "execution_count": 17,
   "metadata": {},
   "outputs": [],
   "source": [
    "test_features = count_tf_idf.transform(test_features)"
   ]
  },
  {
   "cell_type": "markdown",
   "metadata": {},
   "source": [
    "**Промежуточный итог:**\n",
    "    \n",
    "Данные проверены, подготволены для дальнешего обучения."
   ]
  },
  {
   "cell_type": "markdown",
   "metadata": {},
   "source": [
    "## Обучение"
   ]
  },
  {
   "cell_type": "code",
   "execution_count": 18,
   "metadata": {},
   "outputs": [],
   "source": [
    "# создадим табличку в которую будем записывать результаты\n",
    "result_test = {}"
   ]
  },
  {
   "cell_type": "markdown",
   "metadata": {},
   "source": [
    "### LogisticRegression"
   ]
  },
  {
   "cell_type": "code",
   "execution_count": 19,
   "metadata": {
    "scrolled": false
   },
   "outputs": [
    {
     "name": "stdout",
     "output_type": "stream",
     "text": [
      "Лучшие параметры модели: \n",
      "\n",
      "{'C': 10, 'class_weight': 'balanced'} \n",
      "\n",
      "F1: 0.7596793158493892\n"
     ]
    }
   ],
   "source": [
    "lr_model = LogisticRegression()\n",
    "\n",
    "hyperparams = [{'C':[0.1, 1, 3, 10],\n",
    "                'class_weight':['balanced']}]\n",
    "clf = GridSearchCV(lr_model, hyperparams, scoring='f1',cv=3)\n",
    "clf.fit(train_features, train_target)\n",
    "print(\"Лучшие параметры модели:\", '\\n')\n",
    "\n",
    "LR_best_params = clf.best_params_\n",
    "print(LR_best_params, '\\n')\n",
    "\n",
    "print('F1:', clf.best_score_)"
   ]
  },
  {
   "cell_type": "markdown",
   "metadata": {},
   "source": [
    "Выбираем модель со следующими показателями:\n",
    "\n",
    "{'C': 10, 'class_weight': 'balanced'}\n",
    "\n",
    "И наилучшим результатом -\n",
    "\n",
    "F1: 0.759513569910502"
   ]
  },
  {
   "cell_type": "markdown",
   "metadata": {},
   "source": [
    "### LightGBM model"
   ]
  },
  {
   "cell_type": "code",
   "execution_count": 20,
   "metadata": {},
   "outputs": [
    {
     "name": "stdout",
     "output_type": "stream",
     "text": [
      "Параметры модели: \n",
      "\n",
      "{'learning_rate': 0.1, 'max_depth': 1, 'n_estimators': 50, 'random_state': 12345} \n",
      "\n",
      "F1: 0.346571316297958\n",
      "Параметры модели: \n",
      "\n",
      "{'learning_rate': 0.1, 'max_depth': 1, 'n_estimators': 100, 'random_state': 12345} \n",
      "\n",
      "F1: 0.4212532296246884\n",
      "Параметры модели: \n",
      "\n",
      "{'learning_rate': 0.1, 'max_depth': 1, 'n_estimators': 200, 'random_state': 12345} \n",
      "\n",
      "F1: 0.5048408371574884\n",
      "Параметры модели: \n",
      "\n",
      "{'learning_rate': 0.1, 'max_depth': 1, 'n_estimators': 500, 'random_state': 12345} \n",
      "\n",
      "F1: 0.6109712552531262\n",
      "Параметры модели: \n",
      "\n",
      "{'learning_rate': 0.1, 'max_depth': 1, 'n_estimators': 1000, 'random_state': 12345} \n",
      "\n",
      "F1: 0.6650633125457543\n",
      "\n",
      " Затрачиваемое время:\n",
      "CPU times: total: 21min 24s\n",
      "Wall time: 7min 9s\n"
     ]
    }
   ],
   "source": [
    "%%time\n",
    "\n",
    "lgbm_model = LGBMClassifier()\n",
    "for i in [50, 100, 200, 500, 1000]:\n",
    "    hyperparams = [{'max_depth' : [1],\n",
    "                    'learning_rate':[0.1],\n",
    "                    'n_estimators' : [i],\n",
    "                    'random_state':[12345]}]\n",
    "    clf = GridSearchCV(lgbm_model, hyperparams, scoring='f1',cv=3)\n",
    "    clf.fit(train_features, train_target)\n",
    "    print(\"Параметры модели:\", '\\n')\n",
    "    LGBM_best_params = clf.best_params_\n",
    "    print(LGBM_best_params, '\\n')\n",
    "    print('F1:', clf.best_score_)\n",
    "\n",
    "print('\\n', 'Затрачиваемое время:')"
   ]
  },
  {
   "cell_type": "markdown",
   "metadata": {},
   "source": [
    "Выбираем модель со следующими показателями:\n",
    "\n",
    "{'learning_rate': 0.1, 'max_depth': 1, 'n_estimators': 500, 'random_state': 12345} \n",
    "\n",
    "И наилучшим результатом -\n",
    "F1: 0.6109712552531262"
   ]
  },
  {
   "cell_type": "markdown",
   "metadata": {},
   "source": [
    "### CatBoostClassifier"
   ]
  },
  {
   "cell_type": "code",
   "execution_count": 21,
   "metadata": {
    "scrolled": true
   },
   "outputs": [
    {
     "name": "stdout",
     "output_type": "stream",
     "text": [
      "0:\tlearn: 0.3869713\ttotal: 2.06s\tremaining: 3m 24s\n",
      "20:\tlearn: 0.7257268\ttotal: 29.7s\tremaining: 1m 51s\n",
      "40:\tlearn: 0.7622340\ttotal: 56.6s\tremaining: 1m 21s\n",
      "60:\tlearn: 0.7812731\ttotal: 1m 23s\tremaining: 53.5s\n",
      "80:\tlearn: 0.7915895\ttotal: 1m 50s\tremaining: 25.9s\n",
      "99:\tlearn: 0.7984749\ttotal: 2m 16s\tremaining: 0us\n",
      "\n",
      "F1 обучающей выборки: 0.798474852197755\n",
      "F1 тестовой выборки:  0.7527367506516072\n",
      "Матрица ошибок\n",
      "[[28270   359]\n",
      " [ 1064  2166]]\n",
      "\n",
      " Время обработки:\n",
      "CPU times: total: 7min 56s\n",
      "Wall time: 2min 41s\n"
     ]
    }
   ],
   "source": [
    "%%time\n",
    "#при создании массива убивается ядро\n",
    "#train_featurescat =  train_features.toarray() \n",
    "\n",
    "cbr_model = CatBoostClassifier(eval_metric=\"F1\", \n",
    "                                   iterations=100, \n",
    "                                   max_depth=5, \n",
    "                                   learning_rate=0.9, \n",
    "                                   random_state=42)\n",
    "cbr_model.fit(train_features, train_target, verbose=20)\n",
    "\n",
    "\n",
    "predictions_train = cbr_model.predict(train_features)\n",
    "f1_train = f1_score(train_target, predictions_train)\n",
    "\n",
    "predictions_test = cbr_model.predict(test_features)\n",
    "f1_test = f1_score(test_target, predictions_test)\n",
    "\n",
    "print()\n",
    "print(\"F1 обучающей выборки:\", f1_train)\n",
    "print(\"F1 тестовой выборки: \", f1_test)\n",
    "print('Матрица ошибок')\n",
    "print(confusion_matrix(test_target, predictions_test))\n",
    "print('\\n', 'Время обработки:')"
   ]
  },
  {
   "cell_type": "code",
   "execution_count": 22,
   "metadata": {},
   "outputs": [],
   "source": [
    "result_test['CatBoostRegressor'] = [f1_test]"
   ]
  },
  {
   "cell_type": "markdown",
   "metadata": {},
   "source": [
    "## Тестирование"
   ]
  },
  {
   "cell_type": "markdown",
   "metadata": {},
   "source": [
    "### LogisticRegression"
   ]
  },
  {
   "cell_type": "code",
   "execution_count": 23,
   "metadata": {},
   "outputs": [
    {
     "name": "stdout",
     "output_type": "stream",
     "text": [
      "F1 тестовой выборки: 0.7677752293577982 \n",
      "\n",
      "Матрица ошибок\n",
      "[[27561  1068]\n",
      " [  552  2678]]\n",
      "\n",
      " Время обработки:\n",
      "CPU times: total: 10.4 s\n",
      "Wall time: 5.96 s\n"
     ]
    }
   ],
   "source": [
    "%%time\n",
    "lr_model = LogisticRegression()\n",
    "lr_model.set_params(**LR_best_params)\n",
    "lr_model.fit(train_features, train_target)\n",
    "prediction = lr_model.predict(test_features)\n",
    "f1 = f1_score(test_target, prediction)\n",
    "\n",
    "print('F1 тестовой выборки:', f1, '\\n')\n",
    "\n",
    "print('Матрица ошибок')\n",
    "print(confusion_matrix(test_target, prediction))\n",
    "\n",
    "print('\\n', 'Время обработки:')"
   ]
  },
  {
   "cell_type": "code",
   "execution_count": 24,
   "metadata": {},
   "outputs": [],
   "source": [
    "result_test['LogisticRegression'] = [f1]\n"
   ]
  },
  {
   "cell_type": "markdown",
   "metadata": {},
   "source": [
    "### LGBMClassifier"
   ]
  },
  {
   "cell_type": "code",
   "execution_count": 25,
   "metadata": {},
   "outputs": [
    {
     "name": "stdout",
     "output_type": "stream",
     "text": [
      "F1 тестовой выборки: 0.6751491053677932 \n",
      "\n",
      "Матрица ошибок\n",
      "[[28527   102]\n",
      " [ 1532  1698]]\n",
      "\n",
      " Время обработки:\n",
      "CPU times: total: 2min 44s\n",
      "Wall time: 53.8 s\n"
     ]
    }
   ],
   "source": [
    "%%time\n",
    "LightGBM_model = LGBMClassifier()\n",
    "LightGBM_model.set_params(**LGBM_best_params)\n",
    "LightGBM_model.fit(train_features, train_target)\n",
    "prediction = LightGBM_model.predict(test_features)\n",
    "f1 = f1_score(test_target, prediction)\n",
    "print('F1 тестовой выборки:', f1, '\\n')\n",
    "\n",
    "print('Матрица ошибок')\n",
    "print(confusion_matrix(test_target, prediction))\n",
    "\n",
    "print('\\n', 'Время обработки:')"
   ]
  },
  {
   "cell_type": "code",
   "execution_count": 26,
   "metadata": {},
   "outputs": [],
   "source": [
    "result_test['LGBMClassifier'] = [f1]"
   ]
  },
  {
   "cell_type": "markdown",
   "metadata": {},
   "source": [
    "## Выводы"
   ]
  },
  {
   "cell_type": "code",
   "execution_count": 27,
   "metadata": {},
   "outputs": [
    {
     "data": {
      "text/html": [
       "<div>\n",
       "<style scoped>\n",
       "    .dataframe tbody tr th:only-of-type {\n",
       "        vertical-align: middle;\n",
       "    }\n",
       "\n",
       "    .dataframe tbody tr th {\n",
       "        vertical-align: top;\n",
       "    }\n",
       "\n",
       "    .dataframe thead th {\n",
       "        text-align: right;\n",
       "    }\n",
       "</style>\n",
       "<table border=\"1\" class=\"dataframe\">\n",
       "  <thead>\n",
       "    <tr style=\"text-align: right;\">\n",
       "      <th></th>\n",
       "      <th>f1</th>\n",
       "    </tr>\n",
       "  </thead>\n",
       "  <tbody>\n",
       "    <tr>\n",
       "      <th>CatBoostRegressor</th>\n",
       "      <td>0.752737</td>\n",
       "    </tr>\n",
       "    <tr>\n",
       "      <th>LogisticRegression</th>\n",
       "      <td>0.767775</td>\n",
       "    </tr>\n",
       "    <tr>\n",
       "      <th>LGBMClassifier</th>\n",
       "      <td>0.675149</td>\n",
       "    </tr>\n",
       "  </tbody>\n",
       "</table>\n",
       "</div>"
      ],
      "text/plain": [
       "                          f1\n",
       "CatBoostRegressor   0.752737\n",
       "LogisticRegression  0.767775\n",
       "LGBMClassifier      0.675149"
      ]
     },
     "execution_count": 27,
     "metadata": {},
     "output_type": "execute_result"
    }
   ],
   "source": [
    "df_result_test = pd.DataFrame.from_dict(data=result_test, \n",
    "                                        columns=['f1'], orient='index')\n",
    "df_result_test"
   ]
  },
  {
   "cell_type": "markdown",
   "metadata": {},
   "source": [
    "И так, барабанная дробь. Побеждает модель LogisticRegression с результатом 0.767775"
   ]
  },
  {
   "cell_type": "markdown",
   "metadata": {},
   "source": [
    "## Чек-лист проверки"
   ]
  },
  {
   "cell_type": "markdown",
   "metadata": {},
   "source": [
    "- [x]  Jupyter Notebook открыт\n",
    "- [x]  Весь код выполняется без ошибок\n",
    "- [x]  Ячейки с кодом расположены в порядке исполнения\n",
    "- [x]  Данные загружены и подготовлены\n",
    "- [x]  Модели обучены\n",
    "- [x]  Значение метрики *F1* не меньше 0.75\n",
    "- [x]  Выводы написаны"
   ]
  },
  {
   "cell_type": "code",
   "execution_count": null,
   "metadata": {},
   "outputs": [],
   "source": []
  }
 ],
 "metadata": {
  "ExecuteTimeLog": [
   {
    "duration": 1280,
    "start_time": "2022-10-09T17:51:24.720Z"
   },
   {
    "duration": 102,
    "start_time": "2022-10-09T17:51:59.988Z"
   },
   {
    "duration": 45,
    "start_time": "2022-10-09T17:52:17.326Z"
   },
   {
    "duration": 2,
    "start_time": "2022-10-09T17:57:25.851Z"
   },
   {
    "duration": 38,
    "start_time": "2022-10-09T17:57:28.058Z"
   },
   {
    "duration": 2332,
    "start_time": "2022-10-09T18:06:17.136Z"
   },
   {
    "duration": 770,
    "start_time": "2022-10-09T18:06:37.541Z"
   },
   {
    "duration": 4,
    "start_time": "2022-10-09T18:07:26.707Z"
   },
   {
    "duration": 586,
    "start_time": "2022-10-09T18:07:32.956Z"
   },
   {
    "duration": 26,
    "start_time": "2022-10-09T18:09:12.438Z"
   },
   {
    "duration": 8,
    "start_time": "2022-10-09T18:09:24.911Z"
   },
   {
    "duration": 8,
    "start_time": "2022-10-09T18:09:30.837Z"
   },
   {
    "duration": 12,
    "start_time": "2022-10-09T18:10:07.682Z"
   },
   {
    "duration": 12,
    "start_time": "2022-10-09T18:10:20.550Z"
   },
   {
    "duration": 1217,
    "start_time": "2022-10-09T18:10:26.478Z"
   },
   {
    "duration": 814,
    "start_time": "2022-10-09T18:10:27.698Z"
   },
   {
    "duration": 10,
    "start_time": "2022-10-09T18:10:28.513Z"
   },
   {
    "duration": 5,
    "start_time": "2022-10-09T18:10:28.525Z"
   },
   {
    "duration": 553,
    "start_time": "2022-10-09T18:10:28.532Z"
   },
   {
    "duration": 6,
    "start_time": "2022-10-09T18:18:37.495Z"
   },
   {
    "duration": 5071,
    "start_time": "2022-10-09T18:36:02.078Z"
   },
   {
    "duration": 433,
    "start_time": "2022-10-09T18:38:44.002Z"
   },
   {
    "duration": 46,
    "start_time": "2022-10-09T18:39:03.191Z"
   },
   {
    "duration": 1503,
    "start_time": "2022-10-09T18:39:08.843Z"
   },
   {
    "duration": 2278,
    "start_time": "2022-10-09T18:39:10.348Z"
   },
   {
    "duration": 12,
    "start_time": "2022-10-09T18:39:12.627Z"
   },
   {
    "duration": 6,
    "start_time": "2022-10-09T18:39:12.640Z"
   },
   {
    "duration": 526,
    "start_time": "2022-10-09T18:39:12.648Z"
   },
   {
    "duration": 5,
    "start_time": "2022-10-09T18:39:13.177Z"
   },
   {
    "duration": 11260,
    "start_time": "2022-10-09T18:39:13.184Z"
   },
   {
    "duration": 1135,
    "start_time": "2022-10-09T18:40:04.837Z"
   },
   {
    "duration": 2567,
    "start_time": "2022-10-09T18:40:18.833Z"
   },
   {
    "duration": 767,
    "start_time": "2022-10-09T18:40:21.402Z"
   },
   {
    "duration": 13,
    "start_time": "2022-10-09T18:40:22.171Z"
   },
   {
    "duration": 11,
    "start_time": "2022-10-09T18:40:22.186Z"
   },
   {
    "duration": 557,
    "start_time": "2022-10-09T18:40:22.199Z"
   },
   {
    "duration": 5,
    "start_time": "2022-10-09T18:40:22.757Z"
   },
   {
    "duration": 11498,
    "start_time": "2022-10-09T18:40:22.764Z"
   },
   {
    "duration": 4,
    "start_time": "2022-10-09T18:41:17.418Z"
   },
   {
    "duration": 2821,
    "start_time": "2022-10-09T18:42:03.563Z"
   },
   {
    "duration": 2265,
    "start_time": "2022-10-09T18:42:06.386Z"
   },
   {
    "duration": 12,
    "start_time": "2022-10-09T18:42:08.652Z"
   },
   {
    "duration": 8,
    "start_time": "2022-10-09T18:42:08.665Z"
   },
   {
    "duration": 532,
    "start_time": "2022-10-09T18:42:08.674Z"
   },
   {
    "duration": 5,
    "start_time": "2022-10-09T18:42:09.208Z"
   },
   {
    "duration": 11391,
    "start_time": "2022-10-09T18:42:09.215Z"
   },
   {
    "duration": 2577,
    "start_time": "2022-10-09T21:35:42.239Z"
   },
   {
    "duration": 2342,
    "start_time": "2022-10-09T21:36:18.290Z"
   },
   {
    "duration": 2240,
    "start_time": "2022-10-09T21:36:20.633Z"
   },
   {
    "duration": 10,
    "start_time": "2022-10-09T21:36:22.876Z"
   },
   {
    "duration": 5,
    "start_time": "2022-10-09T21:36:22.888Z"
   },
   {
    "duration": 508,
    "start_time": "2022-10-09T21:36:22.894Z"
   },
   {
    "duration": 6,
    "start_time": "2022-10-09T21:36:23.403Z"
   },
   {
    "duration": 11120,
    "start_time": "2022-10-09T21:36:23.410Z"
   },
   {
    "duration": 2764,
    "start_time": "2022-10-10T08:43:46.622Z"
   },
   {
    "duration": 3053,
    "start_time": "2022-10-10T08:43:49.388Z"
   },
   {
    "duration": 10,
    "start_time": "2022-10-10T08:43:52.443Z"
   },
   {
    "duration": 6,
    "start_time": "2022-10-10T08:43:52.455Z"
   },
   {
    "duration": 525,
    "start_time": "2022-10-10T08:43:52.462Z"
   },
   {
    "duration": 5,
    "start_time": "2022-10-10T08:43:52.989Z"
   },
   {
    "duration": 10718,
    "start_time": "2022-10-10T08:43:53.004Z"
   },
   {
    "duration": 5,
    "start_time": "2022-10-10T08:44:03.723Z"
   },
   {
    "duration": 3,
    "start_time": "2022-10-10T08:45:37.173Z"
   },
   {
    "duration": 55,
    "start_time": "2022-10-10T08:50:55.230Z"
   },
   {
    "duration": 6,
    "start_time": "2022-10-10T09:11:35.924Z"
   },
   {
    "duration": 1708,
    "start_time": "2022-10-10T09:12:43.068Z"
   },
   {
    "duration": 182,
    "start_time": "2022-10-10T09:13:15.003Z"
   },
   {
    "duration": 3,
    "start_time": "2022-10-10T09:14:20.821Z"
   },
   {
    "duration": 2596,
    "start_time": "2022-10-10T09:31:36.081Z"
   },
   {
    "duration": 668,
    "start_time": "2022-10-10T09:31:38.679Z"
   },
   {
    "duration": 8,
    "start_time": "2022-10-10T09:31:39.348Z"
   },
   {
    "duration": 5,
    "start_time": "2022-10-10T09:31:39.357Z"
   },
   {
    "duration": 467,
    "start_time": "2022-10-10T09:31:39.364Z"
   },
   {
    "duration": 5,
    "start_time": "2022-10-10T09:31:39.833Z"
   },
   {
    "duration": 3,
    "start_time": "2022-10-10T09:31:39.839Z"
   },
   {
    "duration": 83,
    "start_time": "2022-10-10T09:31:39.843Z"
   },
   {
    "duration": 0,
    "start_time": "2022-10-10T09:31:39.927Z"
   },
   {
    "duration": 0,
    "start_time": "2022-10-10T09:31:39.928Z"
   },
   {
    "duration": 0,
    "start_time": "2022-10-10T09:31:39.929Z"
   },
   {
    "duration": 1744,
    "start_time": "2022-10-10T09:31:47.780Z"
   },
   {
    "duration": 2040,
    "start_time": "2022-10-10T09:31:59.820Z"
   },
   {
    "duration": 11,
    "start_time": "2022-10-10T09:32:24.491Z"
   },
   {
    "duration": 11,
    "start_time": "2022-10-10T09:32:44.086Z"
   },
   {
    "duration": 1797,
    "start_time": "2022-10-10T09:32:49.158Z"
   },
   {
    "duration": 2709,
    "start_time": "2022-10-10T09:33:55.219Z"
   },
   {
    "duration": 719,
    "start_time": "2022-10-10T09:33:57.931Z"
   },
   {
    "duration": 9,
    "start_time": "2022-10-10T09:33:58.652Z"
   },
   {
    "duration": 20,
    "start_time": "2022-10-10T09:33:58.663Z"
   },
   {
    "duration": 533,
    "start_time": "2022-10-10T09:33:58.685Z"
   },
   {
    "duration": 5,
    "start_time": "2022-10-10T09:33:59.220Z"
   },
   {
    "duration": 7,
    "start_time": "2022-10-10T09:33:59.227Z"
   },
   {
    "duration": 26909,
    "start_time": "2022-10-10T09:33:59.236Z"
   },
   {
    "duration": 0,
    "start_time": "2022-10-10T09:34:26.147Z"
   },
   {
    "duration": 0,
    "start_time": "2022-10-10T09:34:26.148Z"
   },
   {
    "duration": 0,
    "start_time": "2022-10-10T09:34:26.150Z"
   },
   {
    "duration": 3146,
    "start_time": "2022-10-10T09:35:56.472Z"
   },
   {
    "duration": 750,
    "start_time": "2022-10-10T09:35:59.622Z"
   },
   {
    "duration": 10,
    "start_time": "2022-10-10T09:36:00.374Z"
   },
   {
    "duration": 42,
    "start_time": "2022-10-10T09:36:00.386Z"
   },
   {
    "duration": 562,
    "start_time": "2022-10-10T09:36:00.430Z"
   },
   {
    "duration": 12,
    "start_time": "2022-10-10T09:36:00.994Z"
   },
   {
    "duration": 14,
    "start_time": "2022-10-10T09:36:01.010Z"
   },
   {
    "duration": 1935,
    "start_time": "2022-10-10T09:36:01.026Z"
   },
   {
    "duration": 2,
    "start_time": "2022-10-10T09:36:02.963Z"
   },
   {
    "duration": 420619,
    "start_time": "2022-10-10T09:36:02.967Z"
   },
   {
    "duration": 0,
    "start_time": "2022-10-10T09:43:03.588Z"
   },
   {
    "duration": 0,
    "start_time": "2022-10-10T09:43:03.589Z"
   },
   {
    "duration": 2531,
    "start_time": "2022-10-10T09:43:16.538Z"
   },
   {
    "duration": 703,
    "start_time": "2022-10-10T09:43:19.071Z"
   },
   {
    "duration": 9,
    "start_time": "2022-10-10T09:43:19.776Z"
   },
   {
    "duration": 5,
    "start_time": "2022-10-10T09:43:19.787Z"
   },
   {
    "duration": 555,
    "start_time": "2022-10-10T09:43:19.793Z"
   },
   {
    "duration": 5,
    "start_time": "2022-10-10T09:43:20.350Z"
   },
   {
    "duration": 4,
    "start_time": "2022-10-10T09:43:20.356Z"
   },
   {
    "duration": 1910,
    "start_time": "2022-10-10T09:43:20.362Z"
   },
   {
    "duration": 4,
    "start_time": "2022-10-10T09:43:22.274Z"
   },
   {
    "duration": 8,
    "start_time": "2022-10-10T09:43:22.280Z"
   },
   {
    "duration": 62399,
    "start_time": "2022-10-10T09:43:22.289Z"
   },
   {
    "duration": 1,
    "start_time": "2022-10-10T09:44:24.690Z"
   },
   {
    "duration": 2659,
    "start_time": "2022-10-10T09:45:12.089Z"
   },
   {
    "duration": 695,
    "start_time": "2022-10-10T09:45:14.749Z"
   },
   {
    "duration": 9,
    "start_time": "2022-10-10T09:45:15.446Z"
   },
   {
    "duration": 5,
    "start_time": "2022-10-10T09:45:15.457Z"
   },
   {
    "duration": 486,
    "start_time": "2022-10-10T09:45:15.463Z"
   },
   {
    "duration": 5,
    "start_time": "2022-10-10T09:45:15.950Z"
   },
   {
    "duration": 6,
    "start_time": "2022-10-10T09:45:15.957Z"
   },
   {
    "duration": 1901,
    "start_time": "2022-10-10T09:45:15.964Z"
   },
   {
    "duration": 4,
    "start_time": "2022-10-10T09:45:17.866Z"
   },
   {
    "duration": 6,
    "start_time": "2022-10-10T09:45:17.872Z"
   },
   {
    "duration": 173,
    "start_time": "2022-10-10T09:45:17.879Z"
   },
   {
    "duration": 0,
    "start_time": "2022-10-10T09:45:18.054Z"
   },
   {
    "duration": 0,
    "start_time": "2022-10-10T09:45:18.055Z"
   },
   {
    "duration": 6,
    "start_time": "2022-10-10T09:45:47.940Z"
   },
   {
    "duration": 3451,
    "start_time": "2022-10-10T09:45:54.965Z"
   },
   {
    "duration": 725,
    "start_time": "2022-10-10T09:45:58.418Z"
   },
   {
    "duration": 11,
    "start_time": "2022-10-10T09:45:59.145Z"
   },
   {
    "duration": 5,
    "start_time": "2022-10-10T09:45:59.158Z"
   },
   {
    "duration": 527,
    "start_time": "2022-10-10T09:45:59.164Z"
   },
   {
    "duration": 27,
    "start_time": "2022-10-10T09:45:59.693Z"
   },
   {
    "duration": 5,
    "start_time": "2022-10-10T09:45:59.722Z"
   },
   {
    "duration": 1898,
    "start_time": "2022-10-10T09:45:59.729Z"
   },
   {
    "duration": 5,
    "start_time": "2022-10-10T09:46:01.628Z"
   },
   {
    "duration": 22,
    "start_time": "2022-10-10T09:46:01.636Z"
   },
   {
    "duration": 19,
    "start_time": "2022-10-10T09:46:01.660Z"
   },
   {
    "duration": 71739,
    "start_time": "2022-10-10T09:46:01.681Z"
   },
   {
    "duration": 10677,
    "start_time": "2022-10-10T09:47:13.422Z"
   },
   {
    "duration": 2875,
    "start_time": "2022-10-10T10:00:22.971Z"
   },
   {
    "duration": 773,
    "start_time": "2022-10-10T10:00:25.848Z"
   },
   {
    "duration": 10,
    "start_time": "2022-10-10T10:00:26.622Z"
   },
   {
    "duration": 6,
    "start_time": "2022-10-10T10:00:26.634Z"
   },
   {
    "duration": 515,
    "start_time": "2022-10-10T10:00:26.642Z"
   },
   {
    "duration": 5,
    "start_time": "2022-10-10T10:00:27.159Z"
   },
   {
    "duration": 5,
    "start_time": "2022-10-10T10:00:27.165Z"
   },
   {
    "duration": 1996,
    "start_time": "2022-10-10T10:00:27.171Z"
   },
   {
    "duration": 4,
    "start_time": "2022-10-10T10:00:29.169Z"
   },
   {
    "duration": 5,
    "start_time": "2022-10-10T10:00:29.174Z"
   },
   {
    "duration": 1337282,
    "start_time": "2022-10-10T10:00:29.180Z"
   },
   {
    "duration": 0,
    "start_time": "2022-10-10T10:22:46.464Z"
   },
   {
    "duration": 2586,
    "start_time": "2022-10-10T10:23:27.887Z"
   },
   {
    "duration": 710,
    "start_time": "2022-10-10T10:23:30.475Z"
   },
   {
    "duration": 10,
    "start_time": "2022-10-10T10:23:31.187Z"
   },
   {
    "duration": 4,
    "start_time": "2022-10-10T10:23:31.205Z"
   },
   {
    "duration": 516,
    "start_time": "2022-10-10T10:23:31.211Z"
   },
   {
    "duration": 5,
    "start_time": "2022-10-10T10:23:31.728Z"
   },
   {
    "duration": 3,
    "start_time": "2022-10-10T10:23:31.735Z"
   },
   {
    "duration": 1740,
    "start_time": "2022-10-10T10:23:31.739Z"
   },
   {
    "duration": 4,
    "start_time": "2022-10-10T10:23:33.480Z"
   },
   {
    "duration": 6,
    "start_time": "2022-10-10T10:23:33.485Z"
   },
   {
    "duration": 14,
    "start_time": "2022-10-10T10:23:33.492Z"
   },
   {
    "duration": 67474,
    "start_time": "2022-10-10T10:23:33.507Z"
   },
   {
    "duration": 10746,
    "start_time": "2022-10-10T10:24:40.984Z"
   },
   {
    "duration": 1419,
    "start_time": "2022-10-10T10:56:11.296Z"
   },
   {
    "duration": 38,
    "start_time": "2022-10-10T11:00:29.548Z"
   },
   {
    "duration": 2711,
    "start_time": "2022-10-10T11:03:20.579Z"
   },
   {
    "duration": 0,
    "start_time": "2022-10-10T11:03:23.291Z"
   },
   {
    "duration": 0,
    "start_time": "2022-10-10T11:03:23.292Z"
   },
   {
    "duration": 0,
    "start_time": "2022-10-10T11:03:23.293Z"
   },
   {
    "duration": 0,
    "start_time": "2022-10-10T11:03:23.294Z"
   },
   {
    "duration": 0,
    "start_time": "2022-10-10T11:03:23.295Z"
   },
   {
    "duration": 0,
    "start_time": "2022-10-10T11:03:23.296Z"
   },
   {
    "duration": 0,
    "start_time": "2022-10-10T11:03:23.297Z"
   },
   {
    "duration": 0,
    "start_time": "2022-10-10T11:03:23.298Z"
   },
   {
    "duration": 0,
    "start_time": "2022-10-10T11:03:23.298Z"
   },
   {
    "duration": 0,
    "start_time": "2022-10-10T11:03:23.299Z"
   },
   {
    "duration": 1,
    "start_time": "2022-10-10T11:03:23.300Z"
   },
   {
    "duration": 0,
    "start_time": "2022-10-10T11:03:23.301Z"
   },
   {
    "duration": 0,
    "start_time": "2022-10-10T11:03:23.302Z"
   },
   {
    "duration": 2793,
    "start_time": "2022-10-10T11:03:31.874Z"
   },
   {
    "duration": 3133,
    "start_time": "2022-10-10T11:03:34.669Z"
   },
   {
    "duration": 10,
    "start_time": "2022-10-10T11:03:37.804Z"
   },
   {
    "duration": 6,
    "start_time": "2022-10-10T11:03:37.816Z"
   },
   {
    "duration": 560,
    "start_time": "2022-10-10T11:03:37.824Z"
   },
   {
    "duration": 5,
    "start_time": "2022-10-10T11:03:38.385Z"
   },
   {
    "duration": 14,
    "start_time": "2022-10-10T11:03:38.391Z"
   },
   {
    "duration": 1778,
    "start_time": "2022-10-10T11:03:38.407Z"
   },
   {
    "duration": 3,
    "start_time": "2022-10-10T11:03:40.187Z"
   },
   {
    "duration": 17,
    "start_time": "2022-10-10T11:03:40.192Z"
   },
   {
    "duration": 19,
    "start_time": "2022-10-10T11:03:40.211Z"
   },
   {
    "duration": 69049,
    "start_time": "2022-10-10T11:03:40.232Z"
   },
   {
    "duration": 47,
    "start_time": "2022-10-10T11:04:49.283Z"
   },
   {
    "duration": 1703,
    "start_time": "2022-10-10T11:04:49.332Z"
   },
   {
    "duration": 3,
    "start_time": "2022-10-10T11:12:21.842Z"
   },
   {
    "duration": 151,
    "start_time": "2022-10-10T11:14:06.194Z"
   },
   {
    "duration": 11,
    "start_time": "2022-10-10T11:14:18.609Z"
   },
   {
    "duration": 2779,
    "start_time": "2022-10-10T11:14:32.739Z"
   },
   {
    "duration": 750,
    "start_time": "2022-10-10T11:14:35.520Z"
   },
   {
    "duration": 12,
    "start_time": "2022-10-10T11:14:36.272Z"
   },
   {
    "duration": 6,
    "start_time": "2022-10-10T11:14:36.286Z"
   },
   {
    "duration": 535,
    "start_time": "2022-10-10T11:14:36.306Z"
   },
   {
    "duration": 5,
    "start_time": "2022-10-10T11:14:36.843Z"
   },
   {
    "duration": 6,
    "start_time": "2022-10-10T11:14:36.850Z"
   },
   {
    "duration": 1854,
    "start_time": "2022-10-10T11:14:36.857Z"
   },
   {
    "duration": 4,
    "start_time": "2022-10-10T11:14:38.712Z"
   },
   {
    "duration": 14,
    "start_time": "2022-10-10T11:14:38.718Z"
   },
   {
    "duration": 15,
    "start_time": "2022-10-10T11:14:38.733Z"
   },
   {
    "duration": 66657,
    "start_time": "2022-10-10T11:14:38.749Z"
   },
   {
    "duration": 44,
    "start_time": "2022-10-10T11:15:45.408Z"
   },
   {
    "duration": 1704,
    "start_time": "2022-10-10T11:15:45.453Z"
   },
   {
    "duration": 2429,
    "start_time": "2022-10-10T11:21:19.548Z"
   },
   {
    "duration": 2991,
    "start_time": "2022-10-10T11:21:21.978Z"
   },
   {
    "duration": 9,
    "start_time": "2022-10-10T11:21:24.971Z"
   },
   {
    "duration": 6,
    "start_time": "2022-10-10T11:21:24.982Z"
   },
   {
    "duration": 480,
    "start_time": "2022-10-10T11:21:24.989Z"
   },
   {
    "duration": 5,
    "start_time": "2022-10-10T11:21:25.471Z"
   },
   {
    "duration": 11,
    "start_time": "2022-10-10T11:21:25.477Z"
   },
   {
    "duration": 1839,
    "start_time": "2022-10-10T11:21:25.489Z"
   },
   {
    "duration": 6,
    "start_time": "2022-10-10T11:21:27.330Z"
   },
   {
    "duration": 29,
    "start_time": "2022-10-10T11:21:27.339Z"
   },
   {
    "duration": 21,
    "start_time": "2022-10-10T11:21:27.370Z"
   },
   {
    "duration": 67130,
    "start_time": "2022-10-10T11:21:27.393Z"
   },
   {
    "duration": 41,
    "start_time": "2022-10-10T11:22:34.525Z"
   },
   {
    "duration": 1732,
    "start_time": "2022-10-10T11:22:34.568Z"
   },
   {
    "duration": 2714,
    "start_time": "2022-10-10T11:22:57.042Z"
   },
   {
    "duration": 3037,
    "start_time": "2022-10-10T11:22:59.758Z"
   },
   {
    "duration": 10,
    "start_time": "2022-10-10T11:23:02.797Z"
   },
   {
    "duration": 5,
    "start_time": "2022-10-10T11:23:02.808Z"
   },
   {
    "duration": 477,
    "start_time": "2022-10-10T11:23:02.814Z"
   },
   {
    "duration": 5,
    "start_time": "2022-10-10T11:23:03.292Z"
   },
   {
    "duration": 2,
    "start_time": "2022-10-10T11:23:03.305Z"
   },
   {
    "duration": 1761,
    "start_time": "2022-10-10T11:23:03.309Z"
   },
   {
    "duration": 3,
    "start_time": "2022-10-10T11:23:05.072Z"
   },
   {
    "duration": 4,
    "start_time": "2022-10-10T11:23:05.077Z"
   },
   {
    "duration": 10,
    "start_time": "2022-10-10T11:23:05.083Z"
   },
   {
    "duration": 67297,
    "start_time": "2022-10-10T11:23:05.094Z"
   },
   {
    "duration": 43,
    "start_time": "2022-10-10T11:24:12.393Z"
   },
   {
    "duration": 3,
    "start_time": "2022-10-10T11:24:12.437Z"
   },
   {
    "duration": 23,
    "start_time": "2022-10-10T11:24:12.442Z"
   },
   {
    "duration": 4716,
    "start_time": "2022-10-10T11:24:12.467Z"
   },
   {
    "duration": 1102,
    "start_time": "2022-10-10T11:25:24.332Z"
   },
   {
    "duration": 167,
    "start_time": "2022-10-10T11:37:10.105Z"
   },
   {
    "duration": 536985,
    "start_time": "2022-10-10T11:37:18.631Z"
   },
   {
    "duration": 228,
    "start_time": "2022-10-10T12:08:01.100Z"
   },
   {
    "duration": 82,
    "start_time": "2022-10-10T12:08:29.144Z"
   },
   {
    "duration": 90,
    "start_time": "2022-10-10T12:08:34.826Z"
   },
   {
    "duration": 1214945,
    "start_time": "2022-10-10T12:08:38.225Z"
   },
   {
    "duration": 2723,
    "start_time": "2022-10-10T12:31:56.059Z"
   },
   {
    "duration": 3030,
    "start_time": "2022-10-10T12:31:58.784Z"
   },
   {
    "duration": 11,
    "start_time": "2022-10-10T12:32:01.816Z"
   },
   {
    "duration": 14,
    "start_time": "2022-10-10T12:32:01.828Z"
   },
   {
    "duration": 545,
    "start_time": "2022-10-10T12:32:01.844Z"
   },
   {
    "duration": 16,
    "start_time": "2022-10-10T12:32:02.391Z"
   },
   {
    "duration": 3,
    "start_time": "2022-10-10T12:32:02.409Z"
   },
   {
    "duration": 1821,
    "start_time": "2022-10-10T12:32:02.413Z"
   },
   {
    "duration": 4,
    "start_time": "2022-10-10T12:32:04.236Z"
   },
   {
    "duration": 9,
    "start_time": "2022-10-10T12:32:04.242Z"
   },
   {
    "duration": 7,
    "start_time": "2022-10-10T12:32:04.252Z"
   },
   {
    "duration": 67867,
    "start_time": "2022-10-10T12:32:04.260Z"
   },
   {
    "duration": 39,
    "start_time": "2022-10-10T12:33:12.129Z"
   },
   {
    "duration": 3,
    "start_time": "2022-10-10T12:33:12.170Z"
   },
   {
    "duration": 44,
    "start_time": "2022-10-10T12:33:12.174Z"
   },
   {
    "duration": 4832,
    "start_time": "2022-10-10T12:33:12.220Z"
   },
   {
    "duration": 1223,
    "start_time": "2022-10-10T12:33:17.054Z"
   },
   {
    "duration": 534530,
    "start_time": "2022-10-10T12:33:18.279Z"
   },
   {
    "duration": 270275,
    "start_time": "2022-10-10T12:42:12.810Z"
   },
   {
    "duration": 116,
    "start_time": "2022-10-10T12:48:08.958Z"
   },
   {
    "duration": 113,
    "start_time": "2022-10-10T12:48:22.288Z"
   },
   {
    "duration": 2862,
    "start_time": "2022-10-10T12:48:26.676Z"
   },
   {
    "duration": 3084,
    "start_time": "2022-10-10T12:48:29.540Z"
   },
   {
    "duration": 11,
    "start_time": "2022-10-10T12:48:32.626Z"
   },
   {
    "duration": 8,
    "start_time": "2022-10-10T12:48:32.638Z"
   },
   {
    "duration": 533,
    "start_time": "2022-10-10T12:48:32.648Z"
   },
   {
    "duration": 5,
    "start_time": "2022-10-10T12:48:33.183Z"
   },
   {
    "duration": 3,
    "start_time": "2022-10-10T12:48:33.190Z"
   },
   {
    "duration": 1812,
    "start_time": "2022-10-10T12:48:33.194Z"
   },
   {
    "duration": 3,
    "start_time": "2022-10-10T12:48:35.008Z"
   },
   {
    "duration": 37,
    "start_time": "2022-10-10T12:48:35.013Z"
   },
   {
    "duration": 37,
    "start_time": "2022-10-10T12:48:35.051Z"
   },
   {
    "duration": 69110,
    "start_time": "2022-10-10T12:48:35.090Z"
   },
   {
    "duration": 42,
    "start_time": "2022-10-10T12:49:44.204Z"
   },
   {
    "duration": 2,
    "start_time": "2022-10-10T12:49:44.249Z"
   },
   {
    "duration": 40,
    "start_time": "2022-10-10T12:49:44.253Z"
   },
   {
    "duration": 4921,
    "start_time": "2022-10-10T12:49:44.294Z"
   },
   {
    "duration": 1150,
    "start_time": "2022-10-10T12:49:49.217Z"
   },
   {
    "duration": 519139,
    "start_time": "2022-10-10T12:49:50.369Z"
   },
   {
    "duration": 438819,
    "start_time": "2022-10-10T12:58:29.509Z"
   },
   {
    "duration": 129,
    "start_time": "2022-10-10T13:10:37.203Z"
   },
   {
    "duration": 2760,
    "start_time": "2022-10-10T13:11:42.481Z"
   },
   {
    "duration": 3066,
    "start_time": "2022-10-10T13:11:45.243Z"
   },
   {
    "duration": 10,
    "start_time": "2022-10-10T13:11:48.311Z"
   },
   {
    "duration": 15,
    "start_time": "2022-10-10T13:11:48.323Z"
   },
   {
    "duration": 529,
    "start_time": "2022-10-10T13:11:48.339Z"
   },
   {
    "duration": 5,
    "start_time": "2022-10-10T13:11:48.870Z"
   },
   {
    "duration": 19,
    "start_time": "2022-10-10T13:11:48.876Z"
   },
   {
    "duration": 1777,
    "start_time": "2022-10-10T13:11:48.896Z"
   },
   {
    "duration": 4,
    "start_time": "2022-10-10T13:11:50.675Z"
   },
   {
    "duration": 15,
    "start_time": "2022-10-10T13:11:50.682Z"
   },
   {
    "duration": 29,
    "start_time": "2022-10-10T13:11:50.699Z"
   },
   {
    "duration": 68921,
    "start_time": "2022-10-10T13:11:50.730Z"
   },
   {
    "duration": 40,
    "start_time": "2022-10-10T13:12:59.652Z"
   },
   {
    "duration": 13,
    "start_time": "2022-10-10T13:12:59.693Z"
   },
   {
    "duration": 20,
    "start_time": "2022-10-10T13:12:59.708Z"
   },
   {
    "duration": 4794,
    "start_time": "2022-10-10T13:12:59.730Z"
   },
   {
    "duration": 1138,
    "start_time": "2022-10-10T13:13:04.526Z"
   },
   {
    "duration": 523842,
    "start_time": "2022-10-10T13:13:05.666Z"
   },
   {
    "duration": 687868,
    "start_time": "2022-10-10T13:21:49.510Z"
   },
   {
    "duration": 3270,
    "start_time": "2022-10-10T13:35:47.575Z"
   },
   {
    "duration": 3011,
    "start_time": "2022-10-10T13:35:50.847Z"
   },
   {
    "duration": 12,
    "start_time": "2022-10-10T13:35:53.859Z"
   },
   {
    "duration": 12,
    "start_time": "2022-10-10T13:35:53.872Z"
   },
   {
    "duration": 521,
    "start_time": "2022-10-10T13:35:53.886Z"
   },
   {
    "duration": 5,
    "start_time": "2022-10-10T13:35:54.409Z"
   },
   {
    "duration": 15,
    "start_time": "2022-10-10T13:35:54.415Z"
   },
   {
    "duration": 1780,
    "start_time": "2022-10-10T13:35:54.431Z"
   },
   {
    "duration": 3,
    "start_time": "2022-10-10T13:35:56.213Z"
   },
   {
    "duration": 6,
    "start_time": "2022-10-10T13:35:56.218Z"
   },
   {
    "duration": 5,
    "start_time": "2022-10-10T13:35:56.225Z"
   },
   {
    "duration": 67492,
    "start_time": "2022-10-10T13:35:56.231Z"
   },
   {
    "duration": 41,
    "start_time": "2022-10-10T13:37:03.724Z"
   },
   {
    "duration": 3,
    "start_time": "2022-10-10T13:37:03.767Z"
   },
   {
    "duration": 34,
    "start_time": "2022-10-10T13:37:03.771Z"
   },
   {
    "duration": 4792,
    "start_time": "2022-10-10T13:37:03.807Z"
   },
   {
    "duration": 1137,
    "start_time": "2022-10-10T13:37:08.601Z"
   },
   {
    "duration": 2585,
    "start_time": "2022-10-10T13:38:02.418Z"
   },
   {
    "duration": 3068,
    "start_time": "2022-10-10T13:38:05.006Z"
   },
   {
    "duration": 12,
    "start_time": "2022-10-10T13:38:08.076Z"
   },
   {
    "duration": 28,
    "start_time": "2022-10-10T13:38:08.090Z"
   },
   {
    "duration": 501,
    "start_time": "2022-10-10T13:38:08.119Z"
   },
   {
    "duration": 5,
    "start_time": "2022-10-10T13:38:08.621Z"
   },
   {
    "duration": 12,
    "start_time": "2022-10-10T13:38:08.628Z"
   },
   {
    "duration": 1816,
    "start_time": "2022-10-10T13:38:08.641Z"
   },
   {
    "duration": 4,
    "start_time": "2022-10-10T13:38:10.458Z"
   },
   {
    "duration": 6,
    "start_time": "2022-10-10T13:38:10.465Z"
   },
   {
    "duration": 6,
    "start_time": "2022-10-10T13:38:10.472Z"
   },
   {
    "duration": 67666,
    "start_time": "2022-10-10T13:38:10.479Z"
   },
   {
    "duration": 41,
    "start_time": "2022-10-10T13:39:18.146Z"
   },
   {
    "duration": 2,
    "start_time": "2022-10-10T13:39:18.189Z"
   },
   {
    "duration": 19,
    "start_time": "2022-10-10T13:39:18.204Z"
   },
   {
    "duration": 4776,
    "start_time": "2022-10-10T13:39:18.225Z"
   },
   {
    "duration": 1107,
    "start_time": "2022-10-10T13:39:23.002Z"
   },
   {
    "duration": 1424,
    "start_time": "2022-10-10T13:40:02.589Z"
   },
   {
    "duration": 0,
    "start_time": "2022-10-10T13:40:04.016Z"
   },
   {
    "duration": 0,
    "start_time": "2022-10-10T13:40:04.016Z"
   },
   {
    "duration": 0,
    "start_time": "2022-10-10T13:40:04.017Z"
   },
   {
    "duration": 0,
    "start_time": "2022-10-10T13:40:04.018Z"
   },
   {
    "duration": 0,
    "start_time": "2022-10-10T13:40:04.019Z"
   },
   {
    "duration": 0,
    "start_time": "2022-10-10T13:40:04.021Z"
   },
   {
    "duration": 0,
    "start_time": "2022-10-10T13:40:04.022Z"
   },
   {
    "duration": 0,
    "start_time": "2022-10-10T13:40:04.022Z"
   },
   {
    "duration": 0,
    "start_time": "2022-10-10T13:40:04.023Z"
   },
   {
    "duration": 0,
    "start_time": "2022-10-10T13:40:04.024Z"
   },
   {
    "duration": 0,
    "start_time": "2022-10-10T13:40:04.025Z"
   },
   {
    "duration": 0,
    "start_time": "2022-10-10T13:40:04.026Z"
   },
   {
    "duration": 0,
    "start_time": "2022-10-10T13:40:04.028Z"
   },
   {
    "duration": 0,
    "start_time": "2022-10-10T13:40:04.029Z"
   },
   {
    "duration": 0,
    "start_time": "2022-10-10T13:40:04.030Z"
   },
   {
    "duration": 0,
    "start_time": "2022-10-10T13:40:04.031Z"
   },
   {
    "duration": 0,
    "start_time": "2022-10-10T13:40:04.032Z"
   },
   {
    "duration": 6601,
    "start_time": "2022-10-10T13:40:12.414Z"
   },
   {
    "duration": 3005,
    "start_time": "2022-10-10T13:40:19.017Z"
   },
   {
    "duration": 10,
    "start_time": "2022-10-10T13:40:22.024Z"
   },
   {
    "duration": 14,
    "start_time": "2022-10-10T13:40:22.036Z"
   },
   {
    "duration": 513,
    "start_time": "2022-10-10T13:40:22.052Z"
   },
   {
    "duration": 6,
    "start_time": "2022-10-10T13:40:22.567Z"
   },
   {
    "duration": 9,
    "start_time": "2022-10-10T13:40:22.574Z"
   },
   {
    "duration": 1769,
    "start_time": "2022-10-10T13:40:22.584Z"
   },
   {
    "duration": 4,
    "start_time": "2022-10-10T13:40:24.355Z"
   },
   {
    "duration": 12,
    "start_time": "2022-10-10T13:40:24.360Z"
   },
   {
    "duration": 6,
    "start_time": "2022-10-10T13:40:24.374Z"
   },
   {
    "duration": 68877,
    "start_time": "2022-10-10T13:40:24.382Z"
   },
   {
    "duration": 48,
    "start_time": "2022-10-10T13:41:33.261Z"
   },
   {
    "duration": 3,
    "start_time": "2022-10-10T13:41:33.311Z"
   },
   {
    "duration": 27,
    "start_time": "2022-10-10T13:41:33.315Z"
   },
   {
    "duration": 5087,
    "start_time": "2022-10-10T13:41:33.343Z"
   },
   {
    "duration": 1126,
    "start_time": "2022-10-10T13:41:38.431Z"
   },
   {
    "duration": 3806,
    "start_time": "2022-10-10T13:45:27.545Z"
   },
   {
    "duration": 3145,
    "start_time": "2022-10-10T13:45:31.353Z"
   },
   {
    "duration": 11,
    "start_time": "2022-10-10T13:45:34.499Z"
   },
   {
    "duration": 6,
    "start_time": "2022-10-10T13:45:34.512Z"
   },
   {
    "duration": 524,
    "start_time": "2022-10-10T13:45:34.519Z"
   },
   {
    "duration": 5,
    "start_time": "2022-10-10T13:45:35.045Z"
   },
   {
    "duration": 16,
    "start_time": "2022-10-10T13:45:35.052Z"
   },
   {
    "duration": 1801,
    "start_time": "2022-10-10T13:45:35.070Z"
   },
   {
    "duration": 4,
    "start_time": "2022-10-10T13:45:36.873Z"
   },
   {
    "duration": 4,
    "start_time": "2022-10-10T13:45:36.880Z"
   },
   {
    "duration": 4,
    "start_time": "2022-10-10T13:45:36.885Z"
   },
   {
    "duration": 67361,
    "start_time": "2022-10-10T13:45:36.905Z"
   },
   {
    "duration": 52,
    "start_time": "2022-10-10T13:46:44.268Z"
   },
   {
    "duration": 2,
    "start_time": "2022-10-10T13:46:44.321Z"
   },
   {
    "duration": 23,
    "start_time": "2022-10-10T13:46:44.325Z"
   },
   {
    "duration": 4873,
    "start_time": "2022-10-10T13:46:44.349Z"
   },
   {
    "duration": 1140,
    "start_time": "2022-10-10T13:46:49.224Z"
   },
   {
    "duration": 142,
    "start_time": "2022-10-10T13:46:50.366Z"
   },
   {
    "duration": 23,
    "start_time": "2022-10-10T13:48:43.207Z"
   },
   {
    "duration": 138933,
    "start_time": "2022-10-10T13:48:47.697Z"
   },
   {
    "duration": 0,
    "start_time": "2022-10-10T13:54:38.315Z"
   },
   {
    "duration": 138776,
    "start_time": "2022-10-10T13:54:43.859Z"
   },
   {
    "duration": 671098,
    "start_time": "2022-10-10T14:01:53.614Z"
   },
   {
    "duration": 182500,
    "start_time": "2022-10-10T14:15:03.211Z"
   },
   {
    "duration": 181391,
    "start_time": "2022-10-10T14:18:25.391Z"
   },
   {
    "duration": 2,
    "start_time": "2022-10-10T14:26:09.090Z"
   },
   {
    "duration": 3,
    "start_time": "2022-10-10T14:26:34.782Z"
   },
   {
    "duration": 68408,
    "start_time": "2022-10-10T14:27:53.432Z"
   },
   {
    "duration": 537994,
    "start_time": "2022-10-10T14:29:06.728Z"
   },
   {
    "duration": 45209,
    "start_time": "2022-10-10T14:40:15.119Z"
   },
   {
    "duration": 3,
    "start_time": "2022-10-10T14:42:03.613Z"
   },
   {
    "duration": 4,
    "start_time": "2022-10-10T14:42:10.304Z"
   },
   {
    "duration": 3,
    "start_time": "2022-10-10T14:42:18.827Z"
   },
   {
    "duration": 19,
    "start_time": "2022-10-10T14:44:03.724Z"
   },
   {
    "duration": 80756,
    "start_time": "2022-10-10T14:44:52.090Z"
   },
   {
    "duration": 3,
    "start_time": "2022-10-10T14:46:49.198Z"
   },
   {
    "duration": 18,
    "start_time": "2022-10-10T14:47:35.220Z"
   },
   {
    "duration": 2511,
    "start_time": "2022-10-10T14:47:50.953Z"
   },
   {
    "duration": 669,
    "start_time": "2022-10-10T14:47:53.466Z"
   },
   {
    "duration": 10,
    "start_time": "2022-10-10T14:47:54.137Z"
   },
   {
    "duration": 5,
    "start_time": "2022-10-10T14:47:54.149Z"
   },
   {
    "duration": 501,
    "start_time": "2022-10-10T14:47:54.155Z"
   },
   {
    "duration": 5,
    "start_time": "2022-10-10T14:47:54.657Z"
   },
   {
    "duration": 6,
    "start_time": "2022-10-10T14:47:54.663Z"
   },
   {
    "duration": 1751,
    "start_time": "2022-10-10T14:47:54.670Z"
   },
   {
    "duration": 3,
    "start_time": "2022-10-10T14:47:56.422Z"
   },
   {
    "duration": 21,
    "start_time": "2022-10-10T14:47:56.427Z"
   },
   {
    "duration": 16,
    "start_time": "2022-10-10T14:47:56.449Z"
   },
   {
    "duration": 67435,
    "start_time": "2022-10-10T14:47:56.467Z"
   },
   {
    "duration": 40,
    "start_time": "2022-10-10T14:49:03.905Z"
   },
   {
    "duration": 3,
    "start_time": "2022-10-10T14:49:03.946Z"
   },
   {
    "duration": 21,
    "start_time": "2022-10-10T14:49:03.950Z"
   },
   {
    "duration": 4950,
    "start_time": "2022-10-10T14:49:03.972Z"
   },
   {
    "duration": 1097,
    "start_time": "2022-10-10T14:49:08.923Z"
   },
   {
    "duration": 3,
    "start_time": "2022-10-10T14:49:10.021Z"
   },
   {
    "duration": 522181,
    "start_time": "2022-10-10T14:49:10.025Z"
   },
   {
    "duration": 1016997,
    "start_time": "2022-10-10T14:57:52.208Z"
   },
   {
    "duration": 179801,
    "start_time": "2022-10-10T15:14:49.208Z"
   },
   {
    "duration": 2,
    "start_time": "2022-10-10T15:17:49.011Z"
   },
   {
    "duration": 43000,
    "start_time": "2022-10-10T15:17:49.014Z"
   },
   {
    "duration": 2,
    "start_time": "2022-10-10T15:18:32.016Z"
   },
   {
    "duration": 108161,
    "start_time": "2022-10-10T15:18:32.019Z"
   },
   {
    "duration": 2,
    "start_time": "2022-10-10T15:20:20.206Z"
   },
   {
    "duration": 16,
    "start_time": "2022-10-10T15:20:20.210Z"
   },
   {
    "duration": 45,
    "start_time": "2022-10-10T17:05:51.382Z"
   },
   {
    "duration": 7,
    "start_time": "2022-10-10T17:05:55.818Z"
   },
   {
    "duration": 6,
    "start_time": "2022-10-10T17:05:56.393Z"
   },
   {
    "duration": 2,
    "start_time": "2022-10-10T17:06:01.678Z"
   },
   {
    "duration": 19,
    "start_time": "2022-10-10T17:06:02.071Z"
   },
   {
    "duration": 3366,
    "start_time": "2022-10-11T07:56:47.025Z"
   },
   {
    "duration": 3959,
    "start_time": "2022-10-11T07:56:50.402Z"
   },
   {
    "duration": 11,
    "start_time": "2022-10-11T07:56:54.363Z"
   },
   {
    "duration": 8,
    "start_time": "2022-10-11T07:56:54.376Z"
   },
   {
    "duration": 586,
    "start_time": "2022-10-11T07:56:54.386Z"
   },
   {
    "duration": 22,
    "start_time": "2022-10-11T07:56:54.973Z"
   },
   {
    "duration": 5,
    "start_time": "2022-10-11T07:56:54.997Z"
   },
   {
    "duration": 2541,
    "start_time": "2022-10-11T07:56:55.004Z"
   },
   {
    "duration": 4,
    "start_time": "2022-10-11T07:56:57.547Z"
   },
   {
    "duration": 11,
    "start_time": "2022-10-11T07:56:57.554Z"
   },
   {
    "duration": 5,
    "start_time": "2022-10-11T07:56:57.567Z"
   },
   {
    "duration": 102067,
    "start_time": "2022-10-11T07:56:57.589Z"
   },
   {
    "duration": 53,
    "start_time": "2022-10-11T07:58:39.658Z"
   },
   {
    "duration": 4,
    "start_time": "2022-10-11T07:58:39.713Z"
   },
   {
    "duration": 31,
    "start_time": "2022-10-11T07:58:39.721Z"
   },
   {
    "duration": 7043,
    "start_time": "2022-10-11T07:58:39.754Z"
   },
   {
    "duration": 1633,
    "start_time": "2022-10-11T07:58:46.798Z"
   },
   {
    "duration": 2,
    "start_time": "2022-10-11T07:58:48.433Z"
   },
   {
    "duration": 413387,
    "start_time": "2022-10-11T07:58:48.437Z"
   },
   {
    "duration": 0,
    "start_time": "2022-10-11T08:05:41.827Z"
   },
   {
    "duration": 0,
    "start_time": "2022-10-11T08:05:41.832Z"
   },
   {
    "duration": 0,
    "start_time": "2022-10-11T08:05:41.835Z"
   },
   {
    "duration": 0,
    "start_time": "2022-10-11T08:05:41.842Z"
   },
   {
    "duration": 0,
    "start_time": "2022-10-11T08:05:41.844Z"
   },
   {
    "duration": 0,
    "start_time": "2022-10-11T08:05:41.845Z"
   },
   {
    "duration": 0,
    "start_time": "2022-10-11T08:05:41.848Z"
   },
   {
    "duration": 0,
    "start_time": "2022-10-11T08:05:41.849Z"
   },
   {
    "duration": 570269,
    "start_time": "2022-10-11T08:05:58.234Z"
   },
   {
    "duration": 7960424,
    "start_time": "2022-10-11T08:15:28.505Z"
   },
   {
    "duration": 45992,
    "start_time": "2022-10-11T10:28:08.931Z"
   },
   {
    "duration": 33,
    "start_time": "2022-10-11T10:28:54.926Z"
   },
   {
    "duration": 0,
    "start_time": "2022-10-11T10:28:54.961Z"
   },
   {
    "duration": 0,
    "start_time": "2022-10-11T10:28:54.963Z"
   },
   {
    "duration": 0,
    "start_time": "2022-10-11T10:28:54.964Z"
   },
   {
    "duration": 0,
    "start_time": "2022-10-11T10:28:54.966Z"
   },
   {
    "duration": 0,
    "start_time": "2022-10-11T10:28:54.967Z"
   },
   {
    "duration": 0,
    "start_time": "2022-10-11T10:28:54.978Z"
   },
   {
    "duration": 0,
    "start_time": "2022-10-11T10:28:54.990Z"
   }
  ],
  "kernelspec": {
   "display_name": "Python 3 (ipykernel)",
   "language": "python",
   "name": "python3"
  },
  "language_info": {
   "codemirror_mode": {
    "name": "ipython",
    "version": 3
   },
   "file_extension": ".py",
   "mimetype": "text/x-python",
   "name": "python",
   "nbconvert_exporter": "python",
   "pygments_lexer": "ipython3",
   "version": "3.9.12"
  },
  "toc": {
   "base_numbering": 1,
   "nav_menu": {},
   "number_sections": true,
   "sideBar": true,
   "skip_h1_title": true,
   "title_cell": "Содержание",
   "title_sidebar": "Contents",
   "toc_cell": true,
   "toc_position": {
    "height": "calc(100% - 180px)",
    "left": "10px",
    "top": "150px",
    "width": "302.391px"
   },
   "toc_section_display": true,
   "toc_window_display": true
  }
 },
 "nbformat": 4,
 "nbformat_minor": 2
}
