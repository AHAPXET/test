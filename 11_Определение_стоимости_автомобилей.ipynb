{
 "cells": [
  {
   "cell_type": "markdown",
   "metadata": {
    "toc": true
   },
   "source": [
    "<h1>Содержание<span class=\"tocSkip\"></span></h1>\n",
    "<div class=\"toc\"><ul class=\"toc-item\"><li><span><a href=\"#Подготовка-данных\" data-toc-modified-id=\"Подготовка-данных-1\"><span class=\"toc-item-num\">1&nbsp;&nbsp;</span>Подготовка данных</a></span><ul class=\"toc-item\"><li><span><a href=\"#Выгрузка-и-анализ-данных\" data-toc-modified-id=\"Выгрузка-и-анализ-данных-1.1\"><span class=\"toc-item-num\">1.1&nbsp;&nbsp;</span>Выгрузка и анализ данных</a></span></li><li><span><a href=\"#Предобработка-данных\" data-toc-modified-id=\"Предобработка-данных-1.2\"><span class=\"toc-item-num\">1.2&nbsp;&nbsp;</span>Предобработка данных</a></span><ul class=\"toc-item\"><li><span><a href=\"#Обработка-пропусков\" data-toc-modified-id=\"Обработка-пропусков-1.2.1\"><span class=\"toc-item-num\">1.2.1&nbsp;&nbsp;</span>Обработка пропусков</a></span></li><li><span><a href=\"#Удаление-не-актуальных-столбцов\" data-toc-modified-id=\"Удаление-не-актуальных-столбцов-1.2.2\"><span class=\"toc-item-num\">1.2.2&nbsp;&nbsp;</span>Удаление не актуальных столбцов</a></span></li></ul></li></ul></li><li><span><a href=\"#Обучение-моделей\" data-toc-modified-id=\"Обучение-моделей-2\"><span class=\"toc-item-num\">2&nbsp;&nbsp;</span>Обучение моделей</a></span><ul class=\"toc-item\"><li><span><a href=\"#REV02-Альтернативный-способ-подготовки-данных-и-обучения-модели\" data-toc-modified-id=\"REV02-Альтернативный-способ-подготовки-данных-и-обучения-модели-2.1\"><span class=\"toc-item-num\">2.1&nbsp;&nbsp;</span>REV02 Альтернативный способ подготовки данных и обучения модели</a></span></li><li><span><a href=\"#Преобразование-модели\" data-toc-modified-id=\"Преобразование-модели-2.2\"><span class=\"toc-item-num\">2.2&nbsp;&nbsp;</span>Преобразование модели</a></span></li><li><span><a href=\"#Подготовка-обучающей-выборки\" data-toc-modified-id=\"Подготовка-обучающей-выборки-2.3\"><span class=\"toc-item-num\">2.3&nbsp;&nbsp;</span>Подготовка обучающей выборки</a></span></li><li><span><a href=\"#Обучение-моделей\" data-toc-modified-id=\"Обучение-моделей-2.4\"><span class=\"toc-item-num\">2.4&nbsp;&nbsp;</span>Обучение моделей</a></span><ul class=\"toc-item\"><li><span><a href=\"#Linear-Regression\" data-toc-modified-id=\"Linear-Regression-2.4.1\"><span class=\"toc-item-num\">2.4.1&nbsp;&nbsp;</span>Linear Regression</a></span></li><li><span><a href=\"#Ridge\" data-toc-modified-id=\"Ridge-2.4.2\"><span class=\"toc-item-num\">2.4.2&nbsp;&nbsp;</span>Ridge</a></span></li><li><span><a href=\"#DecisionTreeRegresso\" data-toc-modified-id=\"DecisionTreeRegresso-2.4.3\"><span class=\"toc-item-num\">2.4.3&nbsp;&nbsp;</span>DecisionTreeRegresso</a></span></li><li><span><a href=\"#CatBoostRegressor\" data-toc-modified-id=\"CatBoostRegressor-2.4.4\"><span class=\"toc-item-num\">2.4.4&nbsp;&nbsp;</span>CatBoostRegressor</a></span></li><li><span><a href=\"#Случайный-Лес\" data-toc-modified-id=\"Случайный-Лес-2.4.5\"><span class=\"toc-item-num\">2.4.5&nbsp;&nbsp;</span>Случайный Лес</a></span></li><li><span><a href=\"#LGBMRegressor\" data-toc-modified-id=\"LGBMRegressor-2.4.6\"><span class=\"toc-item-num\">2.4.6&nbsp;&nbsp;</span>LGBMRegressor</a></span></li></ul></li></ul></li><li><span><a href=\"#Анализ-моделей\" data-toc-modified-id=\"Анализ-моделей-3\"><span class=\"toc-item-num\">3&nbsp;&nbsp;</span>Анализ моделей</a></span><ul class=\"toc-item\"><li><span><a href=\"#Объединение-и-анализ-полученных-результатов\" data-toc-modified-id=\"Объединение-и-анализ-полученных-результатов-3.1\"><span class=\"toc-item-num\">3.1&nbsp;&nbsp;</span>Объединение и анализ полученных результатов</a></span></li><li><span><a href=\"#Проверка-финальной-метрики\" data-toc-modified-id=\"Проверка-финальной-метрики-3.2\"><span class=\"toc-item-num\">3.2&nbsp;&nbsp;</span>Проверка финальной метрики</a></span></li></ul></li><li><span><a href=\"#Вывод\" data-toc-modified-id=\"Вывод-4\"><span class=\"toc-item-num\">4&nbsp;&nbsp;</span>Вывод</a></span></li></ul></div>"
   ]
  },
  {
   "cell_type": "markdown",
   "metadata": {},
   "source": [
    "# Определение стоимости автомобилей"
   ]
  },
  {
   "cell_type": "markdown",
   "metadata": {},
   "source": [
    "Сервис по продаже автомобилей с пробегом «Не бит, не крашен» разрабатывает приложение для привлечения новых клиентов. В нём можно быстро узнать рыночную стоимость своего автомобиля. В вашем распоряжении исторические данные: технические характеристики, комплектации и цены автомобилей. Вам нужно построить модель для определения стоимости. \n",
    "\n",
    "Заказчику важны:\n",
    "\n",
    "- качество предсказания;\n",
    "- скорость предсказания;\n",
    "- время обучения."
   ]
  },
  {
   "cell_type": "markdown",
   "metadata": {},
   "source": [
    "**Заказчик** — Сервис по продаже автомобилей с пробегом «Не бит, не крашен».\n",
    "\n",
    "**Цель исследования** \n",
    "\n",
    "* Построение модели для предсказания цены на поддержанный автомобиль\n",
    "\n",
    "**Входные данные**  — ```/datasets/autos.csv``` - база данных пользователей\n",
    "\n",
    "\n",
    "**Результаты исследования** — Получена модель подходящая под требования заказчика"
   ]
  },
  {
   "cell_type": "markdown",
   "metadata": {},
   "source": [
    "## Подготовка данных"
   ]
  },
  {
   "cell_type": "markdown",
   "metadata": {},
   "source": [
    "### Выгрузка и анализ данных"
   ]
  },
  {
   "cell_type": "code",
   "execution_count": 1,
   "metadata": {},
   "outputs": [],
   "source": [
    "import pandas as pd\n",
    "import numpy as np\n",
    "import matplotlib.pyplot as plt\n",
    "\n",
    "from sklearn.model_selection import train_test_split\n",
    "from sklearn.model_selection import GridSearchCV\n",
    "from sklearn.model_selection import cross_val_score\n",
    "\n",
    "\n",
    "from sklearn.linear_model import LinearRegression\n",
    "from sklearn.linear_model import Ridge\n",
    "\n",
    "from sklearn.metrics import r2_score\n",
    "from sklearn.metrics import mean_squared_error\n",
    "\n",
    "from sklearn.preprocessing import OrdinalEncoder\n",
    "from sklearn.preprocessing import StandardScaler\n",
    "\n",
    "from sklearn.tree import DecisionTreeRegressor\n",
    "\n",
    "#!pip install catboost\n",
    "from catboost import Pool\n",
    "from catboost import CatBoostRegressor\n",
    "from catboost import cv\n",
    "\n",
    "#!pip install lightgbm\n",
    "from lightgbm import LGBMRegressor"
   ]
  },
  {
   "cell_type": "code",
   "execution_count": 2,
   "metadata": {},
   "outputs": [
    {
     "data": {
      "text/html": [
       "<div>\n",
       "<style scoped>\n",
       "    .dataframe tbody tr th:only-of-type {\n",
       "        vertical-align: middle;\n",
       "    }\n",
       "\n",
       "    .dataframe tbody tr th {\n",
       "        vertical-align: top;\n",
       "    }\n",
       "\n",
       "    .dataframe thead th {\n",
       "        text-align: right;\n",
       "    }\n",
       "</style>\n",
       "<table border=\"1\" class=\"dataframe\">\n",
       "  <thead>\n",
       "    <tr style=\"text-align: right;\">\n",
       "      <th></th>\n",
       "      <th>DateCrawled</th>\n",
       "      <th>Price</th>\n",
       "      <th>VehicleType</th>\n",
       "      <th>RegistrationYear</th>\n",
       "      <th>Gearbox</th>\n",
       "      <th>Power</th>\n",
       "      <th>Model</th>\n",
       "      <th>Kilometer</th>\n",
       "      <th>RegistrationMonth</th>\n",
       "      <th>FuelType</th>\n",
       "      <th>Brand</th>\n",
       "      <th>NotRepaired</th>\n",
       "      <th>DateCreated</th>\n",
       "      <th>NumberOfPictures</th>\n",
       "      <th>PostalCode</th>\n",
       "      <th>LastSeen</th>\n",
       "    </tr>\n",
       "  </thead>\n",
       "  <tbody>\n",
       "    <tr>\n",
       "      <th>0</th>\n",
       "      <td>2016-03-24 11:52:17</td>\n",
       "      <td>480</td>\n",
       "      <td>NaN</td>\n",
       "      <td>1993</td>\n",
       "      <td>manual</td>\n",
       "      <td>0</td>\n",
       "      <td>golf</td>\n",
       "      <td>150000</td>\n",
       "      <td>0</td>\n",
       "      <td>petrol</td>\n",
       "      <td>volkswagen</td>\n",
       "      <td>NaN</td>\n",
       "      <td>2016-03-24 00:00:00</td>\n",
       "      <td>0</td>\n",
       "      <td>70435</td>\n",
       "      <td>2016-04-07 03:16:57</td>\n",
       "    </tr>\n",
       "    <tr>\n",
       "      <th>1</th>\n",
       "      <td>2016-03-24 10:58:45</td>\n",
       "      <td>18300</td>\n",
       "      <td>coupe</td>\n",
       "      <td>2011</td>\n",
       "      <td>manual</td>\n",
       "      <td>190</td>\n",
       "      <td>NaN</td>\n",
       "      <td>125000</td>\n",
       "      <td>5</td>\n",
       "      <td>gasoline</td>\n",
       "      <td>audi</td>\n",
       "      <td>yes</td>\n",
       "      <td>2016-03-24 00:00:00</td>\n",
       "      <td>0</td>\n",
       "      <td>66954</td>\n",
       "      <td>2016-04-07 01:46:50</td>\n",
       "    </tr>\n",
       "    <tr>\n",
       "      <th>2</th>\n",
       "      <td>2016-03-14 12:52:21</td>\n",
       "      <td>9800</td>\n",
       "      <td>suv</td>\n",
       "      <td>2004</td>\n",
       "      <td>auto</td>\n",
       "      <td>163</td>\n",
       "      <td>grand</td>\n",
       "      <td>125000</td>\n",
       "      <td>8</td>\n",
       "      <td>gasoline</td>\n",
       "      <td>jeep</td>\n",
       "      <td>NaN</td>\n",
       "      <td>2016-03-14 00:00:00</td>\n",
       "      <td>0</td>\n",
       "      <td>90480</td>\n",
       "      <td>2016-04-05 12:47:46</td>\n",
       "    </tr>\n",
       "    <tr>\n",
       "      <th>3</th>\n",
       "      <td>2016-03-17 16:54:04</td>\n",
       "      <td>1500</td>\n",
       "      <td>small</td>\n",
       "      <td>2001</td>\n",
       "      <td>manual</td>\n",
       "      <td>75</td>\n",
       "      <td>golf</td>\n",
       "      <td>150000</td>\n",
       "      <td>6</td>\n",
       "      <td>petrol</td>\n",
       "      <td>volkswagen</td>\n",
       "      <td>no</td>\n",
       "      <td>2016-03-17 00:00:00</td>\n",
       "      <td>0</td>\n",
       "      <td>91074</td>\n",
       "      <td>2016-03-17 17:40:17</td>\n",
       "    </tr>\n",
       "    <tr>\n",
       "      <th>4</th>\n",
       "      <td>2016-03-31 17:25:20</td>\n",
       "      <td>3600</td>\n",
       "      <td>small</td>\n",
       "      <td>2008</td>\n",
       "      <td>manual</td>\n",
       "      <td>69</td>\n",
       "      <td>fabia</td>\n",
       "      <td>90000</td>\n",
       "      <td>7</td>\n",
       "      <td>gasoline</td>\n",
       "      <td>skoda</td>\n",
       "      <td>no</td>\n",
       "      <td>2016-03-31 00:00:00</td>\n",
       "      <td>0</td>\n",
       "      <td>60437</td>\n",
       "      <td>2016-04-06 10:17:21</td>\n",
       "    </tr>\n",
       "  </tbody>\n",
       "</table>\n",
       "</div>"
      ],
      "text/plain": [
       "           DateCrawled  Price VehicleType  RegistrationYear Gearbox  Power  \\\n",
       "0  2016-03-24 11:52:17    480         NaN              1993  manual      0   \n",
       "1  2016-03-24 10:58:45  18300       coupe              2011  manual    190   \n",
       "2  2016-03-14 12:52:21   9800         suv              2004    auto    163   \n",
       "3  2016-03-17 16:54:04   1500       small              2001  manual     75   \n",
       "4  2016-03-31 17:25:20   3600       small              2008  manual     69   \n",
       "\n",
       "   Model  Kilometer  RegistrationMonth  FuelType       Brand NotRepaired  \\\n",
       "0   golf     150000                  0    petrol  volkswagen         NaN   \n",
       "1    NaN     125000                  5  gasoline        audi         yes   \n",
       "2  grand     125000                  8  gasoline        jeep         NaN   \n",
       "3   golf     150000                  6    petrol  volkswagen          no   \n",
       "4  fabia      90000                  7  gasoline       skoda          no   \n",
       "\n",
       "           DateCreated  NumberOfPictures  PostalCode             LastSeen  \n",
       "0  2016-03-24 00:00:00                 0       70435  2016-04-07 03:16:57  \n",
       "1  2016-03-24 00:00:00                 0       66954  2016-04-07 01:46:50  \n",
       "2  2016-03-14 00:00:00                 0       90480  2016-04-05 12:47:46  \n",
       "3  2016-03-17 00:00:00                 0       91074  2016-03-17 17:40:17  \n",
       "4  2016-03-31 00:00:00                 0       60437  2016-04-06 10:17:21  "
      ]
     },
     "execution_count": 2,
     "metadata": {},
     "output_type": "execute_result"
    }
   ],
   "source": [
    "# выгрузим данные и посмотрим в каком виде получается датафрейм\n",
    "df = pd.read_csv('datasets/autos.csv')\n",
    "df.rename(columns = {'Repaired':'NotRepaired'}, inplace = True )\n",
    "df.head()\n"
   ]
  },
  {
   "cell_type": "markdown",
   "metadata": {},
   "source": [
    "**Описание таблицы:**\n",
    "\n",
    "Признаки\n",
    "* `DateCrawled` — дата скачивания анкеты из базы\n",
    "* `VehicleType` — тип автомобильного кузова\n",
    "* `RegistrationYear` — год регистрации автомобиля\n",
    "* `Gearbox` — тип коробки передач\n",
    "* `Power` — мощность (л. с.)\n",
    "* `Model` — модель автомобиля\n",
    "* `Kilometer` — пробег (км)\n",
    "* `RegistrationMonth` — месяц регистрации автомобиля\n",
    "* `FuelType` — тип топлива\n",
    "* `Brand` — марка автомобиля\n",
    "* `NotRepaired` — была машина в ремонте или нет (скорее должно быть не ремонтировалась)\n",
    "* `DateCreated` — дата создания анкеты\n",
    "* `NumberOfPictures` — количество фотографий автомобиля\n",
    "* `PostalCode` — почтовый индекс владельца анкеты (пользователя)\n",
    "* `LastSeen` — дата последней активности пользователя\n",
    "\n",
    "Целевой признак\n",
    "* `Price` — цена (евро)"
   ]
  },
  {
   "cell_type": "code",
   "execution_count": 3,
   "metadata": {},
   "outputs": [],
   "source": [
    "# изучим датафрейм\n",
    "# функция для обработки данных датафрейма\n",
    "def research(df):\n",
    "    \n",
    "    display(df)\n",
    "    print('Информация по таблице:', '\\n')\n",
    "    df.info()\n",
    "    print()\n",
    "    print('Количество пропусков:', '\\n')\n",
    "    print(df.isna().sum(), '\\n', '\\n')\n",
    "    print('Процент пропусков:', '\\n')\n",
    "    print(df.isna().mean()*100, '\\n')\n",
    "\n",
    "    display(df.describe())\n",
    "    print()\n",
    "    print('Число явных дубликатов:', df.duplicated().sum(), '\\n')\n"
   ]
  },
  {
   "cell_type": "code",
   "execution_count": 4,
   "metadata": {
    "scrolled": false
   },
   "outputs": [
    {
     "data": {
      "text/html": [
       "<div>\n",
       "<style scoped>\n",
       "    .dataframe tbody tr th:only-of-type {\n",
       "        vertical-align: middle;\n",
       "    }\n",
       "\n",
       "    .dataframe tbody tr th {\n",
       "        vertical-align: top;\n",
       "    }\n",
       "\n",
       "    .dataframe thead th {\n",
       "        text-align: right;\n",
       "    }\n",
       "</style>\n",
       "<table border=\"1\" class=\"dataframe\">\n",
       "  <thead>\n",
       "    <tr style=\"text-align: right;\">\n",
       "      <th></th>\n",
       "      <th>DateCrawled</th>\n",
       "      <th>Price</th>\n",
       "      <th>VehicleType</th>\n",
       "      <th>RegistrationYear</th>\n",
       "      <th>Gearbox</th>\n",
       "      <th>Power</th>\n",
       "      <th>Model</th>\n",
       "      <th>Kilometer</th>\n",
       "      <th>RegistrationMonth</th>\n",
       "      <th>FuelType</th>\n",
       "      <th>Brand</th>\n",
       "      <th>NotRepaired</th>\n",
       "      <th>DateCreated</th>\n",
       "      <th>NumberOfPictures</th>\n",
       "      <th>PostalCode</th>\n",
       "      <th>LastSeen</th>\n",
       "    </tr>\n",
       "  </thead>\n",
       "  <tbody>\n",
       "    <tr>\n",
       "      <th>0</th>\n",
       "      <td>2016-03-24 11:52:17</td>\n",
       "      <td>480</td>\n",
       "      <td>NaN</td>\n",
       "      <td>1993</td>\n",
       "      <td>manual</td>\n",
       "      <td>0</td>\n",
       "      <td>golf</td>\n",
       "      <td>150000</td>\n",
       "      <td>0</td>\n",
       "      <td>petrol</td>\n",
       "      <td>volkswagen</td>\n",
       "      <td>NaN</td>\n",
       "      <td>2016-03-24 00:00:00</td>\n",
       "      <td>0</td>\n",
       "      <td>70435</td>\n",
       "      <td>2016-04-07 03:16:57</td>\n",
       "    </tr>\n",
       "    <tr>\n",
       "      <th>1</th>\n",
       "      <td>2016-03-24 10:58:45</td>\n",
       "      <td>18300</td>\n",
       "      <td>coupe</td>\n",
       "      <td>2011</td>\n",
       "      <td>manual</td>\n",
       "      <td>190</td>\n",
       "      <td>NaN</td>\n",
       "      <td>125000</td>\n",
       "      <td>5</td>\n",
       "      <td>gasoline</td>\n",
       "      <td>audi</td>\n",
       "      <td>yes</td>\n",
       "      <td>2016-03-24 00:00:00</td>\n",
       "      <td>0</td>\n",
       "      <td>66954</td>\n",
       "      <td>2016-04-07 01:46:50</td>\n",
       "    </tr>\n",
       "    <tr>\n",
       "      <th>2</th>\n",
       "      <td>2016-03-14 12:52:21</td>\n",
       "      <td>9800</td>\n",
       "      <td>suv</td>\n",
       "      <td>2004</td>\n",
       "      <td>auto</td>\n",
       "      <td>163</td>\n",
       "      <td>grand</td>\n",
       "      <td>125000</td>\n",
       "      <td>8</td>\n",
       "      <td>gasoline</td>\n",
       "      <td>jeep</td>\n",
       "      <td>NaN</td>\n",
       "      <td>2016-03-14 00:00:00</td>\n",
       "      <td>0</td>\n",
       "      <td>90480</td>\n",
       "      <td>2016-04-05 12:47:46</td>\n",
       "    </tr>\n",
       "    <tr>\n",
       "      <th>3</th>\n",
       "      <td>2016-03-17 16:54:04</td>\n",
       "      <td>1500</td>\n",
       "      <td>small</td>\n",
       "      <td>2001</td>\n",
       "      <td>manual</td>\n",
       "      <td>75</td>\n",
       "      <td>golf</td>\n",
       "      <td>150000</td>\n",
       "      <td>6</td>\n",
       "      <td>petrol</td>\n",
       "      <td>volkswagen</td>\n",
       "      <td>no</td>\n",
       "      <td>2016-03-17 00:00:00</td>\n",
       "      <td>0</td>\n",
       "      <td>91074</td>\n",
       "      <td>2016-03-17 17:40:17</td>\n",
       "    </tr>\n",
       "    <tr>\n",
       "      <th>4</th>\n",
       "      <td>2016-03-31 17:25:20</td>\n",
       "      <td>3600</td>\n",
       "      <td>small</td>\n",
       "      <td>2008</td>\n",
       "      <td>manual</td>\n",
       "      <td>69</td>\n",
       "      <td>fabia</td>\n",
       "      <td>90000</td>\n",
       "      <td>7</td>\n",
       "      <td>gasoline</td>\n",
       "      <td>skoda</td>\n",
       "      <td>no</td>\n",
       "      <td>2016-03-31 00:00:00</td>\n",
       "      <td>0</td>\n",
       "      <td>60437</td>\n",
       "      <td>2016-04-06 10:17:21</td>\n",
       "    </tr>\n",
       "    <tr>\n",
       "      <th>...</th>\n",
       "      <td>...</td>\n",
       "      <td>...</td>\n",
       "      <td>...</td>\n",
       "      <td>...</td>\n",
       "      <td>...</td>\n",
       "      <td>...</td>\n",
       "      <td>...</td>\n",
       "      <td>...</td>\n",
       "      <td>...</td>\n",
       "      <td>...</td>\n",
       "      <td>...</td>\n",
       "      <td>...</td>\n",
       "      <td>...</td>\n",
       "      <td>...</td>\n",
       "      <td>...</td>\n",
       "      <td>...</td>\n",
       "    </tr>\n",
       "    <tr>\n",
       "      <th>354364</th>\n",
       "      <td>2016-03-21 09:50:58</td>\n",
       "      <td>0</td>\n",
       "      <td>NaN</td>\n",
       "      <td>2005</td>\n",
       "      <td>manual</td>\n",
       "      <td>0</td>\n",
       "      <td>colt</td>\n",
       "      <td>150000</td>\n",
       "      <td>7</td>\n",
       "      <td>petrol</td>\n",
       "      <td>mitsubishi</td>\n",
       "      <td>yes</td>\n",
       "      <td>2016-03-21 00:00:00</td>\n",
       "      <td>0</td>\n",
       "      <td>2694</td>\n",
       "      <td>2016-03-21 10:42:49</td>\n",
       "    </tr>\n",
       "    <tr>\n",
       "      <th>354365</th>\n",
       "      <td>2016-03-14 17:48:27</td>\n",
       "      <td>2200</td>\n",
       "      <td>NaN</td>\n",
       "      <td>2005</td>\n",
       "      <td>NaN</td>\n",
       "      <td>0</td>\n",
       "      <td>NaN</td>\n",
       "      <td>20000</td>\n",
       "      <td>1</td>\n",
       "      <td>NaN</td>\n",
       "      <td>sonstige_autos</td>\n",
       "      <td>NaN</td>\n",
       "      <td>2016-03-14 00:00:00</td>\n",
       "      <td>0</td>\n",
       "      <td>39576</td>\n",
       "      <td>2016-04-06 00:46:52</td>\n",
       "    </tr>\n",
       "    <tr>\n",
       "      <th>354366</th>\n",
       "      <td>2016-03-05 19:56:21</td>\n",
       "      <td>1199</td>\n",
       "      <td>convertible</td>\n",
       "      <td>2000</td>\n",
       "      <td>auto</td>\n",
       "      <td>101</td>\n",
       "      <td>fortwo</td>\n",
       "      <td>125000</td>\n",
       "      <td>3</td>\n",
       "      <td>petrol</td>\n",
       "      <td>smart</td>\n",
       "      <td>no</td>\n",
       "      <td>2016-03-05 00:00:00</td>\n",
       "      <td>0</td>\n",
       "      <td>26135</td>\n",
       "      <td>2016-03-11 18:17:12</td>\n",
       "    </tr>\n",
       "    <tr>\n",
       "      <th>354367</th>\n",
       "      <td>2016-03-19 18:57:12</td>\n",
       "      <td>9200</td>\n",
       "      <td>bus</td>\n",
       "      <td>1996</td>\n",
       "      <td>manual</td>\n",
       "      <td>102</td>\n",
       "      <td>transporter</td>\n",
       "      <td>150000</td>\n",
       "      <td>3</td>\n",
       "      <td>gasoline</td>\n",
       "      <td>volkswagen</td>\n",
       "      <td>no</td>\n",
       "      <td>2016-03-19 00:00:00</td>\n",
       "      <td>0</td>\n",
       "      <td>87439</td>\n",
       "      <td>2016-04-07 07:15:26</td>\n",
       "    </tr>\n",
       "    <tr>\n",
       "      <th>354368</th>\n",
       "      <td>2016-03-20 19:41:08</td>\n",
       "      <td>3400</td>\n",
       "      <td>wagon</td>\n",
       "      <td>2002</td>\n",
       "      <td>manual</td>\n",
       "      <td>100</td>\n",
       "      <td>golf</td>\n",
       "      <td>150000</td>\n",
       "      <td>6</td>\n",
       "      <td>gasoline</td>\n",
       "      <td>volkswagen</td>\n",
       "      <td>NaN</td>\n",
       "      <td>2016-03-20 00:00:00</td>\n",
       "      <td>0</td>\n",
       "      <td>40764</td>\n",
       "      <td>2016-03-24 12:45:21</td>\n",
       "    </tr>\n",
       "  </tbody>\n",
       "</table>\n",
       "<p>354369 rows × 16 columns</p>\n",
       "</div>"
      ],
      "text/plain": [
       "                DateCrawled  Price  VehicleType  RegistrationYear Gearbox  \\\n",
       "0       2016-03-24 11:52:17    480          NaN              1993  manual   \n",
       "1       2016-03-24 10:58:45  18300        coupe              2011  manual   \n",
       "2       2016-03-14 12:52:21   9800          suv              2004    auto   \n",
       "3       2016-03-17 16:54:04   1500        small              2001  manual   \n",
       "4       2016-03-31 17:25:20   3600        small              2008  manual   \n",
       "...                     ...    ...          ...               ...     ...   \n",
       "354364  2016-03-21 09:50:58      0          NaN              2005  manual   \n",
       "354365  2016-03-14 17:48:27   2200          NaN              2005     NaN   \n",
       "354366  2016-03-05 19:56:21   1199  convertible              2000    auto   \n",
       "354367  2016-03-19 18:57:12   9200          bus              1996  manual   \n",
       "354368  2016-03-20 19:41:08   3400        wagon              2002  manual   \n",
       "\n",
       "        Power        Model  Kilometer  RegistrationMonth  FuelType  \\\n",
       "0           0         golf     150000                  0    petrol   \n",
       "1         190          NaN     125000                  5  gasoline   \n",
       "2         163        grand     125000                  8  gasoline   \n",
       "3          75         golf     150000                  6    petrol   \n",
       "4          69        fabia      90000                  7  gasoline   \n",
       "...       ...          ...        ...                ...       ...   \n",
       "354364      0         colt     150000                  7    petrol   \n",
       "354365      0          NaN      20000                  1       NaN   \n",
       "354366    101       fortwo     125000                  3    petrol   \n",
       "354367    102  transporter     150000                  3  gasoline   \n",
       "354368    100         golf     150000                  6  gasoline   \n",
       "\n",
       "                 Brand NotRepaired          DateCreated  NumberOfPictures  \\\n",
       "0           volkswagen         NaN  2016-03-24 00:00:00                 0   \n",
       "1                 audi         yes  2016-03-24 00:00:00                 0   \n",
       "2                 jeep         NaN  2016-03-14 00:00:00                 0   \n",
       "3           volkswagen          no  2016-03-17 00:00:00                 0   \n",
       "4                skoda          no  2016-03-31 00:00:00                 0   \n",
       "...                ...         ...                  ...               ...   \n",
       "354364      mitsubishi         yes  2016-03-21 00:00:00                 0   \n",
       "354365  sonstige_autos         NaN  2016-03-14 00:00:00                 0   \n",
       "354366           smart          no  2016-03-05 00:00:00                 0   \n",
       "354367      volkswagen          no  2016-03-19 00:00:00                 0   \n",
       "354368      volkswagen         NaN  2016-03-20 00:00:00                 0   \n",
       "\n",
       "        PostalCode             LastSeen  \n",
       "0            70435  2016-04-07 03:16:57  \n",
       "1            66954  2016-04-07 01:46:50  \n",
       "2            90480  2016-04-05 12:47:46  \n",
       "3            91074  2016-03-17 17:40:17  \n",
       "4            60437  2016-04-06 10:17:21  \n",
       "...            ...                  ...  \n",
       "354364        2694  2016-03-21 10:42:49  \n",
       "354365       39576  2016-04-06 00:46:52  \n",
       "354366       26135  2016-03-11 18:17:12  \n",
       "354367       87439  2016-04-07 07:15:26  \n",
       "354368       40764  2016-03-24 12:45:21  \n",
       "\n",
       "[354369 rows x 16 columns]"
      ]
     },
     "metadata": {},
     "output_type": "display_data"
    },
    {
     "name": "stdout",
     "output_type": "stream",
     "text": [
      "Информация по таблице: \n",
      "\n",
      "<class 'pandas.core.frame.DataFrame'>\n",
      "RangeIndex: 354369 entries, 0 to 354368\n",
      "Data columns (total 16 columns):\n",
      " #   Column             Non-Null Count   Dtype \n",
      "---  ------             --------------   ----- \n",
      " 0   DateCrawled        354369 non-null  object\n",
      " 1   Price              354369 non-null  int64 \n",
      " 2   VehicleType        316879 non-null  object\n",
      " 3   RegistrationYear   354369 non-null  int64 \n",
      " 4   Gearbox            334536 non-null  object\n",
      " 5   Power              354369 non-null  int64 \n",
      " 6   Model              334664 non-null  object\n",
      " 7   Kilometer          354369 non-null  int64 \n",
      " 8   RegistrationMonth  354369 non-null  int64 \n",
      " 9   FuelType           321474 non-null  object\n",
      " 10  Brand              354369 non-null  object\n",
      " 11  NotRepaired        283215 non-null  object\n",
      " 12  DateCreated        354369 non-null  object\n",
      " 13  NumberOfPictures   354369 non-null  int64 \n",
      " 14  PostalCode         354369 non-null  int64 \n",
      " 15  LastSeen           354369 non-null  object\n",
      "dtypes: int64(7), object(9)\n",
      "memory usage: 43.3+ MB\n",
      "\n",
      "Количество пропусков: \n",
      "\n",
      "DateCrawled              0\n",
      "Price                    0\n",
      "VehicleType          37490\n",
      "RegistrationYear         0\n",
      "Gearbox              19833\n",
      "Power                    0\n",
      "Model                19705\n",
      "Kilometer                0\n",
      "RegistrationMonth        0\n",
      "FuelType             32895\n",
      "Brand                    0\n",
      "NotRepaired          71154\n",
      "DateCreated              0\n",
      "NumberOfPictures         0\n",
      "PostalCode               0\n",
      "LastSeen                 0\n",
      "dtype: int64 \n",
      " \n",
      "\n",
      "Процент пропусков: \n",
      "\n",
      "DateCrawled           0.000000\n",
      "Price                 0.000000\n",
      "VehicleType          10.579368\n",
      "RegistrationYear      0.000000\n",
      "Gearbox               5.596709\n",
      "Power                 0.000000\n",
      "Model                 5.560588\n",
      "Kilometer             0.000000\n",
      "RegistrationMonth     0.000000\n",
      "FuelType              9.282697\n",
      "Brand                 0.000000\n",
      "NotRepaired          20.079070\n",
      "DateCreated           0.000000\n",
      "NumberOfPictures      0.000000\n",
      "PostalCode            0.000000\n",
      "LastSeen              0.000000\n",
      "dtype: float64 \n",
      "\n"
     ]
    },
    {
     "data": {
      "text/html": [
       "<div>\n",
       "<style scoped>\n",
       "    .dataframe tbody tr th:only-of-type {\n",
       "        vertical-align: middle;\n",
       "    }\n",
       "\n",
       "    .dataframe tbody tr th {\n",
       "        vertical-align: top;\n",
       "    }\n",
       "\n",
       "    .dataframe thead th {\n",
       "        text-align: right;\n",
       "    }\n",
       "</style>\n",
       "<table border=\"1\" class=\"dataframe\">\n",
       "  <thead>\n",
       "    <tr style=\"text-align: right;\">\n",
       "      <th></th>\n",
       "      <th>Price</th>\n",
       "      <th>RegistrationYear</th>\n",
       "      <th>Power</th>\n",
       "      <th>Kilometer</th>\n",
       "      <th>RegistrationMonth</th>\n",
       "      <th>NumberOfPictures</th>\n",
       "      <th>PostalCode</th>\n",
       "    </tr>\n",
       "  </thead>\n",
       "  <tbody>\n",
       "    <tr>\n",
       "      <th>count</th>\n",
       "      <td>354369.000000</td>\n",
       "      <td>354369.000000</td>\n",
       "      <td>354369.000000</td>\n",
       "      <td>354369.000000</td>\n",
       "      <td>354369.000000</td>\n",
       "      <td>354369.0</td>\n",
       "      <td>354369.000000</td>\n",
       "    </tr>\n",
       "    <tr>\n",
       "      <th>mean</th>\n",
       "      <td>4416.656776</td>\n",
       "      <td>2004.234448</td>\n",
       "      <td>110.094337</td>\n",
       "      <td>128211.172535</td>\n",
       "      <td>5.714645</td>\n",
       "      <td>0.0</td>\n",
       "      <td>50508.689087</td>\n",
       "    </tr>\n",
       "    <tr>\n",
       "      <th>std</th>\n",
       "      <td>4514.158514</td>\n",
       "      <td>90.227958</td>\n",
       "      <td>189.850405</td>\n",
       "      <td>37905.341530</td>\n",
       "      <td>3.726421</td>\n",
       "      <td>0.0</td>\n",
       "      <td>25783.096248</td>\n",
       "    </tr>\n",
       "    <tr>\n",
       "      <th>min</th>\n",
       "      <td>0.000000</td>\n",
       "      <td>1000.000000</td>\n",
       "      <td>0.000000</td>\n",
       "      <td>5000.000000</td>\n",
       "      <td>0.000000</td>\n",
       "      <td>0.0</td>\n",
       "      <td>1067.000000</td>\n",
       "    </tr>\n",
       "    <tr>\n",
       "      <th>25%</th>\n",
       "      <td>1050.000000</td>\n",
       "      <td>1999.000000</td>\n",
       "      <td>69.000000</td>\n",
       "      <td>125000.000000</td>\n",
       "      <td>3.000000</td>\n",
       "      <td>0.0</td>\n",
       "      <td>30165.000000</td>\n",
       "    </tr>\n",
       "    <tr>\n",
       "      <th>50%</th>\n",
       "      <td>2700.000000</td>\n",
       "      <td>2003.000000</td>\n",
       "      <td>105.000000</td>\n",
       "      <td>150000.000000</td>\n",
       "      <td>6.000000</td>\n",
       "      <td>0.0</td>\n",
       "      <td>49413.000000</td>\n",
       "    </tr>\n",
       "    <tr>\n",
       "      <th>75%</th>\n",
       "      <td>6400.000000</td>\n",
       "      <td>2008.000000</td>\n",
       "      <td>143.000000</td>\n",
       "      <td>150000.000000</td>\n",
       "      <td>9.000000</td>\n",
       "      <td>0.0</td>\n",
       "      <td>71083.000000</td>\n",
       "    </tr>\n",
       "    <tr>\n",
       "      <th>max</th>\n",
       "      <td>20000.000000</td>\n",
       "      <td>9999.000000</td>\n",
       "      <td>20000.000000</td>\n",
       "      <td>150000.000000</td>\n",
       "      <td>12.000000</td>\n",
       "      <td>0.0</td>\n",
       "      <td>99998.000000</td>\n",
       "    </tr>\n",
       "  </tbody>\n",
       "</table>\n",
       "</div>"
      ],
      "text/plain": [
       "               Price  RegistrationYear          Power      Kilometer  \\\n",
       "count  354369.000000     354369.000000  354369.000000  354369.000000   \n",
       "mean     4416.656776       2004.234448     110.094337  128211.172535   \n",
       "std      4514.158514         90.227958     189.850405   37905.341530   \n",
       "min         0.000000       1000.000000       0.000000    5000.000000   \n",
       "25%      1050.000000       1999.000000      69.000000  125000.000000   \n",
       "50%      2700.000000       2003.000000     105.000000  150000.000000   \n",
       "75%      6400.000000       2008.000000     143.000000  150000.000000   \n",
       "max     20000.000000       9999.000000   20000.000000  150000.000000   \n",
       "\n",
       "       RegistrationMonth  NumberOfPictures     PostalCode  \n",
       "count      354369.000000          354369.0  354369.000000  \n",
       "mean            5.714645               0.0   50508.689087  \n",
       "std             3.726421               0.0   25783.096248  \n",
       "min             0.000000               0.0    1067.000000  \n",
       "25%             3.000000               0.0   30165.000000  \n",
       "50%             6.000000               0.0   49413.000000  \n",
       "75%             9.000000               0.0   71083.000000  \n",
       "max            12.000000               0.0   99998.000000  "
      ]
     },
     "metadata": {},
     "output_type": "display_data"
    },
    {
     "name": "stdout",
     "output_type": "stream",
     "text": [
      "\n",
      "Число явных дубликатов: 4 \n",
      "\n"
     ]
    }
   ],
   "source": [
    "research(df)"
   ]
  },
  {
   "cell_type": "markdown",
   "metadata": {},
   "source": [
    "**Промежуточный итог:**\n",
    "* Наименование столбцов выполнены в CamelCase, что в целом удовлетворяет нормам\n",
    "* Тип столбцов: *(но можно не менять так как в дальнейшем будут удалены)*\n",
    "    * `DateCrawled` - object -> date\n",
    "    * `DateCreated` - object -> date (можно отбросить часы так как везде все равно нули)\n",
    "    * `LastSeen` - object -> date\n",
    "* Пропуски: (глянуть общие пропуски. Изучить по их кретичности, могут быть зависимы)\n",
    "    * `NotRepaired` - 20%\n",
    "    * `VehicleType` - 11%\n",
    "    * `FuelType` - 9%\n",
    "    * `Model` и `Gearbox` - 5%\n",
    "* Аномальные данные:\n",
    "    * `RegistrationYear` - 9999\n",
    "    * `Power` - 20000 (походу истребитель продают)\n",
    "    * `Price` - 0 *(бесплатно, это я люблю, беру)*\n",
    "* Имеется 4 явных дубликата - можно удалить, так как есть идентификатор пользователя `PostalCode`, а значит скорее всего создал 4 одинаковых объявления (можно глянуть)\n",
    "* Имеются признаки, которые можно удалить в конце обработки так как слабо влияют на реальную цену автомобиля:\n",
    "    * `PostalCode` - кто продает не так важно\n",
    "    * `DateCrawled`, `DateCreated`, `LastSeen` - даты могут быть важны при увелечении цены из-за различных событий связанных с датой. Например введение новой таможенной пошлины, различных ограничений или ухода компании с рынка. \n",
    "    * `NumberOfPictures` - количество фото, не так сильно влияют на саму стоиомсть авто, но могут использоваться для обучения других моделей... ad-hoc\n",
    "    \n",
    "\n",
    "\n",
    "\n",
    "**Необходима предобработка данных**\n"
   ]
  },
  {
   "cell_type": "markdown",
   "metadata": {},
   "source": [
    "### Предобработка данных"
   ]
  },
  {
   "cell_type": "markdown",
   "metadata": {},
   "source": [
    "*- Изучите данные. Заполните пропущенные значения и обработайте аномалии в столбцах. Если среди признаков имеются неинформативные, удалите их.*"
   ]
  },
  {
   "cell_type": "code",
   "execution_count": 5,
   "metadata": {},
   "outputs": [
    {
     "name": "stdout",
     "output_type": "stream",
     "text": [
      "Число явных дубликатов: 0 \n",
      "\n"
     ]
    }
   ],
   "source": [
    "# удаление явных дубликатов \n",
    "df = df.drop_duplicates().reset_index(drop=True) \n",
    "print('Число явных дубликатов:', df.duplicated().sum(), '\\n')"
   ]
  },
  {
   "cell_type": "code",
   "execution_count": 6,
   "metadata": {},
   "outputs": [
    {
     "name": "stdout",
     "output_type": "stream",
     "text": [
      "VehicleType -> ['bus' 'convertible' 'coupe' 'other' 'sedan' 'small' 'suv' 'wagon' nan] \n",
      "\n",
      "Gearbox -> ['auto' 'manual' nan] \n",
      "\n",
      "Model -> ['100' '145' '147' '156' '159' '1_reihe' '1er' '200' '2_reihe' '300c'\n",
      " '3_reihe' '3er' '4_reihe' '500' '5_reihe' '5er' '601' '6_reihe' '6er'\n",
      " '7er' '80' '850' '90' '900' '9000' '911' 'a1' 'a2' 'a3' 'a4' 'a5' 'a6'\n",
      " 'a8' 'a_klasse' 'accord' 'agila' 'alhambra' 'almera' 'altea' 'amarok'\n",
      " 'antara' 'arosa' 'astra' 'auris' 'avensis' 'aveo' 'aygo' 'b_klasse'\n",
      " 'b_max' 'beetle' 'berlingo' 'bora' 'boxster' 'bravo' 'c1' 'c2' 'c3' 'c4'\n",
      " 'c5' 'c_klasse' 'c_max' 'c_reihe' 'caddy' 'calibra' 'captiva' 'carisma'\n",
      " 'carnival' 'cayenne' 'cc' 'ceed' 'charade' 'cherokee' 'citigo' 'civic'\n",
      " 'cl' 'clio' 'clk' 'clubman' 'colt' 'combo' 'cooper' 'cordoba' 'corolla'\n",
      " 'corsa' 'cr_reihe' 'croma' 'crossfire' 'cuore' 'cx_reihe' 'defender'\n",
      " 'delta' 'discovery' 'doblo' 'ducato' 'duster' 'e_klasse' 'elefantino'\n",
      " 'eos' 'escort' 'espace' 'exeo' 'fabia' 'fiesta' 'focus' 'forester'\n",
      " 'forfour' 'fortwo' 'fox' 'freelander' 'fusion' 'g_klasse' 'galant'\n",
      " 'galaxy' 'getz' 'gl' 'glk' 'golf' 'grand' 'i3' 'i_reihe' 'ibiza'\n",
      " 'impreza' 'insignia' 'jazz' 'jetta' 'jimny' 'juke' 'justy' 'ka' 'kadett'\n",
      " 'kaefer' 'kalina' 'kalos' 'kangoo' 'kappa' 'kuga' 'laguna' 'lancer'\n",
      " 'lanos' 'legacy' 'leon' 'lodgy' 'logan' 'lupo' 'lybra' 'm_klasse'\n",
      " 'm_reihe' 'materia' 'matiz' 'megane' 'meriva' 'micra' 'mii' 'modus'\n",
      " 'mondeo' 'move' 'musa' 'mustang' 'mx_reihe' 'navara' 'niva' 'note'\n",
      " 'nubira' 'octavia' 'omega' 'one' 'other' 'outlander' 'pajero' 'panda'\n",
      " 'passat' 'phaeton' 'picanto' 'polo' 'primera' 'ptcruiser' 'punto' 'q3'\n",
      " 'q5' 'q7' 'qashqai' 'r19' 'range_rover' 'range_rover_evoque'\n",
      " 'range_rover_sport' 'rangerover' 'rav' 'rio' 'roadster' 'roomster'\n",
      " 'rx_reihe' 's60' 's_klasse' 's_max' 's_type' 'samara' 'sandero' 'santa'\n",
      " 'scenic' 'scirocco' 'seicento' 'serie_1' 'serie_2' 'serie_3' 'sharan'\n",
      " 'signum' 'sirion' 'sl' 'slk' 'sorento' 'spark' 'spider' 'sportage'\n",
      " 'sprinter' 'stilo' 'superb' 'swift' 'terios' 'tigra' 'tiguan' 'toledo'\n",
      " 'touareg' 'touran' 'transit' 'transporter' 'tt' 'tucson' 'twingo' 'up'\n",
      " 'v40' 'v50' 'v60' 'v70' 'v_klasse' 'vectra' 'verso' 'viano' 'vito'\n",
      " 'vivaro' 'voyager' 'wrangler' 'x_reihe' 'x_trail' 'x_type' 'xc_reihe'\n",
      " 'yaris' 'yeti' 'ypsilon' 'z_reihe' 'zafira' nan] \n",
      "\n",
      "FuelType -> ['cng' 'electric' 'gasoline' 'hybrid' 'lpg' 'other' 'petrol' nan] \n",
      "\n",
      "Brand -> ['alfa_romeo' 'audi' 'bmw' 'chevrolet' 'chrysler' 'citroen' 'dacia'\n",
      " 'daewoo' 'daihatsu' 'fiat' 'ford' 'honda' 'hyundai' 'jaguar' 'jeep' 'kia'\n",
      " 'lada' 'lancia' 'land_rover' 'mazda' 'mercedes_benz' 'mini' 'mitsubishi'\n",
      " 'nissan' 'opel' 'peugeot' 'porsche' 'renault' 'rover' 'saab' 'seat'\n",
      " 'skoda' 'smart' 'sonstige_autos' 'subaru' 'suzuki' 'toyota' 'trabant'\n",
      " 'volkswagen' 'volvo'] \n",
      "\n",
      "NotRepaired -> ['no' 'yes' nan] \n",
      "\n"
     ]
    }
   ],
   "source": [
    "# посмотрим на данные в ячейках, нет ли разного написания и т.д.\n",
    "\n",
    "print('VehicleType ->', df['VehicleType'].sort_values().unique(), '\\n')\n",
    "print('Gearbox ->', df['Gearbox'].sort_values().unique(), '\\n')\n",
    "\n",
    "# особо не читаемо, много моделей, не сортируются \n",
    "print('Model ->', df['Model'].sort_values().unique(), '\\n') \n",
    "\n",
    "print('FuelType ->', df['FuelType'].sort_values().unique(), '\\n') \n",
    "\n",
    "print('Brand ->', df['Brand'].sort_values().unique(), '\\n') \n",
    "\n",
    "print('NotRepaired ->', df['NotRepaired'].sort_values().unique(), '\\n') "
   ]
  },
  {
   "cell_type": "markdown",
   "metadata": {},
   "source": [
    "####  Обработка пропусков"
   ]
  },
  {
   "cell_type": "markdown",
   "metadata": {},
   "source": [
    "Начнем с `NotRepaired` (не ремонтировалась), около 20% пропусков, просто удалить не можем, значит надо думать. Возможно пользователи которые не чинили, просто не поставили в выборе наличие ремонта (Нет). По этой причине кажется рациональным поставить вместо пропусков \"да\""
   ]
  },
  {
   "cell_type": "code",
   "execution_count": 7,
   "metadata": {},
   "outputs": [],
   "source": [
    "df[\"NotRepaired\"].fillna(\"yes\", inplace=True)"
   ]
  },
  {
   "cell_type": "code",
   "execution_count": 8,
   "metadata": {},
   "outputs": [
    {
     "name": "stdout",
     "output_type": "stream",
     "text": [
      "Колличество объявлений с некорректной годом: 16177\n"
     ]
    }
   ],
   "source": [
    "# Посмотрим, что там с аномальными датами возьмем дату создания первого автомобиля 1886 г. и текущей даты 2022 г.\n",
    "print(\"Колличество объявлений с некорректной годом:\", len(\n",
    "    df.loc[(df['RegistrationYear'] > 2016) \n",
    "           | (df['RegistrationYear'] < 1886) \n",
    "           | (df['RegistrationYear'] == 2016) & (df['RegistrationMonth'] > 9)]))\n",
    "\n",
    "# год производства лучше всего взять по группе Brand + Model + VehicleType и по хорошему сгруппировать по среднему пробегу\n",
    "\n",
    "df = df.loc[(df['RegistrationYear'] <= 2016) & (df['RegistrationYear'] >= 1886)]"
   ]
  },
  {
   "cell_type": "markdown",
   "metadata": {},
   "source": [
    "Посмотрим, что у нас по мощности, возьмем за ограничение Lotus Evija (самый мощный серийный автомобиль в мире) — 2000 л.с.\n",
    "Так же можно глянуть сколько продают гиперкаров - от 1000 до 2000 л.с"
   ]
  },
  {
   "cell_type": "code",
   "execution_count": 9,
   "metadata": {},
   "outputs": [
    {
     "name": "stdout",
     "output_type": "stream",
     "text": [
      "Колличество объявлений с некорректной мощностью: 36562\n",
      "Колличество гиперкаров: 172\n"
     ]
    }
   ],
   "source": [
    "print(\"Колличество объявлений с некорректной мощностью:\", len(df.loc[(df['Power'] > 2000) | (df['Power'] <= 0)]))\n",
    "print(\"Колличество гиперкаров:\", len(df.loc[(df['Power'] >= 1000) & (df['Power'] <= 2000)]))\n",
    "\n"
   ]
  },
  {
   "cell_type": "code",
   "execution_count": 10,
   "metadata": {},
   "outputs": [
    {
     "name": "stdout",
     "output_type": "stream",
     "text": [
      "Количество машин с нулевой ценой: 10008\n",
      "Процент машин с нулевой ценой: 2.945530639934779 \n",
      "\n"
     ]
    },
    {
     "data": {
      "text/html": [
       "<div>\n",
       "<style scoped>\n",
       "    .dataframe tbody tr th:only-of-type {\n",
       "        vertical-align: middle;\n",
       "    }\n",
       "\n",
       "    .dataframe tbody tr th {\n",
       "        vertical-align: top;\n",
       "    }\n",
       "\n",
       "    .dataframe thead th {\n",
       "        text-align: right;\n",
       "    }\n",
       "</style>\n",
       "<table border=\"1\" class=\"dataframe\">\n",
       "  <thead>\n",
       "    <tr style=\"text-align: right;\">\n",
       "      <th></th>\n",
       "      <th>DateCrawled</th>\n",
       "      <th>Price</th>\n",
       "      <th>VehicleType</th>\n",
       "      <th>RegistrationYear</th>\n",
       "      <th>Gearbox</th>\n",
       "      <th>Power</th>\n",
       "      <th>Model</th>\n",
       "      <th>Kilometer</th>\n",
       "      <th>RegistrationMonth</th>\n",
       "      <th>FuelType</th>\n",
       "      <th>Brand</th>\n",
       "      <th>NotRepaired</th>\n",
       "      <th>DateCreated</th>\n",
       "      <th>NumberOfPictures</th>\n",
       "      <th>PostalCode</th>\n",
       "      <th>LastSeen</th>\n",
       "    </tr>\n",
       "  </thead>\n",
       "  <tbody>\n",
       "    <tr>\n",
       "      <th>7</th>\n",
       "      <td>2016-03-21 18:54:38</td>\n",
       "      <td>0</td>\n",
       "      <td>sedan</td>\n",
       "      <td>1980</td>\n",
       "      <td>manual</td>\n",
       "      <td>50</td>\n",
       "      <td>other</td>\n",
       "      <td>40000</td>\n",
       "      <td>7</td>\n",
       "      <td>petrol</td>\n",
       "      <td>volkswagen</td>\n",
       "      <td>no</td>\n",
       "      <td>2016-03-21 00:00:00</td>\n",
       "      <td>0</td>\n",
       "      <td>19348</td>\n",
       "      <td>2016-03-25 16:47:58</td>\n",
       "    </tr>\n",
       "    <tr>\n",
       "      <th>40</th>\n",
       "      <td>2016-03-26 22:06:17</td>\n",
       "      <td>0</td>\n",
       "      <td>NaN</td>\n",
       "      <td>1990</td>\n",
       "      <td>NaN</td>\n",
       "      <td>0</td>\n",
       "      <td>corsa</td>\n",
       "      <td>150000</td>\n",
       "      <td>1</td>\n",
       "      <td>petrol</td>\n",
       "      <td>opel</td>\n",
       "      <td>yes</td>\n",
       "      <td>2016-03-26 00:00:00</td>\n",
       "      <td>0</td>\n",
       "      <td>56412</td>\n",
       "      <td>2016-03-27 17:43:34</td>\n",
       "    </tr>\n",
       "    <tr>\n",
       "      <th>115</th>\n",
       "      <td>2016-03-20 18:53:27</td>\n",
       "      <td>0</td>\n",
       "      <td>small</td>\n",
       "      <td>1999</td>\n",
       "      <td>NaN</td>\n",
       "      <td>0</td>\n",
       "      <td>NaN</td>\n",
       "      <td>5000</td>\n",
       "      <td>0</td>\n",
       "      <td>petrol</td>\n",
       "      <td>volkswagen</td>\n",
       "      <td>yes</td>\n",
       "      <td>2016-03-20 00:00:00</td>\n",
       "      <td>0</td>\n",
       "      <td>37520</td>\n",
       "      <td>2016-04-07 02:45:22</td>\n",
       "    </tr>\n",
       "    <tr>\n",
       "      <th>152</th>\n",
       "      <td>2016-03-11 18:55:53</td>\n",
       "      <td>0</td>\n",
       "      <td>bus</td>\n",
       "      <td>2004</td>\n",
       "      <td>manual</td>\n",
       "      <td>101</td>\n",
       "      <td>meriva</td>\n",
       "      <td>150000</td>\n",
       "      <td>10</td>\n",
       "      <td>lpg</td>\n",
       "      <td>opel</td>\n",
       "      <td>yes</td>\n",
       "      <td>2016-03-11 00:00:00</td>\n",
       "      <td>0</td>\n",
       "      <td>27432</td>\n",
       "      <td>2016-03-12 23:47:10</td>\n",
       "    </tr>\n",
       "    <tr>\n",
       "      <th>154</th>\n",
       "      <td>2016-03-22 16:37:59</td>\n",
       "      <td>0</td>\n",
       "      <td>NaN</td>\n",
       "      <td>2006</td>\n",
       "      <td>NaN</td>\n",
       "      <td>0</td>\n",
       "      <td>other</td>\n",
       "      <td>5000</td>\n",
       "      <td>0</td>\n",
       "      <td>NaN</td>\n",
       "      <td>fiat</td>\n",
       "      <td>yes</td>\n",
       "      <td>2016-03-22 00:00:00</td>\n",
       "      <td>0</td>\n",
       "      <td>44867</td>\n",
       "      <td>2016-04-06 06:17:56</td>\n",
       "    </tr>\n",
       "    <tr>\n",
       "      <th>...</th>\n",
       "      <td>...</td>\n",
       "      <td>...</td>\n",
       "      <td>...</td>\n",
       "      <td>...</td>\n",
       "      <td>...</td>\n",
       "      <td>...</td>\n",
       "      <td>...</td>\n",
       "      <td>...</td>\n",
       "      <td>...</td>\n",
       "      <td>...</td>\n",
       "      <td>...</td>\n",
       "      <td>...</td>\n",
       "      <td>...</td>\n",
       "      <td>...</td>\n",
       "      <td>...</td>\n",
       "      <td>...</td>\n",
       "    </tr>\n",
       "    <tr>\n",
       "      <th>354201</th>\n",
       "      <td>2016-03-09 15:56:30</td>\n",
       "      <td>0</td>\n",
       "      <td>NaN</td>\n",
       "      <td>2000</td>\n",
       "      <td>manual</td>\n",
       "      <td>65</td>\n",
       "      <td>corsa</td>\n",
       "      <td>150000</td>\n",
       "      <td>0</td>\n",
       "      <td>NaN</td>\n",
       "      <td>opel</td>\n",
       "      <td>yes</td>\n",
       "      <td>2016-03-09 00:00:00</td>\n",
       "      <td>0</td>\n",
       "      <td>23758</td>\n",
       "      <td>2016-03-30 11:16:08</td>\n",
       "    </tr>\n",
       "    <tr>\n",
       "      <th>354234</th>\n",
       "      <td>2016-03-20 14:55:07</td>\n",
       "      <td>0</td>\n",
       "      <td>small</td>\n",
       "      <td>2002</td>\n",
       "      <td>manual</td>\n",
       "      <td>60</td>\n",
       "      <td>fiesta</td>\n",
       "      <td>150000</td>\n",
       "      <td>3</td>\n",
       "      <td>petrol</td>\n",
       "      <td>ford</td>\n",
       "      <td>yes</td>\n",
       "      <td>2016-03-20 00:00:00</td>\n",
       "      <td>0</td>\n",
       "      <td>33659</td>\n",
       "      <td>2016-04-06 18:45:23</td>\n",
       "    </tr>\n",
       "    <tr>\n",
       "      <th>354244</th>\n",
       "      <td>2016-03-24 13:48:05</td>\n",
       "      <td>0</td>\n",
       "      <td>small</td>\n",
       "      <td>1999</td>\n",
       "      <td>manual</td>\n",
       "      <td>53</td>\n",
       "      <td>swift</td>\n",
       "      <td>150000</td>\n",
       "      <td>3</td>\n",
       "      <td>petrol</td>\n",
       "      <td>suzuki</td>\n",
       "      <td>yes</td>\n",
       "      <td>2016-03-24 00:00:00</td>\n",
       "      <td>0</td>\n",
       "      <td>42329</td>\n",
       "      <td>2016-04-07 05:17:24</td>\n",
       "    </tr>\n",
       "    <tr>\n",
       "      <th>354273</th>\n",
       "      <td>2016-03-10 22:55:50</td>\n",
       "      <td>0</td>\n",
       "      <td>small</td>\n",
       "      <td>1999</td>\n",
       "      <td>manual</td>\n",
       "      <td>37</td>\n",
       "      <td>arosa</td>\n",
       "      <td>150000</td>\n",
       "      <td>7</td>\n",
       "      <td>petrol</td>\n",
       "      <td>seat</td>\n",
       "      <td>yes</td>\n",
       "      <td>2016-03-10 00:00:00</td>\n",
       "      <td>0</td>\n",
       "      <td>22559</td>\n",
       "      <td>2016-03-12 23:46:32</td>\n",
       "    </tr>\n",
       "    <tr>\n",
       "      <th>354360</th>\n",
       "      <td>2016-03-21 09:50:58</td>\n",
       "      <td>0</td>\n",
       "      <td>NaN</td>\n",
       "      <td>2005</td>\n",
       "      <td>manual</td>\n",
       "      <td>0</td>\n",
       "      <td>colt</td>\n",
       "      <td>150000</td>\n",
       "      <td>7</td>\n",
       "      <td>petrol</td>\n",
       "      <td>mitsubishi</td>\n",
       "      <td>yes</td>\n",
       "      <td>2016-03-21 00:00:00</td>\n",
       "      <td>0</td>\n",
       "      <td>2694</td>\n",
       "      <td>2016-03-21 10:42:49</td>\n",
       "    </tr>\n",
       "  </tbody>\n",
       "</table>\n",
       "<p>10008 rows × 16 columns</p>\n",
       "</div>"
      ],
      "text/plain": [
       "                DateCrawled  Price VehicleType  RegistrationYear Gearbox  \\\n",
       "7       2016-03-21 18:54:38      0       sedan              1980  manual   \n",
       "40      2016-03-26 22:06:17      0         NaN              1990     NaN   \n",
       "115     2016-03-20 18:53:27      0       small              1999     NaN   \n",
       "152     2016-03-11 18:55:53      0         bus              2004  manual   \n",
       "154     2016-03-22 16:37:59      0         NaN              2006     NaN   \n",
       "...                     ...    ...         ...               ...     ...   \n",
       "354201  2016-03-09 15:56:30      0         NaN              2000  manual   \n",
       "354234  2016-03-20 14:55:07      0       small              2002  manual   \n",
       "354244  2016-03-24 13:48:05      0       small              1999  manual   \n",
       "354273  2016-03-10 22:55:50      0       small              1999  manual   \n",
       "354360  2016-03-21 09:50:58      0         NaN              2005  manual   \n",
       "\n",
       "        Power   Model  Kilometer  RegistrationMonth FuelType       Brand  \\\n",
       "7          50   other      40000                  7   petrol  volkswagen   \n",
       "40          0   corsa     150000                  1   petrol        opel   \n",
       "115         0     NaN       5000                  0   petrol  volkswagen   \n",
       "152       101  meriva     150000                 10      lpg        opel   \n",
       "154         0   other       5000                  0      NaN        fiat   \n",
       "...       ...     ...        ...                ...      ...         ...   \n",
       "354201     65   corsa     150000                  0      NaN        opel   \n",
       "354234     60  fiesta     150000                  3   petrol        ford   \n",
       "354244     53   swift     150000                  3   petrol      suzuki   \n",
       "354273     37   arosa     150000                  7   petrol        seat   \n",
       "354360      0    colt     150000                  7   petrol  mitsubishi   \n",
       "\n",
       "       NotRepaired          DateCreated  NumberOfPictures  PostalCode  \\\n",
       "7               no  2016-03-21 00:00:00                 0       19348   \n",
       "40             yes  2016-03-26 00:00:00                 0       56412   \n",
       "115            yes  2016-03-20 00:00:00                 0       37520   \n",
       "152            yes  2016-03-11 00:00:00                 0       27432   \n",
       "154            yes  2016-03-22 00:00:00                 0       44867   \n",
       "...            ...                  ...               ...         ...   \n",
       "354201         yes  2016-03-09 00:00:00                 0       23758   \n",
       "354234         yes  2016-03-20 00:00:00                 0       33659   \n",
       "354244         yes  2016-03-24 00:00:00                 0       42329   \n",
       "354273         yes  2016-03-10 00:00:00                 0       22559   \n",
       "354360         yes  2016-03-21 00:00:00                 0        2694   \n",
       "\n",
       "                   LastSeen  \n",
       "7       2016-03-25 16:47:58  \n",
       "40      2016-03-27 17:43:34  \n",
       "115     2016-04-07 02:45:22  \n",
       "152     2016-03-12 23:47:10  \n",
       "154     2016-04-06 06:17:56  \n",
       "...                     ...  \n",
       "354201  2016-03-30 11:16:08  \n",
       "354234  2016-04-06 18:45:23  \n",
       "354244  2016-04-07 05:17:24  \n",
       "354273  2016-03-12 23:46:32  \n",
       "354360  2016-03-21 10:42:49  \n",
       "\n",
       "[10008 rows x 16 columns]"
      ]
     },
     "metadata": {},
     "output_type": "display_data"
    }
   ],
   "source": [
    "# Посмотрим, что там с нулевой стоимостью\n",
    "\n",
    "\n",
    "print('Количество машин с нулевой ценой:', len(df.loc[df['Price'] == 0]))\n",
    "print('Процент машин с нулевой ценой:', len(df.loc[df['Price'] == 0])/len(df)*100, '\\n')\n",
    "\n",
    "\n",
    "\n",
    "display(df.loc[df['Price'] == 0])"
   ]
  },
  {
   "cell_type": "markdown",
   "metadata": {},
   "source": [
    "Можем ли мы угадывать или менять на медианное значение `Price` (цену автомобиля), что является Целевым признаком по которому будет сверяться модель? Мне кажется, что нет. \n",
    "Поэтому оставим в датафрейме только значения не равные 0"
   ]
  },
  {
   "cell_type": "code",
   "execution_count": 11,
   "metadata": {},
   "outputs": [
    {
     "name": "stdout",
     "output_type": "stream",
     "text": [
      "Количество машин с нулевой ценой: 0\n",
      "Процент машин с нулевой ценой: 0.0 \n",
      "\n"
     ]
    }
   ],
   "source": [
    "df = df.loc[df['Price'] != 0]\n",
    "\n",
    "print('Количество машин с нулевой ценой:', len(df.loc[df['Price'] == 0]))\n",
    "print('Процент машин с нулевой ценой:', len(df.loc[df['Price'] == 0])/len(df)*100, '\\n')\n",
    "\n"
   ]
  },
  {
   "cell_type": "code",
   "execution_count": 12,
   "metadata": {},
   "outputs": [
    {
     "data": {
      "text/html": [
       "<div>\n",
       "<style scoped>\n",
       "    .dataframe tbody tr th:only-of-type {\n",
       "        vertical-align: middle;\n",
       "    }\n",
       "\n",
       "    .dataframe tbody tr th {\n",
       "        vertical-align: top;\n",
       "    }\n",
       "\n",
       "    .dataframe thead th {\n",
       "        text-align: right;\n",
       "    }\n",
       "</style>\n",
       "<table border=\"1\" class=\"dataframe\">\n",
       "  <thead>\n",
       "    <tr style=\"text-align: right;\">\n",
       "      <th></th>\n",
       "      <th>DateCrawled</th>\n",
       "      <th>Price</th>\n",
       "      <th>VehicleType</th>\n",
       "      <th>RegistrationYear</th>\n",
       "      <th>Gearbox</th>\n",
       "      <th>Power</th>\n",
       "      <th>Model</th>\n",
       "      <th>Kilometer</th>\n",
       "      <th>RegistrationMonth</th>\n",
       "      <th>FuelType</th>\n",
       "      <th>Brand</th>\n",
       "      <th>NotRepaired</th>\n",
       "      <th>DateCreated</th>\n",
       "      <th>NumberOfPictures</th>\n",
       "      <th>PostalCode</th>\n",
       "      <th>LastSeen</th>\n",
       "    </tr>\n",
       "  </thead>\n",
       "  <tbody>\n",
       "    <tr>\n",
       "      <th>1</th>\n",
       "      <td>2016-03-24 10:58:45</td>\n",
       "      <td>18300</td>\n",
       "      <td>coupe</td>\n",
       "      <td>2011</td>\n",
       "      <td>manual</td>\n",
       "      <td>190</td>\n",
       "      <td>NaN</td>\n",
       "      <td>125000</td>\n",
       "      <td>5</td>\n",
       "      <td>gasoline</td>\n",
       "      <td>audi</td>\n",
       "      <td>yes</td>\n",
       "      <td>2016-03-24 00:00:00</td>\n",
       "      <td>0</td>\n",
       "      <td>66954</td>\n",
       "      <td>2016-04-07 01:46:50</td>\n",
       "    </tr>\n",
       "    <tr>\n",
       "      <th>59</th>\n",
       "      <td>2016-03-29 15:48:15</td>\n",
       "      <td>1</td>\n",
       "      <td>suv</td>\n",
       "      <td>1994</td>\n",
       "      <td>manual</td>\n",
       "      <td>286</td>\n",
       "      <td>NaN</td>\n",
       "      <td>150000</td>\n",
       "      <td>11</td>\n",
       "      <td>NaN</td>\n",
       "      <td>sonstige_autos</td>\n",
       "      <td>yes</td>\n",
       "      <td>2016-03-29 00:00:00</td>\n",
       "      <td>0</td>\n",
       "      <td>53721</td>\n",
       "      <td>2016-04-06 01:44:38</td>\n",
       "    </tr>\n",
       "    <tr>\n",
       "      <th>81</th>\n",
       "      <td>2016-04-03 12:56:45</td>\n",
       "      <td>350</td>\n",
       "      <td>small</td>\n",
       "      <td>1997</td>\n",
       "      <td>manual</td>\n",
       "      <td>54</td>\n",
       "      <td>NaN</td>\n",
       "      <td>150000</td>\n",
       "      <td>3</td>\n",
       "      <td>NaN</td>\n",
       "      <td>fiat</td>\n",
       "      <td>yes</td>\n",
       "      <td>2016-04-03 00:00:00</td>\n",
       "      <td>0</td>\n",
       "      <td>45665</td>\n",
       "      <td>2016-04-05 11:47:13</td>\n",
       "    </tr>\n",
       "    <tr>\n",
       "      <th>135</th>\n",
       "      <td>2016-03-27 20:51:23</td>\n",
       "      <td>1450</td>\n",
       "      <td>sedan</td>\n",
       "      <td>1992</td>\n",
       "      <td>manual</td>\n",
       "      <td>136</td>\n",
       "      <td>NaN</td>\n",
       "      <td>150000</td>\n",
       "      <td>0</td>\n",
       "      <td>NaN</td>\n",
       "      <td>audi</td>\n",
       "      <td>no</td>\n",
       "      <td>2016-03-27 00:00:00</td>\n",
       "      <td>0</td>\n",
       "      <td>38709</td>\n",
       "      <td>2016-04-05 20:17:31</td>\n",
       "    </tr>\n",
       "    <tr>\n",
       "      <th>151</th>\n",
       "      <td>2016-03-27 20:47:22</td>\n",
       "      <td>6799</td>\n",
       "      <td>small</td>\n",
       "      <td>2009</td>\n",
       "      <td>NaN</td>\n",
       "      <td>60</td>\n",
       "      <td>NaN</td>\n",
       "      <td>20000</td>\n",
       "      <td>5</td>\n",
       "      <td>petrol</td>\n",
       "      <td>volkswagen</td>\n",
       "      <td>no</td>\n",
       "      <td>2016-03-27 00:00:00</td>\n",
       "      <td>0</td>\n",
       "      <td>89077</td>\n",
       "      <td>2016-03-27 20:47:22</td>\n",
       "    </tr>\n",
       "    <tr>\n",
       "      <th>...</th>\n",
       "      <td>...</td>\n",
       "      <td>...</td>\n",
       "      <td>...</td>\n",
       "      <td>...</td>\n",
       "      <td>...</td>\n",
       "      <td>...</td>\n",
       "      <td>...</td>\n",
       "      <td>...</td>\n",
       "      <td>...</td>\n",
       "      <td>...</td>\n",
       "      <td>...</td>\n",
       "      <td>...</td>\n",
       "      <td>...</td>\n",
       "      <td>...</td>\n",
       "      <td>...</td>\n",
       "      <td>...</td>\n",
       "    </tr>\n",
       "    <tr>\n",
       "      <th>354241</th>\n",
       "      <td>2016-03-07 16:37:42</td>\n",
       "      <td>560</td>\n",
       "      <td>small</td>\n",
       "      <td>2001</td>\n",
       "      <td>auto</td>\n",
       "      <td>170</td>\n",
       "      <td>NaN</td>\n",
       "      <td>90000</td>\n",
       "      <td>0</td>\n",
       "      <td>petrol</td>\n",
       "      <td>fiat</td>\n",
       "      <td>yes</td>\n",
       "      <td>2016-03-07 00:00:00</td>\n",
       "      <td>0</td>\n",
       "      <td>55743</td>\n",
       "      <td>2016-03-12 21:45:25</td>\n",
       "    </tr>\n",
       "    <tr>\n",
       "      <th>354317</th>\n",
       "      <td>2016-03-15 13:52:34</td>\n",
       "      <td>9400</td>\n",
       "      <td>wagon</td>\n",
       "      <td>2007</td>\n",
       "      <td>manual</td>\n",
       "      <td>200</td>\n",
       "      <td>NaN</td>\n",
       "      <td>150000</td>\n",
       "      <td>4</td>\n",
       "      <td>gasoline</td>\n",
       "      <td>sonstige_autos</td>\n",
       "      <td>yes</td>\n",
       "      <td>2016-03-15 00:00:00</td>\n",
       "      <td>0</td>\n",
       "      <td>91186</td>\n",
       "      <td>2016-03-17 08:16:25</td>\n",
       "    </tr>\n",
       "    <tr>\n",
       "      <th>354334</th>\n",
       "      <td>2016-03-31 19:52:33</td>\n",
       "      <td>180</td>\n",
       "      <td>NaN</td>\n",
       "      <td>1995</td>\n",
       "      <td>NaN</td>\n",
       "      <td>0</td>\n",
       "      <td>NaN</td>\n",
       "      <td>125000</td>\n",
       "      <td>3</td>\n",
       "      <td>petrol</td>\n",
       "      <td>opel</td>\n",
       "      <td>yes</td>\n",
       "      <td>2016-03-31 00:00:00</td>\n",
       "      <td>0</td>\n",
       "      <td>41470</td>\n",
       "      <td>2016-04-06 14:18:04</td>\n",
       "    </tr>\n",
       "    <tr>\n",
       "      <th>354347</th>\n",
       "      <td>2016-03-11 23:40:32</td>\n",
       "      <td>1900</td>\n",
       "      <td>NaN</td>\n",
       "      <td>2000</td>\n",
       "      <td>manual</td>\n",
       "      <td>110</td>\n",
       "      <td>NaN</td>\n",
       "      <td>150000</td>\n",
       "      <td>7</td>\n",
       "      <td>NaN</td>\n",
       "      <td>volkswagen</td>\n",
       "      <td>no</td>\n",
       "      <td>2016-03-11 00:00:00</td>\n",
       "      <td>0</td>\n",
       "      <td>87700</td>\n",
       "      <td>2016-03-12 14:16:51</td>\n",
       "    </tr>\n",
       "    <tr>\n",
       "      <th>354361</th>\n",
       "      <td>2016-03-14 17:48:27</td>\n",
       "      <td>2200</td>\n",
       "      <td>NaN</td>\n",
       "      <td>2005</td>\n",
       "      <td>NaN</td>\n",
       "      <td>0</td>\n",
       "      <td>NaN</td>\n",
       "      <td>20000</td>\n",
       "      <td>1</td>\n",
       "      <td>NaN</td>\n",
       "      <td>sonstige_autos</td>\n",
       "      <td>yes</td>\n",
       "      <td>2016-03-14 00:00:00</td>\n",
       "      <td>0</td>\n",
       "      <td>39576</td>\n",
       "      <td>2016-04-06 00:46:52</td>\n",
       "    </tr>\n",
       "  </tbody>\n",
       "</table>\n",
       "<p>15637 rows × 16 columns</p>\n",
       "</div>"
      ],
      "text/plain": [
       "                DateCrawled  Price VehicleType  RegistrationYear Gearbox  \\\n",
       "1       2016-03-24 10:58:45  18300       coupe              2011  manual   \n",
       "59      2016-03-29 15:48:15      1         suv              1994  manual   \n",
       "81      2016-04-03 12:56:45    350       small              1997  manual   \n",
       "135     2016-03-27 20:51:23   1450       sedan              1992  manual   \n",
       "151     2016-03-27 20:47:22   6799       small              2009     NaN   \n",
       "...                     ...    ...         ...               ...     ...   \n",
       "354241  2016-03-07 16:37:42    560       small              2001    auto   \n",
       "354317  2016-03-15 13:52:34   9400       wagon              2007  manual   \n",
       "354334  2016-03-31 19:52:33    180         NaN              1995     NaN   \n",
       "354347  2016-03-11 23:40:32   1900         NaN              2000  manual   \n",
       "354361  2016-03-14 17:48:27   2200         NaN              2005     NaN   \n",
       "\n",
       "        Power Model  Kilometer  RegistrationMonth  FuelType           Brand  \\\n",
       "1         190   NaN     125000                  5  gasoline            audi   \n",
       "59        286   NaN     150000                 11       NaN  sonstige_autos   \n",
       "81         54   NaN     150000                  3       NaN            fiat   \n",
       "135       136   NaN     150000                  0       NaN            audi   \n",
       "151        60   NaN      20000                  5    petrol      volkswagen   \n",
       "...       ...   ...        ...                ...       ...             ...   \n",
       "354241    170   NaN      90000                  0    petrol            fiat   \n",
       "354317    200   NaN     150000                  4  gasoline  sonstige_autos   \n",
       "354334      0   NaN     125000                  3    petrol            opel   \n",
       "354347    110   NaN     150000                  7       NaN      volkswagen   \n",
       "354361      0   NaN      20000                  1       NaN  sonstige_autos   \n",
       "\n",
       "       NotRepaired          DateCreated  NumberOfPictures  PostalCode  \\\n",
       "1              yes  2016-03-24 00:00:00                 0       66954   \n",
       "59             yes  2016-03-29 00:00:00                 0       53721   \n",
       "81             yes  2016-04-03 00:00:00                 0       45665   \n",
       "135             no  2016-03-27 00:00:00                 0       38709   \n",
       "151             no  2016-03-27 00:00:00                 0       89077   \n",
       "...            ...                  ...               ...         ...   \n",
       "354241         yes  2016-03-07 00:00:00                 0       55743   \n",
       "354317         yes  2016-03-15 00:00:00                 0       91186   \n",
       "354334         yes  2016-03-31 00:00:00                 0       41470   \n",
       "354347          no  2016-03-11 00:00:00                 0       87700   \n",
       "354361         yes  2016-03-14 00:00:00                 0       39576   \n",
       "\n",
       "                   LastSeen  \n",
       "1       2016-04-07 01:46:50  \n",
       "59      2016-04-06 01:44:38  \n",
       "81      2016-04-05 11:47:13  \n",
       "135     2016-04-05 20:17:31  \n",
       "151     2016-03-27 20:47:22  \n",
       "...                     ...  \n",
       "354241  2016-03-12 21:45:25  \n",
       "354317  2016-03-17 08:16:25  \n",
       "354334  2016-04-06 14:18:04  \n",
       "354347  2016-03-12 14:16:51  \n",
       "354361  2016-04-06 00:46:52  \n",
       "\n",
       "[15637 rows x 16 columns]"
      ]
     },
     "metadata": {},
     "output_type": "display_data"
    }
   ],
   "source": [
    "display(df[df['Model'].isna()])"
   ]
  },
  {
   "cell_type": "code",
   "execution_count": 13,
   "metadata": {},
   "outputs": [
    {
     "data": {
      "text/html": [
       "<div>\n",
       "<style scoped>\n",
       "    .dataframe tbody tr th:only-of-type {\n",
       "        vertical-align: middle;\n",
       "    }\n",
       "\n",
       "    .dataframe tbody tr th {\n",
       "        vertical-align: top;\n",
       "    }\n",
       "\n",
       "    .dataframe thead th {\n",
       "        text-align: right;\n",
       "    }\n",
       "</style>\n",
       "<table border=\"1\" class=\"dataframe\">\n",
       "  <thead>\n",
       "    <tr style=\"text-align: right;\">\n",
       "      <th></th>\n",
       "      <th>RegistrationYear</th>\n",
       "      <th>1910</th>\n",
       "      <th>1925</th>\n",
       "      <th>1929</th>\n",
       "      <th>1934</th>\n",
       "      <th>1935</th>\n",
       "      <th>1937</th>\n",
       "      <th>1938</th>\n",
       "      <th>1940</th>\n",
       "      <th>1941</th>\n",
       "      <th>1943</th>\n",
       "      <th>...</th>\n",
       "      <th>2007</th>\n",
       "      <th>2008</th>\n",
       "      <th>2009</th>\n",
       "      <th>2010</th>\n",
       "      <th>2011</th>\n",
       "      <th>2012</th>\n",
       "      <th>2013</th>\n",
       "      <th>2014</th>\n",
       "      <th>2015</th>\n",
       "      <th>2016</th>\n",
       "    </tr>\n",
       "    <tr>\n",
       "      <th>Brand</th>\n",
       "      <th>VehicleType</th>\n",
       "      <th></th>\n",
       "      <th></th>\n",
       "      <th></th>\n",
       "      <th></th>\n",
       "      <th></th>\n",
       "      <th></th>\n",
       "      <th></th>\n",
       "      <th></th>\n",
       "      <th></th>\n",
       "      <th></th>\n",
       "      <th></th>\n",
       "      <th></th>\n",
       "      <th></th>\n",
       "      <th></th>\n",
       "      <th></th>\n",
       "      <th></th>\n",
       "      <th></th>\n",
       "      <th></th>\n",
       "      <th></th>\n",
       "      <th></th>\n",
       "      <th></th>\n",
       "    </tr>\n",
       "  </thead>\n",
       "  <tbody>\n",
       "    <tr>\n",
       "      <th rowspan=\"5\" valign=\"top\">alfa_romeo</th>\n",
       "      <th>coupe</th>\n",
       "      <td>X</td>\n",
       "      <td>X</td>\n",
       "      <td>X</td>\n",
       "      <td>X</td>\n",
       "      <td>X</td>\n",
       "      <td>X</td>\n",
       "      <td>X</td>\n",
       "      <td>X</td>\n",
       "      <td>X</td>\n",
       "      <td>X</td>\n",
       "      <td>...</td>\n",
       "      <td>1.0</td>\n",
       "      <td>X</td>\n",
       "      <td>X</td>\n",
       "      <td>X</td>\n",
       "      <td>X</td>\n",
       "      <td>X</td>\n",
       "      <td>X</td>\n",
       "      <td>X</td>\n",
       "      <td>X</td>\n",
       "      <td>X</td>\n",
       "    </tr>\n",
       "    <tr>\n",
       "      <th>other</th>\n",
       "      <td>X</td>\n",
       "      <td>X</td>\n",
       "      <td>X</td>\n",
       "      <td>X</td>\n",
       "      <td>X</td>\n",
       "      <td>X</td>\n",
       "      <td>X</td>\n",
       "      <td>X</td>\n",
       "      <td>X</td>\n",
       "      <td>X</td>\n",
       "      <td>...</td>\n",
       "      <td>X</td>\n",
       "      <td>X</td>\n",
       "      <td>X</td>\n",
       "      <td>X</td>\n",
       "      <td>1.0</td>\n",
       "      <td>X</td>\n",
       "      <td>X</td>\n",
       "      <td>X</td>\n",
       "      <td>X</td>\n",
       "      <td>X</td>\n",
       "    </tr>\n",
       "    <tr>\n",
       "      <th>sedan</th>\n",
       "      <td>X</td>\n",
       "      <td>X</td>\n",
       "      <td>X</td>\n",
       "      <td>X</td>\n",
       "      <td>X</td>\n",
       "      <td>X</td>\n",
       "      <td>X</td>\n",
       "      <td>X</td>\n",
       "      <td>X</td>\n",
       "      <td>X</td>\n",
       "      <td>...</td>\n",
       "      <td>1.0</td>\n",
       "      <td>X</td>\n",
       "      <td>X</td>\n",
       "      <td>1.0</td>\n",
       "      <td>X</td>\n",
       "      <td>X</td>\n",
       "      <td>X</td>\n",
       "      <td>X</td>\n",
       "      <td>X</td>\n",
       "      <td>1.0</td>\n",
       "    </tr>\n",
       "    <tr>\n",
       "      <th>small</th>\n",
       "      <td>X</td>\n",
       "      <td>X</td>\n",
       "      <td>X</td>\n",
       "      <td>X</td>\n",
       "      <td>X</td>\n",
       "      <td>X</td>\n",
       "      <td>X</td>\n",
       "      <td>X</td>\n",
       "      <td>X</td>\n",
       "      <td>X</td>\n",
       "      <td>...</td>\n",
       "      <td>1.0</td>\n",
       "      <td>X</td>\n",
       "      <td>X</td>\n",
       "      <td>X</td>\n",
       "      <td>X</td>\n",
       "      <td>X</td>\n",
       "      <td>X</td>\n",
       "      <td>X</td>\n",
       "      <td>X</td>\n",
       "      <td>X</td>\n",
       "    </tr>\n",
       "    <tr>\n",
       "      <th>wagon</th>\n",
       "      <td>X</td>\n",
       "      <td>X</td>\n",
       "      <td>X</td>\n",
       "      <td>X</td>\n",
       "      <td>X</td>\n",
       "      <td>X</td>\n",
       "      <td>X</td>\n",
       "      <td>X</td>\n",
       "      <td>X</td>\n",
       "      <td>X</td>\n",
       "      <td>...</td>\n",
       "      <td>X</td>\n",
       "      <td>1.0</td>\n",
       "      <td>X</td>\n",
       "      <td>X</td>\n",
       "      <td>X</td>\n",
       "      <td>X</td>\n",
       "      <td>X</td>\n",
       "      <td>X</td>\n",
       "      <td>X</td>\n",
       "      <td>X</td>\n",
       "    </tr>\n",
       "    <tr>\n",
       "      <th>...</th>\n",
       "      <th>...</th>\n",
       "      <td>...</td>\n",
       "      <td>...</td>\n",
       "      <td>...</td>\n",
       "      <td>...</td>\n",
       "      <td>...</td>\n",
       "      <td>...</td>\n",
       "      <td>...</td>\n",
       "      <td>...</td>\n",
       "      <td>...</td>\n",
       "      <td>...</td>\n",
       "      <td>...</td>\n",
       "      <td>...</td>\n",
       "      <td>...</td>\n",
       "      <td>...</td>\n",
       "      <td>...</td>\n",
       "      <td>...</td>\n",
       "      <td>...</td>\n",
       "      <td>...</td>\n",
       "      <td>...</td>\n",
       "      <td>...</td>\n",
       "      <td>...</td>\n",
       "    </tr>\n",
       "    <tr>\n",
       "      <th rowspan=\"2\" valign=\"top\">volkswagen</th>\n",
       "      <th>suv</th>\n",
       "      <td>X</td>\n",
       "      <td>X</td>\n",
       "      <td>X</td>\n",
       "      <td>X</td>\n",
       "      <td>X</td>\n",
       "      <td>X</td>\n",
       "      <td>X</td>\n",
       "      <td>X</td>\n",
       "      <td>X</td>\n",
       "      <td>X</td>\n",
       "      <td>...</td>\n",
       "      <td>X</td>\n",
       "      <td>1.0</td>\n",
       "      <td>3.0</td>\n",
       "      <td>2.0</td>\n",
       "      <td>1.0</td>\n",
       "      <td>1.0</td>\n",
       "      <td>X</td>\n",
       "      <td>X</td>\n",
       "      <td>X</td>\n",
       "      <td>X</td>\n",
       "    </tr>\n",
       "    <tr>\n",
       "      <th>wagon</th>\n",
       "      <td>X</td>\n",
       "      <td>X</td>\n",
       "      <td>X</td>\n",
       "      <td>X</td>\n",
       "      <td>X</td>\n",
       "      <td>X</td>\n",
       "      <td>X</td>\n",
       "      <td>X</td>\n",
       "      <td>X</td>\n",
       "      <td>X</td>\n",
       "      <td>...</td>\n",
       "      <td>12.0</td>\n",
       "      <td>9.0</td>\n",
       "      <td>5.0</td>\n",
       "      <td>7.0</td>\n",
       "      <td>2.0</td>\n",
       "      <td>4.0</td>\n",
       "      <td>2.0</td>\n",
       "      <td>2.0</td>\n",
       "      <td>X</td>\n",
       "      <td>X</td>\n",
       "    </tr>\n",
       "    <tr>\n",
       "      <th rowspan=\"3\" valign=\"top\">volvo</th>\n",
       "      <th>coupe</th>\n",
       "      <td>X</td>\n",
       "      <td>X</td>\n",
       "      <td>X</td>\n",
       "      <td>X</td>\n",
       "      <td>X</td>\n",
       "      <td>X</td>\n",
       "      <td>X</td>\n",
       "      <td>X</td>\n",
       "      <td>X</td>\n",
       "      <td>X</td>\n",
       "      <td>...</td>\n",
       "      <td>X</td>\n",
       "      <td>X</td>\n",
       "      <td>X</td>\n",
       "      <td>X</td>\n",
       "      <td>X</td>\n",
       "      <td>X</td>\n",
       "      <td>X</td>\n",
       "      <td>X</td>\n",
       "      <td>X</td>\n",
       "      <td>X</td>\n",
       "    </tr>\n",
       "    <tr>\n",
       "      <th>sedan</th>\n",
       "      <td>X</td>\n",
       "      <td>X</td>\n",
       "      <td>X</td>\n",
       "      <td>X</td>\n",
       "      <td>X</td>\n",
       "      <td>X</td>\n",
       "      <td>X</td>\n",
       "      <td>X</td>\n",
       "      <td>X</td>\n",
       "      <td>X</td>\n",
       "      <td>...</td>\n",
       "      <td>1.0</td>\n",
       "      <td>X</td>\n",
       "      <td>X</td>\n",
       "      <td>X</td>\n",
       "      <td>X</td>\n",
       "      <td>2.0</td>\n",
       "      <td>X</td>\n",
       "      <td>X</td>\n",
       "      <td>X</td>\n",
       "      <td>X</td>\n",
       "    </tr>\n",
       "    <tr>\n",
       "      <th>wagon</th>\n",
       "      <td>X</td>\n",
       "      <td>X</td>\n",
       "      <td>X</td>\n",
       "      <td>X</td>\n",
       "      <td>X</td>\n",
       "      <td>X</td>\n",
       "      <td>X</td>\n",
       "      <td>X</td>\n",
       "      <td>X</td>\n",
       "      <td>X</td>\n",
       "      <td>...</td>\n",
       "      <td>X</td>\n",
       "      <td>X</td>\n",
       "      <td>X</td>\n",
       "      <td>X</td>\n",
       "      <td>X</td>\n",
       "      <td>X</td>\n",
       "      <td>X</td>\n",
       "      <td>X</td>\n",
       "      <td>X</td>\n",
       "      <td>X</td>\n",
       "    </tr>\n",
       "  </tbody>\n",
       "</table>\n",
       "<p>252 rows × 81 columns</p>\n",
       "</div>"
      ],
      "text/plain": [
       "RegistrationYear       1910 1925 1929 1934 1935 1937 1938 1940 1941 1943  ...  \\\n",
       "Brand      VehicleType                                                    ...   \n",
       "alfa_romeo coupe          X    X    X    X    X    X    X    X    X    X  ...   \n",
       "           other          X    X    X    X    X    X    X    X    X    X  ...   \n",
       "           sedan          X    X    X    X    X    X    X    X    X    X  ...   \n",
       "           small          X    X    X    X    X    X    X    X    X    X  ...   \n",
       "           wagon          X    X    X    X    X    X    X    X    X    X  ...   \n",
       "...                     ...  ...  ...  ...  ...  ...  ...  ...  ...  ...  ...   \n",
       "volkswagen suv            X    X    X    X    X    X    X    X    X    X  ...   \n",
       "           wagon          X    X    X    X    X    X    X    X    X    X  ...   \n",
       "volvo      coupe          X    X    X    X    X    X    X    X    X    X  ...   \n",
       "           sedan          X    X    X    X    X    X    X    X    X    X  ...   \n",
       "           wagon          X    X    X    X    X    X    X    X    X    X  ...   \n",
       "\n",
       "RegistrationYear        2007 2008 2009 2010 2011 2012 2013 2014 2015 2016  \n",
       "Brand      VehicleType                                                     \n",
       "alfa_romeo coupe         1.0    X    X    X    X    X    X    X    X    X  \n",
       "           other           X    X    X    X  1.0    X    X    X    X    X  \n",
       "           sedan         1.0    X    X  1.0    X    X    X    X    X  1.0  \n",
       "           small         1.0    X    X    X    X    X    X    X    X    X  \n",
       "           wagon           X  1.0    X    X    X    X    X    X    X    X  \n",
       "...                      ...  ...  ...  ...  ...  ...  ...  ...  ...  ...  \n",
       "volkswagen suv             X  1.0  3.0  2.0  1.0  1.0    X    X    X    X  \n",
       "           wagon        12.0  9.0  5.0  7.0  2.0  4.0  2.0  2.0    X    X  \n",
       "volvo      coupe           X    X    X    X    X    X    X    X    X    X  \n",
       "           sedan         1.0    X    X    X    X  2.0    X    X    X    X  \n",
       "           wagon           X    X    X    X    X    X    X    X    X    X  \n",
       "\n",
       "[252 rows x 81 columns]"
      ]
     },
     "execution_count": 13,
     "metadata": {},
     "output_type": "execute_result"
    }
   ],
   "source": [
    "(\n",
    "df[df['Model'].isna()]\n",
    " .pivot_table(index=['Brand', 'VehicleType'], columns='RegistrationYear', values='Power', aggfunc= 'count', fill_value='X')\n",
    ")"
   ]
  },
  {
   "cell_type": "markdown",
   "metadata": {},
   "source": [
    "С моделью можно поступить одним из трех способов:\n",
    "* вычеслить по группе схожих параметров: год выпуска, бренд, тип кузова и тип топлива\n",
    "* поставить `unknown`\n",
    "* удалить"
   ]
  },
  {
   "cell_type": "code",
   "execution_count": 14,
   "metadata": {},
   "outputs": [],
   "source": [
    "# так как данных около 5% удалять не хочется, предлагаю поставить на unknown"
   ]
  },
  {
   "cell_type": "code",
   "execution_count": 15,
   "metadata": {},
   "outputs": [
    {
     "name": "stdout",
     "output_type": "stream",
     "text": [
      "Процент пропусков: \n",
      "\n",
      "DateCrawled          0.0\n",
      "Price                0.0\n",
      "VehicleType          0.0\n",
      "RegistrationYear     0.0\n",
      "Gearbox              0.0\n",
      "Power                0.0\n",
      "Model                0.0\n",
      "Kilometer            0.0\n",
      "RegistrationMonth    0.0\n",
      "FuelType             0.0\n",
      "Brand                0.0\n",
      "NotRepaired          0.0\n",
      "DateCreated          0.0\n",
      "NumberOfPictures     0.0\n",
      "PostalCode           0.0\n",
      "LastSeen             0.0\n",
      "dtype: float64 \n",
      "\n"
     ]
    }
   ],
   "source": [
    "# Исправим остальное:\n",
    "\n",
    "df[\"FuelType\"].fillna(\"other\", inplace=True)\n",
    "\n",
    "df[\"VehicleType\"].fillna(\"other\", inplace=True)\n",
    "\n",
    "#заполнять Gearbox (коробка передачь) по средней или иной связке не корректно, \n",
    "#так как одни и теж модели, одного года, имеют разные типы в зависимости от комплектации (стоимости)\n",
    "df[\"Gearbox\"].fillna(\"unknown\", inplace=True)\n",
    "\n",
    "\n",
    "df[\"Model\"].fillna(\"unknown\", inplace=True)\n",
    "\n",
    "\n",
    "# общий процент пропусков посмотрим\n",
    "print('Процент пропусков:', '\\n')\n",
    "print(df.isna().mean()*100, '\\n')"
   ]
  },
  {
   "cell_type": "code",
   "execution_count": 16,
   "metadata": {},
   "outputs": [
    {
     "name": "stdout",
     "output_type": "stream",
     "text": [
      "Колличество объявлений с некорректной мощностью: 0 \n",
      "\n",
      "0         101.0\n",
      "1         190.0\n",
      "2         163.0\n",
      "3          75.0\n",
      "4          69.0\n",
      "          ...  \n",
      "354359    125.0\n",
      "354361    106.0\n",
      "354362    101.0\n",
      "354363    102.0\n",
      "354364    100.0\n",
      "Name: Power, Length: 329761, dtype: float64\n",
      "DateCrawled          0\n",
      "Price                0\n",
      "VehicleType          0\n",
      "RegistrationYear     0\n",
      "Gearbox              0\n",
      "Power                1\n",
      "Model                0\n",
      "Kilometer            0\n",
      "RegistrationMonth    0\n",
      "FuelType             0\n",
      "Brand                0\n",
      "NotRepaired          0\n",
      "DateCreated          0\n",
      "NumberOfPictures     0\n",
      "PostalCode           0\n",
      "LastSeen             0\n",
      "dtype: int64 \n",
      "\n"
     ]
    },
    {
     "data": {
      "text/html": [
       "<div>\n",
       "<style scoped>\n",
       "    .dataframe tbody tr th:only-of-type {\n",
       "        vertical-align: middle;\n",
       "    }\n",
       "\n",
       "    .dataframe tbody tr th {\n",
       "        vertical-align: top;\n",
       "    }\n",
       "\n",
       "    .dataframe thead th {\n",
       "        text-align: right;\n",
       "    }\n",
       "</style>\n",
       "<table border=\"1\" class=\"dataframe\">\n",
       "  <thead>\n",
       "    <tr style=\"text-align: right;\">\n",
       "      <th></th>\n",
       "      <th>DateCrawled</th>\n",
       "      <th>Price</th>\n",
       "      <th>VehicleType</th>\n",
       "      <th>RegistrationYear</th>\n",
       "      <th>Gearbox</th>\n",
       "      <th>Power</th>\n",
       "      <th>Model</th>\n",
       "      <th>Kilometer</th>\n",
       "      <th>RegistrationMonth</th>\n",
       "      <th>FuelType</th>\n",
       "      <th>Brand</th>\n",
       "      <th>NotRepaired</th>\n",
       "      <th>DateCreated</th>\n",
       "      <th>NumberOfPictures</th>\n",
       "      <th>PostalCode</th>\n",
       "      <th>LastSeen</th>\n",
       "    </tr>\n",
       "  </thead>\n",
       "  <tbody>\n",
       "    <tr>\n",
       "      <th>234294</th>\n",
       "      <td>2016-03-30 11:39:08</td>\n",
       "      <td>3800</td>\n",
       "      <td>wagon</td>\n",
       "      <td>1978</td>\n",
       "      <td>manual</td>\n",
       "      <td>NaN</td>\n",
       "      <td>serie_1</td>\n",
       "      <td>30000</td>\n",
       "      <td>0</td>\n",
       "      <td>gasoline</td>\n",
       "      <td>land_rover</td>\n",
       "      <td>yes</td>\n",
       "      <td>2016-03-30 00:00:00</td>\n",
       "      <td>0</td>\n",
       "      <td>49824</td>\n",
       "      <td>2016-03-30 11:39:08</td>\n",
       "    </tr>\n",
       "  </tbody>\n",
       "</table>\n",
       "</div>"
      ],
      "text/plain": [
       "                DateCrawled  Price VehicleType  RegistrationYear Gearbox  \\\n",
       "234294  2016-03-30 11:39:08   3800       wagon              1978  manual   \n",
       "\n",
       "        Power    Model  Kilometer  RegistrationMonth  FuelType       Brand  \\\n",
       "234294    NaN  serie_1      30000                  0  gasoline  land_rover   \n",
       "\n",
       "       NotRepaired          DateCreated  NumberOfPictures  PostalCode  \\\n",
       "234294         yes  2016-03-30 00:00:00                 0       49824   \n",
       "\n",
       "                   LastSeen  \n",
       "234294  2016-03-30 11:39:08  "
      ]
     },
     "metadata": {},
     "output_type": "display_data"
    },
    {
     "data": {
      "text/html": [
       "<div>\n",
       "<style scoped>\n",
       "    .dataframe tbody tr th:only-of-type {\n",
       "        vertical-align: middle;\n",
       "    }\n",
       "\n",
       "    .dataframe tbody tr th {\n",
       "        vertical-align: top;\n",
       "    }\n",
       "\n",
       "    .dataframe thead th {\n",
       "        text-align: right;\n",
       "    }\n",
       "</style>\n",
       "<table border=\"1\" class=\"dataframe\">\n",
       "  <thead>\n",
       "    <tr style=\"text-align: right;\">\n",
       "      <th></th>\n",
       "      <th>DateCrawled</th>\n",
       "      <th>Price</th>\n",
       "      <th>VehicleType</th>\n",
       "      <th>RegistrationYear</th>\n",
       "      <th>Gearbox</th>\n",
       "      <th>Power</th>\n",
       "      <th>Model</th>\n",
       "      <th>Kilometer</th>\n",
       "      <th>RegistrationMonth</th>\n",
       "      <th>FuelType</th>\n",
       "      <th>Brand</th>\n",
       "      <th>NotRepaired</th>\n",
       "      <th>DateCreated</th>\n",
       "      <th>NumberOfPictures</th>\n",
       "      <th>PostalCode</th>\n",
       "      <th>LastSeen</th>\n",
       "    </tr>\n",
       "  </thead>\n",
       "  <tbody>\n",
       "    <tr>\n",
       "      <th>234294</th>\n",
       "      <td>2016-03-30 11:39:08</td>\n",
       "      <td>3800</td>\n",
       "      <td>wagon</td>\n",
       "      <td>1978</td>\n",
       "      <td>manual</td>\n",
       "      <td>NaN</td>\n",
       "      <td>serie_1</td>\n",
       "      <td>30000</td>\n",
       "      <td>0</td>\n",
       "      <td>gasoline</td>\n",
       "      <td>land_rover</td>\n",
       "      <td>yes</td>\n",
       "      <td>2016-03-30 00:00:00</td>\n",
       "      <td>0</td>\n",
       "      <td>49824</td>\n",
       "      <td>2016-03-30 11:39:08</td>\n",
       "    </tr>\n",
       "  </tbody>\n",
       "</table>\n",
       "</div>"
      ],
      "text/plain": [
       "                DateCrawled  Price VehicleType  RegistrationYear Gearbox  \\\n",
       "234294  2016-03-30 11:39:08   3800       wagon              1978  manual   \n",
       "\n",
       "        Power    Model  Kilometer  RegistrationMonth  FuelType       Brand  \\\n",
       "234294    NaN  serie_1      30000                  0  gasoline  land_rover   \n",
       "\n",
       "       NotRepaired          DateCreated  NumberOfPictures  PostalCode  \\\n",
       "234294         yes  2016-03-30 00:00:00                 0       49824   \n",
       "\n",
       "                   LastSeen  \n",
       "234294  2016-03-30 11:39:08  "
      ]
     },
     "metadata": {},
     "output_type": "display_data"
    },
    {
     "name": "stdout",
     "output_type": "stream",
     "text": [
      "\n",
      "<class 'pandas.core.frame.DataFrame'>\n",
      "Int64Index: 329760 entries, 0 to 354364\n",
      "Data columns (total 16 columns):\n",
      " #   Column             Non-Null Count   Dtype \n",
      "---  ------             --------------   ----- \n",
      " 0   DateCrawled        329760 non-null  object\n",
      " 1   Price              329760 non-null  int64 \n",
      " 2   VehicleType        329760 non-null  object\n",
      " 3   RegistrationYear   329760 non-null  int64 \n",
      " 4   Gearbox            329760 non-null  object\n",
      " 5   Power              329760 non-null  int64 \n",
      " 6   Model              329760 non-null  object\n",
      " 7   Kilometer          329760 non-null  int64 \n",
      " 8   RegistrationMonth  329760 non-null  int64 \n",
      " 9   FuelType           329760 non-null  object\n",
      " 10  Brand              329760 non-null  object\n",
      " 11  NotRepaired        329760 non-null  object\n",
      " 12  DateCreated        329760 non-null  object\n",
      " 13  NumberOfPictures   329760 non-null  int64 \n",
      " 14  PostalCode         329760 non-null  int64 \n",
      " 15  LastSeen           329760 non-null  object\n",
      "dtypes: int64(7), object(9)\n",
      "memory usage: 42.8+ MB\n",
      "None\n"
     ]
    }
   ],
   "source": [
    "# обработаем данные с мощностью\n",
    "df.loc[(df['Power'] > 2000) | (df['Power'] <= 0), 'Power'] = None\n",
    "df['Power'] = df['Power'].fillna(df.groupby('Model')['Power'].transform('median'))\n",
    "\n",
    "\n",
    "print(\"Колличество объявлений с некорректной мощностью:\", len(df.loc[(df['Power'] > 2000) | (df['Power'] <= 0)]), '\\n')\n",
    "\n",
    "print(df['Power'])\n",
    "print(df.isna().sum(), '\\n')\n",
    "# посмотрим, что тут не заполнилось\n",
    "display(df[df['Power'].isna()])\n",
    "display(df[df['Model'] == \"serie_1\"])\n",
    "#такая только одна модель, удалим\n",
    "\n",
    "df = df.loc[~df['Power'].isna()]\n",
    "\n",
    "\n",
    "df['Power'] = df['Power'].astype('int64')\n",
    "print()\n",
    "print(df.info())\n"
   ]
  },
  {
   "cell_type": "markdown",
   "metadata": {},
   "source": [
    "#### Удаление не актуальных столбцов"
   ]
  },
  {
   "cell_type": "code",
   "execution_count": 17,
   "metadata": {},
   "outputs": [],
   "source": [
    "end_df = df.drop(['DateCrawled', 'DateCreated', 'LastSeen', \n",
    "                  'NumberOfPictures', 'PostalCode', 'RegistrationMonth'], axis = 1)\n",
    "end_df = end_df.reset_index(drop=True)"
   ]
  },
  {
   "cell_type": "code",
   "execution_count": 18,
   "metadata": {},
   "outputs": [
    {
     "name": "stdout",
     "output_type": "stream",
     "text": [
      "<class 'pandas.core.frame.DataFrame'>\n",
      "RangeIndex: 329760 entries, 0 to 329759\n",
      "Data columns (total 10 columns):\n",
      " #   Column            Non-Null Count   Dtype \n",
      "---  ------            --------------   ----- \n",
      " 0   Price             329760 non-null  int64 \n",
      " 1   VehicleType       329760 non-null  object\n",
      " 2   RegistrationYear  329760 non-null  int64 \n",
      " 3   Gearbox           329760 non-null  object\n",
      " 4   Power             329760 non-null  int64 \n",
      " 5   Model             329760 non-null  object\n",
      " 6   Kilometer         329760 non-null  int64 \n",
      " 7   FuelType          329760 non-null  object\n",
      " 8   Brand             329760 non-null  object\n",
      " 9   NotRepaired       329760 non-null  object\n",
      "dtypes: int64(4), object(6)\n",
      "memory usage: 25.2+ MB\n"
     ]
    },
    {
     "data": {
      "text/html": [
       "<div>\n",
       "<style scoped>\n",
       "    .dataframe tbody tr th:only-of-type {\n",
       "        vertical-align: middle;\n",
       "    }\n",
       "\n",
       "    .dataframe tbody tr th {\n",
       "        vertical-align: top;\n",
       "    }\n",
       "\n",
       "    .dataframe thead th {\n",
       "        text-align: right;\n",
       "    }\n",
       "</style>\n",
       "<table border=\"1\" class=\"dataframe\">\n",
       "  <thead>\n",
       "    <tr style=\"text-align: right;\">\n",
       "      <th></th>\n",
       "      <th>Price</th>\n",
       "      <th>RegistrationYear</th>\n",
       "      <th>Power</th>\n",
       "      <th>Kilometer</th>\n",
       "    </tr>\n",
       "  </thead>\n",
       "  <tbody>\n",
       "    <tr>\n",
       "      <th>count</th>\n",
       "      <td>329760.000000</td>\n",
       "      <td>329760.000000</td>\n",
       "      <td>329760.000000</td>\n",
       "      <td>329760.000000</td>\n",
       "    </tr>\n",
       "    <tr>\n",
       "      <th>mean</th>\n",
       "      <td>4607.036096</td>\n",
       "      <td>2002.593674</td>\n",
       "      <td>120.046843</td>\n",
       "      <td>128206.316715</td>\n",
       "    </tr>\n",
       "    <tr>\n",
       "      <th>std</th>\n",
       "      <td>4546.267728</td>\n",
       "      <td>6.927782</td>\n",
       "      <td>61.371297</td>\n",
       "      <td>37524.363197</td>\n",
       "    </tr>\n",
       "    <tr>\n",
       "      <th>min</th>\n",
       "      <td>1.000000</td>\n",
       "      <td>1910.000000</td>\n",
       "      <td>1.000000</td>\n",
       "      <td>5000.000000</td>\n",
       "    </tr>\n",
       "    <tr>\n",
       "      <th>25%</th>\n",
       "      <td>1200.000000</td>\n",
       "      <td>1999.000000</td>\n",
       "      <td>75.000000</td>\n",
       "      <td>125000.000000</td>\n",
       "    </tr>\n",
       "    <tr>\n",
       "      <th>50%</th>\n",
       "      <td>2900.000000</td>\n",
       "      <td>2003.000000</td>\n",
       "      <td>110.000000</td>\n",
       "      <td>150000.000000</td>\n",
       "    </tr>\n",
       "    <tr>\n",
       "      <th>75%</th>\n",
       "      <td>6600.000000</td>\n",
       "      <td>2007.000000</td>\n",
       "      <td>145.000000</td>\n",
       "      <td>150000.000000</td>\n",
       "    </tr>\n",
       "    <tr>\n",
       "      <th>max</th>\n",
       "      <td>20000.000000</td>\n",
       "      <td>2016.000000</td>\n",
       "      <td>2000.000000</td>\n",
       "      <td>150000.000000</td>\n",
       "    </tr>\n",
       "  </tbody>\n",
       "</table>\n",
       "</div>"
      ],
      "text/plain": [
       "               Price  RegistrationYear          Power      Kilometer\n",
       "count  329760.000000     329760.000000  329760.000000  329760.000000\n",
       "mean     4607.036096       2002.593674     120.046843  128206.316715\n",
       "std      4546.267728          6.927782      61.371297   37524.363197\n",
       "min         1.000000       1910.000000       1.000000    5000.000000\n",
       "25%      1200.000000       1999.000000      75.000000  125000.000000\n",
       "50%      2900.000000       2003.000000     110.000000  150000.000000\n",
       "75%      6600.000000       2007.000000     145.000000  150000.000000\n",
       "max     20000.000000       2016.000000    2000.000000  150000.000000"
      ]
     },
     "execution_count": 18,
     "metadata": {},
     "output_type": "execute_result"
    }
   ],
   "source": [
    "end_df.info()\n",
    "end_df.describe()"
   ]
  },
  {
   "cell_type": "markdown",
   "metadata": {},
   "source": [
    "**Промежуточные итоги**\n",
    "\n",
    "* удалены явные дубликаты\n",
    "* проблем в названии столбцов нет\n",
    "* столбцы не актуальные для тестирования модели, удалены\n",
    "* были подчищены, удалены или обновлены пропуски и аномальные данные"
   ]
  },
  {
   "cell_type": "markdown",
   "metadata": {},
   "source": [
    "## Обучение моделей"
   ]
  },
  {
   "cell_type": "markdown",
   "metadata": {},
   "source": [
    "* *Подготовьте выборки для обучения моделей.*\n",
    "* *Обучите разные модели, одна из которых — LightGBM, как минимум одна — не бустинг. Для каждой модели попробуйте разные гиперпараметры.*\n",
    "\n",
    "\n",
    "* *Для оценки качества моделей применяйте метрику RMSE.*\n",
    "* *Значение метрики RMSE должно быть меньше 2500.*"
   ]
  },
  {
   "cell_type": "code",
   "execution_count": 19,
   "metadata": {},
   "outputs": [],
   "source": [
    "df_test = end_df"
   ]
  },
  {
   "cell_type": "code",
   "execution_count": 20,
   "metadata": {},
   "outputs": [],
   "source": [
    "rev02_df = end_df"
   ]
  },
  {
   "cell_type": "markdown",
   "metadata": {},
   "source": [
    "### REV02 Альтернативный способ подготовки данных и обучения модели"
   ]
  },
  {
   "cell_type": "code",
   "execution_count": 21,
   "metadata": {},
   "outputs": [],
   "source": [
    "rev02_target = rev02_df['Price']\n",
    "rev02_features = rev02_df.drop('Price', axis=1)\n"
   ]
  },
  {
   "cell_type": "code",
   "execution_count": 22,
   "metadata": {},
   "outputs": [],
   "source": [
    "rev02_features_train, rev02_features_test, rev02_target_train, rev02_target_test = train_test_split(\n",
    "    rev02_features, rev02_target, test_size=0.25, random_state=12345)"
   ]
  },
  {
   "cell_type": "code",
   "execution_count": 23,
   "metadata": {},
   "outputs": [
    {
     "name": "stdout",
     "output_type": "stream",
     "text": [
      "(247320, 9) \n",
      "\n"
     ]
    },
    {
     "data": {
      "text/html": [
       "<div>\n",
       "<style scoped>\n",
       "    .dataframe tbody tr th:only-of-type {\n",
       "        vertical-align: middle;\n",
       "    }\n",
       "\n",
       "    .dataframe tbody tr th {\n",
       "        vertical-align: top;\n",
       "    }\n",
       "\n",
       "    .dataframe thead th {\n",
       "        text-align: right;\n",
       "    }\n",
       "</style>\n",
       "<table border=\"1\" class=\"dataframe\">\n",
       "  <thead>\n",
       "    <tr style=\"text-align: right;\">\n",
       "      <th></th>\n",
       "      <th>VehicleType</th>\n",
       "      <th>RegistrationYear</th>\n",
       "      <th>Gearbox</th>\n",
       "      <th>Power</th>\n",
       "      <th>Model</th>\n",
       "      <th>Kilometer</th>\n",
       "      <th>FuelType</th>\n",
       "      <th>Brand</th>\n",
       "      <th>NotRepaired</th>\n",
       "    </tr>\n",
       "  </thead>\n",
       "  <tbody>\n",
       "    <tr>\n",
       "      <th>92955</th>\n",
       "      <td>coupe</td>\n",
       "      <td>1999</td>\n",
       "      <td>manual</td>\n",
       "      <td>107</td>\n",
       "      <td>megane</td>\n",
       "      <td>150000</td>\n",
       "      <td>petrol</td>\n",
       "      <td>renault</td>\n",
       "      <td>no</td>\n",
       "    </tr>\n",
       "    <tr>\n",
       "      <th>8833</th>\n",
       "      <td>small</td>\n",
       "      <td>2005</td>\n",
       "      <td>manual</td>\n",
       "      <td>140</td>\n",
       "      <td>a3</td>\n",
       "      <td>150000</td>\n",
       "      <td>gasoline</td>\n",
       "      <td>audi</td>\n",
       "      <td>yes</td>\n",
       "    </tr>\n",
       "    <tr>\n",
       "      <th>124632</th>\n",
       "      <td>sedan</td>\n",
       "      <td>2005</td>\n",
       "      <td>manual</td>\n",
       "      <td>75</td>\n",
       "      <td>golf</td>\n",
       "      <td>100000</td>\n",
       "      <td>petrol</td>\n",
       "      <td>volkswagen</td>\n",
       "      <td>no</td>\n",
       "    </tr>\n",
       "    <tr>\n",
       "      <th>233625</th>\n",
       "      <td>wagon</td>\n",
       "      <td>1997</td>\n",
       "      <td>manual</td>\n",
       "      <td>184</td>\n",
       "      <td>5er</td>\n",
       "      <td>150000</td>\n",
       "      <td>petrol</td>\n",
       "      <td>bmw</td>\n",
       "      <td>yes</td>\n",
       "    </tr>\n",
       "    <tr>\n",
       "      <th>272265</th>\n",
       "      <td>wagon</td>\n",
       "      <td>2007</td>\n",
       "      <td>manual</td>\n",
       "      <td>143</td>\n",
       "      <td>6_reihe</td>\n",
       "      <td>150000</td>\n",
       "      <td>gasoline</td>\n",
       "      <td>mazda</td>\n",
       "      <td>no</td>\n",
       "    </tr>\n",
       "    <tr>\n",
       "      <th>...</th>\n",
       "      <td>...</td>\n",
       "      <td>...</td>\n",
       "      <td>...</td>\n",
       "      <td>...</td>\n",
       "      <td>...</td>\n",
       "      <td>...</td>\n",
       "      <td>...</td>\n",
       "      <td>...</td>\n",
       "      <td>...</td>\n",
       "    </tr>\n",
       "    <tr>\n",
       "      <th>158838</th>\n",
       "      <td>wagon</td>\n",
       "      <td>1995</td>\n",
       "      <td>auto</td>\n",
       "      <td>150</td>\n",
       "      <td>e_klasse</td>\n",
       "      <td>150000</td>\n",
       "      <td>petrol</td>\n",
       "      <td>mercedes_benz</td>\n",
       "      <td>yes</td>\n",
       "    </tr>\n",
       "    <tr>\n",
       "      <th>47873</th>\n",
       "      <td>sedan</td>\n",
       "      <td>1991</td>\n",
       "      <td>manual</td>\n",
       "      <td>54</td>\n",
       "      <td>golf</td>\n",
       "      <td>150000</td>\n",
       "      <td>petrol</td>\n",
       "      <td>volkswagen</td>\n",
       "      <td>no</td>\n",
       "    </tr>\n",
       "    <tr>\n",
       "      <th>86398</th>\n",
       "      <td>wagon</td>\n",
       "      <td>2011</td>\n",
       "      <td>manual</td>\n",
       "      <td>111</td>\n",
       "      <td>3_reihe</td>\n",
       "      <td>90000</td>\n",
       "      <td>gasoline</td>\n",
       "      <td>peugeot</td>\n",
       "      <td>yes</td>\n",
       "    </tr>\n",
       "    <tr>\n",
       "      <th>77285</th>\n",
       "      <td>wagon</td>\n",
       "      <td>2000</td>\n",
       "      <td>manual</td>\n",
       "      <td>101</td>\n",
       "      <td>passat</td>\n",
       "      <td>125000</td>\n",
       "      <td>petrol</td>\n",
       "      <td>volkswagen</td>\n",
       "      <td>no</td>\n",
       "    </tr>\n",
       "    <tr>\n",
       "      <th>217570</th>\n",
       "      <td>wagon</td>\n",
       "      <td>2006</td>\n",
       "      <td>manual</td>\n",
       "      <td>131</td>\n",
       "      <td>megane</td>\n",
       "      <td>150000</td>\n",
       "      <td>gasoline</td>\n",
       "      <td>renault</td>\n",
       "      <td>yes</td>\n",
       "    </tr>\n",
       "  </tbody>\n",
       "</table>\n",
       "<p>247320 rows × 9 columns</p>\n",
       "</div>"
      ],
      "text/plain": [
       "       VehicleType  RegistrationYear Gearbox  Power     Model  Kilometer  \\\n",
       "92955        coupe              1999  manual    107    megane     150000   \n",
       "8833         small              2005  manual    140        a3     150000   \n",
       "124632       sedan              2005  manual     75      golf     100000   \n",
       "233625       wagon              1997  manual    184       5er     150000   \n",
       "272265       wagon              2007  manual    143   6_reihe     150000   \n",
       "...            ...               ...     ...    ...       ...        ...   \n",
       "158838       wagon              1995    auto    150  e_klasse     150000   \n",
       "47873        sedan              1991  manual     54      golf     150000   \n",
       "86398        wagon              2011  manual    111   3_reihe      90000   \n",
       "77285        wagon              2000  manual    101    passat     125000   \n",
       "217570       wagon              2006  manual    131    megane     150000   \n",
       "\n",
       "        FuelType          Brand NotRepaired  \n",
       "92955     petrol        renault          no  \n",
       "8833    gasoline           audi         yes  \n",
       "124632    petrol     volkswagen          no  \n",
       "233625    petrol            bmw         yes  \n",
       "272265  gasoline          mazda          no  \n",
       "...          ...            ...         ...  \n",
       "158838    petrol  mercedes_benz         yes  \n",
       "47873     petrol     volkswagen          no  \n",
       "86398   gasoline        peugeot         yes  \n",
       "77285     petrol     volkswagen          no  \n",
       "217570  gasoline        renault         yes  \n",
       "\n",
       "[247320 rows x 9 columns]"
      ]
     },
     "metadata": {},
     "output_type": "display_data"
    }
   ],
   "source": [
    "print(rev02_features_train.shape, '\\n')\n",
    "display(rev02_features_train)"
   ]
  },
  {
   "cell_type": "code",
   "execution_count": 24,
   "metadata": {},
   "outputs": [
    {
     "name": "stdout",
     "output_type": "stream",
     "text": [
      "(247320, 307) \n",
      "\n"
     ]
    },
    {
     "data": {
      "text/html": [
       "<div>\n",
       "<style scoped>\n",
       "    .dataframe tbody tr th:only-of-type {\n",
       "        vertical-align: middle;\n",
       "    }\n",
       "\n",
       "    .dataframe tbody tr th {\n",
       "        vertical-align: top;\n",
       "    }\n",
       "\n",
       "    .dataframe thead th {\n",
       "        text-align: right;\n",
       "    }\n",
       "</style>\n",
       "<table border=\"1\" class=\"dataframe\">\n",
       "  <thead>\n",
       "    <tr style=\"text-align: right;\">\n",
       "      <th></th>\n",
       "      <th>RegistrationYear</th>\n",
       "      <th>Power</th>\n",
       "      <th>Kilometer</th>\n",
       "      <th>VehicleType_convertible</th>\n",
       "      <th>VehicleType_coupe</th>\n",
       "      <th>VehicleType_other</th>\n",
       "      <th>VehicleType_sedan</th>\n",
       "      <th>VehicleType_small</th>\n",
       "      <th>VehicleType_suv</th>\n",
       "      <th>VehicleType_wagon</th>\n",
       "      <th>...</th>\n",
       "      <th>Brand_skoda</th>\n",
       "      <th>Brand_smart</th>\n",
       "      <th>Brand_sonstige_autos</th>\n",
       "      <th>Brand_subaru</th>\n",
       "      <th>Brand_suzuki</th>\n",
       "      <th>Brand_toyota</th>\n",
       "      <th>Brand_trabant</th>\n",
       "      <th>Brand_volkswagen</th>\n",
       "      <th>Brand_volvo</th>\n",
       "      <th>NotRepaired_yes</th>\n",
       "    </tr>\n",
       "  </thead>\n",
       "  <tbody>\n",
       "    <tr>\n",
       "      <th>92955</th>\n",
       "      <td>1999</td>\n",
       "      <td>107</td>\n",
       "      <td>150000</td>\n",
       "      <td>0</td>\n",
       "      <td>1</td>\n",
       "      <td>0</td>\n",
       "      <td>0</td>\n",
       "      <td>0</td>\n",
       "      <td>0</td>\n",
       "      <td>0</td>\n",
       "      <td>...</td>\n",
       "      <td>0</td>\n",
       "      <td>0</td>\n",
       "      <td>0</td>\n",
       "      <td>0</td>\n",
       "      <td>0</td>\n",
       "      <td>0</td>\n",
       "      <td>0</td>\n",
       "      <td>0</td>\n",
       "      <td>0</td>\n",
       "      <td>0</td>\n",
       "    </tr>\n",
       "    <tr>\n",
       "      <th>8833</th>\n",
       "      <td>2005</td>\n",
       "      <td>140</td>\n",
       "      <td>150000</td>\n",
       "      <td>0</td>\n",
       "      <td>0</td>\n",
       "      <td>0</td>\n",
       "      <td>0</td>\n",
       "      <td>1</td>\n",
       "      <td>0</td>\n",
       "      <td>0</td>\n",
       "      <td>...</td>\n",
       "      <td>0</td>\n",
       "      <td>0</td>\n",
       "      <td>0</td>\n",
       "      <td>0</td>\n",
       "      <td>0</td>\n",
       "      <td>0</td>\n",
       "      <td>0</td>\n",
       "      <td>0</td>\n",
       "      <td>0</td>\n",
       "      <td>1</td>\n",
       "    </tr>\n",
       "    <tr>\n",
       "      <th>124632</th>\n",
       "      <td>2005</td>\n",
       "      <td>75</td>\n",
       "      <td>100000</td>\n",
       "      <td>0</td>\n",
       "      <td>0</td>\n",
       "      <td>0</td>\n",
       "      <td>1</td>\n",
       "      <td>0</td>\n",
       "      <td>0</td>\n",
       "      <td>0</td>\n",
       "      <td>...</td>\n",
       "      <td>0</td>\n",
       "      <td>0</td>\n",
       "      <td>0</td>\n",
       "      <td>0</td>\n",
       "      <td>0</td>\n",
       "      <td>0</td>\n",
       "      <td>0</td>\n",
       "      <td>1</td>\n",
       "      <td>0</td>\n",
       "      <td>0</td>\n",
       "    </tr>\n",
       "    <tr>\n",
       "      <th>233625</th>\n",
       "      <td>1997</td>\n",
       "      <td>184</td>\n",
       "      <td>150000</td>\n",
       "      <td>0</td>\n",
       "      <td>0</td>\n",
       "      <td>0</td>\n",
       "      <td>0</td>\n",
       "      <td>0</td>\n",
       "      <td>0</td>\n",
       "      <td>1</td>\n",
       "      <td>...</td>\n",
       "      <td>0</td>\n",
       "      <td>0</td>\n",
       "      <td>0</td>\n",
       "      <td>0</td>\n",
       "      <td>0</td>\n",
       "      <td>0</td>\n",
       "      <td>0</td>\n",
       "      <td>0</td>\n",
       "      <td>0</td>\n",
       "      <td>1</td>\n",
       "    </tr>\n",
       "    <tr>\n",
       "      <th>272265</th>\n",
       "      <td>2007</td>\n",
       "      <td>143</td>\n",
       "      <td>150000</td>\n",
       "      <td>0</td>\n",
       "      <td>0</td>\n",
       "      <td>0</td>\n",
       "      <td>0</td>\n",
       "      <td>0</td>\n",
       "      <td>0</td>\n",
       "      <td>1</td>\n",
       "      <td>...</td>\n",
       "      <td>0</td>\n",
       "      <td>0</td>\n",
       "      <td>0</td>\n",
       "      <td>0</td>\n",
       "      <td>0</td>\n",
       "      <td>0</td>\n",
       "      <td>0</td>\n",
       "      <td>0</td>\n",
       "      <td>0</td>\n",
       "      <td>0</td>\n",
       "    </tr>\n",
       "    <tr>\n",
       "      <th>...</th>\n",
       "      <td>...</td>\n",
       "      <td>...</td>\n",
       "      <td>...</td>\n",
       "      <td>...</td>\n",
       "      <td>...</td>\n",
       "      <td>...</td>\n",
       "      <td>...</td>\n",
       "      <td>...</td>\n",
       "      <td>...</td>\n",
       "      <td>...</td>\n",
       "      <td>...</td>\n",
       "      <td>...</td>\n",
       "      <td>...</td>\n",
       "      <td>...</td>\n",
       "      <td>...</td>\n",
       "      <td>...</td>\n",
       "      <td>...</td>\n",
       "      <td>...</td>\n",
       "      <td>...</td>\n",
       "      <td>...</td>\n",
       "      <td>...</td>\n",
       "    </tr>\n",
       "    <tr>\n",
       "      <th>158838</th>\n",
       "      <td>1995</td>\n",
       "      <td>150</td>\n",
       "      <td>150000</td>\n",
       "      <td>0</td>\n",
       "      <td>0</td>\n",
       "      <td>0</td>\n",
       "      <td>0</td>\n",
       "      <td>0</td>\n",
       "      <td>0</td>\n",
       "      <td>1</td>\n",
       "      <td>...</td>\n",
       "      <td>0</td>\n",
       "      <td>0</td>\n",
       "      <td>0</td>\n",
       "      <td>0</td>\n",
       "      <td>0</td>\n",
       "      <td>0</td>\n",
       "      <td>0</td>\n",
       "      <td>0</td>\n",
       "      <td>0</td>\n",
       "      <td>1</td>\n",
       "    </tr>\n",
       "    <tr>\n",
       "      <th>47873</th>\n",
       "      <td>1991</td>\n",
       "      <td>54</td>\n",
       "      <td>150000</td>\n",
       "      <td>0</td>\n",
       "      <td>0</td>\n",
       "      <td>0</td>\n",
       "      <td>1</td>\n",
       "      <td>0</td>\n",
       "      <td>0</td>\n",
       "      <td>0</td>\n",
       "      <td>...</td>\n",
       "      <td>0</td>\n",
       "      <td>0</td>\n",
       "      <td>0</td>\n",
       "      <td>0</td>\n",
       "      <td>0</td>\n",
       "      <td>0</td>\n",
       "      <td>0</td>\n",
       "      <td>1</td>\n",
       "      <td>0</td>\n",
       "      <td>0</td>\n",
       "    </tr>\n",
       "    <tr>\n",
       "      <th>86398</th>\n",
       "      <td>2011</td>\n",
       "      <td>111</td>\n",
       "      <td>90000</td>\n",
       "      <td>0</td>\n",
       "      <td>0</td>\n",
       "      <td>0</td>\n",
       "      <td>0</td>\n",
       "      <td>0</td>\n",
       "      <td>0</td>\n",
       "      <td>1</td>\n",
       "      <td>...</td>\n",
       "      <td>0</td>\n",
       "      <td>0</td>\n",
       "      <td>0</td>\n",
       "      <td>0</td>\n",
       "      <td>0</td>\n",
       "      <td>0</td>\n",
       "      <td>0</td>\n",
       "      <td>0</td>\n",
       "      <td>0</td>\n",
       "      <td>1</td>\n",
       "    </tr>\n",
       "    <tr>\n",
       "      <th>77285</th>\n",
       "      <td>2000</td>\n",
       "      <td>101</td>\n",
       "      <td>125000</td>\n",
       "      <td>0</td>\n",
       "      <td>0</td>\n",
       "      <td>0</td>\n",
       "      <td>0</td>\n",
       "      <td>0</td>\n",
       "      <td>0</td>\n",
       "      <td>1</td>\n",
       "      <td>...</td>\n",
       "      <td>0</td>\n",
       "      <td>0</td>\n",
       "      <td>0</td>\n",
       "      <td>0</td>\n",
       "      <td>0</td>\n",
       "      <td>0</td>\n",
       "      <td>0</td>\n",
       "      <td>1</td>\n",
       "      <td>0</td>\n",
       "      <td>0</td>\n",
       "    </tr>\n",
       "    <tr>\n",
       "      <th>217570</th>\n",
       "      <td>2006</td>\n",
       "      <td>131</td>\n",
       "      <td>150000</td>\n",
       "      <td>0</td>\n",
       "      <td>0</td>\n",
       "      <td>0</td>\n",
       "      <td>0</td>\n",
       "      <td>0</td>\n",
       "      <td>0</td>\n",
       "      <td>1</td>\n",
       "      <td>...</td>\n",
       "      <td>0</td>\n",
       "      <td>0</td>\n",
       "      <td>0</td>\n",
       "      <td>0</td>\n",
       "      <td>0</td>\n",
       "      <td>0</td>\n",
       "      <td>0</td>\n",
       "      <td>0</td>\n",
       "      <td>0</td>\n",
       "      <td>1</td>\n",
       "    </tr>\n",
       "  </tbody>\n",
       "</table>\n",
       "<p>247320 rows × 307 columns</p>\n",
       "</div>"
      ],
      "text/plain": [
       "        RegistrationYear  Power  Kilometer  VehicleType_convertible  \\\n",
       "92955               1999    107     150000                        0   \n",
       "8833                2005    140     150000                        0   \n",
       "124632              2005     75     100000                        0   \n",
       "233625              1997    184     150000                        0   \n",
       "272265              2007    143     150000                        0   \n",
       "...                  ...    ...        ...                      ...   \n",
       "158838              1995    150     150000                        0   \n",
       "47873               1991     54     150000                        0   \n",
       "86398               2011    111      90000                        0   \n",
       "77285               2000    101     125000                        0   \n",
       "217570              2006    131     150000                        0   \n",
       "\n",
       "        VehicleType_coupe  VehicleType_other  VehicleType_sedan  \\\n",
       "92955                   1                  0                  0   \n",
       "8833                    0                  0                  0   \n",
       "124632                  0                  0                  1   \n",
       "233625                  0                  0                  0   \n",
       "272265                  0                  0                  0   \n",
       "...                   ...                ...                ...   \n",
       "158838                  0                  0                  0   \n",
       "47873                   0                  0                  1   \n",
       "86398                   0                  0                  0   \n",
       "77285                   0                  0                  0   \n",
       "217570                  0                  0                  0   \n",
       "\n",
       "        VehicleType_small  VehicleType_suv  VehicleType_wagon  ...  \\\n",
       "92955                   0                0                  0  ...   \n",
       "8833                    1                0                  0  ...   \n",
       "124632                  0                0                  0  ...   \n",
       "233625                  0                0                  1  ...   \n",
       "272265                  0                0                  1  ...   \n",
       "...                   ...              ...                ...  ...   \n",
       "158838                  0                0                  1  ...   \n",
       "47873                   0                0                  0  ...   \n",
       "86398                   0                0                  1  ...   \n",
       "77285                   0                0                  1  ...   \n",
       "217570                  0                0                  1  ...   \n",
       "\n",
       "        Brand_skoda  Brand_smart  Brand_sonstige_autos  Brand_subaru  \\\n",
       "92955             0            0                     0             0   \n",
       "8833              0            0                     0             0   \n",
       "124632            0            0                     0             0   \n",
       "233625            0            0                     0             0   \n",
       "272265            0            0                     0             0   \n",
       "...             ...          ...                   ...           ...   \n",
       "158838            0            0                     0             0   \n",
       "47873             0            0                     0             0   \n",
       "86398             0            0                     0             0   \n",
       "77285             0            0                     0             0   \n",
       "217570            0            0                     0             0   \n",
       "\n",
       "        Brand_suzuki  Brand_toyota  Brand_trabant  Brand_volkswagen  \\\n",
       "92955              0             0              0                 0   \n",
       "8833               0             0              0                 0   \n",
       "124632             0             0              0                 1   \n",
       "233625             0             0              0                 0   \n",
       "272265             0             0              0                 0   \n",
       "...              ...           ...            ...               ...   \n",
       "158838             0             0              0                 0   \n",
       "47873              0             0              0                 1   \n",
       "86398              0             0              0                 0   \n",
       "77285              0             0              0                 1   \n",
       "217570             0             0              0                 0   \n",
       "\n",
       "        Brand_volvo  NotRepaired_yes  \n",
       "92955             0                0  \n",
       "8833              0                1  \n",
       "124632            0                0  \n",
       "233625            0                1  \n",
       "272265            0                0  \n",
       "...             ...              ...  \n",
       "158838            0                1  \n",
       "47873             0                0  \n",
       "86398             0                1  \n",
       "77285             0                0  \n",
       "217570            0                1  \n",
       "\n",
       "[247320 rows x 307 columns]"
      ]
     },
     "metadata": {},
     "output_type": "display_data"
    }
   ],
   "source": [
    "# Прямое кодирование для линейных функций \n",
    "\n",
    "rev02_features_train_OHE = pd.get_dummies(rev02_features_train, drop_first=True)\n",
    "rev02_features_test_OHE = pd.get_dummies(rev02_features_test, drop_first=True)\n",
    "#rev02_target_train_OHE = pd.get_dummies(rev02_target_train, drop_first=True)\n",
    "#rev02_target_test_OHE = pd.get_dummies(rev02_target_test, drop_first=True)\n",
    "\n",
    "print(rev02_features_train_OHE.shape, '\\n')\n",
    "display(rev02_features_train_OHE)\n",
    "\n",
    "#print(rev02_target_train_OHE.shape, '\\n')\n",
    "#display(rev02_target_train_OHE, '\\n')"
   ]
  },
  {
   "cell_type": "code",
   "execution_count": 25,
   "metadata": {
    "scrolled": false
   },
   "outputs": [
    {
     "name": "stdout",
     "output_type": "stream",
     "text": [
      "(247320, 9) \n",
      "\n"
     ]
    },
    {
     "data": {
      "text/html": [
       "<div>\n",
       "<style scoped>\n",
       "    .dataframe tbody tr th:only-of-type {\n",
       "        vertical-align: middle;\n",
       "    }\n",
       "\n",
       "    .dataframe tbody tr th {\n",
       "        vertical-align: top;\n",
       "    }\n",
       "\n",
       "    .dataframe thead th {\n",
       "        text-align: right;\n",
       "    }\n",
       "</style>\n",
       "<table border=\"1\" class=\"dataframe\">\n",
       "  <thead>\n",
       "    <tr style=\"text-align: right;\">\n",
       "      <th></th>\n",
       "      <th>VehicleType</th>\n",
       "      <th>RegistrationYear</th>\n",
       "      <th>Gearbox</th>\n",
       "      <th>Power</th>\n",
       "      <th>Model</th>\n",
       "      <th>Kilometer</th>\n",
       "      <th>FuelType</th>\n",
       "      <th>Brand</th>\n",
       "      <th>NotRepaired</th>\n",
       "    </tr>\n",
       "  </thead>\n",
       "  <tbody>\n",
       "    <tr>\n",
       "      <th>0</th>\n",
       "      <td>2.0</td>\n",
       "      <td>73.0</td>\n",
       "      <td>1.0</td>\n",
       "      <td>106.0</td>\n",
       "      <td>149.0</td>\n",
       "      <td>12.0</td>\n",
       "      <td>6.0</td>\n",
       "      <td>27.0</td>\n",
       "      <td>0.0</td>\n",
       "    </tr>\n",
       "    <tr>\n",
       "      <th>1</th>\n",
       "      <td>5.0</td>\n",
       "      <td>79.0</td>\n",
       "      <td>1.0</td>\n",
       "      <td>139.0</td>\n",
       "      <td>28.0</td>\n",
       "      <td>12.0</td>\n",
       "      <td>2.0</td>\n",
       "      <td>1.0</td>\n",
       "      <td>1.0</td>\n",
       "    </tr>\n",
       "    <tr>\n",
       "      <th>2</th>\n",
       "      <td>4.0</td>\n",
       "      <td>79.0</td>\n",
       "      <td>1.0</td>\n",
       "      <td>74.0</td>\n",
       "      <td>116.0</td>\n",
       "      <td>10.0</td>\n",
       "      <td>6.0</td>\n",
       "      <td>38.0</td>\n",
       "      <td>0.0</td>\n",
       "    </tr>\n",
       "    <tr>\n",
       "      <th>3</th>\n",
       "      <td>7.0</td>\n",
       "      <td>71.0</td>\n",
       "      <td>1.0</td>\n",
       "      <td>183.0</td>\n",
       "      <td>15.0</td>\n",
       "      <td>12.0</td>\n",
       "      <td>6.0</td>\n",
       "      <td>2.0</td>\n",
       "      <td>1.0</td>\n",
       "    </tr>\n",
       "    <tr>\n",
       "      <th>4</th>\n",
       "      <td>7.0</td>\n",
       "      <td>81.0</td>\n",
       "      <td>1.0</td>\n",
       "      <td>142.0</td>\n",
       "      <td>17.0</td>\n",
       "      <td>12.0</td>\n",
       "      <td>2.0</td>\n",
       "      <td>19.0</td>\n",
       "      <td>0.0</td>\n",
       "    </tr>\n",
       "    <tr>\n",
       "      <th>...</th>\n",
       "      <td>...</td>\n",
       "      <td>...</td>\n",
       "      <td>...</td>\n",
       "      <td>...</td>\n",
       "      <td>...</td>\n",
       "      <td>...</td>\n",
       "      <td>...</td>\n",
       "      <td>...</td>\n",
       "      <td>...</td>\n",
       "    </tr>\n",
       "    <tr>\n",
       "      <th>247315</th>\n",
       "      <td>7.0</td>\n",
       "      <td>69.0</td>\n",
       "      <td>0.0</td>\n",
       "      <td>149.0</td>\n",
       "      <td>95.0</td>\n",
       "      <td>12.0</td>\n",
       "      <td>6.0</td>\n",
       "      <td>20.0</td>\n",
       "      <td>1.0</td>\n",
       "    </tr>\n",
       "    <tr>\n",
       "      <th>247316</th>\n",
       "      <td>4.0</td>\n",
       "      <td>65.0</td>\n",
       "      <td>1.0</td>\n",
       "      <td>53.0</td>\n",
       "      <td>116.0</td>\n",
       "      <td>12.0</td>\n",
       "      <td>6.0</td>\n",
       "      <td>38.0</td>\n",
       "      <td>0.0</td>\n",
       "    </tr>\n",
       "    <tr>\n",
       "      <th>247317</th>\n",
       "      <td>7.0</td>\n",
       "      <td>85.0</td>\n",
       "      <td>1.0</td>\n",
       "      <td>110.0</td>\n",
       "      <td>10.0</td>\n",
       "      <td>9.0</td>\n",
       "      <td>2.0</td>\n",
       "      <td>25.0</td>\n",
       "      <td>1.0</td>\n",
       "    </tr>\n",
       "    <tr>\n",
       "      <th>247318</th>\n",
       "      <td>7.0</td>\n",
       "      <td>74.0</td>\n",
       "      <td>1.0</td>\n",
       "      <td>100.0</td>\n",
       "      <td>170.0</td>\n",
       "      <td>11.0</td>\n",
       "      <td>6.0</td>\n",
       "      <td>38.0</td>\n",
       "      <td>0.0</td>\n",
       "    </tr>\n",
       "    <tr>\n",
       "      <th>247319</th>\n",
       "      <td>7.0</td>\n",
       "      <td>80.0</td>\n",
       "      <td>1.0</td>\n",
       "      <td>130.0</td>\n",
       "      <td>149.0</td>\n",
       "      <td>12.0</td>\n",
       "      <td>2.0</td>\n",
       "      <td>27.0</td>\n",
       "      <td>1.0</td>\n",
       "    </tr>\n",
       "  </tbody>\n",
       "</table>\n",
       "<p>247320 rows × 9 columns</p>\n",
       "</div>"
      ],
      "text/plain": [
       "        VehicleType  RegistrationYear  Gearbox  Power  Model  Kilometer  \\\n",
       "0               2.0              73.0      1.0  106.0  149.0       12.0   \n",
       "1               5.0              79.0      1.0  139.0   28.0       12.0   \n",
       "2               4.0              79.0      1.0   74.0  116.0       10.0   \n",
       "3               7.0              71.0      1.0  183.0   15.0       12.0   \n",
       "4               7.0              81.0      1.0  142.0   17.0       12.0   \n",
       "...             ...               ...      ...    ...    ...        ...   \n",
       "247315          7.0              69.0      0.0  149.0   95.0       12.0   \n",
       "247316          4.0              65.0      1.0   53.0  116.0       12.0   \n",
       "247317          7.0              85.0      1.0  110.0   10.0        9.0   \n",
       "247318          7.0              74.0      1.0  100.0  170.0       11.0   \n",
       "247319          7.0              80.0      1.0  130.0  149.0       12.0   \n",
       "\n",
       "        FuelType  Brand  NotRepaired  \n",
       "0            6.0   27.0          0.0  \n",
       "1            2.0    1.0          1.0  \n",
       "2            6.0   38.0          0.0  \n",
       "3            6.0    2.0          1.0  \n",
       "4            2.0   19.0          0.0  \n",
       "...          ...    ...          ...  \n",
       "247315       6.0   20.0          1.0  \n",
       "247316       6.0   38.0          0.0  \n",
       "247317       2.0   25.0          1.0  \n",
       "247318       6.0   38.0          0.0  \n",
       "247319       2.0   27.0          1.0  \n",
       "\n",
       "[247320 rows x 9 columns]"
      ]
     },
     "metadata": {},
     "output_type": "display_data"
    }
   ],
   "source": [
    "# Порядковое кодирование для \"древесных\"\n",
    "encoder = OrdinalEncoder()\n",
    "\n",
    "rev02_features_train_OE = pd.DataFrame(encoder.fit_transform(rev02_features_train), columns=rev02_features_train.columns)\n",
    "rev02_features_test_OE = pd.DataFrame(encoder.fit_transform(rev02_features_test), columns=rev02_features_test.columns)\n",
    "#rev02_target_train_OE = pd.DataFrame(encoder.fit_transform(rev02_target_train), columns=rev02_target_train.columns)\n",
    "#rev02_target_test_OE = pd.DataFrame(encoder.fit_transform(rev02_target_test), columns=rev02_target_test.columns)\n",
    "\n",
    "print(rev02_features_train_OE.shape, '\\n')\n",
    "display(rev02_features_train_OE)\n",
    "\n"
   ]
  },
  {
   "cell_type": "code",
   "execution_count": 26,
   "metadata": {},
   "outputs": [
    {
     "name": "stdout",
     "output_type": "stream",
     "text": [
      "Linear Regression: -2783.624817142999\n",
      "Wall time: 15.2 s\n"
     ]
    }
   ],
   "source": [
    "%%time\n",
    "lmodel = LinearRegression()\n",
    "lmodel.fit(rev02_features_train_OHE, rev02_target_train)\n",
    "scores = cross_val_score(lmodel, rev02_features_train_OHE, rev02_target_train, cv=5, scoring='neg_root_mean_squared_error').mean()\n",
    "print(\"Linear Regression:\", scores) "
   ]
  },
  {
   "cell_type": "code",
   "execution_count": 27,
   "metadata": {},
   "outputs": [
    {
     "name": "stdout",
     "output_type": "stream",
     "text": [
      "Wall time: 50.3 ms\n"
     ]
    },
    {
     "data": {
      "text/plain": [
       "LinearRegression()"
      ]
     },
     "execution_count": 27,
     "metadata": {},
     "output_type": "execute_result"
    }
   ],
   "source": [
    "%%time\n",
    "\n",
    "\n",
    "lmodel = LinearRegression()\n",
    "lmodel.fit(rev02_features_train_OE, rev02_target_train)"
   ]
  },
  {
   "cell_type": "code",
   "execution_count": 28,
   "metadata": {},
   "outputs": [
    {
     "name": "stdout",
     "output_type": "stream",
     "text": [
      "Wall time: 4.59 ms\n"
     ]
    }
   ],
   "source": [
    "%%time\n",
    "\n",
    "preds_lmodel = lmodel.predict(rev02_features_train_OE)"
   ]
  },
  {
   "cell_type": "code",
   "execution_count": 29,
   "metadata": {},
   "outputs": [
    {
     "name": "stdout",
     "output_type": "stream",
     "text": [
      "Linear Regression: -3092.3251219909857\n",
      "Wall time: 256 ms\n"
     ]
    }
   ],
   "source": [
    "%%time\n",
    "\n",
    "\n",
    "scores = cross_val_score(lmodel, rev02_features_train_OE, rev02_target_train, cv=5, scoring='neg_root_mean_squared_error').mean()\n",
    "print(\"Linear Regression:\", scores) "
   ]
  },
  {
   "cell_type": "code",
   "execution_count": 30,
   "metadata": {},
   "outputs": [],
   "source": [
    "from sklearn.tree import DecisionTreeClassifier"
   ]
  },
  {
   "cell_type": "markdown",
   "metadata": {},
   "source": [
    "### Преобразование модели"
   ]
  },
  {
   "cell_type": "code",
   "execution_count": 31,
   "metadata": {},
   "outputs": [],
   "source": [
    "# Закодируем категориальные признаки техникой Ordinal Encoding\n",
    "\n",
    "encoder = OrdinalEncoder()\n",
    "encoder.fit(end_df) \n",
    "data_ordinal = pd.DataFrame(encoder.transform(end_df), columns=end_df.columns)\n",
    "\n",
    "data_ordinal.reset_index()\n",
    "end_df.loc[:,['Brand', 'Model']] = data_ordinal.loc[:,['Brand', 'Model']]\n",
    "end_df['Brand'] = end_df['Brand'].astype(int)\n",
    "end_df['Model'] = end_df['Model'].astype(int)"
   ]
  },
  {
   "cell_type": "markdown",
   "metadata": {},
   "source": [
    "Преобразуем категориальные признаки в численные с помощью техники прямого кодирования, или отображения (англ. One-Hot Encoding, OHE)"
   ]
  },
  {
   "cell_type": "code",
   "execution_count": 32,
   "metadata": {},
   "outputs": [],
   "source": [
    "def dum(end_df, column):\n",
    "    df = pd.get_dummies(end_df[column], prefix=column, drop_first=True)\n",
    "    end_df = end_df.drop(column, axis=1)\n",
    "    return end_df.join(df)"
   ]
  },
  {
   "cell_type": "code",
   "execution_count": 33,
   "metadata": {},
   "outputs": [],
   "source": [
    "end_df = dum(end_df, 'VehicleType')\n",
    "end_df = dum(end_df, 'Gearbox')\n",
    "end_df = dum(end_df, 'FuelType')\n",
    "end_df = dum(end_df, 'NotRepaired')"
   ]
  },
  {
   "cell_type": "code",
   "execution_count": 34,
   "metadata": {},
   "outputs": [],
   "source": [
    "#преобразуем все данные через OHE\n",
    "\n",
    "end_df = pd.get_dummies(end_df, drop_first=True)\n"
   ]
  },
  {
   "cell_type": "code",
   "execution_count": 35,
   "metadata": {},
   "outputs": [
    {
     "name": "stdout",
     "output_type": "stream",
     "text": [
      "<class 'pandas.core.frame.DataFrame'>\n",
      "RangeIndex: 329760 entries, 0 to 329759\n",
      "Data columns (total 22 columns):\n",
      " #   Column                   Non-Null Count   Dtype\n",
      "---  ------                   --------------   -----\n",
      " 0   Price                    329760 non-null  int64\n",
      " 1   RegistrationYear         329760 non-null  int64\n",
      " 2   Power                    329760 non-null  int64\n",
      " 3   Model                    329760 non-null  int32\n",
      " 4   Kilometer                329760 non-null  int64\n",
      " 5   Brand                    329760 non-null  int32\n",
      " 6   VehicleType_convertible  329760 non-null  uint8\n",
      " 7   VehicleType_coupe        329760 non-null  uint8\n",
      " 8   VehicleType_other        329760 non-null  uint8\n",
      " 9   VehicleType_sedan        329760 non-null  uint8\n",
      " 10  VehicleType_small        329760 non-null  uint8\n",
      " 11  VehicleType_suv          329760 non-null  uint8\n",
      " 12  VehicleType_wagon        329760 non-null  uint8\n",
      " 13  Gearbox_manual           329760 non-null  uint8\n",
      " 14  Gearbox_unknown          329760 non-null  uint8\n",
      " 15  FuelType_electric        329760 non-null  uint8\n",
      " 16  FuelType_gasoline        329760 non-null  uint8\n",
      " 17  FuelType_hybrid          329760 non-null  uint8\n",
      " 18  FuelType_lpg             329760 non-null  uint8\n",
      " 19  FuelType_other           329760 non-null  uint8\n",
      " 20  FuelType_petrol          329760 non-null  uint8\n",
      " 21  NotRepaired_yes          329760 non-null  uint8\n",
      "dtypes: int32(2), int64(4), uint8(16)\n",
      "memory usage: 17.6 MB\n"
     ]
    },
    {
     "data": {
      "text/html": [
       "<div>\n",
       "<style scoped>\n",
       "    .dataframe tbody tr th:only-of-type {\n",
       "        vertical-align: middle;\n",
       "    }\n",
       "\n",
       "    .dataframe tbody tr th {\n",
       "        vertical-align: top;\n",
       "    }\n",
       "\n",
       "    .dataframe thead th {\n",
       "        text-align: right;\n",
       "    }\n",
       "</style>\n",
       "<table border=\"1\" class=\"dataframe\">\n",
       "  <thead>\n",
       "    <tr style=\"text-align: right;\">\n",
       "      <th></th>\n",
       "      <th>Price</th>\n",
       "      <th>RegistrationYear</th>\n",
       "      <th>Power</th>\n",
       "      <th>Model</th>\n",
       "      <th>Kilometer</th>\n",
       "      <th>Brand</th>\n",
       "      <th>VehicleType_convertible</th>\n",
       "      <th>VehicleType_coupe</th>\n",
       "      <th>VehicleType_other</th>\n",
       "      <th>VehicleType_sedan</th>\n",
       "      <th>...</th>\n",
       "      <th>VehicleType_wagon</th>\n",
       "      <th>Gearbox_manual</th>\n",
       "      <th>Gearbox_unknown</th>\n",
       "      <th>FuelType_electric</th>\n",
       "      <th>FuelType_gasoline</th>\n",
       "      <th>FuelType_hybrid</th>\n",
       "      <th>FuelType_lpg</th>\n",
       "      <th>FuelType_other</th>\n",
       "      <th>FuelType_petrol</th>\n",
       "      <th>NotRepaired_yes</th>\n",
       "    </tr>\n",
       "  </thead>\n",
       "  <tbody>\n",
       "    <tr>\n",
       "      <th>count</th>\n",
       "      <td>329760.000000</td>\n",
       "      <td>329760.000000</td>\n",
       "      <td>329760.000000</td>\n",
       "      <td>329760.000000</td>\n",
       "      <td>329760.000000</td>\n",
       "      <td>329760.000000</td>\n",
       "      <td>329760.000000</td>\n",
       "      <td>329760.000000</td>\n",
       "      <td>329760.000000</td>\n",
       "      <td>329760.000000</td>\n",
       "      <td>...</td>\n",
       "      <td>329760.000000</td>\n",
       "      <td>329760.000000</td>\n",
       "      <td>329760.000000</td>\n",
       "      <td>329760.000000</td>\n",
       "      <td>329760.000000</td>\n",
       "      <td>329760.000000</td>\n",
       "      <td>329760.000000</td>\n",
       "      <td>329760.000000</td>\n",
       "      <td>329760.000000</td>\n",
       "      <td>329760.000000</td>\n",
       "    </tr>\n",
       "    <tr>\n",
       "      <th>mean</th>\n",
       "      <td>4607.036096</td>\n",
       "      <td>2002.593674</td>\n",
       "      <td>120.046843</td>\n",
       "      <td>114.392722</td>\n",
       "      <td>128206.316715</td>\n",
       "      <td>20.807794</td>\n",
       "      <td>0.060238</td>\n",
       "      <td>0.047404</td>\n",
       "      <td>0.069814</td>\n",
       "      <td>0.271109</td>\n",
       "      <td>...</td>\n",
       "      <td>0.193156</td>\n",
       "      <td>0.761636</td>\n",
       "      <td>0.047313</td>\n",
       "      <td>0.000264</td>\n",
       "      <td>0.287615</td>\n",
       "      <td>0.000667</td>\n",
       "      <td>0.015232</td>\n",
       "      <td>0.073808</td>\n",
       "      <td>0.620797</td>\n",
       "      <td>0.281559</td>\n",
       "    </tr>\n",
       "    <tr>\n",
       "      <th>std</th>\n",
       "      <td>4546.267728</td>\n",
       "      <td>6.927782</td>\n",
       "      <td>61.371297</td>\n",
       "      <td>73.369348</td>\n",
       "      <td>37524.363197</td>\n",
       "      <td>13.299661</td>\n",
       "      <td>0.237927</td>\n",
       "      <td>0.212502</td>\n",
       "      <td>0.254834</td>\n",
       "      <td>0.444533</td>\n",
       "      <td>...</td>\n",
       "      <td>0.394775</td>\n",
       "      <td>0.426084</td>\n",
       "      <td>0.212308</td>\n",
       "      <td>0.016241</td>\n",
       "      <td>0.452651</td>\n",
       "      <td>0.025821</td>\n",
       "      <td>0.122476</td>\n",
       "      <td>0.261459</td>\n",
       "      <td>0.485189</td>\n",
       "      <td>0.449760</td>\n",
       "    </tr>\n",
       "    <tr>\n",
       "      <th>min</th>\n",
       "      <td>1.000000</td>\n",
       "      <td>1910.000000</td>\n",
       "      <td>1.000000</td>\n",
       "      <td>0.000000</td>\n",
       "      <td>5000.000000</td>\n",
       "      <td>0.000000</td>\n",
       "      <td>0.000000</td>\n",
       "      <td>0.000000</td>\n",
       "      <td>0.000000</td>\n",
       "      <td>0.000000</td>\n",
       "      <td>...</td>\n",
       "      <td>0.000000</td>\n",
       "      <td>0.000000</td>\n",
       "      <td>0.000000</td>\n",
       "      <td>0.000000</td>\n",
       "      <td>0.000000</td>\n",
       "      <td>0.000000</td>\n",
       "      <td>0.000000</td>\n",
       "      <td>0.000000</td>\n",
       "      <td>0.000000</td>\n",
       "      <td>0.000000</td>\n",
       "    </tr>\n",
       "    <tr>\n",
       "      <th>25%</th>\n",
       "      <td>1200.000000</td>\n",
       "      <td>1999.000000</td>\n",
       "      <td>75.000000</td>\n",
       "      <td>42.000000</td>\n",
       "      <td>125000.000000</td>\n",
       "      <td>9.000000</td>\n",
       "      <td>0.000000</td>\n",
       "      <td>0.000000</td>\n",
       "      <td>0.000000</td>\n",
       "      <td>0.000000</td>\n",
       "      <td>...</td>\n",
       "      <td>0.000000</td>\n",
       "      <td>1.000000</td>\n",
       "      <td>0.000000</td>\n",
       "      <td>0.000000</td>\n",
       "      <td>0.000000</td>\n",
       "      <td>0.000000</td>\n",
       "      <td>0.000000</td>\n",
       "      <td>0.000000</td>\n",
       "      <td>0.000000</td>\n",
       "      <td>0.000000</td>\n",
       "    </tr>\n",
       "    <tr>\n",
       "      <th>50%</th>\n",
       "      <td>2900.000000</td>\n",
       "      <td>2003.000000</td>\n",
       "      <td>110.000000</td>\n",
       "      <td>116.000000</td>\n",
       "      <td>150000.000000</td>\n",
       "      <td>24.000000</td>\n",
       "      <td>0.000000</td>\n",
       "      <td>0.000000</td>\n",
       "      <td>0.000000</td>\n",
       "      <td>0.000000</td>\n",
       "      <td>...</td>\n",
       "      <td>0.000000</td>\n",
       "      <td>1.000000</td>\n",
       "      <td>0.000000</td>\n",
       "      <td>0.000000</td>\n",
       "      <td>0.000000</td>\n",
       "      <td>0.000000</td>\n",
       "      <td>0.000000</td>\n",
       "      <td>0.000000</td>\n",
       "      <td>1.000000</td>\n",
       "      <td>0.000000</td>\n",
       "    </tr>\n",
       "    <tr>\n",
       "      <th>75%</th>\n",
       "      <td>6600.000000</td>\n",
       "      <td>2007.000000</td>\n",
       "      <td>145.000000</td>\n",
       "      <td>170.000000</td>\n",
       "      <td>150000.000000</td>\n",
       "      <td>33.000000</td>\n",
       "      <td>0.000000</td>\n",
       "      <td>0.000000</td>\n",
       "      <td>0.000000</td>\n",
       "      <td>1.000000</td>\n",
       "      <td>...</td>\n",
       "      <td>0.000000</td>\n",
       "      <td>1.000000</td>\n",
       "      <td>0.000000</td>\n",
       "      <td>0.000000</td>\n",
       "      <td>1.000000</td>\n",
       "      <td>0.000000</td>\n",
       "      <td>0.000000</td>\n",
       "      <td>0.000000</td>\n",
       "      <td>1.000000</td>\n",
       "      <td>1.000000</td>\n",
       "    </tr>\n",
       "    <tr>\n",
       "      <th>max</th>\n",
       "      <td>20000.000000</td>\n",
       "      <td>2016.000000</td>\n",
       "      <td>2000.000000</td>\n",
       "      <td>249.000000</td>\n",
       "      <td>150000.000000</td>\n",
       "      <td>39.000000</td>\n",
       "      <td>1.000000</td>\n",
       "      <td>1.000000</td>\n",
       "      <td>1.000000</td>\n",
       "      <td>1.000000</td>\n",
       "      <td>...</td>\n",
       "      <td>1.000000</td>\n",
       "      <td>1.000000</td>\n",
       "      <td>1.000000</td>\n",
       "      <td>1.000000</td>\n",
       "      <td>1.000000</td>\n",
       "      <td>1.000000</td>\n",
       "      <td>1.000000</td>\n",
       "      <td>1.000000</td>\n",
       "      <td>1.000000</td>\n",
       "      <td>1.000000</td>\n",
       "    </tr>\n",
       "  </tbody>\n",
       "</table>\n",
       "<p>8 rows × 22 columns</p>\n",
       "</div>"
      ],
      "text/plain": [
       "               Price  RegistrationYear          Power          Model  \\\n",
       "count  329760.000000     329760.000000  329760.000000  329760.000000   \n",
       "mean     4607.036096       2002.593674     120.046843     114.392722   \n",
       "std      4546.267728          6.927782      61.371297      73.369348   \n",
       "min         1.000000       1910.000000       1.000000       0.000000   \n",
       "25%      1200.000000       1999.000000      75.000000      42.000000   \n",
       "50%      2900.000000       2003.000000     110.000000     116.000000   \n",
       "75%      6600.000000       2007.000000     145.000000     170.000000   \n",
       "max     20000.000000       2016.000000    2000.000000     249.000000   \n",
       "\n",
       "           Kilometer          Brand  VehicleType_convertible  \\\n",
       "count  329760.000000  329760.000000            329760.000000   \n",
       "mean   128206.316715      20.807794                 0.060238   \n",
       "std     37524.363197      13.299661                 0.237927   \n",
       "min      5000.000000       0.000000                 0.000000   \n",
       "25%    125000.000000       9.000000                 0.000000   \n",
       "50%    150000.000000      24.000000                 0.000000   \n",
       "75%    150000.000000      33.000000                 0.000000   \n",
       "max    150000.000000      39.000000                 1.000000   \n",
       "\n",
       "       VehicleType_coupe  VehicleType_other  VehicleType_sedan  ...  \\\n",
       "count      329760.000000      329760.000000      329760.000000  ...   \n",
       "mean            0.047404           0.069814           0.271109  ...   \n",
       "std             0.212502           0.254834           0.444533  ...   \n",
       "min             0.000000           0.000000           0.000000  ...   \n",
       "25%             0.000000           0.000000           0.000000  ...   \n",
       "50%             0.000000           0.000000           0.000000  ...   \n",
       "75%             0.000000           0.000000           1.000000  ...   \n",
       "max             1.000000           1.000000           1.000000  ...   \n",
       "\n",
       "       VehicleType_wagon  Gearbox_manual  Gearbox_unknown  FuelType_electric  \\\n",
       "count      329760.000000   329760.000000    329760.000000      329760.000000   \n",
       "mean            0.193156        0.761636         0.047313           0.000264   \n",
       "std             0.394775        0.426084         0.212308           0.016241   \n",
       "min             0.000000        0.000000         0.000000           0.000000   \n",
       "25%             0.000000        1.000000         0.000000           0.000000   \n",
       "50%             0.000000        1.000000         0.000000           0.000000   \n",
       "75%             0.000000        1.000000         0.000000           0.000000   \n",
       "max             1.000000        1.000000         1.000000           1.000000   \n",
       "\n",
       "       FuelType_gasoline  FuelType_hybrid   FuelType_lpg  FuelType_other  \\\n",
       "count      329760.000000    329760.000000  329760.000000   329760.000000   \n",
       "mean            0.287615         0.000667       0.015232        0.073808   \n",
       "std             0.452651         0.025821       0.122476        0.261459   \n",
       "min             0.000000         0.000000       0.000000        0.000000   \n",
       "25%             0.000000         0.000000       0.000000        0.000000   \n",
       "50%             0.000000         0.000000       0.000000        0.000000   \n",
       "75%             1.000000         0.000000       0.000000        0.000000   \n",
       "max             1.000000         1.000000       1.000000        1.000000   \n",
       "\n",
       "       FuelType_petrol  NotRepaired_yes  \n",
       "count    329760.000000    329760.000000  \n",
       "mean          0.620797         0.281559  \n",
       "std           0.485189         0.449760  \n",
       "min           0.000000         0.000000  \n",
       "25%           0.000000         0.000000  \n",
       "50%           1.000000         0.000000  \n",
       "75%           1.000000         1.000000  \n",
       "max           1.000000         1.000000  \n",
       "\n",
       "[8 rows x 22 columns]"
      ]
     },
     "metadata": {},
     "output_type": "display_data"
    },
    {
     "data": {
      "text/html": [
       "<div>\n",
       "<style scoped>\n",
       "    .dataframe tbody tr th:only-of-type {\n",
       "        vertical-align: middle;\n",
       "    }\n",
       "\n",
       "    .dataframe tbody tr th {\n",
       "        vertical-align: top;\n",
       "    }\n",
       "\n",
       "    .dataframe thead th {\n",
       "        text-align: right;\n",
       "    }\n",
       "</style>\n",
       "<table border=\"1\" class=\"dataframe\">\n",
       "  <thead>\n",
       "    <tr style=\"text-align: right;\">\n",
       "      <th></th>\n",
       "      <th>Price</th>\n",
       "      <th>RegistrationYear</th>\n",
       "      <th>Power</th>\n",
       "      <th>Model</th>\n",
       "      <th>Kilometer</th>\n",
       "      <th>Brand</th>\n",
       "      <th>VehicleType_convertible</th>\n",
       "      <th>VehicleType_coupe</th>\n",
       "      <th>VehicleType_other</th>\n",
       "      <th>VehicleType_sedan</th>\n",
       "      <th>...</th>\n",
       "      <th>VehicleType_wagon</th>\n",
       "      <th>Gearbox_manual</th>\n",
       "      <th>Gearbox_unknown</th>\n",
       "      <th>FuelType_electric</th>\n",
       "      <th>FuelType_gasoline</th>\n",
       "      <th>FuelType_hybrid</th>\n",
       "      <th>FuelType_lpg</th>\n",
       "      <th>FuelType_other</th>\n",
       "      <th>FuelType_petrol</th>\n",
       "      <th>NotRepaired_yes</th>\n",
       "    </tr>\n",
       "  </thead>\n",
       "  <tbody>\n",
       "    <tr>\n",
       "      <th>0</th>\n",
       "      <td>480</td>\n",
       "      <td>1993</td>\n",
       "      <td>101</td>\n",
       "      <td>116</td>\n",
       "      <td>150000</td>\n",
       "      <td>38</td>\n",
       "      <td>0</td>\n",
       "      <td>0</td>\n",
       "      <td>1</td>\n",
       "      <td>0</td>\n",
       "      <td>...</td>\n",
       "      <td>0</td>\n",
       "      <td>1</td>\n",
       "      <td>0</td>\n",
       "      <td>0</td>\n",
       "      <td>0</td>\n",
       "      <td>0</td>\n",
       "      <td>0</td>\n",
       "      <td>0</td>\n",
       "      <td>1</td>\n",
       "      <td>1</td>\n",
       "    </tr>\n",
       "    <tr>\n",
       "      <th>1</th>\n",
       "      <td>18300</td>\n",
       "      <td>2011</td>\n",
       "      <td>190</td>\n",
       "      <td>227</td>\n",
       "      <td>125000</td>\n",
       "      <td>1</td>\n",
       "      <td>0</td>\n",
       "      <td>1</td>\n",
       "      <td>0</td>\n",
       "      <td>0</td>\n",
       "      <td>...</td>\n",
       "      <td>0</td>\n",
       "      <td>1</td>\n",
       "      <td>0</td>\n",
       "      <td>0</td>\n",
       "      <td>1</td>\n",
       "      <td>0</td>\n",
       "      <td>0</td>\n",
       "      <td>0</td>\n",
       "      <td>0</td>\n",
       "      <td>1</td>\n",
       "    </tr>\n",
       "    <tr>\n",
       "      <th>2</th>\n",
       "      <td>9800</td>\n",
       "      <td>2004</td>\n",
       "      <td>163</td>\n",
       "      <td>117</td>\n",
       "      <td>125000</td>\n",
       "      <td>14</td>\n",
       "      <td>0</td>\n",
       "      <td>0</td>\n",
       "      <td>0</td>\n",
       "      <td>0</td>\n",
       "      <td>...</td>\n",
       "      <td>0</td>\n",
       "      <td>0</td>\n",
       "      <td>0</td>\n",
       "      <td>0</td>\n",
       "      <td>1</td>\n",
       "      <td>0</td>\n",
       "      <td>0</td>\n",
       "      <td>0</td>\n",
       "      <td>0</td>\n",
       "      <td>1</td>\n",
       "    </tr>\n",
       "    <tr>\n",
       "      <th>3</th>\n",
       "      <td>1500</td>\n",
       "      <td>2001</td>\n",
       "      <td>75</td>\n",
       "      <td>116</td>\n",
       "      <td>150000</td>\n",
       "      <td>38</td>\n",
       "      <td>0</td>\n",
       "      <td>0</td>\n",
       "      <td>0</td>\n",
       "      <td>0</td>\n",
       "      <td>...</td>\n",
       "      <td>0</td>\n",
       "      <td>1</td>\n",
       "      <td>0</td>\n",
       "      <td>0</td>\n",
       "      <td>0</td>\n",
       "      <td>0</td>\n",
       "      <td>0</td>\n",
       "      <td>0</td>\n",
       "      <td>1</td>\n",
       "      <td>0</td>\n",
       "    </tr>\n",
       "    <tr>\n",
       "      <th>4</th>\n",
       "      <td>3600</td>\n",
       "      <td>2008</td>\n",
       "      <td>69</td>\n",
       "      <td>101</td>\n",
       "      <td>90000</td>\n",
       "      <td>31</td>\n",
       "      <td>0</td>\n",
       "      <td>0</td>\n",
       "      <td>0</td>\n",
       "      <td>0</td>\n",
       "      <td>...</td>\n",
       "      <td>0</td>\n",
       "      <td>1</td>\n",
       "      <td>0</td>\n",
       "      <td>0</td>\n",
       "      <td>1</td>\n",
       "      <td>0</td>\n",
       "      <td>0</td>\n",
       "      <td>0</td>\n",
       "      <td>0</td>\n",
       "      <td>0</td>\n",
       "    </tr>\n",
       "  </tbody>\n",
       "</table>\n",
       "<p>5 rows × 22 columns</p>\n",
       "</div>"
      ],
      "text/plain": [
       "   Price  RegistrationYear  Power  Model  Kilometer  Brand  \\\n",
       "0    480              1993    101    116     150000     38   \n",
       "1  18300              2011    190    227     125000      1   \n",
       "2   9800              2004    163    117     125000     14   \n",
       "3   1500              2001     75    116     150000     38   \n",
       "4   3600              2008     69    101      90000     31   \n",
       "\n",
       "   VehicleType_convertible  VehicleType_coupe  VehicleType_other  \\\n",
       "0                        0                  0                  1   \n",
       "1                        0                  1                  0   \n",
       "2                        0                  0                  0   \n",
       "3                        0                  0                  0   \n",
       "4                        0                  0                  0   \n",
       "\n",
       "   VehicleType_sedan  ...  VehicleType_wagon  Gearbox_manual  Gearbox_unknown  \\\n",
       "0                  0  ...                  0               1                0   \n",
       "1                  0  ...                  0               1                0   \n",
       "2                  0  ...                  0               0                0   \n",
       "3                  0  ...                  0               1                0   \n",
       "4                  0  ...                  0               1                0   \n",
       "\n",
       "   FuelType_electric  FuelType_gasoline  FuelType_hybrid  FuelType_lpg  \\\n",
       "0                  0                  0                0             0   \n",
       "1                  0                  1                0             0   \n",
       "2                  0                  1                0             0   \n",
       "3                  0                  0                0             0   \n",
       "4                  0                  1                0             0   \n",
       "\n",
       "   FuelType_other  FuelType_petrol  NotRepaired_yes  \n",
       "0               0                1                1  \n",
       "1               0                0                1  \n",
       "2               0                0                1  \n",
       "3               0                1                0  \n",
       "4               0                0                0  \n",
       "\n",
       "[5 rows x 22 columns]"
      ]
     },
     "metadata": {},
     "output_type": "display_data"
    }
   ],
   "source": [
    "end_df.info()\n",
    "display(end_df.describe())\n",
    "display(end_df.head())"
   ]
  },
  {
   "cell_type": "markdown",
   "metadata": {},
   "source": [
    "### Подготовка обучающей выборки"
   ]
  },
  {
   "cell_type": "code",
   "execution_count": 36,
   "metadata": {},
   "outputs": [],
   "source": [
    "# Подготовка тестовой и валидационной выборки, на признаки и целевые признаки согласно заданию\n",
    "target = end_df['Price']\n",
    "features = end_df.drop('Price', axis=1)\n",
    "features_train, features_test, target_train, target_test = train_test_split(\n",
    "    features, target, test_size=0.25, random_state=12345)"
   ]
  },
  {
   "cell_type": "code",
   "execution_count": 37,
   "metadata": {},
   "outputs": [
    {
     "data": {
      "text/html": [
       "<div>\n",
       "<style scoped>\n",
       "    .dataframe tbody tr th:only-of-type {\n",
       "        vertical-align: middle;\n",
       "    }\n",
       "\n",
       "    .dataframe tbody tr th {\n",
       "        vertical-align: top;\n",
       "    }\n",
       "\n",
       "    .dataframe thead th {\n",
       "        text-align: right;\n",
       "    }\n",
       "</style>\n",
       "<table border=\"1\" class=\"dataframe\">\n",
       "  <thead>\n",
       "    <tr style=\"text-align: right;\">\n",
       "      <th></th>\n",
       "      <th>RegistrationYear</th>\n",
       "      <th>Power</th>\n",
       "      <th>Model</th>\n",
       "      <th>Kilometer</th>\n",
       "      <th>Brand</th>\n",
       "      <th>VehicleType_convertible</th>\n",
       "      <th>VehicleType_coupe</th>\n",
       "      <th>VehicleType_other</th>\n",
       "      <th>VehicleType_sedan</th>\n",
       "      <th>VehicleType_small</th>\n",
       "      <th>...</th>\n",
       "      <th>VehicleType_wagon</th>\n",
       "      <th>Gearbox_manual</th>\n",
       "      <th>Gearbox_unknown</th>\n",
       "      <th>FuelType_electric</th>\n",
       "      <th>FuelType_gasoline</th>\n",
       "      <th>FuelType_hybrid</th>\n",
       "      <th>FuelType_lpg</th>\n",
       "      <th>FuelType_other</th>\n",
       "      <th>FuelType_petrol</th>\n",
       "      <th>NotRepaired_yes</th>\n",
       "    </tr>\n",
       "  </thead>\n",
       "  <tbody>\n",
       "    <tr>\n",
       "      <th>92955</th>\n",
       "      <td>1999</td>\n",
       "      <td>107</td>\n",
       "      <td>149</td>\n",
       "      <td>150000</td>\n",
       "      <td>27</td>\n",
       "      <td>0</td>\n",
       "      <td>1</td>\n",
       "      <td>0</td>\n",
       "      <td>0</td>\n",
       "      <td>0</td>\n",
       "      <td>...</td>\n",
       "      <td>0</td>\n",
       "      <td>1</td>\n",
       "      <td>0</td>\n",
       "      <td>0</td>\n",
       "      <td>0</td>\n",
       "      <td>0</td>\n",
       "      <td>0</td>\n",
       "      <td>0</td>\n",
       "      <td>1</td>\n",
       "      <td>0</td>\n",
       "    </tr>\n",
       "    <tr>\n",
       "      <th>8833</th>\n",
       "      <td>2005</td>\n",
       "      <td>140</td>\n",
       "      <td>28</td>\n",
       "      <td>150000</td>\n",
       "      <td>1</td>\n",
       "      <td>0</td>\n",
       "      <td>0</td>\n",
       "      <td>0</td>\n",
       "      <td>0</td>\n",
       "      <td>1</td>\n",
       "      <td>...</td>\n",
       "      <td>0</td>\n",
       "      <td>1</td>\n",
       "      <td>0</td>\n",
       "      <td>0</td>\n",
       "      <td>1</td>\n",
       "      <td>0</td>\n",
       "      <td>0</td>\n",
       "      <td>0</td>\n",
       "      <td>0</td>\n",
       "      <td>1</td>\n",
       "    </tr>\n",
       "    <tr>\n",
       "      <th>124632</th>\n",
       "      <td>2005</td>\n",
       "      <td>75</td>\n",
       "      <td>116</td>\n",
       "      <td>100000</td>\n",
       "      <td>38</td>\n",
       "      <td>0</td>\n",
       "      <td>0</td>\n",
       "      <td>0</td>\n",
       "      <td>1</td>\n",
       "      <td>0</td>\n",
       "      <td>...</td>\n",
       "      <td>0</td>\n",
       "      <td>1</td>\n",
       "      <td>0</td>\n",
       "      <td>0</td>\n",
       "      <td>0</td>\n",
       "      <td>0</td>\n",
       "      <td>0</td>\n",
       "      <td>0</td>\n",
       "      <td>1</td>\n",
       "      <td>0</td>\n",
       "    </tr>\n",
       "    <tr>\n",
       "      <th>233625</th>\n",
       "      <td>1997</td>\n",
       "      <td>184</td>\n",
       "      <td>15</td>\n",
       "      <td>150000</td>\n",
       "      <td>2</td>\n",
       "      <td>0</td>\n",
       "      <td>0</td>\n",
       "      <td>0</td>\n",
       "      <td>0</td>\n",
       "      <td>0</td>\n",
       "      <td>...</td>\n",
       "      <td>1</td>\n",
       "      <td>1</td>\n",
       "      <td>0</td>\n",
       "      <td>0</td>\n",
       "      <td>0</td>\n",
       "      <td>0</td>\n",
       "      <td>0</td>\n",
       "      <td>0</td>\n",
       "      <td>1</td>\n",
       "      <td>1</td>\n",
       "    </tr>\n",
       "    <tr>\n",
       "      <th>272265</th>\n",
       "      <td>2007</td>\n",
       "      <td>143</td>\n",
       "      <td>17</td>\n",
       "      <td>150000</td>\n",
       "      <td>19</td>\n",
       "      <td>0</td>\n",
       "      <td>0</td>\n",
       "      <td>0</td>\n",
       "      <td>0</td>\n",
       "      <td>0</td>\n",
       "      <td>...</td>\n",
       "      <td>1</td>\n",
       "      <td>1</td>\n",
       "      <td>0</td>\n",
       "      <td>0</td>\n",
       "      <td>1</td>\n",
       "      <td>0</td>\n",
       "      <td>0</td>\n",
       "      <td>0</td>\n",
       "      <td>0</td>\n",
       "      <td>0</td>\n",
       "    </tr>\n",
       "    <tr>\n",
       "      <th>...</th>\n",
       "      <td>...</td>\n",
       "      <td>...</td>\n",
       "      <td>...</td>\n",
       "      <td>...</td>\n",
       "      <td>...</td>\n",
       "      <td>...</td>\n",
       "      <td>...</td>\n",
       "      <td>...</td>\n",
       "      <td>...</td>\n",
       "      <td>...</td>\n",
       "      <td>...</td>\n",
       "      <td>...</td>\n",
       "      <td>...</td>\n",
       "      <td>...</td>\n",
       "      <td>...</td>\n",
       "      <td>...</td>\n",
       "      <td>...</td>\n",
       "      <td>...</td>\n",
       "      <td>...</td>\n",
       "      <td>...</td>\n",
       "      <td>...</td>\n",
       "    </tr>\n",
       "    <tr>\n",
       "      <th>158838</th>\n",
       "      <td>1995</td>\n",
       "      <td>150</td>\n",
       "      <td>95</td>\n",
       "      <td>150000</td>\n",
       "      <td>20</td>\n",
       "      <td>0</td>\n",
       "      <td>0</td>\n",
       "      <td>0</td>\n",
       "      <td>0</td>\n",
       "      <td>0</td>\n",
       "      <td>...</td>\n",
       "      <td>1</td>\n",
       "      <td>0</td>\n",
       "      <td>0</td>\n",
       "      <td>0</td>\n",
       "      <td>0</td>\n",
       "      <td>0</td>\n",
       "      <td>0</td>\n",
       "      <td>0</td>\n",
       "      <td>1</td>\n",
       "      <td>1</td>\n",
       "    </tr>\n",
       "    <tr>\n",
       "      <th>47873</th>\n",
       "      <td>1991</td>\n",
       "      <td>54</td>\n",
       "      <td>116</td>\n",
       "      <td>150000</td>\n",
       "      <td>38</td>\n",
       "      <td>0</td>\n",
       "      <td>0</td>\n",
       "      <td>0</td>\n",
       "      <td>1</td>\n",
       "      <td>0</td>\n",
       "      <td>...</td>\n",
       "      <td>0</td>\n",
       "      <td>1</td>\n",
       "      <td>0</td>\n",
       "      <td>0</td>\n",
       "      <td>0</td>\n",
       "      <td>0</td>\n",
       "      <td>0</td>\n",
       "      <td>0</td>\n",
       "      <td>1</td>\n",
       "      <td>0</td>\n",
       "    </tr>\n",
       "    <tr>\n",
       "      <th>86398</th>\n",
       "      <td>2011</td>\n",
       "      <td>111</td>\n",
       "      <td>10</td>\n",
       "      <td>90000</td>\n",
       "      <td>25</td>\n",
       "      <td>0</td>\n",
       "      <td>0</td>\n",
       "      <td>0</td>\n",
       "      <td>0</td>\n",
       "      <td>0</td>\n",
       "      <td>...</td>\n",
       "      <td>1</td>\n",
       "      <td>1</td>\n",
       "      <td>0</td>\n",
       "      <td>0</td>\n",
       "      <td>1</td>\n",
       "      <td>0</td>\n",
       "      <td>0</td>\n",
       "      <td>0</td>\n",
       "      <td>0</td>\n",
       "      <td>1</td>\n",
       "    </tr>\n",
       "    <tr>\n",
       "      <th>77285</th>\n",
       "      <td>2000</td>\n",
       "      <td>101</td>\n",
       "      <td>170</td>\n",
       "      <td>125000</td>\n",
       "      <td>38</td>\n",
       "      <td>0</td>\n",
       "      <td>0</td>\n",
       "      <td>0</td>\n",
       "      <td>0</td>\n",
       "      <td>0</td>\n",
       "      <td>...</td>\n",
       "      <td>1</td>\n",
       "      <td>1</td>\n",
       "      <td>0</td>\n",
       "      <td>0</td>\n",
       "      <td>0</td>\n",
       "      <td>0</td>\n",
       "      <td>0</td>\n",
       "      <td>0</td>\n",
       "      <td>1</td>\n",
       "      <td>0</td>\n",
       "    </tr>\n",
       "    <tr>\n",
       "      <th>217570</th>\n",
       "      <td>2006</td>\n",
       "      <td>131</td>\n",
       "      <td>149</td>\n",
       "      <td>150000</td>\n",
       "      <td>27</td>\n",
       "      <td>0</td>\n",
       "      <td>0</td>\n",
       "      <td>0</td>\n",
       "      <td>0</td>\n",
       "      <td>0</td>\n",
       "      <td>...</td>\n",
       "      <td>1</td>\n",
       "      <td>1</td>\n",
       "      <td>0</td>\n",
       "      <td>0</td>\n",
       "      <td>1</td>\n",
       "      <td>0</td>\n",
       "      <td>0</td>\n",
       "      <td>0</td>\n",
       "      <td>0</td>\n",
       "      <td>1</td>\n",
       "    </tr>\n",
       "  </tbody>\n",
       "</table>\n",
       "<p>247320 rows × 21 columns</p>\n",
       "</div>"
      ],
      "text/plain": [
       "        RegistrationYear  Power  Model  Kilometer  Brand  \\\n",
       "92955               1999    107    149     150000     27   \n",
       "8833                2005    140     28     150000      1   \n",
       "124632              2005     75    116     100000     38   \n",
       "233625              1997    184     15     150000      2   \n",
       "272265              2007    143     17     150000     19   \n",
       "...                  ...    ...    ...        ...    ...   \n",
       "158838              1995    150     95     150000     20   \n",
       "47873               1991     54    116     150000     38   \n",
       "86398               2011    111     10      90000     25   \n",
       "77285               2000    101    170     125000     38   \n",
       "217570              2006    131    149     150000     27   \n",
       "\n",
       "        VehicleType_convertible  VehicleType_coupe  VehicleType_other  \\\n",
       "92955                         0                  1                  0   \n",
       "8833                          0                  0                  0   \n",
       "124632                        0                  0                  0   \n",
       "233625                        0                  0                  0   \n",
       "272265                        0                  0                  0   \n",
       "...                         ...                ...                ...   \n",
       "158838                        0                  0                  0   \n",
       "47873                         0                  0                  0   \n",
       "86398                         0                  0                  0   \n",
       "77285                         0                  0                  0   \n",
       "217570                        0                  0                  0   \n",
       "\n",
       "        VehicleType_sedan  VehicleType_small  ...  VehicleType_wagon  \\\n",
       "92955                   0                  0  ...                  0   \n",
       "8833                    0                  1  ...                  0   \n",
       "124632                  1                  0  ...                  0   \n",
       "233625                  0                  0  ...                  1   \n",
       "272265                  0                  0  ...                  1   \n",
       "...                   ...                ...  ...                ...   \n",
       "158838                  0                  0  ...                  1   \n",
       "47873                   1                  0  ...                  0   \n",
       "86398                   0                  0  ...                  1   \n",
       "77285                   0                  0  ...                  1   \n",
       "217570                  0                  0  ...                  1   \n",
       "\n",
       "        Gearbox_manual  Gearbox_unknown  FuelType_electric  FuelType_gasoline  \\\n",
       "92955                1                0                  0                  0   \n",
       "8833                 1                0                  0                  1   \n",
       "124632               1                0                  0                  0   \n",
       "233625               1                0                  0                  0   \n",
       "272265               1                0                  0                  1   \n",
       "...                ...              ...                ...                ...   \n",
       "158838               0                0                  0                  0   \n",
       "47873                1                0                  0                  0   \n",
       "86398                1                0                  0                  1   \n",
       "77285                1                0                  0                  0   \n",
       "217570               1                0                  0                  1   \n",
       "\n",
       "        FuelType_hybrid  FuelType_lpg  FuelType_other  FuelType_petrol  \\\n",
       "92955                 0             0               0                1   \n",
       "8833                  0             0               0                0   \n",
       "124632                0             0               0                1   \n",
       "233625                0             0               0                1   \n",
       "272265                0             0               0                0   \n",
       "...                 ...           ...             ...              ...   \n",
       "158838                0             0               0                1   \n",
       "47873                 0             0               0                1   \n",
       "86398                 0             0               0                0   \n",
       "77285                 0             0               0                1   \n",
       "217570                0             0               0                0   \n",
       "\n",
       "        NotRepaired_yes  \n",
       "92955                 0  \n",
       "8833                  1  \n",
       "124632                0  \n",
       "233625                1  \n",
       "272265                0  \n",
       "...                 ...  \n",
       "158838                1  \n",
       "47873                 0  \n",
       "86398                 1  \n",
       "77285                 0  \n",
       "217570                1  \n",
       "\n",
       "[247320 rows x 21 columns]"
      ]
     },
     "execution_count": 37,
     "metadata": {},
     "output_type": "execute_result"
    }
   ],
   "source": [
    "# глянем, что получилось\n",
    "features_train"
   ]
  },
  {
   "cell_type": "code",
   "execution_count": 38,
   "metadata": {},
   "outputs": [
    {
     "data": {
      "text/html": [
       "<div>\n",
       "<style scoped>\n",
       "    .dataframe tbody tr th:only-of-type {\n",
       "        vertical-align: middle;\n",
       "    }\n",
       "\n",
       "    .dataframe tbody tr th {\n",
       "        vertical-align: top;\n",
       "    }\n",
       "\n",
       "    .dataframe thead th {\n",
       "        text-align: right;\n",
       "    }\n",
       "</style>\n",
       "<table border=\"1\" class=\"dataframe\">\n",
       "  <thead>\n",
       "    <tr style=\"text-align: right;\">\n",
       "      <th></th>\n",
       "      <th>RegistrationYear</th>\n",
       "      <th>Power</th>\n",
       "      <th>Model</th>\n",
       "      <th>Kilometer</th>\n",
       "      <th>Brand</th>\n",
       "      <th>VehicleType_convertible</th>\n",
       "      <th>VehicleType_coupe</th>\n",
       "      <th>VehicleType_other</th>\n",
       "      <th>VehicleType_sedan</th>\n",
       "      <th>VehicleType_small</th>\n",
       "      <th>...</th>\n",
       "      <th>VehicleType_wagon</th>\n",
       "      <th>Gearbox_manual</th>\n",
       "      <th>Gearbox_unknown</th>\n",
       "      <th>FuelType_electric</th>\n",
       "      <th>FuelType_gasoline</th>\n",
       "      <th>FuelType_hybrid</th>\n",
       "      <th>FuelType_lpg</th>\n",
       "      <th>FuelType_other</th>\n",
       "      <th>FuelType_petrol</th>\n",
       "      <th>NotRepaired_yes</th>\n",
       "    </tr>\n",
       "  </thead>\n",
       "  <tbody>\n",
       "    <tr>\n",
       "      <th>92955</th>\n",
       "      <td>-0.517738</td>\n",
       "      <td>-0.212969</td>\n",
       "      <td>149</td>\n",
       "      <td>0.581307</td>\n",
       "      <td>27</td>\n",
       "      <td>0</td>\n",
       "      <td>1</td>\n",
       "      <td>0</td>\n",
       "      <td>0</td>\n",
       "      <td>0</td>\n",
       "      <td>...</td>\n",
       "      <td>0</td>\n",
       "      <td>1</td>\n",
       "      <td>0</td>\n",
       "      <td>0</td>\n",
       "      <td>0</td>\n",
       "      <td>0</td>\n",
       "      <td>0</td>\n",
       "      <td>0</td>\n",
       "      <td>1</td>\n",
       "      <td>0</td>\n",
       "    </tr>\n",
       "    <tr>\n",
       "      <th>8833</th>\n",
       "      <td>0.347339</td>\n",
       "      <td>0.324509</td>\n",
       "      <td>28</td>\n",
       "      <td>0.581307</td>\n",
       "      <td>1</td>\n",
       "      <td>0</td>\n",
       "      <td>0</td>\n",
       "      <td>0</td>\n",
       "      <td>0</td>\n",
       "      <td>1</td>\n",
       "      <td>...</td>\n",
       "      <td>0</td>\n",
       "      <td>1</td>\n",
       "      <td>0</td>\n",
       "      <td>0</td>\n",
       "      <td>1</td>\n",
       "      <td>0</td>\n",
       "      <td>0</td>\n",
       "      <td>0</td>\n",
       "      <td>0</td>\n",
       "      <td>1</td>\n",
       "    </tr>\n",
       "    <tr>\n",
       "      <th>124632</th>\n",
       "      <td>0.347339</td>\n",
       "      <td>-0.734159</td>\n",
       "      <td>116</td>\n",
       "      <td>-0.749625</td>\n",
       "      <td>38</td>\n",
       "      <td>0</td>\n",
       "      <td>0</td>\n",
       "      <td>0</td>\n",
       "      <td>1</td>\n",
       "      <td>0</td>\n",
       "      <td>...</td>\n",
       "      <td>0</td>\n",
       "      <td>1</td>\n",
       "      <td>0</td>\n",
       "      <td>0</td>\n",
       "      <td>0</td>\n",
       "      <td>0</td>\n",
       "      <td>0</td>\n",
       "      <td>0</td>\n",
       "      <td>1</td>\n",
       "      <td>0</td>\n",
       "    </tr>\n",
       "    <tr>\n",
       "      <th>233625</th>\n",
       "      <td>-0.806097</td>\n",
       "      <td>1.041145</td>\n",
       "      <td>15</td>\n",
       "      <td>0.581307</td>\n",
       "      <td>2</td>\n",
       "      <td>0</td>\n",
       "      <td>0</td>\n",
       "      <td>0</td>\n",
       "      <td>0</td>\n",
       "      <td>0</td>\n",
       "      <td>...</td>\n",
       "      <td>1</td>\n",
       "      <td>1</td>\n",
       "      <td>0</td>\n",
       "      <td>0</td>\n",
       "      <td>0</td>\n",
       "      <td>0</td>\n",
       "      <td>0</td>\n",
       "      <td>0</td>\n",
       "      <td>1</td>\n",
       "      <td>1</td>\n",
       "    </tr>\n",
       "    <tr>\n",
       "      <th>272265</th>\n",
       "      <td>0.635698</td>\n",
       "      <td>0.373370</td>\n",
       "      <td>17</td>\n",
       "      <td>0.581307</td>\n",
       "      <td>19</td>\n",
       "      <td>0</td>\n",
       "      <td>0</td>\n",
       "      <td>0</td>\n",
       "      <td>0</td>\n",
       "      <td>0</td>\n",
       "      <td>...</td>\n",
       "      <td>1</td>\n",
       "      <td>1</td>\n",
       "      <td>0</td>\n",
       "      <td>0</td>\n",
       "      <td>1</td>\n",
       "      <td>0</td>\n",
       "      <td>0</td>\n",
       "      <td>0</td>\n",
       "      <td>0</td>\n",
       "      <td>0</td>\n",
       "    </tr>\n",
       "  </tbody>\n",
       "</table>\n",
       "<p>5 rows × 21 columns</p>\n",
       "</div>"
      ],
      "text/plain": [
       "        RegistrationYear     Power  Model  Kilometer  Brand  \\\n",
       "92955          -0.517738 -0.212969    149   0.581307     27   \n",
       "8833            0.347339  0.324509     28   0.581307      1   \n",
       "124632          0.347339 -0.734159    116  -0.749625     38   \n",
       "233625         -0.806097  1.041145     15   0.581307      2   \n",
       "272265          0.635698  0.373370     17   0.581307     19   \n",
       "\n",
       "        VehicleType_convertible  VehicleType_coupe  VehicleType_other  \\\n",
       "92955                         0                  1                  0   \n",
       "8833                          0                  0                  0   \n",
       "124632                        0                  0                  0   \n",
       "233625                        0                  0                  0   \n",
       "272265                        0                  0                  0   \n",
       "\n",
       "        VehicleType_sedan  VehicleType_small  ...  VehicleType_wagon  \\\n",
       "92955                   0                  0  ...                  0   \n",
       "8833                    0                  1  ...                  0   \n",
       "124632                  1                  0  ...                  0   \n",
       "233625                  0                  0  ...                  1   \n",
       "272265                  0                  0  ...                  1   \n",
       "\n",
       "        Gearbox_manual  Gearbox_unknown  FuelType_electric  FuelType_gasoline  \\\n",
       "92955                1                0                  0                  0   \n",
       "8833                 1                0                  0                  1   \n",
       "124632               1                0                  0                  0   \n",
       "233625               1                0                  0                  0   \n",
       "272265               1                0                  0                  1   \n",
       "\n",
       "        FuelType_hybrid  FuelType_lpg  FuelType_other  FuelType_petrol  \\\n",
       "92955                 0             0               0                1   \n",
       "8833                  0             0               0                0   \n",
       "124632                0             0               0                1   \n",
       "233625                0             0               0                1   \n",
       "272265                0             0               0                0   \n",
       "\n",
       "        NotRepaired_yes  \n",
       "92955                 0  \n",
       "8833                  1  \n",
       "124632                0  \n",
       "233625                1  \n",
       "272265                0  \n",
       "\n",
       "[5 rows x 21 columns]"
      ]
     },
     "metadata": {},
     "output_type": "display_data"
    }
   ],
   "source": [
    "# далее обработаем ранее численные признаки\n",
    "# Для удобства выделим их\n",
    "numeric = ['RegistrationYear', 'Power', 'Kilometer'] # 'Model', 'Brand'\n",
    "\n",
    "# Совместим кодирование категориальных и масштабирование численных признаков\n",
    "scaler = StandardScaler()\n",
    "scaler.fit(features_train[numeric])\n",
    "features_train[numeric] = scaler.transform(features_train[numeric])\n",
    "features_test[numeric] = scaler.transform(features_test[numeric]) \n",
    "\n",
    "\n",
    "display(features_train.head())\n"
   ]
  },
  {
   "cell_type": "code",
   "execution_count": 39,
   "metadata": {},
   "outputs": [
    {
     "data": {
      "text/html": [
       "<div>\n",
       "<style scoped>\n",
       "    .dataframe tbody tr th:only-of-type {\n",
       "        vertical-align: middle;\n",
       "    }\n",
       "\n",
       "    .dataframe tbody tr th {\n",
       "        vertical-align: top;\n",
       "    }\n",
       "\n",
       "    .dataframe thead th {\n",
       "        text-align: right;\n",
       "    }\n",
       "</style>\n",
       "<table border=\"1\" class=\"dataframe\">\n",
       "  <thead>\n",
       "    <tr style=\"text-align: right;\">\n",
       "      <th></th>\n",
       "      <th>RegistrationYear</th>\n",
       "      <th>Power</th>\n",
       "      <th>Model</th>\n",
       "      <th>Kilometer</th>\n",
       "      <th>Brand</th>\n",
       "      <th>VehicleType_convertible</th>\n",
       "      <th>VehicleType_coupe</th>\n",
       "      <th>VehicleType_other</th>\n",
       "      <th>VehicleType_sedan</th>\n",
       "      <th>VehicleType_small</th>\n",
       "      <th>...</th>\n",
       "      <th>VehicleType_wagon</th>\n",
       "      <th>Gearbox_manual</th>\n",
       "      <th>Gearbox_unknown</th>\n",
       "      <th>FuelType_electric</th>\n",
       "      <th>FuelType_gasoline</th>\n",
       "      <th>FuelType_hybrid</th>\n",
       "      <th>FuelType_lpg</th>\n",
       "      <th>FuelType_other</th>\n",
       "      <th>FuelType_petrol</th>\n",
       "      <th>NotRepaired_yes</th>\n",
       "    </tr>\n",
       "  </thead>\n",
       "  <tbody>\n",
       "    <tr>\n",
       "      <th>92955</th>\n",
       "      <td>-0.517738</td>\n",
       "      <td>-0.212969</td>\n",
       "      <td>149</td>\n",
       "      <td>0.581307</td>\n",
       "      <td>27</td>\n",
       "      <td>0</td>\n",
       "      <td>1</td>\n",
       "      <td>0</td>\n",
       "      <td>0</td>\n",
       "      <td>0</td>\n",
       "      <td>...</td>\n",
       "      <td>0</td>\n",
       "      <td>1</td>\n",
       "      <td>0</td>\n",
       "      <td>0</td>\n",
       "      <td>0</td>\n",
       "      <td>0</td>\n",
       "      <td>0</td>\n",
       "      <td>0</td>\n",
       "      <td>1</td>\n",
       "      <td>0</td>\n",
       "    </tr>\n",
       "    <tr>\n",
       "      <th>8833</th>\n",
       "      <td>0.347339</td>\n",
       "      <td>0.324509</td>\n",
       "      <td>28</td>\n",
       "      <td>0.581307</td>\n",
       "      <td>1</td>\n",
       "      <td>0</td>\n",
       "      <td>0</td>\n",
       "      <td>0</td>\n",
       "      <td>0</td>\n",
       "      <td>1</td>\n",
       "      <td>...</td>\n",
       "      <td>0</td>\n",
       "      <td>1</td>\n",
       "      <td>0</td>\n",
       "      <td>0</td>\n",
       "      <td>1</td>\n",
       "      <td>0</td>\n",
       "      <td>0</td>\n",
       "      <td>0</td>\n",
       "      <td>0</td>\n",
       "      <td>1</td>\n",
       "    </tr>\n",
       "    <tr>\n",
       "      <th>124632</th>\n",
       "      <td>0.347339</td>\n",
       "      <td>-0.734159</td>\n",
       "      <td>116</td>\n",
       "      <td>-0.749625</td>\n",
       "      <td>38</td>\n",
       "      <td>0</td>\n",
       "      <td>0</td>\n",
       "      <td>0</td>\n",
       "      <td>1</td>\n",
       "      <td>0</td>\n",
       "      <td>...</td>\n",
       "      <td>0</td>\n",
       "      <td>1</td>\n",
       "      <td>0</td>\n",
       "      <td>0</td>\n",
       "      <td>0</td>\n",
       "      <td>0</td>\n",
       "      <td>0</td>\n",
       "      <td>0</td>\n",
       "      <td>1</td>\n",
       "      <td>0</td>\n",
       "    </tr>\n",
       "    <tr>\n",
       "      <th>233625</th>\n",
       "      <td>-0.806097</td>\n",
       "      <td>1.041145</td>\n",
       "      <td>15</td>\n",
       "      <td>0.581307</td>\n",
       "      <td>2</td>\n",
       "      <td>0</td>\n",
       "      <td>0</td>\n",
       "      <td>0</td>\n",
       "      <td>0</td>\n",
       "      <td>0</td>\n",
       "      <td>...</td>\n",
       "      <td>1</td>\n",
       "      <td>1</td>\n",
       "      <td>0</td>\n",
       "      <td>0</td>\n",
       "      <td>0</td>\n",
       "      <td>0</td>\n",
       "      <td>0</td>\n",
       "      <td>0</td>\n",
       "      <td>1</td>\n",
       "      <td>1</td>\n",
       "    </tr>\n",
       "    <tr>\n",
       "      <th>272265</th>\n",
       "      <td>0.635698</td>\n",
       "      <td>0.373370</td>\n",
       "      <td>17</td>\n",
       "      <td>0.581307</td>\n",
       "      <td>19</td>\n",
       "      <td>0</td>\n",
       "      <td>0</td>\n",
       "      <td>0</td>\n",
       "      <td>0</td>\n",
       "      <td>0</td>\n",
       "      <td>...</td>\n",
       "      <td>1</td>\n",
       "      <td>1</td>\n",
       "      <td>0</td>\n",
       "      <td>0</td>\n",
       "      <td>1</td>\n",
       "      <td>0</td>\n",
       "      <td>0</td>\n",
       "      <td>0</td>\n",
       "      <td>0</td>\n",
       "      <td>0</td>\n",
       "    </tr>\n",
       "    <tr>\n",
       "      <th>...</th>\n",
       "      <td>...</td>\n",
       "      <td>...</td>\n",
       "      <td>...</td>\n",
       "      <td>...</td>\n",
       "      <td>...</td>\n",
       "      <td>...</td>\n",
       "      <td>...</td>\n",
       "      <td>...</td>\n",
       "      <td>...</td>\n",
       "      <td>...</td>\n",
       "      <td>...</td>\n",
       "      <td>...</td>\n",
       "      <td>...</td>\n",
       "      <td>...</td>\n",
       "      <td>...</td>\n",
       "      <td>...</td>\n",
       "      <td>...</td>\n",
       "      <td>...</td>\n",
       "      <td>...</td>\n",
       "      <td>...</td>\n",
       "      <td>...</td>\n",
       "    </tr>\n",
       "    <tr>\n",
       "      <th>158838</th>\n",
       "      <td>-1.094456</td>\n",
       "      <td>0.487380</td>\n",
       "      <td>95</td>\n",
       "      <td>0.581307</td>\n",
       "      <td>20</td>\n",
       "      <td>0</td>\n",
       "      <td>0</td>\n",
       "      <td>0</td>\n",
       "      <td>0</td>\n",
       "      <td>0</td>\n",
       "      <td>...</td>\n",
       "      <td>1</td>\n",
       "      <td>0</td>\n",
       "      <td>0</td>\n",
       "      <td>0</td>\n",
       "      <td>0</td>\n",
       "      <td>0</td>\n",
       "      <td>0</td>\n",
       "      <td>0</td>\n",
       "      <td>1</td>\n",
       "      <td>1</td>\n",
       "    </tr>\n",
       "    <tr>\n",
       "      <th>47873</th>\n",
       "      <td>-1.671173</td>\n",
       "      <td>-1.076190</td>\n",
       "      <td>116</td>\n",
       "      <td>0.581307</td>\n",
       "      <td>38</td>\n",
       "      <td>0</td>\n",
       "      <td>0</td>\n",
       "      <td>0</td>\n",
       "      <td>1</td>\n",
       "      <td>0</td>\n",
       "      <td>...</td>\n",
       "      <td>0</td>\n",
       "      <td>1</td>\n",
       "      <td>0</td>\n",
       "      <td>0</td>\n",
       "      <td>0</td>\n",
       "      <td>0</td>\n",
       "      <td>0</td>\n",
       "      <td>0</td>\n",
       "      <td>1</td>\n",
       "      <td>0</td>\n",
       "    </tr>\n",
       "    <tr>\n",
       "      <th>86398</th>\n",
       "      <td>1.212415</td>\n",
       "      <td>-0.147820</td>\n",
       "      <td>10</td>\n",
       "      <td>-1.015811</td>\n",
       "      <td>25</td>\n",
       "      <td>0</td>\n",
       "      <td>0</td>\n",
       "      <td>0</td>\n",
       "      <td>0</td>\n",
       "      <td>0</td>\n",
       "      <td>...</td>\n",
       "      <td>1</td>\n",
       "      <td>1</td>\n",
       "      <td>0</td>\n",
       "      <td>0</td>\n",
       "      <td>1</td>\n",
       "      <td>0</td>\n",
       "      <td>0</td>\n",
       "      <td>0</td>\n",
       "      <td>0</td>\n",
       "      <td>1</td>\n",
       "    </tr>\n",
       "    <tr>\n",
       "      <th>77285</th>\n",
       "      <td>-0.373558</td>\n",
       "      <td>-0.310692</td>\n",
       "      <td>170</td>\n",
       "      <td>-0.084159</td>\n",
       "      <td>38</td>\n",
       "      <td>0</td>\n",
       "      <td>0</td>\n",
       "      <td>0</td>\n",
       "      <td>0</td>\n",
       "      <td>0</td>\n",
       "      <td>...</td>\n",
       "      <td>1</td>\n",
       "      <td>1</td>\n",
       "      <td>0</td>\n",
       "      <td>0</td>\n",
       "      <td>0</td>\n",
       "      <td>0</td>\n",
       "      <td>0</td>\n",
       "      <td>0</td>\n",
       "      <td>1</td>\n",
       "      <td>0</td>\n",
       "    </tr>\n",
       "    <tr>\n",
       "      <th>217570</th>\n",
       "      <td>0.491518</td>\n",
       "      <td>0.177924</td>\n",
       "      <td>149</td>\n",
       "      <td>0.581307</td>\n",
       "      <td>27</td>\n",
       "      <td>0</td>\n",
       "      <td>0</td>\n",
       "      <td>0</td>\n",
       "      <td>0</td>\n",
       "      <td>0</td>\n",
       "      <td>...</td>\n",
       "      <td>1</td>\n",
       "      <td>1</td>\n",
       "      <td>0</td>\n",
       "      <td>0</td>\n",
       "      <td>1</td>\n",
       "      <td>0</td>\n",
       "      <td>0</td>\n",
       "      <td>0</td>\n",
       "      <td>0</td>\n",
       "      <td>1</td>\n",
       "    </tr>\n",
       "  </tbody>\n",
       "</table>\n",
       "<p>247320 rows × 21 columns</p>\n",
       "</div>"
      ],
      "text/plain": [
       "        RegistrationYear     Power  Model  Kilometer  Brand  \\\n",
       "92955          -0.517738 -0.212969    149   0.581307     27   \n",
       "8833            0.347339  0.324509     28   0.581307      1   \n",
       "124632          0.347339 -0.734159    116  -0.749625     38   \n",
       "233625         -0.806097  1.041145     15   0.581307      2   \n",
       "272265          0.635698  0.373370     17   0.581307     19   \n",
       "...                  ...       ...    ...        ...    ...   \n",
       "158838         -1.094456  0.487380     95   0.581307     20   \n",
       "47873          -1.671173 -1.076190    116   0.581307     38   \n",
       "86398           1.212415 -0.147820     10  -1.015811     25   \n",
       "77285          -0.373558 -0.310692    170  -0.084159     38   \n",
       "217570          0.491518  0.177924    149   0.581307     27   \n",
       "\n",
       "        VehicleType_convertible  VehicleType_coupe  VehicleType_other  \\\n",
       "92955                         0                  1                  0   \n",
       "8833                          0                  0                  0   \n",
       "124632                        0                  0                  0   \n",
       "233625                        0                  0                  0   \n",
       "272265                        0                  0                  0   \n",
       "...                         ...                ...                ...   \n",
       "158838                        0                  0                  0   \n",
       "47873                         0                  0                  0   \n",
       "86398                         0                  0                  0   \n",
       "77285                         0                  0                  0   \n",
       "217570                        0                  0                  0   \n",
       "\n",
       "        VehicleType_sedan  VehicleType_small  ...  VehicleType_wagon  \\\n",
       "92955                   0                  0  ...                  0   \n",
       "8833                    0                  1  ...                  0   \n",
       "124632                  1                  0  ...                  0   \n",
       "233625                  0                  0  ...                  1   \n",
       "272265                  0                  0  ...                  1   \n",
       "...                   ...                ...  ...                ...   \n",
       "158838                  0                  0  ...                  1   \n",
       "47873                   1                  0  ...                  0   \n",
       "86398                   0                  0  ...                  1   \n",
       "77285                   0                  0  ...                  1   \n",
       "217570                  0                  0  ...                  1   \n",
       "\n",
       "        Gearbox_manual  Gearbox_unknown  FuelType_electric  FuelType_gasoline  \\\n",
       "92955                1                0                  0                  0   \n",
       "8833                 1                0                  0                  1   \n",
       "124632               1                0                  0                  0   \n",
       "233625               1                0                  0                  0   \n",
       "272265               1                0                  0                  1   \n",
       "...                ...              ...                ...                ...   \n",
       "158838               0                0                  0                  0   \n",
       "47873                1                0                  0                  0   \n",
       "86398                1                0                  0                  1   \n",
       "77285                1                0                  0                  0   \n",
       "217570               1                0                  0                  1   \n",
       "\n",
       "        FuelType_hybrid  FuelType_lpg  FuelType_other  FuelType_petrol  \\\n",
       "92955                 0             0               0                1   \n",
       "8833                  0             0               0                0   \n",
       "124632                0             0               0                1   \n",
       "233625                0             0               0                1   \n",
       "272265                0             0               0                0   \n",
       "...                 ...           ...             ...              ...   \n",
       "158838                0             0               0                1   \n",
       "47873                 0             0               0                1   \n",
       "86398                 0             0               0                0   \n",
       "77285                 0             0               0                1   \n",
       "217570                0             0               0                0   \n",
       "\n",
       "        NotRepaired_yes  \n",
       "92955                 0  \n",
       "8833                  1  \n",
       "124632                0  \n",
       "233625                1  \n",
       "272265                0  \n",
       "...                 ...  \n",
       "158838                1  \n",
       "47873                 0  \n",
       "86398                 1  \n",
       "77285                 0  \n",
       "217570                1  \n",
       "\n",
       "[247320 rows x 21 columns]"
      ]
     },
     "execution_count": 39,
     "metadata": {},
     "output_type": "execute_result"
    }
   ],
   "source": [
    "catfeatures_train = features_train\n",
    "cattarget_train = target_train\n",
    "catfeatures_train"
   ]
  },
  {
   "cell_type": "markdown",
   "metadata": {},
   "source": [
    "### Обучение моделей"
   ]
  },
  {
   "cell_type": "markdown",
   "metadata": {},
   "source": [
    "#### Linear Regression"
   ]
  },
  {
   "cell_type": "code",
   "execution_count": 40,
   "metadata": {},
   "outputs": [],
   "source": [
    "target_train = rev02_target_train\n",
    "features_train = rev02_features_train_OE\n",
    "target_test = rev02_target_test\n",
    "features_test = rev02_features_test_OE"
   ]
  },
  {
   "cell_type": "code",
   "execution_count": 41,
   "metadata": {
    "scrolled": true
   },
   "outputs": [
    {
     "name": "stdout",
     "output_type": "stream",
     "text": [
      "Wall time: 63.1 ms\n"
     ]
    },
    {
     "data": {
      "text/plain": [
       "LinearRegression()"
      ]
     },
     "execution_count": 41,
     "metadata": {},
     "output_type": "execute_result"
    }
   ],
   "source": [
    "%%time\n",
    "# время обучения = lmodel.fit(features_train, target_train)\n",
    "\n",
    "lmodel = LinearRegression()\n",
    "lmodel.fit(features_train, target_train)\n"
   ]
  },
  {
   "cell_type": "code",
   "execution_count": 42,
   "metadata": {},
   "outputs": [
    {
     "name": "stdout",
     "output_type": "stream",
     "text": [
      "Wall time: 8.48 ms\n"
     ]
    }
   ],
   "source": [
    "%%time\n",
    "\n",
    "# время предсказания = lmodel.predict(features_train)\n",
    "preds_lmodel = lmodel.predict(features_train)"
   ]
  },
  {
   "cell_type": "code",
   "execution_count": 43,
   "metadata": {
    "scrolled": true
   },
   "outputs": [
    {
     "name": "stdout",
     "output_type": "stream",
     "text": [
      "Linear Regression: -3092.3251219909857\n",
      "Wall time: 269 ms\n"
     ]
    }
   ],
   "source": [
    "%%time\n",
    "# здесь метрику нужно считать по кросс-валидации (cross_val_score()) на тренировочной выборке\n",
    "\n",
    "\n",
    "#mse_lmodel = mean_squared_error(target_train, preds_lmodel)\n",
    "scores = cross_val_score(lmodel, features_train, target_train, cv=5, scoring='neg_root_mean_squared_error').mean()\n",
    "#final_score = sum(scores) / len(scores)\n",
    "print(\"Linear Regression:\", scores) #round((mse_lmodel) ** 0.5, 2))"
   ]
  },
  {
   "cell_type": "markdown",
   "metadata": {},
   "source": [
    "#### Ridge"
   ]
  },
  {
   "cell_type": "code",
   "execution_count": 44,
   "metadata": {},
   "outputs": [
    {
     "name": "stdout",
     "output_type": "stream",
     "text": [
      "{'solver': 'auto'}\n",
      "Wall time: 1.52 s\n"
     ]
    }
   ],
   "source": [
    "%%time\n",
    "\n",
    "ridge_model = Ridge()\n",
    "hyperparams = [{'solver':['auto', 'svd', 'cholesky', 'lsqr','sparse_cg']}]\n",
    "ridge_model = GridSearchCV(ridge_model, hyperparams, scoring='neg_mean_squared_error')\n",
    "ridge_model.fit(features_train, target_train)\n",
    "\n",
    "print(ridge_model.best_params_)"
   ]
  },
  {
   "cell_type": "code",
   "execution_count": 45,
   "metadata": {},
   "outputs": [
    {
     "name": "stdout",
     "output_type": "stream",
     "text": [
      "Wall time: 8.95 ms\n"
     ]
    }
   ],
   "source": [
    "%%time\n",
    "preds_ridge_model = ridge_model.predict(features_test)"
   ]
  },
  {
   "cell_type": "code",
   "execution_count": 46,
   "metadata": {},
   "outputs": [
    {
     "name": "stdout",
     "output_type": "stream",
     "text": [
      "RMSE - Ridge: 3745.35\n"
     ]
    }
   ],
   "source": [
    "mse_ridge_model = mean_squared_error(target_test, preds_ridge_model)\n",
    "print(\"RMSE - Ridge:\", round((mse_ridge_model) ** 0.5, 2))"
   ]
  },
  {
   "cell_type": "markdown",
   "metadata": {},
   "source": [
    "#### DecisionTreeRegresso"
   ]
  },
  {
   "cell_type": "code",
   "execution_count": 47,
   "metadata": {},
   "outputs": [
    {
     "name": "stderr",
     "output_type": "stream",
     "text": [
      "C:\\Users\\Bazunov_Anton\\anaconda3\\lib\\site-packages\\sklearn\\tree\\_classes.py:359: FutureWarning: Criterion 'mse' was deprecated in v1.0 and will be removed in version 1.2. Use `criterion='squared_error'` which is equivalent.\n",
      "  warnings.warn(\n"
     ]
    },
    {
     "name": "stdout",
     "output_type": "stream",
     "text": [
      "Wall time: 366 ms\n"
     ]
    },
    {
     "data": {
      "text/plain": [
       "DecisionTreeRegressor(criterion='mse', max_depth=8, random_state=12345)"
      ]
     },
     "execution_count": 47,
     "metadata": {},
     "output_type": "execute_result"
    }
   ],
   "source": [
    "%%time\n",
    "\n",
    "dtr_model = DecisionTreeRegressor(criterion='mse', \n",
    "                              max_depth=8, \n",
    "                              random_state=12345) \n",
    "dtr_model.fit(features_train, target_train)"
   ]
  },
  {
   "cell_type": "code",
   "execution_count": 48,
   "metadata": {},
   "outputs": [
    {
     "name": "stdout",
     "output_type": "stream",
     "text": [
      "Wall time: 24 ms\n"
     ]
    }
   ],
   "source": [
    "%%time\n",
    "preds_dtr_model = dtr_model.predict(features_train)"
   ]
  },
  {
   "cell_type": "code",
   "execution_count": 49,
   "metadata": {},
   "outputs": [
    {
     "name": "stdout",
     "output_type": "stream",
     "text": [
      "RMSE - DecisionTreeRegresso: 2110.1\n"
     ]
    }
   ],
   "source": [
    "mse_dtr_model = mean_squared_error(target_train, preds_dtr_model)\n",
    "print(\"RMSE - DecisionTreeRegresso:\", round((mse_dtr_model) ** 0.5, 2))"
   ]
  },
  {
   "cell_type": "markdown",
   "metadata": {},
   "source": [
    "#### CatBoostRegressor"
   ]
  },
  {
   "cell_type": "code",
   "execution_count": 50,
   "metadata": {},
   "outputs": [],
   "source": [
    "numerical_features = ['Price', 'RegistrationYear', 'Power', 'Kilometer']"
   ]
  },
  {
   "cell_type": "code",
   "execution_count": 51,
   "metadata": {},
   "outputs": [],
   "source": [
    "categorical_features = [col for col in list(catfeatures_train.columns) if col not in numerical_features]"
   ]
  },
  {
   "cell_type": "markdown",
   "metadata": {},
   "source": [
    "    %%time\n",
    "    catmodel = CatBoostRegressor(learning_rate=0.5, random_state=12345, verbose=False) \n",
    "    catmodel.fit(features_train, target_train, cat_features=categorical_features)\n",
    "\n",
    "При попытке обработать в данном формате вылезает ошибка: \n",
    "    `\"Invalid type for cat_feature[non-default value idx=0,feature_idx=2]=-1.1706373756567139 : cat_features must be integer or string, real number values and NaN values should be converted to string.\"`\n",
    "\n",
    "Связано с тем, что CatBoostRegressor принимает, только целые числа или строки в категориях"
   ]
  },
  {
   "cell_type": "code",
   "execution_count": 52,
   "metadata": {},
   "outputs": [],
   "source": [
    "(df_test.\n",
    " loc[:,['VehicleType','Gearbox', 'Brand', 'FuelType', 'NotRepaired']]) = (data_ordinal.\n",
    "                                                                                loc[:,['VehicleType','Gearbox', 'Brand', 'FuelType', 'NotRepaired']])\n",
    "catfeatures = df_test.drop('Price', axis=1)\n",
    "cattarget = df_test['Price']\n",
    "(catfeatures_train, \n",
    " catfeatures_test, \n",
    " cattarget_train, \n",
    " cattarget_test) = (train_test_split\n",
    "                    (features, target, test_size=0.25, random_state=12345))"
   ]
  },
  {
   "cell_type": "code",
   "execution_count": 53,
   "metadata": {},
   "outputs": [],
   "source": [
    "numeric_cat = ['RegistrationYear', 'Power', 'Kilometer']\n",
    "scaler = StandardScaler()\n",
    "scaler.fit(catfeatures_train[numeric_cat])\n",
    "catfeatures_train[numeric_cat] = scaler.transform(catfeatures_train[numeric_cat])\n",
    "catfeatures_test[numeric_cat] = scaler.transform(catfeatures_test[numeric_cat]) "
   ]
  },
  {
   "cell_type": "code",
   "execution_count": 54,
   "metadata": {},
   "outputs": [
    {
     "name": "stdout",
     "output_type": "stream",
     "text": [
      "Wall time: 1min 26s\n"
     ]
    },
    {
     "data": {
      "text/plain": [
       "<catboost.core.CatBoostRegressor at 0x258c4a559a0>"
      ]
     },
     "execution_count": 54,
     "metadata": {},
     "output_type": "execute_result"
    }
   ],
   "source": [
    "%%time\n",
    "cat_model = CatBoostRegressor(learning_rate=0.5, random_state=12345, verbose=False) \n",
    "cat_model.fit(catfeatures_train, cattarget_train, cat_features=categorical_features)"
   ]
  },
  {
   "cell_type": "code",
   "execution_count": 55,
   "metadata": {},
   "outputs": [
    {
     "name": "stdout",
     "output_type": "stream",
     "text": [
      "Wall time: 1.33 s\n"
     ]
    }
   ],
   "source": [
    "%%time\n",
    "cat_predict = cat_model.predict(catfeatures_train)"
   ]
  },
  {
   "cell_type": "code",
   "execution_count": 56,
   "metadata": {},
   "outputs": [
    {
     "name": "stdout",
     "output_type": "stream",
     "text": [
      "RMSE - CatBoostRegressor: 1445.49\n"
     ]
    }
   ],
   "source": [
    "mse_cat_model = mean_squared_error(cattarget_train, cat_predict)\n",
    "print(\"RMSE - CatBoostRegressor:\", round((mse_cat_model) ** 0.5, 2))"
   ]
  },
  {
   "cell_type": "markdown",
   "metadata": {},
   "source": [
    "#### Случайный Лес"
   ]
  },
  {
   "cell_type": "code",
   "execution_count": 57,
   "metadata": {},
   "outputs": [
    {
     "name": "stdout",
     "output_type": "stream",
     "text": [
      "Лучшая RMSE: 1913.8570998325458 при параметрах {'max_depth': 15, 'min_samples_leaf': 10}\n",
      "\n",
      " Время выполнения:\n",
      "Wall time: 1.2 s\n"
     ]
    }
   ],
   "source": [
    "%%time\n",
    "\n",
    "model_dt= DecisionTreeRegressor(random_state=12345)\n",
    "param_grid = {\n",
    "    \"max_depth\" : range(15,16),\n",
    "    \"min_samples_leaf\" : range(10,11)\n",
    "}\n",
    "gsearch = GridSearchCV(model_dt, param_grid = param_grid, scoring='neg_root_mean_squared_error', cv=2)\n",
    "dt_model = gsearch.fit(features_train,target_train)\n",
    "print(f'Лучшая RMSE: {-dt_model.best_score_} при параметрах {dt_model.best_params_}')\n",
    "print('\\n', 'Время выполнения:')"
   ]
  },
  {
   "cell_type": "markdown",
   "metadata": {},
   "source": [
    "#### LGBMRegressor"
   ]
  },
  {
   "cell_type": "code",
   "execution_count": 58,
   "metadata": {},
   "outputs": [
    {
     "name": "stdout",
     "output_type": "stream",
     "text": [
      "Лучшая RMSE: 1650.0676408861118 при параметрах ,{'max_depth': 13, 'n_estimators': 504}\n",
      "\n",
      " Время выполнения:\n",
      "Wall time: 2min 25s\n"
     ]
    }
   ],
   "source": [
    "%%time\n",
    "\n",
    "lgbm_model = LGBMRegressor(random_state=12345, n_jobs=2)\n",
    "param_grid = {\n",
    "    \"max_depth\" : range(10,15),\n",
    "    \"n_estimators\" : range(500,505)\n",
    "}\n",
    "\n",
    "gsearch = GridSearchCV(lgbm_model, param_grid = param_grid, scoring='neg_root_mean_squared_error', cv=2)\n",
    "lgb_model = gsearch.fit(features_train, target_train)\n",
    "\n",
    "print(f'Лучшая RMSE: {-lgb_model.best_score_} при параметрах ,{lgb_model.best_params_}')\n",
    "print('\\n', 'Время выполнения:')"
   ]
  },
  {
   "cell_type": "markdown",
   "metadata": {},
   "source": [
    "**Прмоежуточный итог:**\n",
    "* подготовленны данные для дальнейшего обучения\n",
    "* обработаны и проверенны ряд моделей"
   ]
  },
  {
   "cell_type": "markdown",
   "metadata": {},
   "source": [
    "## Анализ моделей"
   ]
  },
  {
   "cell_type": "markdown",
   "metadata": {},
   "source": [
    "* *Проанализируйте время обучения, время предсказания и качество моделей.*\n",
    "* *Опираясь на критерии заказчика, выберете лучшую модель, проверьте её качество на тестовой выборке.*"
   ]
  },
  {
   "cell_type": "markdown",
   "metadata": {},
   "source": [
    "### Объединение и анализ полученных результатов\n"
   ]
  },
  {
   "cell_type": "code",
   "execution_count": 59,
   "metadata": {},
   "outputs": [],
   "source": [
    "am_df = [[\"378 ms\", \"93.8 ms\", 3061.46],\n",
    "        [\"1.72 s\", \"4.35 ms\", 3745.35],\n",
    "        [\"750 ms\", \"54.1 ms\", 2110.10],\n",
    "        [\"2min 7s\", \"2.34 s\", 1445.49],\n",
    "        [\"2.13 s\", \"-\", 1913.85],\n",
    "        [\"2min 25s\", \"-\", 1650.00]]\n",
    "model = [\"Linear Regression\", \"Ridge\", \"DecisionTreeRegresso\", \"CatBoostRegressor\", \"DecisionTreeRegresso + GridSearchCV\", \"LGBMRegressor\"]"
   ]
  },
  {
   "cell_type": "code",
   "execution_count": 60,
   "metadata": {
    "scrolled": true
   },
   "outputs": [
    {
     "data": {
      "text/html": [
       "<div>\n",
       "<style scoped>\n",
       "    .dataframe tbody tr th:only-of-type {\n",
       "        vertical-align: middle;\n",
       "    }\n",
       "\n",
       "    .dataframe tbody tr th {\n",
       "        vertical-align: top;\n",
       "    }\n",
       "\n",
       "    .dataframe thead th {\n",
       "        text-align: right;\n",
       "    }\n",
       "</style>\n",
       "<table border=\"1\" class=\"dataframe\">\n",
       "  <thead>\n",
       "    <tr style=\"text-align: right;\">\n",
       "      <th></th>\n",
       "      <th>Wall_time</th>\n",
       "      <th>predict_time</th>\n",
       "      <th>RMSE</th>\n",
       "    </tr>\n",
       "  </thead>\n",
       "  <tbody>\n",
       "    <tr>\n",
       "      <th>Linear Regression</th>\n",
       "      <td>378 ms</td>\n",
       "      <td>93.8 ms</td>\n",
       "      <td>3061.46</td>\n",
       "    </tr>\n",
       "    <tr>\n",
       "      <th>Ridge</th>\n",
       "      <td>1.72 s</td>\n",
       "      <td>4.35 ms</td>\n",
       "      <td>3745.35</td>\n",
       "    </tr>\n",
       "    <tr>\n",
       "      <th>DecisionTreeRegresso</th>\n",
       "      <td>750 ms</td>\n",
       "      <td>54.1 ms</td>\n",
       "      <td>2106.53</td>\n",
       "    </tr>\n",
       "    <tr>\n",
       "      <th>CatBoostRegressor</th>\n",
       "      <td>2min 7s</td>\n",
       "      <td>2.34 s</td>\n",
       "      <td>1445.49</td>\n",
       "    </tr>\n",
       "    <tr>\n",
       "      <th>DecisionTreeRegresso + GridSearchCV</th>\n",
       "      <td>2.13 s</td>\n",
       "      <td>-</td>\n",
       "      <td>1902.47</td>\n",
       "    </tr>\n",
       "    <tr>\n",
       "      <th>LGBMRegressor</th>\n",
       "      <td>6min 29s</td>\n",
       "      <td>-</td>\n",
       "      <td>1650.00</td>\n",
       "    </tr>\n",
       "  </tbody>\n",
       "</table>\n",
       "</div>"
      ],
      "text/plain": [
       "                                    Wall_time predict_time     RMSE\n",
       "Linear Regression                      378 ms      93.8 ms  3061.46\n",
       "Ridge                                  1.72 s      4.35 ms  3745.35\n",
       "DecisionTreeRegresso                   750 ms      54.1 ms  2106.53\n",
       "CatBoostRegressor                     2min 7s       2.34 s  1445.49\n",
       "DecisionTreeRegresso + GridSearchCV    2.13 s            -  1902.47\n",
       "LGBMRegressor                        6min 29s            -  1650.00"
      ]
     },
     "execution_count": 60,
     "metadata": {},
     "output_type": "execute_result"
    }
   ],
   "source": [
    "pd.DataFrame(data=am_df, index=model, columns=[\"Wall_time\", \"predict_time\", \"RMSE\"])"
   ]
  },
  {
   "cell_type": "markdown",
   "metadata": {},
   "source": [
    "Наилучший результат по RMSE показала модель `CatBoostRegressor` = 1445.49, время выполнения - 1min 26s, на втором месте `LGBMRegressor` = 1650.00 и существенно дольше выполняется - 6min 29s \n",
    "\n",
    "Результат отличается не сильно, а время практически в два раза, по этой причине модель `CatBoostRegressor`."
   ]
  },
  {
   "cell_type": "markdown",
   "metadata": {},
   "source": [
    "### Проверка финальной метрики"
   ]
  },
  {
   "cell_type": "code",
   "execution_count": 62,
   "metadata": {
    "scrolled": true
   },
   "outputs": [
    {
     "name": "stdout",
     "output_type": "stream",
     "text": [
      "Итоговое RMSE - CatBoostRegressor: 1617.45\n",
      "\n",
      " Время выполнения:\n",
      "Wall time: 499 ms\n"
     ]
    }
   ],
   "source": [
    "%%time\n",
    "cat_predict = cat_model.predict(catfeatures_test)\n",
    "\n",
    "mse_cat_model = mean_squared_error(cattarget_test, cat_predict)\n",
    "print(\"Итоговое RMSE - CatBoostRegressor:\", round((mse_cat_model) ** 0.5, 2))\n",
    "print('\\n', 'Время выполнения:')\n"
   ]
  },
  {
   "cell_type": "markdown",
   "metadata": {},
   "source": [
    "## Вывод\n",
    "\n"
   ]
  },
  {
   "cell_type": "markdown",
   "metadata": {},
   "source": [
    "Результаты финальной метрики удовлетворяют требованиям заказчика => модель подобранна верно."
   ]
  }
 ],
 "metadata": {
  "ExecuteTimeLog": [
   {
    "duration": 1062,
    "start_time": "2022-09-13T08:52:27.021Z"
   },
   {
    "duration": 87,
    "start_time": "2022-09-13T08:52:28.650Z"
   },
   {
    "duration": 2589,
    "start_time": "2022-09-13T08:52:36.235Z"
   },
   {
    "duration": 4,
    "start_time": "2022-09-13T08:58:15.961Z"
   },
   {
    "duration": 865,
    "start_time": "2022-09-13T08:58:22.015Z"
   },
   {
    "duration": 58,
    "start_time": "2022-09-19T08:19:16.807Z"
   },
   {
    "duration": 1109,
    "start_time": "2022-09-19T08:19:27.300Z"
   },
   {
    "duration": 1026,
    "start_time": "2022-09-19T08:19:28.411Z"
   },
   {
    "duration": 5,
    "start_time": "2022-09-19T08:19:29.439Z"
   },
   {
    "duration": 884,
    "start_time": "2022-09-19T08:19:29.445Z"
   },
   {
    "duration": 109,
    "start_time": "2022-09-19T08:19:30.331Z"
   },
   {
    "duration": 819,
    "start_time": "2022-09-19T08:19:42.659Z"
   },
   {
    "duration": 786,
    "start_time": "2022-09-19T08:21:08.836Z"
   },
   {
    "duration": 418,
    "start_time": "2022-09-19T08:23:53.569Z"
   },
   {
    "duration": 100,
    "start_time": "2022-09-19T08:26:17.451Z"
   },
   {
    "duration": 42,
    "start_time": "2022-09-19T08:29:43.222Z"
   },
   {
    "duration": 23,
    "start_time": "2022-09-19T08:29:52.990Z"
   },
   {
    "duration": 26,
    "start_time": "2022-09-19T08:30:14.577Z"
   },
   {
    "duration": 28,
    "start_time": "2022-09-19T08:30:20.991Z"
   },
   {
    "duration": 42,
    "start_time": "2022-09-19T08:30:37.848Z"
   },
   {
    "duration": 66,
    "start_time": "2022-09-19T08:31:13.522Z"
   },
   {
    "duration": 1633,
    "start_time": "2022-09-19T08:31:28.120Z"
   },
   {
    "duration": 58,
    "start_time": "2022-09-19T08:31:35.002Z"
   },
   {
    "duration": 67,
    "start_time": "2022-09-19T08:32:58.690Z"
   },
   {
    "duration": 50,
    "start_time": "2022-09-19T08:33:06.946Z"
   },
   {
    "duration": 110,
    "start_time": "2022-09-19T08:34:24.524Z"
   },
   {
    "duration": 9,
    "start_time": "2022-09-19T08:42:15.778Z"
   },
   {
    "duration": 19,
    "start_time": "2022-09-19T08:42:20.564Z"
   },
   {
    "duration": 15,
    "start_time": "2022-09-19T08:42:25.191Z"
   },
   {
    "duration": 10,
    "start_time": "2022-09-19T08:45:09.389Z"
   },
   {
    "duration": 7,
    "start_time": "2022-09-19T08:45:19.995Z"
   },
   {
    "duration": 4,
    "start_time": "2022-09-19T10:11:38.635Z"
   },
   {
    "duration": 6,
    "start_time": "2022-09-19T10:11:59.036Z"
   },
   {
    "duration": 5,
    "start_time": "2022-09-19T10:12:56.036Z"
   },
   {
    "duration": 7,
    "start_time": "2022-09-19T10:13:40.894Z"
   },
   {
    "duration": 7,
    "start_time": "2022-09-19T10:13:49.105Z"
   },
   {
    "duration": 17,
    "start_time": "2022-09-19T10:14:14.030Z"
   },
   {
    "duration": 29,
    "start_time": "2022-09-19T10:14:26.110Z"
   },
   {
    "duration": 22,
    "start_time": "2022-09-19T10:15:11.992Z"
   },
   {
    "duration": 19,
    "start_time": "2022-09-19T10:15:39.297Z"
   },
   {
    "duration": 35,
    "start_time": "2022-09-19T10:15:48.192Z"
   },
   {
    "duration": 11,
    "start_time": "2022-09-19T10:15:58.599Z"
   },
   {
    "duration": 1075,
    "start_time": "2022-09-19T10:16:13.736Z"
   },
   {
    "duration": 649,
    "start_time": "2022-09-19T10:16:28.561Z"
   },
   {
    "duration": 90,
    "start_time": "2022-09-19T10:16:38.507Z"
   },
   {
    "duration": 10,
    "start_time": "2022-09-19T10:16:45.337Z"
   },
   {
    "duration": 619,
    "start_time": "2022-09-19T10:16:59.192Z"
   },
   {
    "duration": 1254,
    "start_time": "2022-09-19T10:17:07.113Z"
   },
   {
    "duration": 21,
    "start_time": "2022-09-19T10:18:22.740Z"
   },
   {
    "duration": 25,
    "start_time": "2022-09-19T10:18:31.907Z"
   },
   {
    "duration": 56,
    "start_time": "2022-09-19T10:18:59.045Z"
   },
   {
    "duration": 17,
    "start_time": "2022-09-19T10:19:07.842Z"
   },
   {
    "duration": 62,
    "start_time": "2022-09-19T10:19:20.651Z"
   },
   {
    "duration": 14,
    "start_time": "2022-09-19T10:19:22.511Z"
   },
   {
    "duration": 9,
    "start_time": "2022-09-19T10:20:08.654Z"
   },
   {
    "duration": 7,
    "start_time": "2022-09-19T10:20:20.252Z"
   },
   {
    "duration": 8,
    "start_time": "2022-09-19T10:20:38.603Z"
   },
   {
    "duration": 8,
    "start_time": "2022-09-19T10:20:41.652Z"
   },
   {
    "duration": 6,
    "start_time": "2022-09-19T10:20:45.549Z"
   },
   {
    "duration": 7,
    "start_time": "2022-09-19T10:20:48.213Z"
   },
   {
    "duration": 6,
    "start_time": "2022-09-19T10:20:58.621Z"
   },
   {
    "duration": 26,
    "start_time": "2022-09-19T12:10:14.404Z"
   },
   {
    "duration": 13,
    "start_time": "2022-09-19T12:10:19.266Z"
   },
   {
    "duration": 61,
    "start_time": "2022-09-19T12:10:58.230Z"
   },
   {
    "duration": 20,
    "start_time": "2022-09-19T12:11:14.909Z"
   },
   {
    "duration": 56,
    "start_time": "2022-09-22T10:08:55.708Z"
   },
   {
    "duration": 7,
    "start_time": "2022-09-22T10:09:01.064Z"
   },
   {
    "duration": 1680,
    "start_time": "2022-09-22T10:09:06.434Z"
   },
   {
    "duration": 1093,
    "start_time": "2022-09-22T10:09:08.117Z"
   },
   {
    "duration": 7,
    "start_time": "2022-09-22T10:09:09.213Z"
   },
   {
    "duration": 901,
    "start_time": "2022-09-22T10:09:09.222Z"
   },
   {
    "duration": 913,
    "start_time": "2022-09-22T10:09:10.126Z"
   },
   {
    "duration": 128,
    "start_time": "2022-09-22T10:09:11.041Z"
   },
   {
    "duration": 19,
    "start_time": "2022-09-22T10:09:11.171Z"
   },
   {
    "duration": 32,
    "start_time": "2022-09-22T10:09:11.192Z"
   },
   {
    "duration": 34,
    "start_time": "2022-09-22T10:09:11.226Z"
   },
   {
    "duration": 129,
    "start_time": "2022-09-22T10:09:11.262Z"
   },
   {
    "duration": 24,
    "start_time": "2022-09-22T10:09:15.249Z"
   },
   {
    "duration": 1603,
    "start_time": "2022-09-22T10:11:30.885Z"
   },
   {
    "duration": 1433,
    "start_time": "2022-09-22T10:12:06.835Z"
   },
   {
    "duration": 872,
    "start_time": "2022-09-22T10:12:08.270Z"
   },
   {
    "duration": 5,
    "start_time": "2022-09-22T10:12:09.145Z"
   },
   {
    "duration": 997,
    "start_time": "2022-09-22T10:12:09.153Z"
   },
   {
    "duration": 1060,
    "start_time": "2022-09-22T10:12:10.152Z"
   },
   {
    "duration": 1734,
    "start_time": "2022-09-22T10:12:11.215Z"
   },
   {
    "duration": 31,
    "start_time": "2022-09-22T10:12:12.952Z"
   },
   {
    "duration": 25,
    "start_time": "2022-09-22T10:12:12.985Z"
   },
   {
    "duration": 22,
    "start_time": "2022-09-22T10:12:13.012Z"
   },
   {
    "duration": 37,
    "start_time": "2022-09-22T10:12:13.037Z"
   },
   {
    "duration": 15,
    "start_time": "2022-09-22T10:13:47.936Z"
   },
   {
    "duration": 1571,
    "start_time": "2022-09-22T10:13:52.155Z"
   },
   {
    "duration": 829,
    "start_time": "2022-09-22T10:13:53.728Z"
   },
   {
    "duration": 5,
    "start_time": "2022-09-22T10:13:54.558Z"
   },
   {
    "duration": 920,
    "start_time": "2022-09-22T10:13:54.565Z"
   },
   {
    "duration": 956,
    "start_time": "2022-09-22T10:13:55.487Z"
   },
   {
    "duration": 1606,
    "start_time": "2022-09-22T10:13:56.445Z"
   },
   {
    "duration": 18,
    "start_time": "2022-09-22T10:13:58.053Z"
   },
   {
    "duration": 25,
    "start_time": "2022-09-22T10:13:58.073Z"
   },
   {
    "duration": 49,
    "start_time": "2022-09-22T10:13:58.100Z"
   },
   {
    "duration": 25,
    "start_time": "2022-09-22T10:13:58.151Z"
   },
   {
    "duration": 16,
    "start_time": "2022-09-22T10:15:12.978Z"
   },
   {
    "duration": 1451,
    "start_time": "2022-09-22T10:15:18.745Z"
   },
   {
    "duration": 836,
    "start_time": "2022-09-22T10:15:20.198Z"
   },
   {
    "duration": 4,
    "start_time": "2022-09-22T10:15:21.036Z"
   },
   {
    "duration": 967,
    "start_time": "2022-09-22T10:15:21.042Z"
   },
   {
    "duration": 993,
    "start_time": "2022-09-22T10:15:22.011Z"
   },
   {
    "duration": 1539,
    "start_time": "2022-09-22T10:15:23.005Z"
   },
   {
    "duration": 18,
    "start_time": "2022-09-22T10:15:24.546Z"
   },
   {
    "duration": 8,
    "start_time": "2022-09-22T10:15:24.566Z"
   },
   {
    "duration": 37,
    "start_time": "2022-09-22T10:15:24.576Z"
   },
   {
    "duration": 29,
    "start_time": "2022-09-22T10:15:24.616Z"
   },
   {
    "duration": 178,
    "start_time": "2022-09-22T10:17:09.866Z"
   },
   {
    "duration": 139,
    "start_time": "2022-09-22T10:17:25.041Z"
   },
   {
    "duration": 38,
    "start_time": "2022-09-22T10:18:40.193Z"
   },
   {
    "duration": 42,
    "start_time": "2022-09-22T10:18:48.259Z"
   },
   {
    "duration": 37,
    "start_time": "2022-09-22T10:18:58.956Z"
   },
   {
    "duration": 46,
    "start_time": "2022-09-22T10:19:44.098Z"
   },
   {
    "duration": 34,
    "start_time": "2022-09-22T10:19:50.069Z"
   },
   {
    "duration": 48,
    "start_time": "2022-09-22T10:19:52.530Z"
   },
   {
    "duration": 58,
    "start_time": "2022-09-22T10:23:35.462Z"
   },
   {
    "duration": 54,
    "start_time": "2022-09-22T10:23:45.334Z"
   },
   {
    "duration": 167,
    "start_time": "2022-09-22T10:24:42.432Z"
   },
   {
    "duration": 161,
    "start_time": "2022-09-22T10:24:55.791Z"
   },
   {
    "duration": 23,
    "start_time": "2022-09-22T10:25:56.857Z"
   },
   {
    "duration": 44,
    "start_time": "2022-09-22T10:26:03.043Z"
   },
   {
    "duration": 127,
    "start_time": "2022-09-22T12:54:28.187Z"
   },
   {
    "duration": 142,
    "start_time": "2022-09-22T15:13:40.083Z"
   },
   {
    "duration": 37,
    "start_time": "2022-09-22T15:14:37.928Z"
   },
   {
    "duration": 175,
    "start_time": "2022-09-22T15:25:06.036Z"
   },
   {
    "duration": 30,
    "start_time": "2022-09-22T15:26:33.005Z"
   },
   {
    "duration": 49,
    "start_time": "2022-09-22T15:26:37.390Z"
   },
   {
    "duration": 147,
    "start_time": "2022-09-22T15:26:43.398Z"
   },
   {
    "duration": 76,
    "start_time": "2022-09-22T15:27:40.777Z"
   },
   {
    "duration": 89,
    "start_time": "2022-09-22T15:27:45.150Z"
   },
   {
    "duration": 63,
    "start_time": "2022-09-22T15:27:47.584Z"
   },
   {
    "duration": 132,
    "start_time": "2022-09-22T15:27:55.880Z"
   },
   {
    "duration": 154,
    "start_time": "2022-09-22T15:28:10.857Z"
   },
   {
    "duration": 137,
    "start_time": "2022-09-22T15:28:20.960Z"
   },
   {
    "duration": 200,
    "start_time": "2022-09-22T15:30:35.437Z"
   },
   {
    "duration": 11,
    "start_time": "2022-09-22T15:32:25.284Z"
   },
   {
    "duration": 34,
    "start_time": "2022-09-22T15:32:38.797Z"
   },
   {
    "duration": 25,
    "start_time": "2022-09-22T15:32:42.110Z"
   },
   {
    "duration": 55,
    "start_time": "2022-09-22T15:32:50.028Z"
   },
   {
    "duration": 166,
    "start_time": "2022-09-22T15:32:57.039Z"
   },
   {
    "duration": 147,
    "start_time": "2022-09-22T15:33:06.927Z"
   },
   {
    "duration": 169,
    "start_time": "2022-09-22T15:33:20.454Z"
   },
   {
    "duration": 43,
    "start_time": "2022-09-22T15:33:44.542Z"
   },
   {
    "duration": 60,
    "start_time": "2022-09-22T15:34:07.570Z"
   },
   {
    "duration": 176,
    "start_time": "2022-09-22T15:35:02.000Z"
   },
   {
    "duration": 1481,
    "start_time": "2022-09-22T15:35:15.043Z"
   },
   {
    "duration": 844,
    "start_time": "2022-09-22T15:35:16.533Z"
   },
   {
    "duration": 5,
    "start_time": "2022-09-22T15:35:17.378Z"
   },
   {
    "duration": 996,
    "start_time": "2022-09-22T15:35:17.385Z"
   },
   {
    "duration": 999,
    "start_time": "2022-09-22T15:35:18.382Z"
   },
   {
    "duration": 1590,
    "start_time": "2022-09-22T15:35:19.383Z"
   },
   {
    "duration": 18,
    "start_time": "2022-09-22T15:35:20.975Z"
   },
   {
    "duration": 73,
    "start_time": "2022-09-22T15:35:20.994Z"
   },
   {
    "duration": 19,
    "start_time": "2022-09-22T15:35:21.069Z"
   },
   {
    "duration": 333,
    "start_time": "2022-09-22T15:35:21.090Z"
   },
   {
    "duration": 0,
    "start_time": "2022-09-22T15:35:21.425Z"
   },
   {
    "duration": 0,
    "start_time": "2022-09-22T15:35:21.425Z"
   },
   {
    "duration": 0,
    "start_time": "2022-09-22T15:35:21.426Z"
   },
   {
    "duration": 0,
    "start_time": "2022-09-22T15:35:21.427Z"
   },
   {
    "duration": 0,
    "start_time": "2022-09-22T15:35:21.427Z"
   },
   {
    "duration": 0,
    "start_time": "2022-09-22T15:35:21.428Z"
   },
   {
    "duration": 1456,
    "start_time": "2022-09-22T15:36:20.667Z"
   },
   {
    "duration": 926,
    "start_time": "2022-09-22T15:36:22.125Z"
   },
   {
    "duration": 4,
    "start_time": "2022-09-22T15:36:23.053Z"
   },
   {
    "duration": 943,
    "start_time": "2022-09-22T15:36:23.059Z"
   },
   {
    "duration": 980,
    "start_time": "2022-09-22T15:36:24.003Z"
   },
   {
    "duration": 1600,
    "start_time": "2022-09-22T15:36:24.984Z"
   },
   {
    "duration": 29,
    "start_time": "2022-09-22T15:36:26.586Z"
   },
   {
    "duration": 87,
    "start_time": "2022-09-22T15:36:26.623Z"
   },
   {
    "duration": 22,
    "start_time": "2022-09-22T15:36:26.712Z"
   },
   {
    "duration": 54,
    "start_time": "2022-09-22T15:36:26.737Z"
   },
   {
    "duration": 64,
    "start_time": "2022-09-22T15:36:26.793Z"
   },
   {
    "duration": 35,
    "start_time": "2022-09-22T15:36:26.858Z"
   },
   {
    "duration": 135,
    "start_time": "2022-09-22T15:36:26.895Z"
   },
   {
    "duration": 2,
    "start_time": "2022-09-22T15:36:27.032Z"
   },
   {
    "duration": 261,
    "start_time": "2022-09-22T15:36:27.035Z"
   },
   {
    "duration": 321,
    "start_time": "2022-09-22T15:36:27.298Z"
   },
   {
    "duration": 265,
    "start_time": "2022-09-22T15:38:44.384Z"
   },
   {
    "duration": 254,
    "start_time": "2022-09-22T15:38:52.950Z"
   },
   {
    "duration": 255,
    "start_time": "2022-09-22T15:38:59.530Z"
   },
   {
    "duration": 159,
    "start_time": "2022-09-22T15:39:08.376Z"
   },
   {
    "duration": 160,
    "start_time": "2022-09-22T15:39:20.655Z"
   },
   {
    "duration": 176,
    "start_time": "2022-09-22T15:39:58.760Z"
   },
   {
    "duration": 174,
    "start_time": "2022-09-22T15:40:56.626Z"
   },
   {
    "duration": 202,
    "start_time": "2022-09-22T15:41:05.265Z"
   },
   {
    "duration": 332,
    "start_time": "2022-09-22T15:43:09.233Z"
   },
   {
    "duration": 367,
    "start_time": "2022-09-22T15:43:30.956Z"
   },
   {
    "duration": 1393,
    "start_time": "2022-09-22T15:43:39.805Z"
   },
   {
    "duration": 837,
    "start_time": "2022-09-22T15:43:41.200Z"
   },
   {
    "duration": 4,
    "start_time": "2022-09-22T15:43:42.039Z"
   },
   {
    "duration": 1033,
    "start_time": "2022-09-22T15:43:42.044Z"
   },
   {
    "duration": 945,
    "start_time": "2022-09-22T15:43:43.080Z"
   },
   {
    "duration": 1832,
    "start_time": "2022-09-22T15:43:44.027Z"
   },
   {
    "duration": 19,
    "start_time": "2022-09-22T15:43:45.861Z"
   },
   {
    "duration": 77,
    "start_time": "2022-09-22T15:43:45.882Z"
   },
   {
    "duration": 19,
    "start_time": "2022-09-22T15:43:45.961Z"
   },
   {
    "duration": 59,
    "start_time": "2022-09-22T15:43:45.982Z"
   },
   {
    "duration": 71,
    "start_time": "2022-09-22T15:43:46.042Z"
   },
   {
    "duration": 44,
    "start_time": "2022-09-22T15:43:46.115Z"
   },
   {
    "duration": 144,
    "start_time": "2022-09-22T15:43:46.161Z"
   },
   {
    "duration": 2,
    "start_time": "2022-09-22T15:43:46.308Z"
   },
   {
    "duration": 186,
    "start_time": "2022-09-22T15:43:46.312Z"
   },
   {
    "duration": 379,
    "start_time": "2022-09-22T15:43:46.499Z"
   },
   {
    "duration": 1682,
    "start_time": "2022-09-24T13:33:17.334Z"
   },
   {
    "duration": 3255,
    "start_time": "2022-09-24T13:33:19.018Z"
   },
   {
    "duration": 4,
    "start_time": "2022-09-24T13:33:22.275Z"
   },
   {
    "duration": 933,
    "start_time": "2022-09-24T13:33:22.281Z"
   },
   {
    "duration": 973,
    "start_time": "2022-09-24T13:33:23.216Z"
   },
   {
    "duration": 1357,
    "start_time": "2022-09-24T13:33:24.194Z"
   },
   {
    "duration": 18,
    "start_time": "2022-09-24T13:33:25.553Z"
   },
   {
    "duration": 76,
    "start_time": "2022-09-24T13:33:25.573Z"
   },
   {
    "duration": 21,
    "start_time": "2022-09-24T13:33:25.650Z"
   },
   {
    "duration": 65,
    "start_time": "2022-09-24T13:33:25.673Z"
   },
   {
    "duration": 59,
    "start_time": "2022-09-24T13:33:25.740Z"
   },
   {
    "duration": 39,
    "start_time": "2022-09-24T13:33:25.800Z"
   },
   {
    "duration": 157,
    "start_time": "2022-09-24T13:33:25.841Z"
   },
   {
    "duration": 2,
    "start_time": "2022-09-24T13:33:26.000Z"
   },
   {
    "duration": 159,
    "start_time": "2022-09-24T13:33:26.004Z"
   },
   {
    "duration": 332,
    "start_time": "2022-09-24T13:33:26.164Z"
   },
   {
    "duration": 178,
    "start_time": "2022-09-24T13:33:26.498Z"
   },
   {
    "duration": 96,
    "start_time": "2022-09-24T13:33:57.605Z"
   },
   {
    "duration": 100,
    "start_time": "2022-09-24T13:37:14.487Z"
   },
   {
    "duration": 135,
    "start_time": "2022-09-24T13:37:31.223Z"
   },
   {
    "duration": 18,
    "start_time": "2022-09-24T13:38:04.348Z"
   },
   {
    "duration": 15,
    "start_time": "2022-09-24T13:43:50.709Z"
   },
   {
    "duration": 1601,
    "start_time": "2022-09-24T13:43:55.461Z"
   },
   {
    "duration": 832,
    "start_time": "2022-09-24T13:43:57.064Z"
   },
   {
    "duration": 5,
    "start_time": "2022-09-24T13:43:57.897Z"
   },
   {
    "duration": 1003,
    "start_time": "2022-09-24T13:43:57.904Z"
   },
   {
    "duration": 1002,
    "start_time": "2022-09-24T13:43:58.909Z"
   },
   {
    "duration": 1351,
    "start_time": "2022-09-24T13:43:59.913Z"
   },
   {
    "duration": 18,
    "start_time": "2022-09-24T13:44:01.266Z"
   },
   {
    "duration": 60,
    "start_time": "2022-09-24T13:44:01.295Z"
   },
   {
    "duration": 22,
    "start_time": "2022-09-24T13:44:01.357Z"
   },
   {
    "duration": 50,
    "start_time": "2022-09-24T13:44:01.396Z"
   },
   {
    "duration": 71,
    "start_time": "2022-09-24T13:44:01.448Z"
   },
   {
    "duration": 39,
    "start_time": "2022-09-24T13:44:01.521Z"
   },
   {
    "duration": 154,
    "start_time": "2022-09-24T13:44:01.561Z"
   },
   {
    "duration": 2,
    "start_time": "2022-09-24T13:44:01.717Z"
   },
   {
    "duration": 170,
    "start_time": "2022-09-24T13:44:01.721Z"
   },
   {
    "duration": 346,
    "start_time": "2022-09-24T13:44:01.894Z"
   },
   {
    "duration": 26,
    "start_time": "2022-09-24T13:44:02.242Z"
   },
   {
    "duration": 166,
    "start_time": "2022-09-24T13:44:02.269Z"
   },
   {
    "duration": 2,
    "start_time": "2022-09-24T13:48:07.142Z"
   },
   {
    "duration": 92,
    "start_time": "2022-09-24T13:49:38.255Z"
   },
   {
    "duration": 18,
    "start_time": "2022-09-24T13:49:52.999Z"
   },
   {
    "duration": 19,
    "start_time": "2022-09-24T13:51:11.116Z"
   },
   {
    "duration": 2,
    "start_time": "2022-09-24T14:08:35.423Z"
   },
   {
    "duration": 797,
    "start_time": "2022-09-24T14:09:33.552Z"
   },
   {
    "duration": 1348,
    "start_time": "2022-09-24T14:09:58.748Z"
   },
   {
    "duration": 808,
    "start_time": "2022-09-24T14:10:00.098Z"
   },
   {
    "duration": 4,
    "start_time": "2022-09-24T14:10:00.908Z"
   },
   {
    "duration": 907,
    "start_time": "2022-09-24T14:10:00.914Z"
   },
   {
    "duration": 1082,
    "start_time": "2022-09-24T14:10:01.823Z"
   },
   {
    "duration": 1374,
    "start_time": "2022-09-24T14:10:02.907Z"
   },
   {
    "duration": 22,
    "start_time": "2022-09-24T14:10:04.283Z"
   },
   {
    "duration": 75,
    "start_time": "2022-09-24T14:10:04.306Z"
   },
   {
    "duration": 31,
    "start_time": "2022-09-24T14:10:04.383Z"
   },
   {
    "duration": 49,
    "start_time": "2022-09-24T14:10:04.417Z"
   },
   {
    "duration": 82,
    "start_time": "2022-09-24T14:10:04.468Z"
   },
   {
    "duration": 55,
    "start_time": "2022-09-24T14:10:04.552Z"
   },
   {
    "duration": 151,
    "start_time": "2022-09-24T14:10:04.609Z"
   },
   {
    "duration": 4,
    "start_time": "2022-09-24T14:10:04.761Z"
   },
   {
    "duration": 172,
    "start_time": "2022-09-24T14:10:04.766Z"
   },
   {
    "duration": 369,
    "start_time": "2022-09-24T14:10:04.941Z"
   },
   {
    "duration": 25,
    "start_time": "2022-09-24T14:10:05.312Z"
   },
   {
    "duration": 167,
    "start_time": "2022-09-24T14:10:05.339Z"
   },
   {
    "duration": 3,
    "start_time": "2022-09-24T14:10:05.508Z"
   },
   {
    "duration": 901,
    "start_time": "2022-09-24T14:10:05.513Z"
   },
   {
    "duration": 0,
    "start_time": "2022-09-24T14:10:06.416Z"
   },
   {
    "duration": 0,
    "start_time": "2022-09-24T14:10:06.417Z"
   },
   {
    "duration": 37,
    "start_time": "2022-09-24T14:11:24.065Z"
   },
   {
    "duration": 26,
    "start_time": "2022-09-24T14:12:06.749Z"
   },
   {
    "duration": 3293,
    "start_time": "2022-09-24T14:13:25.128Z"
   },
   {
    "duration": 38,
    "start_time": "2022-09-24T14:13:36.945Z"
   },
   {
    "duration": 1536,
    "start_time": "2022-09-24T14:15:17.865Z"
   },
   {
    "duration": 845,
    "start_time": "2022-09-24T14:15:19.403Z"
   },
   {
    "duration": 6,
    "start_time": "2022-09-24T14:15:20.250Z"
   },
   {
    "duration": 942,
    "start_time": "2022-09-24T14:15:20.258Z"
   },
   {
    "duration": 978,
    "start_time": "2022-09-24T14:15:21.201Z"
   },
   {
    "duration": 1344,
    "start_time": "2022-09-24T14:15:22.180Z"
   },
   {
    "duration": 17,
    "start_time": "2022-09-24T14:15:23.526Z"
   },
   {
    "duration": 72,
    "start_time": "2022-09-24T14:15:23.544Z"
   },
   {
    "duration": 21,
    "start_time": "2022-09-24T14:15:23.618Z"
   },
   {
    "duration": 68,
    "start_time": "2022-09-24T14:15:23.641Z"
   },
   {
    "duration": 51,
    "start_time": "2022-09-24T14:15:23.710Z"
   },
   {
    "duration": 58,
    "start_time": "2022-09-24T14:15:23.762Z"
   },
   {
    "duration": 131,
    "start_time": "2022-09-24T14:15:23.822Z"
   },
   {
    "duration": 2,
    "start_time": "2022-09-24T14:15:23.955Z"
   },
   {
    "duration": 160,
    "start_time": "2022-09-24T14:15:23.959Z"
   },
   {
    "duration": 348,
    "start_time": "2022-09-24T14:15:24.121Z"
   },
   {
    "duration": 64,
    "start_time": "2022-09-24T14:15:24.471Z"
   },
   {
    "duration": 127,
    "start_time": "2022-09-24T14:15:24.537Z"
   },
   {
    "duration": 2,
    "start_time": "2022-09-24T14:15:24.666Z"
   },
   {
    "duration": 3506,
    "start_time": "2022-09-24T14:15:24.670Z"
   },
   {
    "duration": 0,
    "start_time": "2022-09-24T14:15:28.178Z"
   },
   {
    "duration": 0,
    "start_time": "2022-09-24T14:15:28.179Z"
   },
   {
    "duration": 40,
    "start_time": "2022-09-24T14:15:43.729Z"
   },
   {
    "duration": 704,
    "start_time": "2022-09-24T14:17:34.425Z"
   },
   {
    "duration": 4,
    "start_time": "2022-09-24T14:18:16.009Z"
   },
   {
    "duration": 4,
    "start_time": "2022-09-24T14:18:31.443Z"
   },
   {
    "duration": 70,
    "start_time": "2022-09-24T14:18:40.467Z"
   },
   {
    "duration": 4,
    "start_time": "2022-09-24T14:18:59.535Z"
   },
   {
    "duration": 41,
    "start_time": "2022-09-24T14:19:01.650Z"
   },
   {
    "duration": 9,
    "start_time": "2022-09-24T14:19:09.135Z"
   },
   {
    "duration": 40,
    "start_time": "2022-09-24T14:19:18.695Z"
   },
   {
    "duration": 1486,
    "start_time": "2022-09-24T14:19:36.507Z"
   },
   {
    "duration": 868,
    "start_time": "2022-09-24T14:19:37.996Z"
   },
   {
    "duration": 5,
    "start_time": "2022-09-24T14:19:38.869Z"
   },
   {
    "duration": 932,
    "start_time": "2022-09-24T14:19:38.876Z"
   },
   {
    "duration": 995,
    "start_time": "2022-09-24T14:19:39.810Z"
   },
   {
    "duration": 1352,
    "start_time": "2022-09-24T14:19:40.807Z"
   },
   {
    "duration": 18,
    "start_time": "2022-09-24T14:19:42.161Z"
   },
   {
    "duration": 70,
    "start_time": "2022-09-24T14:19:42.180Z"
   },
   {
    "duration": 24,
    "start_time": "2022-09-24T14:19:42.253Z"
   },
   {
    "duration": 59,
    "start_time": "2022-09-24T14:19:42.279Z"
   },
   {
    "duration": 68,
    "start_time": "2022-09-24T14:19:42.339Z"
   },
   {
    "duration": 39,
    "start_time": "2022-09-24T14:19:42.408Z"
   },
   {
    "duration": 150,
    "start_time": "2022-09-24T14:19:42.449Z"
   },
   {
    "duration": 3,
    "start_time": "2022-09-24T14:19:42.601Z"
   },
   {
    "duration": 157,
    "start_time": "2022-09-24T14:19:42.606Z"
   },
   {
    "duration": 352,
    "start_time": "2022-09-24T14:19:42.765Z"
   },
   {
    "duration": 56,
    "start_time": "2022-09-24T14:19:43.119Z"
   },
   {
    "duration": 155,
    "start_time": "2022-09-24T14:19:43.177Z"
   },
   {
    "duration": 2,
    "start_time": "2022-09-24T14:19:43.334Z"
   },
   {
    "duration": 726,
    "start_time": "2022-09-24T14:19:43.338Z"
   },
   {
    "duration": 3,
    "start_time": "2022-09-24T14:19:44.066Z"
   },
   {
    "duration": 145,
    "start_time": "2022-09-24T14:19:44.070Z"
   },
   {
    "duration": 0,
    "start_time": "2022-09-24T14:19:44.218Z"
   },
   {
    "duration": 0,
    "start_time": "2022-09-24T14:19:44.219Z"
   },
   {
    "duration": 174,
    "start_time": "2022-09-24T14:20:16.771Z"
   },
   {
    "duration": 36,
    "start_time": "2022-09-24T14:23:27.428Z"
   },
   {
    "duration": 78,
    "start_time": "2022-09-24T14:24:34.569Z"
   },
   {
    "duration": 22,
    "start_time": "2022-09-24T14:24:36.320Z"
   },
   {
    "duration": 3,
    "start_time": "2022-09-24T14:35:14.169Z"
   },
   {
    "duration": 234,
    "start_time": "2022-09-24T14:35:15.786Z"
   },
   {
    "duration": 234,
    "start_time": "2022-09-24T14:35:18.849Z"
   },
   {
    "duration": 217,
    "start_time": "2022-09-24T14:35:44.384Z"
   },
   {
    "duration": 212,
    "start_time": "2022-09-24T14:35:57.665Z"
   },
   {
    "duration": 216,
    "start_time": "2022-09-24T14:36:44.708Z"
   },
   {
    "duration": 239,
    "start_time": "2022-09-24T14:36:50.891Z"
   },
   {
    "duration": 70,
    "start_time": "2022-09-24T14:37:06.661Z"
   },
   {
    "duration": 33,
    "start_time": "2022-09-24T14:37:07.994Z"
   },
   {
    "duration": 3,
    "start_time": "2022-09-24T14:43:13.349Z"
   },
   {
    "duration": 326,
    "start_time": "2022-09-24T14:45:03.591Z"
   },
   {
    "duration": 334,
    "start_time": "2022-09-24T14:45:11.488Z"
   },
   {
    "duration": 417,
    "start_time": "2022-09-24T15:01:51.996Z"
   },
   {
    "duration": 1482,
    "start_time": "2022-09-24T15:02:22.641Z"
   },
   {
    "duration": 897,
    "start_time": "2022-09-24T15:02:24.125Z"
   },
   {
    "duration": 4,
    "start_time": "2022-09-24T15:02:25.024Z"
   },
   {
    "duration": 976,
    "start_time": "2022-09-24T15:02:25.031Z"
   },
   {
    "duration": 1042,
    "start_time": "2022-09-24T15:02:26.009Z"
   },
   {
    "duration": 1328,
    "start_time": "2022-09-24T15:02:27.053Z"
   },
   {
    "duration": 20,
    "start_time": "2022-09-24T15:02:28.383Z"
   },
   {
    "duration": 64,
    "start_time": "2022-09-24T15:02:28.405Z"
   },
   {
    "duration": 37,
    "start_time": "2022-09-24T15:02:28.471Z"
   },
   {
    "duration": 46,
    "start_time": "2022-09-24T15:02:28.511Z"
   },
   {
    "duration": 74,
    "start_time": "2022-09-24T15:02:28.559Z"
   },
   {
    "duration": 40,
    "start_time": "2022-09-24T15:02:28.634Z"
   },
   {
    "duration": 155,
    "start_time": "2022-09-24T15:02:28.675Z"
   },
   {
    "duration": 3,
    "start_time": "2022-09-24T15:02:28.832Z"
   },
   {
    "duration": 172,
    "start_time": "2022-09-24T15:02:28.837Z"
   },
   {
    "duration": 368,
    "start_time": "2022-09-24T15:02:29.011Z"
   },
   {
    "duration": 58,
    "start_time": "2022-09-24T15:02:29.381Z"
   },
   {
    "duration": 155,
    "start_time": "2022-09-24T15:02:29.441Z"
   },
   {
    "duration": 2,
    "start_time": "2022-09-24T15:02:29.598Z"
   },
   {
    "duration": 748,
    "start_time": "2022-09-24T15:02:29.602Z"
   },
   {
    "duration": 4,
    "start_time": "2022-09-24T15:02:30.351Z"
   },
   {
    "duration": 222,
    "start_time": "2022-09-24T15:02:30.357Z"
   },
   {
    "duration": 233,
    "start_time": "2022-09-24T15:02:30.581Z"
   },
   {
    "duration": 60,
    "start_time": "2022-09-24T15:02:30.816Z"
   },
   {
    "duration": 34,
    "start_time": "2022-09-24T15:02:30.895Z"
   },
   {
    "duration": 335,
    "start_time": "2022-09-24T15:02:30.930Z"
   },
   {
    "duration": 441,
    "start_time": "2022-09-24T15:02:31.267Z"
   },
   {
    "duration": 15,
    "start_time": "2022-09-24T15:05:16.920Z"
   },
   {
    "duration": 5,
    "start_time": "2022-09-24T15:05:40.643Z"
   },
   {
    "duration": 290,
    "start_time": "2022-09-24T15:20:09.573Z"
   },
   {
    "duration": 4,
    "start_time": "2022-09-24T15:20:13.882Z"
   },
   {
    "duration": 148,
    "start_time": "2022-09-24T15:20:16.675Z"
   },
   {
    "duration": 12970,
    "start_time": "2022-09-24T15:20:21.875Z"
   },
   {
    "duration": 17,
    "start_time": "2022-09-24T15:21:03.984Z"
   },
   {
    "duration": 10,
    "start_time": "2022-09-24T15:21:38.248Z"
   },
   {
    "duration": 5,
    "start_time": "2022-09-24T15:21:47.584Z"
   },
   {
    "duration": 755,
    "start_time": "2022-09-24T15:23:16.571Z"
   },
   {
    "duration": 21,
    "start_time": "2022-09-24T15:23:42.742Z"
   },
   {
    "duration": 9,
    "start_time": "2022-09-24T15:24:13.570Z"
   },
   {
    "duration": 5,
    "start_time": "2022-09-24T15:24:21.748Z"
   },
   {
    "duration": 3,
    "start_time": "2022-09-24T15:34:32.305Z"
   },
   {
    "duration": 3,
    "start_time": "2022-09-24T15:34:42.931Z"
   },
   {
    "duration": 2240,
    "start_time": "2022-09-24T15:34:44.442Z"
   },
   {
    "duration": 102,
    "start_time": "2022-09-24T15:38:03.075Z"
   },
   {
    "duration": 15,
    "start_time": "2022-09-24T15:38:18.390Z"
   },
   {
    "duration": 175,
    "start_time": "2022-09-24T15:38:24.709Z"
   },
   {
    "duration": 157777,
    "start_time": "2022-09-24T15:38:33.946Z"
   },
   {
    "duration": 81,
    "start_time": "2022-09-24T15:45:15.125Z"
   },
   {
    "duration": 140,
    "start_time": "2022-09-24T15:45:23.164Z"
   },
   {
    "duration": 83,
    "start_time": "2022-09-24T15:45:32.747Z"
   },
   {
    "duration": 81,
    "start_time": "2022-09-24T15:45:41.602Z"
   },
   {
    "duration": 77,
    "start_time": "2022-09-24T15:45:53.583Z"
   },
   {
    "duration": 77,
    "start_time": "2022-09-24T15:46:07.637Z"
   },
   {
    "duration": 77,
    "start_time": "2022-09-24T15:46:17.272Z"
   },
   {
    "duration": 72,
    "start_time": "2022-09-24T15:46:29.622Z"
   },
   {
    "duration": 75,
    "start_time": "2022-09-24T15:47:05.042Z"
   },
   {
    "duration": 162,
    "start_time": "2022-09-24T15:48:22.566Z"
   },
   {
    "duration": 1194,
    "start_time": "2022-09-24T15:48:40.385Z"
   },
   {
    "duration": 161417,
    "start_time": "2022-09-24T15:49:14.579Z"
   },
   {
    "duration": 1276,
    "start_time": "2022-09-24T15:51:55.997Z"
   },
   {
    "duration": 5,
    "start_time": "2022-09-24T15:51:57.275Z"
   },
   {
    "duration": 7497,
    "start_time": "2022-09-24T16:00:59.907Z"
   },
   {
    "duration": 805,
    "start_time": "2022-09-24T16:01:07.405Z"
   },
   {
    "duration": 5,
    "start_time": "2022-09-24T16:01:08.213Z"
   },
   {
    "duration": 1231,
    "start_time": "2022-09-24T16:01:08.219Z"
   },
   {
    "duration": 4,
    "start_time": "2022-09-24T16:01:09.452Z"
   },
   {
    "duration": 48,
    "start_time": "2022-09-24T16:01:09.457Z"
   },
   {
    "duration": 5,
    "start_time": "2022-09-24T16:01:26.865Z"
   },
   {
    "duration": 31,
    "start_time": "2022-09-24T16:01:28.355Z"
   },
   {
    "duration": 9,
    "start_time": "2022-09-24T16:01:38.219Z"
   },
   {
    "duration": 79,
    "start_time": "2022-09-24T16:02:02.902Z"
   },
   {
    "duration": 3,
    "start_time": "2022-09-24T16:03:03.606Z"
   },
   {
    "duration": 8,
    "start_time": "2022-09-24T16:03:05.564Z"
   },
   {
    "duration": 1373,
    "start_time": "2022-09-24T16:04:37.625Z"
   },
   {
    "duration": 837,
    "start_time": "2022-09-24T16:04:39.000Z"
   },
   {
    "duration": 4,
    "start_time": "2022-09-24T16:04:39.839Z"
   },
   {
    "duration": 941,
    "start_time": "2022-09-24T16:04:39.845Z"
   },
   {
    "duration": 1024,
    "start_time": "2022-09-24T16:04:40.788Z"
   },
   {
    "duration": 1451,
    "start_time": "2022-09-24T16:04:41.814Z"
   },
   {
    "duration": 28,
    "start_time": "2022-09-24T16:04:43.267Z"
   },
   {
    "duration": 66,
    "start_time": "2022-09-24T16:04:43.296Z"
   },
   {
    "duration": 38,
    "start_time": "2022-09-24T16:04:43.363Z"
   },
   {
    "duration": 49,
    "start_time": "2022-09-24T16:04:43.404Z"
   },
   {
    "duration": 72,
    "start_time": "2022-09-24T16:04:43.454Z"
   },
   {
    "duration": 42,
    "start_time": "2022-09-24T16:04:43.527Z"
   },
   {
    "duration": 153,
    "start_time": "2022-09-24T16:04:43.571Z"
   },
   {
    "duration": 2,
    "start_time": "2022-09-24T16:04:43.726Z"
   },
   {
    "duration": 177,
    "start_time": "2022-09-24T16:04:43.729Z"
   },
   {
    "duration": 356,
    "start_time": "2022-09-24T16:04:43.907Z"
   },
   {
    "duration": 62,
    "start_time": "2022-09-24T16:04:44.264Z"
   },
   {
    "duration": 146,
    "start_time": "2022-09-24T16:04:44.327Z"
   },
   {
    "duration": 3,
    "start_time": "2022-09-24T16:04:44.475Z"
   },
   {
    "duration": 772,
    "start_time": "2022-09-24T16:04:44.479Z"
   },
   {
    "duration": 3,
    "start_time": "2022-09-24T16:04:45.253Z"
   },
   {
    "duration": 231,
    "start_time": "2022-09-24T16:04:45.258Z"
   },
   {
    "duration": 252,
    "start_time": "2022-09-24T16:04:45.491Z"
   },
   {
    "duration": 76,
    "start_time": "2022-09-24T16:04:45.745Z"
   },
   {
    "duration": 36,
    "start_time": "2022-09-24T16:04:45.823Z"
   },
   {
    "duration": 337,
    "start_time": "2022-09-24T16:04:45.861Z"
   },
   {
    "duration": 417,
    "start_time": "2022-09-24T16:04:46.200Z"
   },
   {
    "duration": 84,
    "start_time": "2022-09-24T16:04:46.621Z"
   },
   {
    "duration": 91,
    "start_time": "2022-09-24T16:04:46.706Z"
   },
   {
    "duration": 12341,
    "start_time": "2022-09-24T16:04:46.799Z"
   },
   {
    "duration": 154,
    "start_time": "2022-09-24T16:04:59.142Z"
   },
   {
    "duration": 96,
    "start_time": "2022-09-24T16:04:59.299Z"
   },
   {
    "duration": 692,
    "start_time": "2022-09-24T16:04:59.397Z"
   },
   {
    "duration": 19,
    "start_time": "2022-09-24T16:05:00.090Z"
   },
   {
    "duration": 7,
    "start_time": "2022-09-24T16:05:00.111Z"
   },
   {
    "duration": 13,
    "start_time": "2022-09-24T16:05:00.120Z"
   },
   {
    "duration": 10,
    "start_time": "2022-09-24T16:05:00.134Z"
   },
   {
    "duration": 117,
    "start_time": "2022-09-24T16:05:00.146Z"
   },
   {
    "duration": 178,
    "start_time": "2022-09-24T16:05:00.265Z"
   },
   {
    "duration": 162570,
    "start_time": "2022-09-24T16:05:00.444Z"
   },
   {
    "duration": 179,
    "start_time": "2022-09-24T16:07:43.015Z"
   },
   {
    "duration": 12,
    "start_time": "2022-09-24T16:07:43.196Z"
   },
   {
    "duration": 0,
    "start_time": "2022-09-24T16:07:43.210Z"
   },
   {
    "duration": 0,
    "start_time": "2022-09-24T16:07:43.211Z"
   },
   {
    "duration": 0,
    "start_time": "2022-09-24T16:07:43.213Z"
   },
   {
    "duration": 0,
    "start_time": "2022-09-24T16:07:43.214Z"
   },
   {
    "duration": 0,
    "start_time": "2022-09-24T16:07:43.216Z"
   },
   {
    "duration": 1172,
    "start_time": "2022-09-24T16:07:52.392Z"
   },
   {
    "duration": 5,
    "start_time": "2022-09-24T16:08:00.838Z"
   },
   {
    "duration": 9534,
    "start_time": "2022-09-24T16:08:10.769Z"
   },
   {
    "duration": 791,
    "start_time": "2022-09-24T16:08:20.305Z"
   },
   {
    "duration": 4,
    "start_time": "2022-09-24T16:08:21.098Z"
   },
   {
    "duration": 5,
    "start_time": "2022-09-24T16:08:21.104Z"
   },
   {
    "duration": 13,
    "start_time": "2022-09-24T16:08:21.111Z"
   },
   {
    "duration": 50,
    "start_time": "2022-09-26T12:39:29.667Z"
   },
   {
    "duration": 1549,
    "start_time": "2022-09-26T12:39:34.080Z"
   },
   {
    "duration": 1033,
    "start_time": "2022-09-26T12:39:35.630Z"
   },
   {
    "duration": 4,
    "start_time": "2022-09-26T12:39:36.665Z"
   },
   {
    "duration": 1650,
    "start_time": "2022-09-26T12:39:36.671Z"
   },
   {
    "duration": 1020,
    "start_time": "2022-09-26T12:39:38.322Z"
   },
   {
    "duration": 1257,
    "start_time": "2022-09-26T12:39:39.344Z"
   },
   {
    "duration": 17,
    "start_time": "2022-09-26T12:39:40.602Z"
   },
   {
    "duration": 76,
    "start_time": "2022-09-26T12:39:40.620Z"
   },
   {
    "duration": 20,
    "start_time": "2022-09-26T12:39:40.698Z"
   },
   {
    "duration": 57,
    "start_time": "2022-09-26T12:39:40.721Z"
   },
   {
    "duration": 47,
    "start_time": "2022-09-26T12:39:40.780Z"
   },
   {
    "duration": 48,
    "start_time": "2022-09-26T12:39:40.828Z"
   },
   {
    "duration": 124,
    "start_time": "2022-09-26T12:39:40.878Z"
   },
   {
    "duration": 2,
    "start_time": "2022-09-26T12:39:41.004Z"
   },
   {
    "duration": 161,
    "start_time": "2022-09-26T12:39:41.008Z"
   },
   {
    "duration": 323,
    "start_time": "2022-09-26T12:39:41.172Z"
   },
   {
    "duration": 47,
    "start_time": "2022-09-26T12:39:41.497Z"
   },
   {
    "duration": 159,
    "start_time": "2022-09-26T12:39:41.545Z"
   },
   {
    "duration": 3,
    "start_time": "2022-09-26T12:39:41.706Z"
   },
   {
    "duration": 658,
    "start_time": "2022-09-26T12:39:41.711Z"
   },
   {
    "duration": 4,
    "start_time": "2022-09-26T12:39:42.371Z"
   },
   {
    "duration": 214,
    "start_time": "2022-09-26T12:39:42.377Z"
   },
   {
    "duration": 209,
    "start_time": "2022-09-26T12:39:42.592Z"
   },
   {
    "duration": 51,
    "start_time": "2022-09-26T12:39:42.803Z"
   },
   {
    "duration": 45,
    "start_time": "2022-09-26T12:39:42.856Z"
   },
   {
    "duration": 289,
    "start_time": "2022-09-26T12:39:42.902Z"
   },
   {
    "duration": 392,
    "start_time": "2022-09-26T12:39:43.192Z"
   },
   {
    "duration": 91,
    "start_time": "2022-09-26T12:39:43.589Z"
   },
   {
    "duration": 96,
    "start_time": "2022-09-26T12:39:43.684Z"
   },
   {
    "duration": 12649,
    "start_time": "2022-09-26T12:39:43.782Z"
   },
   {
    "duration": 145,
    "start_time": "2022-09-26T12:39:56.433Z"
   },
   {
    "duration": 102,
    "start_time": "2022-09-26T12:39:56.580Z"
   },
   {
    "duration": 625,
    "start_time": "2022-09-26T12:39:56.683Z"
   },
   {
    "duration": 15,
    "start_time": "2022-09-26T12:39:57.310Z"
   },
   {
    "duration": 5,
    "start_time": "2022-09-26T12:39:57.327Z"
   },
   {
    "duration": 4,
    "start_time": "2022-09-26T12:39:57.333Z"
   },
   {
    "duration": 5,
    "start_time": "2022-09-26T12:39:57.338Z"
   },
   {
    "duration": 117,
    "start_time": "2022-09-26T12:39:57.344Z"
   },
   {
    "duration": 156,
    "start_time": "2022-09-26T12:39:57.463Z"
   },
   {
    "duration": 146056,
    "start_time": "2022-09-26T12:39:57.621Z"
   },
   {
    "duration": 1113,
    "start_time": "2022-09-26T12:42:23.679Z"
   },
   {
    "duration": 5,
    "start_time": "2022-09-26T12:42:24.794Z"
   },
   {
    "duration": 102215,
    "start_time": "2022-09-26T12:42:24.801Z"
   },
   {
    "duration": 64,
    "start_time": "2022-09-26T12:44:07.017Z"
   },
   {
    "duration": 10,
    "start_time": "2022-09-26T12:44:07.084Z"
   },
   {
    "duration": 0,
    "start_time": "2022-09-26T12:44:07.096Z"
   },
   {
    "duration": 0,
    "start_time": "2022-09-26T12:44:07.097Z"
   },
   {
    "duration": 0,
    "start_time": "2022-09-26T12:44:07.098Z"
   },
   {
    "duration": 1418,
    "start_time": "2022-09-26T12:44:13.081Z"
   },
   {
    "duration": 1287,
    "start_time": "2022-09-26T12:44:14.501Z"
   },
   {
    "duration": 4,
    "start_time": "2022-09-26T12:44:15.790Z"
   },
   {
    "duration": 1476,
    "start_time": "2022-09-26T12:44:15.796Z"
   },
   {
    "duration": 933,
    "start_time": "2022-09-26T12:44:17.273Z"
   },
   {
    "duration": 1344,
    "start_time": "2022-09-26T12:44:18.208Z"
   },
   {
    "duration": 24,
    "start_time": "2022-09-26T12:44:19.554Z"
   },
   {
    "duration": 73,
    "start_time": "2022-09-26T12:44:19.580Z"
   },
   {
    "duration": 46,
    "start_time": "2022-09-26T12:44:19.655Z"
   },
   {
    "duration": 43,
    "start_time": "2022-09-26T12:44:19.705Z"
   },
   {
    "duration": 75,
    "start_time": "2022-09-26T12:44:19.750Z"
   },
   {
    "duration": 50,
    "start_time": "2022-09-26T12:44:19.827Z"
   },
   {
    "duration": 135,
    "start_time": "2022-09-26T12:44:19.879Z"
   },
   {
    "duration": 3,
    "start_time": "2022-09-26T12:44:20.016Z"
   },
   {
    "duration": 172,
    "start_time": "2022-09-26T12:44:20.021Z"
   },
   {
    "duration": 341,
    "start_time": "2022-09-26T12:44:20.195Z"
   },
   {
    "duration": 60,
    "start_time": "2022-09-26T12:44:20.538Z"
   },
   {
    "duration": 130,
    "start_time": "2022-09-26T12:44:20.600Z"
   },
   {
    "duration": 2,
    "start_time": "2022-09-26T12:44:20.732Z"
   },
   {
    "duration": 683,
    "start_time": "2022-09-26T12:44:20.737Z"
   },
   {
    "duration": 3,
    "start_time": "2022-09-26T12:44:21.422Z"
   },
   {
    "duration": 193,
    "start_time": "2022-09-26T12:44:21.427Z"
   },
   {
    "duration": 208,
    "start_time": "2022-09-26T12:44:21.621Z"
   },
   {
    "duration": 64,
    "start_time": "2022-09-26T12:44:21.830Z"
   },
   {
    "duration": 34,
    "start_time": "2022-09-26T12:44:21.896Z"
   },
   {
    "duration": 276,
    "start_time": "2022-09-26T12:44:21.932Z"
   },
   {
    "duration": 379,
    "start_time": "2022-09-26T12:44:22.210Z"
   },
   {
    "duration": 85,
    "start_time": "2022-09-26T12:44:22.594Z"
   },
   {
    "duration": 98,
    "start_time": "2022-09-26T12:44:22.681Z"
   },
   {
    "duration": 11734,
    "start_time": "2022-09-26T12:44:22.781Z"
   },
   {
    "duration": 72,
    "start_time": "2022-09-26T12:44:34.517Z"
   },
   {
    "duration": 198,
    "start_time": "2022-09-26T12:44:34.591Z"
   },
   {
    "duration": 605,
    "start_time": "2022-09-26T12:44:34.790Z"
   },
   {
    "duration": 19,
    "start_time": "2022-09-26T12:44:35.396Z"
   },
   {
    "duration": 5,
    "start_time": "2022-09-26T12:44:35.417Z"
   },
   {
    "duration": 6,
    "start_time": "2022-09-26T12:44:35.424Z"
   },
   {
    "duration": 5,
    "start_time": "2022-09-26T12:44:35.432Z"
   },
   {
    "duration": 104,
    "start_time": "2022-09-26T12:44:35.438Z"
   },
   {
    "duration": 167,
    "start_time": "2022-09-26T12:44:35.544Z"
   },
   {
    "duration": 112245,
    "start_time": "2022-09-26T12:44:35.713Z"
   },
   {
    "duration": 662,
    "start_time": "2022-09-26T12:46:27.959Z"
   },
   {
    "duration": 4,
    "start_time": "2022-09-26T12:46:28.623Z"
   },
   {
    "duration": 479649,
    "start_time": "2022-09-26T12:46:28.629Z"
   },
   {
    "duration": 698,
    "start_time": "2022-09-26T12:54:28.280Z"
   },
   {
    "duration": 5,
    "start_time": "2022-09-26T12:54:28.979Z"
   },
   {
    "duration": 4,
    "start_time": "2022-09-26T12:54:28.985Z"
   },
   {
    "duration": 11,
    "start_time": "2022-09-26T12:54:28.991Z"
   },
   {
    "duration": 6,
    "start_time": "2022-09-26T12:58:34.473Z"
   },
   {
    "duration": 25,
    "start_time": "2022-09-26T13:03:37.601Z"
   },
   {
    "duration": 16,
    "start_time": "2022-09-26T13:04:16.357Z"
   },
   {
    "duration": 203,
    "start_time": "2022-09-26T13:04:19.011Z"
   },
   {
    "duration": 1875,
    "start_time": "2022-09-26T13:12:02.592Z"
   },
   {
    "duration": 1614,
    "start_time": "2022-09-26T13:12:57.281Z"
   },
   {
    "duration": 1665,
    "start_time": "2022-09-26T13:13:02.621Z"
   },
   {
    "duration": 1803,
    "start_time": "2022-09-26T13:13:13.668Z"
   },
   {
    "duration": 1762,
    "start_time": "2022-09-26T13:13:21.766Z"
   },
   {
    "duration": 1777,
    "start_time": "2022-09-26T13:13:51.798Z"
   },
   {
    "duration": 1507,
    "start_time": "2022-09-26T13:22:29.889Z"
   },
   {
    "duration": 883,
    "start_time": "2022-09-26T13:22:31.398Z"
   },
   {
    "duration": 4,
    "start_time": "2022-09-26T13:22:32.284Z"
   },
   {
    "duration": 1019,
    "start_time": "2022-09-26T13:22:32.291Z"
   },
   {
    "duration": 1056,
    "start_time": "2022-09-26T13:22:33.312Z"
   },
   {
    "duration": 1449,
    "start_time": "2022-09-26T13:22:34.369Z"
   },
   {
    "duration": 19,
    "start_time": "2022-09-26T13:22:35.819Z"
   },
   {
    "duration": 86,
    "start_time": "2022-09-26T13:22:35.840Z"
   },
   {
    "duration": 24,
    "start_time": "2022-09-26T13:22:35.927Z"
   },
   {
    "duration": 73,
    "start_time": "2022-09-26T13:22:35.953Z"
   },
   {
    "duration": 65,
    "start_time": "2022-09-26T13:22:36.029Z"
   },
   {
    "duration": 42,
    "start_time": "2022-09-26T13:22:36.096Z"
   },
   {
    "duration": 158,
    "start_time": "2022-09-26T13:22:36.140Z"
   },
   {
    "duration": 3,
    "start_time": "2022-09-26T13:22:36.301Z"
   },
   {
    "duration": 194,
    "start_time": "2022-09-26T13:22:36.306Z"
   },
   {
    "duration": 456,
    "start_time": "2022-09-26T13:22:36.502Z"
   },
   {
    "duration": 71,
    "start_time": "2022-09-26T13:22:36.961Z"
   },
   {
    "duration": 198,
    "start_time": "2022-09-26T13:22:37.034Z"
   },
   {
    "duration": 3,
    "start_time": "2022-09-26T13:22:37.234Z"
   },
   {
    "duration": 916,
    "start_time": "2022-09-26T13:22:37.240Z"
   },
   {
    "duration": 2135,
    "start_time": "2022-09-26T13:22:38.158Z"
   },
   {
    "duration": 498,
    "start_time": "2022-09-26T13:22:40.296Z"
   },
   {
    "duration": 29,
    "start_time": "2022-09-26T13:22:40.796Z"
   },
   {
    "duration": 133,
    "start_time": "2022-09-26T13:22:40.827Z"
   },
   {
    "duration": 0,
    "start_time": "2022-09-26T13:22:40.963Z"
   },
   {
    "duration": 0,
    "start_time": "2022-09-26T13:22:40.964Z"
   },
   {
    "duration": 0,
    "start_time": "2022-09-26T13:22:40.965Z"
   },
   {
    "duration": 0,
    "start_time": "2022-09-26T13:22:40.976Z"
   },
   {
    "duration": 0,
    "start_time": "2022-09-26T13:22:40.978Z"
   },
   {
    "duration": 0,
    "start_time": "2022-09-26T13:22:40.979Z"
   },
   {
    "duration": 0,
    "start_time": "2022-09-26T13:22:40.982Z"
   },
   {
    "duration": 0,
    "start_time": "2022-09-26T13:22:40.984Z"
   },
   {
    "duration": 0,
    "start_time": "2022-09-26T13:22:40.985Z"
   },
   {
    "duration": 0,
    "start_time": "2022-09-26T13:22:40.987Z"
   },
   {
    "duration": 0,
    "start_time": "2022-09-26T13:22:40.988Z"
   },
   {
    "duration": 0,
    "start_time": "2022-09-26T13:22:40.990Z"
   },
   {
    "duration": 0,
    "start_time": "2022-09-26T13:22:40.991Z"
   },
   {
    "duration": 0,
    "start_time": "2022-09-26T13:22:40.993Z"
   },
   {
    "duration": 0,
    "start_time": "2022-09-26T13:22:40.994Z"
   },
   {
    "duration": 0,
    "start_time": "2022-09-26T13:22:40.995Z"
   },
   {
    "duration": 0,
    "start_time": "2022-09-26T13:22:40.997Z"
   },
   {
    "duration": 0,
    "start_time": "2022-09-26T13:22:40.998Z"
   },
   {
    "duration": 0,
    "start_time": "2022-09-26T13:22:40.999Z"
   },
   {
    "duration": 0,
    "start_time": "2022-09-26T13:22:41.001Z"
   },
   {
    "duration": 1469,
    "start_time": "2022-09-26T13:23:58.685Z"
   },
   {
    "duration": 846,
    "start_time": "2022-09-26T13:24:00.156Z"
   },
   {
    "duration": 6,
    "start_time": "2022-09-26T13:24:01.004Z"
   },
   {
    "duration": 965,
    "start_time": "2022-09-26T13:24:01.012Z"
   },
   {
    "duration": 1702,
    "start_time": "2022-09-26T13:24:01.978Z"
   },
   {
    "duration": 1801,
    "start_time": "2022-09-26T13:24:03.683Z"
   },
   {
    "duration": 25,
    "start_time": "2022-09-26T13:24:05.486Z"
   },
   {
    "duration": 82,
    "start_time": "2022-09-26T13:24:05.513Z"
   },
   {
    "duration": 23,
    "start_time": "2022-09-26T13:24:05.597Z"
   },
   {
    "duration": 74,
    "start_time": "2022-09-26T13:24:05.623Z"
   },
   {
    "duration": 56,
    "start_time": "2022-09-26T13:24:05.698Z"
   },
   {
    "duration": 58,
    "start_time": "2022-09-26T13:24:05.756Z"
   },
   {
    "duration": 151,
    "start_time": "2022-09-26T13:24:05.815Z"
   },
   {
    "duration": 10,
    "start_time": "2022-09-26T13:24:05.967Z"
   },
   {
    "duration": 161,
    "start_time": "2022-09-26T13:24:05.979Z"
   },
   {
    "duration": 346,
    "start_time": "2022-09-26T13:24:06.142Z"
   },
   {
    "duration": 50,
    "start_time": "2022-09-26T13:24:06.490Z"
   },
   {
    "duration": 260,
    "start_time": "2022-09-26T13:24:06.542Z"
   },
   {
    "duration": 3,
    "start_time": "2022-09-26T13:24:06.804Z"
   },
   {
    "duration": 1994,
    "start_time": "2022-09-26T13:24:06.808Z"
   },
   {
    "duration": 1927,
    "start_time": "2022-09-26T13:24:08.804Z"
   },
   {
    "duration": 433,
    "start_time": "2022-09-26T13:24:10.733Z"
   },
   {
    "duration": 36,
    "start_time": "2022-09-26T13:24:11.169Z"
   },
   {
    "duration": 35485,
    "start_time": "2022-09-26T13:24:11.207Z"
   },
   {
    "duration": 291,
    "start_time": "2022-09-26T13:24:46.695Z"
   },
   {
    "duration": 92,
    "start_time": "2022-09-26T13:24:46.988Z"
   },
   {
    "duration": 1504,
    "start_time": "2022-09-26T13:33:45.913Z"
   },
   {
    "duration": 1363,
    "start_time": "2022-09-26T13:33:47.420Z"
   },
   {
    "duration": 5,
    "start_time": "2022-09-26T13:33:48.785Z"
   },
   {
    "duration": 1189,
    "start_time": "2022-09-26T13:33:48.793Z"
   },
   {
    "duration": 1094,
    "start_time": "2022-09-26T13:33:49.985Z"
   },
   {
    "duration": 1441,
    "start_time": "2022-09-26T13:33:51.082Z"
   },
   {
    "duration": 35,
    "start_time": "2022-09-26T13:33:52.525Z"
   },
   {
    "duration": 101,
    "start_time": "2022-09-26T13:33:52.563Z"
   },
   {
    "duration": 31,
    "start_time": "2022-09-26T13:33:52.677Z"
   },
   {
    "duration": 86,
    "start_time": "2022-09-26T13:33:52.712Z"
   },
   {
    "duration": 60,
    "start_time": "2022-09-26T13:33:52.801Z"
   },
   {
    "duration": 73,
    "start_time": "2022-09-26T13:33:52.876Z"
   },
   {
    "duration": 215,
    "start_time": "2022-09-26T13:33:52.952Z"
   },
   {
    "duration": 8,
    "start_time": "2022-09-26T13:33:53.170Z"
   },
   {
    "duration": 275,
    "start_time": "2022-09-26T13:33:53.180Z"
   },
   {
    "duration": 531,
    "start_time": "2022-09-26T13:33:53.457Z"
   },
   {
    "duration": 65,
    "start_time": "2022-09-26T13:33:53.990Z"
   },
   {
    "duration": 188,
    "start_time": "2022-09-26T13:33:54.056Z"
   },
   {
    "duration": 4,
    "start_time": "2022-09-26T13:33:54.246Z"
   },
   {
    "duration": 889,
    "start_time": "2022-09-26T13:33:54.252Z"
   },
   {
    "duration": 2033,
    "start_time": "2022-09-26T13:33:55.143Z"
   },
   {
    "duration": 442,
    "start_time": "2022-09-26T13:33:57.178Z"
   },
   {
    "duration": 33,
    "start_time": "2022-09-26T13:33:57.622Z"
   },
   {
    "duration": 30728,
    "start_time": "2022-09-26T13:33:57.657Z"
   },
   {
    "duration": 592,
    "start_time": "2022-09-26T13:34:28.387Z"
   },
   {
    "duration": 7,
    "start_time": "2022-09-26T13:34:28.981Z"
   },
   {
    "duration": 1507,
    "start_time": "2022-09-26T13:36:23.012Z"
   },
   {
    "duration": 946,
    "start_time": "2022-09-26T13:36:24.522Z"
   },
   {
    "duration": 7,
    "start_time": "2022-09-26T13:36:25.478Z"
   },
   {
    "duration": 1023,
    "start_time": "2022-09-26T13:36:25.487Z"
   },
   {
    "duration": 1116,
    "start_time": "2022-09-26T13:36:26.512Z"
   },
   {
    "duration": 1433,
    "start_time": "2022-09-26T13:36:27.630Z"
   },
   {
    "duration": 23,
    "start_time": "2022-09-26T13:36:29.065Z"
   },
   {
    "duration": 87,
    "start_time": "2022-09-26T13:36:29.091Z"
   },
   {
    "duration": 23,
    "start_time": "2022-09-26T13:36:29.181Z"
   },
   {
    "duration": 72,
    "start_time": "2022-09-26T13:36:29.207Z"
   },
   {
    "duration": 65,
    "start_time": "2022-09-26T13:36:29.281Z"
   },
   {
    "duration": 75,
    "start_time": "2022-09-26T13:36:29.348Z"
   },
   {
    "duration": 160,
    "start_time": "2022-09-26T13:36:29.425Z"
   },
   {
    "duration": 5,
    "start_time": "2022-09-26T13:36:29.588Z"
   },
   {
    "duration": 252,
    "start_time": "2022-09-26T13:36:29.595Z"
   },
   {
    "duration": 512,
    "start_time": "2022-09-26T13:36:29.849Z"
   },
   {
    "duration": 57,
    "start_time": "2022-09-26T13:36:30.363Z"
   },
   {
    "duration": 158,
    "start_time": "2022-09-26T13:36:30.423Z"
   },
   {
    "duration": 3,
    "start_time": "2022-09-26T13:36:30.583Z"
   },
   {
    "duration": 1041,
    "start_time": "2022-09-26T13:36:30.588Z"
   },
   {
    "duration": 2116,
    "start_time": "2022-09-26T13:36:31.632Z"
   },
   {
    "duration": 450,
    "start_time": "2022-09-26T13:36:33.751Z"
   },
   {
    "duration": 30,
    "start_time": "2022-09-26T13:36:34.203Z"
   },
   {
    "duration": 29244,
    "start_time": "2022-09-26T13:36:34.234Z"
   },
   {
    "duration": 499,
    "start_time": "2022-09-26T13:37:03.480Z"
   },
   {
    "duration": 6,
    "start_time": "2022-09-26T13:37:03.981Z"
   },
   {
    "duration": 4490,
    "start_time": "2022-09-26T13:37:03.991Z"
   },
   {
    "duration": 174,
    "start_time": "2022-09-26T13:37:08.483Z"
   },
   {
    "duration": 9,
    "start_time": "2022-09-26T13:37:08.659Z"
   },
   {
    "duration": 5,
    "start_time": "2022-09-26T13:37:08.677Z"
   },
   {
    "duration": 11,
    "start_time": "2022-09-26T13:37:08.685Z"
   },
   {
    "duration": 133,
    "start_time": "2022-09-26T13:37:08.698Z"
   },
   {
    "duration": 0,
    "start_time": "2022-09-26T13:37:08.832Z"
   },
   {
    "duration": 0,
    "start_time": "2022-09-26T13:37:08.834Z"
   },
   {
    "duration": 0,
    "start_time": "2022-09-26T13:37:08.835Z"
   },
   {
    "duration": 0,
    "start_time": "2022-09-26T13:37:08.836Z"
   },
   {
    "duration": 0,
    "start_time": "2022-09-26T13:37:08.838Z"
   },
   {
    "duration": 0,
    "start_time": "2022-09-26T13:37:08.839Z"
   },
   {
    "duration": 0,
    "start_time": "2022-09-26T13:37:08.840Z"
   },
   {
    "duration": 0,
    "start_time": "2022-09-26T13:37:08.841Z"
   },
   {
    "duration": 14710,
    "start_time": "2022-09-26T13:41:56.156Z"
   },
   {
    "duration": 87,
    "start_time": "2022-09-26T13:42:10.868Z"
   },
   {
    "duration": 218344,
    "start_time": "2022-09-26T13:42:36.745Z"
   },
   {
    "duration": 92,
    "start_time": "2022-09-26T13:46:15.092Z"
   },
   {
    "duration": 15,
    "start_time": "2022-09-26T13:46:28.817Z"
   },
   {
    "duration": 26,
    "start_time": "2022-09-26T13:46:49.359Z"
   },
   {
    "duration": 8442,
    "start_time": "2022-09-26T13:48:48.885Z"
   },
   {
    "duration": 1450,
    "start_time": "2022-09-26T13:49:21.727Z"
   },
   {
    "duration": 860,
    "start_time": "2022-09-26T13:49:23.179Z"
   },
   {
    "duration": 5,
    "start_time": "2022-09-26T13:49:24.041Z"
   },
   {
    "duration": 1635,
    "start_time": "2022-09-26T13:49:24.049Z"
   },
   {
    "duration": 2202,
    "start_time": "2022-09-26T13:49:25.686Z"
   },
   {
    "duration": 1608,
    "start_time": "2022-09-26T13:49:27.890Z"
   },
   {
    "duration": 24,
    "start_time": "2022-09-26T13:49:29.500Z"
   },
   {
    "duration": 84,
    "start_time": "2022-09-26T13:49:29.526Z"
   },
   {
    "duration": 22,
    "start_time": "2022-09-26T13:49:29.612Z"
   },
   {
    "duration": 73,
    "start_time": "2022-09-26T13:49:29.636Z"
   },
   {
    "duration": 66,
    "start_time": "2022-09-26T13:49:29.711Z"
   },
   {
    "duration": 43,
    "start_time": "2022-09-26T13:49:29.779Z"
   },
   {
    "duration": 159,
    "start_time": "2022-09-26T13:49:29.824Z"
   },
   {
    "duration": 3,
    "start_time": "2022-09-26T13:49:29.985Z"
   },
   {
    "duration": 166,
    "start_time": "2022-09-26T13:49:29.989Z"
   },
   {
    "duration": 362,
    "start_time": "2022-09-26T13:49:30.158Z"
   },
   {
    "duration": 68,
    "start_time": "2022-09-26T13:49:30.522Z"
   },
   {
    "duration": 143,
    "start_time": "2022-09-26T13:49:30.592Z"
   },
   {
    "duration": 3,
    "start_time": "2022-09-26T13:49:30.737Z"
   },
   {
    "duration": 709,
    "start_time": "2022-09-26T13:49:30.742Z"
   },
   {
    "duration": 118,
    "start_time": "2022-09-26T13:49:31.453Z"
   },
   {
    "duration": 251,
    "start_time": "2022-09-26T13:49:31.573Z"
   },
   {
    "duration": 102,
    "start_time": "2022-09-26T13:49:31.827Z"
   },
   {
    "duration": 52,
    "start_time": "2022-09-26T13:49:31.931Z"
   },
   {
    "duration": 393,
    "start_time": "2022-09-26T13:49:31.985Z"
   },
   {
    "duration": 102,
    "start_time": "2022-09-26T13:49:32.379Z"
   },
   {
    "duration": 115,
    "start_time": "2022-09-26T13:49:32.484Z"
   },
   {
    "duration": 713,
    "start_time": "2022-09-26T13:49:32.604Z"
   },
   {
    "duration": 21,
    "start_time": "2022-09-26T13:49:33.319Z"
   },
   {
    "duration": 5,
    "start_time": "2022-09-26T13:49:33.342Z"
   },
   {
    "duration": 7,
    "start_time": "2022-09-26T13:49:33.349Z"
   },
   {
    "duration": 4,
    "start_time": "2022-09-26T13:49:33.377Z"
   },
   {
    "duration": 119,
    "start_time": "2022-09-26T13:49:33.384Z"
   },
   {
    "duration": 183,
    "start_time": "2022-09-26T13:49:33.505Z"
   },
   {
    "duration": 120004,
    "start_time": "2022-09-26T13:49:33.690Z"
   },
   {
    "duration": 741,
    "start_time": "2022-09-26T13:51:33.695Z"
   },
   {
    "duration": 6,
    "start_time": "2022-09-26T13:51:34.439Z"
   },
   {
    "duration": 2025,
    "start_time": "2022-09-26T13:51:34.447Z"
   },
   {
    "duration": 182553,
    "start_time": "2022-09-26T13:51:36.474Z"
   },
   {
    "duration": 125,
    "start_time": "2022-09-26T13:54:39.076Z"
   },
   {
    "duration": 0,
    "start_time": "2022-09-26T13:54:39.202Z"
   },
   {
    "duration": 16,
    "start_time": "2022-09-26T13:54:47.484Z"
   },
   {
    "duration": 15,
    "start_time": "2022-09-26T13:54:55.554Z"
   },
   {
    "duration": 14,
    "start_time": "2022-09-26T13:54:59.470Z"
   },
   {
    "duration": 12,
    "start_time": "2022-09-26T13:55:05.672Z"
   },
   {
    "duration": 12,
    "start_time": "2022-09-26T13:55:09.321Z"
   },
   {
    "duration": 4,
    "start_time": "2022-09-26T13:55:13.526Z"
   },
   {
    "duration": 11,
    "start_time": "2022-09-26T13:55:15.970Z"
   },
   {
    "duration": 57,
    "start_time": "2022-09-26T13:55:20.270Z"
   },
   {
    "duration": 4,
    "start_time": "2022-09-26T13:55:25.021Z"
   },
   {
    "duration": 12,
    "start_time": "2022-09-26T13:55:26.999Z"
   },
   {
    "duration": 9,
    "start_time": "2022-09-26T13:57:43.496Z"
   },
   {
    "duration": 5,
    "start_time": "2022-09-26T13:57:47.182Z"
   },
   {
    "duration": 12,
    "start_time": "2022-09-26T13:57:48.576Z"
   },
   {
    "duration": 1496,
    "start_time": "2022-09-26T14:01:59.150Z"
   },
   {
    "duration": 846,
    "start_time": "2022-09-26T14:02:00.648Z"
   },
   {
    "duration": 4,
    "start_time": "2022-09-26T14:02:01.495Z"
   },
   {
    "duration": 953,
    "start_time": "2022-09-26T14:02:01.501Z"
   },
   {
    "duration": 1028,
    "start_time": "2022-09-26T14:02:02.456Z"
   },
   {
    "duration": 1339,
    "start_time": "2022-09-26T14:02:03.486Z"
   },
   {
    "duration": 17,
    "start_time": "2022-09-26T14:02:04.827Z"
   },
   {
    "duration": 91,
    "start_time": "2022-09-26T14:02:04.846Z"
   },
   {
    "duration": 23,
    "start_time": "2022-09-26T14:02:04.938Z"
   },
   {
    "duration": 60,
    "start_time": "2022-09-26T14:02:04.963Z"
   },
   {
    "duration": 80,
    "start_time": "2022-09-26T14:02:05.025Z"
   },
   {
    "duration": 38,
    "start_time": "2022-09-26T14:02:05.107Z"
   },
   {
    "duration": 192,
    "start_time": "2022-09-26T14:02:05.146Z"
   },
   {
    "duration": 3,
    "start_time": "2022-09-26T14:02:05.341Z"
   },
   {
    "duration": 176,
    "start_time": "2022-09-26T14:02:05.346Z"
   },
   {
    "duration": 341,
    "start_time": "2022-09-26T14:02:05.524Z"
   },
   {
    "duration": 59,
    "start_time": "2022-09-26T14:02:05.867Z"
   },
   {
    "duration": 124,
    "start_time": "2022-09-26T14:02:05.927Z"
   },
   {
    "duration": 3,
    "start_time": "2022-09-26T14:02:06.052Z"
   },
   {
    "duration": 688,
    "start_time": "2022-09-26T14:02:06.057Z"
   },
   {
    "duration": 114,
    "start_time": "2022-09-26T14:02:06.746Z"
   },
   {
    "duration": 263,
    "start_time": "2022-09-26T14:02:06.862Z"
   },
   {
    "duration": 69,
    "start_time": "2022-09-26T14:02:07.127Z"
   },
   {
    "duration": 41,
    "start_time": "2022-09-26T14:02:07.198Z"
   },
   {
    "duration": 346,
    "start_time": "2022-09-26T14:02:07.241Z"
   },
   {
    "duration": 96,
    "start_time": "2022-09-26T14:02:07.589Z"
   },
   {
    "duration": 110,
    "start_time": "2022-09-26T14:02:07.687Z"
   },
   {
    "duration": 646,
    "start_time": "2022-09-26T14:02:07.801Z"
   },
   {
    "duration": 16,
    "start_time": "2022-09-26T14:02:08.451Z"
   },
   {
    "duration": 5,
    "start_time": "2022-09-26T14:02:08.477Z"
   },
   {
    "duration": 6,
    "start_time": "2022-09-26T14:02:08.484Z"
   },
   {
    "duration": 7,
    "start_time": "2022-09-26T14:02:08.492Z"
   },
   {
    "duration": 124,
    "start_time": "2022-09-26T14:02:08.501Z"
   },
   {
    "duration": 168,
    "start_time": "2022-09-26T14:02:08.627Z"
   },
   {
    "duration": 114888,
    "start_time": "2022-09-26T14:02:08.797Z"
   },
   {
    "duration": 732,
    "start_time": "2022-09-26T14:04:03.687Z"
   },
   {
    "duration": 5,
    "start_time": "2022-09-26T14:04:04.420Z"
   },
   {
    "duration": 1892,
    "start_time": "2022-09-26T14:04:04.426Z"
   },
   {
    "duration": 131210,
    "start_time": "2022-09-26T14:04:06.320Z"
   },
   {
    "duration": 4,
    "start_time": "2022-09-26T14:06:17.532Z"
   },
   {
    "duration": 9,
    "start_time": "2022-09-26T14:06:17.577Z"
   },
   {
    "duration": 1598,
    "start_time": "2022-09-27T18:12:07.609Z"
   },
   {
    "duration": 3025,
    "start_time": "2022-09-27T18:12:09.209Z"
   },
   {
    "duration": 5,
    "start_time": "2022-09-27T18:12:12.236Z"
   },
   {
    "duration": 884,
    "start_time": "2022-09-27T18:12:12.243Z"
   },
   {
    "duration": 905,
    "start_time": "2022-09-27T18:12:13.129Z"
   },
   {
    "duration": 1202,
    "start_time": "2022-09-27T18:12:14.036Z"
   },
   {
    "duration": 15,
    "start_time": "2022-09-27T18:12:15.240Z"
   },
   {
    "duration": 88,
    "start_time": "2022-09-27T18:12:15.256Z"
   },
   {
    "duration": 23,
    "start_time": "2022-09-27T18:12:15.346Z"
   },
   {
    "duration": 66,
    "start_time": "2022-09-27T18:12:15.371Z"
   },
   {
    "duration": 71,
    "start_time": "2022-09-27T18:12:15.439Z"
   },
   {
    "duration": 58,
    "start_time": "2022-09-27T18:12:15.522Z"
   },
   {
    "duration": 143,
    "start_time": "2022-09-27T18:12:15.582Z"
   },
   {
    "duration": 3,
    "start_time": "2022-09-27T18:12:15.728Z"
   },
   {
    "duration": 205,
    "start_time": "2022-09-27T18:12:15.732Z"
   },
   {
    "duration": 435,
    "start_time": "2022-09-27T18:12:15.939Z"
   },
   {
    "duration": 49,
    "start_time": "2022-09-27T18:12:16.376Z"
   },
   {
    "duration": 119,
    "start_time": "2022-09-27T18:12:16.427Z"
   },
   {
    "duration": 2,
    "start_time": "2022-09-27T18:12:16.548Z"
   },
   {
    "duration": 607,
    "start_time": "2022-09-27T18:12:16.552Z"
   },
   {
    "duration": 114,
    "start_time": "2022-09-27T18:12:17.161Z"
   },
   {
    "duration": 216,
    "start_time": "2022-09-27T18:12:17.276Z"
   },
   {
    "duration": 59,
    "start_time": "2022-09-27T18:12:17.494Z"
   },
   {
    "duration": 38,
    "start_time": "2022-09-27T18:12:17.555Z"
   },
   {
    "duration": 237,
    "start_time": "2022-09-27T18:12:17.595Z"
   },
   {
    "duration": 3,
    "start_time": "2022-09-27T18:12:17.834Z"
   },
   {
    "duration": 0,
    "start_time": "2022-09-27T18:12:17.839Z"
   },
   {
    "duration": 0,
    "start_time": "2022-09-27T18:12:17.840Z"
   },
   {
    "duration": 0,
    "start_time": "2022-09-27T18:12:17.842Z"
   },
   {
    "duration": 0,
    "start_time": "2022-09-27T18:12:17.843Z"
   },
   {
    "duration": 0,
    "start_time": "2022-09-27T18:12:17.844Z"
   },
   {
    "duration": 0,
    "start_time": "2022-09-27T18:12:17.845Z"
   },
   {
    "duration": 0,
    "start_time": "2022-09-27T18:12:17.846Z"
   },
   {
    "duration": 0,
    "start_time": "2022-09-27T18:12:17.848Z"
   },
   {
    "duration": 0,
    "start_time": "2022-09-27T18:12:17.851Z"
   },
   {
    "duration": 0,
    "start_time": "2022-09-27T18:12:17.853Z"
   },
   {
    "duration": 0,
    "start_time": "2022-09-27T18:12:17.854Z"
   },
   {
    "duration": 0,
    "start_time": "2022-09-27T18:12:17.856Z"
   },
   {
    "duration": 0,
    "start_time": "2022-09-27T18:12:17.857Z"
   },
   {
    "duration": 0,
    "start_time": "2022-09-27T18:12:17.859Z"
   },
   {
    "duration": 0,
    "start_time": "2022-09-27T18:12:17.860Z"
   },
   {
    "duration": 0,
    "start_time": "2022-09-27T18:12:17.862Z"
   },
   {
    "duration": 4,
    "start_time": "2022-09-27T18:16:53.599Z"
   },
   {
    "duration": 4,
    "start_time": "2022-09-27T18:16:56.422Z"
   },
   {
    "duration": 4,
    "start_time": "2022-09-27T18:17:02.379Z"
   },
   {
    "duration": 4,
    "start_time": "2022-09-27T18:17:19.304Z"
   },
   {
    "duration": 386,
    "start_time": "2022-09-27T18:17:22.541Z"
   },
   {
    "duration": 3,
    "start_time": "2022-09-27T18:17:31.772Z"
   },
   {
    "duration": 327,
    "start_time": "2022-09-27T18:17:35.914Z"
   },
   {
    "duration": 318,
    "start_time": "2022-09-27T18:17:42.326Z"
   },
   {
    "duration": 102,
    "start_time": "2022-09-27T18:17:48.322Z"
   },
   {
    "duration": 167,
    "start_time": "2022-09-27T18:17:52.986Z"
   },
   {
    "duration": 81,
    "start_time": "2022-09-27T18:18:13.620Z"
   },
   {
    "duration": 7,
    "start_time": "2022-09-27T18:18:23.453Z"
   },
   {
    "duration": 556,
    "start_time": "2022-09-27T18:18:57.984Z"
   },
   {
    "duration": 1422,
    "start_time": "2022-09-27T18:19:03.780Z"
   },
   {
    "duration": 797,
    "start_time": "2022-09-27T18:19:05.204Z"
   },
   {
    "duration": 5,
    "start_time": "2022-09-27T18:19:06.003Z"
   },
   {
    "duration": 978,
    "start_time": "2022-09-27T18:19:06.010Z"
   },
   {
    "duration": 983,
    "start_time": "2022-09-27T18:19:06.989Z"
   },
   {
    "duration": 1221,
    "start_time": "2022-09-27T18:19:07.974Z"
   },
   {
    "duration": 27,
    "start_time": "2022-09-27T18:19:09.197Z"
   },
   {
    "duration": 88,
    "start_time": "2022-09-27T18:19:09.226Z"
   },
   {
    "duration": 22,
    "start_time": "2022-09-27T18:19:09.321Z"
   },
   {
    "duration": 49,
    "start_time": "2022-09-27T18:19:09.345Z"
   },
   {
    "duration": 81,
    "start_time": "2022-09-27T18:19:09.396Z"
   },
   {
    "duration": 55,
    "start_time": "2022-09-27T18:19:09.479Z"
   },
   {
    "duration": 146,
    "start_time": "2022-09-27T18:19:09.536Z"
   },
   {
    "duration": 3,
    "start_time": "2022-09-27T18:19:09.684Z"
   },
   {
    "duration": 145,
    "start_time": "2022-09-27T18:19:09.689Z"
   },
   {
    "duration": 361,
    "start_time": "2022-09-27T18:19:09.836Z"
   },
   {
    "duration": 56,
    "start_time": "2022-09-27T18:19:10.199Z"
   },
   {
    "duration": 125,
    "start_time": "2022-09-27T18:19:10.257Z"
   },
   {
    "duration": 2,
    "start_time": "2022-09-27T18:19:10.384Z"
   },
   {
    "duration": 717,
    "start_time": "2022-09-27T18:19:10.387Z"
   },
   {
    "duration": 119,
    "start_time": "2022-09-27T18:19:11.107Z"
   },
   {
    "duration": 221,
    "start_time": "2022-09-27T18:19:11.227Z"
   },
   {
    "duration": 87,
    "start_time": "2022-09-27T18:19:11.450Z"
   },
   {
    "duration": 44,
    "start_time": "2022-09-27T18:19:11.539Z"
   },
   {
    "duration": 184,
    "start_time": "2022-09-27T18:19:11.585Z"
   },
   {
    "duration": 360,
    "start_time": "2022-09-27T18:19:11.771Z"
   },
   {
    "duration": 99,
    "start_time": "2022-09-27T18:19:12.133Z"
   },
   {
    "duration": 89,
    "start_time": "2022-09-27T18:19:12.235Z"
   },
   {
    "duration": 674,
    "start_time": "2022-09-27T18:19:12.331Z"
   },
   {
    "duration": 25,
    "start_time": "2022-09-27T18:19:13.006Z"
   },
   {
    "duration": 5,
    "start_time": "2022-09-27T18:19:13.033Z"
   },
   {
    "duration": 5,
    "start_time": "2022-09-27T18:19:13.039Z"
   },
   {
    "duration": 8,
    "start_time": "2022-09-27T18:19:13.045Z"
   },
   {
    "duration": 105,
    "start_time": "2022-09-27T18:19:13.055Z"
   },
   {
    "duration": 162,
    "start_time": "2022-09-27T18:19:13.162Z"
   },
   {
    "duration": 109217,
    "start_time": "2022-09-27T18:19:13.326Z"
   },
   {
    "duration": 691,
    "start_time": "2022-09-27T18:21:02.546Z"
   },
   {
    "duration": 5,
    "start_time": "2022-09-27T18:21:03.239Z"
   },
   {
    "duration": 1842,
    "start_time": "2022-09-27T18:21:03.246Z"
   },
   {
    "duration": 1674,
    "start_time": "2022-09-27T19:37:18.481Z"
   },
   {
    "duration": 1179,
    "start_time": "2022-09-27T19:37:20.157Z"
   },
   {
    "duration": 5,
    "start_time": "2022-09-27T19:37:21.337Z"
   },
   {
    "duration": 1816,
    "start_time": "2022-09-27T19:37:21.344Z"
   },
   {
    "duration": 1005,
    "start_time": "2022-09-27T19:37:23.162Z"
   },
   {
    "duration": 1362,
    "start_time": "2022-09-27T19:37:24.170Z"
   },
   {
    "duration": 18,
    "start_time": "2022-09-27T19:37:25.535Z"
   },
   {
    "duration": 82,
    "start_time": "2022-09-27T19:37:25.555Z"
   },
   {
    "duration": 20,
    "start_time": "2022-09-27T19:37:25.639Z"
   },
   {
    "duration": 61,
    "start_time": "2022-09-27T19:37:25.662Z"
   },
   {
    "duration": 54,
    "start_time": "2022-09-27T19:37:25.725Z"
   },
   {
    "duration": 64,
    "start_time": "2022-09-27T19:37:25.781Z"
   },
   {
    "duration": 138,
    "start_time": "2022-09-27T19:37:25.848Z"
   },
   {
    "duration": 3,
    "start_time": "2022-09-27T19:37:25.987Z"
   },
   {
    "duration": 169,
    "start_time": "2022-09-27T19:37:25.991Z"
   },
   {
    "duration": 344,
    "start_time": "2022-09-27T19:37:26.161Z"
   },
   {
    "duration": 59,
    "start_time": "2022-09-27T19:37:26.507Z"
   },
   {
    "duration": 136,
    "start_time": "2022-09-27T19:37:26.568Z"
   },
   {
    "duration": 3,
    "start_time": "2022-09-27T19:37:26.705Z"
   },
   {
    "duration": 704,
    "start_time": "2022-09-27T19:37:26.710Z"
   },
   {
    "duration": 114,
    "start_time": "2022-09-27T19:37:27.415Z"
   },
   {
    "duration": 232,
    "start_time": "2022-09-27T19:37:27.531Z"
   },
   {
    "duration": 65,
    "start_time": "2022-09-27T19:37:27.765Z"
   },
   {
    "duration": 41,
    "start_time": "2022-09-27T19:37:27.832Z"
   },
   {
    "duration": 191,
    "start_time": "2022-09-27T19:37:27.875Z"
   },
   {
    "duration": 363,
    "start_time": "2022-09-27T19:37:28.068Z"
   },
   {
    "duration": 106,
    "start_time": "2022-09-27T19:37:28.432Z"
   },
   {
    "duration": 232,
    "start_time": "2022-09-27T19:37:28.624Z"
   },
   {
    "duration": 696,
    "start_time": "2022-09-27T19:37:28.858Z"
   },
   {
    "duration": 47,
    "start_time": "2022-09-27T19:37:29.557Z"
   },
   {
    "duration": 7,
    "start_time": "2022-09-27T19:37:29.620Z"
   },
   {
    "duration": 4,
    "start_time": "2022-09-27T19:37:29.629Z"
   },
   {
    "duration": 9,
    "start_time": "2022-09-27T19:37:29.635Z"
   },
   {
    "duration": 113,
    "start_time": "2022-09-27T19:37:29.646Z"
   },
   {
    "duration": 183,
    "start_time": "2022-09-27T19:37:29.761Z"
   },
   {
    "duration": 1473,
    "start_time": "2022-09-27T19:38:12.304Z"
   },
   {
    "duration": 1062,
    "start_time": "2022-09-27T19:38:13.779Z"
   },
   {
    "duration": 4,
    "start_time": "2022-09-27T19:38:14.842Z"
   },
   {
    "duration": 1652,
    "start_time": "2022-09-27T19:38:14.848Z"
   },
   {
    "duration": 987,
    "start_time": "2022-09-27T19:38:16.502Z"
   },
   {
    "duration": 1395,
    "start_time": "2022-09-27T19:38:17.490Z"
   },
   {
    "duration": 22,
    "start_time": "2022-09-27T19:38:18.887Z"
   },
   {
    "duration": 78,
    "start_time": "2022-09-27T19:38:18.920Z"
   },
   {
    "duration": 39,
    "start_time": "2022-09-27T19:38:19.001Z"
   },
   {
    "duration": 54,
    "start_time": "2022-09-27T19:38:19.043Z"
   },
   {
    "duration": 86,
    "start_time": "2022-09-27T19:38:19.099Z"
   },
   {
    "duration": 57,
    "start_time": "2022-09-27T19:38:19.187Z"
   },
   {
    "duration": 137,
    "start_time": "2022-09-27T19:38:19.247Z"
   },
   {
    "duration": 2,
    "start_time": "2022-09-27T19:38:19.386Z"
   },
   {
    "duration": 162,
    "start_time": "2022-09-27T19:38:19.390Z"
   },
   {
    "duration": 349,
    "start_time": "2022-09-27T19:38:19.554Z"
   },
   {
    "duration": 58,
    "start_time": "2022-09-27T19:38:19.905Z"
   },
   {
    "duration": 125,
    "start_time": "2022-09-27T19:38:19.964Z"
   },
   {
    "duration": 3,
    "start_time": "2022-09-27T19:38:20.091Z"
   },
   {
    "duration": 660,
    "start_time": "2022-09-27T19:38:20.095Z"
   },
   {
    "duration": 114,
    "start_time": "2022-09-27T19:38:20.757Z"
   },
   {
    "duration": 212,
    "start_time": "2022-09-27T19:38:20.873Z"
   },
   {
    "duration": 63,
    "start_time": "2022-09-27T19:38:21.087Z"
   },
   {
    "duration": 39,
    "start_time": "2022-09-27T19:38:21.152Z"
   },
   {
    "duration": 183,
    "start_time": "2022-09-27T19:38:21.192Z"
   },
   {
    "duration": 349,
    "start_time": "2022-09-27T19:38:21.376Z"
   },
   {
    "duration": 102,
    "start_time": "2022-09-27T19:38:21.726Z"
   },
   {
    "duration": 2388,
    "start_time": "2022-09-27T19:38:21.834Z"
   },
   {
    "duration": 698,
    "start_time": "2022-09-27T19:38:24.224Z"
   },
   {
    "duration": 44,
    "start_time": "2022-09-27T19:38:24.924Z"
   },
   {
    "duration": 5,
    "start_time": "2022-09-27T19:38:24.969Z"
   },
   {
    "duration": 4,
    "start_time": "2022-09-27T19:38:24.976Z"
   },
   {
    "duration": 5,
    "start_time": "2022-09-27T19:38:24.982Z"
   },
   {
    "duration": 114,
    "start_time": "2022-09-27T19:38:24.989Z"
   },
   {
    "duration": 164,
    "start_time": "2022-09-27T19:38:25.105Z"
   },
   {
    "duration": 114834,
    "start_time": "2022-09-27T19:38:25.270Z"
   },
   {
    "duration": 679,
    "start_time": "2022-09-27T19:40:20.106Z"
   },
   {
    "duration": 5,
    "start_time": "2022-09-27T19:40:20.787Z"
   },
   {
    "duration": 1899,
    "start_time": "2022-09-27T19:40:20.793Z"
   },
   {
    "duration": 366348,
    "start_time": "2022-09-27T19:40:22.694Z"
   },
   {
    "duration": 5,
    "start_time": "2022-09-27T19:46:29.044Z"
   },
   {
    "duration": 24,
    "start_time": "2022-09-27T19:46:29.051Z"
   },
   {
    "duration": 2496,
    "start_time": "2022-09-27T20:20:45.828Z"
   },
   {
    "duration": 2327,
    "start_time": "2022-09-27T20:20:59.295Z"
   },
   {
    "duration": 2325,
    "start_time": "2022-09-27T20:21:07.011Z"
   },
   {
    "duration": 2269,
    "start_time": "2022-09-27T20:21:20.957Z"
   },
   {
    "duration": 2349,
    "start_time": "2022-09-27T20:21:34.186Z"
   },
   {
    "duration": 2857,
    "start_time": "2022-09-28T09:41:47.058Z"
   },
   {
    "duration": 1199,
    "start_time": "2022-09-28T09:41:49.918Z"
   },
   {
    "duration": 6,
    "start_time": "2022-09-28T09:41:51.119Z"
   },
   {
    "duration": 1092,
    "start_time": "2022-09-28T09:41:51.127Z"
   },
   {
    "duration": 1068,
    "start_time": "2022-09-28T09:41:52.221Z"
   },
   {
    "duration": 1434,
    "start_time": "2022-09-28T09:41:53.291Z"
   },
   {
    "duration": 18,
    "start_time": "2022-09-28T09:41:54.727Z"
   },
   {
    "duration": 102,
    "start_time": "2022-09-28T09:41:54.747Z"
   },
   {
    "duration": 23,
    "start_time": "2022-09-28T09:41:54.851Z"
   },
   {
    "duration": 52,
    "start_time": "2022-09-28T09:41:54.877Z"
   },
   {
    "duration": 61,
    "start_time": "2022-09-28T09:41:54.953Z"
   },
   {
    "duration": 55,
    "start_time": "2022-09-28T09:41:55.016Z"
   },
   {
    "duration": 138,
    "start_time": "2022-09-28T09:41:55.073Z"
   },
   {
    "duration": 3,
    "start_time": "2022-09-28T09:41:55.212Z"
   },
   {
    "duration": 167,
    "start_time": "2022-09-28T09:41:55.217Z"
   },
   {
    "duration": 363,
    "start_time": "2022-09-28T09:41:55.386Z"
   },
   {
    "duration": 62,
    "start_time": "2022-09-28T09:41:55.751Z"
   },
   {
    "duration": 141,
    "start_time": "2022-09-28T09:41:55.815Z"
   },
   {
    "duration": 3,
    "start_time": "2022-09-28T09:41:55.958Z"
   },
   {
    "duration": 740,
    "start_time": "2022-09-28T09:41:55.963Z"
   },
   {
    "duration": 120,
    "start_time": "2022-09-28T09:41:56.705Z"
   },
   {
    "duration": 228,
    "start_time": "2022-09-28T09:41:56.827Z"
   },
   {
    "duration": 58,
    "start_time": "2022-09-28T09:41:57.057Z"
   },
   {
    "duration": 63,
    "start_time": "2022-09-28T09:41:57.117Z"
   },
   {
    "duration": 196,
    "start_time": "2022-09-28T09:41:57.182Z"
   },
   {
    "duration": 384,
    "start_time": "2022-09-28T09:41:57.380Z"
   },
   {
    "duration": 100,
    "start_time": "2022-09-28T09:41:57.766Z"
   },
   {
    "duration": 2498,
    "start_time": "2022-09-28T09:41:57.958Z"
   },
   {
    "duration": 756,
    "start_time": "2022-09-28T09:42:00.458Z"
   },
   {
    "duration": 59,
    "start_time": "2022-09-28T09:42:01.216Z"
   },
   {
    "duration": 6,
    "start_time": "2022-09-28T09:42:01.277Z"
   },
   {
    "duration": 40,
    "start_time": "2022-09-28T09:42:01.285Z"
   },
   {
    "duration": 58,
    "start_time": "2022-09-28T09:42:01.328Z"
   },
   {
    "duration": 162,
    "start_time": "2022-09-28T09:42:01.388Z"
   },
   {
    "duration": 212,
    "start_time": "2022-09-28T09:42:01.554Z"
   },
   {
    "duration": 127646,
    "start_time": "2022-09-28T09:42:01.769Z"
   },
   {
    "duration": 714,
    "start_time": "2022-09-28T09:44:09.417Z"
   },
   {
    "duration": 5,
    "start_time": "2022-09-28T09:44:10.133Z"
   },
   {
    "duration": 2144,
    "start_time": "2022-09-28T09:44:10.140Z"
   },
   {
    "duration": 389775,
    "start_time": "2022-09-28T09:44:12.286Z"
   },
   {
    "duration": 4,
    "start_time": "2022-09-28T09:50:42.064Z"
   },
   {
    "duration": 24,
    "start_time": "2022-09-28T09:50:42.070Z"
   },
   {
    "duration": 2361,
    "start_time": "2022-09-28T09:51:01.994Z"
   },
   {
    "duration": 386,
    "start_time": "2022-09-28T09:51:12.503Z"
   },
   {
    "duration": 97,
    "start_time": "2022-09-28T09:51:22.278Z"
   },
   {
    "duration": 2394,
    "start_time": "2022-09-28T09:51:29.778Z"
   },
   {
    "duration": 2458,
    "start_time": "2022-09-28T09:53:25.002Z"
   },
   {
    "duration": 4,
    "start_time": "2022-09-28T09:54:48.448Z"
   },
   {
    "duration": 11,
    "start_time": "2022-09-28T09:54:50.202Z"
   },
   {
    "duration": 2344,
    "start_time": "2022-09-28T09:55:26.152Z"
   },
   {
    "duration": 7,
    "start_time": "2022-09-28T09:55:29.853Z"
   },
   {
    "duration": 4,
    "start_time": "2022-09-28T09:56:39.402Z"
   },
   {
    "duration": 9,
    "start_time": "2022-09-28T09:56:41.303Z"
   },
   {
    "duration": 4,
    "start_time": "2022-09-28T09:57:37.289Z"
   },
   {
    "duration": 10,
    "start_time": "2022-09-28T09:57:38.170Z"
   },
   {
    "duration": 743,
    "start_time": "2022-09-28T10:02:20.007Z"
   },
   {
    "duration": 732,
    "start_time": "2022-09-28T10:05:45.326Z"
   },
   {
    "duration": 732,
    "start_time": "2022-09-28T10:06:15.807Z"
   },
   {
    "duration": 749,
    "start_time": "2022-09-28T10:06:33.709Z"
   },
   {
    "duration": 967,
    "start_time": "2022-09-28T10:08:00.388Z"
   },
   {
    "duration": 703,
    "start_time": "2022-09-28T10:09:08.064Z"
   },
   {
    "duration": 1536,
    "start_time": "2022-09-28T10:55:18.454Z"
   },
   {
    "duration": 1055,
    "start_time": "2022-09-28T10:55:19.993Z"
   },
   {
    "duration": 10,
    "start_time": "2022-09-28T10:55:21.049Z"
   },
   {
    "duration": 1174,
    "start_time": "2022-09-28T10:55:21.062Z"
   },
   {
    "duration": 1190,
    "start_time": "2022-09-28T10:55:22.238Z"
   },
   {
    "duration": 1592,
    "start_time": "2022-09-28T10:55:23.430Z"
   },
   {
    "duration": 20,
    "start_time": "2022-09-28T10:55:25.024Z"
   },
   {
    "duration": 124,
    "start_time": "2022-09-28T10:55:25.045Z"
   },
   {
    "duration": 29,
    "start_time": "2022-09-28T10:55:25.170Z"
   },
   {
    "duration": 73,
    "start_time": "2022-09-28T10:55:25.202Z"
   },
   {
    "duration": 64,
    "start_time": "2022-09-28T10:55:25.277Z"
   },
   {
    "duration": 55,
    "start_time": "2022-09-28T10:55:25.343Z"
   },
   {
    "duration": 180,
    "start_time": "2022-09-28T10:55:25.399Z"
   },
   {
    "duration": 7,
    "start_time": "2022-09-28T10:55:25.582Z"
   },
   {
    "duration": 179,
    "start_time": "2022-09-28T10:55:25.591Z"
   },
   {
    "duration": 402,
    "start_time": "2022-09-28T10:55:25.773Z"
   },
   {
    "duration": 41,
    "start_time": "2022-09-28T10:55:26.177Z"
   },
   {
    "duration": 160,
    "start_time": "2022-09-28T10:55:26.220Z"
   },
   {
    "duration": 3,
    "start_time": "2022-09-28T10:55:26.382Z"
   },
   {
    "duration": 10,
    "start_time": "2022-09-28T10:55:26.386Z"
   },
   {
    "duration": 106,
    "start_time": "2022-09-28T10:55:26.397Z"
   },
   {
    "duration": 158,
    "start_time": "2022-09-28T10:55:26.505Z"
   },
   {
    "duration": 0,
    "start_time": "2022-09-28T10:55:26.670Z"
   },
   {
    "duration": 0,
    "start_time": "2022-09-28T10:55:26.670Z"
   },
   {
    "duration": 0,
    "start_time": "2022-09-28T10:55:26.671Z"
   },
   {
    "duration": 0,
    "start_time": "2022-09-28T10:55:26.672Z"
   },
   {
    "duration": 0,
    "start_time": "2022-09-28T10:55:26.672Z"
   },
   {
    "duration": 0,
    "start_time": "2022-09-28T10:55:26.673Z"
   },
   {
    "duration": 0,
    "start_time": "2022-09-28T10:55:26.674Z"
   },
   {
    "duration": 0,
    "start_time": "2022-09-28T10:55:26.674Z"
   },
   {
    "duration": 0,
    "start_time": "2022-09-28T10:55:26.675Z"
   },
   {
    "duration": 0,
    "start_time": "2022-09-28T10:55:26.676Z"
   },
   {
    "duration": 0,
    "start_time": "2022-09-28T10:55:26.676Z"
   },
   {
    "duration": 0,
    "start_time": "2022-09-28T10:55:26.677Z"
   },
   {
    "duration": 0,
    "start_time": "2022-09-28T10:55:26.678Z"
   },
   {
    "duration": 0,
    "start_time": "2022-09-28T10:55:26.681Z"
   },
   {
    "duration": 0,
    "start_time": "2022-09-28T10:55:26.682Z"
   },
   {
    "duration": 0,
    "start_time": "2022-09-28T10:55:26.683Z"
   },
   {
    "duration": 0,
    "start_time": "2022-09-28T10:55:26.684Z"
   },
   {
    "duration": 0,
    "start_time": "2022-09-28T10:55:26.685Z"
   },
   {
    "duration": 0,
    "start_time": "2022-09-28T10:55:26.686Z"
   },
   {
    "duration": 0,
    "start_time": "2022-09-28T10:55:26.687Z"
   },
   {
    "duration": 0,
    "start_time": "2022-09-28T10:55:26.688Z"
   },
   {
    "duration": 0,
    "start_time": "2022-09-28T10:55:26.689Z"
   },
   {
    "duration": 0,
    "start_time": "2022-09-28T10:55:26.690Z"
   },
   {
    "duration": 0,
    "start_time": "2022-09-28T10:55:26.690Z"
   },
   {
    "duration": 0,
    "start_time": "2022-09-28T10:55:26.691Z"
   },
   {
    "duration": 0,
    "start_time": "2022-09-28T10:55:26.692Z"
   },
   {
    "duration": 0,
    "start_time": "2022-09-28T10:55:26.693Z"
   },
   {
    "duration": 0,
    "start_time": "2022-09-28T10:55:26.694Z"
   },
   {
    "duration": 0,
    "start_time": "2022-09-28T10:55:26.695Z"
   },
   {
    "duration": 15,
    "start_time": "2022-09-28T10:56:12.846Z"
   },
   {
    "duration": 18,
    "start_time": "2022-09-28T10:56:25.225Z"
   },
   {
    "duration": 1152,
    "start_time": "2022-09-28T10:56:33.964Z"
   },
   {
    "duration": 1745,
    "start_time": "2022-09-28T10:56:48.598Z"
   },
   {
    "duration": 575,
    "start_time": "2022-09-28T10:57:09.554Z"
   },
   {
    "duration": 578,
    "start_time": "2022-09-28T10:57:23.511Z"
   },
   {
    "duration": 112,
    "start_time": "2022-09-28T10:59:57.484Z"
   },
   {
    "duration": 167,
    "start_time": "2022-09-28T11:00:02.550Z"
   },
   {
    "duration": 12,
    "start_time": "2022-09-28T11:02:01.025Z"
   },
   {
    "duration": 1590,
    "start_time": "2022-09-28T11:02:18.952Z"
   },
   {
    "duration": 1342,
    "start_time": "2022-09-28T11:02:20.544Z"
   },
   {
    "duration": 4,
    "start_time": "2022-09-28T11:02:21.888Z"
   },
   {
    "duration": 1049,
    "start_time": "2022-09-28T11:02:21.894Z"
   },
   {
    "duration": 1819,
    "start_time": "2022-09-28T11:02:22.946Z"
   },
   {
    "duration": 1818,
    "start_time": "2022-09-28T11:02:24.767Z"
   },
   {
    "duration": 20,
    "start_time": "2022-09-28T11:02:26.587Z"
   },
   {
    "duration": 98,
    "start_time": "2022-09-28T11:02:26.609Z"
   },
   {
    "duration": 45,
    "start_time": "2022-09-28T11:02:26.710Z"
   },
   {
    "duration": 59,
    "start_time": "2022-09-28T11:02:26.757Z"
   },
   {
    "duration": 84,
    "start_time": "2022-09-28T11:02:26.818Z"
   },
   {
    "duration": 62,
    "start_time": "2022-09-28T11:02:26.904Z"
   },
   {
    "duration": 156,
    "start_time": "2022-09-28T11:02:26.969Z"
   },
   {
    "duration": 2,
    "start_time": "2022-09-28T11:02:27.128Z"
   },
   {
    "duration": 175,
    "start_time": "2022-09-28T11:02:27.132Z"
   },
   {
    "duration": 378,
    "start_time": "2022-09-28T11:02:27.309Z"
   },
   {
    "duration": 68,
    "start_time": "2022-09-28T11:02:27.689Z"
   },
   {
    "duration": 138,
    "start_time": "2022-09-28T11:02:27.759Z"
   },
   {
    "duration": 3,
    "start_time": "2022-09-28T11:02:27.898Z"
   },
   {
    "duration": 16,
    "start_time": "2022-09-28T11:02:27.903Z"
   },
   {
    "duration": 112,
    "start_time": "2022-09-28T11:02:27.921Z"
   },
   {
    "duration": 21,
    "start_time": "2022-09-28T11:02:28.035Z"
   },
   {
    "duration": 1246,
    "start_time": "2022-09-28T11:02:28.058Z"
   },
   {
    "duration": 592,
    "start_time": "2022-09-28T11:02:29.306Z"
   },
   {
    "duration": 1612,
    "start_time": "2022-09-28T11:03:23.410Z"
   },
   {
    "duration": 1673,
    "start_time": "2022-09-28T11:03:25.024Z"
   },
   {
    "duration": 6,
    "start_time": "2022-09-28T11:03:26.699Z"
   },
   {
    "duration": 1787,
    "start_time": "2022-09-28T11:03:26.708Z"
   },
   {
    "duration": 1156,
    "start_time": "2022-09-28T11:03:28.498Z"
   },
   {
    "duration": 1445,
    "start_time": "2022-09-28T11:03:29.657Z"
   },
   {
    "duration": 17,
    "start_time": "2022-09-28T11:03:31.104Z"
   },
   {
    "duration": 143,
    "start_time": "2022-09-28T11:03:31.124Z"
   },
   {
    "duration": 35,
    "start_time": "2022-09-28T11:03:31.269Z"
   },
   {
    "duration": 65,
    "start_time": "2022-09-28T11:03:31.307Z"
   },
   {
    "duration": 85,
    "start_time": "2022-09-28T11:03:31.374Z"
   },
   {
    "duration": 63,
    "start_time": "2022-09-28T11:03:31.461Z"
   },
   {
    "duration": 190,
    "start_time": "2022-09-28T11:03:31.526Z"
   },
   {
    "duration": 2,
    "start_time": "2022-09-28T11:03:31.718Z"
   },
   {
    "duration": 212,
    "start_time": "2022-09-28T11:03:31.722Z"
   },
   {
    "duration": 378,
    "start_time": "2022-09-28T11:03:31.936Z"
   },
   {
    "duration": 78,
    "start_time": "2022-09-28T11:03:32.316Z"
   },
   {
    "duration": 143,
    "start_time": "2022-09-28T11:03:32.396Z"
   },
   {
    "duration": 14,
    "start_time": "2022-09-28T11:03:32.541Z"
   },
   {
    "duration": 26,
    "start_time": "2022-09-28T11:03:32.558Z"
   },
   {
    "duration": 144,
    "start_time": "2022-09-28T11:03:32.586Z"
   },
   {
    "duration": 33,
    "start_time": "2022-09-28T11:03:32.733Z"
   },
   {
    "duration": 1262,
    "start_time": "2022-09-28T11:03:32.768Z"
   },
   {
    "duration": 668,
    "start_time": "2022-09-28T11:03:34.032Z"
   },
   {
    "duration": 759,
    "start_time": "2022-09-28T11:03:34.702Z"
   },
   {
    "duration": 178,
    "start_time": "2022-09-28T11:03:35.463Z"
   },
   {
    "duration": 263,
    "start_time": "2022-09-28T11:03:35.644Z"
   },
   {
    "duration": 93,
    "start_time": "2022-09-28T11:03:35.912Z"
   },
   {
    "duration": 60,
    "start_time": "2022-09-28T11:03:36.007Z"
   },
   {
    "duration": 202,
    "start_time": "2022-09-28T11:03:36.069Z"
   },
   {
    "duration": 398,
    "start_time": "2022-09-28T11:03:36.273Z"
   },
   {
    "duration": 181,
    "start_time": "2022-09-28T11:03:36.674Z"
   },
   {
    "duration": 2422,
    "start_time": "2022-09-28T11:03:36.857Z"
   },
   {
    "duration": 758,
    "start_time": "2022-09-28T11:03:39.360Z"
   },
   {
    "duration": 60,
    "start_time": "2022-09-28T11:03:40.120Z"
   },
   {
    "duration": 6,
    "start_time": "2022-09-28T11:03:40.182Z"
   },
   {
    "duration": 16,
    "start_time": "2022-09-28T11:03:40.189Z"
   },
   {
    "duration": 11,
    "start_time": "2022-09-28T11:03:40.207Z"
   },
   {
    "duration": 124,
    "start_time": "2022-09-28T11:03:40.221Z"
   },
   {
    "duration": 186,
    "start_time": "2022-09-28T11:03:40.347Z"
   },
   {
    "duration": 51247,
    "start_time": "2022-09-28T11:03:40.534Z"
   },
   {
    "duration": 68,
    "start_time": "2022-09-28T11:04:31.783Z"
   },
   {
    "duration": 11,
    "start_time": "2022-09-28T11:04:31.853Z"
   },
   {
    "duration": 0,
    "start_time": "2022-09-28T11:04:31.866Z"
   },
   {
    "duration": 0,
    "start_time": "2022-09-28T11:04:31.868Z"
   },
   {
    "duration": 0,
    "start_time": "2022-09-28T11:04:31.870Z"
   },
   {
    "duration": 0,
    "start_time": "2022-09-28T11:04:31.871Z"
   },
   {
    "duration": 0,
    "start_time": "2022-09-28T11:04:31.872Z"
   },
   {
    "duration": 1570,
    "start_time": "2022-09-28T11:04:42.424Z"
   },
   {
    "duration": 1287,
    "start_time": "2022-09-28T11:04:43.996Z"
   },
   {
    "duration": 4,
    "start_time": "2022-09-28T11:04:45.285Z"
   },
   {
    "duration": 2012,
    "start_time": "2022-09-28T11:04:45.291Z"
   },
   {
    "duration": 1085,
    "start_time": "2022-09-28T11:04:47.305Z"
   },
   {
    "duration": 1320,
    "start_time": "2022-09-28T11:04:48.392Z"
   },
   {
    "duration": 17,
    "start_time": "2022-09-28T11:04:49.714Z"
   },
   {
    "duration": 104,
    "start_time": "2022-09-28T11:04:49.732Z"
   },
   {
    "duration": 32,
    "start_time": "2022-09-28T11:04:49.838Z"
   },
   {
    "duration": 51,
    "start_time": "2022-09-28T11:04:49.872Z"
   },
   {
    "duration": 84,
    "start_time": "2022-09-28T11:04:49.925Z"
   },
   {
    "duration": 51,
    "start_time": "2022-09-28T11:04:50.011Z"
   },
   {
    "duration": 155,
    "start_time": "2022-09-28T11:04:50.064Z"
   },
   {
    "duration": 2,
    "start_time": "2022-09-28T11:04:50.222Z"
   },
   {
    "duration": 196,
    "start_time": "2022-09-28T11:04:50.226Z"
   },
   {
    "duration": 404,
    "start_time": "2022-09-28T11:04:50.424Z"
   },
   {
    "duration": 76,
    "start_time": "2022-09-28T11:04:50.831Z"
   },
   {
    "duration": 150,
    "start_time": "2022-09-28T11:04:50.909Z"
   },
   {
    "duration": 3,
    "start_time": "2022-09-28T11:04:51.060Z"
   },
   {
    "duration": 96,
    "start_time": "2022-09-28T11:04:51.065Z"
   },
   {
    "duration": 139,
    "start_time": "2022-09-28T11:04:51.163Z"
   },
   {
    "duration": 18,
    "start_time": "2022-09-28T11:04:51.304Z"
   },
   {
    "duration": 1250,
    "start_time": "2022-09-28T11:04:51.324Z"
   },
   {
    "duration": 644,
    "start_time": "2022-09-28T11:04:52.576Z"
   },
   {
    "duration": 183,
    "start_time": "2022-09-28T11:04:53.222Z"
   },
   {
    "duration": 140,
    "start_time": "2022-09-28T11:04:53.407Z"
   },
   {
    "duration": 106,
    "start_time": "2022-09-28T11:04:53.549Z"
   },
   {
    "duration": 683,
    "start_time": "2022-09-28T11:04:53.659Z"
   },
   {
    "duration": 120,
    "start_time": "2022-09-28T11:04:54.344Z"
   },
   {
    "duration": 223,
    "start_time": "2022-09-28T11:04:54.465Z"
   },
   {
    "duration": 76,
    "start_time": "2022-09-28T11:04:54.691Z"
   },
   {
    "duration": 40,
    "start_time": "2022-09-28T11:04:54.768Z"
   },
   {
    "duration": 200,
    "start_time": "2022-09-28T11:04:54.810Z"
   },
   {
    "duration": 355,
    "start_time": "2022-09-28T11:04:55.012Z"
   },
   {
    "duration": 109,
    "start_time": "2022-09-28T11:04:55.369Z"
   },
   {
    "duration": 2574,
    "start_time": "2022-09-28T11:04:55.479Z"
   },
   {
    "duration": 624,
    "start_time": "2022-09-28T11:04:58.055Z"
   },
   {
    "duration": 48,
    "start_time": "2022-09-28T11:04:58.681Z"
   },
   {
    "duration": 23,
    "start_time": "2022-09-28T11:04:58.731Z"
   },
   {
    "duration": 3,
    "start_time": "2022-09-28T11:04:58.756Z"
   },
   {
    "duration": 16,
    "start_time": "2022-09-28T11:04:58.760Z"
   },
   {
    "duration": 111,
    "start_time": "2022-09-28T11:04:58.778Z"
   },
   {
    "duration": 186,
    "start_time": "2022-09-28T11:04:58.891Z"
   },
   {
    "duration": 9312,
    "start_time": "2022-09-28T11:04:59.078Z"
   },
   {
    "duration": 72,
    "start_time": "2022-09-28T11:05:08.392Z"
   },
   {
    "duration": 12,
    "start_time": "2022-09-28T11:05:08.466Z"
   },
   {
    "duration": 0,
    "start_time": "2022-09-28T11:05:08.479Z"
   },
   {
    "duration": 0,
    "start_time": "2022-09-28T11:05:08.481Z"
   },
   {
    "duration": 0,
    "start_time": "2022-09-28T11:05:08.482Z"
   },
   {
    "duration": 0,
    "start_time": "2022-09-28T11:05:08.483Z"
   },
   {
    "duration": 1,
    "start_time": "2022-09-28T11:05:08.484Z"
   },
   {
    "duration": 102,
    "start_time": "2022-09-28T11:05:34.375Z"
   },
   {
    "duration": 12,
    "start_time": "2022-09-28T11:05:38.942Z"
   },
   {
    "duration": 1013,
    "start_time": "2022-09-28T11:05:40.951Z"
   },
   {
    "duration": 592,
    "start_time": "2022-09-28T11:05:55.610Z"
   },
   {
    "duration": 4,
    "start_time": "2022-09-28T11:09:15.043Z"
   },
   {
    "duration": 5,
    "start_time": "2022-09-28T11:09:20.833Z"
   },
   {
    "duration": 3,
    "start_time": "2022-09-28T11:09:28.485Z"
   },
   {
    "duration": 1560,
    "start_time": "2022-09-28T11:12:17.572Z"
   },
   {
    "duration": 1968,
    "start_time": "2022-09-28T11:12:19.134Z"
   },
   {
    "duration": 4,
    "start_time": "2022-09-28T11:12:21.104Z"
   },
   {
    "duration": 1444,
    "start_time": "2022-09-28T11:12:21.153Z"
   },
   {
    "duration": 1114,
    "start_time": "2022-09-28T11:12:22.598Z"
   },
   {
    "duration": 1469,
    "start_time": "2022-09-28T11:12:23.714Z"
   },
   {
    "duration": 18,
    "start_time": "2022-09-28T11:12:25.184Z"
   },
   {
    "duration": 92,
    "start_time": "2022-09-28T11:12:25.203Z"
   },
   {
    "duration": 25,
    "start_time": "2022-09-28T11:12:25.296Z"
   },
   {
    "duration": 80,
    "start_time": "2022-09-28T11:12:25.323Z"
   },
   {
    "duration": 70,
    "start_time": "2022-09-28T11:12:25.405Z"
   },
   {
    "duration": 51,
    "start_time": "2022-09-28T11:12:25.476Z"
   },
   {
    "duration": 166,
    "start_time": "2022-09-28T11:12:25.529Z"
   },
   {
    "duration": 2,
    "start_time": "2022-09-28T11:12:25.697Z"
   },
   {
    "duration": 170,
    "start_time": "2022-09-28T11:12:25.700Z"
   },
   {
    "duration": 376,
    "start_time": "2022-09-28T11:12:25.872Z"
   },
   {
    "duration": 60,
    "start_time": "2022-09-28T11:12:26.250Z"
   },
   {
    "duration": 155,
    "start_time": "2022-09-28T11:12:26.312Z"
   },
   {
    "duration": 3,
    "start_time": "2022-09-28T11:12:26.469Z"
   },
   {
    "duration": 14,
    "start_time": "2022-09-28T11:12:26.474Z"
   },
   {
    "duration": 117,
    "start_time": "2022-09-28T11:12:26.489Z"
   },
   {
    "duration": 18,
    "start_time": "2022-09-28T11:12:26.608Z"
   },
   {
    "duration": 1151,
    "start_time": "2022-09-28T11:12:26.627Z"
   },
   {
    "duration": 629,
    "start_time": "2022-09-28T11:12:27.779Z"
   },
   {
    "duration": 83,
    "start_time": "2022-09-28T11:12:28.410Z"
   },
   {
    "duration": 66,
    "start_time": "2022-09-28T11:12:28.495Z"
   },
   {
    "duration": 1091,
    "start_time": "2022-09-28T11:12:28.567Z"
   },
   {
    "duration": 4,
    "start_time": "2022-09-28T11:12:29.670Z"
   },
   {
    "duration": 62,
    "start_time": "2022-09-28T11:13:16.087Z"
   },
   {
    "duration": 2799,
    "start_time": "2022-09-28T11:13:21.082Z"
   },
   {
    "duration": 1939,
    "start_time": "2022-09-28T11:13:23.884Z"
   },
   {
    "duration": 4,
    "start_time": "2022-09-28T11:13:25.825Z"
   },
   {
    "duration": 1053,
    "start_time": "2022-09-28T11:13:25.831Z"
   },
   {
    "duration": 1295,
    "start_time": "2022-09-28T11:13:26.886Z"
   },
   {
    "duration": 1529,
    "start_time": "2022-09-28T11:13:28.183Z"
   },
   {
    "duration": 18,
    "start_time": "2022-09-28T11:13:29.714Z"
   },
   {
    "duration": 97,
    "start_time": "2022-09-28T11:13:29.734Z"
   },
   {
    "duration": 38,
    "start_time": "2022-09-28T11:13:29.833Z"
   },
   {
    "duration": 51,
    "start_time": "2022-09-28T11:13:29.874Z"
   },
   {
    "duration": 72,
    "start_time": "2022-09-28T11:13:29.927Z"
   },
   {
    "duration": 59,
    "start_time": "2022-09-28T11:13:30.001Z"
   },
   {
    "duration": 153,
    "start_time": "2022-09-28T11:13:30.062Z"
   },
   {
    "duration": 3,
    "start_time": "2022-09-28T11:13:30.217Z"
   },
   {
    "duration": 185,
    "start_time": "2022-09-28T11:13:30.222Z"
   },
   {
    "duration": 399,
    "start_time": "2022-09-28T11:13:30.409Z"
   },
   {
    "duration": 76,
    "start_time": "2022-09-28T11:13:30.810Z"
   },
   {
    "duration": 135,
    "start_time": "2022-09-28T11:13:30.889Z"
   },
   {
    "duration": 3,
    "start_time": "2022-09-28T11:13:31.026Z"
   },
   {
    "duration": 41,
    "start_time": "2022-09-28T11:13:31.030Z"
   },
   {
    "duration": 150,
    "start_time": "2022-09-28T11:13:31.072Z"
   },
   {
    "duration": 18,
    "start_time": "2022-09-28T11:13:31.224Z"
   },
   {
    "duration": 1370,
    "start_time": "2022-09-28T11:13:31.259Z"
   },
   {
    "duration": 663,
    "start_time": "2022-09-28T11:13:32.631Z"
   },
   {
    "duration": 103,
    "start_time": "2022-09-28T11:13:33.296Z"
   },
   {
    "duration": 154,
    "start_time": "2022-09-28T11:13:33.400Z"
   },
   {
    "duration": 941,
    "start_time": "2022-09-28T11:13:33.557Z"
   },
   {
    "duration": 62,
    "start_time": "2022-09-28T11:13:34.501Z"
   },
   {
    "duration": 826,
    "start_time": "2022-09-28T11:13:34.569Z"
   },
   {
    "duration": 127,
    "start_time": "2022-09-28T11:13:35.397Z"
   },
   {
    "duration": 251,
    "start_time": "2022-09-28T11:13:35.526Z"
   },
   {
    "duration": 58,
    "start_time": "2022-09-28T11:13:35.778Z"
   },
   {
    "duration": 54,
    "start_time": "2022-09-28T11:13:35.838Z"
   },
   {
    "duration": 197,
    "start_time": "2022-09-28T11:13:35.894Z"
   },
   {
    "duration": 464,
    "start_time": "2022-09-28T11:13:36.093Z"
   },
   {
    "duration": 97,
    "start_time": "2022-09-28T11:13:36.561Z"
   },
   {
    "duration": 2510,
    "start_time": "2022-09-28T11:13:36.664Z"
   },
   {
    "duration": 722,
    "start_time": "2022-09-28T11:13:39.255Z"
   },
   {
    "duration": 49,
    "start_time": "2022-09-28T11:13:39.978Z"
   },
   {
    "duration": 6,
    "start_time": "2022-09-28T11:13:40.029Z"
   },
   {
    "duration": 6,
    "start_time": "2022-09-28T11:13:40.056Z"
   },
   {
    "duration": 14,
    "start_time": "2022-09-28T11:13:40.064Z"
   },
   {
    "duration": 117,
    "start_time": "2022-09-28T11:13:40.080Z"
   },
   {
    "duration": 176,
    "start_time": "2022-09-28T11:13:40.199Z"
   },
   {
    "duration": 1701,
    "start_time": "2022-09-28T11:15:24.342Z"
   },
   {
    "duration": 1026,
    "start_time": "2022-09-28T11:15:26.045Z"
   },
   {
    "duration": 5,
    "start_time": "2022-09-28T11:15:27.073Z"
   },
   {
    "duration": 1059,
    "start_time": "2022-09-28T11:15:27.080Z"
   },
   {
    "duration": 1717,
    "start_time": "2022-09-28T11:15:28.141Z"
   },
   {
    "duration": 2241,
    "start_time": "2022-09-28T11:15:29.860Z"
   },
   {
    "duration": 18,
    "start_time": "2022-09-28T11:15:32.103Z"
   },
   {
    "duration": 101,
    "start_time": "2022-09-28T11:15:32.123Z"
   },
   {
    "duration": 33,
    "start_time": "2022-09-28T11:15:32.226Z"
   },
   {
    "duration": 62,
    "start_time": "2022-09-28T11:15:32.262Z"
   },
   {
    "duration": 84,
    "start_time": "2022-09-28T11:15:32.325Z"
   },
   {
    "duration": 67,
    "start_time": "2022-09-28T11:15:32.411Z"
   },
   {
    "duration": 137,
    "start_time": "2022-09-28T11:15:32.480Z"
   },
   {
    "duration": 2,
    "start_time": "2022-09-28T11:15:32.619Z"
   },
   {
    "duration": 188,
    "start_time": "2022-09-28T11:15:32.623Z"
   },
   {
    "duration": 384,
    "start_time": "2022-09-28T11:15:32.813Z"
   },
   {
    "duration": 62,
    "start_time": "2022-09-28T11:15:33.199Z"
   },
   {
    "duration": 135,
    "start_time": "2022-09-28T11:15:33.263Z"
   },
   {
    "duration": 3,
    "start_time": "2022-09-28T11:15:33.400Z"
   },
   {
    "duration": 8,
    "start_time": "2022-09-28T11:15:33.405Z"
   },
   {
    "duration": 110,
    "start_time": "2022-09-28T11:15:33.414Z"
   },
   {
    "duration": 38,
    "start_time": "2022-09-28T11:15:33.526Z"
   },
   {
    "duration": 995,
    "start_time": "2022-09-28T11:15:33.565Z"
   },
   {
    "duration": 0,
    "start_time": "2022-09-28T11:15:34.563Z"
   },
   {
    "duration": 0,
    "start_time": "2022-09-28T11:15:34.564Z"
   },
   {
    "duration": 0,
    "start_time": "2022-09-28T11:15:34.566Z"
   },
   {
    "duration": 0,
    "start_time": "2022-09-28T11:15:34.567Z"
   },
   {
    "duration": 0,
    "start_time": "2022-09-28T11:15:34.568Z"
   },
   {
    "duration": 0,
    "start_time": "2022-09-28T11:15:34.569Z"
   },
   {
    "duration": 0,
    "start_time": "2022-09-28T11:15:34.570Z"
   },
   {
    "duration": 0,
    "start_time": "2022-09-28T11:15:34.570Z"
   },
   {
    "duration": 0,
    "start_time": "2022-09-28T11:15:34.573Z"
   },
   {
    "duration": 0,
    "start_time": "2022-09-28T11:15:34.574Z"
   },
   {
    "duration": 0,
    "start_time": "2022-09-28T11:15:34.575Z"
   },
   {
    "duration": 0,
    "start_time": "2022-09-28T11:15:34.576Z"
   },
   {
    "duration": 0,
    "start_time": "2022-09-28T11:15:34.577Z"
   },
   {
    "duration": 0,
    "start_time": "2022-09-28T11:15:34.578Z"
   },
   {
    "duration": 0,
    "start_time": "2022-09-28T11:15:34.579Z"
   },
   {
    "duration": 0,
    "start_time": "2022-09-28T11:15:34.580Z"
   },
   {
    "duration": 0,
    "start_time": "2022-09-28T11:15:34.581Z"
   },
   {
    "duration": 0,
    "start_time": "2022-09-28T11:15:34.582Z"
   },
   {
    "duration": 0,
    "start_time": "2022-09-28T11:15:34.583Z"
   },
   {
    "duration": 0,
    "start_time": "2022-09-28T11:15:34.584Z"
   },
   {
    "duration": 0,
    "start_time": "2022-09-28T11:15:34.585Z"
   },
   {
    "duration": 0,
    "start_time": "2022-09-28T11:15:34.586Z"
   },
   {
    "duration": 0,
    "start_time": "2022-09-28T11:15:34.587Z"
   },
   {
    "duration": 0,
    "start_time": "2022-09-28T11:15:34.588Z"
   },
   {
    "duration": 0,
    "start_time": "2022-09-28T11:15:34.589Z"
   },
   {
    "duration": 0,
    "start_time": "2022-09-28T11:15:34.590Z"
   },
   {
    "duration": 0,
    "start_time": "2022-09-28T11:15:34.591Z"
   },
   {
    "duration": 0,
    "start_time": "2022-09-28T11:15:34.592Z"
   },
   {
    "duration": 0,
    "start_time": "2022-09-28T11:15:34.593Z"
   },
   {
    "duration": 0,
    "start_time": "2022-09-28T11:15:34.594Z"
   },
   {
    "duration": 1606,
    "start_time": "2022-09-28T11:18:26.536Z"
   },
   {
    "duration": 1528,
    "start_time": "2022-09-28T11:18:36.947Z"
   },
   {
    "duration": 912,
    "start_time": "2022-09-28T11:18:38.477Z"
   },
   {
    "duration": 4,
    "start_time": "2022-09-28T11:18:39.391Z"
   },
   {
    "duration": 1015,
    "start_time": "2022-09-28T11:18:39.397Z"
   },
   {
    "duration": 1184,
    "start_time": "2022-09-28T11:18:40.414Z"
   },
   {
    "duration": 1475,
    "start_time": "2022-09-28T11:18:41.600Z"
   },
   {
    "duration": 17,
    "start_time": "2022-09-28T11:18:43.077Z"
   },
   {
    "duration": 93,
    "start_time": "2022-09-28T11:18:43.096Z"
   },
   {
    "duration": 24,
    "start_time": "2022-09-28T11:18:43.191Z"
   },
   {
    "duration": 72,
    "start_time": "2022-09-28T11:18:43.219Z"
   },
   {
    "duration": 73,
    "start_time": "2022-09-28T11:18:43.293Z"
   },
   {
    "duration": 45,
    "start_time": "2022-09-28T11:18:43.369Z"
   },
   {
    "duration": 153,
    "start_time": "2022-09-28T11:18:43.416Z"
   },
   {
    "duration": 2,
    "start_time": "2022-09-28T11:18:43.572Z"
   },
   {
    "duration": 169,
    "start_time": "2022-09-28T11:18:43.576Z"
   },
   {
    "duration": 385,
    "start_time": "2022-09-28T11:18:43.747Z"
   },
   {
    "duration": 69,
    "start_time": "2022-09-28T11:18:44.134Z"
   },
   {
    "duration": 140,
    "start_time": "2022-09-28T11:18:44.206Z"
   },
   {
    "duration": 11,
    "start_time": "2022-09-28T11:18:44.356Z"
   },
   {
    "duration": 10,
    "start_time": "2022-09-28T11:18:44.369Z"
   },
   {
    "duration": 19,
    "start_time": "2022-09-28T11:18:44.381Z"
   },
   {
    "duration": 1588,
    "start_time": "2022-09-28T11:18:44.402Z"
   },
   {
    "duration": 187,
    "start_time": "2022-09-28T11:18:45.992Z"
   },
   {
    "duration": 17,
    "start_time": "2022-09-28T11:18:46.181Z"
   },
   {
    "duration": 1343,
    "start_time": "2022-09-28T11:18:46.253Z"
   },
   {
    "duration": 187,
    "start_time": "2022-09-28T11:18:47.598Z"
   },
   {
    "duration": 170,
    "start_time": "2022-09-28T11:18:47.787Z"
   },
   {
    "duration": 991,
    "start_time": "2022-09-28T11:18:47.966Z"
   },
   {
    "duration": 3,
    "start_time": "2022-09-28T11:18:48.961Z"
   },
   {
    "duration": 216,
    "start_time": "2022-09-28T11:18:48.966Z"
   },
   {
    "duration": 0,
    "start_time": "2022-09-28T11:18:49.183Z"
   },
   {
    "duration": 0,
    "start_time": "2022-09-28T11:18:49.185Z"
   },
   {
    "duration": 0,
    "start_time": "2022-09-28T11:18:49.186Z"
   },
   {
    "duration": 0,
    "start_time": "2022-09-28T11:18:49.188Z"
   },
   {
    "duration": 0,
    "start_time": "2022-09-28T11:18:49.189Z"
   },
   {
    "duration": 0,
    "start_time": "2022-09-28T11:18:49.190Z"
   },
   {
    "duration": 0,
    "start_time": "2022-09-28T11:18:49.192Z"
   },
   {
    "duration": 0,
    "start_time": "2022-09-28T11:18:49.193Z"
   },
   {
    "duration": 0,
    "start_time": "2022-09-28T11:18:49.195Z"
   },
   {
    "duration": 0,
    "start_time": "2022-09-28T11:18:49.196Z"
   },
   {
    "duration": 0,
    "start_time": "2022-09-28T11:18:49.197Z"
   },
   {
    "duration": 0,
    "start_time": "2022-09-28T11:18:49.198Z"
   },
   {
    "duration": 0,
    "start_time": "2022-09-28T11:18:49.199Z"
   },
   {
    "duration": 0,
    "start_time": "2022-09-28T11:18:49.201Z"
   },
   {
    "duration": 0,
    "start_time": "2022-09-28T11:18:49.202Z"
   },
   {
    "duration": 0,
    "start_time": "2022-09-28T11:18:49.203Z"
   },
   {
    "duration": 0,
    "start_time": "2022-09-28T11:18:49.205Z"
   },
   {
    "duration": 0,
    "start_time": "2022-09-28T11:18:49.206Z"
   },
   {
    "duration": 0,
    "start_time": "2022-09-28T11:18:49.208Z"
   },
   {
    "duration": 0,
    "start_time": "2022-09-28T11:18:49.209Z"
   },
   {
    "duration": 0,
    "start_time": "2022-09-28T11:18:49.210Z"
   },
   {
    "duration": 0,
    "start_time": "2022-09-28T11:18:49.211Z"
   },
   {
    "duration": 0,
    "start_time": "2022-09-28T11:18:49.212Z"
   },
   {
    "duration": 0,
    "start_time": "2022-09-28T11:18:49.213Z"
   },
   {
    "duration": 12,
    "start_time": "2022-09-28T11:20:03.636Z"
   },
   {
    "duration": 1554,
    "start_time": "2022-09-28T11:20:12.055Z"
   },
   {
    "duration": 926,
    "start_time": "2022-09-28T11:20:13.612Z"
   },
   {
    "duration": 4,
    "start_time": "2022-09-28T11:20:14.540Z"
   },
   {
    "duration": 2038,
    "start_time": "2022-09-28T11:20:14.546Z"
   },
   {
    "duration": 1297,
    "start_time": "2022-09-28T11:20:16.586Z"
   },
   {
    "duration": 1481,
    "start_time": "2022-09-28T11:20:17.885Z"
   },
   {
    "duration": 20,
    "start_time": "2022-09-28T11:20:19.368Z"
   },
   {
    "duration": 115,
    "start_time": "2022-09-28T11:20:19.389Z"
   },
   {
    "duration": 27,
    "start_time": "2022-09-28T11:20:19.507Z"
   },
   {
    "duration": 72,
    "start_time": "2022-09-28T11:20:19.537Z"
   },
   {
    "duration": 72,
    "start_time": "2022-09-28T11:20:19.611Z"
   },
   {
    "duration": 43,
    "start_time": "2022-09-28T11:20:19.686Z"
   },
   {
    "duration": 160,
    "start_time": "2022-09-28T11:20:19.732Z"
   },
   {
    "duration": 2,
    "start_time": "2022-09-28T11:20:19.894Z"
   },
   {
    "duration": 168,
    "start_time": "2022-09-28T11:20:19.898Z"
   },
   {
    "duration": 368,
    "start_time": "2022-09-28T11:20:20.069Z"
   },
   {
    "duration": 66,
    "start_time": "2022-09-28T11:20:20.439Z"
   },
   {
    "duration": 147,
    "start_time": "2022-09-28T11:20:20.507Z"
   },
   {
    "duration": 3,
    "start_time": "2022-09-28T11:20:20.656Z"
   },
   {
    "duration": 22,
    "start_time": "2022-09-28T11:20:20.661Z"
   },
   {
    "duration": 34,
    "start_time": "2022-09-28T11:20:20.685Z"
   },
   {
    "duration": 103,
    "start_time": "2022-09-28T11:20:20.721Z"
   },
   {
    "duration": 18,
    "start_time": "2022-09-28T11:20:20.826Z"
   },
   {
    "duration": 853,
    "start_time": "2022-09-28T11:20:20.846Z"
   },
   {
    "duration": 625,
    "start_time": "2022-09-28T11:20:21.701Z"
   },
   {
    "duration": 126,
    "start_time": "2022-09-28T11:20:22.328Z"
   },
   {
    "duration": 0,
    "start_time": "2022-09-28T11:20:22.456Z"
   },
   {
    "duration": 0,
    "start_time": "2022-09-28T11:20:22.458Z"
   },
   {
    "duration": 0,
    "start_time": "2022-09-28T11:20:22.459Z"
   },
   {
    "duration": 0,
    "start_time": "2022-09-28T11:20:22.461Z"
   },
   {
    "duration": 0,
    "start_time": "2022-09-28T11:20:22.462Z"
   },
   {
    "duration": 0,
    "start_time": "2022-09-28T11:20:22.463Z"
   },
   {
    "duration": 0,
    "start_time": "2022-09-28T11:20:22.465Z"
   },
   {
    "duration": 0,
    "start_time": "2022-09-28T11:20:22.466Z"
   },
   {
    "duration": 0,
    "start_time": "2022-09-28T11:20:22.468Z"
   },
   {
    "duration": 0,
    "start_time": "2022-09-28T11:20:22.469Z"
   },
   {
    "duration": 0,
    "start_time": "2022-09-28T11:20:22.470Z"
   },
   {
    "duration": 0,
    "start_time": "2022-09-28T11:20:22.471Z"
   },
   {
    "duration": 0,
    "start_time": "2022-09-28T11:20:22.472Z"
   },
   {
    "duration": 0,
    "start_time": "2022-09-28T11:20:22.473Z"
   },
   {
    "duration": 0,
    "start_time": "2022-09-28T11:20:22.476Z"
   },
   {
    "duration": 0,
    "start_time": "2022-09-28T11:20:22.477Z"
   },
   {
    "duration": 0,
    "start_time": "2022-09-28T11:20:22.478Z"
   },
   {
    "duration": 0,
    "start_time": "2022-09-28T11:20:22.479Z"
   },
   {
    "duration": 0,
    "start_time": "2022-09-28T11:20:22.480Z"
   },
   {
    "duration": 0,
    "start_time": "2022-09-28T11:20:22.481Z"
   },
   {
    "duration": 0,
    "start_time": "2022-09-28T11:20:22.482Z"
   },
   {
    "duration": 0,
    "start_time": "2022-09-28T11:20:22.483Z"
   },
   {
    "duration": 0,
    "start_time": "2022-09-28T11:20:22.484Z"
   },
   {
    "duration": 0,
    "start_time": "2022-09-28T11:20:22.486Z"
   },
   {
    "duration": 0,
    "start_time": "2022-09-28T11:20:22.487Z"
   },
   {
    "duration": 0,
    "start_time": "2022-09-28T11:20:22.488Z"
   },
   {
    "duration": 0,
    "start_time": "2022-09-28T11:20:22.489Z"
   },
   {
    "duration": 0,
    "start_time": "2022-09-28T11:20:22.490Z"
   },
   {
    "duration": 0,
    "start_time": "2022-09-28T11:20:22.491Z"
   },
   {
    "duration": 1600,
    "start_time": "2022-09-28T11:21:04.833Z"
   },
   {
    "duration": 923,
    "start_time": "2022-09-28T11:21:06.435Z"
   },
   {
    "duration": 5,
    "start_time": "2022-09-28T11:21:07.360Z"
   },
   {
    "duration": 1007,
    "start_time": "2022-09-28T11:21:07.367Z"
   },
   {
    "duration": 1184,
    "start_time": "2022-09-28T11:21:08.376Z"
   },
   {
    "duration": 1444,
    "start_time": "2022-09-28T11:21:09.562Z"
   },
   {
    "duration": 20,
    "start_time": "2022-09-28T11:21:11.008Z"
   },
   {
    "duration": 96,
    "start_time": "2022-09-28T11:21:11.030Z"
   },
   {
    "duration": 37,
    "start_time": "2022-09-28T11:21:11.128Z"
   },
   {
    "duration": 57,
    "start_time": "2022-09-28T11:21:11.168Z"
   },
   {
    "duration": 82,
    "start_time": "2022-09-28T11:21:11.227Z"
   },
   {
    "duration": 55,
    "start_time": "2022-09-28T11:21:11.311Z"
   },
   {
    "duration": 184,
    "start_time": "2022-09-28T11:21:11.368Z"
   },
   {
    "duration": 3,
    "start_time": "2022-09-28T11:21:11.554Z"
   },
   {
    "duration": 217,
    "start_time": "2022-09-28T11:21:11.559Z"
   },
   {
    "duration": 386,
    "start_time": "2022-09-28T11:21:11.778Z"
   },
   {
    "duration": 56,
    "start_time": "2022-09-28T11:21:12.166Z"
   },
   {
    "duration": 149,
    "start_time": "2022-09-28T11:21:12.225Z"
   },
   {
    "duration": 3,
    "start_time": "2022-09-28T11:21:12.375Z"
   },
   {
    "duration": 6,
    "start_time": "2022-09-28T11:21:12.380Z"
   },
   {
    "duration": 21,
    "start_time": "2022-09-28T11:21:12.387Z"
   },
   {
    "duration": 103,
    "start_time": "2022-09-28T11:21:12.409Z"
   },
   {
    "duration": 17,
    "start_time": "2022-09-28T11:21:12.514Z"
   },
   {
    "duration": 772,
    "start_time": "2022-09-28T11:21:12.533Z"
   },
   {
    "duration": 600,
    "start_time": "2022-09-28T11:21:13.306Z"
   },
   {
    "duration": 157853,
    "start_time": "2022-09-28T11:21:13.907Z"
   },
   {
    "duration": 193,
    "start_time": "2022-09-28T11:23:51.762Z"
   },
   {
    "duration": 97,
    "start_time": "2022-09-28T11:23:51.959Z"
   },
   {
    "duration": 1040,
    "start_time": "2022-09-28T11:23:52.059Z"
   },
   {
    "duration": 54,
    "start_time": "2022-09-28T11:23:53.101Z"
   },
   {
    "duration": 730,
    "start_time": "2022-09-28T11:23:53.157Z"
   },
   {
    "duration": 0,
    "start_time": "2022-09-28T11:23:53.889Z"
   },
   {
    "duration": 0,
    "start_time": "2022-09-28T11:23:53.890Z"
   },
   {
    "duration": 0,
    "start_time": "2022-09-28T11:23:53.891Z"
   },
   {
    "duration": 0,
    "start_time": "2022-09-28T11:23:53.892Z"
   },
   {
    "duration": 0,
    "start_time": "2022-09-28T11:23:53.893Z"
   },
   {
    "duration": 0,
    "start_time": "2022-09-28T11:23:53.894Z"
   },
   {
    "duration": 0,
    "start_time": "2022-09-28T11:23:53.896Z"
   },
   {
    "duration": 0,
    "start_time": "2022-09-28T11:23:53.897Z"
   },
   {
    "duration": 0,
    "start_time": "2022-09-28T11:23:53.898Z"
   },
   {
    "duration": 1,
    "start_time": "2022-09-28T11:23:53.899Z"
   },
   {
    "duration": 0,
    "start_time": "2022-09-28T11:23:53.901Z"
   },
   {
    "duration": 0,
    "start_time": "2022-09-28T11:23:53.902Z"
   },
   {
    "duration": 0,
    "start_time": "2022-09-28T11:23:53.903Z"
   },
   {
    "duration": 0,
    "start_time": "2022-09-28T11:23:53.904Z"
   },
   {
    "duration": 0,
    "start_time": "2022-09-28T11:23:53.905Z"
   },
   {
    "duration": 0,
    "start_time": "2022-09-28T11:23:53.906Z"
   },
   {
    "duration": 0,
    "start_time": "2022-09-28T11:23:53.907Z"
   },
   {
    "duration": 0,
    "start_time": "2022-09-28T11:23:53.909Z"
   },
   {
    "duration": 0,
    "start_time": "2022-09-28T11:23:53.910Z"
   },
   {
    "duration": 0,
    "start_time": "2022-09-28T11:23:53.911Z"
   },
   {
    "duration": 0,
    "start_time": "2022-09-28T11:23:53.912Z"
   },
   {
    "duration": 0,
    "start_time": "2022-09-28T11:23:53.913Z"
   },
   {
    "duration": 0,
    "start_time": "2022-09-28T11:23:53.913Z"
   },
   {
    "duration": 0,
    "start_time": "2022-09-28T11:23:53.954Z"
   },
   {
    "duration": 1566,
    "start_time": "2022-09-28T11:25:55.277Z"
   },
   {
    "duration": 2113,
    "start_time": "2022-09-28T11:25:56.846Z"
   },
   {
    "duration": 6,
    "start_time": "2022-09-28T11:25:58.965Z"
   },
   {
    "duration": 1465,
    "start_time": "2022-09-28T11:25:58.973Z"
   },
   {
    "duration": 1233,
    "start_time": "2022-09-28T11:26:00.440Z"
   },
   {
    "duration": 1519,
    "start_time": "2022-09-28T11:26:01.675Z"
   },
   {
    "duration": 19,
    "start_time": "2022-09-28T11:26:03.196Z"
   },
   {
    "duration": 101,
    "start_time": "2022-09-28T11:26:03.217Z"
   },
   {
    "duration": 41,
    "start_time": "2022-09-28T11:26:03.320Z"
   },
   {
    "duration": 65,
    "start_time": "2022-09-28T11:26:03.362Z"
   },
   {
    "duration": 76,
    "start_time": "2022-09-28T11:26:03.429Z"
   },
   {
    "duration": 60,
    "start_time": "2022-09-28T11:26:03.507Z"
   },
   {
    "duration": 153,
    "start_time": "2022-09-28T11:26:03.570Z"
   },
   {
    "duration": 2,
    "start_time": "2022-09-28T11:26:03.727Z"
   },
   {
    "duration": 172,
    "start_time": "2022-09-28T11:26:03.731Z"
   },
   {
    "duration": 391,
    "start_time": "2022-09-28T11:26:03.905Z"
   },
   {
    "duration": 76,
    "start_time": "2022-09-28T11:26:04.298Z"
   },
   {
    "duration": 142,
    "start_time": "2022-09-28T11:26:04.375Z"
   },
   {
    "duration": 3,
    "start_time": "2022-09-28T11:26:04.519Z"
   },
   {
    "duration": 11,
    "start_time": "2022-09-28T11:26:04.523Z"
   },
   {
    "duration": 30,
    "start_time": "2022-09-28T11:26:04.536Z"
   },
   {
    "duration": 83,
    "start_time": "2022-09-28T11:26:04.568Z"
   },
   {
    "duration": 28,
    "start_time": "2022-09-28T11:26:04.654Z"
   },
   {
    "duration": 842,
    "start_time": "2022-09-28T11:26:04.684Z"
   },
   {
    "duration": 642,
    "start_time": "2022-09-28T11:26:05.528Z"
   },
   {
    "duration": 102,
    "start_time": "2022-09-28T11:26:06.172Z"
   },
   {
    "duration": 95,
    "start_time": "2022-09-28T11:26:06.276Z"
   },
   {
    "duration": 1011,
    "start_time": "2022-09-28T11:26:06.455Z"
   },
   {
    "duration": 3,
    "start_time": "2022-09-28T11:26:07.469Z"
   },
   {
    "duration": 1518,
    "start_time": "2022-09-28T11:26:45.867Z"
   },
   {
    "duration": 2203,
    "start_time": "2022-09-28T11:26:47.388Z"
   },
   {
    "duration": 4,
    "start_time": "2022-09-28T11:26:49.592Z"
   },
   {
    "duration": 986,
    "start_time": "2022-09-28T11:26:49.598Z"
   },
   {
    "duration": 1184,
    "start_time": "2022-09-28T11:26:50.586Z"
   },
   {
    "duration": 1497,
    "start_time": "2022-09-28T11:26:51.773Z"
   },
   {
    "duration": 19,
    "start_time": "2022-09-28T11:26:53.272Z"
   },
   {
    "duration": 104,
    "start_time": "2022-09-28T11:26:53.292Z"
   },
   {
    "duration": 27,
    "start_time": "2022-09-28T11:26:53.398Z"
   },
   {
    "duration": 80,
    "start_time": "2022-09-28T11:26:53.428Z"
   },
   {
    "duration": 66,
    "start_time": "2022-09-28T11:26:53.510Z"
   },
   {
    "duration": 45,
    "start_time": "2022-09-28T11:26:53.578Z"
   },
   {
    "duration": 162,
    "start_time": "2022-09-28T11:26:53.625Z"
   },
   {
    "duration": 2,
    "start_time": "2022-09-28T11:26:53.789Z"
   },
   {
    "duration": 190,
    "start_time": "2022-09-28T11:26:53.793Z"
   },
   {
    "duration": 394,
    "start_time": "2022-09-28T11:26:53.984Z"
   },
   {
    "duration": 51,
    "start_time": "2022-09-28T11:26:54.381Z"
   },
   {
    "duration": 158,
    "start_time": "2022-09-28T11:26:54.434Z"
   },
   {
    "duration": 4,
    "start_time": "2022-09-28T11:26:54.594Z"
   },
   {
    "duration": 14,
    "start_time": "2022-09-28T11:26:54.600Z"
   },
   {
    "duration": 32,
    "start_time": "2022-09-28T11:26:54.616Z"
   },
   {
    "duration": 117,
    "start_time": "2022-09-28T11:26:54.650Z"
   },
   {
    "duration": 17,
    "start_time": "2022-09-28T11:26:54.769Z"
   },
   {
    "duration": 839,
    "start_time": "2022-09-28T11:26:54.788Z"
   },
   {
    "duration": 676,
    "start_time": "2022-09-28T11:26:55.629Z"
   },
   {
    "duration": 93,
    "start_time": "2022-09-28T11:26:56.306Z"
   },
   {
    "duration": 61,
    "start_time": "2022-09-28T11:26:56.401Z"
   },
   {
    "duration": 1128,
    "start_time": "2022-09-28T11:26:56.466Z"
   },
   {
    "duration": 66,
    "start_time": "2022-09-28T11:26:57.596Z"
   },
   {
    "duration": 1583,
    "start_time": "2022-09-28T11:28:18.464Z"
   },
   {
    "duration": 3271,
    "start_time": "2022-09-28T11:28:20.049Z"
   },
   {
    "duration": 0,
    "start_time": "2022-09-28T11:28:23.323Z"
   },
   {
    "duration": 0,
    "start_time": "2022-09-28T11:28:23.324Z"
   },
   {
    "duration": 0,
    "start_time": "2022-09-28T11:28:23.326Z"
   },
   {
    "duration": 0,
    "start_time": "2022-09-28T11:28:23.327Z"
   },
   {
    "duration": 0,
    "start_time": "2022-09-28T11:28:23.329Z"
   },
   {
    "duration": 0,
    "start_time": "2022-09-28T11:28:23.330Z"
   },
   {
    "duration": 0,
    "start_time": "2022-09-28T11:28:23.332Z"
   },
   {
    "duration": 0,
    "start_time": "2022-09-28T11:28:23.333Z"
   },
   {
    "duration": 0,
    "start_time": "2022-09-28T11:28:23.335Z"
   },
   {
    "duration": 0,
    "start_time": "2022-09-28T11:28:23.336Z"
   },
   {
    "duration": 0,
    "start_time": "2022-09-28T11:28:23.338Z"
   },
   {
    "duration": 0,
    "start_time": "2022-09-28T11:28:23.339Z"
   },
   {
    "duration": 0,
    "start_time": "2022-09-28T11:28:23.340Z"
   },
   {
    "duration": 0,
    "start_time": "2022-09-28T11:28:23.341Z"
   },
   {
    "duration": 0,
    "start_time": "2022-09-28T11:28:23.343Z"
   },
   {
    "duration": 0,
    "start_time": "2022-09-28T11:28:23.345Z"
   },
   {
    "duration": 0,
    "start_time": "2022-09-28T11:28:23.346Z"
   },
   {
    "duration": 0,
    "start_time": "2022-09-28T11:28:23.348Z"
   },
   {
    "duration": 0,
    "start_time": "2022-09-28T11:28:23.349Z"
   },
   {
    "duration": 0,
    "start_time": "2022-09-28T11:28:23.350Z"
   },
   {
    "duration": 0,
    "start_time": "2022-09-28T11:28:23.352Z"
   },
   {
    "duration": 0,
    "start_time": "2022-09-28T11:28:23.353Z"
   },
   {
    "duration": 0,
    "start_time": "2022-09-28T11:28:23.354Z"
   },
   {
    "duration": 0,
    "start_time": "2022-09-28T11:28:23.354Z"
   },
   {
    "duration": 0,
    "start_time": "2022-09-28T11:28:23.355Z"
   },
   {
    "duration": 0,
    "start_time": "2022-09-28T11:28:23.356Z"
   },
   {
    "duration": 0,
    "start_time": "2022-09-28T11:28:23.359Z"
   },
   {
    "duration": 0,
    "start_time": "2022-09-28T11:28:23.359Z"
   },
   {
    "duration": 0,
    "start_time": "2022-09-28T11:28:23.361Z"
   },
   {
    "duration": 0,
    "start_time": "2022-09-28T11:28:23.367Z"
   },
   {
    "duration": 0,
    "start_time": "2022-09-28T11:28:23.367Z"
   },
   {
    "duration": 0,
    "start_time": "2022-09-28T11:28:23.368Z"
   },
   {
    "duration": 0,
    "start_time": "2022-09-28T11:28:23.369Z"
   },
   {
    "duration": 0,
    "start_time": "2022-09-28T11:28:23.369Z"
   },
   {
    "duration": 0,
    "start_time": "2022-09-28T11:28:23.370Z"
   },
   {
    "duration": 0,
    "start_time": "2022-09-28T11:28:23.370Z"
   },
   {
    "duration": 0,
    "start_time": "2022-09-28T11:28:23.371Z"
   },
   {
    "duration": 0,
    "start_time": "2022-09-28T11:28:23.373Z"
   },
   {
    "duration": 0,
    "start_time": "2022-09-28T11:28:23.374Z"
   },
   {
    "duration": 0,
    "start_time": "2022-09-28T11:28:23.375Z"
   },
   {
    "duration": 0,
    "start_time": "2022-09-28T11:28:23.376Z"
   },
   {
    "duration": 0,
    "start_time": "2022-09-28T11:28:23.376Z"
   },
   {
    "duration": 0,
    "start_time": "2022-09-28T11:28:23.377Z"
   },
   {
    "duration": 0,
    "start_time": "2022-09-28T11:28:23.378Z"
   },
   {
    "duration": 0,
    "start_time": "2022-09-28T11:28:23.381Z"
   },
   {
    "duration": 0,
    "start_time": "2022-09-28T11:28:23.381Z"
   },
   {
    "duration": 0,
    "start_time": "2022-09-28T11:28:23.387Z"
   },
   {
    "duration": 0,
    "start_time": "2022-09-28T11:28:23.388Z"
   },
   {
    "duration": 0,
    "start_time": "2022-09-28T11:28:23.389Z"
   },
   {
    "duration": 0,
    "start_time": "2022-09-28T11:28:23.390Z"
   },
   {
    "duration": 0,
    "start_time": "2022-09-28T11:28:23.391Z"
   },
   {
    "duration": 1524,
    "start_time": "2022-09-28T11:28:37.419Z"
   },
   {
    "duration": 956,
    "start_time": "2022-09-28T11:28:38.945Z"
   },
   {
    "duration": 4,
    "start_time": "2022-09-28T11:28:39.903Z"
   },
   {
    "duration": 1036,
    "start_time": "2022-09-28T11:28:39.909Z"
   },
   {
    "duration": 1290,
    "start_time": "2022-09-28T11:28:40.947Z"
   },
   {
    "duration": 1545,
    "start_time": "2022-09-28T11:28:42.238Z"
   },
   {
    "duration": 19,
    "start_time": "2022-09-28T11:28:43.785Z"
   },
   {
    "duration": 93,
    "start_time": "2022-09-28T11:28:43.806Z"
   },
   {
    "duration": 26,
    "start_time": "2022-09-28T11:28:43.901Z"
   },
   {
    "duration": 75,
    "start_time": "2022-09-28T11:28:43.930Z"
   },
   {
    "duration": 79,
    "start_time": "2022-09-28T11:28:44.007Z"
   },
   {
    "duration": 43,
    "start_time": "2022-09-28T11:28:44.087Z"
   },
   {
    "duration": 170,
    "start_time": "2022-09-28T11:28:44.133Z"
   },
   {
    "duration": 2,
    "start_time": "2022-09-28T11:28:44.305Z"
   },
   {
    "duration": 186,
    "start_time": "2022-09-28T11:28:44.309Z"
   },
   {
    "duration": 413,
    "start_time": "2022-09-28T11:28:44.497Z"
   },
   {
    "duration": 71,
    "start_time": "2022-09-28T11:28:44.912Z"
   },
   {
    "duration": 137,
    "start_time": "2022-09-28T11:28:44.985Z"
   },
   {
    "duration": 2,
    "start_time": "2022-09-28T11:28:45.124Z"
   },
   {
    "duration": 17,
    "start_time": "2022-09-28T11:28:45.128Z"
   },
   {
    "duration": 43,
    "start_time": "2022-09-28T11:28:45.156Z"
   },
   {
    "duration": 86,
    "start_time": "2022-09-28T11:28:45.201Z"
   },
   {
    "duration": 19,
    "start_time": "2022-09-28T11:28:45.290Z"
   },
   {
    "duration": 781,
    "start_time": "2022-09-28T11:28:45.311Z"
   },
   {
    "duration": 670,
    "start_time": "2022-09-28T11:28:46.094Z"
   },
   {
    "duration": 368494,
    "start_time": "2022-09-28T11:28:46.769Z"
   },
   {
    "duration": 156,
    "start_time": "2022-09-28T11:34:55.265Z"
   },
   {
    "duration": 104,
    "start_time": "2022-09-28T11:34:55.458Z"
   },
   {
    "duration": 1105,
    "start_time": "2022-09-28T11:34:55.565Z"
   },
   {
    "duration": 81,
    "start_time": "2022-09-28T11:34:56.674Z"
   },
   {
    "duration": 900,
    "start_time": "2022-09-28T11:34:56.757Z"
   },
   {
    "duration": 149,
    "start_time": "2022-09-28T11:34:57.664Z"
   },
   {
    "duration": 242,
    "start_time": "2022-09-28T11:34:57.815Z"
   },
   {
    "duration": 58,
    "start_time": "2022-09-28T11:34:58.064Z"
   },
   {
    "duration": 49,
    "start_time": "2022-09-28T11:34:58.124Z"
   },
   {
    "duration": 207,
    "start_time": "2022-09-28T11:34:58.175Z"
   },
   {
    "duration": 492,
    "start_time": "2022-09-28T11:34:58.384Z"
   },
   {
    "duration": 93,
    "start_time": "2022-09-28T11:34:58.882Z"
   },
   {
    "duration": 2606,
    "start_time": "2022-09-28T11:34:58.977Z"
   },
   {
    "duration": 791,
    "start_time": "2022-09-28T11:35:01.657Z"
   },
   {
    "duration": 59,
    "start_time": "2022-09-28T11:35:02.449Z"
   },
   {
    "duration": 6,
    "start_time": "2022-09-28T11:35:02.510Z"
   },
   {
    "duration": 11,
    "start_time": "2022-09-28T11:35:02.517Z"
   },
   {
    "duration": 16,
    "start_time": "2022-09-28T11:35:02.531Z"
   },
   {
    "duration": 149,
    "start_time": "2022-09-28T11:35:02.549Z"
   },
   {
    "duration": 199,
    "start_time": "2022-09-28T11:35:02.699Z"
   },
   {
    "duration": 129922,
    "start_time": "2022-09-28T11:35:02.899Z"
   },
   {
    "duration": 2297,
    "start_time": "2022-09-28T11:37:12.823Z"
   },
   {
    "duration": 6,
    "start_time": "2022-09-28T11:37:15.122Z"
   },
   {
    "duration": 2137,
    "start_time": "2022-09-28T11:37:15.130Z"
   },
   {
    "duration": 423926,
    "start_time": "2022-09-28T11:37:17.271Z"
   },
   {
    "duration": 5,
    "start_time": "2022-09-28T11:44:21.199Z"
   },
   {
    "duration": 61,
    "start_time": "2022-09-28T11:44:21.206Z"
   },
   {
    "duration": 883,
    "start_time": "2022-09-28T11:44:21.269Z"
   },
   {
    "duration": 4,
    "start_time": "2022-09-28T11:55:58.192Z"
   },
   {
    "duration": 11,
    "start_time": "2022-09-28T11:56:00.157Z"
   }
  ],
  "kernelspec": {
   "display_name": "Python 3 (ipykernel)",
   "language": "python",
   "name": "python3"
  },
  "language_info": {
   "codemirror_mode": {
    "name": "ipython",
    "version": 3
   },
   "file_extension": ".py",
   "mimetype": "text/x-python",
   "name": "python",
   "nbconvert_exporter": "python",
   "pygments_lexer": "ipython3",
   "version": "3.9.13"
  },
  "toc": {
   "base_numbering": 1,
   "nav_menu": {},
   "number_sections": true,
   "sideBar": true,
   "skip_h1_title": true,
   "title_cell": "Содержание",
   "title_sidebar": "Contents",
   "toc_cell": true,
   "toc_position": {
    "height": "calc(100% - 180px)",
    "left": "10px",
    "top": "150px",
    "width": "268.3px"
   },
   "toc_section_display": true,
   "toc_window_display": true
  }
 },
 "nbformat": 4,
 "nbformat_minor": 2
}
